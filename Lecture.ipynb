{
  "nbformat": 4,
  "nbformat_minor": 0,
  "metadata": {
    "colab": {
      "name": "DSP Python Workshop 2022.ipynb",
      "provenance": [],
      "collapsed_sections": [
        "1NqsEYMbtQrI",
        "0IxIzDKQQebR",
        "QtXwWm2Ju6mr",
        "v3xpkyxixmHr"
      ],
      "include_colab_link": true
    },
    "kernelspec": {
      "name": "python3",
      "display_name": "Python 3"
    },
    "language_info": {
      "name": "python"
    }
  },
  "cells": [
    {
      "cell_type": "markdown",
      "metadata": {
        "id": "view-in-github",
        "colab_type": "text"
      },
      "source": [
        "<a href=\"https://colab.research.google.com/github/jpacilo/PythonWorkshop/blob/main/Lecture.ipynb\" target=\"_parent\"><img src=\"https://colab.research.google.com/assets/colab-badge.svg\" alt=\"Open In Colab\"/></a>"
      ]
    },
    {
      "cell_type": "markdown",
      "source": [
        "# **Better Practices** in Python For Data Science\n",
        "⚠️ Please make a copy of this colab notebook first by clicking **File -> Save a Copy in Drive** on the menu bar <br>"
      ],
      "metadata": {
        "id": "1xYXxy9ytJnh"
      }
    },
    {
      "cell_type": "markdown",
      "source": [
        "## README\n",
        "\n",
        "**Lecturer**\n",
        "- Joshua Paolo Acilo\n",
        "- Model Development Expert\n",
        "- EDO Advanced Analytics\n",
        "\n",
        "**Schedule**\n",
        "- 1:00 - 3:00 PM Lecture\n",
        "- 3:00 - 4:00 PM Homework\n",
        "\n",
        "**Reminders**\n",
        "- Feel free to ask questions anytime! You can leave a message in the chatbox or unmute yourself and speak. <br>\n",
        "- This is not an Introduction to Python. I expect everyone to at least know the basics in programming. <br>\n",
        "- You learn more by doing. Try to adopt this new concepts in your workflow next time!\n",
        "\n"
      ],
      "metadata": {
        "id": "1NqsEYMbtQrI"
      }
    },
    {
      "cell_type": "markdown",
      "source": [
        "## Setup Python"
      ],
      "metadata": {
        "id": "0IxIzDKQQebR"
      }
    },
    {
      "cell_type": "code",
      "source": [
        "# check the current python version you have\n",
        "import sys\n",
        "sys.version"
      ],
      "metadata": {
        "colab": {
          "base_uri": "https://localhost:8080/",
          "height": 36
        },
        "id": "7bSw9y6halM7",
        "outputId": "c87601a6-20ad-4ef0-bcde-e2fa81533fc2"
      },
      "execution_count": 1,
      "outputs": [
        {
          "output_type": "execute_result",
          "data": {
            "application/vnd.google.colaboratory.intrinsic+json": {
              "type": "string"
            },
            "text/plain": [
              "'3.7.12 (default, Jan 15 2022, 18:48:18) \\n[GCC 7.5.0]'"
            ]
          },
          "metadata": {},
          "execution_count": 1
        }
      ]
    },
    {
      "cell_type": "code",
      "source": [
        "# just to mute the warnings for deprecated methods\n",
        "import warnings\n",
        "warnings.filterwarnings(\"ignore\")"
      ],
      "metadata": {
        "id": "MQFXkYmbdpyV"
      },
      "execution_count": 2,
      "outputs": []
    },
    {
      "cell_type": "code",
      "source": [
        "# pendulum is a library to manipulate dates\n",
        "!pip3 install pendulum"
      ],
      "metadata": {
        "colab": {
          "base_uri": "https://localhost:8080/"
        },
        "id": "9MttWE5QQhui",
        "outputId": "52b07035-c469-427b-abaf-fcef38ad39b0"
      },
      "execution_count": 3,
      "outputs": [
        {
          "output_type": "stream",
          "name": "stdout",
          "text": [
            "Collecting pendulum\n",
            "  Downloading pendulum-2.1.2-cp37-cp37m-manylinux1_x86_64.whl (155 kB)\n",
            "\u001b[K     |████████████████████████████████| 155 kB 4.4 MB/s \n",
            "\u001b[?25hCollecting pytzdata>=2020.1\n",
            "  Downloading pytzdata-2020.1-py2.py3-none-any.whl (489 kB)\n",
            "\u001b[K     |████████████████████████████████| 489 kB 43.5 MB/s \n",
            "\u001b[?25hRequirement already satisfied: python-dateutil<3.0,>=2.6 in /usr/local/lib/python3.7/dist-packages (from pendulum) (2.8.2)\n",
            "Requirement already satisfied: six>=1.5 in /usr/local/lib/python3.7/dist-packages (from python-dateutil<3.0,>=2.6->pendulum) (1.15.0)\n",
            "Installing collected packages: pytzdata, pendulum\n",
            "Successfully installed pendulum-2.1.2 pytzdata-2020.1\n"
          ]
        }
      ]
    },
    {
      "cell_type": "code",
      "source": [
        "# geopandas is a library to manipulate spatial data\n",
        "!pip3 install geopandas"
      ],
      "metadata": {
        "colab": {
          "base_uri": "https://localhost:8080/"
        },
        "id": "YdGh4gw7YNhL",
        "outputId": "0a7a3f79-c3c8-406f-8a67-9da9417564b7"
      },
      "execution_count": 4,
      "outputs": [
        {
          "output_type": "stream",
          "name": "stdout",
          "text": [
            "Collecting geopandas\n",
            "  Downloading geopandas-0.10.2-py2.py3-none-any.whl (1.0 MB)\n",
            "\u001b[K     |████████████████████████████████| 1.0 MB 4.2 MB/s \n",
            "\u001b[?25hRequirement already satisfied: shapely>=1.6 in /usr/local/lib/python3.7/dist-packages (from geopandas) (1.8.1.post1)\n",
            "Requirement already satisfied: pandas>=0.25.0 in /usr/local/lib/python3.7/dist-packages (from geopandas) (1.3.5)\n",
            "Collecting pyproj>=2.2.0\n",
            "  Downloading pyproj-3.2.1-cp37-cp37m-manylinux2010_x86_64.whl (6.3 MB)\n",
            "\u001b[K     |████████████████████████████████| 6.3 MB 43.7 MB/s \n",
            "\u001b[?25hCollecting fiona>=1.8\n",
            "  Downloading Fiona-1.8.21-cp37-cp37m-manylinux2014_x86_64.whl (16.7 MB)\n",
            "\u001b[K     |████████████████████████████████| 16.7 MB 354 kB/s \n",
            "\u001b[?25hRequirement already satisfied: attrs>=17 in /usr/local/lib/python3.7/dist-packages (from fiona>=1.8->geopandas) (21.4.0)\n",
            "Collecting munch\n",
            "  Downloading munch-2.5.0-py2.py3-none-any.whl (10 kB)\n",
            "Requirement already satisfied: certifi in /usr/local/lib/python3.7/dist-packages (from fiona>=1.8->geopandas) (2021.10.8)\n",
            "Collecting click-plugins>=1.0\n",
            "  Downloading click_plugins-1.1.1-py2.py3-none-any.whl (7.5 kB)\n",
            "Requirement already satisfied: six>=1.7 in /usr/local/lib/python3.7/dist-packages (from fiona>=1.8->geopandas) (1.15.0)\n",
            "Collecting cligj>=0.5\n",
            "  Downloading cligj-0.7.2-py3-none-any.whl (7.1 kB)\n",
            "Requirement already satisfied: setuptools in /usr/local/lib/python3.7/dist-packages (from fiona>=1.8->geopandas) (57.4.0)\n",
            "Requirement already satisfied: click>=4.0 in /usr/local/lib/python3.7/dist-packages (from fiona>=1.8->geopandas) (7.1.2)\n",
            "Requirement already satisfied: pytz>=2017.3 in /usr/local/lib/python3.7/dist-packages (from pandas>=0.25.0->geopandas) (2018.9)\n",
            "Requirement already satisfied: python-dateutil>=2.7.3 in /usr/local/lib/python3.7/dist-packages (from pandas>=0.25.0->geopandas) (2.8.2)\n",
            "Requirement already satisfied: numpy>=1.17.3 in /usr/local/lib/python3.7/dist-packages (from pandas>=0.25.0->geopandas) (1.21.5)\n",
            "Installing collected packages: munch, cligj, click-plugins, pyproj, fiona, geopandas\n",
            "Successfully installed click-plugins-1.1.1 cligj-0.7.2 fiona-1.8.21 geopandas-0.10.2 munch-2.5.0 pyproj-3.2.1\n"
          ]
        }
      ]
    },
    {
      "cell_type": "code",
      "source": [
        "# leafmap is a library to visualize spatial data\n",
        "!pip3 install leafmap"
      ],
      "metadata": {
        "id": "a9A5RT1Qihlm"
      },
      "execution_count": null,
      "outputs": []
    },
    {
      "cell_type": "code",
      "source": [
        "# gives nicer output for your tests\n",
        "!pip3 -q install pytest pytest-sugar"
      ],
      "metadata": {
        "colab": {
          "base_uri": "https://localhost:8080/"
        },
        "id": "4K-MqRYxrfai",
        "outputId": "fc21086b-95e0-4696-e6d8-44d12680fcad"
      },
      "execution_count": 3,
      "outputs": [
        {
          "output_type": "stream",
          "name": "stdout",
          "text": [
            "  Building wheel for pytest-sugar (setup.py) ... \u001b[?25l\u001b[?25hdone\n"
          ]
        }
      ]
    },
    {
      "cell_type": "markdown",
      "source": [
        "## Write Clean Code \n",
        "\n",
        "Any fool can write code that a computer can understand. **Good programmers write code that humans can understand.** 🤔"
      ],
      "metadata": {
        "id": "QtXwWm2Ju6mr"
      }
    },
    {
      "cell_type": "markdown",
      "source": [
        "### Variables"
      ],
      "metadata": {
        "id": "GlY6YMYY-j9z"
      }
    },
    {
      "cell_type": "markdown",
      "source": [
        "**DON'T(s)**\n",
        "- Thou shall not start with a number. <br>\n",
        "```4ever = True```\n",
        "- Thou shall not use special characters. <br>\n",
        "```amountIn$ = 100```\n",
        "- Thou shall not use reserved keywords. <br>\n",
        "```id = 10012216```\n",
        "\n",
        "**DO(s)**\n",
        "- PEP8 suggests to use snake_case. <br>\n",
        "```lower_case_with_underscores = True```"
      ],
      "metadata": {
        "id": "zJnr4XvZkAfn"
      }
    },
    {
      "cell_type": "markdown",
      "source": [
        "Use **meaningful and pronounceable variable names.** Let the variable speak for itself. 🤯"
      ],
      "metadata": {
        "id": "WyIo8VoTLYvX"
      }
    },
    {
      "cell_type": "code",
      "source": [
        "import pendulum\n",
        "\n",
        "def start_pipeline(date):\n",
        "    # do stuff\n",
        "    pass\n",
        "\n",
        "# this is bad, not only it is unpronounceable, it is also vague and non-descriptive\n",
        "ymddt = pendulum.now().strftime(\"%Y-%m-%d\")\n",
        "start_pipeline(ymddt)\n",
        "\n",
        "# this is good, it gives me clue that the current date controls the timing of the pipeline\n",
        "current_date = pendulum.now().strftime(\"%Y-%m-%d\")\n",
        "start_pipeline(current_date)"
      ],
      "metadata": {
        "id": "UgmX9QhIDQzR"
      },
      "execution_count": null,
      "outputs": []
    },
    {
      "cell_type": "markdown",
      "source": [
        "Of course, there will be some exceptions, especially in **domain-specific jargons.** 🧐"
      ],
      "metadata": {
        "id": "kKBjcYAPDXXh"
      }
    },
    {
      "cell_type": "code",
      "source": [
        "import numpy as np\n",
        "\n",
        "# you'll see this very often in the lake\n",
        "pxn_dt = pendulum.parse(current_date).subtract(days=1)\n",
        "\n",
        "# this is boilerplate ML, so it's okay too\n",
        "X, y = np.arange(10).reshape((5, 2)), range(5)"
      ],
      "metadata": {
        "id": "TsuBSjgLDXQ6"
      },
      "execution_count": null,
      "outputs": []
    },
    {
      "cell_type": "markdown",
      "source": [
        "It is a fact that *we will read more code than we will ever write.* It's important that **the code is readable and searchable.** Yes, we can proceed with the quick and dirty way and get the same result as compared to the slow and cleaner way, but in the long run this will hurt your readers. 😓"
      ],
      "metadata": {
        "id": "dkzK3fLKV-DH"
      }
    },
    {
      "cell_type": "code",
      "source": [
        "def aggregate_features(window_duration):\n",
        "    # do stuff\n",
        "    pass\n",
        "\n",
        "# i'm betting you'll forget this the next time you look at your code\n",
        "aggregate_features(1440)\n",
        "\n",
        "# we can assign a descriptive constant instead denoted by capital letters \n",
        "MINUTES_IN_A_DAY = 60 * 24\n",
        "aggregate_features(MINUTES_IN_A_DAY)"
      ],
      "metadata": {
        "id": "zfb7U7sHV9oQ"
      },
      "execution_count": null,
      "outputs": []
    },
    {
      "cell_type": "markdown",
      "source": [
        "Don't force the reader of your code to translate what the variable means. **Explicit is better than implicit.** 🤔"
      ],
      "metadata": {
        "id": "kEQdf4fYbt43"
      }
    },
    {
      "cell_type": "code",
      "source": [
        "# this is bad, implicit\n",
        "seq = (\"Taguig\", \"Makati\", \"Mandaluyong\")\n",
        "for item in seq:\n",
        "    # do stuff\n",
        "    pass\n",
        "\n",
        "# this is good, explicit\n",
        "cities = (\"Taguig\", \"Makati\", \"Mandaluyong\")\n",
        "for city in cities:\n",
        "    # do stuff\n",
        "    pass"
      ],
      "metadata": {
        "id": "FssfMEUmV0q2"
      },
      "execution_count": null,
      "outputs": []
    },
    {
      "cell_type": "markdown",
      "source": [
        "### Functions"
      ],
      "metadata": {
        "id": "dZRo7IAV-y6f"
      }
    },
    {
      "cell_type": "markdown",
      "source": [
        "**Write a manual for your function using docstrings.** This will help not only you in the future, but also your future collaborators. 😉"
      ],
      "metadata": {
        "id": "W-sDa_IQgOEq"
      }
    },
    {
      "cell_type": "code",
      "source": [
        "from math import radians, cos, sin, asin, sqrt\n",
        "\n",
        "# this is good, write docstrings as much as possible to future proof your work\n",
        "def get_haversine_distance(lon1, lat1, lon2, lat2, r=6371):\n",
        "    \"\"\"Calculate the great circle distance (in kilometers) between two points on the earth.\n",
        "\n",
        "    Args:\n",
        "        lon1 (float): Longitude of Point 1\n",
        "        lat1 (float): Latitude of Point 1\n",
        "        lon2 (float): Longitude of Point 2\n",
        "        lat2 (float): Latitude of Point 2\n",
        "        r (int, optional): Radius of earth in kilometers. Defaults to 6371.\n",
        "\n",
        "    Returns:\n",
        "        float: Haversine distance between the two given coordinates.\n",
        "    \"\"\"\n",
        "\n",
        "    # convert decimal degrees to radians \n",
        "    lon1, lat1, lon2, lat2 = map(radians, [lon1, lat1, lon2, lat2])\n",
        "\n",
        "    # haversine formula \n",
        "    dlon = lon2 - lon1 \n",
        "    dlat = lat2 - lat1 \n",
        "    a = sin(dlat/2)**2 + cos(lat1) * cos(lat2) * sin(dlon/2)**2\n",
        "    c = 2 * asin(sqrt(a)) \n",
        "    \n",
        "    return c * r"
      ],
      "metadata": {
        "id": "BJ9H4f9KgN8z"
      },
      "execution_count": 6,
      "outputs": []
    },
    {
      "cell_type": "markdown",
      "source": [
        "Your Python **functions should accomplish one thing.** When functions do more than one thing, they are harder to compose, test, and reason about. When you can isolate a function to just one action, they can be refactored easily and your code will read much cleaner."
      ],
      "metadata": {
        "id": "zin0BN-ATZBu"
      }
    },
    {
      "cell_type": "code",
      "source": [
        "from google.colab import drive\n",
        "drive.mount(\"/content/drive/\", force_remount=True)"
      ],
      "metadata": {
        "id": "0OiQ-cVpnoGF",
        "colab": {
          "base_uri": "https://localhost:8080/"
        },
        "outputId": "aca44adb-4ac5-4393-ed21-2b17b0c8ce5a"
      },
      "execution_count": 7,
      "outputs": [
        {
          "output_type": "stream",
          "name": "stdout",
          "text": [
            "Mounted at /content/drive/\n"
          ]
        }
      ]
    },
    {
      "cell_type": "code",
      "source": [
        "%cd /content/drive/My Drive/DSP Python Workshop 2022/"
      ],
      "metadata": {
        "colab": {
          "base_uri": "https://localhost:8080/"
        },
        "id": "crRp_dr1oN02",
        "outputId": "b776e371-4206-4b59-d3b7-469812f61549"
      },
      "execution_count": 8,
      "outputs": [
        {
          "output_type": "stream",
          "name": "stdout",
          "text": [
            "/content/drive/My Drive/DSP Python Workshop 2022\n"
          ]
        }
      ]
    },
    {
      "cell_type": "code",
      "source": [
        "import pandas as pd\n",
        "\n",
        "def load_data(filename, schema):\n",
        "    df = pd.read_csv(filename)\n",
        "    df = df.astype(schema, errors=\"ignore\")\n",
        "    return df\n",
        "\n",
        "filename = \"data/cafes_in_bonifacio_global_city.csv\"\n",
        "schema = {\n",
        "    \"cafe_name\": str,\n",
        "    \"address\": str,\n",
        "    \"latitude\": float,\n",
        "    \"longitude\": float\n",
        "} \n",
        "df = load_data(filename, schema)\n",
        "display(df)"
      ],
      "metadata": {
        "id": "WJAQMt3UWw3O",
        "colab": {
          "base_uri": "https://localhost:8080/",
          "height": 676
        },
        "outputId": "7341f666-713c-4443-e04e-05905b3ef8e0"
      },
      "execution_count": 9,
      "outputs": [
        {
          "output_type": "display_data",
          "data": {
            "text/html": [
              "\n",
              "  <div id=\"df-1a91afb7-dac5-476f-99a6-2b5589cba8be\">\n",
              "    <div class=\"colab-df-container\">\n",
              "      <div>\n",
              "<style scoped>\n",
              "    .dataframe tbody tr th:only-of-type {\n",
              "        vertical-align: middle;\n",
              "    }\n",
              "\n",
              "    .dataframe tbody tr th {\n",
              "        vertical-align: top;\n",
              "    }\n",
              "\n",
              "    .dataframe thead th {\n",
              "        text-align: right;\n",
              "    }\n",
              "</style>\n",
              "<table border=\"1\" class=\"dataframe\">\n",
              "  <thead>\n",
              "    <tr style=\"text-align: right;\">\n",
              "      <th></th>\n",
              "      <th>cafe_name</th>\n",
              "      <th>address</th>\n",
              "      <th>latitude</th>\n",
              "      <th>longitude</th>\n",
              "    </tr>\n",
              "  </thead>\n",
              "  <tbody>\n",
              "    <tr>\n",
              "      <th>0</th>\n",
              "      <td>Single Origin - Bonifacio High Street</td>\n",
              "      <td>C3, Bonifacio Highstreet, 7th Ave</td>\n",
              "      <td>14.551564</td>\n",
              "      <td>121.049615</td>\n",
              "    </tr>\n",
              "    <tr>\n",
              "      <th>1</th>\n",
              "      <td>Frank &amp; Dean Coffee</td>\n",
              "      <td>Five/NEO, 31st Street, Taguig, Metro Manila</td>\n",
              "      <td>14.555208</td>\n",
              "      <td>121.043002</td>\n",
              "    </tr>\n",
              "    <tr>\n",
              "      <th>2</th>\n",
              "      <td>Cafe de Lipa</td>\n",
              "      <td>H324+56C, Taguig, Metro Manila</td>\n",
              "      <td>14.550452</td>\n",
              "      <td>121.055519</td>\n",
              "    </tr>\n",
              "    <tr>\n",
              "      <th>3</th>\n",
              "      <td>UCC Clockwork</td>\n",
              "      <td>Burgos Cir, Taguig Metro Manila</td>\n",
              "      <td>14.552510</td>\n",
              "      <td>121.043906</td>\n",
              "    </tr>\n",
              "    <tr>\n",
              "      <th>4</th>\n",
              "      <td>Coffee Project</td>\n",
              "      <td>21st Dr, Taguig, 1630 Metro Manila</td>\n",
              "      <td>14.543019</td>\n",
              "      <td>121.047231</td>\n",
              "    </tr>\n",
              "    <tr>\n",
              "      <th>5</th>\n",
              "      <td>Starbucks (Bonifacio High Street)</td>\n",
              "      <td>H322+F23</td>\n",
              "      <td>14.551219</td>\n",
              "      <td>121.050066</td>\n",
              "    </tr>\n",
              "    <tr>\n",
              "      <th>6</th>\n",
              "      <td>Wildflour Cafe + Bakery BGC</td>\n",
              "      <td>Ground Floor Six/NEO 4th Avenue, Corner 26th S...</td>\n",
              "      <td>14.549488</td>\n",
              "      <td>121.046160</td>\n",
              "    </tr>\n",
              "    <tr>\n",
              "      <th>7</th>\n",
              "      <td>Luna Cafe</td>\n",
              "      <td>Ground Floor, NAC Tower, 32nd St</td>\n",
              "      <td>14.553146</td>\n",
              "      <td>121.051328</td>\n",
              "    </tr>\n",
              "    <tr>\n",
              "      <th>8</th>\n",
              "      <td>Malongo Atelier Barista Philippines</td>\n",
              "      <td>3rd Avenue, Lower Ground, One Bonifacio High S...</td>\n",
              "      <td>14.551821</td>\n",
              "      <td>121.046074</td>\n",
              "    </tr>\n",
              "    <tr>\n",
              "      <th>9</th>\n",
              "      <td>Highlands Coffee</td>\n",
              "      <td>Arthaland Tower, 5th Ave</td>\n",
              "      <td>14.552934</td>\n",
              "      <td>121.047843</td>\n",
              "    </tr>\n",
              "    <tr>\n",
              "      <th>10</th>\n",
              "      <td>The Coffee Bean &amp; Tea Leaf</td>\n",
              "      <td>4th Floor, Central Square, 5 30th St</td>\n",
              "      <td>14.552077</td>\n",
              "      <td>121.048455</td>\n",
              "    </tr>\n",
              "    <tr>\n",
              "      <th>11</th>\n",
              "      <td>Little Flour Cafe - BGC</td>\n",
              "      <td>Ground Floor, World Plaza 4th Avenue, corner 3...</td>\n",
              "      <td>14.553609</td>\n",
              "      <td>121.047631</td>\n",
              "    </tr>\n",
              "    <tr>\n",
              "      <th>12</th>\n",
              "      <td>St. Louis Cafe</td>\n",
              "      <td>Unit 104-A, Lower ground, C3 Bonifacio High St...</td>\n",
              "      <td>14.551530</td>\n",
              "      <td>121.049615</td>\n",
              "    </tr>\n",
              "    <tr>\n",
              "      <th>13</th>\n",
              "      <td>Toby Estate Coffee Roasters</td>\n",
              "      <td>Bonifacio High Street</td>\n",
              "      <td>14.552553</td>\n",
              "      <td>121.047540</td>\n",
              "    </tr>\n",
              "    <tr>\n",
              "      <th>14</th>\n",
              "      <td>Aivee Cafe</td>\n",
              "      <td>3rd Floor, Burgos Park Bldg. BGC City, Forbest...</td>\n",
              "      <td>14.550355</td>\n",
              "      <td>121.044361</td>\n",
              "    </tr>\n",
              "    <tr>\n",
              "      <th>15</th>\n",
              "      <td>The Lobby Cafe</td>\n",
              "      <td>St. Luke Medical Center Lobby Area</td>\n",
              "      <td>14.554693</td>\n",
              "      <td>121.047782</td>\n",
              "    </tr>\n",
              "    <tr>\n",
              "      <th>16</th>\n",
              "      <td>Luna Breakfast &amp; Coffee</td>\n",
              "      <td>B6, Bonifacio High Street</td>\n",
              "      <td>14.549717</td>\n",
              "      <td>121.052641</td>\n",
              "    </tr>\n",
              "    <tr>\n",
              "      <th>17</th>\n",
              "      <td>Seattle's Best Coffee</td>\n",
              "      <td>G/F,B3,Bonifacio High Street, 9th Ave</td>\n",
              "      <td>14.550825</td>\n",
              "      <td>121.051332</td>\n",
              "    </tr>\n",
              "    <tr>\n",
              "      <th>18</th>\n",
              "      <td>Coffee Bean and Tea Leaf Bistro</td>\n",
              "      <td>26th St</td>\n",
              "      <td>14.549135</td>\n",
              "      <td>121.046761</td>\n",
              "    </tr>\n",
              "    <tr>\n",
              "      <th>19</th>\n",
              "      <td>Larry's Cafe and Bar</td>\n",
              "      <td>G/F Serendra, McKinley Pkwy</td>\n",
              "      <td>14.549618</td>\n",
              "      <td>121.053929</td>\n",
              "    </tr>\n",
              "  </tbody>\n",
              "</table>\n",
              "</div>\n",
              "      <button class=\"colab-df-convert\" onclick=\"convertToInteractive('df-1a91afb7-dac5-476f-99a6-2b5589cba8be')\"\n",
              "              title=\"Convert this dataframe to an interactive table.\"\n",
              "              style=\"display:none;\">\n",
              "        \n",
              "  <svg xmlns=\"http://www.w3.org/2000/svg\" height=\"24px\"viewBox=\"0 0 24 24\"\n",
              "       width=\"24px\">\n",
              "    <path d=\"M0 0h24v24H0V0z\" fill=\"none\"/>\n",
              "    <path d=\"M18.56 5.44l.94 2.06.94-2.06 2.06-.94-2.06-.94-.94-2.06-.94 2.06-2.06.94zm-11 1L8.5 8.5l.94-2.06 2.06-.94-2.06-.94L8.5 2.5l-.94 2.06-2.06.94zm10 10l.94 2.06.94-2.06 2.06-.94-2.06-.94-.94-2.06-.94 2.06-2.06.94z\"/><path d=\"M17.41 7.96l-1.37-1.37c-.4-.4-.92-.59-1.43-.59-.52 0-1.04.2-1.43.59L10.3 9.45l-7.72 7.72c-.78.78-.78 2.05 0 2.83L4 21.41c.39.39.9.59 1.41.59.51 0 1.02-.2 1.41-.59l7.78-7.78 2.81-2.81c.8-.78.8-2.07 0-2.86zM5.41 20L4 18.59l7.72-7.72 1.47 1.35L5.41 20z\"/>\n",
              "  </svg>\n",
              "      </button>\n",
              "      \n",
              "  <style>\n",
              "    .colab-df-container {\n",
              "      display:flex;\n",
              "      flex-wrap:wrap;\n",
              "      gap: 12px;\n",
              "    }\n",
              "\n",
              "    .colab-df-convert {\n",
              "      background-color: #E8F0FE;\n",
              "      border: none;\n",
              "      border-radius: 50%;\n",
              "      cursor: pointer;\n",
              "      display: none;\n",
              "      fill: #1967D2;\n",
              "      height: 32px;\n",
              "      padding: 0 0 0 0;\n",
              "      width: 32px;\n",
              "    }\n",
              "\n",
              "    .colab-df-convert:hover {\n",
              "      background-color: #E2EBFA;\n",
              "      box-shadow: 0px 1px 2px rgba(60, 64, 67, 0.3), 0px 1px 3px 1px rgba(60, 64, 67, 0.15);\n",
              "      fill: #174EA6;\n",
              "    }\n",
              "\n",
              "    [theme=dark] .colab-df-convert {\n",
              "      background-color: #3B4455;\n",
              "      fill: #D2E3FC;\n",
              "    }\n",
              "\n",
              "    [theme=dark] .colab-df-convert:hover {\n",
              "      background-color: #434B5C;\n",
              "      box-shadow: 0px 1px 3px 1px rgba(0, 0, 0, 0.15);\n",
              "      filter: drop-shadow(0px 1px 2px rgba(0, 0, 0, 0.3));\n",
              "      fill: #FFFFFF;\n",
              "    }\n",
              "  </style>\n",
              "\n",
              "      <script>\n",
              "        const buttonEl =\n",
              "          document.querySelector('#df-1a91afb7-dac5-476f-99a6-2b5589cba8be button.colab-df-convert');\n",
              "        buttonEl.style.display =\n",
              "          google.colab.kernel.accessAllowed ? 'block' : 'none';\n",
              "\n",
              "        async function convertToInteractive(key) {\n",
              "          const element = document.querySelector('#df-1a91afb7-dac5-476f-99a6-2b5589cba8be');\n",
              "          const dataTable =\n",
              "            await google.colab.kernel.invokeFunction('convertToInteractive',\n",
              "                                                     [key], {});\n",
              "          if (!dataTable) return;\n",
              "\n",
              "          const docLinkHtml = 'Like what you see? Visit the ' +\n",
              "            '<a target=\"_blank\" href=https://colab.research.google.com/notebooks/data_table.ipynb>data table notebook</a>'\n",
              "            + ' to learn more about interactive tables.';\n",
              "          element.innerHTML = '';\n",
              "          dataTable['output_type'] = 'display_data';\n",
              "          await google.colab.output.renderOutput(dataTable, element);\n",
              "          const docLink = document.createElement('div');\n",
              "          docLink.innerHTML = docLinkHtml;\n",
              "          element.appendChild(docLink);\n",
              "        }\n",
              "      </script>\n",
              "    </div>\n",
              "  </div>\n",
              "  "
            ],
            "text/plain": [
              "                                cafe_name  ...   longitude\n",
              "0   Single Origin - Bonifacio High Street  ...  121.049615\n",
              "1                     Frank & Dean Coffee  ...  121.043002\n",
              "2                            Cafe de Lipa  ...  121.055519\n",
              "3                           UCC Clockwork  ...  121.043906\n",
              "4                          Coffee Project  ...  121.047231\n",
              "5       Starbucks (Bonifacio High Street)  ...  121.050066\n",
              "6             Wildflour Cafe + Bakery BGC  ...  121.046160\n",
              "7                               Luna Cafe  ...  121.051328\n",
              "8     Malongo Atelier Barista Philippines  ...  121.046074\n",
              "9                        Highlands Coffee  ...  121.047843\n",
              "10             The Coffee Bean & Tea Leaf  ...  121.048455\n",
              "11                Little Flour Cafe - BGC  ...  121.047631\n",
              "12                         St. Louis Cafe  ...  121.049615\n",
              "13            Toby Estate Coffee Roasters  ...  121.047540\n",
              "14                             Aivee Cafe  ...  121.044361\n",
              "15                         The Lobby Cafe  ...  121.047782\n",
              "16                Luna Breakfast & Coffee  ...  121.052641\n",
              "17                  Seattle's Best Coffee  ...  121.051332\n",
              "18        Coffee Bean and Tea Leaf Bistro  ...  121.046761\n",
              "19                   Larry's Cafe and Bar  ...  121.053929\n",
              "\n",
              "[20 rows x 4 columns]"
            ]
          },
          "metadata": {}
        }
      ]
    },
    {
      "cell_type": "markdown",
      "source": [
        "Suppose you and your new DSP friends want to go coffee shop hopping in Bonifacio Global City today. Since you only have an hour for lunch break, you decided to only visit n shops for now. The task is to find the n-closest coffee shops to each other from the given data. 🧩 "
      ],
      "metadata": {
        "id": "ZFOnZlu3Wwsv"
      }
    },
    {
      "cell_type": "code",
      "source": [
        "import leafmap\n",
        "import itertools\n",
        "import geopandas as gpd\n",
        "from shapely.geometry import Polygon"
      ],
      "metadata": {
        "id": "6L1PPJoxYLfj"
      },
      "execution_count": 10,
      "outputs": []
    },
    {
      "cell_type": "code",
      "source": [
        "THE_GLOBE_TOWER_COORDS = (14.553474948859346, 121.04989287111896)"
      ],
      "metadata": {
        "id": "_-FhJtClftIe"
      },
      "execution_count": 28,
      "outputs": []
    },
    {
      "cell_type": "code",
      "source": [
        "# THIS IS BAD\n",
        "\n",
        "def get_map(df, reference_point, n=3):\n",
        "\n",
        "    # initialize map, set TGT as reference point for BGC\n",
        "    map_select = leafmap.Map(\n",
        "        center=reference_point, \n",
        "        zoom=16, \n",
        "        layers_control=True, \n",
        "        measure_control=False, \n",
        "        attribution_control=False\n",
        "    )\n",
        "    map_select.add_basemap(\"Stamen.TonerLite\")\n",
        "\n",
        "    # get points of interest df\n",
        "    gdf_points = gpd.GeoDataFrame(df, geometry=gpd.points_from_xy(df.longitude, df.latitude, crs=\"EPSG:4326\"))\n",
        "    gdf_points = gdf_points.drop(columns=[\"address\", \"latitude\", \"longitude\"])\n",
        "\n",
        "    cols_gdf = [(f\"cafe_name_{i}\", f\"geometry_{i}\") for i in range(1, n+1)]\n",
        "    cols_gdf = [item for sublist in cols_gdf for item in sublist]\n",
        "    cols_geometry = [col for col in cols_gdf if \"geometry\" in col]\n",
        "\n",
        "    # get all possible combinations of poi(s) e.g. cafe(s)\n",
        "    points_combinations = list(itertools.combinations(gdf_points.values.tolist(), n))\n",
        "    \n",
        "    # get polygons df\n",
        "    gdf_polygons = pd.DataFrame(columns=cols_gdf)\n",
        "    for i, points_combination in enumerate(points_combinations):\n",
        "        gdf_polygons.loc[i] = [item for sublist in points_combination for item in sublist]\n",
        "\n",
        "    # add n-polygon geometry column based from the given points \n",
        "    gdf_polygons[\"geometry\"] = gdf_polygons.apply(lambda x: Polygon([x[col] for col in cols_geometry]), axis=1)\n",
        "    gdf_polygons = gdf_polygons.drop(columns=cols_geometry)\n",
        "\n",
        "    # 4326 for viz, 3857 for distance related calculations\n",
        "    gdf_polygons = gpd.GeoDataFrame(gdf_polygons, crs=\"EPSG:4326\")\n",
        "    gdf_polygons[\"polygon_perimeter_in_meters\"] = gdf_polygons.to_crs(3857)[\"geometry\"].length\n",
        "\n",
        "    # add the points and polygons gdf\n",
        "    map_select.add_gdf(gdf_polygons.sort_values(by=\"polygon_perimeter_in_meters\", ascending=True).head(1), layer_name=\"Smallest Geom\", fill_colors=[\"green\"])\n",
        "    map_select.add_gdf(gdf_polygons.sort_values(by=\"polygon_perimeter_in_meters\", ascending=False).head(1), layer_name=\"Biggest Geom\", fill_colors=[\"red\"])\n",
        "    map_select.add_gdf(gdf_points, layer_name=\"Cafes in BGC\")\n",
        "\n",
        "    return map_select\n"
      ],
      "metadata": {
        "id": "44ejlS75B8hY"
      },
      "execution_count": 29,
      "outputs": []
    },
    {
      "cell_type": "code",
      "source": [
        "# THIS IS BETTER\n",
        "\n",
        "def flatten_list(lst):\n",
        "    flattened_list = [item for sublist in lst for item in sublist]\n",
        "    return flattened_list\n",
        "\n",
        "def get_column_names(n, geom):\n",
        "    cols = flatten_list([(f\"cafe_name_{i}\", f\"geometry_{i}\") for i in range(1, n+1)])\n",
        "    if geom:\n",
        "        return [col for col in cols if \"geometry\" in col]\n",
        "    else:\n",
        "        return cols\n",
        "\n",
        "def get_point_combinations(gdf_points, n):\n",
        "    points_combinations = list(itertools.combinations(gdf_points.values.tolist(), n))\n",
        "    return points_combinations\n",
        "\n",
        "def get_gdf_points(df):\n",
        "    gdf_points = gpd.GeoDataFrame(df, geometry=gpd.points_from_xy(df.longitude, df.latitude, crs=\"EPSG:4326\"))\n",
        "    gdf_points = gdf_points.drop(columns=[\"address\", \"latitude\", \"longitude\"])\n",
        "    return gdf_points\n",
        "\n",
        "def get_gdf_polygons(gdf_points, n):\n",
        "    \n",
        "    # get column names\n",
        "    cols_gdf = get_column_names(n, False)\n",
        "    cols_geometry = get_column_names(n, True)\n",
        "\n",
        "    # get all possible combinations of poi(s) e.g. cafe(s)\n",
        "    points_combinations = get_point_combinations(gdf_points, n)\n",
        "\n",
        "    # create polygons table\n",
        "    gdf_polygons = pd.DataFrame(columns=cols_gdf)\n",
        "    for i, points_combination in enumerate(points_combinations):\n",
        "        gdf_polygons.loc[i] = flatten_list(points_combination)\n",
        "\n",
        "    # add n-polygon geometry column based from the given points \n",
        "    gdf_polygons[\"geometry\"] = gdf_polygons.apply(lambda x: Polygon([x[col] for col in cols_geometry]), axis=1)\n",
        "    gdf_polygons = gdf_polygons.drop(columns=cols_geometry)\n",
        "    \n",
        "    # 4326 for viz, 3857 for distance related calculations\n",
        "    gdf_polygons = gpd.GeoDataFrame(gdf_polygons, crs=\"EPSG:4326\")\n",
        "    gdf_polygons[\"polygon_perimeter_in_meters\"] = gdf_polygons.to_crs(3857)[\"geometry\"].length\n",
        "\n",
        "    return gdf_polygons\n",
        "\n",
        "def get_map(reference_point, gdf_points, gdf_polygons):\n",
        "\n",
        "    # initialize map, set TGT as reference point for BGC\n",
        "    map_select = leafmap.Map(\n",
        "        center=reference_point, \n",
        "        zoom=16, \n",
        "        layers_control=True, \n",
        "        measure_control=False, \n",
        "        attribution_control=False\n",
        "    )\n",
        "    map_select.add_basemap(\"Stamen.TonerLite\")\n",
        "\n",
        "    # add the points and polygons gdf\n",
        "    map_select.add_gdf(gdf_polygons.sort_values(by=\"polygon_perimeter_in_meters\", ascending=True).head(1), layer_name=\"Smallest Geom\", fill_colors=[\"green\"])\n",
        "    map_select.add_gdf(gdf_polygons.sort_values(by=\"polygon_perimeter_in_meters\", ascending=False).head(1), layer_name=\"Biggest Geom\", fill_colors=[\"red\"])\n",
        "    map_select.add_gdf(gdf_points, layer_name=\"Cafes in BGC\")\n",
        "\n",
        "    return map_select"
      ],
      "metadata": {
        "id": "mb5jHARBYLdb"
      },
      "execution_count": 44,
      "outputs": []
    },
    {
      "cell_type": "code",
      "source": [
        "gdf_points = get_gdf_points(df)\n",
        "gdf_points.head(1)"
      ],
      "metadata": {
        "colab": {
          "base_uri": "https://localhost:8080/",
          "height": 80
        },
        "id": "M5yDjAR8-zz3",
        "outputId": "bfd84048-e904-45c7-f298-0c482208262b"
      },
      "execution_count": 45,
      "outputs": [
        {
          "output_type": "execute_result",
          "data": {
            "text/html": [
              "\n",
              "  <div id=\"df-c96b66a0-5dde-4d05-8e8b-3eaee45a6fe3\">\n",
              "    <div class=\"colab-df-container\">\n",
              "      <div>\n",
              "<style scoped>\n",
              "    .dataframe tbody tr th:only-of-type {\n",
              "        vertical-align: middle;\n",
              "    }\n",
              "\n",
              "    .dataframe tbody tr th {\n",
              "        vertical-align: top;\n",
              "    }\n",
              "\n",
              "    .dataframe thead th {\n",
              "        text-align: right;\n",
              "    }\n",
              "</style>\n",
              "<table border=\"1\" class=\"dataframe\">\n",
              "  <thead>\n",
              "    <tr style=\"text-align: right;\">\n",
              "      <th></th>\n",
              "      <th>cafe_name</th>\n",
              "      <th>geometry</th>\n",
              "    </tr>\n",
              "  </thead>\n",
              "  <tbody>\n",
              "    <tr>\n",
              "      <th>0</th>\n",
              "      <td>Single Origin - Bonifacio High Street</td>\n",
              "      <td>POINT (121.04961 14.55156)</td>\n",
              "    </tr>\n",
              "  </tbody>\n",
              "</table>\n",
              "</div>\n",
              "      <button class=\"colab-df-convert\" onclick=\"convertToInteractive('df-c96b66a0-5dde-4d05-8e8b-3eaee45a6fe3')\"\n",
              "              title=\"Convert this dataframe to an interactive table.\"\n",
              "              style=\"display:none;\">\n",
              "        \n",
              "  <svg xmlns=\"http://www.w3.org/2000/svg\" height=\"24px\"viewBox=\"0 0 24 24\"\n",
              "       width=\"24px\">\n",
              "    <path d=\"M0 0h24v24H0V0z\" fill=\"none\"/>\n",
              "    <path d=\"M18.56 5.44l.94 2.06.94-2.06 2.06-.94-2.06-.94-.94-2.06-.94 2.06-2.06.94zm-11 1L8.5 8.5l.94-2.06 2.06-.94-2.06-.94L8.5 2.5l-.94 2.06-2.06.94zm10 10l.94 2.06.94-2.06 2.06-.94-2.06-.94-.94-2.06-.94 2.06-2.06.94z\"/><path d=\"M17.41 7.96l-1.37-1.37c-.4-.4-.92-.59-1.43-.59-.52 0-1.04.2-1.43.59L10.3 9.45l-7.72 7.72c-.78.78-.78 2.05 0 2.83L4 21.41c.39.39.9.59 1.41.59.51 0 1.02-.2 1.41-.59l7.78-7.78 2.81-2.81c.8-.78.8-2.07 0-2.86zM5.41 20L4 18.59l7.72-7.72 1.47 1.35L5.41 20z\"/>\n",
              "  </svg>\n",
              "      </button>\n",
              "      \n",
              "  <style>\n",
              "    .colab-df-container {\n",
              "      display:flex;\n",
              "      flex-wrap:wrap;\n",
              "      gap: 12px;\n",
              "    }\n",
              "\n",
              "    .colab-df-convert {\n",
              "      background-color: #E8F0FE;\n",
              "      border: none;\n",
              "      border-radius: 50%;\n",
              "      cursor: pointer;\n",
              "      display: none;\n",
              "      fill: #1967D2;\n",
              "      height: 32px;\n",
              "      padding: 0 0 0 0;\n",
              "      width: 32px;\n",
              "    }\n",
              "\n",
              "    .colab-df-convert:hover {\n",
              "      background-color: #E2EBFA;\n",
              "      box-shadow: 0px 1px 2px rgba(60, 64, 67, 0.3), 0px 1px 3px 1px rgba(60, 64, 67, 0.15);\n",
              "      fill: #174EA6;\n",
              "    }\n",
              "\n",
              "    [theme=dark] .colab-df-convert {\n",
              "      background-color: #3B4455;\n",
              "      fill: #D2E3FC;\n",
              "    }\n",
              "\n",
              "    [theme=dark] .colab-df-convert:hover {\n",
              "      background-color: #434B5C;\n",
              "      box-shadow: 0px 1px 3px 1px rgba(0, 0, 0, 0.15);\n",
              "      filter: drop-shadow(0px 1px 2px rgba(0, 0, 0, 0.3));\n",
              "      fill: #FFFFFF;\n",
              "    }\n",
              "  </style>\n",
              "\n",
              "      <script>\n",
              "        const buttonEl =\n",
              "          document.querySelector('#df-c96b66a0-5dde-4d05-8e8b-3eaee45a6fe3 button.colab-df-convert');\n",
              "        buttonEl.style.display =\n",
              "          google.colab.kernel.accessAllowed ? 'block' : 'none';\n",
              "\n",
              "        async function convertToInteractive(key) {\n",
              "          const element = document.querySelector('#df-c96b66a0-5dde-4d05-8e8b-3eaee45a6fe3');\n",
              "          const dataTable =\n",
              "            await google.colab.kernel.invokeFunction('convertToInteractive',\n",
              "                                                     [key], {});\n",
              "          if (!dataTable) return;\n",
              "\n",
              "          const docLinkHtml = 'Like what you see? Visit the ' +\n",
              "            '<a target=\"_blank\" href=https://colab.research.google.com/notebooks/data_table.ipynb>data table notebook</a>'\n",
              "            + ' to learn more about interactive tables.';\n",
              "          element.innerHTML = '';\n",
              "          dataTable['output_type'] = 'display_data';\n",
              "          await google.colab.output.renderOutput(dataTable, element);\n",
              "          const docLink = document.createElement('div');\n",
              "          docLink.innerHTML = docLinkHtml;\n",
              "          element.appendChild(docLink);\n",
              "        }\n",
              "      </script>\n",
              "    </div>\n",
              "  </div>\n",
              "  "
            ],
            "text/plain": [
              "                               cafe_name                    geometry\n",
              "0  Single Origin - Bonifacio High Street  POINT (121.04961 14.55156)"
            ]
          },
          "metadata": {},
          "execution_count": 45
        }
      ]
    },
    {
      "cell_type": "code",
      "source": [
        "gdf_polygons = get_gdf_polygons(gdf_points, 4)\n",
        "gdf_polygons.head(1)"
      ],
      "metadata": {
        "colab": {
          "base_uri": "https://localhost:8080/",
          "height": 80
        },
        "id": "dc-s-1_Iim0V",
        "outputId": "d63b9628-103e-4a37-b382-f19c3615e269"
      },
      "execution_count": 46,
      "outputs": [
        {
          "output_type": "execute_result",
          "data": {
            "text/html": [
              "\n",
              "  <div id=\"df-db9ef6cb-664e-4135-9698-e64706459dd2\">\n",
              "    <div class=\"colab-df-container\">\n",
              "      <div>\n",
              "<style scoped>\n",
              "    .dataframe tbody tr th:only-of-type {\n",
              "        vertical-align: middle;\n",
              "    }\n",
              "\n",
              "    .dataframe tbody tr th {\n",
              "        vertical-align: top;\n",
              "    }\n",
              "\n",
              "    .dataframe thead th {\n",
              "        text-align: right;\n",
              "    }\n",
              "</style>\n",
              "<table border=\"1\" class=\"dataframe\">\n",
              "  <thead>\n",
              "    <tr style=\"text-align: right;\">\n",
              "      <th></th>\n",
              "      <th>cafe_name_1</th>\n",
              "      <th>cafe_name_2</th>\n",
              "      <th>cafe_name_3</th>\n",
              "      <th>cafe_name_4</th>\n",
              "      <th>geometry</th>\n",
              "      <th>polygon_perimeter_in_meters</th>\n",
              "    </tr>\n",
              "  </thead>\n",
              "  <tbody>\n",
              "    <tr>\n",
              "      <th>0</th>\n",
              "      <td>Single Origin - Bonifacio High Street</td>\n",
              "      <td>Frank &amp; Dean Coffee</td>\n",
              "      <td>Cafe de Lipa</td>\n",
              "      <td>UCC Clockwork</td>\n",
              "      <td>POLYGON ((121.04961 14.55156, 121.04300 14.555...</td>\n",
              "      <td>4302.791581</td>\n",
              "    </tr>\n",
              "  </tbody>\n",
              "</table>\n",
              "</div>\n",
              "      <button class=\"colab-df-convert\" onclick=\"convertToInteractive('df-db9ef6cb-664e-4135-9698-e64706459dd2')\"\n",
              "              title=\"Convert this dataframe to an interactive table.\"\n",
              "              style=\"display:none;\">\n",
              "        \n",
              "  <svg xmlns=\"http://www.w3.org/2000/svg\" height=\"24px\"viewBox=\"0 0 24 24\"\n",
              "       width=\"24px\">\n",
              "    <path d=\"M0 0h24v24H0V0z\" fill=\"none\"/>\n",
              "    <path d=\"M18.56 5.44l.94 2.06.94-2.06 2.06-.94-2.06-.94-.94-2.06-.94 2.06-2.06.94zm-11 1L8.5 8.5l.94-2.06 2.06-.94-2.06-.94L8.5 2.5l-.94 2.06-2.06.94zm10 10l.94 2.06.94-2.06 2.06-.94-2.06-.94-.94-2.06-.94 2.06-2.06.94z\"/><path d=\"M17.41 7.96l-1.37-1.37c-.4-.4-.92-.59-1.43-.59-.52 0-1.04.2-1.43.59L10.3 9.45l-7.72 7.72c-.78.78-.78 2.05 0 2.83L4 21.41c.39.39.9.59 1.41.59.51 0 1.02-.2 1.41-.59l7.78-7.78 2.81-2.81c.8-.78.8-2.07 0-2.86zM5.41 20L4 18.59l7.72-7.72 1.47 1.35L5.41 20z\"/>\n",
              "  </svg>\n",
              "      </button>\n",
              "      \n",
              "  <style>\n",
              "    .colab-df-container {\n",
              "      display:flex;\n",
              "      flex-wrap:wrap;\n",
              "      gap: 12px;\n",
              "    }\n",
              "\n",
              "    .colab-df-convert {\n",
              "      background-color: #E8F0FE;\n",
              "      border: none;\n",
              "      border-radius: 50%;\n",
              "      cursor: pointer;\n",
              "      display: none;\n",
              "      fill: #1967D2;\n",
              "      height: 32px;\n",
              "      padding: 0 0 0 0;\n",
              "      width: 32px;\n",
              "    }\n",
              "\n",
              "    .colab-df-convert:hover {\n",
              "      background-color: #E2EBFA;\n",
              "      box-shadow: 0px 1px 2px rgba(60, 64, 67, 0.3), 0px 1px 3px 1px rgba(60, 64, 67, 0.15);\n",
              "      fill: #174EA6;\n",
              "    }\n",
              "\n",
              "    [theme=dark] .colab-df-convert {\n",
              "      background-color: #3B4455;\n",
              "      fill: #D2E3FC;\n",
              "    }\n",
              "\n",
              "    [theme=dark] .colab-df-convert:hover {\n",
              "      background-color: #434B5C;\n",
              "      box-shadow: 0px 1px 3px 1px rgba(0, 0, 0, 0.15);\n",
              "      filter: drop-shadow(0px 1px 2px rgba(0, 0, 0, 0.3));\n",
              "      fill: #FFFFFF;\n",
              "    }\n",
              "  </style>\n",
              "\n",
              "      <script>\n",
              "        const buttonEl =\n",
              "          document.querySelector('#df-db9ef6cb-664e-4135-9698-e64706459dd2 button.colab-df-convert');\n",
              "        buttonEl.style.display =\n",
              "          google.colab.kernel.accessAllowed ? 'block' : 'none';\n",
              "\n",
              "        async function convertToInteractive(key) {\n",
              "          const element = document.querySelector('#df-db9ef6cb-664e-4135-9698-e64706459dd2');\n",
              "          const dataTable =\n",
              "            await google.colab.kernel.invokeFunction('convertToInteractive',\n",
              "                                                     [key], {});\n",
              "          if (!dataTable) return;\n",
              "\n",
              "          const docLinkHtml = 'Like what you see? Visit the ' +\n",
              "            '<a target=\"_blank\" href=https://colab.research.google.com/notebooks/data_table.ipynb>data table notebook</a>'\n",
              "            + ' to learn more about interactive tables.';\n",
              "          element.innerHTML = '';\n",
              "          dataTable['output_type'] = 'display_data';\n",
              "          await google.colab.output.renderOutput(dataTable, element);\n",
              "          const docLink = document.createElement('div');\n",
              "          docLink.innerHTML = docLinkHtml;\n",
              "          element.appendChild(docLink);\n",
              "        }\n",
              "      </script>\n",
              "    </div>\n",
              "  </div>\n",
              "  "
            ],
            "text/plain": [
              "                             cafe_name_1  ... polygon_perimeter_in_meters\n",
              "0  Single Origin - Bonifacio High Street  ...                 4302.791581\n",
              "\n",
              "[1 rows x 6 columns]"
            ]
          },
          "metadata": {},
          "execution_count": 46
        }
      ]
    },
    {
      "cell_type": "code",
      "source": [
        "gdf_polygons.sort_values(by=\"polygon_perimeter_in_meters\", ascending=True).head(1)"
      ],
      "metadata": {
        "colab": {
          "base_uri": "https://localhost:8080/",
          "height": 80
        },
        "id": "HcXCE2jyBrM_",
        "outputId": "3883eef0-3263-4b2b-fc37-84d6628dd828"
      },
      "execution_count": 47,
      "outputs": [
        {
          "output_type": "execute_result",
          "data": {
            "text/html": [
              "\n",
              "  <div id=\"df-8e1c8f31-bfde-4799-aeff-cad1cfc867c6\">\n",
              "    <div class=\"colab-df-container\">\n",
              "      <div>\n",
              "<style scoped>\n",
              "    .dataframe tbody tr th:only-of-type {\n",
              "        vertical-align: middle;\n",
              "    }\n",
              "\n",
              "    .dataframe tbody tr th {\n",
              "        vertical-align: top;\n",
              "    }\n",
              "\n",
              "    .dataframe thead th {\n",
              "        text-align: right;\n",
              "    }\n",
              "</style>\n",
              "<table border=\"1\" class=\"dataframe\">\n",
              "  <thead>\n",
              "    <tr style=\"text-align: right;\">\n",
              "      <th></th>\n",
              "      <th>cafe_name_1</th>\n",
              "      <th>cafe_name_2</th>\n",
              "      <th>cafe_name_3</th>\n",
              "      <th>cafe_name_4</th>\n",
              "      <th>geometry</th>\n",
              "      <th>polygon_perimeter_in_meters</th>\n",
              "    </tr>\n",
              "  </thead>\n",
              "  <tbody>\n",
              "    <tr>\n",
              "      <th>561</th>\n",
              "      <td>Single Origin - Bonifacio High Street</td>\n",
              "      <td>Starbucks (Bonifacio High Street)</td>\n",
              "      <td>The Coffee Bean &amp; Tea Leaf</td>\n",
              "      <td>St. Louis Cafe</td>\n",
              "      <td>POLYGON ((121.04961 14.55156, 121.05007 14.551...</td>\n",
              "      <td>416.151742</td>\n",
              "    </tr>\n",
              "  </tbody>\n",
              "</table>\n",
              "</div>\n",
              "      <button class=\"colab-df-convert\" onclick=\"convertToInteractive('df-8e1c8f31-bfde-4799-aeff-cad1cfc867c6')\"\n",
              "              title=\"Convert this dataframe to an interactive table.\"\n",
              "              style=\"display:none;\">\n",
              "        \n",
              "  <svg xmlns=\"http://www.w3.org/2000/svg\" height=\"24px\"viewBox=\"0 0 24 24\"\n",
              "       width=\"24px\">\n",
              "    <path d=\"M0 0h24v24H0V0z\" fill=\"none\"/>\n",
              "    <path d=\"M18.56 5.44l.94 2.06.94-2.06 2.06-.94-2.06-.94-.94-2.06-.94 2.06-2.06.94zm-11 1L8.5 8.5l.94-2.06 2.06-.94-2.06-.94L8.5 2.5l-.94 2.06-2.06.94zm10 10l.94 2.06.94-2.06 2.06-.94-2.06-.94-.94-2.06-.94 2.06-2.06.94z\"/><path d=\"M17.41 7.96l-1.37-1.37c-.4-.4-.92-.59-1.43-.59-.52 0-1.04.2-1.43.59L10.3 9.45l-7.72 7.72c-.78.78-.78 2.05 0 2.83L4 21.41c.39.39.9.59 1.41.59.51 0 1.02-.2 1.41-.59l7.78-7.78 2.81-2.81c.8-.78.8-2.07 0-2.86zM5.41 20L4 18.59l7.72-7.72 1.47 1.35L5.41 20z\"/>\n",
              "  </svg>\n",
              "      </button>\n",
              "      \n",
              "  <style>\n",
              "    .colab-df-container {\n",
              "      display:flex;\n",
              "      flex-wrap:wrap;\n",
              "      gap: 12px;\n",
              "    }\n",
              "\n",
              "    .colab-df-convert {\n",
              "      background-color: #E8F0FE;\n",
              "      border: none;\n",
              "      border-radius: 50%;\n",
              "      cursor: pointer;\n",
              "      display: none;\n",
              "      fill: #1967D2;\n",
              "      height: 32px;\n",
              "      padding: 0 0 0 0;\n",
              "      width: 32px;\n",
              "    }\n",
              "\n",
              "    .colab-df-convert:hover {\n",
              "      background-color: #E2EBFA;\n",
              "      box-shadow: 0px 1px 2px rgba(60, 64, 67, 0.3), 0px 1px 3px 1px rgba(60, 64, 67, 0.15);\n",
              "      fill: #174EA6;\n",
              "    }\n",
              "\n",
              "    [theme=dark] .colab-df-convert {\n",
              "      background-color: #3B4455;\n",
              "      fill: #D2E3FC;\n",
              "    }\n",
              "\n",
              "    [theme=dark] .colab-df-convert:hover {\n",
              "      background-color: #434B5C;\n",
              "      box-shadow: 0px 1px 3px 1px rgba(0, 0, 0, 0.15);\n",
              "      filter: drop-shadow(0px 1px 2px rgba(0, 0, 0, 0.3));\n",
              "      fill: #FFFFFF;\n",
              "    }\n",
              "  </style>\n",
              "\n",
              "      <script>\n",
              "        const buttonEl =\n",
              "          document.querySelector('#df-8e1c8f31-bfde-4799-aeff-cad1cfc867c6 button.colab-df-convert');\n",
              "        buttonEl.style.display =\n",
              "          google.colab.kernel.accessAllowed ? 'block' : 'none';\n",
              "\n",
              "        async function convertToInteractive(key) {\n",
              "          const element = document.querySelector('#df-8e1c8f31-bfde-4799-aeff-cad1cfc867c6');\n",
              "          const dataTable =\n",
              "            await google.colab.kernel.invokeFunction('convertToInteractive',\n",
              "                                                     [key], {});\n",
              "          if (!dataTable) return;\n",
              "\n",
              "          const docLinkHtml = 'Like what you see? Visit the ' +\n",
              "            '<a target=\"_blank\" href=https://colab.research.google.com/notebooks/data_table.ipynb>data table notebook</a>'\n",
              "            + ' to learn more about interactive tables.';\n",
              "          element.innerHTML = '';\n",
              "          dataTable['output_type'] = 'display_data';\n",
              "          await google.colab.output.renderOutput(dataTable, element);\n",
              "          const docLink = document.createElement('div');\n",
              "          docLink.innerHTML = docLinkHtml;\n",
              "          element.appendChild(docLink);\n",
              "        }\n",
              "      </script>\n",
              "    </div>\n",
              "  </div>\n",
              "  "
            ],
            "text/plain": [
              "                               cafe_name_1  ... polygon_perimeter_in_meters\n",
              "561  Single Origin - Bonifacio High Street  ...                  416.151742\n",
              "\n",
              "[1 rows x 6 columns]"
            ]
          },
          "metadata": {},
          "execution_count": 47
        }
      ]
    },
    {
      "cell_type": "code",
      "source": [
        "gdf_polygons.sort_values(by=\"polygon_perimeter_in_meters\", ascending=False).head(1)"
      ],
      "metadata": {
        "colab": {
          "base_uri": "https://localhost:8080/",
          "height": 80
        },
        "id": "XxFZ_OTmBsLU",
        "outputId": "28daf3d9-4b85-4f2b-9632-7cfbbfc85429"
      },
      "execution_count": 48,
      "outputs": [
        {
          "output_type": "execute_result",
          "data": {
            "text/html": [
              "\n",
              "  <div id=\"df-f5b6f0c7-9483-4a25-b017-f36986769809\">\n",
              "    <div class=\"colab-df-container\">\n",
              "      <div>\n",
              "<style scoped>\n",
              "    .dataframe tbody tr th:only-of-type {\n",
              "        vertical-align: middle;\n",
              "    }\n",
              "\n",
              "    .dataframe tbody tr th {\n",
              "        vertical-align: top;\n",
              "    }\n",
              "\n",
              "    .dataframe thead th {\n",
              "        text-align: right;\n",
              "    }\n",
              "</style>\n",
              "<table border=\"1\" class=\"dataframe\">\n",
              "  <thead>\n",
              "    <tr style=\"text-align: right;\">\n",
              "      <th></th>\n",
              "      <th>cafe_name_1</th>\n",
              "      <th>cafe_name_2</th>\n",
              "      <th>cafe_name_3</th>\n",
              "      <th>cafe_name_4</th>\n",
              "      <th>geometry</th>\n",
              "      <th>polygon_perimeter_in_meters</th>\n",
              "    </tr>\n",
              "  </thead>\n",
              "  <tbody>\n",
              "    <tr>\n",
              "      <th>969</th>\n",
              "      <td>Frank &amp; Dean Coffee</td>\n",
              "      <td>Cafe de Lipa</td>\n",
              "      <td>UCC Clockwork</td>\n",
              "      <td>Coffee Project</td>\n",
              "      <td>POLYGON ((121.04300 14.55521, 121.05552 14.550...</td>\n",
              "      <td>5442.470451</td>\n",
              "    </tr>\n",
              "  </tbody>\n",
              "</table>\n",
              "</div>\n",
              "      <button class=\"colab-df-convert\" onclick=\"convertToInteractive('df-f5b6f0c7-9483-4a25-b017-f36986769809')\"\n",
              "              title=\"Convert this dataframe to an interactive table.\"\n",
              "              style=\"display:none;\">\n",
              "        \n",
              "  <svg xmlns=\"http://www.w3.org/2000/svg\" height=\"24px\"viewBox=\"0 0 24 24\"\n",
              "       width=\"24px\">\n",
              "    <path d=\"M0 0h24v24H0V0z\" fill=\"none\"/>\n",
              "    <path d=\"M18.56 5.44l.94 2.06.94-2.06 2.06-.94-2.06-.94-.94-2.06-.94 2.06-2.06.94zm-11 1L8.5 8.5l.94-2.06 2.06-.94-2.06-.94L8.5 2.5l-.94 2.06-2.06.94zm10 10l.94 2.06.94-2.06 2.06-.94-2.06-.94-.94-2.06-.94 2.06-2.06.94z\"/><path d=\"M17.41 7.96l-1.37-1.37c-.4-.4-.92-.59-1.43-.59-.52 0-1.04.2-1.43.59L10.3 9.45l-7.72 7.72c-.78.78-.78 2.05 0 2.83L4 21.41c.39.39.9.59 1.41.59.51 0 1.02-.2 1.41-.59l7.78-7.78 2.81-2.81c.8-.78.8-2.07 0-2.86zM5.41 20L4 18.59l7.72-7.72 1.47 1.35L5.41 20z\"/>\n",
              "  </svg>\n",
              "      </button>\n",
              "      \n",
              "  <style>\n",
              "    .colab-df-container {\n",
              "      display:flex;\n",
              "      flex-wrap:wrap;\n",
              "      gap: 12px;\n",
              "    }\n",
              "\n",
              "    .colab-df-convert {\n",
              "      background-color: #E8F0FE;\n",
              "      border: none;\n",
              "      border-radius: 50%;\n",
              "      cursor: pointer;\n",
              "      display: none;\n",
              "      fill: #1967D2;\n",
              "      height: 32px;\n",
              "      padding: 0 0 0 0;\n",
              "      width: 32px;\n",
              "    }\n",
              "\n",
              "    .colab-df-convert:hover {\n",
              "      background-color: #E2EBFA;\n",
              "      box-shadow: 0px 1px 2px rgba(60, 64, 67, 0.3), 0px 1px 3px 1px rgba(60, 64, 67, 0.15);\n",
              "      fill: #174EA6;\n",
              "    }\n",
              "\n",
              "    [theme=dark] .colab-df-convert {\n",
              "      background-color: #3B4455;\n",
              "      fill: #D2E3FC;\n",
              "    }\n",
              "\n",
              "    [theme=dark] .colab-df-convert:hover {\n",
              "      background-color: #434B5C;\n",
              "      box-shadow: 0px 1px 3px 1px rgba(0, 0, 0, 0.15);\n",
              "      filter: drop-shadow(0px 1px 2px rgba(0, 0, 0, 0.3));\n",
              "      fill: #FFFFFF;\n",
              "    }\n",
              "  </style>\n",
              "\n",
              "      <script>\n",
              "        const buttonEl =\n",
              "          document.querySelector('#df-f5b6f0c7-9483-4a25-b017-f36986769809 button.colab-df-convert');\n",
              "        buttonEl.style.display =\n",
              "          google.colab.kernel.accessAllowed ? 'block' : 'none';\n",
              "\n",
              "        async function convertToInteractive(key) {\n",
              "          const element = document.querySelector('#df-f5b6f0c7-9483-4a25-b017-f36986769809');\n",
              "          const dataTable =\n",
              "            await google.colab.kernel.invokeFunction('convertToInteractive',\n",
              "                                                     [key], {});\n",
              "          if (!dataTable) return;\n",
              "\n",
              "          const docLinkHtml = 'Like what you see? Visit the ' +\n",
              "            '<a target=\"_blank\" href=https://colab.research.google.com/notebooks/data_table.ipynb>data table notebook</a>'\n",
              "            + ' to learn more about interactive tables.';\n",
              "          element.innerHTML = '';\n",
              "          dataTable['output_type'] = 'display_data';\n",
              "          await google.colab.output.renderOutput(dataTable, element);\n",
              "          const docLink = document.createElement('div');\n",
              "          docLink.innerHTML = docLinkHtml;\n",
              "          element.appendChild(docLink);\n",
              "        }\n",
              "      </script>\n",
              "    </div>\n",
              "  </div>\n",
              "  "
            ],
            "text/plain": [
              "             cafe_name_1  ... polygon_perimeter_in_meters\n",
              "969  Frank & Dean Coffee  ...                 5442.470451\n",
              "\n",
              "[1 rows x 6 columns]"
            ]
          },
          "metadata": {},
          "execution_count": 48
        }
      ]
    },
    {
      "cell_type": "code",
      "source": [
        "# get_map(THE_GLOBE_TOWER_COORDS, gdf_points, gdf_polygons)"
      ],
      "metadata": {
        "id": "9MPdfTUUiyaW"
      },
      "execution_count": 50,
      "outputs": []
    },
    {
      "cell_type": "markdown",
      "source": [
        "## Write Tested Code\n",
        "Just because you've counted all the trees **doesn't mean you've seen the forest.** 🤔"
      ],
      "metadata": {
        "id": "v3xpkyxixmHr"
      }
    },
    {
      "cell_type": "markdown",
      "source": [
        "Basically, you should write tests for your data science projects because it:\n",
        "- allows collaborators to **understand your code better**\n",
        "- confirms that the code is **working as expected**\n",
        "- helps in detecting **edge cases** or scenarios\n"
      ],
      "metadata": {
        "id": "sMJrBurikgeV"
      }
    },
    {
      "cell_type": "code",
      "source": [
        "from google.colab import drive\n",
        "drive.mount(\"/content/drive/\", force_remount=True)"
      ],
      "metadata": {
        "colab": {
          "base_uri": "https://localhost:8080/"
        },
        "id": "NnaDy7vEqsQV",
        "outputId": "8fb8a77d-43ff-4840-e212-c9f1e53ff6d0"
      },
      "execution_count": 1,
      "outputs": [
        {
          "output_type": "stream",
          "name": "stdout",
          "text": [
            "Mounted at /content/drive/\n"
          ]
        }
      ]
    },
    {
      "cell_type": "code",
      "source": [
        "%cd /content/drive/My Drive/DSP Python Workshop 2022/"
      ],
      "metadata": {
        "colab": {
          "base_uri": "https://localhost:8080/"
        },
        "id": "FIuo0R4lqnWp",
        "outputId": "3c511278-a02b-4a2b-f4d9-5472595beed4"
      },
      "execution_count": 24,
      "outputs": [
        {
          "output_type": "stream",
          "name": "stdout",
          "text": [
            "/content/drive/My Drive/DSP Python Workshop 2022\n"
          ]
        }
      ]
    },
    {
      "cell_type": "markdown",
      "source": [
        "Suppose we have this function that identifies the sentiment of an English text. 🧐"
      ],
      "metadata": {
        "id": "1lgSZEZMcrc8"
      }
    },
    {
      "cell_type": "code",
      "source": [
        "from textblob import TextBlob\n",
        "\n",
        "def extract_sentiment(text: str):\n",
        "    \"\"\"Extract text sentiments using textblob library\n",
        "    Args:\n",
        "        text (str): English text\n",
        "    Returns:\n",
        "        float: Polarity of the sentiment ranging from -1 to 1\n",
        "    \"\"\"\n",
        "\n",
        "    text = TextBlob(text)\n",
        "    sentiment = text.sentiment.polarity\n",
        "    \n",
        "    return sentiment"
      ],
      "metadata": {
        "id": "z5XGMyO1cpAd"
      },
      "execution_count": 46,
      "outputs": []
    },
    {
      "cell_type": "markdown",
      "source": [
        "Since we will be using this library for the first time, we don't know how it reacts to different scenarios. We want to make sure that this tool or model is reliable, so **we will be testing it against multiple text inputs**, from the obvious scenarios to the rare ones or the edge cases."
      ],
      "metadata": {
        "id": "VTk--yB7cl2c"
      }
    },
    {
      "cell_type": "code",
      "source": [
        "extract_sentiment(\"The weather is beautiful today!\")"
      ],
      "metadata": {
        "colab": {
          "base_uri": "https://localhost:8080/"
        },
        "id": "ir5Y-FiweHbG",
        "outputId": "9f123b99-ba52-43f4-cb60-49934ff121a6"
      },
      "execution_count": 47,
      "outputs": [
        {
          "output_type": "execute_result",
          "data": {
            "text/plain": [
              "1.0"
            ]
          },
          "metadata": {},
          "execution_count": 47
        }
      ]
    },
    {
      "cell_type": "code",
      "source": [
        "extract_sentiment(\"I had a bad meeting yesterday.\")"
      ],
      "metadata": {
        "colab": {
          "base_uri": "https://localhost:8080/"
        },
        "id": "H7hHdcEUemh0",
        "outputId": "0a296c34-093d-4252-9bbe-948b59f9aff3"
      },
      "execution_count": 49,
      "outputs": [
        {
          "output_type": "execute_result",
          "data": {
            "text/plain": [
              "-0.6999999999999998"
            ]
          },
          "metadata": {},
          "execution_count": 49
        }
      ]
    },
    {
      "cell_type": "markdown",
      "source": [
        "We want to be able to do this kind of testing next time, but it is better to do it in a modular kind of way. So we will be using *pytest* - it is a **framework that makes it easy to write small, readable tests**, and can scale to support complex functional testing for applications and libraries."
      ],
      "metadata": {
        "id": "VJr0dI6mfCBe"
      }
    },
    {
      "cell_type": "code",
      "source": [
        "ls"
      ],
      "metadata": {
        "colab": {
          "base_uri": "https://localhost:8080/"
        },
        "id": "6Ro89KrWis26",
        "outputId": "8298c698-cf88-429c-ff67-1235d5721023"
      },
      "execution_count": 54,
      "outputs": [
        {
          "output_type": "stream",
          "name": "stdout",
          "text": [
            "\u001b[0m\u001b[01;34mdata\u001b[0m/  \u001b[01;34msrc\u001b[0m/  \u001b[01;34mtests\u001b[0m/\n"
          ]
        }
      ]
    },
    {
      "cell_type": "markdown",
      "source": [
        "This is the structure of our simple test project: <br>\n",
        "\n",
        "> DSP Python Workshop 2022\n",
        "\n",
        ">> src\n",
        ">>> sentiment.py\n",
        "\n",
        ">> tests\n",
        ">>> test_sentiment.py"
      ],
      "metadata": {
        "id": "4E-B3DibcPEc"
      }
    },
    {
      "cell_type": "code",
      "source": [
        "%%file src/sentiment.py\n",
        "\n",
        "from textblob import TextBlob\n",
        "\n",
        "def extract_sentiment(text: str):\n",
        "    \"\"\"Extract text sentiments using textblob library\n",
        "    Args:\n",
        "        text (str): English text\n",
        "    Returns:\n",
        "        float: Polarity of the sentiment ranging from -1 to 1\n",
        "    \"\"\"\n",
        "\n",
        "    text = TextBlob(text)\n",
        "    sentiment = text.sentiment.polarity\n",
        "    \n",
        "    return sentiment"
      ],
      "metadata": {
        "colab": {
          "base_uri": "https://localhost:8080/"
        },
        "id": "zkWnkUx1r9Qw",
        "outputId": "2e08337b-4ee0-4039-f5ee-436d69917dc7"
      },
      "execution_count": 56,
      "outputs": [
        {
          "output_type": "stream",
          "name": "stdout",
          "text": [
            "Overwriting src/sentiment.py\n"
          ]
        }
      ]
    },
    {
      "cell_type": "code",
      "source": [
        "%%file tests/test_sentiment.py\n",
        "\n",
        "import sys\n",
        "import os.path\n",
        "sys.path.append(\n",
        "    os.path.abspath(os.path.join(os.path.dirname(__file__), os.path.pardir))\n",
        ")\n",
        "from src.sentiment import extract_sentiment\n",
        "\n",
        "def test_extract_sentiment_positive():\n",
        "\n",
        "    text = \"I did well on the exam last week.\"\n",
        "    sentiment = extract_sentiment(text)\n",
        "\n",
        "    assert sentiment > 0\n",
        "\n",
        "def test_extract_sentiment_negative():\n",
        "\n",
        "    text = \"This workshop is pretty basic and boring!\"\n",
        "    sentiment = extract_sentiment(text)\n",
        "\n",
        "    assert sentiment < 0\n",
        "\n",
        "def test_extract_sentiment_neutral():\n",
        "\n",
        "    text = \"...\"\n",
        "    sentiment = extract_sentiment(text)\n",
        "\n",
        "    assert sentiment == 0\n",
        "\n",
        "def test_extract_sentiment_filipino():\n",
        "\n",
        "    text = \"Nakakaengganyo pakinggan ang guro namin sa workshop\"\n",
        "    sentiment = extract_sentiment(text)\n",
        "\n",
        "    assert sentiment > 0"
      ],
      "metadata": {
        "colab": {
          "base_uri": "https://localhost:8080/"
        },
        "id": "mAV7BUsXr1YD",
        "outputId": "faa0b76f-b1f1-47b1-b309-bf1f15e4e754"
      },
      "execution_count": 65,
      "outputs": [
        {
          "output_type": "stream",
          "name": "stdout",
          "text": [
            "Overwriting tests/test_sentiment.py\n"
          ]
        }
      ]
    },
    {
      "cell_type": "markdown",
      "source": [
        "We will be calling the *pytest* from the terminal. This will loop through our script and run the functions that have a prefix of **test**. 🤯"
      ],
      "metadata": {
        "id": "1DnTBzB7korp"
      }
    },
    {
      "cell_type": "code",
      "source": [
        "!python3 -m pytest -vv tests/test_sentiment.py"
      ],
      "metadata": {
        "colab": {
          "base_uri": "https://localhost:8080/"
        },
        "id": "uEUhTcrhr6UH",
        "outputId": "1dae3e78-66da-4678-86e8-fcb04a576583"
      },
      "execution_count": 66,
      "outputs": [
        {
          "output_type": "stream",
          "name": "stdout",
          "text": [
            "\u001b[1mTest session starts (platform: linux, Python 3.7.12, pytest 3.6.4, pytest-sugar 0.9.4)\u001b[0m\n",
            "cachedir: .pytest_cache\n",
            "rootdir: /content/drive/MyDrive/DSP Python Workshop 2022, inifile:\n",
            "plugins: typeguard-2.7.1, sugar-0.9.4\n",
            "\n",
            "\n",
            "――――――――――――――――――――――― test_extract_sentiment_positive ――――――――――――――――――――――――\n",
            "\n",
            "\u001b[1m    def test_extract_sentiment_positive():\u001b[0m\n",
            "\u001b[1m    \u001b[0m\n",
            "\u001b[1m        text = \"I did well on the exam last week.\"\u001b[0m\n",
            "\u001b[1m        sentiment = extract_sentiment(text)\u001b[0m\n",
            "\u001b[1m    \u001b[0m\n",
            "\u001b[1m>       assert sentiment > 0\u001b[0m\n",
            "\u001b[1m\u001b[31mE       assert 0.0 > 0\u001b[0m\n",
            "\n",
            "\u001b[1m\u001b[31mtests/test_sentiment.py\u001b[0m:14: AssertionError\n",
            "\n",
            " \u001b[36mtests/test_sentiment.py\u001b[0m::test_extract_sentiment_positive\u001b[0m \u001b[31m⨯\u001b[0m       \u001b[31m25% \u001b[0m\u001b[40m\u001b[31m█\u001b[0m\u001b[40m\u001b[31m█▌       \u001b[0m\n",
            " \u001b[36mtests/test_sentiment.py\u001b[0m::test_extract_sentiment_negative\u001b[0m \u001b[32m✓\u001b[0m       \u001b[31m50% \u001b[0m\u001b[40m\u001b[31m█\u001b[0m\u001b[40m\u001b[31m█\u001b[0m\u001b[40m\u001b[32m█\u001b[0m\u001b[40m\u001b[32m██     \u001b[0m\n",
            " \u001b[36mtests/test_sentiment.py\u001b[0m::test_extract_sentiment_neutral\u001b[0m \u001b[32m✓\u001b[0m        \u001b[31m75% \u001b[0m\u001b[40m\u001b[31m█\u001b[0m\u001b[40m\u001b[31m█\u001b[0m\u001b[40m\u001b[32m█\u001b[0m\u001b[40m\u001b[32m██\u001b[0m\u001b[40m\u001b[32m█\u001b[0m\u001b[40m\u001b[32m█▌  \u001b[0m\n",
            "\n",
            "――――――――――――――――――――――― test_extract_sentiment_filipino ――――――――――――――――――――――――\n",
            "\n",
            "\u001b[1m    def test_extract_sentiment_filipino():\u001b[0m\n",
            "\u001b[1m    \u001b[0m\n",
            "\u001b[1m        text = \"Nakakaengganyo pakinggan ang guro namin sa workshop\"\u001b[0m\n",
            "\u001b[1m        sentiment = extract_sentiment(text)\u001b[0m\n",
            "\u001b[1m    \u001b[0m\n",
            "\u001b[1m>       assert sentiment > 0\u001b[0m\n",
            "\u001b[1m\u001b[31mE       assert 0.0 > 0\u001b[0m\n",
            "\n",
            "\u001b[1m\u001b[31mtests/test_sentiment.py\u001b[0m:35: AssertionError\n",
            "\n",
            " \u001b[36mtests/test_sentiment.py\u001b[0m::test_extract_sentiment_filipino\u001b[0m \u001b[31m⨯\u001b[0m      \u001b[31m100% \u001b[0m\u001b[40m\u001b[31m█\u001b[0m\u001b[40m\u001b[31m█\u001b[0m\u001b[40m\u001b[32m█\u001b[0m\u001b[40m\u001b[32m██\u001b[0m\u001b[40m\u001b[32m█\u001b[0m\u001b[40m\u001b[32m█\u001b[0m\u001b[40m\u001b[31m█\u001b[0m\u001b[40m\u001b[31m██\u001b[0m\n",
            "\n",
            "Results (1.11s):\n",
            "\u001b[32m       2 passed\u001b[0m\n",
            "\u001b[31m       2 failed\u001b[0m\n",
            "         - \u001b[36mtests\u001b[0m/test_sentiment.py\u001b[0m:9 \u001b[31mtest_extract_sentiment_positive\u001b[0m\n",
            "         - \u001b[36mtests\u001b[0m/test_sentiment.py\u001b[0m:30 \u001b[31mtest_extract_sentiment_filipino\u001b[0m\n"
          ]
        }
      ]
    },
    {
      "cell_type": "markdown",
      "source": [
        "From the pytest output shown, we can see the scenarios where the function fails (e.g. the positive and filipino test inputs) and succeeds. From this exercise, **we are not only able to know whether our function works as expected but also know why it doesn’t work.** Based on result of the positive test input, we know that this sentiment identifier model from textblob isn't correct all the time. As the developer, we can now make an informed decision on what to do next. This shows the value of testing your work before using it in production. 🤩"
      ],
      "metadata": {
        "id": "YngkEcwzujbA"
      }
    },
    {
      "cell_type": "markdown",
      "source": [
        "We can also test multiple inputs using ```pytest.mark.parametrize```"
      ],
      "metadata": {
        "id": "xt55hHiys22h"
      }
    },
    {
      "cell_type": "code",
      "source": [
        "%%file tests/test_sentiment.py\n",
        "\n",
        "import sys\n",
        "import os.path\n",
        "sys.path.append(\n",
        "    os.path.abspath(os.path.join(os.path.dirname(__file__), os.path.pardir))\n",
        ")\n",
        "import pytest\n",
        "from src.sentiment import extract_sentiment\n",
        "\n",
        "test_inputs_positive = [\n",
        "    \"I am blessed with a wonderful family.\",\n",
        "    \"I am thankful for my company.\",\n",
        "    \"I am grateful for my friends.\"\n",
        "]\n",
        "\n",
        "test_inputs_negative = [\n",
        "    \"I feel bad for leaving the party early last night.\",\n",
        "    \"I am still disappointed from my performance last week.\",\n",
        "    \"I am too sick to travel tomorrow.\"\n",
        "]\n",
        "\n",
        "@pytest.mark.parametrize(\"text\", test_inputs_positive)\n",
        "def test_extract_sentiment_positive(text):\n",
        "\n",
        "    sentiment = extract_sentiment(text)\n",
        "\n",
        "    assert sentiment > 0\n",
        "\n",
        "@pytest.mark.parametrize(\"text\", test_inputs_negative)\n",
        "def test_extract_sentiment_negative(text):\n",
        "\n",
        "    sentiment = extract_sentiment(text)\n",
        "\n",
        "    assert sentiment < 0"
      ],
      "metadata": {
        "colab": {
          "base_uri": "https://localhost:8080/"
        },
        "id": "jLsCtJHhsfBK",
        "outputId": "81f6a0ea-f00e-4f89-b869-6f42e3e0b88b"
      },
      "execution_count": 78,
      "outputs": [
        {
          "output_type": "stream",
          "name": "stdout",
          "text": [
            "Overwriting tests/test_sentiment.py\n"
          ]
        }
      ]
    },
    {
      "cell_type": "code",
      "source": [
        "!python3 -m pytest -vv tests/test_sentiment.py"
      ],
      "metadata": {
        "colab": {
          "base_uri": "https://localhost:8080/"
        },
        "id": "k4X8LXg9yYi8",
        "outputId": "23b01b25-005a-4f51-9a37-79095895a01e"
      },
      "execution_count": 81,
      "outputs": [
        {
          "output_type": "stream",
          "name": "stdout",
          "text": [
            "\u001b[1mTest session starts (platform: linux, Python 3.7.12, pytest 3.6.4, pytest-sugar 0.9.4)\u001b[0m\n",
            "cachedir: .pytest_cache\n",
            "rootdir: /content/drive/MyDrive/DSP Python Workshop 2022, inifile:\n",
            "plugins: typeguard-2.7.1, sugar-0.9.4\n",
            "\n",
            " \u001b[36mtests/test_sentiment.py\u001b[0m::test_extract_sentiment_positive[I am blessed with a wonderful family.]\u001b[0m \u001b[32m✓\u001b[0m\u001b[32m17% \u001b[0m\u001b[40m\u001b[32m█\u001b[0m\u001b[40m\u001b[32m▋        \u001b[0m\n",
            "\n",
            "―――――――― test_extract_sentiment_positive[I am thankful for my company.] ――――――――\n",
            "\n",
            "text = 'I am thankful for my company.'\n",
            "\n",
            "\u001b[1m    @pytest.mark.parametrize(\"text\", test_inputs_positive)\u001b[0m\n",
            "\u001b[1m    def test_extract_sentiment_positive(text):\u001b[0m\n",
            "\u001b[1m    \u001b[0m\n",
            "\u001b[1m        sentiment = extract_sentiment(text)\u001b[0m\n",
            "\u001b[1m    \u001b[0m\n",
            "\u001b[1m>       assert sentiment > 0\u001b[0m\n",
            "\u001b[1m\u001b[31mE       assert 0.0 > 0\u001b[0m\n",
            "\n",
            "\u001b[1m\u001b[31mtests/test_sentiment.py\u001b[0m:27: AssertionError\n",
            "\n",
            " \u001b[36mtests/test_sentiment.py\u001b[0m::test_extract_sentiment_positive[I am thankful for my company.]\u001b[0m \u001b[31m⨯\u001b[0m\u001b[31m33% \u001b[0m\u001b[40m\u001b[32m█\u001b[0m\u001b[40m\u001b[31m█\u001b[0m\u001b[40m\u001b[31m█▍      \u001b[0m\n",
            "\n",
            "―――――――― test_extract_sentiment_positive[I am grateful for my friends.] ――――――――\n",
            "\n",
            "text = 'I am grateful for my friends.'\n",
            "\n",
            "\u001b[1m    @pytest.mark.parametrize(\"text\", test_inputs_positive)\u001b[0m\n",
            "\u001b[1m    def test_extract_sentiment_positive(text):\u001b[0m\n",
            "\u001b[1m    \u001b[0m\n",
            "\u001b[1m        sentiment = extract_sentiment(text)\u001b[0m\n",
            "\u001b[1m    \u001b[0m\n",
            "\u001b[1m>       assert sentiment > 0\u001b[0m\n",
            "\u001b[1m\u001b[31mE       assert 0.0 > 0\u001b[0m\n",
            "\n",
            "\u001b[1m\u001b[31mtests/test_sentiment.py\u001b[0m:27: AssertionError\n",
            "\n",
            " \u001b[36mtests/test_sentiment.py\u001b[0m::test_extract_sentiment_positive[I am grateful for my friends.]\u001b[0m \u001b[31m⨯\u001b[0m\u001b[31m50% \u001b[0m\u001b[40m\u001b[32m█\u001b[0m\u001b[40m\u001b[31m█\u001b[0m\u001b[40m\u001b[31m█\u001b[0m\u001b[40m\u001b[31m█\u001b[0m\u001b[40m\u001b[31m█     \u001b[0m\n",
            " \u001b[36mtests/test_sentiment.py\u001b[0m::test_extract_sentiment_negative[I feel bad for leaving the party early last night.]\u001b[0m \u001b[32m✓\u001b[0m\u001b[31m67% \u001b[0m\u001b[40m\u001b[32m█\u001b[0m\u001b[40m\u001b[31m█\u001b[0m\u001b[40m\u001b[31m█\u001b[0m\u001b[40m\u001b[31m█\u001b[0m\u001b[40m\u001b[31m█\u001b[0m\u001b[40m\u001b[32m█\u001b[0m\u001b[40m\u001b[32m▋   \u001b[0m\n",
            " \u001b[36mtests/test_sentiment.py\u001b[0m::test_extract_sentiment_negative[I am still disappointed from my performance last week.]\u001b[0m \u001b[32m✓\u001b[0m\u001b[31m83% \u001b[0m\u001b[40m\u001b[32m█\u001b[0m\u001b[40m\u001b[31m█\u001b[0m\u001b[40m\u001b[31m█\u001b[0m\u001b[40m\u001b[31m█\u001b[0m\u001b[40m\u001b[31m█\u001b[0m\u001b[40m\u001b[32m█\u001b[0m\u001b[40m\u001b[32m█\u001b[0m\u001b[40m\u001b[32m█▍ \u001b[0m\n",
            " \u001b[36mtests/test_sentiment.py\u001b[0m::test_extract_sentiment_negative[I am too sick to travel tomorrow.]\u001b[0m \u001b[32m✓\u001b[0m\u001b[31m100% \u001b[0m\u001b[40m\u001b[32m█\u001b[0m\u001b[40m\u001b[31m█\u001b[0m\u001b[40m\u001b[31m█\u001b[0m\u001b[40m\u001b[31m█\u001b[0m\u001b[40m\u001b[31m█\u001b[0m\u001b[40m\u001b[32m█\u001b[0m\u001b[40m\u001b[32m█\u001b[0m\u001b[40m\u001b[32m█\u001b[0m\u001b[40m\u001b[32m█\u001b[0m\u001b[40m\u001b[32m█\u001b[0m\n",
            "\n",
            "Results (1.64s):\n",
            "\u001b[32m       4 passed\u001b[0m\n",
            "\u001b[31m       2 failed\u001b[0m\n",
            "         - \u001b[36mtests\u001b[0m/test_sentiment.py\u001b[0m:22 \u001b[31mtest_extract_sentiment_positive[I am thankful for my company.]\u001b[0m\n",
            "         - \u001b[36mtests\u001b[0m/test_sentiment.py\u001b[0m:22 \u001b[31mtest_extract_sentiment_positive[I am grateful for my friends.]\u001b[0m\n"
          ]
        }
      ]
    },
    {
      "cell_type": "markdown",
      "source": [
        "There comes a time where the test cases in your script will be lengthy and comprehensive. We can choose to run a specific test function one at a time using this syntax ```pytest file.py::function_name```"
      ],
      "metadata": {
        "id": "TWEy80e3xhQ4"
      }
    },
    {
      "cell_type": "code",
      "source": [
        "!python3 -m pytest -vv tests/test_sentiment.py::test_extract_sentiment_positive"
      ],
      "metadata": {
        "colab": {
          "base_uri": "https://localhost:8080/"
        },
        "id": "TEMK0hAkxh-B",
        "outputId": "36f70159-949b-4321-a287-8fdbaac40c67"
      },
      "execution_count": 82,
      "outputs": [
        {
          "output_type": "stream",
          "name": "stdout",
          "text": [
            "\u001b[1mTest session starts (platform: linux, Python 3.7.12, pytest 3.6.4, pytest-sugar 0.9.4)\u001b[0m\n",
            "cachedir: .pytest_cache\n",
            "rootdir: /content/drive/MyDrive/DSP Python Workshop 2022, inifile:\n",
            "plugins: typeguard-2.7.1, sugar-0.9.4\n",
            "\n",
            " \u001b[36mtests/test_sentiment.py\u001b[0m::test_extract_sentiment_positive[I am blessed with a wonderful family.]\u001b[0m \u001b[32m✓\u001b[0m\u001b[32m33% \u001b[0m\u001b[40m\u001b[32m█\u001b[0m\u001b[40m\u001b[32m██▍      \u001b[0m\n",
            "\n",
            "―――――――― test_extract_sentiment_positive[I am thankful for my company.] ――――――――\n",
            "\n",
            "text = 'I am thankful for my company.'\n",
            "\n",
            "\u001b[1m    @pytest.mark.parametrize(\"text\", test_inputs_positive)\u001b[0m\n",
            "\u001b[1m    def test_extract_sentiment_positive(text):\u001b[0m\n",
            "\u001b[1m    \u001b[0m\n",
            "\u001b[1m        sentiment = extract_sentiment(text)\u001b[0m\n",
            "\u001b[1m    \u001b[0m\n",
            "\u001b[1m>       assert sentiment > 0\u001b[0m\n",
            "\u001b[1m\u001b[31mE       assert 0.0 > 0\u001b[0m\n",
            "\n",
            "\u001b[1m\u001b[31mtests/test_sentiment.py\u001b[0m:27: AssertionError\n",
            "\n",
            " \u001b[36mtests/test_sentiment.py\u001b[0m::test_extract_sentiment_positive[I am thankful for my company.]\u001b[0m \u001b[31m⨯\u001b[0m\u001b[31m67% \u001b[0m\u001b[40m\u001b[32m█\u001b[0m\u001b[40m\u001b[32m██\u001b[0m\u001b[40m\u001b[31m█\u001b[0m\u001b[40m\u001b[31m██▋   \u001b[0m\n",
            "\n",
            "―――――――― test_extract_sentiment_positive[I am grateful for my friends.] ――――――――\n",
            "\n",
            "text = 'I am grateful for my friends.'\n",
            "\n",
            "\u001b[1m    @pytest.mark.parametrize(\"text\", test_inputs_positive)\u001b[0m\n",
            "\u001b[1m    def test_extract_sentiment_positive(text):\u001b[0m\n",
            "\u001b[1m    \u001b[0m\n",
            "\u001b[1m        sentiment = extract_sentiment(text)\u001b[0m\n",
            "\u001b[1m    \u001b[0m\n",
            "\u001b[1m>       assert sentiment > 0\u001b[0m\n",
            "\u001b[1m\u001b[31mE       assert 0.0 > 0\u001b[0m\n",
            "\n",
            "\u001b[1m\u001b[31mtests/test_sentiment.py\u001b[0m:27: AssertionError\n",
            "\n",
            " \u001b[36mtests/test_sentiment.py\u001b[0m::test_extract_sentiment_positive[I am grateful for my friends.]\u001b[0m \u001b[31m⨯\u001b[0m\u001b[31m100% \u001b[0m\u001b[40m\u001b[32m█\u001b[0m\u001b[40m\u001b[32m██\u001b[0m\u001b[40m\u001b[31m█\u001b[0m\u001b[40m\u001b[31m██\u001b[0m\u001b[40m\u001b[31m█\u001b[0m\u001b[40m\u001b[31m███\u001b[0m\n",
            "\n",
            "Results (1.19s):\n",
            "\u001b[32m       1 passed\u001b[0m\n",
            "\u001b[31m       2 failed\u001b[0m\n",
            "         - \u001b[36mtests\u001b[0m/test_sentiment.py\u001b[0m:22 \u001b[31mtest_extract_sentiment_positive[I am thankful for my company.]\u001b[0m\n",
            "         - \u001b[36mtests\u001b[0m/test_sentiment.py\u001b[0m:22 \u001b[31mtest_extract_sentiment_positive[I am grateful for my friends.]\u001b[0m\n"
          ]
        }
      ]
    },
    {
      "cell_type": "markdown",
      "source": [
        "We can also choose to use the same test input data to different functions using ```pytest.fixture```"
      ],
      "metadata": {
        "id": "d9yl75i4zDuq"
      }
    },
    {
      "cell_type": "code",
      "source": [
        "%%file tests/test_sentiment.py\n",
        "\n",
        "import sys\n",
        "import os.path\n",
        "sys.path.append(\n",
        "    os.path.abspath(os.path.join(os.path.dirname(__file__), os.path.pardir))\n",
        ")\n",
        "import pytest\n",
        "from src.sentiment import extract_sentiment\n",
        "\n",
        "@pytest.fixture\n",
        "def sample_data():\n",
        "    return \"I had mixed feelings about the concert last night.\"\n",
        "\n",
        "def test_extract_sentiment_positive(sample_data):\n",
        "\n",
        "    sentiment = extract_sentiment(sample_data)\n",
        "\n",
        "    assert sentiment > 0\n",
        "\n",
        "def test_extract_sentiment_negative(sample_data):\n",
        "\n",
        "    sentiment = extract_sentiment(sample_data)\n",
        "\n",
        "    assert sentiment < 0\n",
        "\n",
        "def test_extract_sentiment_neutral(sample_data):\n",
        "\n",
        "    sentiment = extract_sentiment(sample_data)\n",
        "\n",
        "    assert sentiment == 0"
      ],
      "metadata": {
        "colab": {
          "base_uri": "https://localhost:8080/"
        },
        "id": "czPvQBvFxiF5",
        "outputId": "f33c5ecd-ba8c-48a4-fd61-a5585750550e"
      },
      "execution_count": 88,
      "outputs": [
        {
          "output_type": "stream",
          "name": "stdout",
          "text": [
            "Overwriting tests/test_sentiment.py\n"
          ]
        }
      ]
    },
    {
      "cell_type": "code",
      "source": [
        "!python3 -m pytest -vv tests/test_sentiment.py"
      ],
      "metadata": {
        "colab": {
          "base_uri": "https://localhost:8080/"
        },
        "id": "WaZ3e3q9zro9",
        "outputId": "03696cba-29f1-4da3-afa4-3d4e1a696723"
      },
      "execution_count": 89,
      "outputs": [
        {
          "output_type": "stream",
          "name": "stdout",
          "text": [
            "\u001b[1mTest session starts (platform: linux, Python 3.7.12, pytest 3.6.4, pytest-sugar 0.9.4)\u001b[0m\n",
            "cachedir: .pytest_cache\n",
            "rootdir: /content/drive/MyDrive/DSP Python Workshop 2022, inifile:\n",
            "plugins: typeguard-2.7.1, sugar-0.9.4\n",
            "\n",
            "\n",
            "――――――――――――――――――――――― test_extract_sentiment_positive ――――――――――――――――――――――――\n",
            "\n",
            "sample_data = 'I had mixed feelings about the concert last night.'\n",
            "\n",
            "\u001b[1m    def test_extract_sentiment_positive(sample_data):\u001b[0m\n",
            "\u001b[1m    \u001b[0m\n",
            "\u001b[1m        sentiment = extract_sentiment(sample_data)\u001b[0m\n",
            "\u001b[1m    \u001b[0m\n",
            "\u001b[1m>       assert sentiment > 0\u001b[0m\n",
            "\u001b[1m\u001b[31mE       assert 0.0 > 0\u001b[0m\n",
            "\n",
            "\u001b[1m\u001b[31mtests/test_sentiment.py\u001b[0m:18: AssertionError\n",
            "\n",
            " \u001b[36mtests/test_sentiment.py\u001b[0m::test_extract_sentiment_positive\u001b[0m \u001b[31m⨯\u001b[0m       \u001b[31m33% \u001b[0m\u001b[40m\u001b[31m█\u001b[0m\u001b[40m\u001b[31m██▍      \u001b[0m\n",
            "\n",
            "――――――――――――――――――――――― test_extract_sentiment_negative ――――――――――――――――――――――――\n",
            "\n",
            "sample_data = 'I had mixed feelings about the concert last night.'\n",
            "\n",
            "\u001b[1m    def test_extract_sentiment_negative(sample_data):\u001b[0m\n",
            "\u001b[1m    \u001b[0m\n",
            "\u001b[1m        sentiment = extract_sentiment(sample_data)\u001b[0m\n",
            "\u001b[1m    \u001b[0m\n",
            "\u001b[1m>       assert sentiment < 0\u001b[0m\n",
            "\u001b[1m\u001b[31mE       assert 0.0 < 0\u001b[0m\n",
            "\n",
            "\u001b[1m\u001b[31mtests/test_sentiment.py\u001b[0m:24: AssertionError\n",
            "\n",
            " \u001b[36mtests/test_sentiment.py\u001b[0m::test_extract_sentiment_negative\u001b[0m \u001b[31m⨯\u001b[0m       \u001b[31m67% \u001b[0m\u001b[40m\u001b[31m█\u001b[0m\u001b[40m\u001b[31m██\u001b[0m\u001b[40m\u001b[31m█\u001b[0m\u001b[40m\u001b[31m██▋   \u001b[0m\n",
            " \u001b[36mtests/test_sentiment.py\u001b[0m::test_extract_sentiment_neutral\u001b[0m \u001b[32m✓\u001b[0m       \u001b[31m100% \u001b[0m\u001b[40m\u001b[31m█\u001b[0m\u001b[40m\u001b[31m██\u001b[0m\u001b[40m\u001b[31m█\u001b[0m\u001b[40m\u001b[31m██\u001b[0m\u001b[40m\u001b[32m█\u001b[0m\u001b[40m\u001b[32m███\u001b[0m\n",
            "\n",
            "Results (1.10s):\n",
            "\u001b[32m       1 passed\u001b[0m\n",
            "\u001b[31m       2 failed\u001b[0m\n",
            "         - \u001b[36mtests\u001b[0m/test_sentiment.py\u001b[0m:14 \u001b[31mtest_extract_sentiment_positive\u001b[0m\n",
            "         - \u001b[36mtests\u001b[0m/test_sentiment.py\u001b[0m:20 \u001b[31mtest_extract_sentiment_negative\u001b[0m\n"
          ]
        }
      ]
    },
    {
      "cell_type": "markdown",
      "source": [
        "## Write Performant Code\n",
        "Efficiency is doing better what is already being done. 🤔"
      ],
      "metadata": {
        "id": "EXsx9DB00AYW"
      }
    },
    {
      "cell_type": "code",
      "source": [
        ""
      ],
      "metadata": {
        "id": "CJ7kci2mSzKl"
      },
      "execution_count": null,
      "outputs": []
    },
    {
      "cell_type": "markdown",
      "source": [
        "### Python"
      ],
      "metadata": {
        "id": "y4Xjf_Lh3tDw"
      }
    },
    {
      "cell_type": "code",
      "source": [
        ""
      ],
      "metadata": {
        "id": "MB6bCoEK3tSm"
      },
      "execution_count": null,
      "outputs": []
    },
    {
      "cell_type": "markdown",
      "source": [
        "### Pandas"
      ],
      "metadata": {
        "id": "5pnHfsod3xzG"
      }
    },
    {
      "cell_type": "code",
      "source": [
        ""
      ],
      "metadata": {
        "id": "09rYPW403yQI"
      },
      "execution_count": null,
      "outputs": []
    }
  ]
}