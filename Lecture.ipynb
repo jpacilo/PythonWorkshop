{
  "nbformat": 4,
  "nbformat_minor": 0,
  "metadata": {
    "colab": {
      "name": "[Stable Copy] DSP Python Workshop 2022.ipynb",
      "provenance": [],
      "collapsed_sections": [
        "1NqsEYMbtQrI",
        "BdWE3TSdPu_v",
        "0IxIzDKQQebR",
        "v3xpkyxixmHr",
        "EXsx9DB00AYW"
      ],
      "include_colab_link": true
    },
    "kernelspec": {
      "name": "python3",
      "display_name": "Python 3"
    },
    "language_info": {
      "name": "python"
    }
  },
  "cells": [
    {
      "cell_type": "markdown",
      "metadata": {
        "id": "view-in-github",
        "colab_type": "text"
      },
      "source": [
        "<a href=\"https://colab.research.google.com/github/jpacilo/PythonWorkshop/blob/main/Lecture.ipynb\" target=\"_parent\"><img src=\"https://colab.research.google.com/assets/colab-badge.svg\" alt=\"Open In Colab\"/></a>"
      ]
    },
    {
      "cell_type": "markdown",
      "source": [
        "# **Better Practices** in Python For Data Science\n",
        "⚠️ Please make a copy of this colab notebook first by clicking **File -> Save a Copy in Drive** on the menu bar <br>"
      ],
      "metadata": {
        "id": "1xYXxy9ytJnh"
      }
    },
    {
      "cell_type": "markdown",
      "source": [
        "## README\n",
        "\n",
        "**Lecturer**\n",
        "- Joshua Paolo Acilo\n",
        "- Model Development Expert\n",
        "- EDO Advanced Analytics\n",
        "\n",
        "**Schedule**\n",
        "- 2:00 - 3:30 PM Lecture\n",
        "- 3:30 - 3:50 PM Quiz\n",
        "- 3:50 - 4:00 PM Q&A\n",
        "\n",
        "**Reminders**\n",
        "- Feel free to ask questions anytime! You can leave a message in the chatbox or unmute yourself and speak. <br>\n",
        "- This is not an Introduction to Python. I expect everyone to at least know the basics in programming. <br>\n",
        "- You learn more by doing. Try to adopt this new concepts in your workflow next time!\n",
        "\n"
      ],
      "metadata": {
        "id": "1NqsEYMbtQrI"
      }
    },
    {
      "cell_type": "markdown",
      "source": [
        "## What to expect from me in this session"
      ],
      "metadata": {
        "id": "BdWE3TSdPu_v"
      }
    },
    {
      "cell_type": "markdown",
      "source": [
        "This afternoon we're going to talk about 🔬⚽📈♻️"
      ],
      "metadata": {
        "id": "JNfOEmT7P8T-"
      }
    },
    {
      "cell_type": "markdown",
      "source": [
        "## Setup Python"
      ],
      "metadata": {
        "id": "0IxIzDKQQebR"
      }
    },
    {
      "cell_type": "code",
      "source": [
        "# check the current python version you have\n",
        "import sys\n",
        "sys.version"
      ],
      "metadata": {
        "id": "7bSw9y6halM7",
        "colab": {
          "base_uri": "https://localhost:8080/",
          "height": 36
        },
        "outputId": "d7f45d32-4db0-4253-dc77-98acade2cbb0"
      },
      "execution_count": 1,
      "outputs": [
        {
          "output_type": "execute_result",
          "data": {
            "application/vnd.google.colaboratory.intrinsic+json": {
              "type": "string"
            },
            "text/plain": [
              "'3.7.12 (default, Jan 15 2022, 18:48:18) \\n[GCC 7.5.0]'"
            ]
          },
          "metadata": {},
          "execution_count": 1
        }
      ]
    },
    {
      "cell_type": "code",
      "source": [
        "# just to mute the warnings for deprecated methods\n",
        "import warnings\n",
        "warnings.filterwarnings(\"ignore\")"
      ],
      "metadata": {
        "id": "MQFXkYmbdpyV"
      },
      "execution_count": 2,
      "outputs": []
    },
    {
      "cell_type": "code",
      "source": [
        "# pendulum is a library to manipulate dates\n",
        "%%capture\n",
        "!pip3 install pendulum"
      ],
      "metadata": {
        "id": "9MttWE5QQhui"
      },
      "execution_count": 3,
      "outputs": []
    },
    {
      "cell_type": "code",
      "source": [
        "# geopandas is a library to manipulate spatial data\n",
        "%%capture\n",
        "!pip3 install geopandas"
      ],
      "metadata": {
        "id": "YdGh4gw7YNhL"
      },
      "execution_count": 4,
      "outputs": []
    },
    {
      "cell_type": "code",
      "source": [
        "# leafmap is a library to visualize spatial data\n",
        "%%capture\n",
        "!pip3 install leafmap"
      ],
      "metadata": {
        "id": "a9A5RT1Qihlm"
      },
      "execution_count": 5,
      "outputs": []
    },
    {
      "cell_type": "code",
      "source": [
        "# gives nicer output for your tests\n",
        "%%capture\n",
        "!pip3 -q install pytest pytest-sugar"
      ],
      "metadata": {
        "id": "4K-MqRYxrfai"
      },
      "execution_count": 6,
      "outputs": []
    },
    {
      "cell_type": "markdown",
      "source": [
        "## Write Clean Code \n",
        "\n",
        "Any fool can write code that a computer can understand. **Good programmers write code that humans can understand.** 🤔"
      ],
      "metadata": {
        "id": "QtXwWm2Ju6mr"
      }
    },
    {
      "cell_type": "markdown",
      "source": [
        "Recap of some things to note when writing variables. <br>\n",
        "\n",
        "**DON'T(s)**\n",
        "- Thou shall not start with a number. <br>\n",
        "```4ever = True```\n",
        "- Thou shall not use special characters. <br>\n",
        "```amountIn$ = 100```\n",
        "- Thou shall not use reserved keywords. <br>\n",
        "```id = 10012216```\n",
        "\n",
        "**DO(s)**\n",
        "- PEP8 suggests to use snake_case. <br>\n",
        "```lower_case_with_underscores = True```"
      ],
      "metadata": {
        "id": "zJnr4XvZkAfn"
      }
    },
    {
      "cell_type": "markdown",
      "source": [
        "Use **meaningful and pronounceable variable names.** Let the variable speak for itself. 🤯"
      ],
      "metadata": {
        "id": "WyIo8VoTLYvX"
      }
    },
    {
      "cell_type": "code",
      "source": [
        "import pendulum\n",
        "\n",
        "def start_pipeline(date):\n",
        "    # do stuff\n",
        "    pass\n",
        "\n",
        "# this is bad, not only it is unpronounceable, it is also vague and non-descriptive\n",
        "ymddt = pendulum.now().strftime(\"%Y-%m-%d\")\n",
        "start_pipeline(ymddt)\n",
        "\n",
        "# this is good, it gives me clue that the current date controls the timing of the pipeline\n",
        "current_date = pendulum.now().strftime(\"%Y-%m-%d\")\n",
        "start_pipeline(current_date)"
      ],
      "metadata": {
        "id": "UgmX9QhIDQzR"
      },
      "execution_count": null,
      "outputs": []
    },
    {
      "cell_type": "markdown",
      "source": [
        "Of course, there will be some exceptions, especially in **domain-specific jargons.** 🧐"
      ],
      "metadata": {
        "id": "kKBjcYAPDXXh"
      }
    },
    {
      "cell_type": "code",
      "source": [
        "import numpy as np\n",
        "\n",
        "# you'll see this very often in the lake\n",
        "pxn_dt = pendulum.parse(current_date).subtract(days=1)\n",
        "\n",
        "# this is boilerplate ML, so it's okay too\n",
        "X, y = np.arange(10).reshape((5, 2)), range(5)"
      ],
      "metadata": {
        "id": "TsuBSjgLDXQ6"
      },
      "execution_count": null,
      "outputs": []
    },
    {
      "cell_type": "markdown",
      "source": [
        "It is a fact that *we will read more code than we will ever write.* It's important that **the code is readable and searchable.** Yes, we can proceed with the quick and dirty way and get the same result as compared to the slow and cleaner way, but in the long run this will hurt your readers. 😓"
      ],
      "metadata": {
        "id": "dkzK3fLKV-DH"
      }
    },
    {
      "cell_type": "code",
      "source": [
        "def aggregate_features(window_duration):\n",
        "    # do stuff\n",
        "    pass\n",
        "\n",
        "# i'm betting you'll forget this the next time you look at your code\n",
        "aggregate_features(1440)\n",
        "\n",
        "# we can assign a descriptive constant instead denoted by capital letters \n",
        "MINUTES_IN_A_DAY = 60 * 24\n",
        "aggregate_features(MINUTES_IN_A_DAY)"
      ],
      "metadata": {
        "id": "zfb7U7sHV9oQ"
      },
      "execution_count": null,
      "outputs": []
    },
    {
      "cell_type": "markdown",
      "source": [
        "Don't force the reader of your code to translate what the variable means. **Explicit is better than implicit.** 🤔"
      ],
      "metadata": {
        "id": "kEQdf4fYbt43"
      }
    },
    {
      "cell_type": "code",
      "source": [
        "# this is bad, implicit\n",
        "seq = (\"Taguig\", \"Makati\", \"Mandaluyong\")\n",
        "for item in seq:\n",
        "    # do stuff\n",
        "    pass\n",
        "\n",
        "# this is good, explicit\n",
        "cities = (\"Taguig\", \"Makati\", \"Mandaluyong\")\n",
        "for city in cities:\n",
        "    # do stuff\n",
        "    pass"
      ],
      "metadata": {
        "id": "FssfMEUmV0q2"
      },
      "execution_count": null,
      "outputs": []
    },
    {
      "cell_type": "markdown",
      "source": [
        "**Write a manual for your function using docstrings.** This will help not only you in the future, but also your future collaborators. 😉"
      ],
      "metadata": {
        "id": "W-sDa_IQgOEq"
      }
    },
    {
      "cell_type": "code",
      "source": [
        "from math import radians, cos, sin, asin, sqrt\n",
        "\n",
        "# this is good, write docstrings as much as possible to future proof your work\n",
        "def get_haversine_distance(lon1, lat1, lon2, lat2, r=6371):\n",
        "    \"\"\"Calculate the great circle distance (in kilometers) between two points on the earth.\n",
        "\n",
        "    Args:\n",
        "        lon1 (float): Longitude of Point 1\n",
        "        lat1 (float): Latitude of Point 1\n",
        "        lon2 (float): Longitude of Point 2\n",
        "        lat2 (float): Latitude of Point 2\n",
        "        r (int, optional): Radius of earth in kilometers. Defaults to 6371.\n",
        "\n",
        "    Returns:\n",
        "        float: Haversine distance between the two given coordinates.\n",
        "    \"\"\"\n",
        "\n",
        "    # convert decimal degrees to radians \n",
        "    lon1, lat1, lon2, lat2 = map(radians, [lon1, lat1, lon2, lat2])\n",
        "\n",
        "    # haversine formula \n",
        "    dlon = lon2 - lon1 \n",
        "    dlat = lat2 - lat1 \n",
        "    a = sin(dlat/2)**2 + cos(lat1) * cos(lat2) * sin(dlon/2)**2\n",
        "    c = 2 * asin(sqrt(a)) \n",
        "    \n",
        "    return c * r"
      ],
      "metadata": {
        "id": "BJ9H4f9KgN8z"
      },
      "execution_count": null,
      "outputs": []
    },
    {
      "cell_type": "markdown",
      "source": [
        "Your Python **functions should accomplish one thing.** When functions do more than one thing, they are harder to compose, test, and reason about. When you can isolate a function to just one action, they can be refactored easily and your code will read much cleaner."
      ],
      "metadata": {
        "id": "zin0BN-ATZBu"
      }
    },
    {
      "cell_type": "code",
      "source": [
        "mkdir data"
      ],
      "metadata": {
        "id": "U9nI-j8_IHFW"
      },
      "execution_count": null,
      "outputs": []
    },
    {
      "cell_type": "code",
      "source": [
        "cd data"
      ],
      "metadata": {
        "colab": {
          "base_uri": "https://localhost:8080/"
        },
        "id": "5aIwyCgzOIGn",
        "outputId": "a9a56de7-9d64-4be1-85dd-179b0a26847e"
      },
      "execution_count": null,
      "outputs": [
        {
          "output_type": "stream",
          "name": "stdout",
          "text": [
            "/content/data\n"
          ]
        }
      ]
    },
    {
      "cell_type": "code",
      "source": [
        "%%capture\n",
        "from google.colab import files\n",
        "files.upload();"
      ],
      "metadata": {
        "id": "0OiQ-cVpnoGF",
        "colab": {
          "base_uri": "https://localhost:8080/",
          "resources": {
            "http://localhost:8080/nbextensions/google.colab/files.js": {
              "data": "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",
              "ok": true,
              "headers": [
                [
                  "content-type",
                  "application/javascript"
                ]
              ],
              "status": 200,
              "status_text": ""
            }
          },
          "height": 113
        },
        "outputId": "3ba23330-35ea-4c1e-b00d-af27f251039f"
      },
      "execution_count": null,
      "outputs": [
        {
          "output_type": "display_data",
          "data": {
            "text/html": [
              "\n",
              "     <input type=\"file\" id=\"files-19408ea7-819d-42e5-a2bb-260b30093391\" name=\"files[]\" multiple disabled\n",
              "        style=\"border:none\" />\n",
              "     <output id=\"result-19408ea7-819d-42e5-a2bb-260b30093391\">\n",
              "      Upload widget is only available when the cell has been executed in the\n",
              "      current browser session. Please rerun this cell to enable.\n",
              "      </output>\n",
              "      <script src=\"/nbextensions/google.colab/files.js\"></script> "
            ],
            "text/plain": [
              "<IPython.core.display.HTML object>"
            ]
          },
          "metadata": {}
        },
        {
          "output_type": "stream",
          "name": "stdout",
          "text": [
            "Saving cafes_in_bgc.csv to cafes_in_bgc.csv\n"
          ]
        },
        {
          "output_type": "execute_result",
          "data": {
            "text/plain": [
              "{'cafes_in_bgc.csv': b'cafe_name,address,latitude,longitude\\r\\nSingle Origin - Bonifacio High Street,\"C3, Bonifacio Highstreet, 7th Ave\",14.551564,121.049615\\r\\nFrank & Dean Coffee,\"Five/NEO, 31st Street, Taguig, Metro Manila\",14.555208,121.043002\\r\\nCafe de Lipa,\"H324+56C, Taguig, Metro Manila\",14.550452,121.055519\\r\\nUCC Clockwork,\"Burgos Cir, Taguig Metro Manila\",14.55251,121.043906\\r\\nCoffee Project,\"21st Dr, Taguig, 1630 Metro Manila\",14.543019,121.047231\\r\\nStarbucks (Bonifacio High Street),H322+F23,14.551219,121.050066\\r\\nWildflour Cafe + Bakery BGC,\"Ground Floor Six/NEO 4th Avenue, Corner 26th S...\",14.549488,121.04616\\r\\nLuna Cafe,\"Ground Floor, NAC Tower, 32nd St\",14.553146,121.051328\\r\\nMalongo Atelier Barista Philippines,\"3rd Avenue, Lower Ground, One Bonifacio High S...\",14.551821,121.046074\\r\\nHighlands Coffee,\"Arthaland Tower, 5th Ave\",14.552934,121.047843\\r\\nThe Coffee Bean & Tea Leaf,\"4th Floor, Central Square, 5 30th St\",14.552077,121.048455\\r\\nLittle Flour Cafe - BGC,\"Ground Floor, World Plaza 4th Avenue, corner 3...\",14.553609,121.047631\\r\\nSt. Louis Cafe,\"Unit 104-A, Lower ground, C3 Bonifacio High St...\",14.55153,121.049615\\r\\nToby Estate Coffee Roasters,Bonifacio High Street,14.552553,121.04754\\r\\nAivee Cafe,\"3rd Floor, Burgos Park Bldg. BGC City, Forbest...\",14.550355,121.044361\\r\\nThe Lobby Cafe,St. Luke Medical Center Lobby Area,14.554693,121.047782\\r\\nLuna Breakfast & Coffee,\"B6, Bonifacio High Street\",14.549717,121.052641\\r\\nSeattle\\'s Best Coffee,\"G/F,B3,Bonifacio High Street, 9th Ave\",14.550825,121.051332\\r\\nCoffee Bean and Tea Leaf Bistro,26th St,14.549135,121.046761\\r\\nLarry\\'s Cafe and Bar,\"G/F Serendra, McKinley Pkwy\",14.549618,121.053929'}"
            ]
          },
          "metadata": {},
          "execution_count": 14
        }
      ]
    },
    {
      "cell_type": "code",
      "source": [
        "cd /content"
      ],
      "metadata": {
        "colab": {
          "base_uri": "https://localhost:8080/"
        },
        "id": "1uW5DgIzIfzO",
        "outputId": "8e24e6c3-63f5-4c3d-c48c-67dec291e3df"
      },
      "execution_count": null,
      "outputs": [
        {
          "output_type": "stream",
          "name": "stdout",
          "text": [
            "/content\n"
          ]
        }
      ]
    },
    {
      "cell_type": "code",
      "source": [
        "import pandas as pd\n",
        "\n",
        "def load_data(filename, schema):\n",
        "    df = pd.read_csv(filename)\n",
        "    df = df.astype(schema, errors=\"ignore\")\n",
        "    return df\n",
        "\n",
        "filename = \"data/cafes_in_bgc.csv\"\n",
        "schema = {\n",
        "    \"cafe_name\": str,\n",
        "    \"address\": str,\n",
        "    \"latitude\": float,\n",
        "    \"longitude\": float\n",
        "} \n",
        "df = load_data(filename, schema)\n",
        "display(df)"
      ],
      "metadata": {
        "id": "WJAQMt3UWw3O",
        "colab": {
          "base_uri": "https://localhost:8080/",
          "height": 676
        },
        "outputId": "2a46dc47-c5f8-4ee8-e8c4-ad1c0e44d489"
      },
      "execution_count": null,
      "outputs": [
        {
          "output_type": "display_data",
          "data": {
            "text/html": [
              "\n",
              "  <div id=\"df-895a96b2-2672-4053-8b96-e361ba16120f\">\n",
              "    <div class=\"colab-df-container\">\n",
              "      <div>\n",
              "<style scoped>\n",
              "    .dataframe tbody tr th:only-of-type {\n",
              "        vertical-align: middle;\n",
              "    }\n",
              "\n",
              "    .dataframe tbody tr th {\n",
              "        vertical-align: top;\n",
              "    }\n",
              "\n",
              "    .dataframe thead th {\n",
              "        text-align: right;\n",
              "    }\n",
              "</style>\n",
              "<table border=\"1\" class=\"dataframe\">\n",
              "  <thead>\n",
              "    <tr style=\"text-align: right;\">\n",
              "      <th></th>\n",
              "      <th>cafe_name</th>\n",
              "      <th>address</th>\n",
              "      <th>latitude</th>\n",
              "      <th>longitude</th>\n",
              "    </tr>\n",
              "  </thead>\n",
              "  <tbody>\n",
              "    <tr>\n",
              "      <th>0</th>\n",
              "      <td>Single Origin - Bonifacio High Street</td>\n",
              "      <td>C3, Bonifacio Highstreet, 7th Ave</td>\n",
              "      <td>14.551564</td>\n",
              "      <td>121.049615</td>\n",
              "    </tr>\n",
              "    <tr>\n",
              "      <th>1</th>\n",
              "      <td>Frank &amp; Dean Coffee</td>\n",
              "      <td>Five/NEO, 31st Street, Taguig, Metro Manila</td>\n",
              "      <td>14.555208</td>\n",
              "      <td>121.043002</td>\n",
              "    </tr>\n",
              "    <tr>\n",
              "      <th>2</th>\n",
              "      <td>Cafe de Lipa</td>\n",
              "      <td>H324+56C, Taguig, Metro Manila</td>\n",
              "      <td>14.550452</td>\n",
              "      <td>121.055519</td>\n",
              "    </tr>\n",
              "    <tr>\n",
              "      <th>3</th>\n",
              "      <td>UCC Clockwork</td>\n",
              "      <td>Burgos Cir, Taguig Metro Manila</td>\n",
              "      <td>14.552510</td>\n",
              "      <td>121.043906</td>\n",
              "    </tr>\n",
              "    <tr>\n",
              "      <th>4</th>\n",
              "      <td>Coffee Project</td>\n",
              "      <td>21st Dr, Taguig, 1630 Metro Manila</td>\n",
              "      <td>14.543019</td>\n",
              "      <td>121.047231</td>\n",
              "    </tr>\n",
              "    <tr>\n",
              "      <th>5</th>\n",
              "      <td>Starbucks (Bonifacio High Street)</td>\n",
              "      <td>H322+F23</td>\n",
              "      <td>14.551219</td>\n",
              "      <td>121.050066</td>\n",
              "    </tr>\n",
              "    <tr>\n",
              "      <th>6</th>\n",
              "      <td>Wildflour Cafe + Bakery BGC</td>\n",
              "      <td>Ground Floor Six/NEO 4th Avenue, Corner 26th S...</td>\n",
              "      <td>14.549488</td>\n",
              "      <td>121.046160</td>\n",
              "    </tr>\n",
              "    <tr>\n",
              "      <th>7</th>\n",
              "      <td>Luna Cafe</td>\n",
              "      <td>Ground Floor, NAC Tower, 32nd St</td>\n",
              "      <td>14.553146</td>\n",
              "      <td>121.051328</td>\n",
              "    </tr>\n",
              "    <tr>\n",
              "      <th>8</th>\n",
              "      <td>Malongo Atelier Barista Philippines</td>\n",
              "      <td>3rd Avenue, Lower Ground, One Bonifacio High S...</td>\n",
              "      <td>14.551821</td>\n",
              "      <td>121.046074</td>\n",
              "    </tr>\n",
              "    <tr>\n",
              "      <th>9</th>\n",
              "      <td>Highlands Coffee</td>\n",
              "      <td>Arthaland Tower, 5th Ave</td>\n",
              "      <td>14.552934</td>\n",
              "      <td>121.047843</td>\n",
              "    </tr>\n",
              "    <tr>\n",
              "      <th>10</th>\n",
              "      <td>The Coffee Bean &amp; Tea Leaf</td>\n",
              "      <td>4th Floor, Central Square, 5 30th St</td>\n",
              "      <td>14.552077</td>\n",
              "      <td>121.048455</td>\n",
              "    </tr>\n",
              "    <tr>\n",
              "      <th>11</th>\n",
              "      <td>Little Flour Cafe - BGC</td>\n",
              "      <td>Ground Floor, World Plaza 4th Avenue, corner 3...</td>\n",
              "      <td>14.553609</td>\n",
              "      <td>121.047631</td>\n",
              "    </tr>\n",
              "    <tr>\n",
              "      <th>12</th>\n",
              "      <td>St. Louis Cafe</td>\n",
              "      <td>Unit 104-A, Lower ground, C3 Bonifacio High St...</td>\n",
              "      <td>14.551530</td>\n",
              "      <td>121.049615</td>\n",
              "    </tr>\n",
              "    <tr>\n",
              "      <th>13</th>\n",
              "      <td>Toby Estate Coffee Roasters</td>\n",
              "      <td>Bonifacio High Street</td>\n",
              "      <td>14.552553</td>\n",
              "      <td>121.047540</td>\n",
              "    </tr>\n",
              "    <tr>\n",
              "      <th>14</th>\n",
              "      <td>Aivee Cafe</td>\n",
              "      <td>3rd Floor, Burgos Park Bldg. BGC City, Forbest...</td>\n",
              "      <td>14.550355</td>\n",
              "      <td>121.044361</td>\n",
              "    </tr>\n",
              "    <tr>\n",
              "      <th>15</th>\n",
              "      <td>The Lobby Cafe</td>\n",
              "      <td>St. Luke Medical Center Lobby Area</td>\n",
              "      <td>14.554693</td>\n",
              "      <td>121.047782</td>\n",
              "    </tr>\n",
              "    <tr>\n",
              "      <th>16</th>\n",
              "      <td>Luna Breakfast &amp; Coffee</td>\n",
              "      <td>B6, Bonifacio High Street</td>\n",
              "      <td>14.549717</td>\n",
              "      <td>121.052641</td>\n",
              "    </tr>\n",
              "    <tr>\n",
              "      <th>17</th>\n",
              "      <td>Seattle's Best Coffee</td>\n",
              "      <td>G/F,B3,Bonifacio High Street, 9th Ave</td>\n",
              "      <td>14.550825</td>\n",
              "      <td>121.051332</td>\n",
              "    </tr>\n",
              "    <tr>\n",
              "      <th>18</th>\n",
              "      <td>Coffee Bean and Tea Leaf Bistro</td>\n",
              "      <td>26th St</td>\n",
              "      <td>14.549135</td>\n",
              "      <td>121.046761</td>\n",
              "    </tr>\n",
              "    <tr>\n",
              "      <th>19</th>\n",
              "      <td>Larry's Cafe and Bar</td>\n",
              "      <td>G/F Serendra, McKinley Pkwy</td>\n",
              "      <td>14.549618</td>\n",
              "      <td>121.053929</td>\n",
              "    </tr>\n",
              "  </tbody>\n",
              "</table>\n",
              "</div>\n",
              "      <button class=\"colab-df-convert\" onclick=\"convertToInteractive('df-895a96b2-2672-4053-8b96-e361ba16120f')\"\n",
              "              title=\"Convert this dataframe to an interactive table.\"\n",
              "              style=\"display:none;\">\n",
              "        \n",
              "  <svg xmlns=\"http://www.w3.org/2000/svg\" height=\"24px\"viewBox=\"0 0 24 24\"\n",
              "       width=\"24px\">\n",
              "    <path d=\"M0 0h24v24H0V0z\" fill=\"none\"/>\n",
              "    <path d=\"M18.56 5.44l.94 2.06.94-2.06 2.06-.94-2.06-.94-.94-2.06-.94 2.06-2.06.94zm-11 1L8.5 8.5l.94-2.06 2.06-.94-2.06-.94L8.5 2.5l-.94 2.06-2.06.94zm10 10l.94 2.06.94-2.06 2.06-.94-2.06-.94-.94-2.06-.94 2.06-2.06.94z\"/><path d=\"M17.41 7.96l-1.37-1.37c-.4-.4-.92-.59-1.43-.59-.52 0-1.04.2-1.43.59L10.3 9.45l-7.72 7.72c-.78.78-.78 2.05 0 2.83L4 21.41c.39.39.9.59 1.41.59.51 0 1.02-.2 1.41-.59l7.78-7.78 2.81-2.81c.8-.78.8-2.07 0-2.86zM5.41 20L4 18.59l7.72-7.72 1.47 1.35L5.41 20z\"/>\n",
              "  </svg>\n",
              "      </button>\n",
              "      \n",
              "  <style>\n",
              "    .colab-df-container {\n",
              "      display:flex;\n",
              "      flex-wrap:wrap;\n",
              "      gap: 12px;\n",
              "    }\n",
              "\n",
              "    .colab-df-convert {\n",
              "      background-color: #E8F0FE;\n",
              "      border: none;\n",
              "      border-radius: 50%;\n",
              "      cursor: pointer;\n",
              "      display: none;\n",
              "      fill: #1967D2;\n",
              "      height: 32px;\n",
              "      padding: 0 0 0 0;\n",
              "      width: 32px;\n",
              "    }\n",
              "\n",
              "    .colab-df-convert:hover {\n",
              "      background-color: #E2EBFA;\n",
              "      box-shadow: 0px 1px 2px rgba(60, 64, 67, 0.3), 0px 1px 3px 1px rgba(60, 64, 67, 0.15);\n",
              "      fill: #174EA6;\n",
              "    }\n",
              "\n",
              "    [theme=dark] .colab-df-convert {\n",
              "      background-color: #3B4455;\n",
              "      fill: #D2E3FC;\n",
              "    }\n",
              "\n",
              "    [theme=dark] .colab-df-convert:hover {\n",
              "      background-color: #434B5C;\n",
              "      box-shadow: 0px 1px 3px 1px rgba(0, 0, 0, 0.15);\n",
              "      filter: drop-shadow(0px 1px 2px rgba(0, 0, 0, 0.3));\n",
              "      fill: #FFFFFF;\n",
              "    }\n",
              "  </style>\n",
              "\n",
              "      <script>\n",
              "        const buttonEl =\n",
              "          document.querySelector('#df-895a96b2-2672-4053-8b96-e361ba16120f button.colab-df-convert');\n",
              "        buttonEl.style.display =\n",
              "          google.colab.kernel.accessAllowed ? 'block' : 'none';\n",
              "\n",
              "        async function convertToInteractive(key) {\n",
              "          const element = document.querySelector('#df-895a96b2-2672-4053-8b96-e361ba16120f');\n",
              "          const dataTable =\n",
              "            await google.colab.kernel.invokeFunction('convertToInteractive',\n",
              "                                                     [key], {});\n",
              "          if (!dataTable) return;\n",
              "\n",
              "          const docLinkHtml = 'Like what you see? Visit the ' +\n",
              "            '<a target=\"_blank\" href=https://colab.research.google.com/notebooks/data_table.ipynb>data table notebook</a>'\n",
              "            + ' to learn more about interactive tables.';\n",
              "          element.innerHTML = '';\n",
              "          dataTable['output_type'] = 'display_data';\n",
              "          await google.colab.output.renderOutput(dataTable, element);\n",
              "          const docLink = document.createElement('div');\n",
              "          docLink.innerHTML = docLinkHtml;\n",
              "          element.appendChild(docLink);\n",
              "        }\n",
              "      </script>\n",
              "    </div>\n",
              "  </div>\n",
              "  "
            ],
            "text/plain": [
              "                                cafe_name  ...   longitude\n",
              "0   Single Origin - Bonifacio High Street  ...  121.049615\n",
              "1                     Frank & Dean Coffee  ...  121.043002\n",
              "2                            Cafe de Lipa  ...  121.055519\n",
              "3                           UCC Clockwork  ...  121.043906\n",
              "4                          Coffee Project  ...  121.047231\n",
              "5       Starbucks (Bonifacio High Street)  ...  121.050066\n",
              "6             Wildflour Cafe + Bakery BGC  ...  121.046160\n",
              "7                               Luna Cafe  ...  121.051328\n",
              "8     Malongo Atelier Barista Philippines  ...  121.046074\n",
              "9                        Highlands Coffee  ...  121.047843\n",
              "10             The Coffee Bean & Tea Leaf  ...  121.048455\n",
              "11                Little Flour Cafe - BGC  ...  121.047631\n",
              "12                         St. Louis Cafe  ...  121.049615\n",
              "13            Toby Estate Coffee Roasters  ...  121.047540\n",
              "14                             Aivee Cafe  ...  121.044361\n",
              "15                         The Lobby Cafe  ...  121.047782\n",
              "16                Luna Breakfast & Coffee  ...  121.052641\n",
              "17                  Seattle's Best Coffee  ...  121.051332\n",
              "18        Coffee Bean and Tea Leaf Bistro  ...  121.046761\n",
              "19                   Larry's Cafe and Bar  ...  121.053929\n",
              "\n",
              "[20 rows x 4 columns]"
            ]
          },
          "metadata": {}
        }
      ]
    },
    {
      "cell_type": "markdown",
      "source": [
        "Suppose you and your new DSP friends want to go coffee shop hopping in Bonifacio Global City today. Since you only have an hour for lunch break, you decided to only visit (n) shops for now. The task is to find the (n)-closest coffee shops to each other from the given data. 🧩 "
      ],
      "metadata": {
        "id": "ZFOnZlu3Wwsv"
      }
    },
    {
      "cell_type": "code",
      "source": [
        "import leafmap\n",
        "import itertools\n",
        "import geopandas as gpd\n",
        "from shapely.geometry import Polygon"
      ],
      "metadata": {
        "id": "6L1PPJoxYLfj"
      },
      "execution_count": null,
      "outputs": []
    },
    {
      "cell_type": "code",
      "source": [
        "THE_GLOBE_TOWER_COORDS = (14.553474948859346, 121.04989287111896)"
      ],
      "metadata": {
        "id": "_-FhJtClftIe"
      },
      "execution_count": null,
      "outputs": []
    },
    {
      "cell_type": "code",
      "source": [
        "# THIS IS BAD\n",
        "\n",
        "def get_map(df, reference_point, n=3):\n",
        "\n",
        "    # initialize map, set TGT as reference point for BGC\n",
        "    map_select = leafmap.Map(\n",
        "        center=reference_point, \n",
        "        zoom=16, \n",
        "        layers_control=True, \n",
        "        measure_control=False, \n",
        "        attribution_control=False\n",
        "    )\n",
        "    map_select.add_basemap(\"Stamen.TonerLite\")\n",
        "\n",
        "    # get points of interest df\n",
        "    gdf_points = gpd.GeoDataFrame(df, geometry=gpd.points_from_xy(df.longitude, df.latitude, crs=\"EPSG:4326\"))\n",
        "    gdf_points = gdf_points.drop(columns=[\"address\", \"latitude\", \"longitude\"])\n",
        "\n",
        "    cols_gdf = [(f\"cafe_name_{i}\", f\"geometry_{i}\") for i in range(1, n+1)]\n",
        "    cols_gdf = [item for sublist in cols_gdf for item in sublist]\n",
        "    cols_geometry = [col for col in cols_gdf if \"geometry\" in col]\n",
        "\n",
        "    # get all possible combinations of poi(s) e.g. cafe(s)\n",
        "    points_combinations = list(itertools.combinations(gdf_points.values.tolist(), n))\n",
        "    \n",
        "    # get polygons df\n",
        "    gdf_polygons = pd.DataFrame(columns=cols_gdf)\n",
        "    for i, points_combination in enumerate(points_combinations):\n",
        "        gdf_polygons.loc[i] = [item for sublist in points_combination for item in sublist]\n",
        "\n",
        "    # add n-polygon geometry column based from the given points \n",
        "    gdf_polygons[\"geometry\"] = gdf_polygons.apply(lambda x: Polygon([x[col] for col in cols_geometry]), axis=1)\n",
        "    gdf_polygons = gdf_polygons.drop(columns=cols_geometry)\n",
        "\n",
        "    # 4326 for viz, 3857 for distance related calculations\n",
        "    gdf_polygons = gpd.GeoDataFrame(gdf_polygons, crs=\"EPSG:4326\")\n",
        "    gdf_polygons[\"polygon_perimeter_in_meters\"] = gdf_polygons.to_crs(3857)[\"geometry\"].length\n",
        "\n",
        "    # add the points and polygons gdf\n",
        "    map_select.add_gdf(gdf_polygons.sort_values(by=\"polygon_perimeter_in_meters\", ascending=True).head(1), layer_name=\"Smallest Geom\", fill_colors=[\"green\"])\n",
        "    map_select.add_gdf(gdf_polygons.sort_values(by=\"polygon_perimeter_in_meters\", ascending=False).head(1), layer_name=\"Biggest Geom\", fill_colors=[\"red\"])\n",
        "    map_select.add_gdf(gdf_points, layer_name=\"Cafes in BGC\")\n",
        "\n",
        "    return map_select\n"
      ],
      "metadata": {
        "id": "44ejlS75B8hY"
      },
      "execution_count": null,
      "outputs": []
    },
    {
      "cell_type": "code",
      "source": [
        "# THIS IS BETTER\n",
        "\n",
        "def flatten_list(lst):\n",
        "    flattened_list = [item for sublist in lst for item in sublist]\n",
        "    return flattened_list\n",
        "\n",
        "def get_column_names(n, geom):\n",
        "    cols = flatten_list([(f\"cafe_name_{i}\", f\"geometry_{i}\") for i in range(1, n+1)])\n",
        "    if geom:\n",
        "        return [col for col in cols if \"geometry\" in col]\n",
        "    else:\n",
        "        return cols\n",
        "\n",
        "def get_point_combinations(gdf_points, n):\n",
        "    points_combinations = list(itertools.combinations(gdf_points.values.tolist(), n))\n",
        "    return points_combinations\n",
        "\n",
        "def get_gdf_points(df):\n",
        "    gdf_points = gpd.GeoDataFrame(df, geometry=gpd.points_from_xy(df.longitude, df.latitude, crs=\"EPSG:4326\"))\n",
        "    gdf_points = gdf_points.drop(columns=[\"address\", \"latitude\", \"longitude\"])\n",
        "    return gdf_points\n",
        "\n",
        "def get_gdf_polygons(gdf_points, n):\n",
        "    \n",
        "    # get column names\n",
        "    cols_gdf = get_column_names(n, False)\n",
        "    cols_geometry = get_column_names(n, True)\n",
        "\n",
        "    # get all possible combinations of poi(s) e.g. cafe(s)\n",
        "    points_combinations = get_point_combinations(gdf_points, n)\n",
        "\n",
        "    # create polygons table\n",
        "    gdf_polygons = pd.DataFrame(columns=cols_gdf)\n",
        "    for i, points_combination in enumerate(points_combinations):\n",
        "        gdf_polygons.loc[i] = flatten_list(points_combination)\n",
        "\n",
        "    # add n-polygon geometry column based from the given points \n",
        "    gdf_polygons[\"geometry\"] = gdf_polygons.apply(lambda x: Polygon([x[col] for col in cols_geometry]), axis=1)\n",
        "    gdf_polygons = gdf_polygons.drop(columns=cols_geometry)\n",
        "    \n",
        "    # 4326 for viz, 3857 for distance related calculations\n",
        "    gdf_polygons = gpd.GeoDataFrame(gdf_polygons, crs=\"EPSG:4326\")\n",
        "    gdf_polygons[\"polygon_perimeter_in_meters\"] = gdf_polygons.to_crs(3857)[\"geometry\"].length\n",
        "\n",
        "    return gdf_polygons\n",
        "\n",
        "def get_map(reference_point, gdf_points, gdf_polygons):\n",
        "\n",
        "    # initialize map, set TGT as reference point for BGC\n",
        "    map_select = leafmap.Map(\n",
        "        center=reference_point, \n",
        "        zoom=16, \n",
        "        layers_control=True, \n",
        "        measure_control=False, \n",
        "        attribution_control=False\n",
        "    )\n",
        "    map_select.add_basemap(\"Stamen.TonerLite\")\n",
        "\n",
        "    # add the points and polygons gdf\n",
        "    map_select.add_gdf(gdf_polygons.sort_values(by=\"polygon_perimeter_in_meters\", ascending=True).head(1), layer_name=\"Smallest Geom\", fill_colors=[\"green\"])\n",
        "    map_select.add_gdf(gdf_polygons.sort_values(by=\"polygon_perimeter_in_meters\", ascending=False).head(1), layer_name=\"Biggest Geom\", fill_colors=[\"red\"])\n",
        "    map_select.add_gdf(gdf_points, layer_name=\"Cafes in BGC\")\n",
        "\n",
        "    return map_select"
      ],
      "metadata": {
        "id": "mb5jHARBYLdb"
      },
      "execution_count": null,
      "outputs": []
    },
    {
      "cell_type": "code",
      "source": [
        "gdf_points = get_gdf_points(df)\n",
        "gdf_points.head(1)"
      ],
      "metadata": {
        "colab": {
          "base_uri": "https://localhost:8080/",
          "height": 80
        },
        "id": "M5yDjAR8-zz3",
        "outputId": "2f6642a3-ba9a-42c0-f1df-c7d9b9a51637"
      },
      "execution_count": null,
      "outputs": [
        {
          "output_type": "execute_result",
          "data": {
            "text/html": [
              "\n",
              "  <div id=\"df-9fbda80b-1ea2-4f27-85bd-76f5870601aa\">\n",
              "    <div class=\"colab-df-container\">\n",
              "      <div>\n",
              "<style scoped>\n",
              "    .dataframe tbody tr th:only-of-type {\n",
              "        vertical-align: middle;\n",
              "    }\n",
              "\n",
              "    .dataframe tbody tr th {\n",
              "        vertical-align: top;\n",
              "    }\n",
              "\n",
              "    .dataframe thead th {\n",
              "        text-align: right;\n",
              "    }\n",
              "</style>\n",
              "<table border=\"1\" class=\"dataframe\">\n",
              "  <thead>\n",
              "    <tr style=\"text-align: right;\">\n",
              "      <th></th>\n",
              "      <th>cafe_name</th>\n",
              "      <th>geometry</th>\n",
              "    </tr>\n",
              "  </thead>\n",
              "  <tbody>\n",
              "    <tr>\n",
              "      <th>0</th>\n",
              "      <td>Single Origin - Bonifacio High Street</td>\n",
              "      <td>POINT (121.04962 14.55156)</td>\n",
              "    </tr>\n",
              "  </tbody>\n",
              "</table>\n",
              "</div>\n",
              "      <button class=\"colab-df-convert\" onclick=\"convertToInteractive('df-9fbda80b-1ea2-4f27-85bd-76f5870601aa')\"\n",
              "              title=\"Convert this dataframe to an interactive table.\"\n",
              "              style=\"display:none;\">\n",
              "        \n",
              "  <svg xmlns=\"http://www.w3.org/2000/svg\" height=\"24px\"viewBox=\"0 0 24 24\"\n",
              "       width=\"24px\">\n",
              "    <path d=\"M0 0h24v24H0V0z\" fill=\"none\"/>\n",
              "    <path d=\"M18.56 5.44l.94 2.06.94-2.06 2.06-.94-2.06-.94-.94-2.06-.94 2.06-2.06.94zm-11 1L8.5 8.5l.94-2.06 2.06-.94-2.06-.94L8.5 2.5l-.94 2.06-2.06.94zm10 10l.94 2.06.94-2.06 2.06-.94-2.06-.94-.94-2.06-.94 2.06-2.06.94z\"/><path d=\"M17.41 7.96l-1.37-1.37c-.4-.4-.92-.59-1.43-.59-.52 0-1.04.2-1.43.59L10.3 9.45l-7.72 7.72c-.78.78-.78 2.05 0 2.83L4 21.41c.39.39.9.59 1.41.59.51 0 1.02-.2 1.41-.59l7.78-7.78 2.81-2.81c.8-.78.8-2.07 0-2.86zM5.41 20L4 18.59l7.72-7.72 1.47 1.35L5.41 20z\"/>\n",
              "  </svg>\n",
              "      </button>\n",
              "      \n",
              "  <style>\n",
              "    .colab-df-container {\n",
              "      display:flex;\n",
              "      flex-wrap:wrap;\n",
              "      gap: 12px;\n",
              "    }\n",
              "\n",
              "    .colab-df-convert {\n",
              "      background-color: #E8F0FE;\n",
              "      border: none;\n",
              "      border-radius: 50%;\n",
              "      cursor: pointer;\n",
              "      display: none;\n",
              "      fill: #1967D2;\n",
              "      height: 32px;\n",
              "      padding: 0 0 0 0;\n",
              "      width: 32px;\n",
              "    }\n",
              "\n",
              "    .colab-df-convert:hover {\n",
              "      background-color: #E2EBFA;\n",
              "      box-shadow: 0px 1px 2px rgba(60, 64, 67, 0.3), 0px 1px 3px 1px rgba(60, 64, 67, 0.15);\n",
              "      fill: #174EA6;\n",
              "    }\n",
              "\n",
              "    [theme=dark] .colab-df-convert {\n",
              "      background-color: #3B4455;\n",
              "      fill: #D2E3FC;\n",
              "    }\n",
              "\n",
              "    [theme=dark] .colab-df-convert:hover {\n",
              "      background-color: #434B5C;\n",
              "      box-shadow: 0px 1px 3px 1px rgba(0, 0, 0, 0.15);\n",
              "      filter: drop-shadow(0px 1px 2px rgba(0, 0, 0, 0.3));\n",
              "      fill: #FFFFFF;\n",
              "    }\n",
              "  </style>\n",
              "\n",
              "      <script>\n",
              "        const buttonEl =\n",
              "          document.querySelector('#df-9fbda80b-1ea2-4f27-85bd-76f5870601aa button.colab-df-convert');\n",
              "        buttonEl.style.display =\n",
              "          google.colab.kernel.accessAllowed ? 'block' : 'none';\n",
              "\n",
              "        async function convertToInteractive(key) {\n",
              "          const element = document.querySelector('#df-9fbda80b-1ea2-4f27-85bd-76f5870601aa');\n",
              "          const dataTable =\n",
              "            await google.colab.kernel.invokeFunction('convertToInteractive',\n",
              "                                                     [key], {});\n",
              "          if (!dataTable) return;\n",
              "\n",
              "          const docLinkHtml = 'Like what you see? Visit the ' +\n",
              "            '<a target=\"_blank\" href=https://colab.research.google.com/notebooks/data_table.ipynb>data table notebook</a>'\n",
              "            + ' to learn more about interactive tables.';\n",
              "          element.innerHTML = '';\n",
              "          dataTable['output_type'] = 'display_data';\n",
              "          await google.colab.output.renderOutput(dataTable, element);\n",
              "          const docLink = document.createElement('div');\n",
              "          docLink.innerHTML = docLinkHtml;\n",
              "          element.appendChild(docLink);\n",
              "        }\n",
              "      </script>\n",
              "    </div>\n",
              "  </div>\n",
              "  "
            ],
            "text/plain": [
              "                               cafe_name                    geometry\n",
              "0  Single Origin - Bonifacio High Street  POINT (121.04962 14.55156)"
            ]
          },
          "metadata": {},
          "execution_count": 21
        }
      ]
    },
    {
      "cell_type": "code",
      "source": [
        "gdf_polygons = get_gdf_polygons(gdf_points, 4)\n",
        "gdf_polygons.head(1)"
      ],
      "metadata": {
        "colab": {
          "base_uri": "https://localhost:8080/",
          "height": 80
        },
        "id": "dc-s-1_Iim0V",
        "outputId": "7adc55ab-4692-4ef0-9d44-777802f6ba8d"
      },
      "execution_count": null,
      "outputs": [
        {
          "output_type": "execute_result",
          "data": {
            "text/html": [
              "\n",
              "  <div id=\"df-f2c1f26e-434b-4161-b056-935c68a67c2d\">\n",
              "    <div class=\"colab-df-container\">\n",
              "      <div>\n",
              "<style scoped>\n",
              "    .dataframe tbody tr th:only-of-type {\n",
              "        vertical-align: middle;\n",
              "    }\n",
              "\n",
              "    .dataframe tbody tr th {\n",
              "        vertical-align: top;\n",
              "    }\n",
              "\n",
              "    .dataframe thead th {\n",
              "        text-align: right;\n",
              "    }\n",
              "</style>\n",
              "<table border=\"1\" class=\"dataframe\">\n",
              "  <thead>\n",
              "    <tr style=\"text-align: right;\">\n",
              "      <th></th>\n",
              "      <th>cafe_name_1</th>\n",
              "      <th>cafe_name_2</th>\n",
              "      <th>cafe_name_3</th>\n",
              "      <th>cafe_name_4</th>\n",
              "      <th>geometry</th>\n",
              "      <th>polygon_perimeter_in_meters</th>\n",
              "    </tr>\n",
              "  </thead>\n",
              "  <tbody>\n",
              "    <tr>\n",
              "      <th>0</th>\n",
              "      <td>Single Origin - Bonifacio High Street</td>\n",
              "      <td>Frank &amp; Dean Coffee</td>\n",
              "      <td>Cafe de Lipa</td>\n",
              "      <td>UCC Clockwork</td>\n",
              "      <td>POLYGON ((121.04962 14.55156, 121.04300 14.555...</td>\n",
              "      <td>4303.005966</td>\n",
              "    </tr>\n",
              "  </tbody>\n",
              "</table>\n",
              "</div>\n",
              "      <button class=\"colab-df-convert\" onclick=\"convertToInteractive('df-f2c1f26e-434b-4161-b056-935c68a67c2d')\"\n",
              "              title=\"Convert this dataframe to an interactive table.\"\n",
              "              style=\"display:none;\">\n",
              "        \n",
              "  <svg xmlns=\"http://www.w3.org/2000/svg\" height=\"24px\"viewBox=\"0 0 24 24\"\n",
              "       width=\"24px\">\n",
              "    <path d=\"M0 0h24v24H0V0z\" fill=\"none\"/>\n",
              "    <path d=\"M18.56 5.44l.94 2.06.94-2.06 2.06-.94-2.06-.94-.94-2.06-.94 2.06-2.06.94zm-11 1L8.5 8.5l.94-2.06 2.06-.94-2.06-.94L8.5 2.5l-.94 2.06-2.06.94zm10 10l.94 2.06.94-2.06 2.06-.94-2.06-.94-.94-2.06-.94 2.06-2.06.94z\"/><path d=\"M17.41 7.96l-1.37-1.37c-.4-.4-.92-.59-1.43-.59-.52 0-1.04.2-1.43.59L10.3 9.45l-7.72 7.72c-.78.78-.78 2.05 0 2.83L4 21.41c.39.39.9.59 1.41.59.51 0 1.02-.2 1.41-.59l7.78-7.78 2.81-2.81c.8-.78.8-2.07 0-2.86zM5.41 20L4 18.59l7.72-7.72 1.47 1.35L5.41 20z\"/>\n",
              "  </svg>\n",
              "      </button>\n",
              "      \n",
              "  <style>\n",
              "    .colab-df-container {\n",
              "      display:flex;\n",
              "      flex-wrap:wrap;\n",
              "      gap: 12px;\n",
              "    }\n",
              "\n",
              "    .colab-df-convert {\n",
              "      background-color: #E8F0FE;\n",
              "      border: none;\n",
              "      border-radius: 50%;\n",
              "      cursor: pointer;\n",
              "      display: none;\n",
              "      fill: #1967D2;\n",
              "      height: 32px;\n",
              "      padding: 0 0 0 0;\n",
              "      width: 32px;\n",
              "    }\n",
              "\n",
              "    .colab-df-convert:hover {\n",
              "      background-color: #E2EBFA;\n",
              "      box-shadow: 0px 1px 2px rgba(60, 64, 67, 0.3), 0px 1px 3px 1px rgba(60, 64, 67, 0.15);\n",
              "      fill: #174EA6;\n",
              "    }\n",
              "\n",
              "    [theme=dark] .colab-df-convert {\n",
              "      background-color: #3B4455;\n",
              "      fill: #D2E3FC;\n",
              "    }\n",
              "\n",
              "    [theme=dark] .colab-df-convert:hover {\n",
              "      background-color: #434B5C;\n",
              "      box-shadow: 0px 1px 3px 1px rgba(0, 0, 0, 0.15);\n",
              "      filter: drop-shadow(0px 1px 2px rgba(0, 0, 0, 0.3));\n",
              "      fill: #FFFFFF;\n",
              "    }\n",
              "  </style>\n",
              "\n",
              "      <script>\n",
              "        const buttonEl =\n",
              "          document.querySelector('#df-f2c1f26e-434b-4161-b056-935c68a67c2d button.colab-df-convert');\n",
              "        buttonEl.style.display =\n",
              "          google.colab.kernel.accessAllowed ? 'block' : 'none';\n",
              "\n",
              "        async function convertToInteractive(key) {\n",
              "          const element = document.querySelector('#df-f2c1f26e-434b-4161-b056-935c68a67c2d');\n",
              "          const dataTable =\n",
              "            await google.colab.kernel.invokeFunction('convertToInteractive',\n",
              "                                                     [key], {});\n",
              "          if (!dataTable) return;\n",
              "\n",
              "          const docLinkHtml = 'Like what you see? Visit the ' +\n",
              "            '<a target=\"_blank\" href=https://colab.research.google.com/notebooks/data_table.ipynb>data table notebook</a>'\n",
              "            + ' to learn more about interactive tables.';\n",
              "          element.innerHTML = '';\n",
              "          dataTable['output_type'] = 'display_data';\n",
              "          await google.colab.output.renderOutput(dataTable, element);\n",
              "          const docLink = document.createElement('div');\n",
              "          docLink.innerHTML = docLinkHtml;\n",
              "          element.appendChild(docLink);\n",
              "        }\n",
              "      </script>\n",
              "    </div>\n",
              "  </div>\n",
              "  "
            ],
            "text/plain": [
              "                             cafe_name_1  ... polygon_perimeter_in_meters\n",
              "0  Single Origin - Bonifacio High Street  ...                 4303.005966\n",
              "\n",
              "[1 rows x 6 columns]"
            ]
          },
          "metadata": {},
          "execution_count": 22
        }
      ]
    },
    {
      "cell_type": "code",
      "source": [
        "gdf_polygons.sort_values(by=\"polygon_perimeter_in_meters\", ascending=True).head(1)"
      ],
      "metadata": {
        "colab": {
          "base_uri": "https://localhost:8080/",
          "height": 80
        },
        "id": "HcXCE2jyBrM_",
        "outputId": "1c28355a-6cd3-417b-ff3c-ec416dccf071"
      },
      "execution_count": null,
      "outputs": [
        {
          "output_type": "execute_result",
          "data": {
            "text/html": [
              "\n",
              "  <div id=\"df-ee87f935-6282-49d0-8749-283d58b6c8e6\">\n",
              "    <div class=\"colab-df-container\">\n",
              "      <div>\n",
              "<style scoped>\n",
              "    .dataframe tbody tr th:only-of-type {\n",
              "        vertical-align: middle;\n",
              "    }\n",
              "\n",
              "    .dataframe tbody tr th {\n",
              "        vertical-align: top;\n",
              "    }\n",
              "\n",
              "    .dataframe thead th {\n",
              "        text-align: right;\n",
              "    }\n",
              "</style>\n",
              "<table border=\"1\" class=\"dataframe\">\n",
              "  <thead>\n",
              "    <tr style=\"text-align: right;\">\n",
              "      <th></th>\n",
              "      <th>cafe_name_1</th>\n",
              "      <th>cafe_name_2</th>\n",
              "      <th>cafe_name_3</th>\n",
              "      <th>cafe_name_4</th>\n",
              "      <th>geometry</th>\n",
              "      <th>polygon_perimeter_in_meters</th>\n",
              "    </tr>\n",
              "  </thead>\n",
              "  <tbody>\n",
              "    <tr>\n",
              "      <th>561</th>\n",
              "      <td>Single Origin - Bonifacio High Street</td>\n",
              "      <td>Starbucks (Bonifacio High Street)</td>\n",
              "      <td>The Coffee Bean &amp; Tea Leaf</td>\n",
              "      <td>St. Louis Cafe</td>\n",
              "      <td>POLYGON ((121.04962 14.55156, 121.05007 14.551...</td>\n",
              "      <td>416.232713</td>\n",
              "    </tr>\n",
              "  </tbody>\n",
              "</table>\n",
              "</div>\n",
              "      <button class=\"colab-df-convert\" onclick=\"convertToInteractive('df-ee87f935-6282-49d0-8749-283d58b6c8e6')\"\n",
              "              title=\"Convert this dataframe to an interactive table.\"\n",
              "              style=\"display:none;\">\n",
              "        \n",
              "  <svg xmlns=\"http://www.w3.org/2000/svg\" height=\"24px\"viewBox=\"0 0 24 24\"\n",
              "       width=\"24px\">\n",
              "    <path d=\"M0 0h24v24H0V0z\" fill=\"none\"/>\n",
              "    <path d=\"M18.56 5.44l.94 2.06.94-2.06 2.06-.94-2.06-.94-.94-2.06-.94 2.06-2.06.94zm-11 1L8.5 8.5l.94-2.06 2.06-.94-2.06-.94L8.5 2.5l-.94 2.06-2.06.94zm10 10l.94 2.06.94-2.06 2.06-.94-2.06-.94-.94-2.06-.94 2.06-2.06.94z\"/><path d=\"M17.41 7.96l-1.37-1.37c-.4-.4-.92-.59-1.43-.59-.52 0-1.04.2-1.43.59L10.3 9.45l-7.72 7.72c-.78.78-.78 2.05 0 2.83L4 21.41c.39.39.9.59 1.41.59.51 0 1.02-.2 1.41-.59l7.78-7.78 2.81-2.81c.8-.78.8-2.07 0-2.86zM5.41 20L4 18.59l7.72-7.72 1.47 1.35L5.41 20z\"/>\n",
              "  </svg>\n",
              "      </button>\n",
              "      \n",
              "  <style>\n",
              "    .colab-df-container {\n",
              "      display:flex;\n",
              "      flex-wrap:wrap;\n",
              "      gap: 12px;\n",
              "    }\n",
              "\n",
              "    .colab-df-convert {\n",
              "      background-color: #E8F0FE;\n",
              "      border: none;\n",
              "      border-radius: 50%;\n",
              "      cursor: pointer;\n",
              "      display: none;\n",
              "      fill: #1967D2;\n",
              "      height: 32px;\n",
              "      padding: 0 0 0 0;\n",
              "      width: 32px;\n",
              "    }\n",
              "\n",
              "    .colab-df-convert:hover {\n",
              "      background-color: #E2EBFA;\n",
              "      box-shadow: 0px 1px 2px rgba(60, 64, 67, 0.3), 0px 1px 3px 1px rgba(60, 64, 67, 0.15);\n",
              "      fill: #174EA6;\n",
              "    }\n",
              "\n",
              "    [theme=dark] .colab-df-convert {\n",
              "      background-color: #3B4455;\n",
              "      fill: #D2E3FC;\n",
              "    }\n",
              "\n",
              "    [theme=dark] .colab-df-convert:hover {\n",
              "      background-color: #434B5C;\n",
              "      box-shadow: 0px 1px 3px 1px rgba(0, 0, 0, 0.15);\n",
              "      filter: drop-shadow(0px 1px 2px rgba(0, 0, 0, 0.3));\n",
              "      fill: #FFFFFF;\n",
              "    }\n",
              "  </style>\n",
              "\n",
              "      <script>\n",
              "        const buttonEl =\n",
              "          document.querySelector('#df-ee87f935-6282-49d0-8749-283d58b6c8e6 button.colab-df-convert');\n",
              "        buttonEl.style.display =\n",
              "          google.colab.kernel.accessAllowed ? 'block' : 'none';\n",
              "\n",
              "        async function convertToInteractive(key) {\n",
              "          const element = document.querySelector('#df-ee87f935-6282-49d0-8749-283d58b6c8e6');\n",
              "          const dataTable =\n",
              "            await google.colab.kernel.invokeFunction('convertToInteractive',\n",
              "                                                     [key], {});\n",
              "          if (!dataTable) return;\n",
              "\n",
              "          const docLinkHtml = 'Like what you see? Visit the ' +\n",
              "            '<a target=\"_blank\" href=https://colab.research.google.com/notebooks/data_table.ipynb>data table notebook</a>'\n",
              "            + ' to learn more about interactive tables.';\n",
              "          element.innerHTML = '';\n",
              "          dataTable['output_type'] = 'display_data';\n",
              "          await google.colab.output.renderOutput(dataTable, element);\n",
              "          const docLink = document.createElement('div');\n",
              "          docLink.innerHTML = docLinkHtml;\n",
              "          element.appendChild(docLink);\n",
              "        }\n",
              "      </script>\n",
              "    </div>\n",
              "  </div>\n",
              "  "
            ],
            "text/plain": [
              "                               cafe_name_1  ... polygon_perimeter_in_meters\n",
              "561  Single Origin - Bonifacio High Street  ...                  416.232713\n",
              "\n",
              "[1 rows x 6 columns]"
            ]
          },
          "metadata": {},
          "execution_count": 23
        }
      ]
    },
    {
      "cell_type": "code",
      "source": [
        "gdf_polygons.sort_values(by=\"polygon_perimeter_in_meters\", ascending=False).head(1)"
      ],
      "metadata": {
        "colab": {
          "base_uri": "https://localhost:8080/",
          "height": 80
        },
        "id": "XxFZ_OTmBsLU",
        "outputId": "e4d69f35-98ac-4827-f0f3-6ed2a55d7efe"
      },
      "execution_count": null,
      "outputs": [
        {
          "output_type": "execute_result",
          "data": {
            "text/html": [
              "\n",
              "  <div id=\"df-04775187-e4d6-4c06-ae7c-7757759290f7\">\n",
              "    <div class=\"colab-df-container\">\n",
              "      <div>\n",
              "<style scoped>\n",
              "    .dataframe tbody tr th:only-of-type {\n",
              "        vertical-align: middle;\n",
              "    }\n",
              "\n",
              "    .dataframe tbody tr th {\n",
              "        vertical-align: top;\n",
              "    }\n",
              "\n",
              "    .dataframe thead th {\n",
              "        text-align: right;\n",
              "    }\n",
              "</style>\n",
              "<table border=\"1\" class=\"dataframe\">\n",
              "  <thead>\n",
              "    <tr style=\"text-align: right;\">\n",
              "      <th></th>\n",
              "      <th>cafe_name_1</th>\n",
              "      <th>cafe_name_2</th>\n",
              "      <th>cafe_name_3</th>\n",
              "      <th>cafe_name_4</th>\n",
              "      <th>geometry</th>\n",
              "      <th>polygon_perimeter_in_meters</th>\n",
              "    </tr>\n",
              "  </thead>\n",
              "  <tbody>\n",
              "    <tr>\n",
              "      <th>969</th>\n",
              "      <td>Frank &amp; Dean Coffee</td>\n",
              "      <td>Cafe de Lipa</td>\n",
              "      <td>UCC Clockwork</td>\n",
              "      <td>Coffee Project</td>\n",
              "      <td>POLYGON ((121.04300 14.55521, 121.05552 14.550...</td>\n",
              "      <td>5442.486593</td>\n",
              "    </tr>\n",
              "  </tbody>\n",
              "</table>\n",
              "</div>\n",
              "      <button class=\"colab-df-convert\" onclick=\"convertToInteractive('df-04775187-e4d6-4c06-ae7c-7757759290f7')\"\n",
              "              title=\"Convert this dataframe to an interactive table.\"\n",
              "              style=\"display:none;\">\n",
              "        \n",
              "  <svg xmlns=\"http://www.w3.org/2000/svg\" height=\"24px\"viewBox=\"0 0 24 24\"\n",
              "       width=\"24px\">\n",
              "    <path d=\"M0 0h24v24H0V0z\" fill=\"none\"/>\n",
              "    <path d=\"M18.56 5.44l.94 2.06.94-2.06 2.06-.94-2.06-.94-.94-2.06-.94 2.06-2.06.94zm-11 1L8.5 8.5l.94-2.06 2.06-.94-2.06-.94L8.5 2.5l-.94 2.06-2.06.94zm10 10l.94 2.06.94-2.06 2.06-.94-2.06-.94-.94-2.06-.94 2.06-2.06.94z\"/><path d=\"M17.41 7.96l-1.37-1.37c-.4-.4-.92-.59-1.43-.59-.52 0-1.04.2-1.43.59L10.3 9.45l-7.72 7.72c-.78.78-.78 2.05 0 2.83L4 21.41c.39.39.9.59 1.41.59.51 0 1.02-.2 1.41-.59l7.78-7.78 2.81-2.81c.8-.78.8-2.07 0-2.86zM5.41 20L4 18.59l7.72-7.72 1.47 1.35L5.41 20z\"/>\n",
              "  </svg>\n",
              "      </button>\n",
              "      \n",
              "  <style>\n",
              "    .colab-df-container {\n",
              "      display:flex;\n",
              "      flex-wrap:wrap;\n",
              "      gap: 12px;\n",
              "    }\n",
              "\n",
              "    .colab-df-convert {\n",
              "      background-color: #E8F0FE;\n",
              "      border: none;\n",
              "      border-radius: 50%;\n",
              "      cursor: pointer;\n",
              "      display: none;\n",
              "      fill: #1967D2;\n",
              "      height: 32px;\n",
              "      padding: 0 0 0 0;\n",
              "      width: 32px;\n",
              "    }\n",
              "\n",
              "    .colab-df-convert:hover {\n",
              "      background-color: #E2EBFA;\n",
              "      box-shadow: 0px 1px 2px rgba(60, 64, 67, 0.3), 0px 1px 3px 1px rgba(60, 64, 67, 0.15);\n",
              "      fill: #174EA6;\n",
              "    }\n",
              "\n",
              "    [theme=dark] .colab-df-convert {\n",
              "      background-color: #3B4455;\n",
              "      fill: #D2E3FC;\n",
              "    }\n",
              "\n",
              "    [theme=dark] .colab-df-convert:hover {\n",
              "      background-color: #434B5C;\n",
              "      box-shadow: 0px 1px 3px 1px rgba(0, 0, 0, 0.15);\n",
              "      filter: drop-shadow(0px 1px 2px rgba(0, 0, 0, 0.3));\n",
              "      fill: #FFFFFF;\n",
              "    }\n",
              "  </style>\n",
              "\n",
              "      <script>\n",
              "        const buttonEl =\n",
              "          document.querySelector('#df-04775187-e4d6-4c06-ae7c-7757759290f7 button.colab-df-convert');\n",
              "        buttonEl.style.display =\n",
              "          google.colab.kernel.accessAllowed ? 'block' : 'none';\n",
              "\n",
              "        async function convertToInteractive(key) {\n",
              "          const element = document.querySelector('#df-04775187-e4d6-4c06-ae7c-7757759290f7');\n",
              "          const dataTable =\n",
              "            await google.colab.kernel.invokeFunction('convertToInteractive',\n",
              "                                                     [key], {});\n",
              "          if (!dataTable) return;\n",
              "\n",
              "          const docLinkHtml = 'Like what you see? Visit the ' +\n",
              "            '<a target=\"_blank\" href=https://colab.research.google.com/notebooks/data_table.ipynb>data table notebook</a>'\n",
              "            + ' to learn more about interactive tables.';\n",
              "          element.innerHTML = '';\n",
              "          dataTable['output_type'] = 'display_data';\n",
              "          await google.colab.output.renderOutput(dataTable, element);\n",
              "          const docLink = document.createElement('div');\n",
              "          docLink.innerHTML = docLinkHtml;\n",
              "          element.appendChild(docLink);\n",
              "        }\n",
              "      </script>\n",
              "    </div>\n",
              "  </div>\n",
              "  "
            ],
            "text/plain": [
              "             cafe_name_1  ... polygon_perimeter_in_meters\n",
              "969  Frank & Dean Coffee  ...                 5442.486593\n",
              "\n",
              "[1 rows x 6 columns]"
            ]
          },
          "metadata": {},
          "execution_count": 24
        }
      ]
    },
    {
      "cell_type": "code",
      "source": [
        "# get_map(THE_GLOBE_TOWER_COORDS, gdf_points, gdf_polygons)"
      ],
      "metadata": {
        "id": "9MPdfTUUiyaW"
      },
      "execution_count": 114,
      "outputs": []
    },
    {
      "cell_type": "markdown",
      "source": [
        "**WHAT WE'VE COVERED**\n",
        "- How to write clean variables\n",
        "    - Make use of meaningful and pronounceable variable names, if possible.\n",
        "    - Make your code readable and searchable with the use of constants.\n",
        "    - Make use of explicit variable names, especially in lists.\n",
        "- How to write clean functions\n",
        "    - Write docstrings containing the input/output args and description.\n",
        "    - Break down your functions to accomplish one thing. Don't repeat yourself."
      ],
      "metadata": {
        "id": "ygv8yIf3Nq6g"
      }
    },
    {
      "cell_type": "markdown",
      "source": [
        "## Write Tested Code\n",
        "Just because you've counted all the trees **doesn't mean you've seen the forest.** 🤔"
      ],
      "metadata": {
        "id": "v3xpkyxixmHr"
      }
    },
    {
      "cell_type": "markdown",
      "source": [
        "Basically, you should write tests for your data science projects because it:\n",
        "- allows collaborators to **understand your code better**\n",
        "- confirms that the code is **working as expected**\n",
        "- helps in detecting **edge cases** or scenarios\n"
      ],
      "metadata": {
        "id": "sMJrBurikgeV"
      }
    },
    {
      "cell_type": "markdown",
      "source": [
        "Suppose we have this function that identifies the sentiment of an English text. 🧐"
      ],
      "metadata": {
        "id": "1lgSZEZMcrc8"
      }
    },
    {
      "cell_type": "code",
      "source": [
        "from textblob import TextBlob\n",
        "\n",
        "def extract_sentiment(text: str):\n",
        "    \"\"\"Extract text sentiments using textblob library\n",
        "    Args:\n",
        "        text (str): English text\n",
        "    Returns:\n",
        "        float: Polarity of the sentiment ranging from -1 to 1\n",
        "    \"\"\"\n",
        "\n",
        "    text = TextBlob(text)\n",
        "    sentiment = text.sentiment.polarity\n",
        "    \n",
        "    return sentiment"
      ],
      "metadata": {
        "id": "z5XGMyO1cpAd"
      },
      "execution_count": null,
      "outputs": []
    },
    {
      "cell_type": "markdown",
      "source": [
        "Since we will be using this library for the first time, we don't know how it reacts to different scenarios. We want to make sure that this tool or model is reliable, so **we will be testing it against multiple text inputs**, from the obvious scenarios to the rare ones or the edge cases."
      ],
      "metadata": {
        "id": "VTk--yB7cl2c"
      }
    },
    {
      "cell_type": "code",
      "source": [
        "extract_sentiment(\"The weather is beautiful today!\")"
      ],
      "metadata": {
        "colab": {
          "base_uri": "https://localhost:8080/"
        },
        "id": "ir5Y-FiweHbG",
        "outputId": "90c47ba5-c2b7-463e-f771-791632bc8f54"
      },
      "execution_count": null,
      "outputs": [
        {
          "output_type": "execute_result",
          "data": {
            "text/plain": [
              "1.0"
            ]
          },
          "metadata": {},
          "execution_count": 27
        }
      ]
    },
    {
      "cell_type": "code",
      "source": [
        "extract_sentiment(\"I had a bad meeting yesterday.\")"
      ],
      "metadata": {
        "colab": {
          "base_uri": "https://localhost:8080/"
        },
        "id": "H7hHdcEUemh0",
        "outputId": "83762f7d-e2a4-469c-a6d2-c1f25840704d"
      },
      "execution_count": null,
      "outputs": [
        {
          "output_type": "execute_result",
          "data": {
            "text/plain": [
              "-0.6999999999999998"
            ]
          },
          "metadata": {},
          "execution_count": 28
        }
      ]
    },
    {
      "cell_type": "markdown",
      "source": [
        "We want to be able to do this kind of testing next time, but it is better to do it in a modular kind of way. So we will be using *pytest* - it is a **framework that makes it easy to write small, readable tests**, and can scale to support complex functional testing for applications and libraries."
      ],
      "metadata": {
        "id": "VJr0dI6mfCBe"
      }
    },
    {
      "cell_type": "code",
      "source": [
        "mkdir src"
      ],
      "metadata": {
        "id": "ERe2nogTOmWr"
      },
      "execution_count": null,
      "outputs": []
    },
    {
      "cell_type": "code",
      "source": [
        "mkdir tests"
      ],
      "metadata": {
        "id": "GPFjI1csOni_"
      },
      "execution_count": null,
      "outputs": []
    },
    {
      "cell_type": "code",
      "source": [
        "ls"
      ],
      "metadata": {
        "colab": {
          "base_uri": "https://localhost:8080/"
        },
        "id": "6Ro89KrWis26",
        "outputId": "c3cb2780-5fa1-40cf-f81c-49ed3c9b5a43"
      },
      "execution_count": null,
      "outputs": [
        {
          "output_type": "stream",
          "name": "stdout",
          "text": [
            "\u001b[0m\u001b[01;34mdata\u001b[0m/  \u001b[01;34msample_data\u001b[0m/  \u001b[01;34msrc\u001b[0m/  \u001b[01;34mtests\u001b[0m/\n"
          ]
        }
      ]
    },
    {
      "cell_type": "code",
      "source": [
        "%%file src/sentiment.py\n",
        "\n",
        "from textblob import TextBlob\n",
        "\n",
        "def extract_sentiment(text: str):\n",
        "    \"\"\"Extract text sentiments using textblob library\n",
        "    Args:\n",
        "        text (str): English text\n",
        "    Returns:\n",
        "        float: Polarity of the sentiment ranging from -1 to 1\n",
        "    \"\"\"\n",
        "\n",
        "    text = TextBlob(text)\n",
        "    sentiment = text.sentiment.polarity\n",
        "    \n",
        "    return sentiment"
      ],
      "metadata": {
        "colab": {
          "base_uri": "https://localhost:8080/"
        },
        "id": "zkWnkUx1r9Qw",
        "outputId": "6e46ca5f-a611-4634-af86-992fb3e47dda"
      },
      "execution_count": null,
      "outputs": [
        {
          "output_type": "stream",
          "name": "stdout",
          "text": [
            "Writing src/sentiment.py\n"
          ]
        }
      ]
    },
    {
      "cell_type": "code",
      "source": [
        "%%file tests/test_sentiment.py\n",
        "\n",
        "import sys\n",
        "import os.path\n",
        "sys.path.append(\n",
        "    os.path.abspath(os.path.join(os.path.dirname(__file__), os.path.pardir))\n",
        ")\n",
        "from src.sentiment import extract_sentiment\n",
        "\n",
        "def test_extract_sentiment_positive():\n",
        "\n",
        "    text = \"I did well on the exam last week.\"\n",
        "    sentiment = extract_sentiment(text)\n",
        "\n",
        "    assert sentiment > 0\n",
        "\n",
        "def test_extract_sentiment_negative():\n",
        "\n",
        "    text = \"This workshop is pretty basic and boring!\"\n",
        "    sentiment = extract_sentiment(text)\n",
        "\n",
        "    assert sentiment < 0\n",
        "\n",
        "def test_extract_sentiment_neutral():\n",
        "\n",
        "    text = \"...\"\n",
        "    sentiment = extract_sentiment(text)\n",
        "\n",
        "    assert sentiment == 0\n",
        "\n",
        "def test_extract_sentiment_filipino():\n",
        "\n",
        "    text = \"Nakakaengganyo pakinggan ang guro namin sa workshop\"\n",
        "    sentiment = extract_sentiment(text)\n",
        "\n",
        "    assert sentiment > 0"
      ],
      "metadata": {
        "colab": {
          "base_uri": "https://localhost:8080/"
        },
        "id": "mAV7BUsXr1YD",
        "outputId": "d58b6e96-c867-4c5f-c0d9-20c98f7d7c6e"
      },
      "execution_count": null,
      "outputs": [
        {
          "output_type": "stream",
          "name": "stdout",
          "text": [
            "Writing tests/test_sentiment.py\n"
          ]
        }
      ]
    },
    {
      "cell_type": "markdown",
      "source": [
        "We will be calling the *pytest* from the terminal. This will loop through our script and run the functions that have a prefix of **test**. 🤯"
      ],
      "metadata": {
        "id": "1DnTBzB7korp"
      }
    },
    {
      "cell_type": "code",
      "source": [
        "!python3 -m pytest -vv tests/test_sentiment.py"
      ],
      "metadata": {
        "colab": {
          "base_uri": "https://localhost:8080/"
        },
        "id": "uEUhTcrhr6UH",
        "outputId": "9d4ccadc-b8c2-4194-dde9-266c000dd5b5"
      },
      "execution_count": null,
      "outputs": [
        {
          "output_type": "stream",
          "name": "stdout",
          "text": [
            "\u001b[1mTest session starts (platform: linux, Python 3.7.12, pytest 3.6.4, pytest-sugar 0.9.4)\u001b[0m\n",
            "cachedir: .pytest_cache\n",
            "rootdir: /content, inifile:\n",
            "plugins: typeguard-2.7.1, sugar-0.9.4, anyio-3.5.0\n",
            "\n",
            "\n",
            "――――――――――――――――――――――― test_extract_sentiment_positive ――――――――――――――――――――――――\n",
            "\n",
            "\u001b[1m    def test_extract_sentiment_positive():\u001b[0m\n",
            "\u001b[1m    \u001b[0m\n",
            "\u001b[1m        text = \"I did well on the exam last week.\"\u001b[0m\n",
            "\u001b[1m        sentiment = extract_sentiment(text)\u001b[0m\n",
            "\u001b[1m    \u001b[0m\n",
            "\u001b[1m>       assert sentiment > 0\u001b[0m\n",
            "\u001b[1m\u001b[31mE       assert 0.0 > 0\u001b[0m\n",
            "\n",
            "\u001b[1m\u001b[31mtests/test_sentiment.py\u001b[0m:14: AssertionError\n",
            "\n",
            " \u001b[36mtests/test_sentiment.py\u001b[0m::test_extract_sentiment_positive\u001b[0m \u001b[31m⨯\u001b[0m       \u001b[31m25% \u001b[0m\u001b[40m\u001b[31m█\u001b[0m\u001b[40m\u001b[31m█▌       \u001b[0m\n",
            " \u001b[36mtests/test_sentiment.py\u001b[0m::test_extract_sentiment_negative\u001b[0m \u001b[32m✓\u001b[0m       \u001b[31m50% \u001b[0m\u001b[40m\u001b[31m█\u001b[0m\u001b[40m\u001b[31m█\u001b[0m\u001b[40m\u001b[32m█\u001b[0m\u001b[40m\u001b[32m██     \u001b[0m\n",
            " \u001b[36mtests/test_sentiment.py\u001b[0m::test_extract_sentiment_neutral\u001b[0m \u001b[32m✓\u001b[0m        \u001b[31m75% \u001b[0m\u001b[40m\u001b[31m█\u001b[0m\u001b[40m\u001b[31m█\u001b[0m\u001b[40m\u001b[32m█\u001b[0m\u001b[40m\u001b[32m██\u001b[0m\u001b[40m\u001b[32m█\u001b[0m\u001b[40m\u001b[32m█▌  \u001b[0m\n",
            "\n",
            "――――――――――――――――――――――― test_extract_sentiment_filipino ――――――――――――――――――――――――\n",
            "\n",
            "\u001b[1m    def test_extract_sentiment_filipino():\u001b[0m\n",
            "\u001b[1m    \u001b[0m\n",
            "\u001b[1m        text = \"Nakakaengganyo pakinggan ang guro namin sa workshop\"\u001b[0m\n",
            "\u001b[1m        sentiment = extract_sentiment(text)\u001b[0m\n",
            "\u001b[1m    \u001b[0m\n",
            "\u001b[1m>       assert sentiment > 0\u001b[0m\n",
            "\u001b[1m\u001b[31mE       assert 0.0 > 0\u001b[0m\n",
            "\n",
            "\u001b[1m\u001b[31mtests/test_sentiment.py\u001b[0m:35: AssertionError\n",
            "\n",
            " \u001b[36mtests/test_sentiment.py\u001b[0m::test_extract_sentiment_filipino\u001b[0m \u001b[31m⨯\u001b[0m      \u001b[31m100% \u001b[0m\u001b[40m\u001b[31m█\u001b[0m\u001b[40m\u001b[31m█\u001b[0m\u001b[40m\u001b[32m█\u001b[0m\u001b[40m\u001b[32m██\u001b[0m\u001b[40m\u001b[32m█\u001b[0m\u001b[40m\u001b[32m█\u001b[0m\u001b[40m\u001b[31m█\u001b[0m\u001b[40m\u001b[31m██\u001b[0m\n",
            "\n",
            "Results (1.44s):\n",
            "\u001b[32m       2 passed\u001b[0m\n",
            "\u001b[31m       2 failed\u001b[0m\n",
            "         - \u001b[36mtests\u001b[0m/test_sentiment.py\u001b[0m:9 \u001b[31mtest_extract_sentiment_positive\u001b[0m\n",
            "         - \u001b[36mtests\u001b[0m/test_sentiment.py\u001b[0m:30 \u001b[31mtest_extract_sentiment_filipino\u001b[0m\n"
          ]
        }
      ]
    },
    {
      "cell_type": "markdown",
      "source": [
        "From the pytest output shown, we can see the scenarios where the function fails (e.g. the positive and filipino test inputs) and succeeds. From this exercise, **we are not only able to know whether our function works as expected but also know why it doesn’t work.** Based on result of the positive test input, we know that this sentiment identifier model from textblob isn't correct all the time. As the developer, we can now make an informed decision on what to do next. This shows the value of testing your work before using it in production. 🤩"
      ],
      "metadata": {
        "id": "YngkEcwzujbA"
      }
    },
    {
      "cell_type": "markdown",
      "source": [
        "We can also test multiple inputs using ```pytest.mark.parametrize```"
      ],
      "metadata": {
        "id": "xt55hHiys22h"
      }
    },
    {
      "cell_type": "code",
      "source": [
        "%%file tests/test_sentiment.py\n",
        "\n",
        "import sys\n",
        "import os.path\n",
        "sys.path.append(\n",
        "    os.path.abspath(os.path.join(os.path.dirname(__file__), os.path.pardir))\n",
        ")\n",
        "import pytest\n",
        "from src.sentiment import extract_sentiment\n",
        "\n",
        "test_inputs_positive = [\n",
        "    \"I am blessed with a wonderful family.\",\n",
        "    \"I am thankful for my company.\",\n",
        "    \"I am grateful for my friends.\"\n",
        "]\n",
        "\n",
        "test_inputs_negative = [\n",
        "    \"I feel bad for leaving the party early last night.\",\n",
        "    \"I am still disappointed from my performance last week.\",\n",
        "    \"I am too sick to travel tomorrow.\"\n",
        "]\n",
        "\n",
        "@pytest.mark.parametrize(\"text\", test_inputs_positive)\n",
        "def test_extract_sentiment_positive(text):\n",
        "\n",
        "    sentiment = extract_sentiment(text)\n",
        "\n",
        "    assert sentiment > 0\n",
        "\n",
        "@pytest.mark.parametrize(\"text\", test_inputs_negative)\n",
        "def test_extract_sentiment_negative(text):\n",
        "\n",
        "    sentiment = extract_sentiment(text)\n",
        "\n",
        "    assert sentiment < 0"
      ],
      "metadata": {
        "colab": {
          "base_uri": "https://localhost:8080/"
        },
        "id": "jLsCtJHhsfBK",
        "outputId": "1ec9742b-d3b4-4b6e-d5a2-a49c9f08e00b"
      },
      "execution_count": null,
      "outputs": [
        {
          "output_type": "stream",
          "name": "stdout",
          "text": [
            "Overwriting tests/test_sentiment.py\n"
          ]
        }
      ]
    },
    {
      "cell_type": "code",
      "source": [
        "!python3 -m pytest -vv tests/test_sentiment.py"
      ],
      "metadata": {
        "colab": {
          "base_uri": "https://localhost:8080/"
        },
        "id": "k4X8LXg9yYi8",
        "outputId": "ad9382a9-fd31-4729-b7d7-30140987b323"
      },
      "execution_count": null,
      "outputs": [
        {
          "output_type": "stream",
          "name": "stdout",
          "text": [
            "\u001b[1mTest session starts (platform: linux, Python 3.7.12, pytest 3.6.4, pytest-sugar 0.9.4)\u001b[0m\n",
            "cachedir: .pytest_cache\n",
            "rootdir: /content, inifile:\n",
            "plugins: typeguard-2.7.1, sugar-0.9.4, anyio-3.5.0\n",
            "\n",
            " \u001b[36mtests/test_sentiment.py\u001b[0m::test_extract_sentiment_positive[I am blessed with a wonderful family.]\u001b[0m \u001b[32m✓\u001b[0m\u001b[32m17% \u001b[0m\u001b[40m\u001b[32m█\u001b[0m\u001b[40m\u001b[32m▋        \u001b[0m\n",
            "\n",
            "―――――――― test_extract_sentiment_positive[I am thankful for my company.] ――――――――\n",
            "\n",
            "text = 'I am thankful for my company.'\n",
            "\n",
            "\u001b[1m    @pytest.mark.parametrize(\"text\", test_inputs_positive)\u001b[0m\n",
            "\u001b[1m    def test_extract_sentiment_positive(text):\u001b[0m\n",
            "\u001b[1m    \u001b[0m\n",
            "\u001b[1m        sentiment = extract_sentiment(text)\u001b[0m\n",
            "\u001b[1m    \u001b[0m\n",
            "\u001b[1m>       assert sentiment > 0\u001b[0m\n",
            "\u001b[1m\u001b[31mE       assert 0.0 > 0\u001b[0m\n",
            "\n",
            "\u001b[1m\u001b[31mtests/test_sentiment.py\u001b[0m:27: AssertionError\n",
            "\n",
            " \u001b[36mtests/test_sentiment.py\u001b[0m::test_extract_sentiment_positive[I am thankful for my company.]\u001b[0m \u001b[31m⨯\u001b[0m\u001b[31m33% \u001b[0m\u001b[40m\u001b[32m█\u001b[0m\u001b[40m\u001b[31m█\u001b[0m\u001b[40m\u001b[31m█▍      \u001b[0m\n",
            "\n",
            "―――――――― test_extract_sentiment_positive[I am grateful for my friends.] ――――――――\n",
            "\n",
            "text = 'I am grateful for my friends.'\n",
            "\n",
            "\u001b[1m    @pytest.mark.parametrize(\"text\", test_inputs_positive)\u001b[0m\n",
            "\u001b[1m    def test_extract_sentiment_positive(text):\u001b[0m\n",
            "\u001b[1m    \u001b[0m\n",
            "\u001b[1m        sentiment = extract_sentiment(text)\u001b[0m\n",
            "\u001b[1m    \u001b[0m\n",
            "\u001b[1m>       assert sentiment > 0\u001b[0m\n",
            "\u001b[1m\u001b[31mE       assert 0.0 > 0\u001b[0m\n",
            "\n",
            "\u001b[1m\u001b[31mtests/test_sentiment.py\u001b[0m:27: AssertionError\n",
            "\n",
            " \u001b[36mtests/test_sentiment.py\u001b[0m::test_extract_sentiment_positive[I am grateful for my friends.]\u001b[0m \u001b[31m⨯\u001b[0m\u001b[31m50% \u001b[0m\u001b[40m\u001b[32m█\u001b[0m\u001b[40m\u001b[31m█\u001b[0m\u001b[40m\u001b[31m█\u001b[0m\u001b[40m\u001b[31m█\u001b[0m\u001b[40m\u001b[31m█     \u001b[0m\n",
            " \u001b[36mtests/test_sentiment.py\u001b[0m::test_extract_sentiment_negative[I feel bad for leaving the party early last night.]\u001b[0m \u001b[32m✓\u001b[0m\u001b[31m67% \u001b[0m\u001b[40m\u001b[32m█\u001b[0m\u001b[40m\u001b[31m█\u001b[0m\u001b[40m\u001b[31m█\u001b[0m\u001b[40m\u001b[31m█\u001b[0m\u001b[40m\u001b[31m█\u001b[0m\u001b[40m\u001b[32m█\u001b[0m\u001b[40m\u001b[32m▋   \u001b[0m\n",
            " \u001b[36mtests/test_sentiment.py\u001b[0m::test_extract_sentiment_negative[I am still disappointed from my performance last week.]\u001b[0m \u001b[32m✓\u001b[0m\u001b[31m83% \u001b[0m\u001b[40m\u001b[32m█\u001b[0m\u001b[40m\u001b[31m█\u001b[0m\u001b[40m\u001b[31m█\u001b[0m\u001b[40m\u001b[31m█\u001b[0m\u001b[40m\u001b[31m█\u001b[0m\u001b[40m\u001b[32m█\u001b[0m\u001b[40m\u001b[32m█\u001b[0m\u001b[40m\u001b[32m█▍ \u001b[0m\n",
            " \u001b[36mtests/test_sentiment.py\u001b[0m::test_extract_sentiment_negative[I am too sick to travel tomorrow.]\u001b[0m \u001b[32m✓\u001b[0m\u001b[31m100% \u001b[0m\u001b[40m\u001b[32m█\u001b[0m\u001b[40m\u001b[31m█\u001b[0m\u001b[40m\u001b[31m█\u001b[0m\u001b[40m\u001b[31m█\u001b[0m\u001b[40m\u001b[31m█\u001b[0m\u001b[40m\u001b[32m█\u001b[0m\u001b[40m\u001b[32m█\u001b[0m\u001b[40m\u001b[32m█\u001b[0m\u001b[40m\u001b[32m█\u001b[0m\u001b[40m\u001b[32m█\u001b[0m\n",
            "\n",
            "Results (0.93s):\n",
            "\u001b[32m       4 passed\u001b[0m\n",
            "\u001b[31m       2 failed\u001b[0m\n",
            "         - \u001b[36mtests\u001b[0m/test_sentiment.py\u001b[0m:22 \u001b[31mtest_extract_sentiment_positive[I am thankful for my company.]\u001b[0m\n",
            "         - \u001b[36mtests\u001b[0m/test_sentiment.py\u001b[0m:22 \u001b[31mtest_extract_sentiment_positive[I am grateful for my friends.]\u001b[0m\n"
          ]
        }
      ]
    },
    {
      "cell_type": "markdown",
      "source": [
        "There comes a time where the test cases in your script will be lengthy and comprehensive. We can choose to run a specific test function one at a time using this syntax ```pytest file.py::function_name```"
      ],
      "metadata": {
        "id": "TWEy80e3xhQ4"
      }
    },
    {
      "cell_type": "code",
      "source": [
        "!python3 -m pytest -vv tests/test_sentiment.py::test_extract_sentiment_positive"
      ],
      "metadata": {
        "colab": {
          "base_uri": "https://localhost:8080/"
        },
        "id": "TEMK0hAkxh-B",
        "outputId": "a35e27be-2bfd-41e7-d907-dd2ebe7ef69a"
      },
      "execution_count": null,
      "outputs": [
        {
          "output_type": "stream",
          "name": "stdout",
          "text": [
            "\u001b[1mTest session starts (platform: linux, Python 3.7.12, pytest 3.6.4, pytest-sugar 0.9.4)\u001b[0m\n",
            "cachedir: .pytest_cache\n",
            "rootdir: /content, inifile:\n",
            "plugins: typeguard-2.7.1, sugar-0.9.4, anyio-3.5.0\n",
            "\n",
            " \u001b[36mtests/test_sentiment.py\u001b[0m::test_extract_sentiment_positive[I am blessed with a wonderful family.]\u001b[0m \u001b[32m✓\u001b[0m\u001b[32m33% \u001b[0m\u001b[40m\u001b[32m█\u001b[0m\u001b[40m\u001b[32m██▍      \u001b[0m\n",
            "\n",
            "―――――――― test_extract_sentiment_positive[I am thankful for my company.] ――――――――\n",
            "\n",
            "text = 'I am thankful for my company.'\n",
            "\n",
            "\u001b[1m    @pytest.mark.parametrize(\"text\", test_inputs_positive)\u001b[0m\n",
            "\u001b[1m    def test_extract_sentiment_positive(text):\u001b[0m\n",
            "\u001b[1m    \u001b[0m\n",
            "\u001b[1m        sentiment = extract_sentiment(text)\u001b[0m\n",
            "\u001b[1m    \u001b[0m\n",
            "\u001b[1m>       assert sentiment > 0\u001b[0m\n",
            "\u001b[1m\u001b[31mE       assert 0.0 > 0\u001b[0m\n",
            "\n",
            "\u001b[1m\u001b[31mtests/test_sentiment.py\u001b[0m:27: AssertionError\n",
            "\n",
            " \u001b[36mtests/test_sentiment.py\u001b[0m::test_extract_sentiment_positive[I am thankful for my company.]\u001b[0m \u001b[31m⨯\u001b[0m\u001b[31m67% \u001b[0m\u001b[40m\u001b[32m█\u001b[0m\u001b[40m\u001b[32m██\u001b[0m\u001b[40m\u001b[31m█\u001b[0m\u001b[40m\u001b[31m██▋   \u001b[0m\n",
            "\n",
            "―――――――― test_extract_sentiment_positive[I am grateful for my friends.] ――――――――\n",
            "\n",
            "text = 'I am grateful for my friends.'\n",
            "\n",
            "\u001b[1m    @pytest.mark.parametrize(\"text\", test_inputs_positive)\u001b[0m\n",
            "\u001b[1m    def test_extract_sentiment_positive(text):\u001b[0m\n",
            "\u001b[1m    \u001b[0m\n",
            "\u001b[1m        sentiment = extract_sentiment(text)\u001b[0m\n",
            "\u001b[1m    \u001b[0m\n",
            "\u001b[1m>       assert sentiment > 0\u001b[0m\n",
            "\u001b[1m\u001b[31mE       assert 0.0 > 0\u001b[0m\n",
            "\n",
            "\u001b[1m\u001b[31mtests/test_sentiment.py\u001b[0m:27: AssertionError\n",
            "\n",
            " \u001b[36mtests/test_sentiment.py\u001b[0m::test_extract_sentiment_positive[I am grateful for my friends.]\u001b[0m \u001b[31m⨯\u001b[0m\u001b[31m100% \u001b[0m\u001b[40m\u001b[32m█\u001b[0m\u001b[40m\u001b[32m██\u001b[0m\u001b[40m\u001b[31m█\u001b[0m\u001b[40m\u001b[31m██\u001b[0m\u001b[40m\u001b[31m█\u001b[0m\u001b[40m\u001b[31m███\u001b[0m\n",
            "\n",
            "Results (0.90s):\n",
            "\u001b[32m       1 passed\u001b[0m\n",
            "\u001b[31m       2 failed\u001b[0m\n",
            "         - \u001b[36mtests\u001b[0m/test_sentiment.py\u001b[0m:22 \u001b[31mtest_extract_sentiment_positive[I am thankful for my company.]\u001b[0m\n",
            "         - \u001b[36mtests\u001b[0m/test_sentiment.py\u001b[0m:22 \u001b[31mtest_extract_sentiment_positive[I am grateful for my friends.]\u001b[0m\n"
          ]
        }
      ]
    },
    {
      "cell_type": "markdown",
      "source": [
        "We can also choose to use the same test input data to different functions using ```pytest.fixture```"
      ],
      "metadata": {
        "id": "d9yl75i4zDuq"
      }
    },
    {
      "cell_type": "code",
      "source": [
        "%%file tests/test_sentiment.py\n",
        "\n",
        "import sys\n",
        "import os.path\n",
        "sys.path.append(\n",
        "    os.path.abspath(os.path.join(os.path.dirname(__file__), os.path.pardir))\n",
        ")\n",
        "import pytest\n",
        "from src.sentiment import extract_sentiment\n",
        "\n",
        "@pytest.fixture\n",
        "def sample_data():\n",
        "    return \"I had mixed feelings about the concert last night.\"\n",
        "\n",
        "def test_extract_sentiment_positive(sample_data):\n",
        "\n",
        "    sentiment = extract_sentiment(sample_data)\n",
        "\n",
        "    assert sentiment > 0\n",
        "\n",
        "def test_extract_sentiment_negative(sample_data):\n",
        "\n",
        "    sentiment = extract_sentiment(sample_data)\n",
        "\n",
        "    assert sentiment < 0\n",
        "\n",
        "def test_extract_sentiment_neutral(sample_data):\n",
        "\n",
        "    sentiment = extract_sentiment(sample_data)\n",
        "\n",
        "    assert sentiment == 0"
      ],
      "metadata": {
        "colab": {
          "base_uri": "https://localhost:8080/"
        },
        "id": "czPvQBvFxiF5",
        "outputId": "e6e27898-777e-451a-b850-c77a6837f41e"
      },
      "execution_count": null,
      "outputs": [
        {
          "output_type": "stream",
          "name": "stdout",
          "text": [
            "Overwriting tests/test_sentiment.py\n"
          ]
        }
      ]
    },
    {
      "cell_type": "code",
      "source": [
        "!python3 -m pytest -vv tests/test_sentiment.py"
      ],
      "metadata": {
        "colab": {
          "base_uri": "https://localhost:8080/"
        },
        "id": "WaZ3e3q9zro9",
        "outputId": "8d83be16-9f73-414d-c7db-88456504893f"
      },
      "execution_count": null,
      "outputs": [
        {
          "output_type": "stream",
          "name": "stdout",
          "text": [
            "\u001b[1mTest session starts (platform: linux, Python 3.7.12, pytest 3.6.4, pytest-sugar 0.9.4)\u001b[0m\n",
            "cachedir: .pytest_cache\n",
            "rootdir: /content, inifile:\n",
            "plugins: typeguard-2.7.1, sugar-0.9.4, anyio-3.5.0\n",
            "\n",
            "\n",
            "――――――――――――――――――――――― test_extract_sentiment_positive ――――――――――――――――――――――――\n",
            "\n",
            "sample_data = 'I had mixed feelings about the concert last night.'\n",
            "\n",
            "\u001b[1m    def test_extract_sentiment_positive(sample_data):\u001b[0m\n",
            "\u001b[1m    \u001b[0m\n",
            "\u001b[1m        sentiment = extract_sentiment(sample_data)\u001b[0m\n",
            "\u001b[1m    \u001b[0m\n",
            "\u001b[1m>       assert sentiment > 0\u001b[0m\n",
            "\u001b[1m\u001b[31mE       assert 0.0 > 0\u001b[0m\n",
            "\n",
            "\u001b[1m\u001b[31mtests/test_sentiment.py\u001b[0m:18: AssertionError\n",
            "\n",
            " \u001b[36mtests/test_sentiment.py\u001b[0m::test_extract_sentiment_positive\u001b[0m \u001b[31m⨯\u001b[0m       \u001b[31m33% \u001b[0m\u001b[40m\u001b[31m█\u001b[0m\u001b[40m\u001b[31m██▍      \u001b[0m\n",
            "\n",
            "――――――――――――――――――――――― test_extract_sentiment_negative ――――――――――――――――――――――――\n",
            "\n",
            "sample_data = 'I had mixed feelings about the concert last night.'\n",
            "\n",
            "\u001b[1m    def test_extract_sentiment_negative(sample_data):\u001b[0m\n",
            "\u001b[1m    \u001b[0m\n",
            "\u001b[1m        sentiment = extract_sentiment(sample_data)\u001b[0m\n",
            "\u001b[1m    \u001b[0m\n",
            "\u001b[1m>       assert sentiment < 0\u001b[0m\n",
            "\u001b[1m\u001b[31mE       assert 0.0 < 0\u001b[0m\n",
            "\n",
            "\u001b[1m\u001b[31mtests/test_sentiment.py\u001b[0m:24: AssertionError\n",
            "\n",
            " \u001b[36mtests/test_sentiment.py\u001b[0m::test_extract_sentiment_negative\u001b[0m \u001b[31m⨯\u001b[0m       \u001b[31m67% \u001b[0m\u001b[40m\u001b[31m█\u001b[0m\u001b[40m\u001b[31m██\u001b[0m\u001b[40m\u001b[31m█\u001b[0m\u001b[40m\u001b[31m██▋   \u001b[0m\n",
            " \u001b[36mtests/test_sentiment.py\u001b[0m::test_extract_sentiment_neutral\u001b[0m \u001b[32m✓\u001b[0m       \u001b[31m100% \u001b[0m\u001b[40m\u001b[31m█\u001b[0m\u001b[40m\u001b[31m██\u001b[0m\u001b[40m\u001b[31m█\u001b[0m\u001b[40m\u001b[31m██\u001b[0m\u001b[40m\u001b[32m█\u001b[0m\u001b[40m\u001b[32m███\u001b[0m\n",
            "\n",
            "Results (0.92s):\n",
            "\u001b[32m       1 passed\u001b[0m\n",
            "\u001b[31m       2 failed\u001b[0m\n",
            "         - \u001b[36mtests\u001b[0m/test_sentiment.py\u001b[0m:14 \u001b[31mtest_extract_sentiment_positive\u001b[0m\n",
            "         - \u001b[36mtests\u001b[0m/test_sentiment.py\u001b[0m:20 \u001b[31mtest_extract_sentiment_negative\u001b[0m\n"
          ]
        }
      ]
    },
    {
      "cell_type": "markdown",
      "source": [
        "**WHAT WE'VE COVERED**\n",
        "- How to structure a basic test project\n",
        "- How to use pytest in automating tests\n",
        "    - How to run pytest and understand its results\n",
        "    - How to test multiple inputs using pytest.mark.parametrize\n",
        "    - How to pass common data to different functions using pytest.fixture"
      ],
      "metadata": {
        "id": "Y9K1XW0RMzFn"
      }
    },
    {
      "cell_type": "markdown",
      "source": [
        "## Write Performant Code\n",
        "Efficiency is **doing better** what is already being done. 🤔"
      ],
      "metadata": {
        "id": "EXsx9DB00AYW"
      }
    },
    {
      "cell_type": "markdown",
      "source": [
        "On the following sections, we will be discussing some tips and tricks on **how to better optimize your code in terms of speed and memory utilization using the pandas library.** As developers, it pays off for us to read the official documentation of the packages we frequently use, it enables us to leverage on its strengths and quirks which improves the efficiency of our default processes, and who knows, maybe we'll discover something we can improve on in our future projects that we can share with everyone in the community! 😁"
      ],
      "metadata": {
        "id": "CJ7kci2mSzKl"
      }
    },
    {
      "cell_type": "code",
      "source": [
        "import pandas as pd\n",
        "pd.__version__"
      ],
      "metadata": {
        "colab": {
          "base_uri": "https://localhost:8080/",
          "height": 36
        },
        "id": "bqo-ArDMtm7y",
        "outputId": "ef54c943-3674-4944-c034-ac88219a3f23"
      },
      "execution_count": 52,
      "outputs": [
        {
          "output_type": "execute_result",
          "data": {
            "application/vnd.google.colaboratory.intrinsic+json": {
              "type": "string"
            },
            "text/plain": [
              "'1.3.5'"
            ]
          },
          "metadata": {},
          "execution_count": 52
        }
      ]
    },
    {
      "cell_type": "markdown",
      "source": [
        "The key data structure in pandas is called a ```DataFrame```. It is a two-dimensional table with rows and columns, which is similar to the tables in relational databases and R's dataframe. **One important thing to know is that pandas is column-major**, which means *consecutive elements in a column are stored next to each other in memory.* Since modern computers process sequential data more efficiently than non sequential data, **if a table is column-major, accessing its columns will be much faster than accessing its rows.** 🤯"
      ],
      "metadata": {
        "id": "pf3a8AJiL398"
      }
    },
    {
      "cell_type": "markdown",
      "source": [
        "To demonstrate this particular quirk of pandas, we will be using the **taxis dataset** that is readily available in the ```seaborn``` package."
      ],
      "metadata": {
        "id": "WtEcd5DMOseL"
      }
    },
    {
      "cell_type": "code",
      "source": [
        "import seaborn as sns\n",
        "sns.get_dataset_names()"
      ],
      "metadata": {
        "colab": {
          "base_uri": "https://localhost:8080/"
        },
        "id": "T7ItYNlCDrOf",
        "outputId": "02ec6ea1-54dc-4ca2-8954-47826891e018"
      },
      "execution_count": 57,
      "outputs": [
        {
          "output_type": "execute_result",
          "data": {
            "text/plain": [
              "['anagrams',\n",
              " 'anscombe',\n",
              " 'attention',\n",
              " 'brain_networks',\n",
              " 'car_crashes',\n",
              " 'diamonds',\n",
              " 'dots',\n",
              " 'exercise',\n",
              " 'flights',\n",
              " 'fmri',\n",
              " 'gammas',\n",
              " 'geyser',\n",
              " 'iris',\n",
              " 'mpg',\n",
              " 'penguins',\n",
              " 'planets',\n",
              " 'taxis',\n",
              " 'tips',\n",
              " 'titanic']"
            ]
          },
          "metadata": {},
          "execution_count": 57
        }
      ]
    },
    {
      "cell_type": "code",
      "source": [
        "df_taxis = sns.load_dataset(\"taxis\")\n",
        "df_taxis.head()"
      ],
      "metadata": {
        "colab": {
          "base_uri": "https://localhost:8080/",
          "height": 206
        },
        "id": "1FFeyJ9HJ83X",
        "outputId": "913a81fe-077b-4601-c987-705737a90a35"
      },
      "execution_count": 55,
      "outputs": [
        {
          "output_type": "execute_result",
          "data": {
            "text/html": [
              "\n",
              "  <div id=\"df-b9e4571d-0377-4704-8007-97f227b909f5\">\n",
              "    <div class=\"colab-df-container\">\n",
              "      <div>\n",
              "<style scoped>\n",
              "    .dataframe tbody tr th:only-of-type {\n",
              "        vertical-align: middle;\n",
              "    }\n",
              "\n",
              "    .dataframe tbody tr th {\n",
              "        vertical-align: top;\n",
              "    }\n",
              "\n",
              "    .dataframe thead th {\n",
              "        text-align: right;\n",
              "    }\n",
              "</style>\n",
              "<table border=\"1\" class=\"dataframe\">\n",
              "  <thead>\n",
              "    <tr style=\"text-align: right;\">\n",
              "      <th></th>\n",
              "      <th>pickup</th>\n",
              "      <th>dropoff</th>\n",
              "      <th>passengers</th>\n",
              "      <th>distance</th>\n",
              "      <th>fare</th>\n",
              "      <th>tip</th>\n",
              "      <th>tolls</th>\n",
              "      <th>total</th>\n",
              "      <th>color</th>\n",
              "      <th>payment</th>\n",
              "      <th>pickup_zone</th>\n",
              "      <th>dropoff_zone</th>\n",
              "      <th>pickup_borough</th>\n",
              "      <th>dropoff_borough</th>\n",
              "    </tr>\n",
              "  </thead>\n",
              "  <tbody>\n",
              "    <tr>\n",
              "      <th>0</th>\n",
              "      <td>2019-03-23 20:21:09</td>\n",
              "      <td>2019-03-23 20:27:24</td>\n",
              "      <td>1</td>\n",
              "      <td>1.60</td>\n",
              "      <td>7.0</td>\n",
              "      <td>2.15</td>\n",
              "      <td>0.0</td>\n",
              "      <td>12.95</td>\n",
              "      <td>yellow</td>\n",
              "      <td>credit card</td>\n",
              "      <td>Lenox Hill West</td>\n",
              "      <td>UN/Turtle Bay South</td>\n",
              "      <td>Manhattan</td>\n",
              "      <td>Manhattan</td>\n",
              "    </tr>\n",
              "    <tr>\n",
              "      <th>1</th>\n",
              "      <td>2019-03-04 16:11:55</td>\n",
              "      <td>2019-03-04 16:19:00</td>\n",
              "      <td>1</td>\n",
              "      <td>0.79</td>\n",
              "      <td>5.0</td>\n",
              "      <td>0.00</td>\n",
              "      <td>0.0</td>\n",
              "      <td>9.30</td>\n",
              "      <td>yellow</td>\n",
              "      <td>cash</td>\n",
              "      <td>Upper West Side South</td>\n",
              "      <td>Upper West Side South</td>\n",
              "      <td>Manhattan</td>\n",
              "      <td>Manhattan</td>\n",
              "    </tr>\n",
              "    <tr>\n",
              "      <th>2</th>\n",
              "      <td>2019-03-27 17:53:01</td>\n",
              "      <td>2019-03-27 18:00:25</td>\n",
              "      <td>1</td>\n",
              "      <td>1.37</td>\n",
              "      <td>7.5</td>\n",
              "      <td>2.36</td>\n",
              "      <td>0.0</td>\n",
              "      <td>14.16</td>\n",
              "      <td>yellow</td>\n",
              "      <td>credit card</td>\n",
              "      <td>Alphabet City</td>\n",
              "      <td>West Village</td>\n",
              "      <td>Manhattan</td>\n",
              "      <td>Manhattan</td>\n",
              "    </tr>\n",
              "    <tr>\n",
              "      <th>3</th>\n",
              "      <td>2019-03-10 01:23:59</td>\n",
              "      <td>2019-03-10 01:49:51</td>\n",
              "      <td>1</td>\n",
              "      <td>7.70</td>\n",
              "      <td>27.0</td>\n",
              "      <td>6.15</td>\n",
              "      <td>0.0</td>\n",
              "      <td>36.95</td>\n",
              "      <td>yellow</td>\n",
              "      <td>credit card</td>\n",
              "      <td>Hudson Sq</td>\n",
              "      <td>Yorkville West</td>\n",
              "      <td>Manhattan</td>\n",
              "      <td>Manhattan</td>\n",
              "    </tr>\n",
              "    <tr>\n",
              "      <th>4</th>\n",
              "      <td>2019-03-30 13:27:42</td>\n",
              "      <td>2019-03-30 13:37:14</td>\n",
              "      <td>3</td>\n",
              "      <td>2.16</td>\n",
              "      <td>9.0</td>\n",
              "      <td>1.10</td>\n",
              "      <td>0.0</td>\n",
              "      <td>13.40</td>\n",
              "      <td>yellow</td>\n",
              "      <td>credit card</td>\n",
              "      <td>Midtown East</td>\n",
              "      <td>Yorkville West</td>\n",
              "      <td>Manhattan</td>\n",
              "      <td>Manhattan</td>\n",
              "    </tr>\n",
              "  </tbody>\n",
              "</table>\n",
              "</div>\n",
              "      <button class=\"colab-df-convert\" onclick=\"convertToInteractive('df-b9e4571d-0377-4704-8007-97f227b909f5')\"\n",
              "              title=\"Convert this dataframe to an interactive table.\"\n",
              "              style=\"display:none;\">\n",
              "        \n",
              "  <svg xmlns=\"http://www.w3.org/2000/svg\" height=\"24px\"viewBox=\"0 0 24 24\"\n",
              "       width=\"24px\">\n",
              "    <path d=\"M0 0h24v24H0V0z\" fill=\"none\"/>\n",
              "    <path d=\"M18.56 5.44l.94 2.06.94-2.06 2.06-.94-2.06-.94-.94-2.06-.94 2.06-2.06.94zm-11 1L8.5 8.5l.94-2.06 2.06-.94-2.06-.94L8.5 2.5l-.94 2.06-2.06.94zm10 10l.94 2.06.94-2.06 2.06-.94-2.06-.94-.94-2.06-.94 2.06-2.06.94z\"/><path d=\"M17.41 7.96l-1.37-1.37c-.4-.4-.92-.59-1.43-.59-.52 0-1.04.2-1.43.59L10.3 9.45l-7.72 7.72c-.78.78-.78 2.05 0 2.83L4 21.41c.39.39.9.59 1.41.59.51 0 1.02-.2 1.41-.59l7.78-7.78 2.81-2.81c.8-.78.8-2.07 0-2.86zM5.41 20L4 18.59l7.72-7.72 1.47 1.35L5.41 20z\"/>\n",
              "  </svg>\n",
              "      </button>\n",
              "      \n",
              "  <style>\n",
              "    .colab-df-container {\n",
              "      display:flex;\n",
              "      flex-wrap:wrap;\n",
              "      gap: 12px;\n",
              "    }\n",
              "\n",
              "    .colab-df-convert {\n",
              "      background-color: #E8F0FE;\n",
              "      border: none;\n",
              "      border-radius: 50%;\n",
              "      cursor: pointer;\n",
              "      display: none;\n",
              "      fill: #1967D2;\n",
              "      height: 32px;\n",
              "      padding: 0 0 0 0;\n",
              "      width: 32px;\n",
              "    }\n",
              "\n",
              "    .colab-df-convert:hover {\n",
              "      background-color: #E2EBFA;\n",
              "      box-shadow: 0px 1px 2px rgba(60, 64, 67, 0.3), 0px 1px 3px 1px rgba(60, 64, 67, 0.15);\n",
              "      fill: #174EA6;\n",
              "    }\n",
              "\n",
              "    [theme=dark] .colab-df-convert {\n",
              "      background-color: #3B4455;\n",
              "      fill: #D2E3FC;\n",
              "    }\n",
              "\n",
              "    [theme=dark] .colab-df-convert:hover {\n",
              "      background-color: #434B5C;\n",
              "      box-shadow: 0px 1px 3px 1px rgba(0, 0, 0, 0.15);\n",
              "      filter: drop-shadow(0px 1px 2px rgba(0, 0, 0, 0.3));\n",
              "      fill: #FFFFFF;\n",
              "    }\n",
              "  </style>\n",
              "\n",
              "      <script>\n",
              "        const buttonEl =\n",
              "          document.querySelector('#df-b9e4571d-0377-4704-8007-97f227b909f5 button.colab-df-convert');\n",
              "        buttonEl.style.display =\n",
              "          google.colab.kernel.accessAllowed ? 'block' : 'none';\n",
              "\n",
              "        async function convertToInteractive(key) {\n",
              "          const element = document.querySelector('#df-b9e4571d-0377-4704-8007-97f227b909f5');\n",
              "          const dataTable =\n",
              "            await google.colab.kernel.invokeFunction('convertToInteractive',\n",
              "                                                     [key], {});\n",
              "          if (!dataTable) return;\n",
              "\n",
              "          const docLinkHtml = 'Like what you see? Visit the ' +\n",
              "            '<a target=\"_blank\" href=https://colab.research.google.com/notebooks/data_table.ipynb>data table notebook</a>'\n",
              "            + ' to learn more about interactive tables.';\n",
              "          element.innerHTML = '';\n",
              "          dataTable['output_type'] = 'display_data';\n",
              "          await google.colab.output.renderOutput(dataTable, element);\n",
              "          const docLink = document.createElement('div');\n",
              "          docLink.innerHTML = docLinkHtml;\n",
              "          element.appendChild(docLink);\n",
              "        }\n",
              "      </script>\n",
              "    </div>\n",
              "  </div>\n",
              "  "
            ],
            "text/plain": [
              "                pickup              dropoff  ...  pickup_borough  dropoff_borough\n",
              "0  2019-03-23 20:21:09  2019-03-23 20:27:24  ...       Manhattan        Manhattan\n",
              "1  2019-03-04 16:11:55  2019-03-04 16:19:00  ...       Manhattan        Manhattan\n",
              "2  2019-03-27 17:53:01  2019-03-27 18:00:25  ...       Manhattan        Manhattan\n",
              "3  2019-03-10 01:23:59  2019-03-10 01:49:51  ...       Manhattan        Manhattan\n",
              "4  2019-03-30 13:27:42  2019-03-30 13:37:14  ...       Manhattan        Manhattan\n",
              "\n",
              "[5 rows x 14 columns]"
            ]
          },
          "metadata": {},
          "execution_count": 55
        }
      ]
    },
    {
      "cell_type": "code",
      "source": [
        "len(df_taxis)"
      ],
      "metadata": {
        "colab": {
          "base_uri": "https://localhost:8080/"
        },
        "id": "QjJV9PuK-Lod",
        "outputId": "6f8de1bf-b32a-4fde-d01b-d447cd9d985a"
      },
      "execution_count": 56,
      "outputs": [
        {
          "output_type": "execute_result",
          "data": {
            "text/plain": [
              "6433"
            ]
          },
          "metadata": {},
          "execution_count": 56
        }
      ]
    },
    {
      "cell_type": "markdown",
      "source": [
        "A column in pandas ```DataFrame``` is called a ```Series```. Basically, a ```DataFrame``` is just a collection of ```Series``` stored to next to each other in memory."
      ],
      "metadata": {
        "id": "ISetWs1zP_MS"
      }
    },
    {
      "cell_type": "code",
      "source": [
        "# Fetch the column `pickup`, 1k loops\n",
        "%timeit -n1000 df_taxis[\"pickup\"]"
      ],
      "metadata": {
        "colab": {
          "base_uri": "https://localhost:8080/"
        },
        "id": "i_e2jsVfJ_al",
        "outputId": "a31115d5-5d6a-402b-d2f0-37efb2eb31b2"
      },
      "execution_count": 58,
      "outputs": [
        {
          "output_type": "stream",
          "name": "stdout",
          "text": [
            "1000 loops, best of 5: 3.06 µs per loop\n"
          ]
        }
      ]
    },
    {
      "cell_type": "code",
      "source": [
        "# Fetch the first row, 1k loops\n",
        "%timeit -n1000 df_taxis.iloc[0]"
      ],
      "metadata": {
        "colab": {
          "base_uri": "https://localhost:8080/"
        },
        "id": "0BkGaIaPKH81",
        "outputId": "99a054e0-03cf-447f-f848-a8ec2f630df4"
      },
      "execution_count": 59,
      "outputs": [
        {
          "output_type": "stream",
          "name": "stdout",
          "text": [
            "1000 loops, best of 5: 113 µs per loop\n"
          ]
        }
      ]
    },
    {
      "cell_type": "markdown",
      "source": [
        "For the seaborn taxi dataset, **accessing a row takes about 30-50x longer than accessing a column.**"
      ],
      "metadata": {
        "id": "-XucPYGmKPbX"
      }
    },
    {
      "cell_type": "markdown",
      "source": [
        "Now let's look at a simple pandas operation that we can execute in different ways. Say we want to add a column `travel_time` in our `df_taxis` dataframe before that pertains to the **total travel time of the passenger**, we can approach this problem in three different ways.\n",
        "- Iterate over the rows in the `DataFrame` using `.iterrows()`\n",
        "- Use a `lambda` function together with `.apply()` on the `DataFrame`\n",
        "- Use the relevant `Series` and directly perform the operation onto them"
      ],
      "metadata": {
        "id": "fTDGYrPAEynW"
      }
    },
    {
      "cell_type": "code",
      "source": [
        "df_taxis.info()"
      ],
      "metadata": {
        "colab": {
          "base_uri": "https://localhost:8080/"
        },
        "id": "I_nXRZCsEz2W",
        "outputId": "f231e6ec-5752-4ee6-c1fc-5e8399c73383"
      },
      "execution_count": 73,
      "outputs": [
        {
          "output_type": "stream",
          "name": "stdout",
          "text": [
            "<class 'pandas.core.frame.DataFrame'>\n",
            "RangeIndex: 6433 entries, 0 to 6432\n",
            "Data columns (total 14 columns):\n",
            " #   Column           Non-Null Count  Dtype  \n",
            "---  ------           --------------  -----  \n",
            " 0   pickup           6433 non-null   object \n",
            " 1   dropoff          6433 non-null   object \n",
            " 2   passengers       6433 non-null   int64  \n",
            " 3   distance         6433 non-null   float64\n",
            " 4   fare             6433 non-null   float64\n",
            " 5   tip              6433 non-null   float64\n",
            " 6   tolls            6433 non-null   float64\n",
            " 7   total            6433 non-null   float64\n",
            " 8   color            6433 non-null   object \n",
            " 9   payment          6389 non-null   object \n",
            " 10  pickup_zone      6407 non-null   object \n",
            " 11  dropoff_zone     6388 non-null   object \n",
            " 12  pickup_borough   6407 non-null   object \n",
            " 13  dropoff_borough  6388 non-null   object \n",
            "dtypes: float64(5), int64(1), object(8)\n",
            "memory usage: 703.7+ KB\n"
          ]
        }
      ]
    },
    {
      "cell_type": "markdown",
      "source": [
        "Notice from the schema shown above using ```.info()``` that the pickup and dropoff columns were identified as objects by default. We want to cast this to a datetime object in order for us to perform accurate datetime related calculations (e.g. subtraction for the elapsed time)."
      ],
      "metadata": {
        "id": "UApG_fKdEVwU"
      }
    },
    {
      "cell_type": "code",
      "source": [
        "# cast the relevant fields to datetime\n",
        "df_taxis[\"pickup\"] = pd.to_datetime(df_taxis[\"pickup\"])\n",
        "df_taxis[\"dropoff\"] = pd.to_datetime(df_taxis[\"dropoff\"])"
      ],
      "metadata": {
        "id": "3ExzXTLMP1Bq"
      },
      "execution_count": 74,
      "outputs": []
    },
    {
      "cell_type": "code",
      "source": [
        "df_taxis.info()"
      ],
      "metadata": {
        "colab": {
          "base_uri": "https://localhost:8080/"
        },
        "id": "_BrI6oRIETV-",
        "outputId": "67ae1ebd-2856-49fe-d696-2fc1c4e404d8"
      },
      "execution_count": 75,
      "outputs": [
        {
          "output_type": "stream",
          "name": "stdout",
          "text": [
            "<class 'pandas.core.frame.DataFrame'>\n",
            "RangeIndex: 6433 entries, 0 to 6432\n",
            "Data columns (total 14 columns):\n",
            " #   Column           Non-Null Count  Dtype         \n",
            "---  ------           --------------  -----         \n",
            " 0   pickup           6433 non-null   datetime64[ns]\n",
            " 1   dropoff          6433 non-null   datetime64[ns]\n",
            " 2   passengers       6433 non-null   int64         \n",
            " 3   distance         6433 non-null   float64       \n",
            " 4   fare             6433 non-null   float64       \n",
            " 5   tip              6433 non-null   float64       \n",
            " 6   tolls            6433 non-null   float64       \n",
            " 7   total            6433 non-null   float64       \n",
            " 8   color            6433 non-null   object        \n",
            " 9   payment          6389 non-null   object        \n",
            " 10  pickup_zone      6407 non-null   object        \n",
            " 11  dropoff_zone     6388 non-null   object        \n",
            " 12  pickup_borough   6407 non-null   object        \n",
            " 13  dropoff_borough  6388 non-null   object        \n",
            "dtypes: datetime64[ns](2), float64(5), int64(1), object(6)\n",
            "memory usage: 703.7+ KB\n"
          ]
        }
      ]
    },
    {
      "cell_type": "code",
      "source": [
        "# option #1: this is bad\n",
        "def get_travel_time(df_taxis):\n",
        "    travel_time = []\n",
        "    for idx, row in df_taxis.iterrows():\n",
        "        travel_time.append(row.dropoff-row.pickup)\n",
        "    return pd.Series(travel_time)\n",
        "%timeit -n10 df_taxis[\"travel_time_a\"] = get_travel_time(df_taxis)"
      ],
      "metadata": {
        "colab": {
          "base_uri": "https://localhost:8080/"
        },
        "id": "uwrtctjv0iDn",
        "outputId": "6d618e56-bbdd-4ccd-f228-cb98e233e247"
      },
      "execution_count": 76,
      "outputs": [
        {
          "output_type": "stream",
          "name": "stdout",
          "text": [
            "10 loops, best of 5: 528 ms per loop\n"
          ]
        }
      ]
    },
    {
      "cell_type": "code",
      "source": [
        "# option #2: this is good\n",
        "%timeit -n10 df_taxis[\"travel_time_b\"] = df_taxis.apply(lambda x: x[\"dropoff\"]-x[\"pickup\"], axis=1)"
      ],
      "metadata": {
        "colab": {
          "base_uri": "https://localhost:8080/"
        },
        "id": "BH_dHLlz26Jq",
        "outputId": "538b961e-3da2-4102-8f0a-322d5dd734ee"
      },
      "execution_count": 77,
      "outputs": [
        {
          "output_type": "stream",
          "name": "stdout",
          "text": [
            "10 loops, best of 5: 231 ms per loop\n"
          ]
        }
      ]
    },
    {
      "cell_type": "code",
      "source": [
        "# option #3: this is better\n",
        "%timeit -n10 df_taxis[\"travel_time_c\"] = df_taxis[\"dropoff\"] - df_taxis[\"pickup\"]"
      ],
      "metadata": {
        "colab": {
          "base_uri": "https://localhost:8080/"
        },
        "id": "AEfOMTaa1XqB",
        "outputId": "c39cfecf-f375-46c2-f7f7-1c169cb614a5"
      },
      "execution_count": 78,
      "outputs": [
        {
          "output_type": "stream",
          "name": "stdout",
          "text": [
            "10 loops, best of 5: 426 µs per loop\n"
          ]
        }
      ]
    },
    {
      "cell_type": "markdown",
      "source": [
        "Options #2 and #3 leverages on the quirk of pandas being column-major, hence making it a speedier alternative than Option #1. One reason why option #3 is faster than option #2 is because the ```.apply()``` operation makes use of python loops under the hood. 💡"
      ],
      "metadata": {
        "id": "03eJ9rhNIuBZ"
      }
    },
    {
      "cell_type": "code",
      "source": [
        "# different approach, same result\n",
        "df_taxis[[col for col in df_taxis.columns if \"travel_time\" in col]].head()"
      ],
      "metadata": {
        "colab": {
          "base_uri": "https://localhost:8080/",
          "height": 206
        },
        "id": "5OO-OlHM2k18",
        "outputId": "190e5bd7-373a-4d13-93a9-e0aa2fbf070a"
      },
      "execution_count": 79,
      "outputs": [
        {
          "output_type": "execute_result",
          "data": {
            "text/html": [
              "\n",
              "  <div id=\"df-594a7614-e3b4-480b-aca9-8cc54cc4e5bc\">\n",
              "    <div class=\"colab-df-container\">\n",
              "      <div>\n",
              "<style scoped>\n",
              "    .dataframe tbody tr th:only-of-type {\n",
              "        vertical-align: middle;\n",
              "    }\n",
              "\n",
              "    .dataframe tbody tr th {\n",
              "        vertical-align: top;\n",
              "    }\n",
              "\n",
              "    .dataframe thead th {\n",
              "        text-align: right;\n",
              "    }\n",
              "</style>\n",
              "<table border=\"1\" class=\"dataframe\">\n",
              "  <thead>\n",
              "    <tr style=\"text-align: right;\">\n",
              "      <th></th>\n",
              "      <th>travel_time_a</th>\n",
              "      <th>travel_time_b</th>\n",
              "      <th>travel_time_c</th>\n",
              "    </tr>\n",
              "  </thead>\n",
              "  <tbody>\n",
              "    <tr>\n",
              "      <th>0</th>\n",
              "      <td>0 days 00:06:15</td>\n",
              "      <td>0 days 00:06:15</td>\n",
              "      <td>0 days 00:06:15</td>\n",
              "    </tr>\n",
              "    <tr>\n",
              "      <th>1</th>\n",
              "      <td>0 days 00:07:05</td>\n",
              "      <td>0 days 00:07:05</td>\n",
              "      <td>0 days 00:07:05</td>\n",
              "    </tr>\n",
              "    <tr>\n",
              "      <th>2</th>\n",
              "      <td>0 days 00:07:24</td>\n",
              "      <td>0 days 00:07:24</td>\n",
              "      <td>0 days 00:07:24</td>\n",
              "    </tr>\n",
              "    <tr>\n",
              "      <th>3</th>\n",
              "      <td>0 days 00:25:52</td>\n",
              "      <td>0 days 00:25:52</td>\n",
              "      <td>0 days 00:25:52</td>\n",
              "    </tr>\n",
              "    <tr>\n",
              "      <th>4</th>\n",
              "      <td>0 days 00:09:32</td>\n",
              "      <td>0 days 00:09:32</td>\n",
              "      <td>0 days 00:09:32</td>\n",
              "    </tr>\n",
              "  </tbody>\n",
              "</table>\n",
              "</div>\n",
              "      <button class=\"colab-df-convert\" onclick=\"convertToInteractive('df-594a7614-e3b4-480b-aca9-8cc54cc4e5bc')\"\n",
              "              title=\"Convert this dataframe to an interactive table.\"\n",
              "              style=\"display:none;\">\n",
              "        \n",
              "  <svg xmlns=\"http://www.w3.org/2000/svg\" height=\"24px\"viewBox=\"0 0 24 24\"\n",
              "       width=\"24px\">\n",
              "    <path d=\"M0 0h24v24H0V0z\" fill=\"none\"/>\n",
              "    <path d=\"M18.56 5.44l.94 2.06.94-2.06 2.06-.94-2.06-.94-.94-2.06-.94 2.06-2.06.94zm-11 1L8.5 8.5l.94-2.06 2.06-.94-2.06-.94L8.5 2.5l-.94 2.06-2.06.94zm10 10l.94 2.06.94-2.06 2.06-.94-2.06-.94-.94-2.06-.94 2.06-2.06.94z\"/><path d=\"M17.41 7.96l-1.37-1.37c-.4-.4-.92-.59-1.43-.59-.52 0-1.04.2-1.43.59L10.3 9.45l-7.72 7.72c-.78.78-.78 2.05 0 2.83L4 21.41c.39.39.9.59 1.41.59.51 0 1.02-.2 1.41-.59l7.78-7.78 2.81-2.81c.8-.78.8-2.07 0-2.86zM5.41 20L4 18.59l7.72-7.72 1.47 1.35L5.41 20z\"/>\n",
              "  </svg>\n",
              "      </button>\n",
              "      \n",
              "  <style>\n",
              "    .colab-df-container {\n",
              "      display:flex;\n",
              "      flex-wrap:wrap;\n",
              "      gap: 12px;\n",
              "    }\n",
              "\n",
              "    .colab-df-convert {\n",
              "      background-color: #E8F0FE;\n",
              "      border: none;\n",
              "      border-radius: 50%;\n",
              "      cursor: pointer;\n",
              "      display: none;\n",
              "      fill: #1967D2;\n",
              "      height: 32px;\n",
              "      padding: 0 0 0 0;\n",
              "      width: 32px;\n",
              "    }\n",
              "\n",
              "    .colab-df-convert:hover {\n",
              "      background-color: #E2EBFA;\n",
              "      box-shadow: 0px 1px 2px rgba(60, 64, 67, 0.3), 0px 1px 3px 1px rgba(60, 64, 67, 0.15);\n",
              "      fill: #174EA6;\n",
              "    }\n",
              "\n",
              "    [theme=dark] .colab-df-convert {\n",
              "      background-color: #3B4455;\n",
              "      fill: #D2E3FC;\n",
              "    }\n",
              "\n",
              "    [theme=dark] .colab-df-convert:hover {\n",
              "      background-color: #434B5C;\n",
              "      box-shadow: 0px 1px 3px 1px rgba(0, 0, 0, 0.15);\n",
              "      filter: drop-shadow(0px 1px 2px rgba(0, 0, 0, 0.3));\n",
              "      fill: #FFFFFF;\n",
              "    }\n",
              "  </style>\n",
              "\n",
              "      <script>\n",
              "        const buttonEl =\n",
              "          document.querySelector('#df-594a7614-e3b4-480b-aca9-8cc54cc4e5bc button.colab-df-convert');\n",
              "        buttonEl.style.display =\n",
              "          google.colab.kernel.accessAllowed ? 'block' : 'none';\n",
              "\n",
              "        async function convertToInteractive(key) {\n",
              "          const element = document.querySelector('#df-594a7614-e3b4-480b-aca9-8cc54cc4e5bc');\n",
              "          const dataTable =\n",
              "            await google.colab.kernel.invokeFunction('convertToInteractive',\n",
              "                                                     [key], {});\n",
              "          if (!dataTable) return;\n",
              "\n",
              "          const docLinkHtml = 'Like what you see? Visit the ' +\n",
              "            '<a target=\"_blank\" href=https://colab.research.google.com/notebooks/data_table.ipynb>data table notebook</a>'\n",
              "            + ' to learn more about interactive tables.';\n",
              "          element.innerHTML = '';\n",
              "          dataTable['output_type'] = 'display_data';\n",
              "          await google.colab.output.renderOutput(dataTable, element);\n",
              "          const docLink = document.createElement('div');\n",
              "          docLink.innerHTML = docLinkHtml;\n",
              "          element.appendChild(docLink);\n",
              "        }\n",
              "      </script>\n",
              "    </div>\n",
              "  </div>\n",
              "  "
            ],
            "text/plain": [
              "    travel_time_a   travel_time_b   travel_time_c\n",
              "0 0 days 00:06:15 0 days 00:06:15 0 days 00:06:15\n",
              "1 0 days 00:07:05 0 days 00:07:05 0 days 00:07:05\n",
              "2 0 days 00:07:24 0 days 00:07:24 0 days 00:07:24\n",
              "3 0 days 00:25:52 0 days 00:25:52 0 days 00:25:52\n",
              "4 0 days 00:09:32 0 days 00:09:32 0 days 00:09:32"
            ]
          },
          "metadata": {},
          "execution_count": 79
        }
      ]
    },
    {
      "cell_type": "markdown",
      "source": [
        "Now, suppose we want to access the **tip from the first row** of the seaborn taxis dataset."
      ],
      "metadata": {
        "id": "TU3TDfPwJgOL"
      }
    },
    {
      "cell_type": "code",
      "source": [
        "# option #1: this is bad\n",
        "%timeit -n1000 df_taxis.iloc[0][\"tip\"]"
      ],
      "metadata": {
        "colab": {
          "base_uri": "https://localhost:8080/"
        },
        "id": "xjSTksEtIp0j",
        "outputId": "4b14c279-6a26-4b32-a419-6567ab62c129"
      },
      "execution_count": 80,
      "outputs": [
        {
          "output_type": "stream",
          "name": "stdout",
          "text": [
            "1000 loops, best of 5: 185 µs per loop\n"
          ]
        }
      ]
    },
    {
      "cell_type": "code",
      "source": [
        "# option #2: this is good\n",
        "%timeit -n1000 df_taxis.loc[0, \"tip\"]"
      ],
      "metadata": {
        "colab": {
          "base_uri": "https://localhost:8080/"
        },
        "id": "ETSZ8UiKJ-Wt",
        "outputId": "070b9674-1158-4159-f959-4c22236be63e"
      },
      "execution_count": 81,
      "outputs": [
        {
          "output_type": "stream",
          "name": "stdout",
          "text": [
            "1000 loops, best of 5: 8 µs per loop\n"
          ]
        }
      ]
    },
    {
      "cell_type": "code",
      "source": [
        "# option #2: this is better     \n",
        "%timeit -n1000 df_taxis[\"tip\"][0]"
      ],
      "metadata": {
        "colab": {
          "base_uri": "https://localhost:8080/"
        },
        "id": "EZxWMzXvIC6f",
        "outputId": "1131c71f-b25a-4f79-ee8a-7b654e46cfbe"
      },
      "execution_count": 82,
      "outputs": [
        {
          "output_type": "stream",
          "name": "stdout",
          "text": [
            "1000 loops, best of 5: 4.81 µs per loop\n"
          ]
        }
      ]
    },
    {
      "cell_type": "markdown",
      "source": [
        "When performing multiple slice operations, **always do the column-based slicing first**, since it leverages on the column-major quirk of pandas."
      ],
      "metadata": {
        "id": "fVu7KZOmIC1-"
      }
    },
    {
      "cell_type": "markdown",
      "source": [
        "If you've used pandas before, most likely you've seen this `SettingCopyWarning` message when you try to assign values to a subset of the data. First, let's try to understand this warning message, then let's look for ways to address it amd avoid it from appearing in the future."
      ],
      "metadata": {
        "id": "F4uDrGxfBDT2"
      }
    },
    {
      "cell_type": "code",
      "source": [
        "import warnings\n",
        "warnings.filterwarnings(\"default\")"
      ],
      "metadata": {
        "id": "D5Nf3vyEC1fb"
      },
      "execution_count": 64,
      "outputs": []
    },
    {
      "cell_type": "code",
      "source": [
        "df_taxis.tail(1)"
      ],
      "metadata": {
        "colab": {
          "base_uri": "https://localhost:8080/",
          "height": 80
        },
        "id": "SuR9gEuOCSvU",
        "outputId": "a8f261e6-c811-4f99-acee-674964f3198c"
      },
      "execution_count": 65,
      "outputs": [
        {
          "output_type": "execute_result",
          "data": {
            "text/html": [
              "\n",
              "  <div id=\"df-a7d0d35e-c36b-4c8c-a358-0c1dc2b6b061\">\n",
              "    <div class=\"colab-df-container\">\n",
              "      <div>\n",
              "<style scoped>\n",
              "    .dataframe tbody tr th:only-of-type {\n",
              "        vertical-align: middle;\n",
              "    }\n",
              "\n",
              "    .dataframe tbody tr th {\n",
              "        vertical-align: top;\n",
              "    }\n",
              "\n",
              "    .dataframe thead th {\n",
              "        text-align: right;\n",
              "    }\n",
              "</style>\n",
              "<table border=\"1\" class=\"dataframe\">\n",
              "  <thead>\n",
              "    <tr style=\"text-align: right;\">\n",
              "      <th></th>\n",
              "      <th>pickup</th>\n",
              "      <th>dropoff</th>\n",
              "      <th>passengers</th>\n",
              "      <th>distance</th>\n",
              "      <th>fare</th>\n",
              "      <th>tip</th>\n",
              "      <th>tolls</th>\n",
              "      <th>total</th>\n",
              "      <th>color</th>\n",
              "      <th>payment</th>\n",
              "      <th>pickup_zone</th>\n",
              "      <th>dropoff_zone</th>\n",
              "      <th>pickup_borough</th>\n",
              "      <th>dropoff_borough</th>\n",
              "    </tr>\n",
              "  </thead>\n",
              "  <tbody>\n",
              "    <tr>\n",
              "      <th>6432</th>\n",
              "      <td>2019-03-13 19:31:22</td>\n",
              "      <td>2019-03-13 19:48:02</td>\n",
              "      <td>1</td>\n",
              "      <td>3.85</td>\n",
              "      <td>15.0</td>\n",
              "      <td>3.36</td>\n",
              "      <td>0.0</td>\n",
              "      <td>20.16</td>\n",
              "      <td>green</td>\n",
              "      <td>credit card</td>\n",
              "      <td>Boerum Hill</td>\n",
              "      <td>Windsor Terrace</td>\n",
              "      <td>Brooklyn</td>\n",
              "      <td>Brooklyn</td>\n",
              "    </tr>\n",
              "  </tbody>\n",
              "</table>\n",
              "</div>\n",
              "      <button class=\"colab-df-convert\" onclick=\"convertToInteractive('df-a7d0d35e-c36b-4c8c-a358-0c1dc2b6b061')\"\n",
              "              title=\"Convert this dataframe to an interactive table.\"\n",
              "              style=\"display:none;\">\n",
              "        \n",
              "  <svg xmlns=\"http://www.w3.org/2000/svg\" height=\"24px\"viewBox=\"0 0 24 24\"\n",
              "       width=\"24px\">\n",
              "    <path d=\"M0 0h24v24H0V0z\" fill=\"none\"/>\n",
              "    <path d=\"M18.56 5.44l.94 2.06.94-2.06 2.06-.94-2.06-.94-.94-2.06-.94 2.06-2.06.94zm-11 1L8.5 8.5l.94-2.06 2.06-.94-2.06-.94L8.5 2.5l-.94 2.06-2.06.94zm10 10l.94 2.06.94-2.06 2.06-.94-2.06-.94-.94-2.06-.94 2.06-2.06.94z\"/><path d=\"M17.41 7.96l-1.37-1.37c-.4-.4-.92-.59-1.43-.59-.52 0-1.04.2-1.43.59L10.3 9.45l-7.72 7.72c-.78.78-.78 2.05 0 2.83L4 21.41c.39.39.9.59 1.41.59.51 0 1.02-.2 1.41-.59l7.78-7.78 2.81-2.81c.8-.78.8-2.07 0-2.86zM5.41 20L4 18.59l7.72-7.72 1.47 1.35L5.41 20z\"/>\n",
              "  </svg>\n",
              "      </button>\n",
              "      \n",
              "  <style>\n",
              "    .colab-df-container {\n",
              "      display:flex;\n",
              "      flex-wrap:wrap;\n",
              "      gap: 12px;\n",
              "    }\n",
              "\n",
              "    .colab-df-convert {\n",
              "      background-color: #E8F0FE;\n",
              "      border: none;\n",
              "      border-radius: 50%;\n",
              "      cursor: pointer;\n",
              "      display: none;\n",
              "      fill: #1967D2;\n",
              "      height: 32px;\n",
              "      padding: 0 0 0 0;\n",
              "      width: 32px;\n",
              "    }\n",
              "\n",
              "    .colab-df-convert:hover {\n",
              "      background-color: #E2EBFA;\n",
              "      box-shadow: 0px 1px 2px rgba(60, 64, 67, 0.3), 0px 1px 3px 1px rgba(60, 64, 67, 0.15);\n",
              "      fill: #174EA6;\n",
              "    }\n",
              "\n",
              "    [theme=dark] .colab-df-convert {\n",
              "      background-color: #3B4455;\n",
              "      fill: #D2E3FC;\n",
              "    }\n",
              "\n",
              "    [theme=dark] .colab-df-convert:hover {\n",
              "      background-color: #434B5C;\n",
              "      box-shadow: 0px 1px 3px 1px rgba(0, 0, 0, 0.15);\n",
              "      filter: drop-shadow(0px 1px 2px rgba(0, 0, 0, 0.3));\n",
              "      fill: #FFFFFF;\n",
              "    }\n",
              "  </style>\n",
              "\n",
              "      <script>\n",
              "        const buttonEl =\n",
              "          document.querySelector('#df-a7d0d35e-c36b-4c8c-a358-0c1dc2b6b061 button.colab-df-convert');\n",
              "        buttonEl.style.display =\n",
              "          google.colab.kernel.accessAllowed ? 'block' : 'none';\n",
              "\n",
              "        async function convertToInteractive(key) {\n",
              "          const element = document.querySelector('#df-a7d0d35e-c36b-4c8c-a358-0c1dc2b6b061');\n",
              "          const dataTable =\n",
              "            await google.colab.kernel.invokeFunction('convertToInteractive',\n",
              "                                                     [key], {});\n",
              "          if (!dataTable) return;\n",
              "\n",
              "          const docLinkHtml = 'Like what you see? Visit the ' +\n",
              "            '<a target=\"_blank\" href=https://colab.research.google.com/notebooks/data_table.ipynb>data table notebook</a>'\n",
              "            + ' to learn more about interactive tables.';\n",
              "          element.innerHTML = '';\n",
              "          dataTable['output_type'] = 'display_data';\n",
              "          await google.colab.output.renderOutput(dataTable, element);\n",
              "          const docLink = document.createElement('div');\n",
              "          docLink.innerHTML = docLinkHtml;\n",
              "          element.appendChild(docLink);\n",
              "        }\n",
              "      </script>\n",
              "    </div>\n",
              "  </div>\n",
              "  "
            ],
            "text/plain": [
              "                   pickup              dropoff  ...  pickup_borough  dropoff_borough\n",
              "6432  2019-03-13 19:31:22  2019-03-13 19:48:02  ...        Brooklyn         Brooklyn\n",
              "\n",
              "[1 rows x 14 columns]"
            ]
          },
          "metadata": {},
          "execution_count": 65
        }
      ]
    },
    {
      "cell_type": "markdown",
      "source": [
        "Suppose we want to alter the color of taxi for the last row of the pandas dataframe"
      ],
      "metadata": {
        "id": "rGQRp9Y4ChVD"
      }
    },
    {
      "cell_type": "code",
      "source": [
        "df_taxis[\"color\"][len(df_taxis)-1] = \"yellow\""
      ],
      "metadata": {
        "colab": {
          "base_uri": "https://localhost:8080/"
        },
        "id": "Dwtke1AJBDL8",
        "outputId": "0f31d2ff-fd1f-4182-891b-dabdbe83df69"
      },
      "execution_count": 77,
      "outputs": [
        {
          "output_type": "stream",
          "name": "stderr",
          "text": [
            "/usr/local/lib/python3.7/dist-packages/ipykernel_launcher.py:1: SettingWithCopyWarning: \n",
            "A value is trying to be set on a copy of a slice from a DataFrame\n",
            "\n",
            "See the caveats in the documentation: https://pandas.pydata.org/pandas-docs/stable/user_guide/indexing.html#returning-a-view-versus-a-copy\n",
            "  \"\"\"Entry point for launching an IPython kernel.\n"
          ]
        }
      ]
    },
    {
      "cell_type": "code",
      "source": [
        "df_taxis.tail(1)"
      ],
      "metadata": {
        "colab": {
          "base_uri": "https://localhost:8080/",
          "height": 80
        },
        "id": "e3mP8XwhDmdj",
        "outputId": "b9d6fd18-249d-42a1-eb2b-c57a60ee049a"
      },
      "execution_count": 73,
      "outputs": [
        {
          "output_type": "execute_result",
          "data": {
            "text/html": [
              "\n",
              "  <div id=\"df-54942e90-a0c6-4e1c-b613-05aa35696db5\">\n",
              "    <div class=\"colab-df-container\">\n",
              "      <div>\n",
              "<style scoped>\n",
              "    .dataframe tbody tr th:only-of-type {\n",
              "        vertical-align: middle;\n",
              "    }\n",
              "\n",
              "    .dataframe tbody tr th {\n",
              "        vertical-align: top;\n",
              "    }\n",
              "\n",
              "    .dataframe thead th {\n",
              "        text-align: right;\n",
              "    }\n",
              "</style>\n",
              "<table border=\"1\" class=\"dataframe\">\n",
              "  <thead>\n",
              "    <tr style=\"text-align: right;\">\n",
              "      <th></th>\n",
              "      <th>pickup</th>\n",
              "      <th>dropoff</th>\n",
              "      <th>passengers</th>\n",
              "      <th>distance</th>\n",
              "      <th>fare</th>\n",
              "      <th>tip</th>\n",
              "      <th>tolls</th>\n",
              "      <th>total</th>\n",
              "      <th>color</th>\n",
              "      <th>payment</th>\n",
              "      <th>pickup_zone</th>\n",
              "      <th>dropoff_zone</th>\n",
              "      <th>pickup_borough</th>\n",
              "      <th>dropoff_borough</th>\n",
              "    </tr>\n",
              "  </thead>\n",
              "  <tbody>\n",
              "    <tr>\n",
              "      <th>6432</th>\n",
              "      <td>2019-03-13 19:31:22</td>\n",
              "      <td>2019-03-13 19:48:02</td>\n",
              "      <td>1</td>\n",
              "      <td>3.85</td>\n",
              "      <td>15.0</td>\n",
              "      <td>3.36</td>\n",
              "      <td>0.0</td>\n",
              "      <td>20.16</td>\n",
              "      <td>yellow</td>\n",
              "      <td>credit card</td>\n",
              "      <td>Boerum Hill</td>\n",
              "      <td>Windsor Terrace</td>\n",
              "      <td>Brooklyn</td>\n",
              "      <td>Brooklyn</td>\n",
              "    </tr>\n",
              "  </tbody>\n",
              "</table>\n",
              "</div>\n",
              "      <button class=\"colab-df-convert\" onclick=\"convertToInteractive('df-54942e90-a0c6-4e1c-b613-05aa35696db5')\"\n",
              "              title=\"Convert this dataframe to an interactive table.\"\n",
              "              style=\"display:none;\">\n",
              "        \n",
              "  <svg xmlns=\"http://www.w3.org/2000/svg\" height=\"24px\"viewBox=\"0 0 24 24\"\n",
              "       width=\"24px\">\n",
              "    <path d=\"M0 0h24v24H0V0z\" fill=\"none\"/>\n",
              "    <path d=\"M18.56 5.44l.94 2.06.94-2.06 2.06-.94-2.06-.94-.94-2.06-.94 2.06-2.06.94zm-11 1L8.5 8.5l.94-2.06 2.06-.94-2.06-.94L8.5 2.5l-.94 2.06-2.06.94zm10 10l.94 2.06.94-2.06 2.06-.94-2.06-.94-.94-2.06-.94 2.06-2.06.94z\"/><path d=\"M17.41 7.96l-1.37-1.37c-.4-.4-.92-.59-1.43-.59-.52 0-1.04.2-1.43.59L10.3 9.45l-7.72 7.72c-.78.78-.78 2.05 0 2.83L4 21.41c.39.39.9.59 1.41.59.51 0 1.02-.2 1.41-.59l7.78-7.78 2.81-2.81c.8-.78.8-2.07 0-2.86zM5.41 20L4 18.59l7.72-7.72 1.47 1.35L5.41 20z\"/>\n",
              "  </svg>\n",
              "      </button>\n",
              "      \n",
              "  <style>\n",
              "    .colab-df-container {\n",
              "      display:flex;\n",
              "      flex-wrap:wrap;\n",
              "      gap: 12px;\n",
              "    }\n",
              "\n",
              "    .colab-df-convert {\n",
              "      background-color: #E8F0FE;\n",
              "      border: none;\n",
              "      border-radius: 50%;\n",
              "      cursor: pointer;\n",
              "      display: none;\n",
              "      fill: #1967D2;\n",
              "      height: 32px;\n",
              "      padding: 0 0 0 0;\n",
              "      width: 32px;\n",
              "    }\n",
              "\n",
              "    .colab-df-convert:hover {\n",
              "      background-color: #E2EBFA;\n",
              "      box-shadow: 0px 1px 2px rgba(60, 64, 67, 0.3), 0px 1px 3px 1px rgba(60, 64, 67, 0.15);\n",
              "      fill: #174EA6;\n",
              "    }\n",
              "\n",
              "    [theme=dark] .colab-df-convert {\n",
              "      background-color: #3B4455;\n",
              "      fill: #D2E3FC;\n",
              "    }\n",
              "\n",
              "    [theme=dark] .colab-df-convert:hover {\n",
              "      background-color: #434B5C;\n",
              "      box-shadow: 0px 1px 3px 1px rgba(0, 0, 0, 0.15);\n",
              "      filter: drop-shadow(0px 1px 2px rgba(0, 0, 0, 0.3));\n",
              "      fill: #FFFFFF;\n",
              "    }\n",
              "  </style>\n",
              "\n",
              "      <script>\n",
              "        const buttonEl =\n",
              "          document.querySelector('#df-54942e90-a0c6-4e1c-b613-05aa35696db5 button.colab-df-convert');\n",
              "        buttonEl.style.display =\n",
              "          google.colab.kernel.accessAllowed ? 'block' : 'none';\n",
              "\n",
              "        async function convertToInteractive(key) {\n",
              "          const element = document.querySelector('#df-54942e90-a0c6-4e1c-b613-05aa35696db5');\n",
              "          const dataTable =\n",
              "            await google.colab.kernel.invokeFunction('convertToInteractive',\n",
              "                                                     [key], {});\n",
              "          if (!dataTable) return;\n",
              "\n",
              "          const docLinkHtml = 'Like what you see? Visit the ' +\n",
              "            '<a target=\"_blank\" href=https://colab.research.google.com/notebooks/data_table.ipynb>data table notebook</a>'\n",
              "            + ' to learn more about interactive tables.';\n",
              "          element.innerHTML = '';\n",
              "          dataTable['output_type'] = 'display_data';\n",
              "          await google.colab.output.renderOutput(dataTable, element);\n",
              "          const docLink = document.createElement('div');\n",
              "          docLink.innerHTML = docLinkHtml;\n",
              "          element.appendChild(docLink);\n",
              "        }\n",
              "      </script>\n",
              "    </div>\n",
              "  </div>\n",
              "  "
            ],
            "text/plain": [
              "                   pickup              dropoff  ...  pickup_borough  dropoff_borough\n",
              "6432  2019-03-13 19:31:22  2019-03-13 19:48:02  ...        Brooklyn         Brooklyn\n",
              "\n",
              "[1 rows x 14 columns]"
            ]
          },
          "metadata": {},
          "execution_count": 73
        }
      ]
    },
    {
      "cell_type": "markdown",
      "source": [
        "It worked but pandas threw the `SettingWithCopyWarning` mentioned above."
      ],
      "metadata": {
        "id": "I1CGCjv1Do0S"
      }
    },
    {
      "cell_type": "markdown",
      "source": [
        "Suppose we want change the credit card payment category to mastercard."
      ],
      "metadata": {
        "id": "BBJAeesbDzGE"
      }
    },
    {
      "cell_type": "code",
      "source": [
        "df_taxis[df_taxis[\"payment\"]==\"credit card\"][\"payment\"] = \"mastercard\""
      ],
      "metadata": {
        "colab": {
          "base_uri": "https://localhost:8080/"
        },
        "id": "Z3yU_Tn1EZLt",
        "outputId": "9a6c1399-3842-4d7d-9c4a-1c09003ca29d"
      },
      "execution_count": 74,
      "outputs": [
        {
          "output_type": "stream",
          "name": "stderr",
          "text": [
            "/usr/local/lib/python3.7/dist-packages/ipykernel_launcher.py:1: SettingWithCopyWarning: \n",
            "A value is trying to be set on a copy of a slice from a DataFrame.\n",
            "Try using .loc[row_indexer,col_indexer] = value instead\n",
            "\n",
            "See the caveats in the documentation: https://pandas.pydata.org/pandas-docs/stable/user_guide/indexing.html#returning-a-view-versus-a-copy\n",
            "  \"\"\"Entry point for launching an IPython kernel.\n"
          ]
        }
      ]
    },
    {
      "cell_type": "code",
      "source": [
        "df_taxis.tail(1)"
      ],
      "metadata": {
        "colab": {
          "base_uri": "https://localhost:8080/",
          "height": 80
        },
        "id": "PQtei0f9ElBO",
        "outputId": "4fc2dd91-17e6-447a-9926-1ba32848a39b"
      },
      "execution_count": 75,
      "outputs": [
        {
          "output_type": "execute_result",
          "data": {
            "text/html": [
              "\n",
              "  <div id=\"df-59834dd7-ac01-4ec0-9ac6-18a9a6f11997\">\n",
              "    <div class=\"colab-df-container\">\n",
              "      <div>\n",
              "<style scoped>\n",
              "    .dataframe tbody tr th:only-of-type {\n",
              "        vertical-align: middle;\n",
              "    }\n",
              "\n",
              "    .dataframe tbody tr th {\n",
              "        vertical-align: top;\n",
              "    }\n",
              "\n",
              "    .dataframe thead th {\n",
              "        text-align: right;\n",
              "    }\n",
              "</style>\n",
              "<table border=\"1\" class=\"dataframe\">\n",
              "  <thead>\n",
              "    <tr style=\"text-align: right;\">\n",
              "      <th></th>\n",
              "      <th>pickup</th>\n",
              "      <th>dropoff</th>\n",
              "      <th>passengers</th>\n",
              "      <th>distance</th>\n",
              "      <th>fare</th>\n",
              "      <th>tip</th>\n",
              "      <th>tolls</th>\n",
              "      <th>total</th>\n",
              "      <th>color</th>\n",
              "      <th>payment</th>\n",
              "      <th>pickup_zone</th>\n",
              "      <th>dropoff_zone</th>\n",
              "      <th>pickup_borough</th>\n",
              "      <th>dropoff_borough</th>\n",
              "    </tr>\n",
              "  </thead>\n",
              "  <tbody>\n",
              "    <tr>\n",
              "      <th>6432</th>\n",
              "      <td>2019-03-13 19:31:22</td>\n",
              "      <td>2019-03-13 19:48:02</td>\n",
              "      <td>1</td>\n",
              "      <td>3.85</td>\n",
              "      <td>15.0</td>\n",
              "      <td>3.36</td>\n",
              "      <td>0.0</td>\n",
              "      <td>20.16</td>\n",
              "      <td>yellow</td>\n",
              "      <td>credit card</td>\n",
              "      <td>Boerum Hill</td>\n",
              "      <td>Windsor Terrace</td>\n",
              "      <td>Brooklyn</td>\n",
              "      <td>Brooklyn</td>\n",
              "    </tr>\n",
              "  </tbody>\n",
              "</table>\n",
              "</div>\n",
              "      <button class=\"colab-df-convert\" onclick=\"convertToInteractive('df-59834dd7-ac01-4ec0-9ac6-18a9a6f11997')\"\n",
              "              title=\"Convert this dataframe to an interactive table.\"\n",
              "              style=\"display:none;\">\n",
              "        \n",
              "  <svg xmlns=\"http://www.w3.org/2000/svg\" height=\"24px\"viewBox=\"0 0 24 24\"\n",
              "       width=\"24px\">\n",
              "    <path d=\"M0 0h24v24H0V0z\" fill=\"none\"/>\n",
              "    <path d=\"M18.56 5.44l.94 2.06.94-2.06 2.06-.94-2.06-.94-.94-2.06-.94 2.06-2.06.94zm-11 1L8.5 8.5l.94-2.06 2.06-.94-2.06-.94L8.5 2.5l-.94 2.06-2.06.94zm10 10l.94 2.06.94-2.06 2.06-.94-2.06-.94-.94-2.06-.94 2.06-2.06.94z\"/><path d=\"M17.41 7.96l-1.37-1.37c-.4-.4-.92-.59-1.43-.59-.52 0-1.04.2-1.43.59L10.3 9.45l-7.72 7.72c-.78.78-.78 2.05 0 2.83L4 21.41c.39.39.9.59 1.41.59.51 0 1.02-.2 1.41-.59l7.78-7.78 2.81-2.81c.8-.78.8-2.07 0-2.86zM5.41 20L4 18.59l7.72-7.72 1.47 1.35L5.41 20z\"/>\n",
              "  </svg>\n",
              "      </button>\n",
              "      \n",
              "  <style>\n",
              "    .colab-df-container {\n",
              "      display:flex;\n",
              "      flex-wrap:wrap;\n",
              "      gap: 12px;\n",
              "    }\n",
              "\n",
              "    .colab-df-convert {\n",
              "      background-color: #E8F0FE;\n",
              "      border: none;\n",
              "      border-radius: 50%;\n",
              "      cursor: pointer;\n",
              "      display: none;\n",
              "      fill: #1967D2;\n",
              "      height: 32px;\n",
              "      padding: 0 0 0 0;\n",
              "      width: 32px;\n",
              "    }\n",
              "\n",
              "    .colab-df-convert:hover {\n",
              "      background-color: #E2EBFA;\n",
              "      box-shadow: 0px 1px 2px rgba(60, 64, 67, 0.3), 0px 1px 3px 1px rgba(60, 64, 67, 0.15);\n",
              "      fill: #174EA6;\n",
              "    }\n",
              "\n",
              "    [theme=dark] .colab-df-convert {\n",
              "      background-color: #3B4455;\n",
              "      fill: #D2E3FC;\n",
              "    }\n",
              "\n",
              "    [theme=dark] .colab-df-convert:hover {\n",
              "      background-color: #434B5C;\n",
              "      box-shadow: 0px 1px 3px 1px rgba(0, 0, 0, 0.15);\n",
              "      filter: drop-shadow(0px 1px 2px rgba(0, 0, 0, 0.3));\n",
              "      fill: #FFFFFF;\n",
              "    }\n",
              "  </style>\n",
              "\n",
              "      <script>\n",
              "        const buttonEl =\n",
              "          document.querySelector('#df-59834dd7-ac01-4ec0-9ac6-18a9a6f11997 button.colab-df-convert');\n",
              "        buttonEl.style.display =\n",
              "          google.colab.kernel.accessAllowed ? 'block' : 'none';\n",
              "\n",
              "        async function convertToInteractive(key) {\n",
              "          const element = document.querySelector('#df-59834dd7-ac01-4ec0-9ac6-18a9a6f11997');\n",
              "          const dataTable =\n",
              "            await google.colab.kernel.invokeFunction('convertToInteractive',\n",
              "                                                     [key], {});\n",
              "          if (!dataTable) return;\n",
              "\n",
              "          const docLinkHtml = 'Like what you see? Visit the ' +\n",
              "            '<a target=\"_blank\" href=https://colab.research.google.com/notebooks/data_table.ipynb>data table notebook</a>'\n",
              "            + ' to learn more about interactive tables.';\n",
              "          element.innerHTML = '';\n",
              "          dataTable['output_type'] = 'display_data';\n",
              "          await google.colab.output.renderOutput(dataTable, element);\n",
              "          const docLink = document.createElement('div');\n",
              "          docLink.innerHTML = docLinkHtml;\n",
              "          element.appendChild(docLink);\n",
              "        }\n",
              "      </script>\n",
              "    </div>\n",
              "  </div>\n",
              "  "
            ],
            "text/plain": [
              "                   pickup              dropoff  ...  pickup_borough  dropoff_borough\n",
              "6432  2019-03-13 19:31:22  2019-03-13 19:48:02  ...        Brooklyn         Brooklyn\n",
              "\n",
              "[1 rows x 14 columns]"
            ]
          },
          "metadata": {},
          "execution_count": 75
        }
      ]
    },
    {
      "cell_type": "markdown",
      "source": [
        "It didn't work and pandas threw the `SettingWithCopyWarning` error mentioned above."
      ],
      "metadata": {
        "id": "5CVKYpopEm_S"
      }
    },
    {
      "cell_type": "markdown",
      "source": [
        "Pandas behaves this way we're trying to make an assignment to a `Copy` instead of a `View`.\n",
        "\n",
        "- `Copy` is a copy of the actual `DataFrame`. This will be thrown away as soon as the operation is done.\n",
        "- `View` is the actual `DataFrame` you want to work with"
      ],
      "metadata": {
        "id": "UdOdHyoxExOq"
      }
    },
    {
      "cell_type": "markdown",
      "source": [
        "To avoid this error, we can use the `.loc(row_indexer, col_indexer)` operation in pandas."
      ],
      "metadata": {
        "id": "3quc4ihHFnfi"
      }
    },
    {
      "cell_type": "code",
      "source": [
        "# let's revert the changes from yellow to green\n",
        "df_taxis.loc[len(df_taxis)-1, \"color\"] = \"green\""
      ],
      "metadata": {
        "id": "dtZ0Bw-mF0by"
      },
      "execution_count": 79,
      "outputs": []
    },
    {
      "cell_type": "code",
      "source": [
        "df_taxis.tail(1)"
      ],
      "metadata": {
        "colab": {
          "base_uri": "https://localhost:8080/",
          "height": 80
        },
        "id": "X5SxpbQ2Gv0R",
        "outputId": "2d8b0dd0-a135-4586-e605-db4a3f2a86e3"
      },
      "execution_count": 82,
      "outputs": [
        {
          "output_type": "execute_result",
          "data": {
            "text/html": [
              "\n",
              "  <div id=\"df-973866b2-825a-4387-941d-751fec30e2c1\">\n",
              "    <div class=\"colab-df-container\">\n",
              "      <div>\n",
              "<style scoped>\n",
              "    .dataframe tbody tr th:only-of-type {\n",
              "        vertical-align: middle;\n",
              "    }\n",
              "\n",
              "    .dataframe tbody tr th {\n",
              "        vertical-align: top;\n",
              "    }\n",
              "\n",
              "    .dataframe thead th {\n",
              "        text-align: right;\n",
              "    }\n",
              "</style>\n",
              "<table border=\"1\" class=\"dataframe\">\n",
              "  <thead>\n",
              "    <tr style=\"text-align: right;\">\n",
              "      <th></th>\n",
              "      <th>pickup</th>\n",
              "      <th>dropoff</th>\n",
              "      <th>passengers</th>\n",
              "      <th>distance</th>\n",
              "      <th>fare</th>\n",
              "      <th>tip</th>\n",
              "      <th>tolls</th>\n",
              "      <th>total</th>\n",
              "      <th>color</th>\n",
              "      <th>payment</th>\n",
              "      <th>pickup_zone</th>\n",
              "      <th>dropoff_zone</th>\n",
              "      <th>pickup_borough</th>\n",
              "      <th>dropoff_borough</th>\n",
              "    </tr>\n",
              "  </thead>\n",
              "  <tbody>\n",
              "    <tr>\n",
              "      <th>6432</th>\n",
              "      <td>2019-03-13 19:31:22</td>\n",
              "      <td>2019-03-13 19:48:02</td>\n",
              "      <td>1</td>\n",
              "      <td>3.85</td>\n",
              "      <td>15.0</td>\n",
              "      <td>3.36</td>\n",
              "      <td>0.0</td>\n",
              "      <td>20.16</td>\n",
              "      <td>green</td>\n",
              "      <td>credit card</td>\n",
              "      <td>Boerum Hill</td>\n",
              "      <td>Windsor Terrace</td>\n",
              "      <td>Brooklyn</td>\n",
              "      <td>Brooklyn</td>\n",
              "    </tr>\n",
              "  </tbody>\n",
              "</table>\n",
              "</div>\n",
              "      <button class=\"colab-df-convert\" onclick=\"convertToInteractive('df-973866b2-825a-4387-941d-751fec30e2c1')\"\n",
              "              title=\"Convert this dataframe to an interactive table.\"\n",
              "              style=\"display:none;\">\n",
              "        \n",
              "  <svg xmlns=\"http://www.w3.org/2000/svg\" height=\"24px\"viewBox=\"0 0 24 24\"\n",
              "       width=\"24px\">\n",
              "    <path d=\"M0 0h24v24H0V0z\" fill=\"none\"/>\n",
              "    <path d=\"M18.56 5.44l.94 2.06.94-2.06 2.06-.94-2.06-.94-.94-2.06-.94 2.06-2.06.94zm-11 1L8.5 8.5l.94-2.06 2.06-.94-2.06-.94L8.5 2.5l-.94 2.06-2.06.94zm10 10l.94 2.06.94-2.06 2.06-.94-2.06-.94-.94-2.06-.94 2.06-2.06.94z\"/><path d=\"M17.41 7.96l-1.37-1.37c-.4-.4-.92-.59-1.43-.59-.52 0-1.04.2-1.43.59L10.3 9.45l-7.72 7.72c-.78.78-.78 2.05 0 2.83L4 21.41c.39.39.9.59 1.41.59.51 0 1.02-.2 1.41-.59l7.78-7.78 2.81-2.81c.8-.78.8-2.07 0-2.86zM5.41 20L4 18.59l7.72-7.72 1.47 1.35L5.41 20z\"/>\n",
              "  </svg>\n",
              "      </button>\n",
              "      \n",
              "  <style>\n",
              "    .colab-df-container {\n",
              "      display:flex;\n",
              "      flex-wrap:wrap;\n",
              "      gap: 12px;\n",
              "    }\n",
              "\n",
              "    .colab-df-convert {\n",
              "      background-color: #E8F0FE;\n",
              "      border: none;\n",
              "      border-radius: 50%;\n",
              "      cursor: pointer;\n",
              "      display: none;\n",
              "      fill: #1967D2;\n",
              "      height: 32px;\n",
              "      padding: 0 0 0 0;\n",
              "      width: 32px;\n",
              "    }\n",
              "\n",
              "    .colab-df-convert:hover {\n",
              "      background-color: #E2EBFA;\n",
              "      box-shadow: 0px 1px 2px rgba(60, 64, 67, 0.3), 0px 1px 3px 1px rgba(60, 64, 67, 0.15);\n",
              "      fill: #174EA6;\n",
              "    }\n",
              "\n",
              "    [theme=dark] .colab-df-convert {\n",
              "      background-color: #3B4455;\n",
              "      fill: #D2E3FC;\n",
              "    }\n",
              "\n",
              "    [theme=dark] .colab-df-convert:hover {\n",
              "      background-color: #434B5C;\n",
              "      box-shadow: 0px 1px 3px 1px rgba(0, 0, 0, 0.15);\n",
              "      filter: drop-shadow(0px 1px 2px rgba(0, 0, 0, 0.3));\n",
              "      fill: #FFFFFF;\n",
              "    }\n",
              "  </style>\n",
              "\n",
              "      <script>\n",
              "        const buttonEl =\n",
              "          document.querySelector('#df-973866b2-825a-4387-941d-751fec30e2c1 button.colab-df-convert');\n",
              "        buttonEl.style.display =\n",
              "          google.colab.kernel.accessAllowed ? 'block' : 'none';\n",
              "\n",
              "        async function convertToInteractive(key) {\n",
              "          const element = document.querySelector('#df-973866b2-825a-4387-941d-751fec30e2c1');\n",
              "          const dataTable =\n",
              "            await google.colab.kernel.invokeFunction('convertToInteractive',\n",
              "                                                     [key], {});\n",
              "          if (!dataTable) return;\n",
              "\n",
              "          const docLinkHtml = 'Like what you see? Visit the ' +\n",
              "            '<a target=\"_blank\" href=https://colab.research.google.com/notebooks/data_table.ipynb>data table notebook</a>'\n",
              "            + ' to learn more about interactive tables.';\n",
              "          element.innerHTML = '';\n",
              "          dataTable['output_type'] = 'display_data';\n",
              "          await google.colab.output.renderOutput(dataTable, element);\n",
              "          const docLink = document.createElement('div');\n",
              "          docLink.innerHTML = docLinkHtml;\n",
              "          element.appendChild(docLink);\n",
              "        }\n",
              "      </script>\n",
              "    </div>\n",
              "  </div>\n",
              "  "
            ],
            "text/plain": [
              "                   pickup              dropoff  ...  pickup_borough  dropoff_borough\n",
              "6432  2019-03-13 19:31:22  2019-03-13 19:48:02  ...        Brooklyn         Brooklyn\n",
              "\n",
              "[1 rows x 14 columns]"
            ]
          },
          "metadata": {},
          "execution_count": 82
        }
      ]
    },
    {
      "cell_type": "code",
      "source": [
        "# let's retry to update the credit card to mastercard\n",
        "df_taxis.loc[df_taxis[\"payment\"]==\"credit card\", \"payment\"] = \"mastercard\""
      ],
      "metadata": {
        "id": "sBNCAhO6GPpu"
      },
      "execution_count": 83,
      "outputs": []
    },
    {
      "cell_type": "code",
      "source": [
        "df_taxis.tail(1)"
      ],
      "metadata": {
        "colab": {
          "base_uri": "https://localhost:8080/",
          "height": 80
        },
        "id": "iTJtu0bJGByz",
        "outputId": "8f139b56-b8cf-4494-b36b-a1bc4f3833cc"
      },
      "execution_count": 84,
      "outputs": [
        {
          "output_type": "execute_result",
          "data": {
            "text/html": [
              "\n",
              "  <div id=\"df-ab211d1f-f3e0-498d-897e-d7e6b606048b\">\n",
              "    <div class=\"colab-df-container\">\n",
              "      <div>\n",
              "<style scoped>\n",
              "    .dataframe tbody tr th:only-of-type {\n",
              "        vertical-align: middle;\n",
              "    }\n",
              "\n",
              "    .dataframe tbody tr th {\n",
              "        vertical-align: top;\n",
              "    }\n",
              "\n",
              "    .dataframe thead th {\n",
              "        text-align: right;\n",
              "    }\n",
              "</style>\n",
              "<table border=\"1\" class=\"dataframe\">\n",
              "  <thead>\n",
              "    <tr style=\"text-align: right;\">\n",
              "      <th></th>\n",
              "      <th>pickup</th>\n",
              "      <th>dropoff</th>\n",
              "      <th>passengers</th>\n",
              "      <th>distance</th>\n",
              "      <th>fare</th>\n",
              "      <th>tip</th>\n",
              "      <th>tolls</th>\n",
              "      <th>total</th>\n",
              "      <th>color</th>\n",
              "      <th>payment</th>\n",
              "      <th>pickup_zone</th>\n",
              "      <th>dropoff_zone</th>\n",
              "      <th>pickup_borough</th>\n",
              "      <th>dropoff_borough</th>\n",
              "    </tr>\n",
              "  </thead>\n",
              "  <tbody>\n",
              "    <tr>\n",
              "      <th>6432</th>\n",
              "      <td>2019-03-13 19:31:22</td>\n",
              "      <td>2019-03-13 19:48:02</td>\n",
              "      <td>1</td>\n",
              "      <td>3.85</td>\n",
              "      <td>15.0</td>\n",
              "      <td>3.36</td>\n",
              "      <td>0.0</td>\n",
              "      <td>20.16</td>\n",
              "      <td>green</td>\n",
              "      <td>mastercard</td>\n",
              "      <td>Boerum Hill</td>\n",
              "      <td>Windsor Terrace</td>\n",
              "      <td>Brooklyn</td>\n",
              "      <td>Brooklyn</td>\n",
              "    </tr>\n",
              "  </tbody>\n",
              "</table>\n",
              "</div>\n",
              "      <button class=\"colab-df-convert\" onclick=\"convertToInteractive('df-ab211d1f-f3e0-498d-897e-d7e6b606048b')\"\n",
              "              title=\"Convert this dataframe to an interactive table.\"\n",
              "              style=\"display:none;\">\n",
              "        \n",
              "  <svg xmlns=\"http://www.w3.org/2000/svg\" height=\"24px\"viewBox=\"0 0 24 24\"\n",
              "       width=\"24px\">\n",
              "    <path d=\"M0 0h24v24H0V0z\" fill=\"none\"/>\n",
              "    <path d=\"M18.56 5.44l.94 2.06.94-2.06 2.06-.94-2.06-.94-.94-2.06-.94 2.06-2.06.94zm-11 1L8.5 8.5l.94-2.06 2.06-.94-2.06-.94L8.5 2.5l-.94 2.06-2.06.94zm10 10l.94 2.06.94-2.06 2.06-.94-2.06-.94-.94-2.06-.94 2.06-2.06.94z\"/><path d=\"M17.41 7.96l-1.37-1.37c-.4-.4-.92-.59-1.43-.59-.52 0-1.04.2-1.43.59L10.3 9.45l-7.72 7.72c-.78.78-.78 2.05 0 2.83L4 21.41c.39.39.9.59 1.41.59.51 0 1.02-.2 1.41-.59l7.78-7.78 2.81-2.81c.8-.78.8-2.07 0-2.86zM5.41 20L4 18.59l7.72-7.72 1.47 1.35L5.41 20z\"/>\n",
              "  </svg>\n",
              "      </button>\n",
              "      \n",
              "  <style>\n",
              "    .colab-df-container {\n",
              "      display:flex;\n",
              "      flex-wrap:wrap;\n",
              "      gap: 12px;\n",
              "    }\n",
              "\n",
              "    .colab-df-convert {\n",
              "      background-color: #E8F0FE;\n",
              "      border: none;\n",
              "      border-radius: 50%;\n",
              "      cursor: pointer;\n",
              "      display: none;\n",
              "      fill: #1967D2;\n",
              "      height: 32px;\n",
              "      padding: 0 0 0 0;\n",
              "      width: 32px;\n",
              "    }\n",
              "\n",
              "    .colab-df-convert:hover {\n",
              "      background-color: #E2EBFA;\n",
              "      box-shadow: 0px 1px 2px rgba(60, 64, 67, 0.3), 0px 1px 3px 1px rgba(60, 64, 67, 0.15);\n",
              "      fill: #174EA6;\n",
              "    }\n",
              "\n",
              "    [theme=dark] .colab-df-convert {\n",
              "      background-color: #3B4455;\n",
              "      fill: #D2E3FC;\n",
              "    }\n",
              "\n",
              "    [theme=dark] .colab-df-convert:hover {\n",
              "      background-color: #434B5C;\n",
              "      box-shadow: 0px 1px 3px 1px rgba(0, 0, 0, 0.15);\n",
              "      filter: drop-shadow(0px 1px 2px rgba(0, 0, 0, 0.3));\n",
              "      fill: #FFFFFF;\n",
              "    }\n",
              "  </style>\n",
              "\n",
              "      <script>\n",
              "        const buttonEl =\n",
              "          document.querySelector('#df-ab211d1f-f3e0-498d-897e-d7e6b606048b button.colab-df-convert');\n",
              "        buttonEl.style.display =\n",
              "          google.colab.kernel.accessAllowed ? 'block' : 'none';\n",
              "\n",
              "        async function convertToInteractive(key) {\n",
              "          const element = document.querySelector('#df-ab211d1f-f3e0-498d-897e-d7e6b606048b');\n",
              "          const dataTable =\n",
              "            await google.colab.kernel.invokeFunction('convertToInteractive',\n",
              "                                                     [key], {});\n",
              "          if (!dataTable) return;\n",
              "\n",
              "          const docLinkHtml = 'Like what you see? Visit the ' +\n",
              "            '<a target=\"_blank\" href=https://colab.research.google.com/notebooks/data_table.ipynb>data table notebook</a>'\n",
              "            + ' to learn more about interactive tables.';\n",
              "          element.innerHTML = '';\n",
              "          dataTable['output_type'] = 'display_data';\n",
              "          await google.colab.output.renderOutput(dataTable, element);\n",
              "          const docLink = document.createElement('div');\n",
              "          docLink.innerHTML = docLinkHtml;\n",
              "          element.appendChild(docLink);\n",
              "        }\n",
              "      </script>\n",
              "    </div>\n",
              "  </div>\n",
              "  "
            ],
            "text/plain": [
              "                   pickup              dropoff  ...  pickup_borough  dropoff_borough\n",
              "6432  2019-03-13 19:31:22  2019-03-13 19:48:02  ...        Brooklyn         Brooklyn\n",
              "\n",
              "[1 rows x 14 columns]"
            ]
          },
          "metadata": {},
          "execution_count": 84
        }
      ]
    },
    {
      "cell_type": "markdown",
      "source": [
        "Now, we were both able to update the contents of the dataframe without the `SettingWithCopyWarning` message!"
      ],
      "metadata": {
        "id": "g7QzFgAzFnYa"
      }
    },
    {
      "cell_type": "markdown",
      "source": [
        "As you can see from our several demonstrations, there is a lot of ways for solving things in pandas. Next time, we can leverage our knowledge of pandas being column-major **in order to speed-up the computations in our data pipeline processes and exploratory data analysis.** 😁"
      ],
      "metadata": {
        "id": "H1XF45FcPYq0"
      }
    },
    {
      "cell_type": "markdown",
      "source": [
        "**Sometimes, we process near-to-larger-than-memory datasets in adhoc,** and when our only option available is pandas, here are some tips and tricks on how to process large datasets efficiently without running out of memory or exhausting your compute resources."
      ],
      "metadata": {
        "id": "fEr-HTjXLk4X"
      }
    },
    {
      "cell_type": "code",
      "source": [
        "mkdir data"
      ],
      "metadata": {
        "colab": {
          "base_uri": "https://localhost:8080/"
        },
        "id": "m-go3P6htflX",
        "outputId": "95aacbc6-9c01-4f9b-fdb5-a3292ff1fd35"
      },
      "execution_count": 85,
      "outputs": [
        {
          "output_type": "stream",
          "name": "stdout",
          "text": [
            "mkdir: cannot create directory ‘data’: File exists\n"
          ]
        }
      ]
    },
    {
      "cell_type": "code",
      "source": [
        "cd data"
      ],
      "metadata": {
        "colab": {
          "base_uri": "https://localhost:8080/"
        },
        "id": "KYd1hH47tX5o",
        "outputId": "de5385ec-d876-4e20-d827-4a00f8155b41"
      },
      "execution_count": 86,
      "outputs": [
        {
          "output_type": "stream",
          "name": "stdout",
          "text": [
            "/content/data\n"
          ]
        }
      ]
    },
    {
      "cell_type": "code",
      "source": [
        "from google.colab import files\n",
        "files.upload();"
      ],
      "metadata": {
        "colab": {
          "resources": {
            "http://localhost:8080/nbextensions/google.colab/files.js": {
              "data": "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",
              "ok": true,
              "headers": [
                [
                  "content-type",
                  "application/javascript"
                ]
              ],
              "status": 200,
              "status_text": ""
            }
          },
          "base_uri": "https://localhost:8080/",
          "height": 73
        },
        "id": "p8R5KektFp0l",
        "outputId": "c394d45f-99f9-43e0-99c0-24710433e861"
      },
      "execution_count": 87,
      "outputs": [
        {
          "output_type": "display_data",
          "data": {
            "text/html": [
              "\n",
              "     <input type=\"file\" id=\"files-4440dc80-c815-4b70-8d69-22d06a4a17fc\" name=\"files[]\" multiple disabled\n",
              "        style=\"border:none\" />\n",
              "     <output id=\"result-4440dc80-c815-4b70-8d69-22d06a4a17fc\">\n",
              "      Upload widget is only available when the cell has been executed in the\n",
              "      current browser session. Please rerun this cell to enable.\n",
              "      </output>\n",
              "      <script src=\"/nbextensions/google.colab/files.js\"></script> "
            ],
            "text/plain": [
              "<IPython.core.display.HTML object>"
            ]
          },
          "metadata": {}
        },
        {
          "output_type": "stream",
          "name": "stdout",
          "text": [
            "Saving netflix_titles.csv to netflix_titles.csv\n"
          ]
        }
      ]
    },
    {
      "cell_type": "code",
      "source": [
        "cd /content"
      ],
      "metadata": {
        "colab": {
          "base_uri": "https://localhost:8080/"
        },
        "id": "4klQvM-FqnIS",
        "outputId": "09df5392-aa9d-4d4b-df59-cb6bd05ba53d"
      },
      "execution_count": 88,
      "outputs": [
        {
          "output_type": "stream",
          "name": "stdout",
          "text": [
            "/content\n"
          ]
        }
      ]
    },
    {
      "cell_type": "markdown",
      "source": [
        "When you're loading data into pandas, **load only the relevant columns** otherwise they're just occupying unnecessary space in the memory."
      ],
      "metadata": {
        "id": "G2rXZxywLkx6"
      }
    },
    {
      "cell_type": "code",
      "source": [
        "# https://www.kaggle.com/shivamb/netflix-shows\n",
        "FILEPATH_NETFLIX_TITLES = \"data/netflix_titles.csv\""
      ],
      "metadata": {
        "id": "QtEzKWwGvgJv"
      },
      "execution_count": 89,
      "outputs": []
    },
    {
      "cell_type": "code",
      "source": [
        "df_netflix = pd.read_csv(FILEPATH_NETFLIX_TITLES)\n",
        "df_netflix.info(verbose=True, memory_usage=\"deep\")"
      ],
      "metadata": {
        "colab": {
          "base_uri": "https://localhost:8080/"
        },
        "id": "ySnNJ7vLu1DP",
        "outputId": "b9751ef0-e550-4e28-80f3-979cc609ad13"
      },
      "execution_count": 90,
      "outputs": [
        {
          "output_type": "stream",
          "name": "stdout",
          "text": [
            "<class 'pandas.core.frame.DataFrame'>\n",
            "RangeIndex: 8807 entries, 0 to 8806\n",
            "Data columns (total 12 columns):\n",
            " #   Column        Non-Null Count  Dtype \n",
            "---  ------        --------------  ----- \n",
            " 0   show_id       8807 non-null   object\n",
            " 1   type          8807 non-null   object\n",
            " 2   title         8807 non-null   object\n",
            " 3   director      6173 non-null   object\n",
            " 4   cast          7982 non-null   object\n",
            " 5   country       7976 non-null   object\n",
            " 6   date_added    8797 non-null   object\n",
            " 7   release_year  8807 non-null   int64 \n",
            " 8   rating        8803 non-null   object\n",
            " 9   duration      8804 non-null   object\n",
            " 10  listed_in     8807 non-null   object\n",
            " 11  description   8807 non-null   object\n",
            "dtypes: int64(1), object(11)\n",
            "memory usage: 8.5 MB\n"
          ]
        }
      ]
    },
    {
      "cell_type": "code",
      "source": [
        "df_netflix.head()"
      ],
      "metadata": {
        "colab": {
          "base_uri": "https://localhost:8080/",
          "height": 250
        },
        "id": "2PPJsKQxu6UG",
        "outputId": "248f51e3-ff3a-4416-8719-9247c7311699"
      },
      "execution_count": null,
      "outputs": [
        {
          "output_type": "execute_result",
          "data": {
            "text/html": [
              "\n",
              "  <div id=\"df-a5ab7f1e-e25b-4a6a-895f-9185d27aa1d1\">\n",
              "    <div class=\"colab-df-container\">\n",
              "      <div>\n",
              "<style scoped>\n",
              "    .dataframe tbody tr th:only-of-type {\n",
              "        vertical-align: middle;\n",
              "    }\n",
              "\n",
              "    .dataframe tbody tr th {\n",
              "        vertical-align: top;\n",
              "    }\n",
              "\n",
              "    .dataframe thead th {\n",
              "        text-align: right;\n",
              "    }\n",
              "</style>\n",
              "<table border=\"1\" class=\"dataframe\">\n",
              "  <thead>\n",
              "    <tr style=\"text-align: right;\">\n",
              "      <th></th>\n",
              "      <th>show_id</th>\n",
              "      <th>type</th>\n",
              "      <th>title</th>\n",
              "      <th>director</th>\n",
              "      <th>cast</th>\n",
              "      <th>country</th>\n",
              "      <th>date_added</th>\n",
              "      <th>release_year</th>\n",
              "      <th>rating</th>\n",
              "      <th>duration</th>\n",
              "      <th>listed_in</th>\n",
              "      <th>description</th>\n",
              "    </tr>\n",
              "  </thead>\n",
              "  <tbody>\n",
              "    <tr>\n",
              "      <th>0</th>\n",
              "      <td>s1</td>\n",
              "      <td>Movie</td>\n",
              "      <td>Dick Johnson Is Dead</td>\n",
              "      <td>Kirsten Johnson</td>\n",
              "      <td>NaN</td>\n",
              "      <td>United States</td>\n",
              "      <td>September 25, 2021</td>\n",
              "      <td>2020</td>\n",
              "      <td>PG-13</td>\n",
              "      <td>90 min</td>\n",
              "      <td>Documentaries</td>\n",
              "      <td>As her father nears the end of his life, filmm...</td>\n",
              "    </tr>\n",
              "    <tr>\n",
              "      <th>1</th>\n",
              "      <td>s2</td>\n",
              "      <td>TV Show</td>\n",
              "      <td>Blood &amp; Water</td>\n",
              "      <td>NaN</td>\n",
              "      <td>Ama Qamata, Khosi Ngema, Gail Mabalane, Thaban...</td>\n",
              "      <td>South Africa</td>\n",
              "      <td>September 24, 2021</td>\n",
              "      <td>2021</td>\n",
              "      <td>TV-MA</td>\n",
              "      <td>2 Seasons</td>\n",
              "      <td>International TV Shows, TV Dramas, TV Mysteries</td>\n",
              "      <td>After crossing paths at a party, a Cape Town t...</td>\n",
              "    </tr>\n",
              "    <tr>\n",
              "      <th>2</th>\n",
              "      <td>s3</td>\n",
              "      <td>TV Show</td>\n",
              "      <td>Ganglands</td>\n",
              "      <td>Julien Leclercq</td>\n",
              "      <td>Sami Bouajila, Tracy Gotoas, Samuel Jouy, Nabi...</td>\n",
              "      <td>NaN</td>\n",
              "      <td>September 24, 2021</td>\n",
              "      <td>2021</td>\n",
              "      <td>TV-MA</td>\n",
              "      <td>1 Season</td>\n",
              "      <td>Crime TV Shows, International TV Shows, TV Act...</td>\n",
              "      <td>To protect his family from a powerful drug lor...</td>\n",
              "    </tr>\n",
              "    <tr>\n",
              "      <th>3</th>\n",
              "      <td>s4</td>\n",
              "      <td>TV Show</td>\n",
              "      <td>Jailbirds New Orleans</td>\n",
              "      <td>NaN</td>\n",
              "      <td>NaN</td>\n",
              "      <td>NaN</td>\n",
              "      <td>September 24, 2021</td>\n",
              "      <td>2021</td>\n",
              "      <td>TV-MA</td>\n",
              "      <td>1 Season</td>\n",
              "      <td>Docuseries, Reality TV</td>\n",
              "      <td>Feuds, flirtations and toilet talk go down amo...</td>\n",
              "    </tr>\n",
              "    <tr>\n",
              "      <th>4</th>\n",
              "      <td>s5</td>\n",
              "      <td>TV Show</td>\n",
              "      <td>Kota Factory</td>\n",
              "      <td>NaN</td>\n",
              "      <td>Mayur More, Jitendra Kumar, Ranjan Raj, Alam K...</td>\n",
              "      <td>India</td>\n",
              "      <td>September 24, 2021</td>\n",
              "      <td>2021</td>\n",
              "      <td>TV-MA</td>\n",
              "      <td>2 Seasons</td>\n",
              "      <td>International TV Shows, Romantic TV Shows, TV ...</td>\n",
              "      <td>In a city of coaching centers known to train I...</td>\n",
              "    </tr>\n",
              "  </tbody>\n",
              "</table>\n",
              "</div>\n",
              "      <button class=\"colab-df-convert\" onclick=\"convertToInteractive('df-a5ab7f1e-e25b-4a6a-895f-9185d27aa1d1')\"\n",
              "              title=\"Convert this dataframe to an interactive table.\"\n",
              "              style=\"display:none;\">\n",
              "        \n",
              "  <svg xmlns=\"http://www.w3.org/2000/svg\" height=\"24px\"viewBox=\"0 0 24 24\"\n",
              "       width=\"24px\">\n",
              "    <path d=\"M0 0h24v24H0V0z\" fill=\"none\"/>\n",
              "    <path d=\"M18.56 5.44l.94 2.06.94-2.06 2.06-.94-2.06-.94-.94-2.06-.94 2.06-2.06.94zm-11 1L8.5 8.5l.94-2.06 2.06-.94-2.06-.94L8.5 2.5l-.94 2.06-2.06.94zm10 10l.94 2.06.94-2.06 2.06-.94-2.06-.94-.94-2.06-.94 2.06-2.06.94z\"/><path d=\"M17.41 7.96l-1.37-1.37c-.4-.4-.92-.59-1.43-.59-.52 0-1.04.2-1.43.59L10.3 9.45l-7.72 7.72c-.78.78-.78 2.05 0 2.83L4 21.41c.39.39.9.59 1.41.59.51 0 1.02-.2 1.41-.59l7.78-7.78 2.81-2.81c.8-.78.8-2.07 0-2.86zM5.41 20L4 18.59l7.72-7.72 1.47 1.35L5.41 20z\"/>\n",
              "  </svg>\n",
              "      </button>\n",
              "      \n",
              "  <style>\n",
              "    .colab-df-container {\n",
              "      display:flex;\n",
              "      flex-wrap:wrap;\n",
              "      gap: 12px;\n",
              "    }\n",
              "\n",
              "    .colab-df-convert {\n",
              "      background-color: #E8F0FE;\n",
              "      border: none;\n",
              "      border-radius: 50%;\n",
              "      cursor: pointer;\n",
              "      display: none;\n",
              "      fill: #1967D2;\n",
              "      height: 32px;\n",
              "      padding: 0 0 0 0;\n",
              "      width: 32px;\n",
              "    }\n",
              "\n",
              "    .colab-df-convert:hover {\n",
              "      background-color: #E2EBFA;\n",
              "      box-shadow: 0px 1px 2px rgba(60, 64, 67, 0.3), 0px 1px 3px 1px rgba(60, 64, 67, 0.15);\n",
              "      fill: #174EA6;\n",
              "    }\n",
              "\n",
              "    [theme=dark] .colab-df-convert {\n",
              "      background-color: #3B4455;\n",
              "      fill: #D2E3FC;\n",
              "    }\n",
              "\n",
              "    [theme=dark] .colab-df-convert:hover {\n",
              "      background-color: #434B5C;\n",
              "      box-shadow: 0px 1px 3px 1px rgba(0, 0, 0, 0.15);\n",
              "      filter: drop-shadow(0px 1px 2px rgba(0, 0, 0, 0.3));\n",
              "      fill: #FFFFFF;\n",
              "    }\n",
              "  </style>\n",
              "\n",
              "      <script>\n",
              "        const buttonEl =\n",
              "          document.querySelector('#df-a5ab7f1e-e25b-4a6a-895f-9185d27aa1d1 button.colab-df-convert');\n",
              "        buttonEl.style.display =\n",
              "          google.colab.kernel.accessAllowed ? 'block' : 'none';\n",
              "\n",
              "        async function convertToInteractive(key) {\n",
              "          const element = document.querySelector('#df-a5ab7f1e-e25b-4a6a-895f-9185d27aa1d1');\n",
              "          const dataTable =\n",
              "            await google.colab.kernel.invokeFunction('convertToInteractive',\n",
              "                                                     [key], {});\n",
              "          if (!dataTable) return;\n",
              "\n",
              "          const docLinkHtml = 'Like what you see? Visit the ' +\n",
              "            '<a target=\"_blank\" href=https://colab.research.google.com/notebooks/data_table.ipynb>data table notebook</a>'\n",
              "            + ' to learn more about interactive tables.';\n",
              "          element.innerHTML = '';\n",
              "          dataTable['output_type'] = 'display_data';\n",
              "          await google.colab.output.renderOutput(dataTable, element);\n",
              "          const docLink = document.createElement('div');\n",
              "          docLink.innerHTML = docLinkHtml;\n",
              "          element.appendChild(docLink);\n",
              "        }\n",
              "      </script>\n",
              "    </div>\n",
              "  </div>\n",
              "  "
            ],
            "text/plain": [
              "  show_id  ...                                        description\n",
              "0      s1  ...  As her father nears the end of his life, filmm...\n",
              "1      s2  ...  After crossing paths at a party, a Cape Town t...\n",
              "2      s3  ...  To protect his family from a powerful drug lor...\n",
              "3      s4  ...  Feuds, flirtations and toilet talk go down amo...\n",
              "4      s5  ...  In a city of coaching centers known to train I...\n",
              "\n",
              "[5 rows x 12 columns]"
            ]
          },
          "metadata": {},
          "execution_count": 100
        }
      ]
    },
    {
      "cell_type": "code",
      "source": [
        "df_netflix.nunique()"
      ],
      "metadata": {
        "colab": {
          "base_uri": "https://localhost:8080/"
        },
        "id": "kHU3H6u_wdkL",
        "outputId": "cb814113-c016-4b08-8111-065207dbb161"
      },
      "execution_count": 106,
      "outputs": [
        {
          "output_type": "execute_result",
          "data": {
            "text/plain": [
              "show_id         8807\n",
              "type               2\n",
              "title           8807\n",
              "director        4528\n",
              "cast            7692\n",
              "country          748\n",
              "date_added      1767\n",
              "release_year      74\n",
              "rating            17\n",
              "duration         220\n",
              "listed_in        514\n",
              "description     8775\n",
              "dtype: int64"
            ]
          },
          "metadata": {},
          "execution_count": 106
        }
      ]
    },
    {
      "cell_type": "markdown",
      "source": [
        "Suppose we're only tasked to **visualize the number of netflix movies released across the years since its inception.** If this dataset is heavy, we can opt not to load the other unncessary columns by using the parameter ```usecols``` in pandas' ```read_csv``` method and select the relevant ones. "
      ],
      "metadata": {
        "id": "_1XopUrAqfEi"
      }
    },
    {
      "cell_type": "code",
      "source": [
        "cols = [\"show_id\", \"type\", \"release_year\"]\n",
        "df_netflix = pd.read_csv(FILEPATH_NETFLIX_TITLES, usecols=cols)\n",
        "df_netflix.info(verbose=False, memory_usage=\"deep\")"
      ],
      "metadata": {
        "colab": {
          "base_uri": "https://localhost:8080/"
        },
        "id": "DsZzpyKZu7NH",
        "outputId": "79ed6461-90e6-4391-91db-7c414443389d"
      },
      "execution_count": 91,
      "outputs": [
        {
          "output_type": "stream",
          "name": "stdout",
          "text": [
            "<class 'pandas.core.frame.DataFrame'>\n",
            "RangeIndex: 8807 entries, 0 to 8806\n",
            "Columns: 3 entries, show_id to release_year\n",
            "dtypes: int64(1), object(2)\n",
            "memory usage: 1.1 MB\n"
          ]
        }
      ]
    },
    {
      "cell_type": "code",
      "source": [
        "8.5e6 / 1.1e6"
      ],
      "metadata": {
        "colab": {
          "base_uri": "https://localhost:8080/"
        },
        "id": "gxnugdJAIrXI",
        "outputId": "32163684-d637-4ddf-8023-739cf2e1f99b"
      },
      "execution_count": 92,
      "outputs": [
        {
          "output_type": "execute_result",
          "data": {
            "text/plain": [
              "7.7272727272727275"
            ]
          },
          "metadata": {},
          "execution_count": 92
        }
      ]
    },
    {
      "cell_type": "markdown",
      "source": [
        "Hooray! We've been able to shrink the memory usage down to **~7x times** just by mindfully selecting the columns we need for analysis."
      ],
      "metadata": {
        "id": "2MA_TrbpIrPo"
      }
    },
    {
      "cell_type": "code",
      "source": [
        "netflix_titles_over_the_yrs = df_netflix.groupby([\"release_year\", \"type\"])[\"show_id\"].nunique().reset_index(drop=False)\n",
        "netflix_titles_over_the_yrs.head()"
      ],
      "metadata": {
        "colab": {
          "base_uri": "https://localhost:8080/",
          "height": 206
        },
        "id": "3Epx92uYzNVG",
        "outputId": "d7521bdb-b89b-4f9b-a0da-908c5023bdb5"
      },
      "execution_count": 151,
      "outputs": [
        {
          "output_type": "execute_result",
          "data": {
            "text/html": [
              "\n",
              "  <div id=\"df-50abc794-aac8-4555-aa20-5e4920adb14c\">\n",
              "    <div class=\"colab-df-container\">\n",
              "      <div>\n",
              "<style scoped>\n",
              "    .dataframe tbody tr th:only-of-type {\n",
              "        vertical-align: middle;\n",
              "    }\n",
              "\n",
              "    .dataframe tbody tr th {\n",
              "        vertical-align: top;\n",
              "    }\n",
              "\n",
              "    .dataframe thead th {\n",
              "        text-align: right;\n",
              "    }\n",
              "</style>\n",
              "<table border=\"1\" class=\"dataframe\">\n",
              "  <thead>\n",
              "    <tr style=\"text-align: right;\">\n",
              "      <th></th>\n",
              "      <th>release_year</th>\n",
              "      <th>type</th>\n",
              "      <th>show_id</th>\n",
              "    </tr>\n",
              "  </thead>\n",
              "  <tbody>\n",
              "    <tr>\n",
              "      <th>0</th>\n",
              "      <td>1925</td>\n",
              "      <td>Movie</td>\n",
              "      <td>0</td>\n",
              "    </tr>\n",
              "    <tr>\n",
              "      <th>1</th>\n",
              "      <td>1925</td>\n",
              "      <td>TV Show</td>\n",
              "      <td>1</td>\n",
              "    </tr>\n",
              "    <tr>\n",
              "      <th>2</th>\n",
              "      <td>1942</td>\n",
              "      <td>Movie</td>\n",
              "      <td>2</td>\n",
              "    </tr>\n",
              "    <tr>\n",
              "      <th>3</th>\n",
              "      <td>1942</td>\n",
              "      <td>TV Show</td>\n",
              "      <td>0</td>\n",
              "    </tr>\n",
              "    <tr>\n",
              "      <th>4</th>\n",
              "      <td>1943</td>\n",
              "      <td>Movie</td>\n",
              "      <td>3</td>\n",
              "    </tr>\n",
              "  </tbody>\n",
              "</table>\n",
              "</div>\n",
              "      <button class=\"colab-df-convert\" onclick=\"convertToInteractive('df-50abc794-aac8-4555-aa20-5e4920adb14c')\"\n",
              "              title=\"Convert this dataframe to an interactive table.\"\n",
              "              style=\"display:none;\">\n",
              "        \n",
              "  <svg xmlns=\"http://www.w3.org/2000/svg\" height=\"24px\"viewBox=\"0 0 24 24\"\n",
              "       width=\"24px\">\n",
              "    <path d=\"M0 0h24v24H0V0z\" fill=\"none\"/>\n",
              "    <path d=\"M18.56 5.44l.94 2.06.94-2.06 2.06-.94-2.06-.94-.94-2.06-.94 2.06-2.06.94zm-11 1L8.5 8.5l.94-2.06 2.06-.94-2.06-.94L8.5 2.5l-.94 2.06-2.06.94zm10 10l.94 2.06.94-2.06 2.06-.94-2.06-.94-.94-2.06-.94 2.06-2.06.94z\"/><path d=\"M17.41 7.96l-1.37-1.37c-.4-.4-.92-.59-1.43-.59-.52 0-1.04.2-1.43.59L10.3 9.45l-7.72 7.72c-.78.78-.78 2.05 0 2.83L4 21.41c.39.39.9.59 1.41.59.51 0 1.02-.2 1.41-.59l7.78-7.78 2.81-2.81c.8-.78.8-2.07 0-2.86zM5.41 20L4 18.59l7.72-7.72 1.47 1.35L5.41 20z\"/>\n",
              "  </svg>\n",
              "      </button>\n",
              "      \n",
              "  <style>\n",
              "    .colab-df-container {\n",
              "      display:flex;\n",
              "      flex-wrap:wrap;\n",
              "      gap: 12px;\n",
              "    }\n",
              "\n",
              "    .colab-df-convert {\n",
              "      background-color: #E8F0FE;\n",
              "      border: none;\n",
              "      border-radius: 50%;\n",
              "      cursor: pointer;\n",
              "      display: none;\n",
              "      fill: #1967D2;\n",
              "      height: 32px;\n",
              "      padding: 0 0 0 0;\n",
              "      width: 32px;\n",
              "    }\n",
              "\n",
              "    .colab-df-convert:hover {\n",
              "      background-color: #E2EBFA;\n",
              "      box-shadow: 0px 1px 2px rgba(60, 64, 67, 0.3), 0px 1px 3px 1px rgba(60, 64, 67, 0.15);\n",
              "      fill: #174EA6;\n",
              "    }\n",
              "\n",
              "    [theme=dark] .colab-df-convert {\n",
              "      background-color: #3B4455;\n",
              "      fill: #D2E3FC;\n",
              "    }\n",
              "\n",
              "    [theme=dark] .colab-df-convert:hover {\n",
              "      background-color: #434B5C;\n",
              "      box-shadow: 0px 1px 3px 1px rgba(0, 0, 0, 0.15);\n",
              "      filter: drop-shadow(0px 1px 2px rgba(0, 0, 0, 0.3));\n",
              "      fill: #FFFFFF;\n",
              "    }\n",
              "  </style>\n",
              "\n",
              "      <script>\n",
              "        const buttonEl =\n",
              "          document.querySelector('#df-50abc794-aac8-4555-aa20-5e4920adb14c button.colab-df-convert');\n",
              "        buttonEl.style.display =\n",
              "          google.colab.kernel.accessAllowed ? 'block' : 'none';\n",
              "\n",
              "        async function convertToInteractive(key) {\n",
              "          const element = document.querySelector('#df-50abc794-aac8-4555-aa20-5e4920adb14c');\n",
              "          const dataTable =\n",
              "            await google.colab.kernel.invokeFunction('convertToInteractive',\n",
              "                                                     [key], {});\n",
              "          if (!dataTable) return;\n",
              "\n",
              "          const docLinkHtml = 'Like what you see? Visit the ' +\n",
              "            '<a target=\"_blank\" href=https://colab.research.google.com/notebooks/data_table.ipynb>data table notebook</a>'\n",
              "            + ' to learn more about interactive tables.';\n",
              "          element.innerHTML = '';\n",
              "          dataTable['output_type'] = 'display_data';\n",
              "          await google.colab.output.renderOutput(dataTable, element);\n",
              "          const docLink = document.createElement('div');\n",
              "          docLink.innerHTML = docLinkHtml;\n",
              "          element.appendChild(docLink);\n",
              "        }\n",
              "      </script>\n",
              "    </div>\n",
              "  </div>\n",
              "  "
            ],
            "text/plain": [
              "   release_year     type  show_id\n",
              "0          1925    Movie        0\n",
              "1          1925  TV Show        1\n",
              "2          1942    Movie        2\n",
              "3          1942  TV Show        0\n",
              "4          1943    Movie        3"
            ]
          },
          "metadata": {},
          "execution_count": 151
        }
      ]
    },
    {
      "cell_type": "code",
      "source": [
        "import matplotlib.pyplot as plt"
      ],
      "metadata": {
        "id": "pLGRXhNh1LHX"
      },
      "execution_count": 158,
      "outputs": []
    },
    {
      "cell_type": "code",
      "source": [
        "fig, ax = plt.subplots(figsize=(18, 9))\n",
        "\n",
        "sns.lineplot(data=netflix_titles_over_the_yrs, x=\"release_year\", y=\"show_id\", hue=\"type\", ax=ax)\n",
        "plt.ylabel(\"# of titles\", fontsize=12)\n",
        "plt.xlabel(\"release year\", fontsize=12);"
      ],
      "metadata": {
        "colab": {
          "base_uri": "https://localhost:8080/",
          "height": 555
        },
        "id": "NjfZEIp4ywxi",
        "outputId": "110a0767-7940-4fdd-db22-989181cba66c"
      },
      "execution_count": 166,
      "outputs": [
        {
          "output_type": "display_data",
          "data": {
            "image/png": "[encoded data removed]",
            "text/plain": [
              "<Figure size 1296x648 with 1 Axes>"
            ]
          },
          "metadata": {
            "needs_background": "light"
          }
        }
      ]
    },
    {
      "cell_type": "markdown",
      "source": [
        "We're able to accomplish the task without the other columns, right? Of couse, **err on the side of caution and do EDA and sanity checks first.** 😅"
      ],
      "metadata": {
        "id": "z7bI_T-Lw1e8"
      }
    },
    {
      "cell_type": "code",
      "source": [
        "mkdir data"
      ],
      "metadata": {
        "colab": {
          "base_uri": "https://localhost:8080/"
        },
        "id": "dQEeW5Qj7cla",
        "outputId": "5b5e174a-8b7d-46b3-bd33-65f50c1035f3"
      },
      "execution_count": 94,
      "outputs": [
        {
          "output_type": "stream",
          "name": "stdout",
          "text": [
            "mkdir: cannot create directory ‘data’: File exists\n"
          ]
        }
      ]
    },
    {
      "cell_type": "code",
      "source": [
        "cd data"
      ],
      "metadata": {
        "colab": {
          "base_uri": "https://localhost:8080/"
        },
        "id": "MQJq6WYx2ZLD",
        "outputId": "1c8ccbf6-c0ed-47e3-9ea3-ca59cb1b86b3"
      },
      "execution_count": 95,
      "outputs": [
        {
          "output_type": "stream",
          "name": "stdout",
          "text": [
            "/content/data\n"
          ]
        }
      ]
    },
    {
      "cell_type": "code",
      "source": [
        "from google.colab import files\n",
        "files.upload();"
      ],
      "metadata": {
        "colab": {
          "resources": {
            "http://localhost:8080/nbextensions/google.colab/files.js": {
              "data": "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",
              "ok": true,
              "headers": [
                [
                  "content-type",
                  "application/javascript"
                ]
              ],
              "status": 200,
              "status_text": ""
            }
          },
          "base_uri": "https://localhost:8080/",
          "height": 73
        },
        "id": "otGfahBu2Z17",
        "outputId": "d0c8cb9e-3306-4a31-87f5-931ebb5411a4"
      },
      "execution_count": 96,
      "outputs": [
        {
          "output_type": "display_data",
          "data": {
            "text/html": [
              "\n",
              "     <input type=\"file\" id=\"files-aea21a44-b6f2-46ea-b989-816f59724797\" name=\"files[]\" multiple disabled\n",
              "        style=\"border:none\" />\n",
              "     <output id=\"result-aea21a44-b6f2-46ea-b989-816f59724797\">\n",
              "      Upload widget is only available when the cell has been executed in the\n",
              "      current browser session. Please rerun this cell to enable.\n",
              "      </output>\n",
              "      <script src=\"/nbextensions/google.colab/files.js\"></script> "
            ],
            "text/plain": [
              "<IPython.core.display.HTML object>"
            ]
          },
          "metadata": {}
        },
        {
          "output_type": "stream",
          "name": "stdout",
          "text": [
            "Saving mushrooms.csv to mushrooms (1).csv\n"
          ]
        }
      ]
    },
    {
      "cell_type": "code",
      "source": [
        "cd /content"
      ],
      "metadata": {
        "colab": {
          "base_uri": "https://localhost:8080/"
        },
        "id": "zta-40z3NSUo",
        "outputId": "2ef2098c-3e77-43a6-83ff-b183c4104efa"
      },
      "execution_count": 97,
      "outputs": [
        {
          "output_type": "stream",
          "name": "stdout",
          "text": [
            "/content\n"
          ]
        }
      ]
    },
    {
      "cell_type": "markdown",
      "source": [
        "In the case where you need to load many fields, but you still want to optimize on memory consumption, you can do the following:\n",
        "- Compress the categorical (usually a string) fields with the `category` dtype\n",
        "- Compress the numerical fields with `int` or `float` dtypes but with smaller magnitude"
      ],
      "metadata": {
        "id": "UHlWgOc62BkS"
      }
    },
    {
      "cell_type": "code",
      "source": [
        "# https://www.kaggle.com/uciml/mushroom-classification\n",
        "FILEPATH_MUSHROOMS = \"data/mushrooms.csv\""
      ],
      "metadata": {
        "id": "kt4TkiXn9kL4"
      },
      "execution_count": 98,
      "outputs": []
    },
    {
      "cell_type": "code",
      "source": [
        "df_mushrooms = pd.read_csv(FILEPATH_MUSHROOMS)\n",
        "df_mushrooms.info(verbose=True, memory_usage=\"deep\")"
      ],
      "metadata": {
        "colab": {
          "base_uri": "https://localhost:8080/"
        },
        "id": "ru_A5imy_Zn_",
        "outputId": "d6956106-69af-457f-f535-2b97831248b5"
      },
      "execution_count": 99,
      "outputs": [
        {
          "output_type": "stream",
          "name": "stdout",
          "text": [
            "<class 'pandas.core.frame.DataFrame'>\n",
            "RangeIndex: 8124 entries, 0 to 8123\n",
            "Data columns (total 23 columns):\n",
            " #   Column                    Non-Null Count  Dtype \n",
            "---  ------                    --------------  ----- \n",
            " 0   class                     8124 non-null   object\n",
            " 1   cap-shape                 8124 non-null   object\n",
            " 2   cap-surface               8124 non-null   object\n",
            " 3   cap-color                 8124 non-null   object\n",
            " 4   bruises                   8124 non-null   object\n",
            " 5   odor                      8124 non-null   object\n",
            " 6   gill-attachment           8124 non-null   object\n",
            " 7   gill-spacing              8124 non-null   object\n",
            " 8   gill-size                 8124 non-null   object\n",
            " 9   gill-color                8124 non-null   object\n",
            " 10  stalk-shape               8124 non-null   object\n",
            " 11  stalk-root                8124 non-null   object\n",
            " 12  stalk-surface-above-ring  8124 non-null   object\n",
            " 13  stalk-surface-below-ring  8124 non-null   object\n",
            " 14  stalk-color-above-ring    8124 non-null   object\n",
            " 15  stalk-color-below-ring    8124 non-null   object\n",
            " 16  veil-type                 8124 non-null   object\n",
            " 17  veil-color                8124 non-null   object\n",
            " 18  ring-number               8124 non-null   object\n",
            " 19  ring-type                 8124 non-null   object\n",
            " 20  spore-print-color         8124 non-null   object\n",
            " 21  population                8124 non-null   object\n",
            " 22  habitat                   8124 non-null   object\n",
            "dtypes: object(23)\n",
            "memory usage: 10.3 MB\n"
          ]
        }
      ]
    },
    {
      "cell_type": "markdown",
      "source": [
        "By default, when loading the data into pandas, without passing a schema, **pandas just \"guesses\" the dtype of the fields.**"
      ],
      "metadata": {
        "id": "qHUtfQjZPDH_"
      }
    },
    {
      "cell_type": "code",
      "source": [
        "df_mushrooms.head()"
      ],
      "metadata": {
        "colab": {
          "base_uri": "https://localhost:8080/",
          "height": 268
        },
        "id": "ohFFCLEo_d83",
        "outputId": "b5b3d68e-af0d-4a14-d57a-b473c85a68d4"
      },
      "execution_count": 100,
      "outputs": [
        {
          "output_type": "execute_result",
          "data": {
            "text/html": [
              "\n",
              "  <div id=\"df-c72849f0-b8fe-4dd5-b8ff-1429894d96b3\">\n",
              "    <div class=\"colab-df-container\">\n",
              "      <div>\n",
              "<style scoped>\n",
              "    .dataframe tbody tr th:only-of-type {\n",
              "        vertical-align: middle;\n",
              "    }\n",
              "\n",
              "    .dataframe tbody tr th {\n",
              "        vertical-align: top;\n",
              "    }\n",
              "\n",
              "    .dataframe thead th {\n",
              "        text-align: right;\n",
              "    }\n",
              "</style>\n",
              "<table border=\"1\" class=\"dataframe\">\n",
              "  <thead>\n",
              "    <tr style=\"text-align: right;\">\n",
              "      <th></th>\n",
              "      <th>class</th>\n",
              "      <th>cap-shape</th>\n",
              "      <th>cap-surface</th>\n",
              "      <th>cap-color</th>\n",
              "      <th>bruises</th>\n",
              "      <th>odor</th>\n",
              "      <th>gill-attachment</th>\n",
              "      <th>gill-spacing</th>\n",
              "      <th>gill-size</th>\n",
              "      <th>gill-color</th>\n",
              "      <th>stalk-shape</th>\n",
              "      <th>stalk-root</th>\n",
              "      <th>stalk-surface-above-ring</th>\n",
              "      <th>stalk-surface-below-ring</th>\n",
              "      <th>stalk-color-above-ring</th>\n",
              "      <th>stalk-color-below-ring</th>\n",
              "      <th>veil-type</th>\n",
              "      <th>veil-color</th>\n",
              "      <th>ring-number</th>\n",
              "      <th>ring-type</th>\n",
              "      <th>spore-print-color</th>\n",
              "      <th>population</th>\n",
              "      <th>habitat</th>\n",
              "    </tr>\n",
              "  </thead>\n",
              "  <tbody>\n",
              "    <tr>\n",
              "      <th>0</th>\n",
              "      <td>p</td>\n",
              "      <td>x</td>\n",
              "      <td>s</td>\n",
              "      <td>n</td>\n",
              "      <td>t</td>\n",
              "      <td>p</td>\n",
              "      <td>f</td>\n",
              "      <td>c</td>\n",
              "      <td>n</td>\n",
              "      <td>k</td>\n",
              "      <td>e</td>\n",
              "      <td>e</td>\n",
              "      <td>s</td>\n",
              "      <td>s</td>\n",
              "      <td>w</td>\n",
              "      <td>w</td>\n",
              "      <td>p</td>\n",
              "      <td>w</td>\n",
              "      <td>o</td>\n",
              "      <td>p</td>\n",
              "      <td>k</td>\n",
              "      <td>s</td>\n",
              "      <td>u</td>\n",
              "    </tr>\n",
              "    <tr>\n",
              "      <th>1</th>\n",
              "      <td>e</td>\n",
              "      <td>x</td>\n",
              "      <td>s</td>\n",
              "      <td>y</td>\n",
              "      <td>t</td>\n",
              "      <td>a</td>\n",
              "      <td>f</td>\n",
              "      <td>c</td>\n",
              "      <td>b</td>\n",
              "      <td>k</td>\n",
              "      <td>e</td>\n",
              "      <td>c</td>\n",
              "      <td>s</td>\n",
              "      <td>s</td>\n",
              "      <td>w</td>\n",
              "      <td>w</td>\n",
              "      <td>p</td>\n",
              "      <td>w</td>\n",
              "      <td>o</td>\n",
              "      <td>p</td>\n",
              "      <td>n</td>\n",
              "      <td>n</td>\n",
              "      <td>g</td>\n",
              "    </tr>\n",
              "    <tr>\n",
              "      <th>2</th>\n",
              "      <td>e</td>\n",
              "      <td>b</td>\n",
              "      <td>s</td>\n",
              "      <td>w</td>\n",
              "      <td>t</td>\n",
              "      <td>l</td>\n",
              "      <td>f</td>\n",
              "      <td>c</td>\n",
              "      <td>b</td>\n",
              "      <td>n</td>\n",
              "      <td>e</td>\n",
              "      <td>c</td>\n",
              "      <td>s</td>\n",
              "      <td>s</td>\n",
              "      <td>w</td>\n",
              "      <td>w</td>\n",
              "      <td>p</td>\n",
              "      <td>w</td>\n",
              "      <td>o</td>\n",
              "      <td>p</td>\n",
              "      <td>n</td>\n",
              "      <td>n</td>\n",
              "      <td>m</td>\n",
              "    </tr>\n",
              "    <tr>\n",
              "      <th>3</th>\n",
              "      <td>p</td>\n",
              "      <td>x</td>\n",
              "      <td>y</td>\n",
              "      <td>w</td>\n",
              "      <td>t</td>\n",
              "      <td>p</td>\n",
              "      <td>f</td>\n",
              "      <td>c</td>\n",
              "      <td>n</td>\n",
              "      <td>n</td>\n",
              "      <td>e</td>\n",
              "      <td>e</td>\n",
              "      <td>s</td>\n",
              "      <td>s</td>\n",
              "      <td>w</td>\n",
              "      <td>w</td>\n",
              "      <td>p</td>\n",
              "      <td>w</td>\n",
              "      <td>o</td>\n",
              "      <td>p</td>\n",
              "      <td>k</td>\n",
              "      <td>s</td>\n",
              "      <td>u</td>\n",
              "    </tr>\n",
              "    <tr>\n",
              "      <th>4</th>\n",
              "      <td>e</td>\n",
              "      <td>x</td>\n",
              "      <td>s</td>\n",
              "      <td>g</td>\n",
              "      <td>f</td>\n",
              "      <td>n</td>\n",
              "      <td>f</td>\n",
              "      <td>w</td>\n",
              "      <td>b</td>\n",
              "      <td>k</td>\n",
              "      <td>t</td>\n",
              "      <td>e</td>\n",
              "      <td>s</td>\n",
              "      <td>s</td>\n",
              "      <td>w</td>\n",
              "      <td>w</td>\n",
              "      <td>p</td>\n",
              "      <td>w</td>\n",
              "      <td>o</td>\n",
              "      <td>e</td>\n",
              "      <td>n</td>\n",
              "      <td>a</td>\n",
              "      <td>g</td>\n",
              "    </tr>\n",
              "  </tbody>\n",
              "</table>\n",
              "</div>\n",
              "      <button class=\"colab-df-convert\" onclick=\"convertToInteractive('df-c72849f0-b8fe-4dd5-b8ff-1429894d96b3')\"\n",
              "              title=\"Convert this dataframe to an interactive table.\"\n",
              "              style=\"display:none;\">\n",
              "        \n",
              "  <svg xmlns=\"http://www.w3.org/2000/svg\" height=\"24px\"viewBox=\"0 0 24 24\"\n",
              "       width=\"24px\">\n",
              "    <path d=\"M0 0h24v24H0V0z\" fill=\"none\"/>\n",
              "    <path d=\"M18.56 5.44l.94 2.06.94-2.06 2.06-.94-2.06-.94-.94-2.06-.94 2.06-2.06.94zm-11 1L8.5 8.5l.94-2.06 2.06-.94-2.06-.94L8.5 2.5l-.94 2.06-2.06.94zm10 10l.94 2.06.94-2.06 2.06-.94-2.06-.94-.94-2.06-.94 2.06-2.06.94z\"/><path d=\"M17.41 7.96l-1.37-1.37c-.4-.4-.92-.59-1.43-.59-.52 0-1.04.2-1.43.59L10.3 9.45l-7.72 7.72c-.78.78-.78 2.05 0 2.83L4 21.41c.39.39.9.59 1.41.59.51 0 1.02-.2 1.41-.59l7.78-7.78 2.81-2.81c.8-.78.8-2.07 0-2.86zM5.41 20L4 18.59l7.72-7.72 1.47 1.35L5.41 20z\"/>\n",
              "  </svg>\n",
              "      </button>\n",
              "      \n",
              "  <style>\n",
              "    .colab-df-container {\n",
              "      display:flex;\n",
              "      flex-wrap:wrap;\n",
              "      gap: 12px;\n",
              "    }\n",
              "\n",
              "    .colab-df-convert {\n",
              "      background-color: #E8F0FE;\n",
              "      border: none;\n",
              "      border-radius: 50%;\n",
              "      cursor: pointer;\n",
              "      display: none;\n",
              "      fill: #1967D2;\n",
              "      height: 32px;\n",
              "      padding: 0 0 0 0;\n",
              "      width: 32px;\n",
              "    }\n",
              "\n",
              "    .colab-df-convert:hover {\n",
              "      background-color: #E2EBFA;\n",
              "      box-shadow: 0px 1px 2px rgba(60, 64, 67, 0.3), 0px 1px 3px 1px rgba(60, 64, 67, 0.15);\n",
              "      fill: #174EA6;\n",
              "    }\n",
              "\n",
              "    [theme=dark] .colab-df-convert {\n",
              "      background-color: #3B4455;\n",
              "      fill: #D2E3FC;\n",
              "    }\n",
              "\n",
              "    [theme=dark] .colab-df-convert:hover {\n",
              "      background-color: #434B5C;\n",
              "      box-shadow: 0px 1px 3px 1px rgba(0, 0, 0, 0.15);\n",
              "      filter: drop-shadow(0px 1px 2px rgba(0, 0, 0, 0.3));\n",
              "      fill: #FFFFFF;\n",
              "    }\n",
              "  </style>\n",
              "\n",
              "      <script>\n",
              "        const buttonEl =\n",
              "          document.querySelector('#df-c72849f0-b8fe-4dd5-b8ff-1429894d96b3 button.colab-df-convert');\n",
              "        buttonEl.style.display =\n",
              "          google.colab.kernel.accessAllowed ? 'block' : 'none';\n",
              "\n",
              "        async function convertToInteractive(key) {\n",
              "          const element = document.querySelector('#df-c72849f0-b8fe-4dd5-b8ff-1429894d96b3');\n",
              "          const dataTable =\n",
              "            await google.colab.kernel.invokeFunction('convertToInteractive',\n",
              "                                                     [key], {});\n",
              "          if (!dataTable) return;\n",
              "\n",
              "          const docLinkHtml = 'Like what you see? Visit the ' +\n",
              "            '<a target=\"_blank\" href=https://colab.research.google.com/notebooks/data_table.ipynb>data table notebook</a>'\n",
              "            + ' to learn more about interactive tables.';\n",
              "          element.innerHTML = '';\n",
              "          dataTable['output_type'] = 'display_data';\n",
              "          await google.colab.output.renderOutput(dataTable, element);\n",
              "          const docLink = document.createElement('div');\n",
              "          docLink.innerHTML = docLinkHtml;\n",
              "          element.appendChild(docLink);\n",
              "        }\n",
              "      </script>\n",
              "    </div>\n",
              "  </div>\n",
              "  "
            ],
            "text/plain": [
              "  class cap-shape cap-surface  ... spore-print-color population habitat\n",
              "0     p         x           s  ...                 k          s       u\n",
              "1     e         x           s  ...                 n          n       g\n",
              "2     e         b           s  ...                 n          n       m\n",
              "3     p         x           y  ...                 k          s       u\n",
              "4     e         x           s  ...                 n          a       g\n",
              "\n",
              "[5 rows x 23 columns]"
            ]
          },
          "metadata": {},
          "execution_count": 100
        }
      ]
    },
    {
      "cell_type": "code",
      "source": [
        "df_mushrooms.nunique()"
      ],
      "metadata": {
        "colab": {
          "base_uri": "https://localhost:8080/"
        },
        "id": "iBcr6Dv1NY7O",
        "outputId": "0b589ef0-3006-47d7-d1ce-864abd3208f1"
      },
      "execution_count": 101,
      "outputs": [
        {
          "output_type": "execute_result",
          "data": {
            "text/plain": [
              "class                        2\n",
              "cap-shape                    6\n",
              "cap-surface                  4\n",
              "cap-color                   10\n",
              "bruises                      2\n",
              "odor                         9\n",
              "gill-attachment              2\n",
              "gill-spacing                 2\n",
              "gill-size                    2\n",
              "gill-color                  12\n",
              "stalk-shape                  2\n",
              "stalk-root                   5\n",
              "stalk-surface-above-ring     4\n",
              "stalk-surface-below-ring     4\n",
              "stalk-color-above-ring       9\n",
              "stalk-color-below-ring       9\n",
              "veil-type                    1\n",
              "veil-color                   4\n",
              "ring-number                  3\n",
              "ring-type                    5\n",
              "spore-print-color            9\n",
              "population                   6\n",
              "habitat                      7\n",
              "dtype: int64"
            ]
          },
          "metadata": {},
          "execution_count": 101
        }
      ]
    },
    {
      "cell_type": "markdown",
      "source": [
        "Upon inspection, we see that the columns can fit in the `category` dtype, let's try passing a schema when loading the data."
      ],
      "metadata": {
        "id": "Mw-FhCBiP4fr"
      }
    },
    {
      "cell_type": "code",
      "source": [
        "df_mushrooms = pd.read_csv(FILEPATH_MUSHROOMS, dtype=\"category\")\n",
        "df_mushrooms.info(verbose=True, memory_usage=\"deep\")"
      ],
      "metadata": {
        "colab": {
          "base_uri": "https://localhost:8080/"
        },
        "id": "c4o-FfAvNQwQ",
        "outputId": "39ae8ea7-c770-42bb-8a1c-9b80fccd9557"
      },
      "execution_count": 102,
      "outputs": [
        {
          "output_type": "stream",
          "name": "stdout",
          "text": [
            "<class 'pandas.core.frame.DataFrame'>\n",
            "RangeIndex: 8124 entries, 0 to 8123\n",
            "Data columns (total 23 columns):\n",
            " #   Column                    Non-Null Count  Dtype   \n",
            "---  ------                    --------------  -----   \n",
            " 0   class                     8124 non-null   category\n",
            " 1   cap-shape                 8124 non-null   category\n",
            " 2   cap-surface               8124 non-null   category\n",
            " 3   cap-color                 8124 non-null   category\n",
            " 4   bruises                   8124 non-null   category\n",
            " 5   odor                      8124 non-null   category\n",
            " 6   gill-attachment           8124 non-null   category\n",
            " 7   gill-spacing              8124 non-null   category\n",
            " 8   gill-size                 8124 non-null   category\n",
            " 9   gill-color                8124 non-null   category\n",
            " 10  stalk-shape               8124 non-null   category\n",
            " 11  stalk-root                8124 non-null   category\n",
            " 12  stalk-surface-above-ring  8124 non-null   category\n",
            " 13  stalk-surface-below-ring  8124 non-null   category\n",
            " 14  stalk-color-above-ring    8124 non-null   category\n",
            " 15  stalk-color-below-ring    8124 non-null   category\n",
            " 16  veil-type                 8124 non-null   category\n",
            " 17  veil-color                8124 non-null   category\n",
            " 18  ring-number               8124 non-null   category\n",
            " 19  ring-type                 8124 non-null   category\n",
            " 20  spore-print-color         8124 non-null   category\n",
            " 21  population                8124 non-null   category\n",
            " 22  habitat                   8124 non-null   category\n",
            "dtypes: category(23)\n",
            "memory usage: 193.3 KB\n"
          ]
        }
      ]
    },
    {
      "cell_type": "code",
      "source": [
        "10.3e6 / 193.3e3 "
      ],
      "metadata": {
        "colab": {
          "base_uri": "https://localhost:8080/"
        },
        "id": "l3O3NIf1Rtrt",
        "outputId": "58a60a19-3d40-415f-be1d-e45c96614271"
      },
      "execution_count": 103,
      "outputs": [
        {
          "output_type": "execute_result",
          "data": {
            "text/plain": [
              "53.28504914640455"
            ]
          },
          "metadata": {},
          "execution_count": 103
        }
      ]
    },
    {
      "cell_type": "markdown",
      "source": [
        "Hooray! We've been able to shrink the memory usage down to **~50x times** just by changing the original object/string dtype to `category`"
      ],
      "metadata": {
        "id": "IeytPcSxNXxi"
      }
    },
    {
      "cell_type": "code",
      "source": [
        "mkdir data"
      ],
      "metadata": {
        "colab": {
          "base_uri": "https://localhost:8080/"
        },
        "id": "LaBJJ4aiSewl",
        "outputId": "227535e4-bca7-4782-9862-3bcff3065ca2"
      },
      "execution_count": 104,
      "outputs": [
        {
          "output_type": "stream",
          "name": "stdout",
          "text": [
            "mkdir: cannot create directory ‘data’: File exists\n"
          ]
        }
      ]
    },
    {
      "cell_type": "code",
      "source": [
        "cd data"
      ],
      "metadata": {
        "colab": {
          "base_uri": "https://localhost:8080/"
        },
        "id": "yIVDr08yUJ3U",
        "outputId": "04ae50c8-d23d-4911-a3a7-4b759718f5c8"
      },
      "execution_count": 105,
      "outputs": [
        {
          "output_type": "stream",
          "name": "stdout",
          "text": [
            "/content/data\n"
          ]
        }
      ]
    },
    {
      "cell_type": "code",
      "source": [
        "from google.colab import files\n",
        "files.upload();"
      ],
      "metadata": {
        "colab": {
          "resources": {
            "http://localhost:8080/nbextensions/google.colab/files.js": {
              "data": "Ly8gQ29weXJpZ2h0IDIwMTcgR29vZ2xlIExMQwovLwovLyBMaWNlbnNlZCB1bmRlciB0aGUgQXBhY2hlIExpY2Vuc2UsIFZlcnNpb24gMi4wICh0aGUgIkxpY2Vuc2UiKTsKLy8geW91IG1heSBub3QgdXNlIHRoaXMgZmlsZSBleGNlcHQgaW4gY29tcGxpYW5jZSB3aXRoIHRoZSBMaWNlbnNlLgovLyBZb3UgbWF5IG9idGFpbiBhIGNvcHkgb2YgdGhlIExpY2Vuc2UgYXQKLy8KLy8gICAgICBodHRwOi8vd3d3LmFwYWNoZS5vcmcvbGljZW5zZXMvTElDRU5TRS0yLjAKLy8KLy8gVW5sZXNzIHJlcXVpcmVkIGJ5IGFwcGxpY2FibGUgbGF3IG9yIGFncmVlZCB0byBpbiB3cml0aW5nLCBzb2Z0d2FyZQovLyBkaXN0cmlidXRlZCB1bmRlciB0aGUgTGljZW5zZSBpcyBkaXN0cmlidXRlZCBvbiBhbiAiQVMgSVMiIEJBU0lTLAovLyBXSVRIT1VUIFdBUlJBTlRJRVMgT1IgQ09ORElUSU9OUyBPRiBBTlkgS0lORCwgZWl0aGVyIGV4cHJlc3Mgb3IgaW1wbGllZC4KLy8gU2VlIHRoZSBMaWNlbnNlIGZvciB0aGUgc3BlY2lmaWMgbGFuZ3VhZ2UgZ292ZXJuaW5nIHBlcm1pc3Npb25zIGFuZAovLyBsaW1pdGF0aW9ucyB1bmRlciB0aGUgTGljZW5zZS4KCi8qKgogKiBAZmlsZW92ZXJ2aWV3IEhlbHBlcnMgZm9yIGdvb2dsZS5jb2xhYiBQeXRob24gbW9kdWxlLgogKi8KKGZ1bmN0aW9uKHNjb3BlKSB7CmZ1bmN0aW9uIHNwYW4odGV4dCwgc3R5bGVBdHRyaWJ1dGVzID0ge30pIHsKICBjb25zdCBlbGVtZW50ID0gZG9jdW1lbnQuY3JlYXRlRWxlbWVudCgnc3BhbicpOwogIGVsZW1lbnQudGV4dENvbnRlbnQgPSB0ZXh0OwogIGZvciAoY29uc3Qga2V5IG9mIE9iamVjdC5rZXlzKHN0eWxlQXR0cmlidXRlcykpIHsKICAgIGVsZW1lbnQuc3R5bGVba2V5XSA9IHN0eWxlQXR0cmlidXRlc1trZXldOwogIH0KICByZXR1cm4gZWxlbWVudDsKfQoKLy8gTWF4IG51bWJlciBvZiBieXRlcyB3aGljaCB3aWxsIGJlIHVwbG9hZGVkIGF0IGEgdGltZS4KY29uc3QgTUFYX1BBWUxPQURfU0laRSA9IDEwMCAqIDEwMjQ7CgpmdW5jdGlvbiBfdXBsb2FkRmlsZXMoaW5wdXRJZCwgb3V0cHV0SWQpIHsKICBjb25zdCBzdGVwcyA9IHVwbG9hZEZpbGVzU3RlcChpbnB1dElkLCBvdXRwdXRJZCk7CiAgY29uc3Qgb3V0cHV0RWxlbWVudCA9IGRvY3VtZW50LmdldEVsZW1lbnRCeUlkKG91dHB1dElkKTsKICAvLyBDYWNoZSBzdGVwcyBvbiB0aGUgb3V0cHV0RWxlbWVudCB0byBtYWtlIGl0IGF2YWlsYWJsZSBmb3IgdGhlIG5leHQgY2FsbAogIC8vIHRvIHVwbG9hZEZpbGVzQ29udGludWUgZnJvbSBQeXRob24uCiAgb3V0cHV0RWxlbWVudC5zdGVwcyA9IHN0ZXBzOwoKICByZXR1cm4gX3VwbG9hZEZpbGVzQ29udGludWUob3V0cHV0SWQpOwp9CgovLyBUaGlzIGlzIHJvdWdobHkgYW4gYXN5bmMgZ2VuZXJhdG9yIChub3Qgc3VwcG9ydGVkIGluIHRoZSBicm93c2VyIHlldCksCi8vIHdoZXJlIHRoZXJlIGFyZSBtdWx0aXBsZSBhc3luY2hyb25vdXMgc3RlcHMgYW5kIHRoZSBQeXRob24gc2lkZSBpcyBnb2luZwovLyB0byBwb2xsIGZvciBjb21wbGV0aW9uIG9mIGVhY2ggc3RlcC4KLy8gVGhpcyB1c2VzIGEgUHJvbWlzZSB0byBibG9jayB0aGUgcHl0aG9uIHNpZGUgb24gY29tcGxldGlvbiBvZiBlYWNoIHN0ZXAsCi8vIHRoZW4gcGFzc2VzIHRoZSByZXN1bHQgb2YgdGhlIHByZXZpb3VzIHN0ZXAgYXMgdGhlIGlucHV0IHRvIHRoZSBuZXh0IHN0ZXAuCmZ1bmN0aW9uIF91cGxvYWRGaWxlc0NvbnRpbnVlKG91dHB1dElkKSB7CiAgY29uc3Qgb3V0cHV0RWxlbWVudCA9IGRvY3VtZW50LmdldEVsZW1lbnRCeUlkKG91dHB1dElkKTsKICBjb25zdCBzdGVwcyA9IG91dHB1dEVsZW1lbnQuc3RlcHM7CgogIGNvbnN0IG5leHQgPSBzdGVwcy5uZXh0KG91dHB1dEVsZW1lbnQubGFzdFByb21pc2VWYWx1ZSk7CiAgcmV0dXJuIFByb21pc2UucmVzb2x2ZShuZXh0LnZhbHVlLnByb21pc2UpLnRoZW4oKHZhbHVlKSA9PiB7CiAgICAvLyBDYWNoZSB0aGUgbGFzdCBwcm9taXNlIHZhbHVlIHRvIG1ha2UgaXQgYXZhaWxhYmxlIHRvIHRoZSBuZXh0CiAgICAvLyBzdGVwIG9mIHRoZSBnZW5lcmF0b3IuCiAgICBvdXRwdXRFbGVtZW50Lmxhc3RQcm9taXNlVmFsdWUgPSB2YWx1ZTsKICAgIHJldHVybiBuZXh0LnZhbHVlLnJlc3BvbnNlOwogIH0pOwp9CgovKioKICogR2VuZXJhdG9yIGZ1bmN0aW9uIHdoaWNoIGlzIGNhbGxlZCBiZXR3ZWVuIGVhY2ggYXN5bmMgc3RlcCBvZiB0aGUgdXBsb2FkCiAqIHByb2Nlc3MuCiAqIEBwYXJhbSB7c3RyaW5nfSBpbnB1dElkIEVsZW1lbnQgSUQgb2YgdGhlIGlucHV0IGZpbGUgcGlja2VyIGVsZW1lbnQuCiAqIEBwYXJhbSB7c3RyaW5nfSBvdXRwdXRJZCBFbGVtZW50IElEIG9mIHRoZSBvdXRwdXQgZGlzcGxheS4KICogQHJldHVybiB7IUl0ZXJhYmxlPCFPYmplY3Q+fSBJdGVyYWJsZSBvZiBuZXh0IHN0ZXBzLgogKi8KZnVuY3Rpb24qIHVwbG9hZEZpbGVzU3RlcChpbnB1dElkLCBvdXRwdXRJZCkgewogIGNvbnN0IGlucHV0RWxlbWVudCA9IGRvY3VtZW50LmdldEVsZW1lbnRCeUlkKGlucHV0SWQpOwogIGlucHV0RWxlbWVudC5kaXNhYmxlZCA9IGZhbHNlOwoKICBjb25zdCBvdXRwdXRFbGVtZW50ID0gZG9jdW1lbnQuZ2V0RWxlbWVudEJ5SWQob3V0cHV0SWQpOwogIG91dHB1dEVsZW1lbnQuaW5uZXJIVE1MID0gJyc7CgogIGNvbnN0IHBpY2tlZFByb21pc2UgPSBuZXcgUHJvbWlzZSgocmVzb2x2ZSkgPT4gewogICAgaW5wdXRFbGVtZW50LmFkZEV2ZW50TGlzdGVuZXIoJ2NoYW5nZScsIChlKSA9PiB7CiAgICAgIHJlc29sdmUoZS50YXJnZXQuZmlsZXMpOwogICAgfSk7CiAgfSk7CgogIGNvbnN0IGNhbmNlbCA9IGRvY3VtZW50LmNyZWF0ZUVsZW1lbnQoJ2J1dHRvbicpOwogIGlucHV0RWxlbWVudC5wYXJlbnRFbGVtZW50LmFwcGVuZENoaWxkKGNhbmNlbCk7CiAgY2FuY2VsLnRleHRDb250ZW50ID0gJ0NhbmNlbCB1cGxvYWQnOwogIGNvbnN0IGNhbmNlbFByb21pc2UgPSBuZXcgUHJvbWlzZSgocmVzb2x2ZSkgPT4gewogICAgY2FuY2VsLm9uY2xpY2sgPSAoKSA9PiB7CiAgICAgIHJlc29sdmUobnVsbCk7CiAgICB9OwogIH0pOwoKICAvLyBXYWl0IGZvciB0aGUgdXNlciB0byBwaWNrIHRoZSBmaWxlcy4KICBjb25zdCBmaWxlcyA9IHlpZWxkIHsKICAgIHByb21pc2U6IFByb21pc2UucmFjZShbcGlja2VkUHJvbWlzZSwgY2FuY2VsUHJvbWlzZV0pLAogICAgcmVzcG9uc2U6IHsKICAgICAgYWN0aW9uOiAnc3RhcnRpbmcnLAogICAgfQogIH07CgogIGNhbmNlbC5yZW1vdmUoKTsKCiAgLy8gRGlzYWJsZSB0aGUgaW5wdXQgZWxlbWVudCBzaW5jZSBmdXJ0aGVyIHBpY2tzIGFyZSBub3QgYWxsb3dlZC4KICBpbnB1dEVsZW1lbnQuZGlzYWJsZWQgPSB0cnVlOwoKICBpZiAoIWZpbGVzKSB7CiAgICByZXR1cm4gewogICAgICByZXNwb25zZTogewogICAgICAgIGFjdGlvbjogJ2NvbXBsZXRlJywKICAgICAgfQogICAgfTsKICB9CgogIGZvciAoY29uc3QgZmlsZSBvZiBmaWxlcykgewogICAgY29uc3QgbGkgPSBkb2N1bWVudC5jcmVhdGVFbGVtZW50KCdsaScpOwogICAgbGkuYXBwZW5kKHNwYW4oZmlsZS5uYW1lLCB7Zm9udFdlaWdodDogJ2JvbGQnfSkpOwogICAgbGkuYXBwZW5kKHNwYW4oCiAgICAgICAgYCgke2ZpbGUudHlwZSB8fCAnbi9hJ30pIC0gJHtmaWxlLnNpemV9IGJ5dGVzLCBgICsKICAgICAgICBgbGFzdCBtb2RpZmllZDogJHsKICAgICAgICAgICAgZmlsZS5sYXN0TW9kaWZpZWREYXRlID8gZmlsZS5sYXN0TW9kaWZpZWREYXRlLnRvTG9jYWxlRGF0ZVN0cmluZygpIDoKICAgICAgICAgICAgICAgICAgICAgICAgICAgICAgICAgICAgJ24vYSd9IC0gYCkpOwogICAgY29uc3QgcGVyY2VudCA9IHNwYW4oJzAlIGRvbmUnKTsKICAgIGxpLmFwcGVuZENoaWxkKHBlcmNlbnQpOwoKICAgIG91dHB1dEVsZW1lbnQuYXBwZW5kQ2hpbGQobGkpOwoKICAgIGNvbnN0IGZpbGVEYXRhUHJvbWlzZSA9IG5ldyBQcm9taXNlKChyZXNvbHZlKSA9PiB7CiAgICAgIGNvbnN0IHJlYWRlciA9IG5ldyBGaWxlUmVhZGVyKCk7CiAgICAgIHJlYWRlci5vbmxvYWQgPSAoZSkgPT4gewogICAgICAgIHJlc29sdmUoZS50YXJnZXQucmVzdWx0KTsKICAgICAgfTsKICAgICAgcmVhZGVyLnJlYWRBc0FycmF5QnVmZmVyKGZpbGUpOwogICAgfSk7CiAgICAvLyBXYWl0IGZvciB0aGUgZGF0YSB0byBiZSByZWFkeS4KICAgIGxldCBmaWxlRGF0YSA9IHlpZWxkIHsKICAgICAgcHJvbWlzZTogZmlsZURhdGFQcm9taXNlLAogICAgICByZXNwb25zZTogewogICAgICAgIGFjdGlvbjogJ2NvbnRpbnVlJywKICAgICAgfQogICAgfTsKCiAgICAvLyBVc2UgYSBjaHVua2VkIHNlbmRpbmcgdG8gYXZvaWQgbWVzc2FnZSBzaXplIGxpbWl0cy4gU2VlIGIvNjIxMTU2NjAuCiAgICBsZXQgcG9zaXRpb24gPSAwOwogICAgZG8gewogICAgICBjb25zdCBsZW5ndGggPSBNYXRoLm1pbihmaWxlRGF0YS5ieXRlTGVuZ3RoIC0gcG9zaXRpb24sIE1BWF9QQVlMT0FEX1NJWkUpOwogICAgICBjb25zdCBjaHVuayA9IG5ldyBVaW50OEFycmF5KGZpbGVEYXRhLCBwb3NpdGlvbiwgbGVuZ3RoKTsKICAgICAgcG9zaXRpb24gKz0gbGVuZ3RoOwoKICAgICAgY29uc3QgYmFzZTY0ID0gYnRvYShTdHJpbmcuZnJvbUNoYXJDb2RlLmFwcGx5KG51bGwsIGNodW5rKSk7CiAgICAgIHlpZWxkIHsKICAgICAgICByZXNwb25zZTogewogICAgICAgICAgYWN0aW9uOiAnYXBwZW5kJywKICAgICAgICAgIGZpbGU6IGZpbGUubmFtZSwKICAgICAgICAgIGRhdGE6IGJhc2U2NCwKICAgICAgICB9LAogICAgICB9OwoKICAgICAgbGV0IHBlcmNlbnREb25lID0gZmlsZURhdGEuYnl0ZUxlbmd0aCA9PT0gMCA/CiAgICAgICAgICAxMDAgOgogICAgICAgICAgTWF0aC5yb3VuZCgocG9zaXRpb24gLyBmaWxlRGF0YS5ieXRlTGVuZ3RoKSAqIDEwMCk7CiAgICAgIHBlcmNlbnQudGV4dENvbnRlbnQgPSBgJHtwZXJjZW50RG9uZX0lIGRvbmVgOwoKICAgIH0gd2hpbGUgKHBvc2l0aW9uIDwgZmlsZURhdGEuYnl0ZUxlbmd0aCk7CiAgfQoKICAvLyBBbGwgZG9uZS4KICB5aWVsZCB7CiAgICByZXNwb25zZTogewogICAgICBhY3Rpb246ICdjb21wbGV0ZScsCiAgICB9CiAgfTsKfQoKc2NvcGUuZ29vZ2xlID0gc2NvcGUuZ29vZ2xlIHx8IHt9OwpzY29wZS5nb29nbGUuY29sYWIgPSBzY29wZS5nb29nbGUuY29sYWIgfHwge307CnNjb3BlLmdvb2dsZS5jb2xhYi5fZmlsZXMgPSB7CiAgX3VwbG9hZEZpbGVzLAogIF91cGxvYWRGaWxlc0NvbnRpbnVlLAp9Owp9KShzZWxmKTsK",
              "ok": true,
              "headers": [
                [
                  "content-type",
                  "application/javascript"
                ]
              ],
              "status": 200,
              "status_text": ""
            }
          },
          "base_uri": "https://localhost:8080/",
          "height": 73
        },
        "id": "lxZcNeOLUMh3",
        "outputId": "ad627460-bd5a-46fb-c13f-d4a63184d9a6"
      },
      "execution_count": 106,
      "outputs": [
        {
          "output_type": "display_data",
          "data": {
            "text/html": [
              "\n",
              "     <input type=\"file\" id=\"files-503fa782-9119-4cb6-b972-411aaa1aefe9\" name=\"files[]\" multiple disabled\n",
              "        style=\"border:none\" />\n",
              "     <output id=\"result-503fa782-9119-4cb6-b972-411aaa1aefe9\">\n",
              "      Upload widget is only available when the cell has been executed in the\n",
              "      current browser session. Please rerun this cell to enable.\n",
              "      </output>\n",
              "      <script src=\"/nbextensions/google.colab/files.js\"></script> "
            ],
            "text/plain": [
              "<IPython.core.display.HTML object>"
            ]
          },
          "metadata": {}
        },
        {
          "output_type": "stream",
          "name": "stdout",
          "text": [
            "Saving mobile_price.csv to mobile_price (1).csv\n"
          ]
        }
      ]
    },
    {
      "cell_type": "code",
      "source": [
        "cd /content"
      ],
      "metadata": {
        "colab": {
          "base_uri": "https://localhost:8080/"
        },
        "id": "chNd5BKtRyHg",
        "outputId": "2bbea0da-cba7-47ee-f92f-bc5a96c01e96"
      },
      "execution_count": 107,
      "outputs": [
        {
          "output_type": "stream",
          "name": "stdout",
          "text": [
            "/content\n"
          ]
        }
      ]
    },
    {
      "cell_type": "code",
      "source": [
        "# https://www.kaggle.com/iabhishekofficial/mobile-price-classification\n",
        "FILEPATH_MOBILE_PRICE = \"data/mobile_price.csv\""
      ],
      "metadata": {
        "id": "mCcB09H5Wf3z"
      },
      "execution_count": 108,
      "outputs": []
    },
    {
      "cell_type": "code",
      "source": [
        "df_mobile_price = pd.read_csv(FILEPATH_MOBILE_PRICE)\n",
        "df_mobile_price.info(verbose=True, memory_usage=\"deep\")"
      ],
      "metadata": {
        "colab": {
          "base_uri": "https://localhost:8080/"
        },
        "id": "tk-MsiqTWfmR",
        "outputId": "ec85a278-6560-49f3-847f-ec45a6202761"
      },
      "execution_count": 109,
      "outputs": [
        {
          "output_type": "stream",
          "name": "stdout",
          "text": [
            "<class 'pandas.core.frame.DataFrame'>\n",
            "RangeIndex: 3000 entries, 0 to 2999\n",
            "Data columns (total 20 columns):\n",
            " #   Column         Non-Null Count  Dtype  \n",
            "---  ------         --------------  -----  \n",
            " 0   battery_power  3000 non-null   int64  \n",
            " 1   blue           3000 non-null   int64  \n",
            " 2   clock_speed    3000 non-null   float64\n",
            " 3   dual_sim       3000 non-null   int64  \n",
            " 4   fc             3000 non-null   int64  \n",
            " 5   four_g         3000 non-null   int64  \n",
            " 6   int_memory     3000 non-null   int64  \n",
            " 7   m_dep          3000 non-null   float64\n",
            " 8   mobile_wt      3000 non-null   int64  \n",
            " 9   n_cores        3000 non-null   int64  \n",
            " 10  pc             3000 non-null   int64  \n",
            " 11  px_height      3000 non-null   int64  \n",
            " 12  px_width       3000 non-null   int64  \n",
            " 13  ram            3000 non-null   int64  \n",
            " 14  sc_h           3000 non-null   int64  \n",
            " 15  sc_w           3000 non-null   int64  \n",
            " 16  talk_time      3000 non-null   int64  \n",
            " 17  three_g        3000 non-null   int64  \n",
            " 18  touch_screen   3000 non-null   int64  \n",
            " 19  wifi           3000 non-null   int64  \n",
            "dtypes: float64(2), int64(18)\n",
            "memory usage: 468.9 KB\n"
          ]
        }
      ]
    },
    {
      "cell_type": "code",
      "source": [
        "df_mobile_price.head()"
      ],
      "metadata": {
        "colab": {
          "base_uri": "https://localhost:8080/",
          "height": 206
        },
        "id": "t_GcNI9yWyvE",
        "outputId": "9bd4191d-a940-49ca-9414-cb8e10d992e5"
      },
      "execution_count": 110,
      "outputs": [
        {
          "output_type": "execute_result",
          "data": {
            "text/html": [
              "\n",
              "  <div id=\"df-676a0668-2864-4bde-9241-f1ca51e3cc19\">\n",
              "    <div class=\"colab-df-container\">\n",
              "      <div>\n",
              "<style scoped>\n",
              "    .dataframe tbody tr th:only-of-type {\n",
              "        vertical-align: middle;\n",
              "    }\n",
              "\n",
              "    .dataframe tbody tr th {\n",
              "        vertical-align: top;\n",
              "    }\n",
              "\n",
              "    .dataframe thead th {\n",
              "        text-align: right;\n",
              "    }\n",
              "</style>\n",
              "<table border=\"1\" class=\"dataframe\">\n",
              "  <thead>\n",
              "    <tr style=\"text-align: right;\">\n",
              "      <th></th>\n",
              "      <th>battery_power</th>\n",
              "      <th>blue</th>\n",
              "      <th>clock_speed</th>\n",
              "      <th>dual_sim</th>\n",
              "      <th>fc</th>\n",
              "      <th>four_g</th>\n",
              "      <th>int_memory</th>\n",
              "      <th>m_dep</th>\n",
              "      <th>mobile_wt</th>\n",
              "      <th>n_cores</th>\n",
              "      <th>pc</th>\n",
              "      <th>px_height</th>\n",
              "      <th>px_width</th>\n",
              "      <th>ram</th>\n",
              "      <th>sc_h</th>\n",
              "      <th>sc_w</th>\n",
              "      <th>talk_time</th>\n",
              "      <th>three_g</th>\n",
              "      <th>touch_screen</th>\n",
              "      <th>wifi</th>\n",
              "    </tr>\n",
              "  </thead>\n",
              "  <tbody>\n",
              "    <tr>\n",
              "      <th>0</th>\n",
              "      <td>842</td>\n",
              "      <td>0</td>\n",
              "      <td>2.2</td>\n",
              "      <td>0</td>\n",
              "      <td>1</td>\n",
              "      <td>0</td>\n",
              "      <td>7</td>\n",
              "      <td>0.6</td>\n",
              "      <td>188</td>\n",
              "      <td>2</td>\n",
              "      <td>2</td>\n",
              "      <td>20</td>\n",
              "      <td>756</td>\n",
              "      <td>2549</td>\n",
              "      <td>9</td>\n",
              "      <td>7</td>\n",
              "      <td>19</td>\n",
              "      <td>0</td>\n",
              "      <td>0</td>\n",
              "      <td>1</td>\n",
              "    </tr>\n",
              "    <tr>\n",
              "      <th>1</th>\n",
              "      <td>1021</td>\n",
              "      <td>1</td>\n",
              "      <td>0.5</td>\n",
              "      <td>1</td>\n",
              "      <td>0</td>\n",
              "      <td>1</td>\n",
              "      <td>53</td>\n",
              "      <td>0.7</td>\n",
              "      <td>136</td>\n",
              "      <td>3</td>\n",
              "      <td>6</td>\n",
              "      <td>905</td>\n",
              "      <td>1988</td>\n",
              "      <td>2631</td>\n",
              "      <td>17</td>\n",
              "      <td>3</td>\n",
              "      <td>7</td>\n",
              "      <td>1</td>\n",
              "      <td>1</td>\n",
              "      <td>0</td>\n",
              "    </tr>\n",
              "    <tr>\n",
              "      <th>2</th>\n",
              "      <td>563</td>\n",
              "      <td>1</td>\n",
              "      <td>0.5</td>\n",
              "      <td>1</td>\n",
              "      <td>2</td>\n",
              "      <td>1</td>\n",
              "      <td>41</td>\n",
              "      <td>0.9</td>\n",
              "      <td>145</td>\n",
              "      <td>5</td>\n",
              "      <td>6</td>\n",
              "      <td>1263</td>\n",
              "      <td>1716</td>\n",
              "      <td>2603</td>\n",
              "      <td>11</td>\n",
              "      <td>2</td>\n",
              "      <td>9</td>\n",
              "      <td>1</td>\n",
              "      <td>1</td>\n",
              "      <td>0</td>\n",
              "    </tr>\n",
              "    <tr>\n",
              "      <th>3</th>\n",
              "      <td>615</td>\n",
              "      <td>1</td>\n",
              "      <td>2.5</td>\n",
              "      <td>0</td>\n",
              "      <td>0</td>\n",
              "      <td>0</td>\n",
              "      <td>10</td>\n",
              "      <td>0.8</td>\n",
              "      <td>131</td>\n",
              "      <td>6</td>\n",
              "      <td>9</td>\n",
              "      <td>1216</td>\n",
              "      <td>1786</td>\n",
              "      <td>2769</td>\n",
              "      <td>16</td>\n",
              "      <td>8</td>\n",
              "      <td>11</td>\n",
              "      <td>1</td>\n",
              "      <td>0</td>\n",
              "      <td>0</td>\n",
              "    </tr>\n",
              "    <tr>\n",
              "      <th>4</th>\n",
              "      <td>1821</td>\n",
              "      <td>1</td>\n",
              "      <td>1.2</td>\n",
              "      <td>0</td>\n",
              "      <td>13</td>\n",
              "      <td>1</td>\n",
              "      <td>44</td>\n",
              "      <td>0.6</td>\n",
              "      <td>141</td>\n",
              "      <td>2</td>\n",
              "      <td>14</td>\n",
              "      <td>1208</td>\n",
              "      <td>1212</td>\n",
              "      <td>1411</td>\n",
              "      <td>8</td>\n",
              "      <td>2</td>\n",
              "      <td>15</td>\n",
              "      <td>1</td>\n",
              "      <td>1</td>\n",
              "      <td>0</td>\n",
              "    </tr>\n",
              "  </tbody>\n",
              "</table>\n",
              "</div>\n",
              "      <button class=\"colab-df-convert\" onclick=\"convertToInteractive('df-676a0668-2864-4bde-9241-f1ca51e3cc19')\"\n",
              "              title=\"Convert this dataframe to an interactive table.\"\n",
              "              style=\"display:none;\">\n",
              "        \n",
              "  <svg xmlns=\"http://www.w3.org/2000/svg\" height=\"24px\"viewBox=\"0 0 24 24\"\n",
              "       width=\"24px\">\n",
              "    <path d=\"M0 0h24v24H0V0z\" fill=\"none\"/>\n",
              "    <path d=\"M18.56 5.44l.94 2.06.94-2.06 2.06-.94-2.06-.94-.94-2.06-.94 2.06-2.06.94zm-11 1L8.5 8.5l.94-2.06 2.06-.94-2.06-.94L8.5 2.5l-.94 2.06-2.06.94zm10 10l.94 2.06.94-2.06 2.06-.94-2.06-.94-.94-2.06-.94 2.06-2.06.94z\"/><path d=\"M17.41 7.96l-1.37-1.37c-.4-.4-.92-.59-1.43-.59-.52 0-1.04.2-1.43.59L10.3 9.45l-7.72 7.72c-.78.78-.78 2.05 0 2.83L4 21.41c.39.39.9.59 1.41.59.51 0 1.02-.2 1.41-.59l7.78-7.78 2.81-2.81c.8-.78.8-2.07 0-2.86zM5.41 20L4 18.59l7.72-7.72 1.47 1.35L5.41 20z\"/>\n",
              "  </svg>\n",
              "      </button>\n",
              "      \n",
              "  <style>\n",
              "    .colab-df-container {\n",
              "      display:flex;\n",
              "      flex-wrap:wrap;\n",
              "      gap: 12px;\n",
              "    }\n",
              "\n",
              "    .colab-df-convert {\n",
              "      background-color: #E8F0FE;\n",
              "      border: none;\n",
              "      border-radius: 50%;\n",
              "      cursor: pointer;\n",
              "      display: none;\n",
              "      fill: #1967D2;\n",
              "      height: 32px;\n",
              "      padding: 0 0 0 0;\n",
              "      width: 32px;\n",
              "    }\n",
              "\n",
              "    .colab-df-convert:hover {\n",
              "      background-color: #E2EBFA;\n",
              "      box-shadow: 0px 1px 2px rgba(60, 64, 67, 0.3), 0px 1px 3px 1px rgba(60, 64, 67, 0.15);\n",
              "      fill: #174EA6;\n",
              "    }\n",
              "\n",
              "    [theme=dark] .colab-df-convert {\n",
              "      background-color: #3B4455;\n",
              "      fill: #D2E3FC;\n",
              "    }\n",
              "\n",
              "    [theme=dark] .colab-df-convert:hover {\n",
              "      background-color: #434B5C;\n",
              "      box-shadow: 0px 1px 3px 1px rgba(0, 0, 0, 0.15);\n",
              "      filter: drop-shadow(0px 1px 2px rgba(0, 0, 0, 0.3));\n",
              "      fill: #FFFFFF;\n",
              "    }\n",
              "  </style>\n",
              "\n",
              "      <script>\n",
              "        const buttonEl =\n",
              "          document.querySelector('#df-676a0668-2864-4bde-9241-f1ca51e3cc19 button.colab-df-convert');\n",
              "        buttonEl.style.display =\n",
              "          google.colab.kernel.accessAllowed ? 'block' : 'none';\n",
              "\n",
              "        async function convertToInteractive(key) {\n",
              "          const element = document.querySelector('#df-676a0668-2864-4bde-9241-f1ca51e3cc19');\n",
              "          const dataTable =\n",
              "            await google.colab.kernel.invokeFunction('convertToInteractive',\n",
              "                                                     [key], {});\n",
              "          if (!dataTable) return;\n",
              "\n",
              "          const docLinkHtml = 'Like what you see? Visit the ' +\n",
              "            '<a target=\"_blank\" href=https://colab.research.google.com/notebooks/data_table.ipynb>data table notebook</a>'\n",
              "            + ' to learn more about interactive tables.';\n",
              "          element.innerHTML = '';\n",
              "          dataTable['output_type'] = 'display_data';\n",
              "          await google.colab.output.renderOutput(dataTable, element);\n",
              "          const docLink = document.createElement('div');\n",
              "          docLink.innerHTML = docLinkHtml;\n",
              "          element.appendChild(docLink);\n",
              "        }\n",
              "      </script>\n",
              "    </div>\n",
              "  </div>\n",
              "  "
            ],
            "text/plain": [
              "   battery_power  blue  clock_speed  ...  three_g  touch_screen  wifi\n",
              "0            842     0          2.2  ...        0             0     1\n",
              "1           1021     1          0.5  ...        1             1     0\n",
              "2            563     1          0.5  ...        1             1     0\n",
              "3            615     1          2.5  ...        1             0     0\n",
              "4           1821     1          1.2  ...        1             1     0\n",
              "\n",
              "[5 rows x 20 columns]"
            ]
          },
          "metadata": {},
          "execution_count": 110
        }
      ]
    },
    {
      "cell_type": "code",
      "source": [
        "df_mobile_price.nunique()"
      ],
      "metadata": {
        "colab": {
          "base_uri": "https://localhost:8080/"
        },
        "id": "tezyKLqZXFQk",
        "outputId": "6833f70f-1366-4b35-a94e-31d726215fb0"
      },
      "execution_count": 111,
      "outputs": [
        {
          "output_type": "execute_result",
          "data": {
            "text/plain": [
              "battery_power    1275\n",
              "blue                2\n",
              "clock_speed        26\n",
              "dual_sim            2\n",
              "fc                 20\n",
              "four_g              2\n",
              "int_memory         63\n",
              "m_dep              10\n",
              "mobile_wt         121\n",
              "n_cores             8\n",
              "pc                 21\n",
              "px_height        1333\n",
              "px_width         1313\n",
              "ram              2070\n",
              "sc_h               15\n",
              "sc_w               19\n",
              "talk_time          19\n",
              "three_g             2\n",
              "touch_screen        2\n",
              "wifi                2\n",
              "dtype: int64"
            ]
          },
          "metadata": {},
          "execution_count": 111
        }
      ]
    },
    {
      "cell_type": "code",
      "source": [
        "df_mobile_price.describe().loc[[\"min\", \"max\"]]"
      ],
      "metadata": {
        "colab": {
          "base_uri": "https://localhost:8080/",
          "height": 112
        },
        "id": "cKz6ujN0W3QX",
        "outputId": "bac12915-629c-4769-88f7-d1c5cc5bccfe"
      },
      "execution_count": 112,
      "outputs": [
        {
          "output_type": "execute_result",
          "data": {
            "text/html": [
              "\n",
              "  <div id=\"df-c9c8448b-a33d-4d38-9a6f-0ed2026cec65\">\n",
              "    <div class=\"colab-df-container\">\n",
              "      <div>\n",
              "<style scoped>\n",
              "    .dataframe tbody tr th:only-of-type {\n",
              "        vertical-align: middle;\n",
              "    }\n",
              "\n",
              "    .dataframe tbody tr th {\n",
              "        vertical-align: top;\n",
              "    }\n",
              "\n",
              "    .dataframe thead th {\n",
              "        text-align: right;\n",
              "    }\n",
              "</style>\n",
              "<table border=\"1\" class=\"dataframe\">\n",
              "  <thead>\n",
              "    <tr style=\"text-align: right;\">\n",
              "      <th></th>\n",
              "      <th>battery_power</th>\n",
              "      <th>blue</th>\n",
              "      <th>clock_speed</th>\n",
              "      <th>dual_sim</th>\n",
              "      <th>fc</th>\n",
              "      <th>four_g</th>\n",
              "      <th>int_memory</th>\n",
              "      <th>m_dep</th>\n",
              "      <th>mobile_wt</th>\n",
              "      <th>n_cores</th>\n",
              "      <th>pc</th>\n",
              "      <th>px_height</th>\n",
              "      <th>px_width</th>\n",
              "      <th>ram</th>\n",
              "      <th>sc_h</th>\n",
              "      <th>sc_w</th>\n",
              "      <th>talk_time</th>\n",
              "      <th>three_g</th>\n",
              "      <th>touch_screen</th>\n",
              "      <th>wifi</th>\n",
              "    </tr>\n",
              "  </thead>\n",
              "  <tbody>\n",
              "    <tr>\n",
              "      <th>min</th>\n",
              "      <td>500.0</td>\n",
              "      <td>0.0</td>\n",
              "      <td>0.5</td>\n",
              "      <td>0.0</td>\n",
              "      <td>0.0</td>\n",
              "      <td>0.0</td>\n",
              "      <td>2.0</td>\n",
              "      <td>0.1</td>\n",
              "      <td>80.0</td>\n",
              "      <td>1.0</td>\n",
              "      <td>0.0</td>\n",
              "      <td>0.0</td>\n",
              "      <td>500.0</td>\n",
              "      <td>256.0</td>\n",
              "      <td>5.0</td>\n",
              "      <td>0.0</td>\n",
              "      <td>2.0</td>\n",
              "      <td>0.0</td>\n",
              "      <td>0.0</td>\n",
              "      <td>0.0</td>\n",
              "    </tr>\n",
              "    <tr>\n",
              "      <th>max</th>\n",
              "      <td>1999.0</td>\n",
              "      <td>1.0</td>\n",
              "      <td>3.0</td>\n",
              "      <td>1.0</td>\n",
              "      <td>19.0</td>\n",
              "      <td>1.0</td>\n",
              "      <td>64.0</td>\n",
              "      <td>1.0</td>\n",
              "      <td>200.0</td>\n",
              "      <td>8.0</td>\n",
              "      <td>20.0</td>\n",
              "      <td>1960.0</td>\n",
              "      <td>1998.0</td>\n",
              "      <td>3998.0</td>\n",
              "      <td>19.0</td>\n",
              "      <td>18.0</td>\n",
              "      <td>20.0</td>\n",
              "      <td>1.0</td>\n",
              "      <td>1.0</td>\n",
              "      <td>1.0</td>\n",
              "    </tr>\n",
              "  </tbody>\n",
              "</table>\n",
              "</div>\n",
              "      <button class=\"colab-df-convert\" onclick=\"convertToInteractive('df-c9c8448b-a33d-4d38-9a6f-0ed2026cec65')\"\n",
              "              title=\"Convert this dataframe to an interactive table.\"\n",
              "              style=\"display:none;\">\n",
              "        \n",
              "  <svg xmlns=\"http://www.w3.org/2000/svg\" height=\"24px\"viewBox=\"0 0 24 24\"\n",
              "       width=\"24px\">\n",
              "    <path d=\"M0 0h24v24H0V0z\" fill=\"none\"/>\n",
              "    <path d=\"M18.56 5.44l.94 2.06.94-2.06 2.06-.94-2.06-.94-.94-2.06-.94 2.06-2.06.94zm-11 1L8.5 8.5l.94-2.06 2.06-.94-2.06-.94L8.5 2.5l-.94 2.06-2.06.94zm10 10l.94 2.06.94-2.06 2.06-.94-2.06-.94-.94-2.06-.94 2.06-2.06.94z\"/><path d=\"M17.41 7.96l-1.37-1.37c-.4-.4-.92-.59-1.43-.59-.52 0-1.04.2-1.43.59L10.3 9.45l-7.72 7.72c-.78.78-.78 2.05 0 2.83L4 21.41c.39.39.9.59 1.41.59.51 0 1.02-.2 1.41-.59l7.78-7.78 2.81-2.81c.8-.78.8-2.07 0-2.86zM5.41 20L4 18.59l7.72-7.72 1.47 1.35L5.41 20z\"/>\n",
              "  </svg>\n",
              "      </button>\n",
              "      \n",
              "  <style>\n",
              "    .colab-df-container {\n",
              "      display:flex;\n",
              "      flex-wrap:wrap;\n",
              "      gap: 12px;\n",
              "    }\n",
              "\n",
              "    .colab-df-convert {\n",
              "      background-color: #E8F0FE;\n",
              "      border: none;\n",
              "      border-radius: 50%;\n",
              "      cursor: pointer;\n",
              "      display: none;\n",
              "      fill: #1967D2;\n",
              "      height: 32px;\n",
              "      padding: 0 0 0 0;\n",
              "      width: 32px;\n",
              "    }\n",
              "\n",
              "    .colab-df-convert:hover {\n",
              "      background-color: #E2EBFA;\n",
              "      box-shadow: 0px 1px 2px rgba(60, 64, 67, 0.3), 0px 1px 3px 1px rgba(60, 64, 67, 0.15);\n",
              "      fill: #174EA6;\n",
              "    }\n",
              "\n",
              "    [theme=dark] .colab-df-convert {\n",
              "      background-color: #3B4455;\n",
              "      fill: #D2E3FC;\n",
              "    }\n",
              "\n",
              "    [theme=dark] .colab-df-convert:hover {\n",
              "      background-color: #434B5C;\n",
              "      box-shadow: 0px 1px 3px 1px rgba(0, 0, 0, 0.15);\n",
              "      filter: drop-shadow(0px 1px 2px rgba(0, 0, 0, 0.3));\n",
              "      fill: #FFFFFF;\n",
              "    }\n",
              "  </style>\n",
              "\n",
              "      <script>\n",
              "        const buttonEl =\n",
              "          document.querySelector('#df-c9c8448b-a33d-4d38-9a6f-0ed2026cec65 button.colab-df-convert');\n",
              "        buttonEl.style.display =\n",
              "          google.colab.kernel.accessAllowed ? 'block' : 'none';\n",
              "\n",
              "        async function convertToInteractive(key) {\n",
              "          const element = document.querySelector('#df-c9c8448b-a33d-4d38-9a6f-0ed2026cec65');\n",
              "          const dataTable =\n",
              "            await google.colab.kernel.invokeFunction('convertToInteractive',\n",
              "                                                     [key], {});\n",
              "          if (!dataTable) return;\n",
              "\n",
              "          const docLinkHtml = 'Like what you see? Visit the ' +\n",
              "            '<a target=\"_blank\" href=https://colab.research.google.com/notebooks/data_table.ipynb>data table notebook</a>'\n",
              "            + ' to learn more about interactive tables.';\n",
              "          element.innerHTML = '';\n",
              "          dataTable['output_type'] = 'display_data';\n",
              "          await google.colab.output.renderOutput(dataTable, element);\n",
              "          const docLink = document.createElement('div');\n",
              "          docLink.innerHTML = docLinkHtml;\n",
              "          element.appendChild(docLink);\n",
              "        }\n",
              "      </script>\n",
              "    </div>\n",
              "  </div>\n",
              "  "
            ],
            "text/plain": [
              "     battery_power  blue  clock_speed  ...  three_g  touch_screen  wifi\n",
              "min          500.0   0.0          0.5  ...      0.0           0.0   0.0\n",
              "max         1999.0   1.0          3.0  ...      1.0           1.0   1.0\n",
              "\n",
              "[2 rows x 20 columns]"
            ]
          },
          "metadata": {},
          "execution_count": 112
        }
      ]
    },
    {
      "cell_type": "code",
      "source": [
        "# just looking for floating points in the table\n",
        "\n",
        "def is_whole_number(n):\n",
        "    return n % 1 == 0\n",
        "\n",
        "df_mobile_price.apply(is_whole_number, axis=1).sum(axis=0) / len(df_mobile_price)"
      ],
      "metadata": {
        "colab": {
          "base_uri": "https://localhost:8080/"
        },
        "id": "Ub2hEqG4YbHn",
        "outputId": "7b58f15a-e327-4abe-b71e-2453f60e5204"
      },
      "execution_count": 45,
      "outputs": [
        {
          "output_type": "execute_result",
          "data": {
            "text/plain": [
              "battery_power    1.000000\n",
              "blue             1.000000\n",
              "clock_speed      0.076000\n",
              "dual_sim         1.000000\n",
              "fc               1.000000\n",
              "four_g           1.000000\n",
              "int_memory       1.000000\n",
              "m_dep            0.051667\n",
              "mobile_wt        1.000000\n",
              "n_cores          1.000000\n",
              "pc               1.000000\n",
              "px_height        1.000000\n",
              "px_width         1.000000\n",
              "ram              1.000000\n",
              "sc_h             1.000000\n",
              "sc_w             1.000000\n",
              "talk_time        1.000000\n",
              "three_g          1.000000\n",
              "touch_screen     1.000000\n",
              "wifi             1.000000\n",
              "dtype: float64"
            ]
          },
          "metadata": {},
          "execution_count": 45
        }
      ]
    },
    {
      "cell_type": "markdown",
      "source": [
        "Let's recall some basic computing concepts:\n",
        "\n",
        "For integers\n",
        "- **int8** can store integers from -128 to 127.\n",
        "- **int16** can store integers from -32768 to 32767.\n",
        "- **int64** can store integers from -9223372036854775808 to 9223372036854775807."
      ],
      "metadata": {
        "id": "7ff4IIhNXkwF"
      }
    },
    {
      "cell_type": "code",
      "source": [
        "schema = {\n",
        "    \"battery_power\": \"int16\",\n",
        "    \"blue\": bool,\n",
        "    \"clock_speed\": \"float32\",\n",
        "    \"dual_sim\": bool,\n",
        "    \"fc\": \"int8\",\n",
        "    \"four_g\": bool,\n",
        "    \"int_memory\": \"int8\",\n",
        "    \"m_dep\": \"float32\",\n",
        "    \"mobile_wt\": \"int16\",\n",
        "    \"n_cores\": \"int8\",\n",
        "    \"pc\": \"int8\",\n",
        "    \"px_height\": \"int16\",\n",
        "    \"px_width\": \"int16\",\n",
        "    \"ram\": \"int16\",\n",
        "    \"sc_h\": \"int8\",\n",
        "    \"sc_w\": \"int8\",\n",
        "    \"talk_time\": \"int8\",\n",
        "    \"three_g\": bool,\n",
        "    \"touch_screen\": bool,\n",
        "    \"wifi\": bool\n",
        "}\n",
        "df_mobile_price = pd.read_csv(FILEPATH_MOBILE_PRICE, dtype=schema)\n",
        "df_mobile_price.info(verbose=True, memory_usage=\"deep\")"
      ],
      "metadata": {
        "colab": {
          "base_uri": "https://localhost:8080/"
        },
        "id": "DN8DDVOlXtWQ",
        "outputId": "9786d764-efca-48e4-9239-32480d32b17e"
      },
      "execution_count": 49,
      "outputs": [
        {
          "output_type": "stream",
          "name": "stdout",
          "text": [
            "<class 'pandas.core.frame.DataFrame'>\n",
            "RangeIndex: 3000 entries, 0 to 2999\n",
            "Data columns (total 20 columns):\n",
            " #   Column         Non-Null Count  Dtype  \n",
            "---  ------         --------------  -----  \n",
            " 0   battery_power  3000 non-null   int16  \n",
            " 1   blue           3000 non-null   bool   \n",
            " 2   clock_speed    3000 non-null   float32\n",
            " 3   dual_sim       3000 non-null   bool   \n",
            " 4   fc             3000 non-null   int8   \n",
            " 5   four_g         3000 non-null   bool   \n",
            " 6   int_memory     3000 non-null   int8   \n",
            " 7   m_dep          3000 non-null   float32\n",
            " 8   mobile_wt      3000 non-null   int16  \n",
            " 9   n_cores        3000 non-null   int8   \n",
            " 10  pc             3000 non-null   int8   \n",
            " 11  px_height      3000 non-null   int16  \n",
            " 12  px_width       3000 non-null   int16  \n",
            " 13  ram            3000 non-null   int16  \n",
            " 14  sc_h           3000 non-null   int8   \n",
            " 15  sc_w           3000 non-null   int8   \n",
            " 16  talk_time      3000 non-null   int8   \n",
            " 17  three_g        3000 non-null   bool   \n",
            " 18  touch_screen   3000 non-null   bool   \n",
            " 19  wifi           3000 non-null   bool   \n",
            "dtypes: bool(6), float32(2), int16(5), int8(7)\n",
            "memory usage: 90.9 KB\n"
          ]
        }
      ]
    },
    {
      "cell_type": "code",
      "source": [
        "468.9e3 / 90.9e3 "
      ],
      "metadata": {
        "colab": {
          "base_uri": "https://localhost:8080/"
        },
        "id": "wn2RfGgiXtQC",
        "outputId": "0062a920-87ed-428e-9b18-789fe67de8a6"
      },
      "execution_count": 50,
      "outputs": [
        {
          "output_type": "execute_result",
          "data": {
            "text/plain": [
              "5.158415841584159"
            ]
          },
          "metadata": {},
          "execution_count": 50
        }
      ]
    },
    {
      "cell_type": "markdown",
      "source": [
        "Hooray! We've been able to shrink the memory usage down to **~5x times** just by changing the original `int64` and `float64` dtypes identified by pandas to smaller magnitude integer and float dtype counterparts (and boolean) categories accordingly."
      ],
      "metadata": {
        "id": "SFELU18za9eg"
      }
    },
    {
      "cell_type": "markdown",
      "source": [
        "Imagine this approach in an actual working dataset, you'll be surprised how efficient this technique can be in your own data science workflow, **not only it speeds up the subsequent processes, it also allows you to do more** since you have less usage of your compute resources. 😁"
      ],
      "metadata": {
        "id": "4HE0kyGSQItU"
      }
    },
    {
      "cell_type": "markdown",
      "source": [
        "**WHAT WE'VE COVERED**\n",
        "- How to leverage pandas `DataFrame`'s quirk of being a column-major data structure.\n",
        "    - Use `Series` to speed up calculations as compared to a row-based approach.\n",
        "    - Efficient chaining of operation by starting with the column slicing.\n",
        "- How to correctly address the notorious `SettingWithCopy` warning of pandas.\n",
        "    - Difference between a `Copy` and `View`.\n",
        "    - How to mitigate the SettingWithCopy warning using `.loc()`.\n",
        "- How to efficiently load a pandas dataframe into memory.\n",
        "    - Use only relevant columns for the problem.\n",
        "    - Make use of the category dtype in pandas for categorical data.\n",
        "    - Make use of lower magnitude floats and integers for the data.\n"
      ],
      "metadata": {
        "id": "W8aDs7S43KNd"
      }
    },
    {
      "cell_type": "markdown",
      "source": [
        "## What I expect from you after the session"
      ],
      "metadata": {
        "id": "DHErDZMTMnJ9"
      }
    },
    {
      "cell_type": "markdown",
      "source": [
        "Now that we've finished this session I expect you to 📚✍️👨‍🏫👩‍🏫👨‍🎓👩‍🎓"
      ],
      "metadata": {
        "id": "nUCLIgx8P_4k"
      }
    },
    {
      "cell_type": "markdown",
      "source": [
        "## REFERENCES"
      ],
      "metadata": {
        "id": "kAED596LT_gz"
      }
    },
    {
      "cell_type": "markdown",
      "source": [
        "Here are some helpful references curated just for you!\n",
        "\n",
        "Docs\n",
        "- [Here is the PEP8 style guide in Python.](https://www.python.org/dev/peps/pep-0008/)\n",
        "- [Here is pendulum's official documentation.](https://pendulum.eustace.io/docs/)\n",
        "- [Here is pandas' official documentation.](https://pandas.pydata.org/docs/reference/index.html#api)\n",
        "- [Here is geopandas' official documentation.](https://geopandas.org/en/stable/docs.html)\n",
        "- [Here is pytest's official documentation.](https://docs.pytest.org/en/7.0.x/) \n",
        "- [Here is seaborn's official documentation.](https://seaborn.pydata.org/api.html)\n",
        "\n",
        "Books\n",
        "- [If you want to brush up on your python programming.](https://www.tomasbeuzen.com/python-programming-for-data-science/README.html)\n",
        "- [If you want to learn more about inferential thinking.](https://inferentialthinking.com/chapters/intro.html)\n",
        "- [If you want to learn more about geographic data science.](https://geographicdata.science/book/intro.html)\n",
        "\n",
        "Blogs\n",
        "- [If you want to learn more about test-driven development.](https://testdriven.io/blog/)"
      ],
      "metadata": {
        "id": "bfCfhNO5Ul6i"
      }
    }
  ]
}