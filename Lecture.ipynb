{
  "nbformat": 4,
  "nbformat_minor": 0,
  "metadata": {
    "colab": {
      "name": "[Working Copy] DSP Python Workshop 2022.ipynb",
      "provenance": [],
      "collapsed_sections": [
        "1NqsEYMbtQrI",
        "BdWE3TSdPu_v",
        "0IxIzDKQQebR",
        "QtXwWm2Ju6mr",
        "v3xpkyxixmHr",
        "EXsx9DB00AYW",
        "DHErDZMTMnJ9",
        "ZLGNSrLKymV2",
        "kAED596LT_gz"
      ],
      "include_colab_link": true
    },
    "kernelspec": {
      "name": "python3",
      "display_name": "Python 3"
    },
    "language_info": {
      "name": "python"
    },
    "widgets": {
      "application/vnd.jupyter.widget-state+json": {
        "fec4205bdc8a4d788916687b28a426bc": {
          "model_module": "jupyter-leaflet",
          "model_name": "LeafletMapModel",
          "model_module_version": "^0.15.0",
          "state": {
            "_view_name": "LeafletMapView",
            "keyboard_pan_offset": 80,
            "right": 28060807.39750981,
            "tap": true,
            "_view_module": "jupyter-leaflet",
            "max_zoom": 24,
            "_model_module_version": "^0.15.0",
            "_view_count": null,
            "zoom_snap": 1,
            "min_zoom": 1,
            "bounce_at_zoom_limits": true,
            "keyboard": true,
            "north": 14.552827750300935,
            "scroll_wheel_zoom": true,
            "dragging": true,
            "_model_module": "jupyter-leaflet",
            "zoom_delta": 1,
            "close_popup_on_click": true,
            "fullscreen": false,
            "style": "IPY_MODEL_a94e0767423641b9a5959c47c43ab72f",
            "layout": "IPY_MODEL_bcaff87b4d4747f486ea9254e5d4f0f2",
            "bottom": 15406569.866781427,
            "prefer_canvas": false,
            "inertia_max_speed": 1500,
            "top": 15405969.866781427,
            "box_zoom": true,
            "controls": [
              "IPY_MODEL_1bde5463889c48ee84cf48d55c5d3633",
              "IPY_MODEL_48e951b7d1a74724b3122557b292efc4",
              "IPY_MODEL_7b6a2d16686c49f08b29d7faffb32be8",
              "IPY_MODEL_c230a9abbb6440a5987989c439b590c9",
              "IPY_MODEL_d621478a008b4b6f9a7775e42b006a92",
              "IPY_MODEL_405b6f3c486f40c7980d6c9232398fba",
              "IPY_MODEL_20a2d5d37ef443998b18fa99963f1ffd",
              "IPY_MODEL_644943d24d2f4cdab54865d8b20f87e7",
              "IPY_MODEL_107fa0042bd24d35842a4b87ca2e8799",
              "IPY_MODEL_ecc98ea839c34e469f78829a5e996bee"
            ],
            "default_style": "IPY_MODEL_a94e0767423641b9a5959c47c43ab72f",
            "east": 121.05980226706063,
            "double_click_zoom": true,
            "interpolation": "bilinear",
            "layers": [
              "IPY_MODEL_325b072df7d34b0abf9ad63c9e156fb5",
              "IPY_MODEL_9480085196de46e692bde564055ca9ca",
              "IPY_MODEL_cf78bf7cd0d94825a00fa6e03d3489b2",
              "IPY_MODEL_f741d27b16aa4822967fb758a8a730e9",
              "IPY_MODEL_b5e1cf8242be46dc87d8c28c616504c0"
            ],
            "dragging_style": "IPY_MODEL_6e651980cb6344a39395023bd568eac5",
            "_dom_classes": [],
            "zoom_animation_threshold": 4,
            "_model_name": "LeafletMapModel",
            "zoom_start": 12,
            "modisdate": "2022-03-03",
            "keyboard_zoom_offset": 1,
            "inertia_deceleration": 3000,
            "inertia": true,
            "crs": {
              "name": "EPSG3857",
              "custom": false
            },
            "center": [
              14.54971234348603,
              121.04949185560739
            ],
            "zoom": 17,
            "world_copy_jump": false,
            "_view_module_version": "^0.15.0",
            "window_url": "https://owujl8yqdci-496ff2e9c6d22116-0-colab.googleusercontent.com/outputframe.html?vrz=colab-20220302-060057-RC00_431884419",
            "tap_tolerance": 15,
            "west": 121.03918144415414,
            "touch_zoom": true,
            "options": [
              "bounce_at_zoom_limits",
              "box_zoom",
              "center",
              "close_popup_on_click",
              "double_click_zoom",
              "dragging",
              "fullscreen",
              "inertia",
              "inertia_deceleration",
              "inertia_max_speed",
              "interpolation",
              "keyboard",
              "keyboard_pan_offset",
              "keyboard_zoom_offset",
              "max_zoom",
              "min_zoom",
              "prefer_canvas",
              "scroll_wheel_zoom",
              "tap",
              "tap_tolerance",
              "touch_zoom",
              "world_copy_jump",
              "zoom",
              "zoom_animation_threshold",
              "zoom_delta",
              "zoom_snap",
              "zoom_start"
            ],
            "south": 14.5465968927045,
            "left": 28058885.39750981,
            "_dragging": false
          }
        },
        "83c9eeb6b54e4b4da08af17ac713a09c": {
          "model_module": "jupyter-leaflet",
          "model_name": "LeafletMapStyleModel",
          "model_module_version": "^0.15.0",
          "state": {
            "_view_name": "StyleView",
            "_model_name": "LeafletMapStyleModel",
            "_view_module": "@jupyter-widgets/base",
            "_model_module_version": "^0.15.0",
            "_view_count": null,
            "cursor": "grab",
            "_view_module_version": "1.2.0",
            "_model_module": "jupyter-leaflet"
          }
        },
        "bcaff87b4d4747f486ea9254e5d4f0f2": {
          "model_module": "@jupyter-widgets/base",
          "model_name": "LayoutModel",
          "model_module_version": "1.2.0",
          "state": {
            "_view_name": "LayoutView",
            "grid_template_rows": null,
            "right": null,
            "justify_content": null,
            "_view_module": "@jupyter-widgets/base",
            "overflow": null,
            "_model_module_version": "1.2.0",
            "_view_count": null,
            "flex_flow": null,
            "width": null,
            "min_width": null,
            "border": null,
            "align_items": null,
            "bottom": null,
            "_model_module": "@jupyter-widgets/base",
            "top": null,
            "grid_column": null,
            "overflow_y": null,
            "overflow_x": null,
            "grid_auto_flow": null,
            "grid_area": null,
            "grid_template_columns": null,
            "flex": null,
            "_model_name": "LayoutModel",
            "justify_items": null,
            "grid_row": null,
            "max_height": null,
            "align_content": null,
            "visibility": null,
            "align_self": null,
            "height": "600px",
            "min_height": null,
            "padding": null,
            "grid_auto_rows": null,
            "grid_gap": null,
            "max_width": null,
            "order": null,
            "_view_module_version": "1.2.0",
            "grid_template_areas": null,
            "object_position": null,
            "object_fit": null,
            "grid_auto_columns": null,
            "margin": null,
            "display": null,
            "left": null
          }
        },
        "1bde5463889c48ee84cf48d55c5d3633": {
          "model_module": "jupyter-leaflet",
          "model_name": "LeafletZoomControlModel",
          "model_module_version": "^0.15.0",
          "state": {
            "_view_name": "LeafletZoomControlView",
            "zoom_in_title": "Zoom in",
            "_model_name": "LeafletZoomControlModel",
            "_view_module": "jupyter-leaflet",
            "_model_module_version": "^0.15.0",
            "_view_count": null,
            "_view_module_version": "^0.15.0",
            "zoom_out_title": "Zoom out",
            "position": "topleft",
            "zoom_in_text": "+",
            "_model_module": "jupyter-leaflet",
            "options": [
              "position",
              "zoom_in_text",
              "zoom_in_title",
              "zoom_out_text",
              "zoom_out_title"
            ],
            "zoom_out_text": "-"
          }
        },
        "48e951b7d1a74724b3122557b292efc4": {
          "model_module": "jupyter-leaflet",
          "model_name": "LeafletLayersControlModel",
          "model_module_version": "^0.15.0",
          "state": {
            "_view_name": "LeafletLayersControlView",
            "_model_name": "LeafletLayersControlModel",
            "_view_module": "jupyter-leaflet",
            "_model_module_version": "^0.15.0",
            "_view_count": null,
            "_view_module_version": "^0.15.0",
            "position": "topright",
            "_model_module": "jupyter-leaflet",
            "options": [
              "position"
            ]
          }
        },
        "7b6a2d16686c49f08b29d7faffb32be8": {
          "model_module": "jupyter-leaflet",
          "model_name": "LeafletFullScreenControlModel",
          "model_module_version": "^0.15.0",
          "state": {
            "_view_name": "LeafletFullScreenControlView",
            "_model_name": "LeafletFullScreenControlModel",
            "_view_module": "jupyter-leaflet",
            "_model_module_version": "^0.15.0",
            "_view_count": null,
            "_view_module_version": "^0.15.0",
            "position": "topleft",
            "_model_module": "jupyter-leaflet",
            "options": [
              "position"
            ]
          }
        },
        "c230a9abbb6440a5987989c439b590c9": {
          "model_module": "jupyter-leaflet",
          "model_name": "LeafletDrawControlModel",
          "model_module_version": "^0.15.0",
          "state": {
            "_view_name": "LeafletDrawControlView",
            "polygon": {
              "shapeOptions": {}
            },
            "circlemarker": {},
            "_model_name": "LeafletDrawControlModel",
            "edit": true,
            "data": [],
            "_view_module": "jupyter-leaflet",
            "_model_module_version": "^0.15.0",
            "remove": true,
            "_view_count": null,
            "_view_module_version": "^0.15.0",
            "polyline": {
              "shapeOptions": {}
            },
            "marker": {
              "shapeOptions": {
                "color": "#3388ff"
              }
            },
            "position": "topleft",
            "circle": {
              "shapeOptions": {
                "color": "#3388ff"
              }
            },
            "_model_module": "jupyter-leaflet",
            "options": [
              "position"
            ],
            "rectangle": {
              "shapeOptions": {
                "color": "#3388ff"
              }
            }
          }
        },
        "d621478a008b4b6f9a7775e42b006a92": {
          "model_module": "jupyter-leaflet",
          "model_name": "LeafletWidgetControlModel",
          "model_module_version": "^0.15.0",
          "state": {
            "_view_name": "LeafletWidgetControlView",
            "widget": "IPY_MODEL_8629f6282ed84d9e884ac6d5ca57a60a",
            "_model_name": "LeafletWidgetControlModel",
            "_view_module": "jupyter-leaflet",
            "_model_module_version": "^0.15.0",
            "max_height": null,
            "_view_count": null,
            "min_height": null,
            "_view_module_version": "^0.15.0",
            "max_width": null,
            "transparent_bg": false,
            "min_width": null,
            "position": "bottomright",
            "_model_module": "jupyter-leaflet",
            "options": [
              "position",
              "transparent_bg"
            ]
          }
        },
        "405b6f3c486f40c7980d6c9232398fba": {
          "model_module": "jupyter-leaflet",
          "model_name": "LeafletScaleControlModel",
          "model_module_version": "^0.15.0",
          "state": {
            "_view_name": "LeafletScaleControlView",
            "_model_name": "LeafletScaleControlModel",
            "metric": true,
            "_view_module": "jupyter-leaflet",
            "_model_module_version": "^0.15.0",
            "max_width": 100,
            "_view_count": null,
            "_view_module_version": "^0.15.0",
            "update_when_idle": false,
            "position": "bottomleft",
            "imperial": true,
            "_model_module": "jupyter-leaflet",
            "options": [
              "imperial",
              "max_width",
              "metric",
              "position",
              "update_when_idle"
            ]
          }
        },
        "20a2d5d37ef443998b18fa99963f1ffd": {
          "model_module": "jupyter-leaflet",
          "model_name": "LeafletWidgetControlModel",
          "model_module_version": "^0.15.0",
          "state": {
            "_view_name": "LeafletWidgetControlView",
            "widget": "IPY_MODEL_41878688a574456ea67049060691705a",
            "_model_name": "LeafletWidgetControlModel",
            "_view_module": "jupyter-leaflet",
            "_model_module_version": "^0.15.0",
            "max_height": null,
            "_view_count": null,
            "min_height": null,
            "_view_module_version": "^0.15.0",
            "max_width": null,
            "transparent_bg": false,
            "min_width": null,
            "position": "topright",
            "_model_module": "jupyter-leaflet",
            "options": [
              "position",
              "transparent_bg"
            ]
          }
        },
        "644943d24d2f4cdab54865d8b20f87e7": {
          "model_module": "jupyter-leaflet",
          "model_name": "LeafletWidgetControlModel",
          "model_module_version": "^0.15.0",
          "state": {
            "_view_name": "LeafletWidgetControlView",
            "widget": "IPY_MODEL_155a87e356814c43bf91199e7a949a89",
            "_model_name": "LeafletWidgetControlModel",
            "_view_module": "jupyter-leaflet",
            "_model_module_version": "^0.15.0",
            "max_height": null,
            "_view_count": null,
            "min_height": null,
            "_view_module_version": "^0.15.0",
            "max_width": null,
            "transparent_bg": false,
            "min_width": null,
            "position": "bottomright",
            "_model_module": "jupyter-leaflet",
            "options": [
              "position",
              "transparent_bg"
            ]
          }
        },
        "107fa0042bd24d35842a4b87ca2e8799": {
          "model_module": "jupyter-leaflet",
          "model_name": "LeafletWidgetControlModel",
          "model_module_version": "^0.15.0",
          "state": {
            "_view_name": "LeafletWidgetControlView",
            "widget": "IPY_MODEL_8c83a9a1be964578b44f50856fb6a991",
            "_model_name": "LeafletWidgetControlModel",
            "_view_module": "jupyter-leaflet",
            "_model_module_version": "^0.15.0",
            "max_height": null,
            "_view_count": null,
            "min_height": null,
            "_view_module_version": "^0.15.0",
            "max_width": null,
            "transparent_bg": false,
            "min_width": null,
            "position": "bottomright",
            "_model_module": "jupyter-leaflet",
            "options": [
              "position",
              "transparent_bg"
            ]
          }
        },
        "ecc98ea839c34e469f78829a5e996bee": {
          "model_module": "jupyter-leaflet",
          "model_name": "LeafletWidgetControlModel",
          "model_module_version": "^0.15.0",
          "state": {
            "_view_name": "LeafletWidgetControlView",
            "widget": "IPY_MODEL_f6fd631fc146462aa53ad25b84d01abc",
            "_model_name": "LeafletWidgetControlModel",
            "_view_module": "jupyter-leaflet",
            "_model_module_version": "^0.15.0",
            "max_height": null,
            "_view_count": null,
            "min_height": null,
            "_view_module_version": "^0.15.0",
            "max_width": null,
            "transparent_bg": false,
            "min_width": null,
            "position": "bottomright",
            "_model_module": "jupyter-leaflet",
            "options": [
              "position",
              "transparent_bg"
            ]
          }
        },
        "a94e0767423641b9a5959c47c43ab72f": {
          "model_module": "jupyter-leaflet",
          "model_name": "LeafletMapStyleModel",
          "model_module_version": "^0.15.0",
          "state": {
            "_view_name": "StyleView",
            "_model_name": "LeafletMapStyleModel",
            "_view_module": "@jupyter-widgets/base",
            "_model_module_version": "^0.15.0",
            "_view_count": null,
            "cursor": "grab",
            "_view_module_version": "1.2.0",
            "_model_module": "jupyter-leaflet"
          }
        },
        "325b072df7d34b0abf9ad63c9e156fb5": {
          "model_module": "jupyter-leaflet",
          "model_name": "LeafletTileLayerModel",
          "model_module_version": "^0.15.0",
          "state": {
            "_view_name": "LeafletTileLayerView",
            "_view_module": "jupyter-leaflet",
            "max_zoom": 19,
            "_model_module_version": "^0.15.0",
            "_view_count": null,
            "visible": true,
            "min_zoom": 1,
            "tms": false,
            "_model_module": "jupyter-leaflet",
            "loading": false,
            "bottom": true,
            "no_wrap": false,
            "tile_size": 256,
            "popup_min_width": 50,
            "opacity": 1,
            "popup": null,
            "attribution": "&copy; <a href=\"https://www.openstreetmap.org/copyright\">OpenStreetMap</a> contributors",
            "_model_name": "LeafletTileLayerModel",
            "max_native_zoom": 18,
            "base": true,
            "min_native_zoom": 0,
            "show_loading": false,
            "name": "OpenStreetMap",
            "url": "https://a.tile.openstreetmap.org/{z}/{x}/{y}.png",
            "popup_max_height": null,
            "popup_max_width": 300,
            "detect_retina": false,
            "_view_module_version": "^0.15.0",
            "options": [
              "attribution",
              "detect_retina",
              "max_native_zoom",
              "max_zoom",
              "min_native_zoom",
              "min_zoom",
              "no_wrap",
              "tile_size",
              "tms"
            ]
          }
        },
        "9480085196de46e692bde564055ca9ca": {
          "model_module": "jupyter-leaflet",
          "model_name": "LeafletTileLayerModel",
          "model_module_version": "^0.15.0",
          "state": {
            "_view_name": "LeafletTileLayerView",
            "_view_module": "jupyter-leaflet",
            "max_zoom": 20,
            "_model_module_version": "^0.15.0",
            "_view_count": null,
            "visible": true,
            "min_zoom": 0,
            "tms": false,
            "_model_module": "jupyter-leaflet",
            "loading": false,
            "bottom": true,
            "no_wrap": false,
            "tile_size": 256,
            "popup_min_width": 50,
            "opacity": 1,
            "popup": null,
            "attribution": "Map tiles by Stamen Design, CC BY 3.0 -- Map data (C) OpenStreetMap contributors",
            "_model_name": "LeafletTileLayerModel",
            "max_native_zoom": 18,
            "base": false,
            "min_native_zoom": 0,
            "show_loading": false,
            "name": "Stamen.TonerLite",
            "url": "https://stamen-tiles-a.a.ssl.fastly.net/toner-lite/{z}/{x}/{y}.png",
            "popup_max_height": null,
            "popup_max_width": 300,
            "detect_retina": false,
            "_view_module_version": "^0.15.0",
            "options": [
              "attribution",
              "detect_retina",
              "max_native_zoom",
              "max_zoom",
              "min_native_zoom",
              "min_zoom",
              "no_wrap",
              "tile_size",
              "tms"
            ]
          }
        },
        "cf78bf7cd0d94825a00fa6e03d3489b2": {
          "model_module": "jupyter-leaflet",
          "model_name": "LeafletGeoJSONModel",
          "model_module_version": "^0.15.0",
          "state": {
            "_view_name": "LeafletGeoJSONView",
            "layers": [],
            "style": {
              "color": "#000000",
              "opacity": 1,
              "fillOpacity": 0.1,
              "weight": 1
            },
            "bottom": false,
            "name": "Smallest Geom",
            "hover_style": {
              "fillOpacity": 0.5,
              "weight": 2
            },
            "_model_name": "LeafletGeoJSONModel",
            "data": {
              "type": "FeatureCollection",
              "features": [
                {
                  "geometry": {
                    "type": "Polygon",
                    "coordinates": [
                      [
                        [
                          121.0496145,
                          14.55156425
                        ],
                        [
                          121.0500656,
                          14.55121932
                        ],
                        [
                          121.0484549,
                          14.55207669
                        ],
                        [
                          121.0496152,
                          14.55153039
                        ],
                        [
                          121.0496145,
                          14.55156425
                        ]
                      ]
                    ]
                  },
                  "type": "Feature",
                  "id": "561",
                  "bbox": [
                    121.0484549,
                    14.55121932,
                    121.0500656,
                    14.55207669
                  ],
                  "properties": {
                    "polygon_perimeter_in_meters": 416.15174175728544,
                    "style": {
                      "color": "black",
                      "fillColor": "green"
                    },
                    "cafe_name_4": "St. Louis Cafe",
                    "cafe_name_1": "Single Origin - Bonifacio High Street",
                    "cafe_name_3": "The Coffee Bean & Tea Leaf",
                    "cafe_name_2": "Starbucks (Bonifacio High Street)"
                  }
                }
              ],
              "bbox": [
                121.0484549,
                14.55121932,
                121.0500656,
                14.55207669
              ]
            },
            "popup_min_width": 50,
            "_view_module": "jupyter-leaflet",
            "_model_module_version": "^0.15.0",
            "_view_count": null,
            "_view_module_version": "^0.15.0",
            "base": false,
            "popup": null,
            "popup_max_width": 300,
            "popup_max_height": null,
            "point_style": {},
            "_model_module": "jupyter-leaflet",
            "options": []
          }
        },
        "f741d27b16aa4822967fb758a8a730e9": {
          "model_module": "jupyter-leaflet",
          "model_name": "LeafletGeoJSONModel",
          "model_module_version": "^0.15.0",
          "state": {
            "_view_name": "LeafletGeoJSONView",
            "layers": [],
            "style": {
              "color": "#000000",
              "opacity": 1,
              "fillOpacity": 0.1,
              "weight": 1
            },
            "bottom": false,
            "name": "Biggest Geom",
            "hover_style": {
              "fillOpacity": 0.5,
              "weight": 2
            },
            "_model_name": "LeafletGeoJSONModel",
            "data": {
              "type": "FeatureCollection",
              "features": [
                {
                  "geometry": {
                    "type": "Polygon",
                    "coordinates": [
                      [
                        [
                          121.0430023,
                          14.55520764
                        ],
                        [
                          121.0555189,
                          14.55045189
                        ],
                        [
                          121.043906,
                          14.55251045
                        ],
                        [
                          121.0472312,
                          14.5430189
                        ],
                        [
                          121.0430023,
                          14.55520764
                        ]
                      ]
                    ]
                  },
                  "type": "Feature",
                  "id": "969",
                  "bbox": [
                    121.0430023,
                    14.5430189,
                    121.0555189,
                    14.55520764
                  ],
                  "properties": {
                    "polygon_perimeter_in_meters": 5442.470450686924,
                    "style": {
                      "color": "black",
                      "fillColor": "red"
                    },
                    "cafe_name_4": "Coffee Project",
                    "cafe_name_1": "Frank & Dean Coffee",
                    "cafe_name_3": "UCC Clockwork",
                    "cafe_name_2": "Cafe de Lipa"
                  }
                }
              ],
              "bbox": [
                121.0430023,
                14.5430189,
                121.0555189,
                14.55520764
              ]
            },
            "popup_min_width": 50,
            "_view_module": "jupyter-leaflet",
            "_model_module_version": "^0.15.0",
            "_view_count": null,
            "_view_module_version": "^0.15.0",
            "base": false,
            "popup": null,
            "popup_max_width": 300,
            "popup_max_height": null,
            "point_style": {},
            "_model_module": "jupyter-leaflet",
            "options": []
          }
        },
        "b5e1cf8242be46dc87d8c28c616504c0": {
          "model_module": "jupyter-leaflet",
          "model_name": "LeafletGeoJSONModel",
          "model_module_version": "^0.15.0",
          "state": {
            "_view_name": "LeafletGeoJSONView",
            "layers": [],
            "style": {
              "color": "#000000",
              "opacity": 1,
              "fillOpacity": 0.1,
              "weight": 1
            },
            "bottom": false,
            "name": "Cafes in BGC",
            "hover_style": {
              "fillOpacity": 0.5,
              "weight": 2
            },
            "_model_name": "LeafletGeoJSONModel",
            "data": {
              "type": "FeatureCollection",
              "features": [
                {
                  "geometry": {
                    "type": "Point",
                    "coordinates": [
                      121.0496145,
                      14.55156425
                    ]
                  },
                  "type": "Feature",
                  "id": "0",
                  "bbox": [
                    121.0496145,
                    14.55156425,
                    121.0496145,
                    14.55156425
                  ],
                  "properties": {
                    "style": {
                      "color": "black",
                      "fillColor": "black"
                    },
                    "cafe_name": "Single Origin - Bonifacio High Street"
                  }
                },
                {
                  "geometry": {
                    "type": "Point",
                    "coordinates": [
                      121.0430023,
                      14.55520764
                    ]
                  },
                  "type": "Feature",
                  "id": "1",
                  "bbox": [
                    121.0430023,
                    14.55520764,
                    121.0430023,
                    14.55520764
                  ],
                  "properties": {
                    "style": {
                      "color": "black",
                      "fillColor": "black"
                    },
                    "cafe_name": "Frank & Dean Coffee"
                  }
                },
                {
                  "geometry": {
                    "type": "Point",
                    "coordinates": [
                      121.0555189,
                      14.55045189
                    ]
                  },
                  "type": "Feature",
                  "id": "2",
                  "bbox": [
                    121.0555189,
                    14.55045189,
                    121.0555189,
                    14.55045189
                  ],
                  "properties": {
                    "style": {
                      "color": "black",
                      "fillColor": "black"
                    },
                    "cafe_name": "Cafe de Lipa"
                  }
                },
                {
                  "geometry": {
                    "type": "Point",
                    "coordinates": [
                      121.043906,
                      14.55251045
                    ]
                  },
                  "type": "Feature",
                  "id": "3",
                  "bbox": [
                    121.043906,
                    14.55251045,
                    121.043906,
                    14.55251045
                  ],
                  "properties": {
                    "style": {
                      "color": "black",
                      "fillColor": "black"
                    },
                    "cafe_name": "UCC Clockwork"
                  }
                },
                {
                  "geometry": {
                    "type": "Point",
                    "coordinates": [
                      121.0472312,
                      14.5430189
                    ]
                  },
                  "type": "Feature",
                  "id": "4",
                  "bbox": [
                    121.0472312,
                    14.5430189,
                    121.0472312,
                    14.5430189
                  ],
                  "properties": {
                    "style": {
                      "color": "black",
                      "fillColor": "black"
                    },
                    "cafe_name": "Coffee Project"
                  }
                },
                {
                  "geometry": {
                    "type": "Point",
                    "coordinates": [
                      121.0500656,
                      14.55121932
                    ]
                  },
                  "type": "Feature",
                  "id": "5",
                  "bbox": [
                    121.0500656,
                    14.55121932,
                    121.0500656,
                    14.55121932
                  ],
                  "properties": {
                    "style": {
                      "color": "black",
                      "fillColor": "black"
                    },
                    "cafe_name": "Starbucks (Bonifacio High Street)"
                  }
                },
                {
                  "geometry": {
                    "type": "Point",
                    "coordinates": [
                      121.0461595,
                      14.54948789
                    ]
                  },
                  "type": "Feature",
                  "id": "6",
                  "bbox": [
                    121.0461595,
                    14.54948789,
                    121.0461595,
                    14.54948789
                  ],
                  "properties": {
                    "style": {
                      "color": "black",
                      "fillColor": "black"
                    },
                    "cafe_name": "Wildflour Cafe + Bakery BGC"
                  }
                },
                {
                  "geometry": {
                    "type": "Point",
                    "coordinates": [
                      121.0513278,
                      14.55314623
                    ]
                  },
                  "type": "Feature",
                  "id": "7",
                  "bbox": [
                    121.0513278,
                    14.55314623,
                    121.0513278,
                    14.55314623
                  ],
                  "properties": {
                    "style": {
                      "color": "black",
                      "fillColor": "black"
                    },
                    "cafe_name": "Luna Cafe"
                  }
                },
                {
                  "geometry": {
                    "type": "Point",
                    "coordinates": [
                      121.0460736,
                      14.55182107
                    ]
                  },
                  "type": "Feature",
                  "id": "8",
                  "bbox": [
                    121.0460736,
                    14.55182107,
                    121.0460736,
                    14.55182107
                  ],
                  "properties": {
                    "style": {
                      "color": "black",
                      "fillColor": "black"
                    },
                    "cafe_name": "Malongo Atelier Barista Philippines"
                  }
                },
                {
                  "geometry": {
                    "type": "Point",
                    "coordinates": [
                      121.0478429,
                      14.55293448
                    ]
                  },
                  "type": "Feature",
                  "id": "9",
                  "bbox": [
                    121.0478429,
                    14.55293448,
                    121.0478429,
                    14.55293448
                  ],
                  "properties": {
                    "style": {
                      "color": "black",
                      "fillColor": "black"
                    },
                    "cafe_name": "Highlands Coffee"
                  }
                },
                {
                  "geometry": {
                    "type": "Point",
                    "coordinates": [
                      121.0484549,
                      14.55207669
                    ]
                  },
                  "type": "Feature",
                  "id": "10",
                  "bbox": [
                    121.0484549,
                    14.55207669,
                    121.0484549,
                    14.55207669
                  ],
                  "properties": {
                    "style": {
                      "color": "black",
                      "fillColor": "black"
                    },
                    "cafe_name": "The Coffee Bean & Tea Leaf"
                  }
                },
                {
                  "geometry": {
                    "type": "Point",
                    "coordinates": [
                      121.047631,
                      14.55360858
                    ]
                  },
                  "type": "Feature",
                  "id": "11",
                  "bbox": [
                    121.047631,
                    14.55360858,
                    121.047631,
                    14.55360858
                  ],
                  "properties": {
                    "style": {
                      "color": "black",
                      "fillColor": "black"
                    },
                    "cafe_name": "Little Flour Cafe - BGC"
                  }
                },
                {
                  "geometry": {
                    "type": "Point",
                    "coordinates": [
                      121.0496152,
                      14.55153039
                    ]
                  },
                  "type": "Feature",
                  "id": "12",
                  "bbox": [
                    121.0496152,
                    14.55153039,
                    121.0496152,
                    14.55153039
                  ],
                  "properties": {
                    "style": {
                      "color": "black",
                      "fillColor": "black"
                    },
                    "cafe_name": "St. Louis Cafe"
                  }
                },
                {
                  "geometry": {
                    "type": "Point",
                    "coordinates": [
                      121.0475401,
                      14.55255347
                    ]
                  },
                  "type": "Feature",
                  "id": "13",
                  "bbox": [
                    121.0475401,
                    14.55255347,
                    121.0475401,
                    14.55255347
                  ],
                  "properties": {
                    "style": {
                      "color": "black",
                      "fillColor": "black"
                    },
                    "cafe_name": "Toby Estate Coffee Roasters"
                  }
                },
                {
                  "geometry": {
                    "type": "Point",
                    "coordinates": [
                      121.0443607,
                      14.55035536
                    ]
                  },
                  "type": "Feature",
                  "id": "14",
                  "bbox": [
                    121.0443607,
                    14.55035536,
                    121.0443607,
                    14.55035536
                  ],
                  "properties": {
                    "style": {
                      "color": "black",
                      "fillColor": "black"
                    },
                    "cafe_name": "Aivee Cafe"
                  }
                },
                {
                  "geometry": {
                    "type": "Point",
                    "coordinates": [
                      121.0477824,
                      14.554693
                    ]
                  },
                  "type": "Feature",
                  "id": "15",
                  "bbox": [
                    121.0477824,
                    14.554693,
                    121.0477824,
                    14.554693
                  ],
                  "properties": {
                    "style": {
                      "color": "black",
                      "fillColor": "black"
                    },
                    "cafe_name": "The Lobby Cafe"
                  }
                },
                {
                  "geometry": {
                    "type": "Point",
                    "coordinates": [
                      121.0526411,
                      14.54971687
                    ]
                  },
                  "type": "Feature",
                  "id": "16",
                  "bbox": [
                    121.0526411,
                    14.54971687,
                    121.0526411,
                    14.54971687
                  ],
                  "properties": {
                    "style": {
                      "color": "black",
                      "fillColor": "black"
                    },
                    "cafe_name": "Luna Breakfast & Coffee"
                  }
                },
                {
                  "geometry": {
                    "type": "Point",
                    "coordinates": [
                      121.0513317,
                      14.55082522
                    ]
                  },
                  "type": "Feature",
                  "id": "17",
                  "bbox": [
                    121.0513317,
                    14.55082522,
                    121.0513317,
                    14.55082522
                  ],
                  "properties": {
                    "style": {
                      "color": "black",
                      "fillColor": "black"
                    },
                    "cafe_name": "Seattle's Best Coffee"
                  }
                },
                {
                  "geometry": {
                    "type": "Point",
                    "coordinates": [
                      121.0467605,
                      14.54913457
                    ]
                  },
                  "type": "Feature",
                  "id": "18",
                  "bbox": [
                    121.0467605,
                    14.54913457,
                    121.0467605,
                    14.54913457
                  ],
                  "properties": {
                    "style": {
                      "color": "black",
                      "fillColor": "black"
                    },
                    "cafe_name": "Coffee Bean and Tea Leaf Bistro"
                  }
                },
                {
                  "geometry": {
                    "type": "Point",
                    "coordinates": [
                      121.0539287,
                      14.54961832
                    ]
                  },
                  "type": "Feature",
                  "id": "19",
                  "bbox": [
                    121.0539287,
                    14.54961832,
                    121.0539287,
                    14.54961832
                  ],
                  "properties": {
                    "style": {
                      "color": "black",
                      "fillColor": "black"
                    },
                    "cafe_name": "Larry's Cafe and Bar"
                  }
                }
              ],
              "bbox": [
                121.0430023,
                14.5430189,
                121.0555189,
                14.55520764
              ]
            },
            "popup_min_width": 50,
            "_view_module": "jupyter-leaflet",
            "_model_module_version": "^0.15.0",
            "_view_count": null,
            "_view_module_version": "^0.15.0",
            "base": false,
            "popup": null,
            "popup_max_width": 300,
            "popup_max_height": null,
            "point_style": {},
            "_model_module": "jupyter-leaflet",
            "options": []
          }
        },
        "6e651980cb6344a39395023bd568eac5": {
          "model_module": "jupyter-leaflet",
          "model_name": "LeafletMapStyleModel",
          "model_module_version": "^0.15.0",
          "state": {
            "_view_name": "StyleView",
            "_model_name": "LeafletMapStyleModel",
            "_view_module": "@jupyter-widgets/base",
            "_model_module_version": "^0.15.0",
            "_view_count": null,
            "cursor": "move",
            "_view_module_version": "1.2.0",
            "_model_module": "jupyter-leaflet"
          }
        },
        "8629f6282ed84d9e884ac6d5ca57a60a": {
          "model_module": "@jupyter-widgets/output",
          "model_name": "OutputModel",
          "model_module_version": "1.0.0",
          "state": {
            "_view_name": "OutputView",
            "msg_id": "",
            "_dom_classes": [],
            "_model_name": "OutputModel",
            "outputs": [],
            "_view_module": "@jupyter-widgets/output",
            "_model_module_version": "1.0.0",
            "_view_count": null,
            "_view_module_version": "1.0.0",
            "layout": "IPY_MODEL_c1b1ce301c1742618a324f9594f06563",
            "_model_module": "@jupyter-widgets/output"
          }
        },
        "41878688a574456ea67049060691705a": {
          "model_module": "@jupyter-widgets/controls",
          "model_name": "VBoxModel",
          "model_module_version": "1.5.0",
          "state": {
            "_view_name": "VBoxView",
            "_dom_classes": [],
            "_model_name": "VBoxModel",
            "_view_module": "@jupyter-widgets/controls",
            "_model_module_version": "1.5.0",
            "_view_count": null,
            "_view_module_version": "1.5.0",
            "box_style": "",
            "layout": "IPY_MODEL_5df26b9faa7f4b25893d8d5e05f8e9ee",
            "_model_module": "@jupyter-widgets/controls",
            "children": [
              "IPY_MODEL_a96be95b88e34a1daf4edece65e6f197"
            ]
          }
        },
        "155a87e356814c43bf91199e7a949a89": {
          "model_module": "@jupyter-widgets/controls",
          "model_name": "VBoxModel",
          "model_module_version": "1.5.0",
          "state": {
            "_view_name": "VBoxView",
            "_dom_classes": [],
            "_model_name": "VBoxModel",
            "_view_module": "@jupyter-widgets/controls",
            "_model_module_version": "1.5.0",
            "_view_count": null,
            "_view_module_version": "1.5.0",
            "box_style": "",
            "layout": "IPY_MODEL_560abe09d82442c7860e1664363b3e11",
            "_model_module": "@jupyter-widgets/controls",
            "children": [
              "IPY_MODEL_945a0ce599ba4cd5bc72189ec341d80e",
              "IPY_MODEL_2a0097e00c6b4f178e537f1419d8f757"
            ]
          }
        },
        "8c83a9a1be964578b44f50856fb6a991": {
          "model_module": "@jupyter-widgets/controls",
          "model_name": "VBoxModel",
          "model_module_version": "1.5.0",
          "state": {
            "_view_name": "VBoxView",
            "_dom_classes": [],
            "_model_name": "VBoxModel",
            "_view_module": "@jupyter-widgets/controls",
            "_model_module_version": "1.5.0",
            "_view_count": null,
            "_view_module_version": "1.5.0",
            "box_style": "",
            "layout": "IPY_MODEL_fec4205846e8403293312303789abaf7",
            "_model_module": "@jupyter-widgets/controls",
            "children": [
              "IPY_MODEL_c4accea10f50437e82a18d713497d959",
              "IPY_MODEL_fdb61d2b9b0147649ce83d2a6c02377f"
            ]
          }
        },
        "f6fd631fc146462aa53ad25b84d01abc": {
          "model_module": "@jupyter-widgets/controls",
          "model_name": "VBoxModel",
          "model_module_version": "1.5.0",
          "state": {
            "_view_name": "VBoxView",
            "_dom_classes": [],
            "_model_name": "VBoxModel",
            "_view_module": "@jupyter-widgets/controls",
            "_model_module_version": "1.5.0",
            "_view_count": null,
            "_view_module_version": "1.5.0",
            "box_style": "",
            "layout": "IPY_MODEL_47d02f2eeabd46c19a20fb7f8531920b",
            "_model_module": "@jupyter-widgets/controls",
            "children": [
              "IPY_MODEL_5084b07551794264bbc592692a890f16",
              "IPY_MODEL_fc37eb0d45a242e193538acfda9d4fbe"
            ]
          }
        },
        "c1b1ce301c1742618a324f9594f06563": {
          "model_module": "@jupyter-widgets/base",
          "model_name": "LayoutModel",
          "model_module_version": "1.2.0",
          "state": {
            "_view_name": "LayoutView",
            "grid_template_rows": null,
            "right": null,
            "justify_content": null,
            "_view_module": "@jupyter-widgets/base",
            "overflow": null,
            "_model_module_version": "1.2.0",
            "_view_count": null,
            "flex_flow": null,
            "width": null,
            "min_width": null,
            "border": null,
            "align_items": null,
            "bottom": null,
            "_model_module": "@jupyter-widgets/base",
            "top": null,
            "grid_column": null,
            "overflow_y": null,
            "overflow_x": null,
            "grid_auto_flow": null,
            "grid_area": null,
            "grid_template_columns": null,
            "flex": null,
            "_model_name": "LayoutModel",
            "justify_items": null,
            "grid_row": null,
            "max_height": null,
            "align_content": null,
            "visibility": null,
            "align_self": null,
            "height": null,
            "min_height": null,
            "padding": null,
            "grid_auto_rows": null,
            "grid_gap": null,
            "max_width": null,
            "order": null,
            "_view_module_version": "1.2.0",
            "grid_template_areas": null,
            "object_position": null,
            "object_fit": null,
            "grid_auto_columns": null,
            "margin": null,
            "display": null,
            "left": null
          }
        },
        "5df26b9faa7f4b25893d8d5e05f8e9ee": {
          "model_module": "@jupyter-widgets/base",
          "model_name": "LayoutModel",
          "model_module_version": "1.2.0",
          "state": {
            "_view_name": "LayoutView",
            "grid_template_rows": null,
            "right": null,
            "justify_content": null,
            "_view_module": "@jupyter-widgets/base",
            "overflow": null,
            "_model_module_version": "1.2.0",
            "_view_count": null,
            "flex_flow": null,
            "width": null,
            "min_width": null,
            "border": null,
            "align_items": null,
            "bottom": null,
            "_model_module": "@jupyter-widgets/base",
            "top": null,
            "grid_column": null,
            "overflow_y": null,
            "overflow_x": null,
            "grid_auto_flow": null,
            "grid_area": null,
            "grid_template_columns": null,
            "flex": null,
            "_model_name": "LayoutModel",
            "justify_items": null,
            "grid_row": null,
            "max_height": null,
            "align_content": null,
            "visibility": null,
            "align_self": null,
            "height": null,
            "min_height": null,
            "padding": null,
            "grid_auto_rows": null,
            "grid_gap": null,
            "max_width": null,
            "order": null,
            "_view_module_version": "1.2.0",
            "grid_template_areas": null,
            "object_position": null,
            "object_fit": null,
            "grid_auto_columns": null,
            "margin": null,
            "display": null,
            "left": null
          }
        },
        "a96be95b88e34a1daf4edece65e6f197": {
          "model_module": "@jupyter-widgets/controls",
          "model_name": "ToggleButtonModel",
          "model_module_version": "1.5.0",
          "state": {
            "_view_name": "ToggleButtonView",
            "style": "IPY_MODEL_407a813d114445348784618e5c354061",
            "_dom_classes": [],
            "description": "",
            "_model_name": "ToggleButtonModel",
            "button_style": "",
            "_view_module": "@jupyter-widgets/controls",
            "_model_module_version": "1.5.0",
            "tooltip": "Toolbar",
            "_view_count": null,
            "disabled": false,
            "_view_module_version": "1.5.0",
            "value": false,
            "description_tooltip": null,
            "_model_module": "@jupyter-widgets/controls",
            "layout": "IPY_MODEL_d39f95ffc1f54b1a89bc0ff6f49e7e58",
            "icon": "wrench"
          }
        },
        "560abe09d82442c7860e1664363b3e11": {
          "model_module": "@jupyter-widgets/base",
          "model_name": "LayoutModel",
          "model_module_version": "1.2.0",
          "state": {
            "_view_name": "LayoutView",
            "grid_template_rows": null,
            "right": null,
            "justify_content": null,
            "_view_module": "@jupyter-widgets/base",
            "overflow": null,
            "_model_module_version": "1.2.0",
            "_view_count": null,
            "flex_flow": null,
            "width": null,
            "min_width": null,
            "border": null,
            "align_items": null,
            "bottom": null,
            "_model_module": "@jupyter-widgets/base",
            "top": null,
            "grid_column": null,
            "overflow_y": null,
            "overflow_x": null,
            "grid_auto_flow": null,
            "grid_area": null,
            "grid_template_columns": null,
            "flex": null,
            "_model_name": "LayoutModel",
            "justify_items": null,
            "grid_row": null,
            "max_height": null,
            "align_content": null,
            "visibility": null,
            "align_self": null,
            "height": null,
            "min_height": null,
            "padding": null,
            "grid_auto_rows": null,
            "grid_gap": null,
            "max_width": null,
            "order": null,
            "_view_module_version": "1.2.0",
            "grid_template_areas": null,
            "object_position": null,
            "object_fit": null,
            "grid_auto_columns": null,
            "margin": null,
            "display": null,
            "left": null
          }
        },
        "945a0ce599ba4cd5bc72189ec341d80e": {
          "model_module": "@jupyter-widgets/controls",
          "model_name": "HBoxModel",
          "model_module_version": "1.5.0",
          "state": {
            "_view_name": "HBoxView",
            "_dom_classes": [],
            "_model_name": "HBoxModel",
            "_view_module": "@jupyter-widgets/controls",
            "_model_module_version": "1.5.0",
            "_view_count": null,
            "_view_module_version": "1.5.0",
            "box_style": "",
            "layout": "IPY_MODEL_e31e1d7e37e4417bbfd8cd9d36113a87",
            "_model_module": "@jupyter-widgets/controls",
            "children": [
              "IPY_MODEL_c9738833cc0b4a688121586e84b00365",
              "IPY_MODEL_8f0f4a4c4e2f487d9e94a01583f7c229"
            ]
          }
        },
        "2a0097e00c6b4f178e537f1419d8f757": {
          "model_module": "@jupyter-widgets/controls",
          "model_name": "HTMLModel",
          "model_module_version": "1.5.0",
          "state": {
            "_view_name": "HTMLView",
            "style": "IPY_MODEL_6796e8d7761f4cabbcc13a115f6da942",
            "_dom_classes": [],
            "description": "",
            "_model_name": "HTMLModel",
            "placeholder": "​",
            "_view_module": "@jupyter-widgets/controls",
            "_model_module_version": "1.5.0",
            "value": "<h5><b>polygon_perimeter_in_meters: </b>416.15174175728544</h5><h5><b>style: </b>{'color': 'black', 'fillColor': 'green'}</h5><h5><b>cafe_name_4: </b>St. Louis Cafe</h5><h5><b>cafe_name_1: </b>Single Origin - Bonifacio High Street</h5><h5><b>cafe_name_3: </b>The Coffee Bean & Tea Leaf</h5>",
            "_view_count": null,
            "_view_module_version": "1.5.0",
            "description_tooltip": null,
            "_model_module": "@jupyter-widgets/controls",
            "layout": "IPY_MODEL_5eedaea2e9a247ba8889cc843356b720"
          }
        },
        "fec4205846e8403293312303789abaf7": {
          "model_module": "@jupyter-widgets/base",
          "model_name": "LayoutModel",
          "model_module_version": "1.2.0",
          "state": {
            "_view_name": "LayoutView",
            "grid_template_rows": null,
            "right": null,
            "justify_content": null,
            "_view_module": "@jupyter-widgets/base",
            "overflow": null,
            "_model_module_version": "1.2.0",
            "_view_count": null,
            "flex_flow": null,
            "width": null,
            "min_width": null,
            "border": null,
            "align_items": null,
            "bottom": null,
            "_model_module": "@jupyter-widgets/base",
            "top": null,
            "grid_column": null,
            "overflow_y": null,
            "overflow_x": null,
            "grid_auto_flow": null,
            "grid_area": null,
            "grid_template_columns": null,
            "flex": null,
            "_model_name": "LayoutModel",
            "justify_items": null,
            "grid_row": null,
            "max_height": null,
            "align_content": null,
            "visibility": null,
            "align_self": null,
            "height": null,
            "min_height": null,
            "padding": null,
            "grid_auto_rows": null,
            "grid_gap": null,
            "max_width": null,
            "order": null,
            "_view_module_version": "1.2.0",
            "grid_template_areas": null,
            "object_position": null,
            "object_fit": null,
            "grid_auto_columns": null,
            "margin": null,
            "display": null,
            "left": null
          }
        },
        "c4accea10f50437e82a18d713497d959": {
          "model_module": "@jupyter-widgets/controls",
          "model_name": "HBoxModel",
          "model_module_version": "1.5.0",
          "state": {
            "_view_name": "HBoxView",
            "_dom_classes": [],
            "_model_name": "HBoxModel",
            "_view_module": "@jupyter-widgets/controls",
            "_model_module_version": "1.5.0",
            "_view_count": null,
            "_view_module_version": "1.5.0",
            "box_style": "",
            "layout": "IPY_MODEL_5987d04a44c64664bd7a7de93460d636",
            "_model_module": "@jupyter-widgets/controls",
            "children": [
              "IPY_MODEL_3acf721ffeea49d29b4a956ce56a5358",
              "IPY_MODEL_890130f7d6a0442eaf5e12dbdae678ee"
            ]
          }
        },
        "fdb61d2b9b0147649ce83d2a6c02377f": {
          "model_module": "@jupyter-widgets/controls",
          "model_name": "HTMLModel",
          "model_module_version": "1.5.0",
          "state": {
            "_view_name": "HTMLView",
            "style": "IPY_MODEL_7d21bbc2556e4589901236cd3274c8c7",
            "_dom_classes": [],
            "description": "",
            "_model_name": "HTMLModel",
            "placeholder": "​",
            "_view_module": "@jupyter-widgets/controls",
            "_model_module_version": "1.5.0",
            "value": "<h5><b>polygon_perimeter_in_meters: </b>5442.470450686924</h5><h5><b>style: </b>{'color': 'black', 'fillColor': 'red'}</h5><h5><b>cafe_name_4: </b>Coffee Project</h5><h5><b>cafe_name_1: </b>Frank & Dean Coffee</h5><h5><b>cafe_name_3: </b>UCC Clockwork</h5>",
            "_view_count": null,
            "_view_module_version": "1.5.0",
            "description_tooltip": null,
            "_model_module": "@jupyter-widgets/controls",
            "layout": "IPY_MODEL_6dbd9996f95c49fd876e2e6d52ced4a2"
          }
        },
        "47d02f2eeabd46c19a20fb7f8531920b": {
          "model_module": "@jupyter-widgets/base",
          "model_name": "LayoutModel",
          "model_module_version": "1.2.0",
          "state": {
            "_view_name": "LayoutView",
            "grid_template_rows": null,
            "right": null,
            "justify_content": null,
            "_view_module": "@jupyter-widgets/base",
            "overflow": null,
            "_model_module_version": "1.2.0",
            "_view_count": null,
            "flex_flow": null,
            "width": null,
            "min_width": null,
            "border": null,
            "align_items": null,
            "bottom": null,
            "_model_module": "@jupyter-widgets/base",
            "top": null,
            "grid_column": null,
            "overflow_y": null,
            "overflow_x": null,
            "grid_auto_flow": null,
            "grid_area": null,
            "grid_template_columns": null,
            "flex": null,
            "_model_name": "LayoutModel",
            "justify_items": null,
            "grid_row": null,
            "max_height": null,
            "align_content": null,
            "visibility": null,
            "align_self": null,
            "height": null,
            "min_height": null,
            "padding": null,
            "grid_auto_rows": null,
            "grid_gap": null,
            "max_width": null,
            "order": null,
            "_view_module_version": "1.2.0",
            "grid_template_areas": null,
            "object_position": null,
            "object_fit": null,
            "grid_auto_columns": null,
            "margin": null,
            "display": null,
            "left": null
          }
        },
        "5084b07551794264bbc592692a890f16": {
          "model_module": "@jupyter-widgets/controls",
          "model_name": "HBoxModel",
          "model_module_version": "1.5.0",
          "state": {
            "_view_name": "HBoxView",
            "_dom_classes": [],
            "_model_name": "HBoxModel",
            "_view_module": "@jupyter-widgets/controls",
            "_model_module_version": "1.5.0",
            "_view_count": null,
            "_view_module_version": "1.5.0",
            "box_style": "",
            "layout": "IPY_MODEL_ee811baa74614fd9a9e4fd907407db12",
            "_model_module": "@jupyter-widgets/controls",
            "children": [
              "IPY_MODEL_fdf926392e0546dd8d8632302a67ec44",
              "IPY_MODEL_0a92c7ac89244a6c9d3160e74eb2ece4"
            ]
          }
        },
        "fc37eb0d45a242e193538acfda9d4fbe": {
          "model_module": "@jupyter-widgets/controls",
          "model_name": "HTMLModel",
          "model_module_version": "1.5.0",
          "state": {
            "_view_name": "HTMLView",
            "style": "IPY_MODEL_1883dd0c917c4fbea240554517f24531",
            "_dom_classes": [],
            "description": "",
            "_model_name": "HTMLModel",
            "placeholder": "​",
            "_view_module": "@jupyter-widgets/controls",
            "_model_module_version": "1.5.0",
            "value": "",
            "_view_count": null,
            "_view_module_version": "1.5.0",
            "description_tooltip": null,
            "_model_module": "@jupyter-widgets/controls",
            "layout": "IPY_MODEL_89c1662ad87246e4825182a1724218ef"
          }
        },
        "407a813d114445348784618e5c354061": {
          "model_module": "@jupyter-widgets/controls",
          "model_name": "DescriptionStyleModel",
          "model_module_version": "1.5.0",
          "state": {
            "_view_name": "StyleView",
            "_model_name": "DescriptionStyleModel",
            "description_width": "",
            "_view_module": "@jupyter-widgets/base",
            "_model_module_version": "1.5.0",
            "_view_count": null,
            "_view_module_version": "1.2.0",
            "_model_module": "@jupyter-widgets/controls"
          }
        },
        "d39f95ffc1f54b1a89bc0ff6f49e7e58": {
          "model_module": "@jupyter-widgets/base",
          "model_name": "LayoutModel",
          "model_module_version": "1.2.0",
          "state": {
            "_view_name": "LayoutView",
            "grid_template_rows": null,
            "right": null,
            "justify_content": null,
            "_view_module": "@jupyter-widgets/base",
            "overflow": null,
            "_model_module_version": "1.2.0",
            "_view_count": null,
            "flex_flow": null,
            "width": "28px",
            "min_width": null,
            "border": null,
            "align_items": null,
            "bottom": null,
            "_model_module": "@jupyter-widgets/base",
            "top": null,
            "grid_column": null,
            "overflow_y": null,
            "overflow_x": null,
            "grid_auto_flow": null,
            "grid_area": null,
            "grid_template_columns": null,
            "flex": null,
            "_model_name": "LayoutModel",
            "justify_items": null,
            "grid_row": null,
            "max_height": null,
            "align_content": null,
            "visibility": null,
            "align_self": null,
            "height": "28px",
            "min_height": null,
            "padding": "0px 0px 0px 4px",
            "grid_auto_rows": null,
            "grid_gap": null,
            "max_width": null,
            "order": null,
            "_view_module_version": "1.2.0",
            "grid_template_areas": null,
            "object_position": null,
            "object_fit": null,
            "grid_auto_columns": null,
            "margin": null,
            "display": null,
            "left": null
          }
        },
        "e31e1d7e37e4417bbfd8cd9d36113a87": {
          "model_module": "@jupyter-widgets/base",
          "model_name": "LayoutModel",
          "model_module_version": "1.2.0",
          "state": {
            "_view_name": "LayoutView",
            "grid_template_rows": null,
            "right": null,
            "justify_content": null,
            "_view_module": "@jupyter-widgets/base",
            "overflow": null,
            "_model_module_version": "1.2.0",
            "_view_count": null,
            "flex_flow": null,
            "width": null,
            "min_width": null,
            "border": null,
            "align_items": null,
            "bottom": null,
            "_model_module": "@jupyter-widgets/base",
            "top": null,
            "grid_column": null,
            "overflow_y": null,
            "overflow_x": null,
            "grid_auto_flow": null,
            "grid_area": null,
            "grid_template_columns": null,
            "flex": null,
            "_model_name": "LayoutModel",
            "justify_items": null,
            "grid_row": null,
            "max_height": null,
            "align_content": null,
            "visibility": null,
            "align_self": null,
            "height": null,
            "min_height": null,
            "padding": null,
            "grid_auto_rows": null,
            "grid_gap": null,
            "max_width": null,
            "order": null,
            "_view_module_version": "1.2.0",
            "grid_template_areas": null,
            "object_position": null,
            "object_fit": null,
            "grid_auto_columns": null,
            "margin": null,
            "display": null,
            "left": null
          }
        },
        "c9738833cc0b4a688121586e84b00365": {
          "model_module": "@jupyter-widgets/controls",
          "model_name": "ToggleButtonModel",
          "model_module_version": "1.5.0",
          "state": {
            "_view_name": "ToggleButtonView",
            "style": "IPY_MODEL_7ca31e03ec88410c8f91b9819ac71631",
            "_dom_classes": [],
            "description": "",
            "_model_name": "ToggleButtonModel",
            "button_style": "",
            "_view_module": "@jupyter-widgets/controls",
            "_model_module_version": "1.5.0",
            "tooltip": "Toolbar",
            "_view_count": null,
            "disabled": false,
            "_view_module_version": "1.5.0",
            "value": true,
            "description_tooltip": null,
            "_model_module": "@jupyter-widgets/controls",
            "layout": "IPY_MODEL_cee6dc2a568b43cf89ecef0e4ca179f0",
            "icon": "info"
          }
        },
        "8f0f4a4c4e2f487d9e94a01583f7c229": {
          "model_module": "@jupyter-widgets/controls",
          "model_name": "ToggleButtonModel",
          "model_module_version": "1.5.0",
          "state": {
            "_view_name": "ToggleButtonView",
            "style": "IPY_MODEL_6c4f20d60b074ac48af917b7638d3f16",
            "_dom_classes": [],
            "description": "",
            "_model_name": "ToggleButtonModel",
            "button_style": "",
            "_view_module": "@jupyter-widgets/controls",
            "_model_module_version": "1.5.0",
            "tooltip": "Close the tool",
            "_view_count": null,
            "disabled": false,
            "_view_module_version": "1.5.0",
            "value": false,
            "description_tooltip": null,
            "_model_module": "@jupyter-widgets/controls",
            "layout": "IPY_MODEL_44fad2ff0da943d5bfd3c20d58f3841e",
            "icon": "times"
          }
        },
        "6796e8d7761f4cabbcc13a115f6da942": {
          "model_module": "@jupyter-widgets/controls",
          "model_name": "DescriptionStyleModel",
          "model_module_version": "1.5.0",
          "state": {
            "_view_name": "StyleView",
            "_model_name": "DescriptionStyleModel",
            "description_width": "",
            "_view_module": "@jupyter-widgets/base",
            "_model_module_version": "1.5.0",
            "_view_count": null,
            "_view_module_version": "1.2.0",
            "_model_module": "@jupyter-widgets/controls"
          }
        },
        "5eedaea2e9a247ba8889cc843356b720": {
          "model_module": "@jupyter-widgets/base",
          "model_name": "LayoutModel",
          "model_module_version": "1.2.0",
          "state": {
            "_view_name": "LayoutView",
            "grid_template_rows": null,
            "right": null,
            "justify_content": null,
            "_view_module": "@jupyter-widgets/base",
            "overflow": null,
            "_model_module_version": "1.2.0",
            "_view_count": null,
            "flex_flow": null,
            "width": null,
            "min_width": null,
            "border": null,
            "align_items": null,
            "bottom": null,
            "_model_module": "@jupyter-widgets/base",
            "top": null,
            "grid_column": null,
            "overflow_y": null,
            "overflow_x": null,
            "grid_auto_flow": null,
            "grid_area": null,
            "grid_template_columns": null,
            "flex": null,
            "_model_name": "LayoutModel",
            "justify_items": null,
            "grid_row": null,
            "max_height": "250px",
            "align_content": null,
            "visibility": null,
            "align_self": null,
            "height": null,
            "min_height": null,
            "padding": null,
            "grid_auto_rows": null,
            "grid_gap": null,
            "max_width": "250px",
            "order": null,
            "_view_module_version": "1.2.0",
            "grid_template_areas": null,
            "object_position": null,
            "object_fit": null,
            "grid_auto_columns": null,
            "margin": "0px 10px 0px 10px",
            "display": null,
            "left": null
          }
        },
        "5987d04a44c64664bd7a7de93460d636": {
          "model_module": "@jupyter-widgets/base",
          "model_name": "LayoutModel",
          "model_module_version": "1.2.0",
          "state": {
            "_view_name": "LayoutView",
            "grid_template_rows": null,
            "right": null,
            "justify_content": null,
            "_view_module": "@jupyter-widgets/base",
            "overflow": null,
            "_model_module_version": "1.2.0",
            "_view_count": null,
            "flex_flow": null,
            "width": null,
            "min_width": null,
            "border": null,
            "align_items": null,
            "bottom": null,
            "_model_module": "@jupyter-widgets/base",
            "top": null,
            "grid_column": null,
            "overflow_y": null,
            "overflow_x": null,
            "grid_auto_flow": null,
            "grid_area": null,
            "grid_template_columns": null,
            "flex": null,
            "_model_name": "LayoutModel",
            "justify_items": null,
            "grid_row": null,
            "max_height": null,
            "align_content": null,
            "visibility": null,
            "align_self": null,
            "height": null,
            "min_height": null,
            "padding": null,
            "grid_auto_rows": null,
            "grid_gap": null,
            "max_width": null,
            "order": null,
            "_view_module_version": "1.2.0",
            "grid_template_areas": null,
            "object_position": null,
            "object_fit": null,
            "grid_auto_columns": null,
            "margin": null,
            "display": null,
            "left": null
          }
        },
        "3acf721ffeea49d29b4a956ce56a5358": {
          "model_module": "@jupyter-widgets/controls",
          "model_name": "ToggleButtonModel",
          "model_module_version": "1.5.0",
          "state": {
            "_view_name": "ToggleButtonView",
            "style": "IPY_MODEL_b812054aade9481eb5865ecbf9ae9b0b",
            "_dom_classes": [],
            "description": "",
            "_model_name": "ToggleButtonModel",
            "button_style": "",
            "_view_module": "@jupyter-widgets/controls",
            "_model_module_version": "1.5.0",
            "tooltip": "Toolbar",
            "_view_count": null,
            "disabled": false,
            "_view_module_version": "1.5.0",
            "value": true,
            "description_tooltip": null,
            "_model_module": "@jupyter-widgets/controls",
            "layout": "IPY_MODEL_e202993333af4c1097cc7304f89b3753",
            "icon": "info"
          }
        },
        "890130f7d6a0442eaf5e12dbdae678ee": {
          "model_module": "@jupyter-widgets/controls",
          "model_name": "ToggleButtonModel",
          "model_module_version": "1.5.0",
          "state": {
            "_view_name": "ToggleButtonView",
            "style": "IPY_MODEL_09f690059034403cafd386d3416b9880",
            "_dom_classes": [],
            "description": "",
            "_model_name": "ToggleButtonModel",
            "button_style": "",
            "_view_module": "@jupyter-widgets/controls",
            "_model_module_version": "1.5.0",
            "tooltip": "Close the tool",
            "_view_count": null,
            "disabled": false,
            "_view_module_version": "1.5.0",
            "value": false,
            "description_tooltip": null,
            "_model_module": "@jupyter-widgets/controls",
            "layout": "IPY_MODEL_3ad7baad6ae44e23ad1fc3105ff23a63",
            "icon": "times"
          }
        },
        "7d21bbc2556e4589901236cd3274c8c7": {
          "model_module": "@jupyter-widgets/controls",
          "model_name": "DescriptionStyleModel",
          "model_module_version": "1.5.0",
          "state": {
            "_view_name": "StyleView",
            "_model_name": "DescriptionStyleModel",
            "description_width": "",
            "_view_module": "@jupyter-widgets/base",
            "_model_module_version": "1.5.0",
            "_view_count": null,
            "_view_module_version": "1.2.0",
            "_model_module": "@jupyter-widgets/controls"
          }
        },
        "6dbd9996f95c49fd876e2e6d52ced4a2": {
          "model_module": "@jupyter-widgets/base",
          "model_name": "LayoutModel",
          "model_module_version": "1.2.0",
          "state": {
            "_view_name": "LayoutView",
            "grid_template_rows": null,
            "right": null,
            "justify_content": null,
            "_view_module": "@jupyter-widgets/base",
            "overflow": null,
            "_model_module_version": "1.2.0",
            "_view_count": null,
            "flex_flow": null,
            "width": null,
            "min_width": null,
            "border": null,
            "align_items": null,
            "bottom": null,
            "_model_module": "@jupyter-widgets/base",
            "top": null,
            "grid_column": null,
            "overflow_y": null,
            "overflow_x": null,
            "grid_auto_flow": null,
            "grid_area": null,
            "grid_template_columns": null,
            "flex": null,
            "_model_name": "LayoutModel",
            "justify_items": null,
            "grid_row": null,
            "max_height": "250px",
            "align_content": null,
            "visibility": null,
            "align_self": null,
            "height": null,
            "min_height": null,
            "padding": null,
            "grid_auto_rows": null,
            "grid_gap": null,
            "max_width": "250px",
            "order": null,
            "_view_module_version": "1.2.0",
            "grid_template_areas": null,
            "object_position": null,
            "object_fit": null,
            "grid_auto_columns": null,
            "margin": "0px 10px 0px 10px",
            "display": null,
            "left": null
          }
        },
        "ee811baa74614fd9a9e4fd907407db12": {
          "model_module": "@jupyter-widgets/base",
          "model_name": "LayoutModel",
          "model_module_version": "1.2.0",
          "state": {
            "_view_name": "LayoutView",
            "grid_template_rows": null,
            "right": null,
            "justify_content": null,
            "_view_module": "@jupyter-widgets/base",
            "overflow": null,
            "_model_module_version": "1.2.0",
            "_view_count": null,
            "flex_flow": null,
            "width": null,
            "min_width": null,
            "border": null,
            "align_items": null,
            "bottom": null,
            "_model_module": "@jupyter-widgets/base",
            "top": null,
            "grid_column": null,
            "overflow_y": null,
            "overflow_x": null,
            "grid_auto_flow": null,
            "grid_area": null,
            "grid_template_columns": null,
            "flex": null,
            "_model_name": "LayoutModel",
            "justify_items": null,
            "grid_row": null,
            "max_height": null,
            "align_content": null,
            "visibility": null,
            "align_self": null,
            "height": null,
            "min_height": null,
            "padding": null,
            "grid_auto_rows": null,
            "grid_gap": null,
            "max_width": null,
            "order": null,
            "_view_module_version": "1.2.0",
            "grid_template_areas": null,
            "object_position": null,
            "object_fit": null,
            "grid_auto_columns": null,
            "margin": null,
            "display": null,
            "left": null
          }
        },
        "fdf926392e0546dd8d8632302a67ec44": {
          "model_module": "@jupyter-widgets/controls",
          "model_name": "ToggleButtonModel",
          "model_module_version": "1.5.0",
          "state": {
            "_view_name": "ToggleButtonView",
            "style": "IPY_MODEL_dcf2bbe6ecac43f99d8e55d6ea7b9e37",
            "_dom_classes": [],
            "description": "",
            "_model_name": "ToggleButtonModel",
            "button_style": "",
            "_view_module": "@jupyter-widgets/controls",
            "_model_module_version": "1.5.0",
            "tooltip": "Toolbar",
            "_view_count": null,
            "disabled": false,
            "_view_module_version": "1.5.0",
            "value": true,
            "description_tooltip": null,
            "_model_module": "@jupyter-widgets/controls",
            "layout": "IPY_MODEL_c7f55e53fa744a4c83a9bd876c6def9e",
            "icon": "info"
          }
        },
        "0a92c7ac89244a6c9d3160e74eb2ece4": {
          "model_module": "@jupyter-widgets/controls",
          "model_name": "ToggleButtonModel",
          "model_module_version": "1.5.0",
          "state": {
            "_view_name": "ToggleButtonView",
            "style": "IPY_MODEL_c6d8510571204dbd8b76813e95a2e78a",
            "_dom_classes": [],
            "description": "",
            "_model_name": "ToggleButtonModel",
            "button_style": "",
            "_view_module": "@jupyter-widgets/controls",
            "_model_module_version": "1.5.0",
            "tooltip": "Close the tool",
            "_view_count": null,
            "disabled": false,
            "_view_module_version": "1.5.0",
            "value": false,
            "description_tooltip": null,
            "_model_module": "@jupyter-widgets/controls",
            "layout": "IPY_MODEL_a6666512d72840c997d60d768aa67ed1",
            "icon": "times"
          }
        },
        "1883dd0c917c4fbea240554517f24531": {
          "model_module": "@jupyter-widgets/controls",
          "model_name": "DescriptionStyleModel",
          "model_module_version": "1.5.0",
          "state": {
            "_view_name": "StyleView",
            "_model_name": "DescriptionStyleModel",
            "description_width": "",
            "_view_module": "@jupyter-widgets/base",
            "_model_module_version": "1.5.0",
            "_view_count": null,
            "_view_module_version": "1.2.0",
            "_model_module": "@jupyter-widgets/controls"
          }
        },
        "89c1662ad87246e4825182a1724218ef": {
          "model_module": "@jupyter-widgets/base",
          "model_name": "LayoutModel",
          "model_module_version": "1.2.0",
          "state": {
            "_view_name": "LayoutView",
            "grid_template_rows": null,
            "right": null,
            "justify_content": null,
            "_view_module": "@jupyter-widgets/base",
            "overflow": null,
            "_model_module_version": "1.2.0",
            "_view_count": null,
            "flex_flow": null,
            "width": null,
            "min_width": null,
            "border": null,
            "align_items": null,
            "bottom": null,
            "_model_module": "@jupyter-widgets/base",
            "top": null,
            "grid_column": null,
            "overflow_y": null,
            "overflow_x": null,
            "grid_auto_flow": null,
            "grid_area": null,
            "grid_template_columns": null,
            "flex": null,
            "_model_name": "LayoutModel",
            "justify_items": null,
            "grid_row": null,
            "max_height": "250px",
            "align_content": null,
            "visibility": null,
            "align_self": null,
            "height": null,
            "min_height": null,
            "padding": null,
            "grid_auto_rows": null,
            "grid_gap": null,
            "max_width": "250px",
            "order": null,
            "_view_module_version": "1.2.0",
            "grid_template_areas": null,
            "object_position": null,
            "object_fit": null,
            "grid_auto_columns": null,
            "margin": "0px 10px 0px 10px",
            "display": null,
            "left": null
          }
        },
        "7ca31e03ec88410c8f91b9819ac71631": {
          "model_module": "@jupyter-widgets/controls",
          "model_name": "DescriptionStyleModel",
          "model_module_version": "1.5.0",
          "state": {
            "_view_name": "StyleView",
            "_model_name": "DescriptionStyleModel",
            "description_width": "",
            "_view_module": "@jupyter-widgets/base",
            "_model_module_version": "1.5.0",
            "_view_count": null,
            "_view_module_version": "1.2.0",
            "_model_module": "@jupyter-widgets/controls"
          }
        },
        "cee6dc2a568b43cf89ecef0e4ca179f0": {
          "model_module": "@jupyter-widgets/base",
          "model_name": "LayoutModel",
          "model_module_version": "1.2.0",
          "state": {
            "_view_name": "LayoutView",
            "grid_template_rows": null,
            "right": null,
            "justify_content": null,
            "_view_module": "@jupyter-widgets/base",
            "overflow": null,
            "_model_module_version": "1.2.0",
            "_view_count": null,
            "flex_flow": null,
            "width": "28px",
            "min_width": null,
            "border": null,
            "align_items": null,
            "bottom": null,
            "_model_module": "@jupyter-widgets/base",
            "top": null,
            "grid_column": null,
            "overflow_y": null,
            "overflow_x": null,
            "grid_auto_flow": null,
            "grid_area": null,
            "grid_template_columns": null,
            "flex": null,
            "_model_name": "LayoutModel",
            "justify_items": null,
            "grid_row": null,
            "max_height": null,
            "align_content": null,
            "visibility": null,
            "align_self": null,
            "height": "28px",
            "min_height": null,
            "padding": "0px 0px 0px 4px",
            "grid_auto_rows": null,
            "grid_gap": null,
            "max_width": null,
            "order": null,
            "_view_module_version": "1.2.0",
            "grid_template_areas": null,
            "object_position": null,
            "object_fit": null,
            "grid_auto_columns": null,
            "margin": null,
            "display": null,
            "left": null
          }
        },
        "6c4f20d60b074ac48af917b7638d3f16": {
          "model_module": "@jupyter-widgets/controls",
          "model_name": "DescriptionStyleModel",
          "model_module_version": "1.5.0",
          "state": {
            "_view_name": "StyleView",
            "_model_name": "DescriptionStyleModel",
            "description_width": "",
            "_view_module": "@jupyter-widgets/base",
            "_model_module_version": "1.5.0",
            "_view_count": null,
            "_view_module_version": "1.2.0",
            "_model_module": "@jupyter-widgets/controls"
          }
        },
        "44fad2ff0da943d5bfd3c20d58f3841e": {
          "model_module": "@jupyter-widgets/base",
          "model_name": "LayoutModel",
          "model_module_version": "1.2.0",
          "state": {
            "_view_name": "LayoutView",
            "grid_template_rows": null,
            "right": null,
            "justify_content": null,
            "_view_module": "@jupyter-widgets/base",
            "overflow": null,
            "_model_module_version": "1.2.0",
            "_view_count": null,
            "flex_flow": null,
            "width": "28px",
            "min_width": null,
            "border": null,
            "align_items": null,
            "bottom": null,
            "_model_module": "@jupyter-widgets/base",
            "top": null,
            "grid_column": null,
            "overflow_y": null,
            "overflow_x": null,
            "grid_auto_flow": null,
            "grid_area": null,
            "grid_template_columns": null,
            "flex": null,
            "_model_name": "LayoutModel",
            "justify_items": null,
            "grid_row": null,
            "max_height": null,
            "align_content": null,
            "visibility": null,
            "align_self": null,
            "height": "28px",
            "min_height": null,
            "padding": "0px 0px 0px 4px",
            "grid_auto_rows": null,
            "grid_gap": null,
            "max_width": null,
            "order": null,
            "_view_module_version": "1.2.0",
            "grid_template_areas": null,
            "object_position": null,
            "object_fit": null,
            "grid_auto_columns": null,
            "margin": null,
            "display": null,
            "left": null
          }
        },
        "b812054aade9481eb5865ecbf9ae9b0b": {
          "model_module": "@jupyter-widgets/controls",
          "model_name": "DescriptionStyleModel",
          "model_module_version": "1.5.0",
          "state": {
            "_view_name": "StyleView",
            "_model_name": "DescriptionStyleModel",
            "description_width": "",
            "_view_module": "@jupyter-widgets/base",
            "_model_module_version": "1.5.0",
            "_view_count": null,
            "_view_module_version": "1.2.0",
            "_model_module": "@jupyter-widgets/controls"
          }
        },
        "e202993333af4c1097cc7304f89b3753": {
          "model_module": "@jupyter-widgets/base",
          "model_name": "LayoutModel",
          "model_module_version": "1.2.0",
          "state": {
            "_view_name": "LayoutView",
            "grid_template_rows": null,
            "right": null,
            "justify_content": null,
            "_view_module": "@jupyter-widgets/base",
            "overflow": null,
            "_model_module_version": "1.2.0",
            "_view_count": null,
            "flex_flow": null,
            "width": "28px",
            "min_width": null,
            "border": null,
            "align_items": null,
            "bottom": null,
            "_model_module": "@jupyter-widgets/base",
            "top": null,
            "grid_column": null,
            "overflow_y": null,
            "overflow_x": null,
            "grid_auto_flow": null,
            "grid_area": null,
            "grid_template_columns": null,
            "flex": null,
            "_model_name": "LayoutModel",
            "justify_items": null,
            "grid_row": null,
            "max_height": null,
            "align_content": null,
            "visibility": null,
            "align_self": null,
            "height": "28px",
            "min_height": null,
            "padding": "0px 0px 0px 4px",
            "grid_auto_rows": null,
            "grid_gap": null,
            "max_width": null,
            "order": null,
            "_view_module_version": "1.2.0",
            "grid_template_areas": null,
            "object_position": null,
            "object_fit": null,
            "grid_auto_columns": null,
            "margin": null,
            "display": null,
            "left": null
          }
        },
        "09f690059034403cafd386d3416b9880": {
          "model_module": "@jupyter-widgets/controls",
          "model_name": "DescriptionStyleModel",
          "model_module_version": "1.5.0",
          "state": {
            "_view_name": "StyleView",
            "_model_name": "DescriptionStyleModel",
            "description_width": "",
            "_view_module": "@jupyter-widgets/base",
            "_model_module_version": "1.5.0",
            "_view_count": null,
            "_view_module_version": "1.2.0",
            "_model_module": "@jupyter-widgets/controls"
          }
        },
        "3ad7baad6ae44e23ad1fc3105ff23a63": {
          "model_module": "@jupyter-widgets/base",
          "model_name": "LayoutModel",
          "model_module_version": "1.2.0",
          "state": {
            "_view_name": "LayoutView",
            "grid_template_rows": null,
            "right": null,
            "justify_content": null,
            "_view_module": "@jupyter-widgets/base",
            "overflow": null,
            "_model_module_version": "1.2.0",
            "_view_count": null,
            "flex_flow": null,
            "width": "28px",
            "min_width": null,
            "border": null,
            "align_items": null,
            "bottom": null,
            "_model_module": "@jupyter-widgets/base",
            "top": null,
            "grid_column": null,
            "overflow_y": null,
            "overflow_x": null,
            "grid_auto_flow": null,
            "grid_area": null,
            "grid_template_columns": null,
            "flex": null,
            "_model_name": "LayoutModel",
            "justify_items": null,
            "grid_row": null,
            "max_height": null,
            "align_content": null,
            "visibility": null,
            "align_self": null,
            "height": "28px",
            "min_height": null,
            "padding": "0px 0px 0px 4px",
            "grid_auto_rows": null,
            "grid_gap": null,
            "max_width": null,
            "order": null,
            "_view_module_version": "1.2.0",
            "grid_template_areas": null,
            "object_position": null,
            "object_fit": null,
            "grid_auto_columns": null,
            "margin": null,
            "display": null,
            "left": null
          }
        },
        "dcf2bbe6ecac43f99d8e55d6ea7b9e37": {
          "model_module": "@jupyter-widgets/controls",
          "model_name": "DescriptionStyleModel",
          "model_module_version": "1.5.0",
          "state": {
            "_view_name": "StyleView",
            "_model_name": "DescriptionStyleModel",
            "description_width": "",
            "_view_module": "@jupyter-widgets/base",
            "_model_module_version": "1.5.0",
            "_view_count": null,
            "_view_module_version": "1.2.0",
            "_model_module": "@jupyter-widgets/controls"
          }
        },
        "c7f55e53fa744a4c83a9bd876c6def9e": {
          "model_module": "@jupyter-widgets/base",
          "model_name": "LayoutModel",
          "model_module_version": "1.2.0",
          "state": {
            "_view_name": "LayoutView",
            "grid_template_rows": null,
            "right": null,
            "justify_content": null,
            "_view_module": "@jupyter-widgets/base",
            "overflow": null,
            "_model_module_version": "1.2.0",
            "_view_count": null,
            "flex_flow": null,
            "width": "28px",
            "min_width": null,
            "border": null,
            "align_items": null,
            "bottom": null,
            "_model_module": "@jupyter-widgets/base",
            "top": null,
            "grid_column": null,
            "overflow_y": null,
            "overflow_x": null,
            "grid_auto_flow": null,
            "grid_area": null,
            "grid_template_columns": null,
            "flex": null,
            "_model_name": "LayoutModel",
            "justify_items": null,
            "grid_row": null,
            "max_height": null,
            "align_content": null,
            "visibility": null,
            "align_self": null,
            "height": "28px",
            "min_height": null,
            "padding": "0px 0px 0px 4px",
            "grid_auto_rows": null,
            "grid_gap": null,
            "max_width": null,
            "order": null,
            "_view_module_version": "1.2.0",
            "grid_template_areas": null,
            "object_position": null,
            "object_fit": null,
            "grid_auto_columns": null,
            "margin": null,
            "display": null,
            "left": null
          }
        },
        "c6d8510571204dbd8b76813e95a2e78a": {
          "model_module": "@jupyter-widgets/controls",
          "model_name": "DescriptionStyleModel",
          "model_module_version": "1.5.0",
          "state": {
            "_view_name": "StyleView",
            "_model_name": "DescriptionStyleModel",
            "description_width": "",
            "_view_module": "@jupyter-widgets/base",
            "_model_module_version": "1.5.0",
            "_view_count": null,
            "_view_module_version": "1.2.0",
            "_model_module": "@jupyter-widgets/controls"
          }
        },
        "a6666512d72840c997d60d768aa67ed1": {
          "model_module": "@jupyter-widgets/base",
          "model_name": "LayoutModel",
          "model_module_version": "1.2.0",
          "state": {
            "_view_name": "LayoutView",
            "grid_template_rows": null,
            "right": null,
            "justify_content": null,
            "_view_module": "@jupyter-widgets/base",
            "overflow": null,
            "_model_module_version": "1.2.0",
            "_view_count": null,
            "flex_flow": null,
            "width": "28px",
            "min_width": null,
            "border": null,
            "align_items": null,
            "bottom": null,
            "_model_module": "@jupyter-widgets/base",
            "top": null,
            "grid_column": null,
            "overflow_y": null,
            "overflow_x": null,
            "grid_auto_flow": null,
            "grid_area": null,
            "grid_template_columns": null,
            "flex": null,
            "_model_name": "LayoutModel",
            "justify_items": null,
            "grid_row": null,
            "max_height": null,
            "align_content": null,
            "visibility": null,
            "align_self": null,
            "height": "28px",
            "min_height": null,
            "padding": "0px 0px 0px 4px",
            "grid_auto_rows": null,
            "grid_gap": null,
            "max_width": null,
            "order": null,
            "_view_module_version": "1.2.0",
            "grid_template_areas": null,
            "object_position": null,
            "object_fit": null,
            "grid_auto_columns": null,
            "margin": null,
            "display": null,
            "left": null
          }
        }
      }
    }
  },
  "cells": [
    {
      "cell_type": "markdown",
      "metadata": {
        "id": "view-in-github",
        "colab_type": "text"
      },
      "source": [
        "<a href=\"https://colab.research.google.com/github/jpacilo/PythonWorkshop/blob/main/Lecture.ipynb\" target=\"_parent\"><img src=\"https://colab.research.google.com/assets/colab-badge.svg\" alt=\"Open In Colab\"/></a>"
      ]
    },
    {
      "cell_type": "markdown",
      "source": [
        "# **Better Practices** in Python For Data Science\n",
        "⚠️ Please make a copy of this colab notebook first by clicking **File -> Save a Copy in Drive** on the menu bar <br>"
      ],
      "metadata": {
        "id": "1xYXxy9ytJnh"
      }
    },
    {
      "cell_type": "markdown",
      "source": [
        "## README\n",
        "\n",
        "**Lecturer**\n",
        "- Joshua Paolo Acilo\n",
        "- Model Development Expert\n",
        "- EDO Advanced Analytics\n",
        "\n",
        "**Schedule**\n",
        "- 2:00 - 3:30 PM Lecture\n",
        "- 3:30 - 3:50 PM Quiz\n",
        "- 3:50 - 4:00 PM Q&A\n",
        "\n",
        "**Reminders**\n",
        "- Feel free to ask questions anytime! You can leave a message in the chatbox or unmute yourself and speak. <br>\n",
        "- This is not an Introduction to Python. I expect everyone to at least know the basics in programming. <br>\n",
        "- You learn more by doing. Try to adopt this new concepts in your workflow next time!\n",
        "\n"
      ],
      "metadata": {
        "id": "1NqsEYMbtQrI"
      }
    },
    {
      "cell_type": "markdown",
      "source": [
        "## What to expect from me in this session"
      ],
      "metadata": {
        "id": "BdWE3TSdPu_v"
      }
    },
    {
      "cell_type": "markdown",
      "source": [
        "This afternoon we're going to talk about 🔬📈⚽♻️"
      ],
      "metadata": {
        "id": "JNfOEmT7P8T-"
      }
    },
    {
      "cell_type": "markdown",
      "source": [
        "## Setup Python"
      ],
      "metadata": {
        "id": "0IxIzDKQQebR"
      }
    },
    {
      "cell_type": "code",
      "source": [
        "# check the current python version you have\n",
        "import sys\n",
        "print(sys.version)"
      ],
      "metadata": {
        "id": "7bSw9y6halM7",
        "colab": {
          "base_uri": "https://localhost:8080/"
        },
        "outputId": "3bb660f5-9d96-47fa-a939-a47179ba3c8b"
      },
      "execution_count": 1,
      "outputs": [
        {
          "output_type": "stream",
          "name": "stdout",
          "text": [
            "3.7.12 (default, Jan 15 2022, 18:48:18) \n",
            "[GCC 7.5.0]\n"
          ]
        }
      ]
    },
    {
      "cell_type": "code",
      "source": [
        "# just to mute the warnings for deprecated methods\n",
        "import warnings\n",
        "warnings.filterwarnings(\"ignore\")"
      ],
      "metadata": {
        "id": "MQFXkYmbdpyV"
      },
      "execution_count": 2,
      "outputs": []
    },
    {
      "cell_type": "code",
      "source": [
        "# pendulum is a library to manipulate dates\n",
        "%%capture\n",
        "!pip3 install pendulum"
      ],
      "metadata": {
        "id": "9MttWE5QQhui"
      },
      "execution_count": 3,
      "outputs": []
    },
    {
      "cell_type": "code",
      "source": [
        "# geopandas is a library to manipulate spatial data\n",
        "%%capture\n",
        "!pip3 install geopandas"
      ],
      "metadata": {
        "id": "YdGh4gw7YNhL"
      },
      "execution_count": 4,
      "outputs": []
    },
    {
      "cell_type": "code",
      "source": [
        "# leafmap is a library to visualize spatial data\n",
        "%%capture\n",
        "!pip3 install leafmap"
      ],
      "metadata": {
        "id": "a9A5RT1Qihlm"
      },
      "execution_count": 5,
      "outputs": []
    },
    {
      "cell_type": "code",
      "source": [
        "# gives nicer output for your tests\n",
        "%%capture\n",
        "!pip3 -q install pytest pytest-sugar"
      ],
      "metadata": {
        "id": "4K-MqRYxrfai"
      },
      "execution_count": 6,
      "outputs": []
    },
    {
      "cell_type": "markdown",
      "source": [
        "## Write Clean Code \n",
        "\n",
        "Any fool can write code that a computer can understand. **Good programmers write code that humans can understand.** 🤔"
      ],
      "metadata": {
        "id": "QtXwWm2Ju6mr"
      }
    },
    {
      "cell_type": "markdown",
      "source": [
        "Recap of some things to note when writing Python variables. <br>\n",
        "\n",
        "**DON'T(s)**\n",
        "- Thou shall not start with a number. <br>\n",
        "```4ever = True```\n",
        "- Thou shall not use special characters. <br>\n",
        "```amountIn$ = 100```\n",
        "- Thou shall not use reserved keywords. <br>\n",
        "```id = 10012216```\n",
        "\n",
        "**DO(s)**\n",
        "- PEP8 suggests to use snake_case. <br>\n",
        "```lower_case_with_underscores = True```"
      ],
      "metadata": {
        "id": "zJnr4XvZkAfn"
      }
    },
    {
      "cell_type": "markdown",
      "source": [
        "Use **meaningful and pronounceable variable names.** Let the variable speak for itself. 🤯"
      ],
      "metadata": {
        "id": "WyIo8VoTLYvX"
      }
    },
    {
      "cell_type": "code",
      "source": [
        "import pendulum\n",
        "\n",
        "def start_pipeline(date):\n",
        "    # do stuff\n",
        "    pass\n",
        "\n",
        "# this is bad, not only it is unpronounceable, it is also vague and non-descriptive\n",
        "ymddt = pendulum.now().strftime(\"%Y-%m-%d\")\n",
        "start_pipeline(ymddt)\n",
        "\n",
        "# this is good, it gives me clue that the current date controls the timing of the pipeline\n",
        "current_date = pendulum.now().strftime(\"%Y-%m-%d\")\n",
        "start_pipeline(current_date)"
      ],
      "metadata": {
        "id": "UgmX9QhIDQzR"
      },
      "execution_count": 8,
      "outputs": []
    },
    {
      "cell_type": "code",
      "source": [
        "# check out current_date variable yourself\n",
        "print(current_date)"
      ],
      "metadata": {
        "id": "G0Ab3bBSGEKl",
        "colab": {
          "base_uri": "https://localhost:8080/"
        },
        "outputId": "bca4cd1a-e850-47a8-a264-549a9cae6865"
      },
      "execution_count": 9,
      "outputs": [
        {
          "output_type": "stream",
          "name": "stdout",
          "text": [
            "2022-03-04\n"
          ]
        }
      ]
    },
    {
      "cell_type": "markdown",
      "source": [
        "Of course, there will be some exceptions, especially in **domain-specific jargons.** 🧐"
      ],
      "metadata": {
        "id": "kKBjcYAPDXXh"
      }
    },
    {
      "cell_type": "code",
      "source": [
        "import numpy as np\n",
        "import pandas as pd\n",
        "\n",
        "# you'll see this very often in the lake\n",
        "# pxn_dt stands for partition date\n",
        "pxn_dt = pendulum.parse(current_date).subtract(days=1)\n",
        "\n",
        "# this is boilerplate ML, so it's okay too\n",
        "# X is the input matrix (features)\n",
        "# y is the output vector (prediction)\n",
        "X, y = np.arange(10).reshape((5, 2)), range(5)\n",
        "\n",
        "# this one also is widespread in DS\n",
        "# df stands for dataframe \n",
        "df = pd.read_csv(\"sample_data/california_housing_train.csv\")"
      ],
      "metadata": {
        "id": "TsuBSjgLDXQ6"
      },
      "execution_count": 10,
      "outputs": []
    },
    {
      "cell_type": "code",
      "source": [
        "df.head(1)"
      ],
      "metadata": {
        "id": "94AauiuLHctK",
        "colab": {
          "base_uri": "https://localhost:8080/",
          "height": 80
        },
        "outputId": "6e62e222-65da-4b1c-ce82-cbcfe6570acd"
      },
      "execution_count": 11,
      "outputs": [
        {
          "output_type": "execute_result",
          "data": {
            "text/html": [
              "\n",
              "  <div id=\"df-fb0c4722-e746-4c16-8995-f85b97c0fdd2\">\n",
              "    <div class=\"colab-df-container\">\n",
              "      <div>\n",
              "<style scoped>\n",
              "    .dataframe tbody tr th:only-of-type {\n",
              "        vertical-align: middle;\n",
              "    }\n",
              "\n",
              "    .dataframe tbody tr th {\n",
              "        vertical-align: top;\n",
              "    }\n",
              "\n",
              "    .dataframe thead th {\n",
              "        text-align: right;\n",
              "    }\n",
              "</style>\n",
              "<table border=\"1\" class=\"dataframe\">\n",
              "  <thead>\n",
              "    <tr style=\"text-align: right;\">\n",
              "      <th></th>\n",
              "      <th>longitude</th>\n",
              "      <th>latitude</th>\n",
              "      <th>housing_median_age</th>\n",
              "      <th>total_rooms</th>\n",
              "      <th>total_bedrooms</th>\n",
              "      <th>population</th>\n",
              "      <th>households</th>\n",
              "      <th>median_income</th>\n",
              "      <th>median_house_value</th>\n",
              "    </tr>\n",
              "  </thead>\n",
              "  <tbody>\n",
              "    <tr>\n",
              "      <th>0</th>\n",
              "      <td>-114.31</td>\n",
              "      <td>34.19</td>\n",
              "      <td>15.0</td>\n",
              "      <td>5612.0</td>\n",
              "      <td>1283.0</td>\n",
              "      <td>1015.0</td>\n",
              "      <td>472.0</td>\n",
              "      <td>1.4936</td>\n",
              "      <td>66900.0</td>\n",
              "    </tr>\n",
              "  </tbody>\n",
              "</table>\n",
              "</div>\n",
              "      <button class=\"colab-df-convert\" onclick=\"convertToInteractive('df-fb0c4722-e746-4c16-8995-f85b97c0fdd2')\"\n",
              "              title=\"Convert this dataframe to an interactive table.\"\n",
              "              style=\"display:none;\">\n",
              "        \n",
              "  <svg xmlns=\"http://www.w3.org/2000/svg\" height=\"24px\"viewBox=\"0 0 24 24\"\n",
              "       width=\"24px\">\n",
              "    <path d=\"M0 0h24v24H0V0z\" fill=\"none\"/>\n",
              "    <path d=\"M18.56 5.44l.94 2.06.94-2.06 2.06-.94-2.06-.94-.94-2.06-.94 2.06-2.06.94zm-11 1L8.5 8.5l.94-2.06 2.06-.94-2.06-.94L8.5 2.5l-.94 2.06-2.06.94zm10 10l.94 2.06.94-2.06 2.06-.94-2.06-.94-.94-2.06-.94 2.06-2.06.94z\"/><path d=\"M17.41 7.96l-1.37-1.37c-.4-.4-.92-.59-1.43-.59-.52 0-1.04.2-1.43.59L10.3 9.45l-7.72 7.72c-.78.78-.78 2.05 0 2.83L4 21.41c.39.39.9.59 1.41.59.51 0 1.02-.2 1.41-.59l7.78-7.78 2.81-2.81c.8-.78.8-2.07 0-2.86zM5.41 20L4 18.59l7.72-7.72 1.47 1.35L5.41 20z\"/>\n",
              "  </svg>\n",
              "      </button>\n",
              "      \n",
              "  <style>\n",
              "    .colab-df-container {\n",
              "      display:flex;\n",
              "      flex-wrap:wrap;\n",
              "      gap: 12px;\n",
              "    }\n",
              "\n",
              "    .colab-df-convert {\n",
              "      background-color: #E8F0FE;\n",
              "      border: none;\n",
              "      border-radius: 50%;\n",
              "      cursor: pointer;\n",
              "      display: none;\n",
              "      fill: #1967D2;\n",
              "      height: 32px;\n",
              "      padding: 0 0 0 0;\n",
              "      width: 32px;\n",
              "    }\n",
              "\n",
              "    .colab-df-convert:hover {\n",
              "      background-color: #E2EBFA;\n",
              "      box-shadow: 0px 1px 2px rgba(60, 64, 67, 0.3), 0px 1px 3px 1px rgba(60, 64, 67, 0.15);\n",
              "      fill: #174EA6;\n",
              "    }\n",
              "\n",
              "    [theme=dark] .colab-df-convert {\n",
              "      background-color: #3B4455;\n",
              "      fill: #D2E3FC;\n",
              "    }\n",
              "\n",
              "    [theme=dark] .colab-df-convert:hover {\n",
              "      background-color: #434B5C;\n",
              "      box-shadow: 0px 1px 3px 1px rgba(0, 0, 0, 0.15);\n",
              "      filter: drop-shadow(0px 1px 2px rgba(0, 0, 0, 0.3));\n",
              "      fill: #FFFFFF;\n",
              "    }\n",
              "  </style>\n",
              "\n",
              "      <script>\n",
              "        const buttonEl =\n",
              "          document.querySelector('#df-fb0c4722-e746-4c16-8995-f85b97c0fdd2 button.colab-df-convert');\n",
              "        buttonEl.style.display =\n",
              "          google.colab.kernel.accessAllowed ? 'block' : 'none';\n",
              "\n",
              "        async function convertToInteractive(key) {\n",
              "          const element = document.querySelector('#df-fb0c4722-e746-4c16-8995-f85b97c0fdd2');\n",
              "          const dataTable =\n",
              "            await google.colab.kernel.invokeFunction('convertToInteractive',\n",
              "                                                     [key], {});\n",
              "          if (!dataTable) return;\n",
              "\n",
              "          const docLinkHtml = 'Like what you see? Visit the ' +\n",
              "            '<a target=\"_blank\" href=https://colab.research.google.com/notebooks/data_table.ipynb>data table notebook</a>'\n",
              "            + ' to learn more about interactive tables.';\n",
              "          element.innerHTML = '';\n",
              "          dataTable['output_type'] = 'display_data';\n",
              "          await google.colab.output.renderOutput(dataTable, element);\n",
              "          const docLink = document.createElement('div');\n",
              "          docLink.innerHTML = docLinkHtml;\n",
              "          element.appendChild(docLink);\n",
              "        }\n",
              "      </script>\n",
              "    </div>\n",
              "  </div>\n",
              "  "
            ],
            "text/plain": [
              "   longitude  latitude  housing_median_age  total_rooms  total_bedrooms  \\\n",
              "0    -114.31     34.19                15.0       5612.0          1283.0   \n",
              "\n",
              "   population  households  median_income  median_house_value  \n",
              "0      1015.0       472.0         1.4936             66900.0  "
            ]
          },
          "metadata": {},
          "execution_count": 11
        }
      ]
    },
    {
      "cell_type": "markdown",
      "source": [
        "Here is a non-exhaustive list of jargons that aren't that exactly pronounceable and meaningful (for people with no background in data science).\n",
        "- abt => analytical base table\n",
        "- lng => longitude (from lat, lng)\n",
        "- std => standard deviation\n",
        "- txn => transaction\n",
        "- pxn => partition"
      ],
      "metadata": {
        "id": "rz8IXogMJsOz"
      }
    },
    {
      "cell_type": "markdown",
      "source": [
        "✋ What about you? Can you think of a well-accepted variable name in some domains within the Python community **that is not pronounceable?**"
      ],
      "metadata": {
        "id": "Kp6QIxIcHkMi"
      }
    },
    {
      "cell_type": "markdown",
      "source": [
        "It is a fact that *we will read more code than we will ever write.* It's important that **the code is readable and searchable.** Yes, we can proceed with the quick and dirty way and get the same result as compared to the slow and cleaner way, but in the long run this will hurt your readers. 😓"
      ],
      "metadata": {
        "id": "dkzK3fLKV-DH"
      }
    },
    {
      "cell_type": "code",
      "source": [
        "def aggregate_features(window_duration):\n",
        "    # do stuff\n",
        "    pass\n",
        "\n",
        "# i'm betting you'll forget this the next time you look at your code\n",
        "aggregate_features(1440)\n",
        "\n",
        "# we can assign a descriptive constant instead denoted by capital letters \n",
        "MINUTES_IN_A_DAY = 60 * 24\n",
        "aggregate_features(MINUTES_IN_A_DAY)"
      ],
      "metadata": {
        "id": "zfb7U7sHV9oQ"
      },
      "execution_count": 12,
      "outputs": []
    },
    {
      "cell_type": "code",
      "source": [
        "# create a constant following the UPPER_CAP_SNAKE_CASE format pertaining to the number of seconds in a day\n",
        "SECONDS_IN_A_DAY = 60 * 60 * 24"
      ],
      "metadata": {
        "id": "_JGPDXZrK_CU"
      },
      "execution_count": 13,
      "outputs": []
    },
    {
      "cell_type": "markdown",
      "source": [
        "Don't force the reader of your code to translate what the variable means. **Explicit is better than implicit.** 🤔"
      ],
      "metadata": {
        "id": "kEQdf4fYbt43"
      }
    },
    {
      "cell_type": "code",
      "source": [
        "# this is bad, implicit\n",
        "seq = (\"Taguig\", \"Makati\", \"Mandaluyong\")\n",
        "for item in seq:\n",
        "    # do stuff\n",
        "    pass\n",
        "\n",
        "# this is good, explicit\n",
        "cities = (\"Taguig\", \"Makati\", \"Mandaluyong\")\n",
        "for city in cities:\n",
        "    # do stuff\n",
        "    pass"
      ],
      "metadata": {
        "id": "FssfMEUmV0q2"
      },
      "execution_count": null,
      "outputs": []
    },
    {
      "cell_type": "markdown",
      "source": [
        "This tip can save you if have a foreign collaborator that is not familiar with the city names in PH 😅"
      ],
      "metadata": {
        "id": "VbUx9yomMhwi"
      }
    },
    {
      "cell_type": "markdown",
      "source": [
        "**Write a manual for your function using docstrings.** This will help not only you in the future, but also your future collaborators. 😉\n",
        "\n",
        "```\n",
        "\"\"\"\n",
        "This is an example of Google style docstring.\n",
        "\n",
        "Args:\n",
        "    param1: This is the first param.\n",
        "    param2: This is a second param.\n",
        "\n",
        "Returns:\n",
        "    This is a description of what is returned.\n",
        "\n",
        "Raises:\n",
        "    KeyError: Raises an exception.\n",
        "\"\"\"\n",
        "```"
      ],
      "metadata": {
        "id": "W-sDa_IQgOEq"
      }
    },
    {
      "cell_type": "code",
      "source": [
        "from math import radians, cos, sin, asin, sqrt\n",
        "\n",
        "# this is good, write docstrings as much as possible to future proof your work\n",
        "def get_haversine_distance(lon1, lat1, lon2, lat2, r=6371):\n",
        "    \"\"\"Calculate the great circle distance (in kilometers) between two points on the earth.\n",
        "\n",
        "    Args:\n",
        "        lon1 (float): Longitude of Point 1\n",
        "        lat1 (float): Latitude of Point 1\n",
        "        lon2 (float): Longitude of Point 2\n",
        "        lat2 (float): Latitude of Point 2\n",
        "        r (int, optional): Radius of earth in kilometers. Defaults to 6371.\n",
        "\n",
        "    Returns:\n",
        "        float: Haversine distance between the two given coordinates.\n",
        "    \"\"\"\n",
        "\n",
        "    # convert decimal degrees to radians \n",
        "    lon1, lat1, lon2, lat2 = map(radians, [lon1, lat1, lon2, lat2])\n",
        "\n",
        "    # haversine formula \n",
        "    dlon = lon2 - lon1 \n",
        "    dlat = lat2 - lat1 \n",
        "    a = sin(dlat/2)**2 + cos(lat1) * cos(lat2) * sin(dlon/2)**2\n",
        "    c = 2 * asin(sqrt(a)) \n",
        "    \n",
        "    return c * r"
      ],
      "metadata": {
        "id": "BJ9H4f9KgN8z"
      },
      "execution_count": 14,
      "outputs": []
    },
    {
      "cell_type": "markdown",
      "source": [
        "Your Python **functions should accomplish one thing.** When functions do more than one thing, they are harder to compose, test, and reason about. When you can isolate a function to just one action, they can be refactored easily and your code will read much cleaner. 🤓"
      ],
      "metadata": {
        "id": "zin0BN-ATZBu"
      }
    },
    {
      "cell_type": "code",
      "source": [
        "mkdir data"
      ],
      "metadata": {
        "id": "U9nI-j8_IHFW"
      },
      "execution_count": 15,
      "outputs": []
    },
    {
      "cell_type": "code",
      "source": [
        "cd data"
      ],
      "metadata": {
        "id": "5aIwyCgzOIGn",
        "colab": {
          "base_uri": "https://localhost:8080/"
        },
        "outputId": "6b7a4e6b-fc3b-43dc-fb41-7531724a37ab"
      },
      "execution_count": 16,
      "outputs": [
        {
          "output_type": "stream",
          "name": "stdout",
          "text": [
            "/content/data\n"
          ]
        }
      ]
    },
    {
      "cell_type": "code",
      "source": [
        "from google.colab import files\n",
        "files.upload();"
      ],
      "metadata": {
        "id": "0OiQ-cVpnoGF",
        "colab": {
          "resources": {
            "http://localhost:8080/nbextensions/google.colab/files.js": {
              "data": "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",
              "ok": true,
              "headers": [
                [
                  "content-type",
                  "application/javascript"
                ]
              ],
              "status": 200,
              "status_text": ""
            }
          },
          "base_uri": "https://localhost:8080/",
          "height": 73
        },
        "outputId": "8c5cbcf8-295d-4caf-bb50-ae8372fe9328"
      },
      "execution_count": 17,
      "outputs": [
        {
          "output_type": "display_data",
          "data": {
            "text/html": [
              "\n",
              "     <input type=\"file\" id=\"files-5a804e08-a41f-4275-9b5d-d4aa2a89f48f\" name=\"files[]\" multiple disabled\n",
              "        style=\"border:none\" />\n",
              "     <output id=\"result-5a804e08-a41f-4275-9b5d-d4aa2a89f48f\">\n",
              "      Upload widget is only available when the cell has been executed in the\n",
              "      current browser session. Please rerun this cell to enable.\n",
              "      </output>\n",
              "      <script src=\"/nbextensions/google.colab/files.js\"></script> "
            ],
            "text/plain": [
              "<IPython.core.display.HTML object>"
            ]
          },
          "metadata": {}
        },
        {
          "output_type": "stream",
          "name": "stdout",
          "text": [
            "Saving cafes_in_bgc.csv to cafes_in_bgc.csv\n"
          ]
        }
      ]
    },
    {
      "cell_type": "code",
      "source": [
        "cd /content"
      ],
      "metadata": {
        "id": "1uW5DgIzIfzO",
        "colab": {
          "base_uri": "https://localhost:8080/"
        },
        "outputId": "396007b4-1e77-4fdd-c6f9-06858257833a"
      },
      "execution_count": 18,
      "outputs": [
        {
          "output_type": "stream",
          "name": "stdout",
          "text": [
            "/content\n"
          ]
        }
      ]
    },
    {
      "cell_type": "code",
      "source": [
        "import pandas as pd\n",
        "\n",
        "def load_data(filename, schema):\n",
        "    df = pd.read_csv(filename)\n",
        "    df = df.astype(schema, errors=\"ignore\")\n",
        "    return df\n",
        "\n",
        "filename = \"data/cafes_in_bgc.csv\"\n",
        "schema = {\n",
        "    \"cafe_name\": str,\n",
        "    \"address\": str,\n",
        "    \"latitude\": float,\n",
        "    \"longitude\": float\n",
        "}\n",
        "df = load_data(filename, schema)\n",
        "display(df)"
      ],
      "metadata": {
        "id": "WJAQMt3UWw3O",
        "colab": {
          "base_uri": "https://localhost:8080/",
          "height": 676
        },
        "outputId": "c770fffb-e151-4dd1-fb20-43c1c4813c58"
      },
      "execution_count": 19,
      "outputs": [
        {
          "output_type": "display_data",
          "data": {
            "text/html": [
              "\n",
              "  <div id=\"df-69a4a68c-7cee-4695-ad51-009aaf2d0ffc\">\n",
              "    <div class=\"colab-df-container\">\n",
              "      <div>\n",
              "<style scoped>\n",
              "    .dataframe tbody tr th:only-of-type {\n",
              "        vertical-align: middle;\n",
              "    }\n",
              "\n",
              "    .dataframe tbody tr th {\n",
              "        vertical-align: top;\n",
              "    }\n",
              "\n",
              "    .dataframe thead th {\n",
              "        text-align: right;\n",
              "    }\n",
              "</style>\n",
              "<table border=\"1\" class=\"dataframe\">\n",
              "  <thead>\n",
              "    <tr style=\"text-align: right;\">\n",
              "      <th></th>\n",
              "      <th>cafe_name</th>\n",
              "      <th>address</th>\n",
              "      <th>latitude</th>\n",
              "      <th>longitude</th>\n",
              "    </tr>\n",
              "  </thead>\n",
              "  <tbody>\n",
              "    <tr>\n",
              "      <th>0</th>\n",
              "      <td>Single Origin - Bonifacio High Street</td>\n",
              "      <td>C3, Bonifacio Highstreet, 7th Ave</td>\n",
              "      <td>14.551564</td>\n",
              "      <td>121.049615</td>\n",
              "    </tr>\n",
              "    <tr>\n",
              "      <th>1</th>\n",
              "      <td>Frank &amp; Dean Coffee</td>\n",
              "      <td>Five/NEO, 31st Street, Taguig, Metro Manila</td>\n",
              "      <td>14.555208</td>\n",
              "      <td>121.043002</td>\n",
              "    </tr>\n",
              "    <tr>\n",
              "      <th>2</th>\n",
              "      <td>Cafe de Lipa</td>\n",
              "      <td>H324+56C, Taguig, Metro Manila</td>\n",
              "      <td>14.550452</td>\n",
              "      <td>121.055519</td>\n",
              "    </tr>\n",
              "    <tr>\n",
              "      <th>3</th>\n",
              "      <td>UCC Clockwork</td>\n",
              "      <td>Burgos Cir, Taguig Metro Manila</td>\n",
              "      <td>14.552510</td>\n",
              "      <td>121.043906</td>\n",
              "    </tr>\n",
              "    <tr>\n",
              "      <th>4</th>\n",
              "      <td>Coffee Project</td>\n",
              "      <td>21st Dr, Taguig, 1630 Metro Manila</td>\n",
              "      <td>14.543019</td>\n",
              "      <td>121.047231</td>\n",
              "    </tr>\n",
              "    <tr>\n",
              "      <th>5</th>\n",
              "      <td>Starbucks (Bonifacio High Street)</td>\n",
              "      <td>H322+F23</td>\n",
              "      <td>14.551219</td>\n",
              "      <td>121.050066</td>\n",
              "    </tr>\n",
              "    <tr>\n",
              "      <th>6</th>\n",
              "      <td>Wildflour Cafe + Bakery BGC</td>\n",
              "      <td>Ground Floor Six/NEO 4th Avenue, Corner 26th S...</td>\n",
              "      <td>14.549488</td>\n",
              "      <td>121.046160</td>\n",
              "    </tr>\n",
              "    <tr>\n",
              "      <th>7</th>\n",
              "      <td>Luna Cafe</td>\n",
              "      <td>Ground Floor, NAC Tower, 32nd St</td>\n",
              "      <td>14.553146</td>\n",
              "      <td>121.051328</td>\n",
              "    </tr>\n",
              "    <tr>\n",
              "      <th>8</th>\n",
              "      <td>Malongo Atelier Barista Philippines</td>\n",
              "      <td>3rd Avenue, Lower Ground, One Bonifacio High S...</td>\n",
              "      <td>14.551821</td>\n",
              "      <td>121.046074</td>\n",
              "    </tr>\n",
              "    <tr>\n",
              "      <th>9</th>\n",
              "      <td>Highlands Coffee</td>\n",
              "      <td>Arthaland Tower, 5th Ave</td>\n",
              "      <td>14.552934</td>\n",
              "      <td>121.047843</td>\n",
              "    </tr>\n",
              "    <tr>\n",
              "      <th>10</th>\n",
              "      <td>The Coffee Bean &amp; Tea Leaf</td>\n",
              "      <td>4th Floor, Central Square, 5 30th St</td>\n",
              "      <td>14.552077</td>\n",
              "      <td>121.048455</td>\n",
              "    </tr>\n",
              "    <tr>\n",
              "      <th>11</th>\n",
              "      <td>Little Flour Cafe - BGC</td>\n",
              "      <td>Ground Floor, World Plaza 4th Avenue, corner 3...</td>\n",
              "      <td>14.553609</td>\n",
              "      <td>121.047631</td>\n",
              "    </tr>\n",
              "    <tr>\n",
              "      <th>12</th>\n",
              "      <td>St. Louis Cafe</td>\n",
              "      <td>Unit 104-A, Lower ground, C3 Bonifacio High St...</td>\n",
              "      <td>14.551530</td>\n",
              "      <td>121.049615</td>\n",
              "    </tr>\n",
              "    <tr>\n",
              "      <th>13</th>\n",
              "      <td>Toby Estate Coffee Roasters</td>\n",
              "      <td>Bonifacio High Street</td>\n",
              "      <td>14.552553</td>\n",
              "      <td>121.047540</td>\n",
              "    </tr>\n",
              "    <tr>\n",
              "      <th>14</th>\n",
              "      <td>Aivee Cafe</td>\n",
              "      <td>3rd Floor, Burgos Park Bldg. BGC City, Forbest...</td>\n",
              "      <td>14.550355</td>\n",
              "      <td>121.044361</td>\n",
              "    </tr>\n",
              "    <tr>\n",
              "      <th>15</th>\n",
              "      <td>The Lobby Cafe</td>\n",
              "      <td>St. Luke Medical Center Lobby Area</td>\n",
              "      <td>14.554693</td>\n",
              "      <td>121.047782</td>\n",
              "    </tr>\n",
              "    <tr>\n",
              "      <th>16</th>\n",
              "      <td>Luna Breakfast &amp; Coffee</td>\n",
              "      <td>B6, Bonifacio High Street</td>\n",
              "      <td>14.549717</td>\n",
              "      <td>121.052641</td>\n",
              "    </tr>\n",
              "    <tr>\n",
              "      <th>17</th>\n",
              "      <td>Seattle's Best Coffee</td>\n",
              "      <td>G/F,B3,Bonifacio High Street, 9th Ave</td>\n",
              "      <td>14.550825</td>\n",
              "      <td>121.051332</td>\n",
              "    </tr>\n",
              "    <tr>\n",
              "      <th>18</th>\n",
              "      <td>Coffee Bean and Tea Leaf Bistro</td>\n",
              "      <td>26th St</td>\n",
              "      <td>14.549135</td>\n",
              "      <td>121.046761</td>\n",
              "    </tr>\n",
              "    <tr>\n",
              "      <th>19</th>\n",
              "      <td>Larry's Cafe and Bar</td>\n",
              "      <td>G/F Serendra, McKinley Pkwy</td>\n",
              "      <td>14.549618</td>\n",
              "      <td>121.053929</td>\n",
              "    </tr>\n",
              "  </tbody>\n",
              "</table>\n",
              "</div>\n",
              "      <button class=\"colab-df-convert\" onclick=\"convertToInteractive('df-69a4a68c-7cee-4695-ad51-009aaf2d0ffc')\"\n",
              "              title=\"Convert this dataframe to an interactive table.\"\n",
              "              style=\"display:none;\">\n",
              "        \n",
              "  <svg xmlns=\"http://www.w3.org/2000/svg\" height=\"24px\"viewBox=\"0 0 24 24\"\n",
              "       width=\"24px\">\n",
              "    <path d=\"M0 0h24v24H0V0z\" fill=\"none\"/>\n",
              "    <path d=\"M18.56 5.44l.94 2.06.94-2.06 2.06-.94-2.06-.94-.94-2.06-.94 2.06-2.06.94zm-11 1L8.5 8.5l.94-2.06 2.06-.94-2.06-.94L8.5 2.5l-.94 2.06-2.06.94zm10 10l.94 2.06.94-2.06 2.06-.94-2.06-.94-.94-2.06-.94 2.06-2.06.94z\"/><path d=\"M17.41 7.96l-1.37-1.37c-.4-.4-.92-.59-1.43-.59-.52 0-1.04.2-1.43.59L10.3 9.45l-7.72 7.72c-.78.78-.78 2.05 0 2.83L4 21.41c.39.39.9.59 1.41.59.51 0 1.02-.2 1.41-.59l7.78-7.78 2.81-2.81c.8-.78.8-2.07 0-2.86zM5.41 20L4 18.59l7.72-7.72 1.47 1.35L5.41 20z\"/>\n",
              "  </svg>\n",
              "      </button>\n",
              "      \n",
              "  <style>\n",
              "    .colab-df-container {\n",
              "      display:flex;\n",
              "      flex-wrap:wrap;\n",
              "      gap: 12px;\n",
              "    }\n",
              "\n",
              "    .colab-df-convert {\n",
              "      background-color: #E8F0FE;\n",
              "      border: none;\n",
              "      border-radius: 50%;\n",
              "      cursor: pointer;\n",
              "      display: none;\n",
              "      fill: #1967D2;\n",
              "      height: 32px;\n",
              "      padding: 0 0 0 0;\n",
              "      width: 32px;\n",
              "    }\n",
              "\n",
              "    .colab-df-convert:hover {\n",
              "      background-color: #E2EBFA;\n",
              "      box-shadow: 0px 1px 2px rgba(60, 64, 67, 0.3), 0px 1px 3px 1px rgba(60, 64, 67, 0.15);\n",
              "      fill: #174EA6;\n",
              "    }\n",
              "\n",
              "    [theme=dark] .colab-df-convert {\n",
              "      background-color: #3B4455;\n",
              "      fill: #D2E3FC;\n",
              "    }\n",
              "\n",
              "    [theme=dark] .colab-df-convert:hover {\n",
              "      background-color: #434B5C;\n",
              "      box-shadow: 0px 1px 3px 1px rgba(0, 0, 0, 0.15);\n",
              "      filter: drop-shadow(0px 1px 2px rgba(0, 0, 0, 0.3));\n",
              "      fill: #FFFFFF;\n",
              "    }\n",
              "  </style>\n",
              "\n",
              "      <script>\n",
              "        const buttonEl =\n",
              "          document.querySelector('#df-69a4a68c-7cee-4695-ad51-009aaf2d0ffc button.colab-df-convert');\n",
              "        buttonEl.style.display =\n",
              "          google.colab.kernel.accessAllowed ? 'block' : 'none';\n",
              "\n",
              "        async function convertToInteractive(key) {\n",
              "          const element = document.querySelector('#df-69a4a68c-7cee-4695-ad51-009aaf2d0ffc');\n",
              "          const dataTable =\n",
              "            await google.colab.kernel.invokeFunction('convertToInteractive',\n",
              "                                                     [key], {});\n",
              "          if (!dataTable) return;\n",
              "\n",
              "          const docLinkHtml = 'Like what you see? Visit the ' +\n",
              "            '<a target=\"_blank\" href=https://colab.research.google.com/notebooks/data_table.ipynb>data table notebook</a>'\n",
              "            + ' to learn more about interactive tables.';\n",
              "          element.innerHTML = '';\n",
              "          dataTable['output_type'] = 'display_data';\n",
              "          await google.colab.output.renderOutput(dataTable, element);\n",
              "          const docLink = document.createElement('div');\n",
              "          docLink.innerHTML = docLinkHtml;\n",
              "          element.appendChild(docLink);\n",
              "        }\n",
              "      </script>\n",
              "    </div>\n",
              "  </div>\n",
              "  "
            ],
            "text/plain": [
              "                                cafe_name  \\\n",
              "0   Single Origin - Bonifacio High Street   \n",
              "1                     Frank & Dean Coffee   \n",
              "2                            Cafe de Lipa   \n",
              "3                           UCC Clockwork   \n",
              "4                          Coffee Project   \n",
              "5       Starbucks (Bonifacio High Street)   \n",
              "6             Wildflour Cafe + Bakery BGC   \n",
              "7                               Luna Cafe   \n",
              "8     Malongo Atelier Barista Philippines   \n",
              "9                        Highlands Coffee   \n",
              "10             The Coffee Bean & Tea Leaf   \n",
              "11                Little Flour Cafe - BGC   \n",
              "12                         St. Louis Cafe   \n",
              "13            Toby Estate Coffee Roasters   \n",
              "14                             Aivee Cafe   \n",
              "15                         The Lobby Cafe   \n",
              "16                Luna Breakfast & Coffee   \n",
              "17                  Seattle's Best Coffee   \n",
              "18        Coffee Bean and Tea Leaf Bistro   \n",
              "19                   Larry's Cafe and Bar   \n",
              "\n",
              "                                              address   latitude   longitude  \n",
              "0                   C3, Bonifacio Highstreet, 7th Ave  14.551564  121.049615  \n",
              "1         Five/NEO, 31st Street, Taguig, Metro Manila  14.555208  121.043002  \n",
              "2                      H324+56C, Taguig, Metro Manila  14.550452  121.055519  \n",
              "3                     Burgos Cir, Taguig Metro Manila  14.552510  121.043906  \n",
              "4                  21st Dr, Taguig, 1630 Metro Manila  14.543019  121.047231  \n",
              "5                                            H322+F23  14.551219  121.050066  \n",
              "6   Ground Floor Six/NEO 4th Avenue, Corner 26th S...  14.549488  121.046160  \n",
              "7                    Ground Floor, NAC Tower, 32nd St  14.553146  121.051328  \n",
              "8   3rd Avenue, Lower Ground, One Bonifacio High S...  14.551821  121.046074  \n",
              "9                            Arthaland Tower, 5th Ave  14.552934  121.047843  \n",
              "10               4th Floor, Central Square, 5 30th St  14.552077  121.048455  \n",
              "11  Ground Floor, World Plaza 4th Avenue, corner 3...  14.553609  121.047631  \n",
              "12  Unit 104-A, Lower ground, C3 Bonifacio High St...  14.551530  121.049615  \n",
              "13                              Bonifacio High Street  14.552553  121.047540  \n",
              "14  3rd Floor, Burgos Park Bldg. BGC City, Forbest...  14.550355  121.044361  \n",
              "15                 St. Luke Medical Center Lobby Area  14.554693  121.047782  \n",
              "16                          B6, Bonifacio High Street  14.549717  121.052641  \n",
              "17              G/F,B3,Bonifacio High Street, 9th Ave  14.550825  121.051332  \n",
              "18                                            26th St  14.549135  121.046761  \n",
              "19                        G/F Serendra, McKinley Pkwy  14.549618  121.053929  "
            ]
          },
          "metadata": {}
        }
      ]
    },
    {
      "cell_type": "markdown",
      "source": [
        "Suppose you and your new DSP friends want to go coffee shop hopping in Bonifacio Global City today. Since you only have an hour for lunch break, you decided to only visit (n) shops for now. The task is to find the (n)-closest coffee shops to each other from the given data. 🧩 "
      ],
      "metadata": {
        "id": "ZFOnZlu3Wwsv"
      }
    },
    {
      "cell_type": "code",
      "source": [
        "import leafmap\n",
        "import itertools\n",
        "import geopandas as gpd\n",
        "from shapely.geometry import Polygon"
      ],
      "metadata": {
        "id": "6L1PPJoxYLfj"
      },
      "execution_count": 20,
      "outputs": []
    },
    {
      "cell_type": "code",
      "source": [
        "THE_GLOBE_TOWER_COORDS = (14.553474948859346, 121.04989287111896)"
      ],
      "metadata": {
        "id": "_-FhJtClftIe"
      },
      "execution_count": 21,
      "outputs": []
    },
    {
      "cell_type": "code",
      "source": [
        "# THIS IS BAD\n",
        "\n",
        "def get_map(df, reference_point, n=3):\n",
        "\n",
        "    # initialize map, set TGT as reference point for BGC\n",
        "    map_select = leafmap.Map(\n",
        "        center=reference_point, \n",
        "        zoom=16, \n",
        "        layers_control=True, \n",
        "        measure_control=False, \n",
        "        attribution_control=False\n",
        "    )\n",
        "    map_select.add_basemap(\"Stamen.TonerLite\")\n",
        "\n",
        "    # get points of interest df\n",
        "    gdf_points = gpd.GeoDataFrame(df, geometry=gpd.points_from_xy(df.longitude, df.latitude, crs=\"EPSG:4326\"))\n",
        "    gdf_points = gdf_points.drop(columns=[\"address\", \"latitude\", \"longitude\"])\n",
        "\n",
        "    cols_gdf = [(f\"cafe_name_{i}\", f\"geometry_{i}\") for i in range(1, n+1)]\n",
        "    cols_gdf = [item for sublist in cols_gdf for item in sublist]\n",
        "    cols_geometry = [col for col in cols_gdf if \"geometry\" in col]\n",
        "\n",
        "    # get all possible combinations of poi(s) e.g. cafe(s)\n",
        "    points_combinations = list(itertools.combinations(gdf_points.values.tolist(), n))\n",
        "    \n",
        "    # get polygons df\n",
        "    gdf_polygons = pd.DataFrame(columns=cols_gdf)\n",
        "    for i, points_combination in enumerate(points_combinations):\n",
        "        gdf_polygons.loc[i] = [item for sublist in points_combination for item in sublist]\n",
        "\n",
        "    # add n-polygon geometry column based from the given points \n",
        "    gdf_polygons[\"geometry\"] = gdf_polygons.apply(lambda x: Polygon([x[col] for col in cols_geometry]), axis=1)\n",
        "    gdf_polygons = gdf_polygons.drop(columns=cols_geometry)\n",
        "\n",
        "    # 4326 for viz, 3857 for distance related calculations\n",
        "    gdf_polygons = gpd.GeoDataFrame(gdf_polygons, crs=\"EPSG:4326\")\n",
        "    gdf_polygons[\"polygon_perimeter_in_meters\"] = gdf_polygons.to_crs(3857)[\"geometry\"].length\n",
        "\n",
        "    # add the points and polygons gdf\n",
        "    map_select.add_gdf(gdf_polygons.sort_values(by=\"polygon_perimeter_in_meters\", ascending=True).head(1), layer_name=\"Smallest Geom\", fill_colors=[\"green\"])\n",
        "    map_select.add_gdf(gdf_polygons.sort_values(by=\"polygon_perimeter_in_meters\", ascending=False).head(1), layer_name=\"Biggest Geom\", fill_colors=[\"red\"])\n",
        "    map_select.add_gdf(gdf_points, layer_name=\"Cafes in BGC\")\n",
        "\n",
        "    return map_select\n"
      ],
      "metadata": {
        "id": "44ejlS75B8hY"
      },
      "execution_count": 22,
      "outputs": []
    },
    {
      "cell_type": "code",
      "source": [
        "# THIS IS BETTER\n",
        "\n",
        "def flatten_list(lst):\n",
        "    flattened_list = [item for sublist in lst for item in sublist]\n",
        "    return flattened_list\n",
        "\n",
        "def get_column_names(n, geom):\n",
        "    cols = flatten_list([(f\"cafe_name_{i}\", f\"geometry_{i}\") for i in range(1, n+1)])\n",
        "    if geom:\n",
        "        return [col for col in cols if \"geometry\" in col]\n",
        "    else:\n",
        "        return cols\n",
        "\n",
        "def get_point_combinations(gdf_points, n):\n",
        "    points_combinations = list(itertools.combinations(gdf_points.values.tolist(), n))\n",
        "    return points_combinations\n",
        "\n",
        "def get_gdf_points(df):\n",
        "    gdf_points = gpd.GeoDataFrame(df, geometry=gpd.points_from_xy(df.longitude, df.latitude, crs=\"EPSG:4326\"))\n",
        "    gdf_points = gdf_points.drop(columns=[\"address\", \"latitude\", \"longitude\"])\n",
        "    return gdf_points\n",
        "\n",
        "def get_gdf_polygons(gdf_points, n):\n",
        "    \n",
        "    # get column names\n",
        "    cols_gdf = get_column_names(n, False)\n",
        "    cols_geometry = get_column_names(n, True)\n",
        "\n",
        "    # get all possible combinations of poi(s) e.g. cafe(s)\n",
        "    points_combinations = get_point_combinations(gdf_points, n)\n",
        "\n",
        "    # create polygons table\n",
        "    gdf_polygons = pd.DataFrame(columns=cols_gdf)\n",
        "    for i, points_combination in enumerate(points_combinations):\n",
        "        gdf_polygons.loc[i] = flatten_list(points_combination)\n",
        "\n",
        "    # add n-polygon geometry column based from the given points \n",
        "    gdf_polygons[\"geometry\"] = gdf_polygons.apply(lambda x: Polygon([x[col] for col in cols_geometry]), axis=1)\n",
        "    gdf_polygons = gdf_polygons.drop(columns=cols_geometry)\n",
        "    \n",
        "    # 4326 for viz, 3857 for distance related calculations\n",
        "    gdf_polygons = gpd.GeoDataFrame(gdf_polygons, crs=\"EPSG:4326\")\n",
        "    gdf_polygons[\"polygon_perimeter_in_meters\"] = gdf_polygons.to_crs(3857)[\"geometry\"].length\n",
        "\n",
        "    return gdf_polygons\n",
        "\n",
        "def get_map(reference_point, gdf_points, gdf_polygons):\n",
        "\n",
        "    # initialize map, set TGT as reference point for BGC\n",
        "    map_select = leafmap.Map(\n",
        "        center=reference_point, \n",
        "        zoom=16, \n",
        "        layers_control=True, \n",
        "        measure_control=False, \n",
        "        attribution_control=False\n",
        "    )\n",
        "    map_select.add_basemap(\"Stamen.TonerLite\")\n",
        "\n",
        "    # add the points and polygons gdf\n",
        "    map_select.add_gdf(gdf_polygons.sort_values(by=\"polygon_perimeter_in_meters\", ascending=True).head(1), layer_name=\"Smallest Geom\", fill_colors=[\"green\"])\n",
        "    map_select.add_gdf(gdf_polygons.sort_values(by=\"polygon_perimeter_in_meters\", ascending=False).head(1), layer_name=\"Biggest Geom\", fill_colors=[\"red\"])\n",
        "    map_select.add_gdf(gdf_points, layer_name=\"Cafes in BGC\")\n",
        "\n",
        "    return map_select"
      ],
      "metadata": {
        "id": "mb5jHARBYLdb"
      },
      "execution_count": 24,
      "outputs": []
    },
    {
      "cell_type": "code",
      "source": [
        "gdf_points = get_gdf_points(df)\n",
        "gdf_points.head(1)"
      ],
      "metadata": {
        "id": "M5yDjAR8-zz3",
        "colab": {
          "base_uri": "https://localhost:8080/",
          "height": 80
        },
        "outputId": "24fc3cc5-9ec7-4160-eb1a-c7a81ef7caf8"
      },
      "execution_count": 25,
      "outputs": [
        {
          "output_type": "execute_result",
          "data": {
            "text/html": [
              "\n",
              "  <div id=\"df-ce7b68e6-1a48-4472-954d-e3c0e0e42f9e\">\n",
              "    <div class=\"colab-df-container\">\n",
              "      <div>\n",
              "<style scoped>\n",
              "    .dataframe tbody tr th:only-of-type {\n",
              "        vertical-align: middle;\n",
              "    }\n",
              "\n",
              "    .dataframe tbody tr th {\n",
              "        vertical-align: top;\n",
              "    }\n",
              "\n",
              "    .dataframe thead th {\n",
              "        text-align: right;\n",
              "    }\n",
              "</style>\n",
              "<table border=\"1\" class=\"dataframe\">\n",
              "  <thead>\n",
              "    <tr style=\"text-align: right;\">\n",
              "      <th></th>\n",
              "      <th>cafe_name</th>\n",
              "      <th>geometry</th>\n",
              "    </tr>\n",
              "  </thead>\n",
              "  <tbody>\n",
              "    <tr>\n",
              "      <th>0</th>\n",
              "      <td>Single Origin - Bonifacio High Street</td>\n",
              "      <td>POINT (121.04961 14.55156)</td>\n",
              "    </tr>\n",
              "  </tbody>\n",
              "</table>\n",
              "</div>\n",
              "      <button class=\"colab-df-convert\" onclick=\"convertToInteractive('df-ce7b68e6-1a48-4472-954d-e3c0e0e42f9e')\"\n",
              "              title=\"Convert this dataframe to an interactive table.\"\n",
              "              style=\"display:none;\">\n",
              "        \n",
              "  <svg xmlns=\"http://www.w3.org/2000/svg\" height=\"24px\"viewBox=\"0 0 24 24\"\n",
              "       width=\"24px\">\n",
              "    <path d=\"M0 0h24v24H0V0z\" fill=\"none\"/>\n",
              "    <path d=\"M18.56 5.44l.94 2.06.94-2.06 2.06-.94-2.06-.94-.94-2.06-.94 2.06-2.06.94zm-11 1L8.5 8.5l.94-2.06 2.06-.94-2.06-.94L8.5 2.5l-.94 2.06-2.06.94zm10 10l.94 2.06.94-2.06 2.06-.94-2.06-.94-.94-2.06-.94 2.06-2.06.94z\"/><path d=\"M17.41 7.96l-1.37-1.37c-.4-.4-.92-.59-1.43-.59-.52 0-1.04.2-1.43.59L10.3 9.45l-7.72 7.72c-.78.78-.78 2.05 0 2.83L4 21.41c.39.39.9.59 1.41.59.51 0 1.02-.2 1.41-.59l7.78-7.78 2.81-2.81c.8-.78.8-2.07 0-2.86zM5.41 20L4 18.59l7.72-7.72 1.47 1.35L5.41 20z\"/>\n",
              "  </svg>\n",
              "      </button>\n",
              "      \n",
              "  <style>\n",
              "    .colab-df-container {\n",
              "      display:flex;\n",
              "      flex-wrap:wrap;\n",
              "      gap: 12px;\n",
              "    }\n",
              "\n",
              "    .colab-df-convert {\n",
              "      background-color: #E8F0FE;\n",
              "      border: none;\n",
              "      border-radius: 50%;\n",
              "      cursor: pointer;\n",
              "      display: none;\n",
              "      fill: #1967D2;\n",
              "      height: 32px;\n",
              "      padding: 0 0 0 0;\n",
              "      width: 32px;\n",
              "    }\n",
              "\n",
              "    .colab-df-convert:hover {\n",
              "      background-color: #E2EBFA;\n",
              "      box-shadow: 0px 1px 2px rgba(60, 64, 67, 0.3), 0px 1px 3px 1px rgba(60, 64, 67, 0.15);\n",
              "      fill: #174EA6;\n",
              "    }\n",
              "\n",
              "    [theme=dark] .colab-df-convert {\n",
              "      background-color: #3B4455;\n",
              "      fill: #D2E3FC;\n",
              "    }\n",
              "\n",
              "    [theme=dark] .colab-df-convert:hover {\n",
              "      background-color: #434B5C;\n",
              "      box-shadow: 0px 1px 3px 1px rgba(0, 0, 0, 0.15);\n",
              "      filter: drop-shadow(0px 1px 2px rgba(0, 0, 0, 0.3));\n",
              "      fill: #FFFFFF;\n",
              "    }\n",
              "  </style>\n",
              "\n",
              "      <script>\n",
              "        const buttonEl =\n",
              "          document.querySelector('#df-ce7b68e6-1a48-4472-954d-e3c0e0e42f9e button.colab-df-convert');\n",
              "        buttonEl.style.display =\n",
              "          google.colab.kernel.accessAllowed ? 'block' : 'none';\n",
              "\n",
              "        async function convertToInteractive(key) {\n",
              "          const element = document.querySelector('#df-ce7b68e6-1a48-4472-954d-e3c0e0e42f9e');\n",
              "          const dataTable =\n",
              "            await google.colab.kernel.invokeFunction('convertToInteractive',\n",
              "                                                     [key], {});\n",
              "          if (!dataTable) return;\n",
              "\n",
              "          const docLinkHtml = 'Like what you see? Visit the ' +\n",
              "            '<a target=\"_blank\" href=https://colab.research.google.com/notebooks/data_table.ipynb>data table notebook</a>'\n",
              "            + ' to learn more about interactive tables.';\n",
              "          element.innerHTML = '';\n",
              "          dataTable['output_type'] = 'display_data';\n",
              "          await google.colab.output.renderOutput(dataTable, element);\n",
              "          const docLink = document.createElement('div');\n",
              "          docLink.innerHTML = docLinkHtml;\n",
              "          element.appendChild(docLink);\n",
              "        }\n",
              "      </script>\n",
              "    </div>\n",
              "  </div>\n",
              "  "
            ],
            "text/plain": [
              "                               cafe_name                    geometry\n",
              "0  Single Origin - Bonifacio High Street  POINT (121.04961 14.55156)"
            ]
          },
          "metadata": {},
          "execution_count": 25
        }
      ]
    },
    {
      "cell_type": "code",
      "source": [
        "gdf_polygons = get_gdf_polygons(gdf_points, 4)\n",
        "gdf_polygons.head(1)"
      ],
      "metadata": {
        "id": "dc-s-1_Iim0V",
        "colab": {
          "base_uri": "https://localhost:8080/",
          "height": 80
        },
        "outputId": "6aead7e4-bda4-45a4-d702-ce3b75e0160a"
      },
      "execution_count": 26,
      "outputs": [
        {
          "output_type": "execute_result",
          "data": {
            "text/html": [
              "\n",
              "  <div id=\"df-ee86f417-66be-48d1-a0e9-aa6ba82c28c4\">\n",
              "    <div class=\"colab-df-container\">\n",
              "      <div>\n",
              "<style scoped>\n",
              "    .dataframe tbody tr th:only-of-type {\n",
              "        vertical-align: middle;\n",
              "    }\n",
              "\n",
              "    .dataframe tbody tr th {\n",
              "        vertical-align: top;\n",
              "    }\n",
              "\n",
              "    .dataframe thead th {\n",
              "        text-align: right;\n",
              "    }\n",
              "</style>\n",
              "<table border=\"1\" class=\"dataframe\">\n",
              "  <thead>\n",
              "    <tr style=\"text-align: right;\">\n",
              "      <th></th>\n",
              "      <th>cafe_name_1</th>\n",
              "      <th>cafe_name_2</th>\n",
              "      <th>cafe_name_3</th>\n",
              "      <th>cafe_name_4</th>\n",
              "      <th>geometry</th>\n",
              "      <th>polygon_perimeter_in_meters</th>\n",
              "    </tr>\n",
              "  </thead>\n",
              "  <tbody>\n",
              "    <tr>\n",
              "      <th>0</th>\n",
              "      <td>Single Origin - Bonifacio High Street</td>\n",
              "      <td>Frank &amp; Dean Coffee</td>\n",
              "      <td>Cafe de Lipa</td>\n",
              "      <td>UCC Clockwork</td>\n",
              "      <td>POLYGON ((121.04961 14.55156, 121.04300 14.555...</td>\n",
              "      <td>4302.791581</td>\n",
              "    </tr>\n",
              "  </tbody>\n",
              "</table>\n",
              "</div>\n",
              "      <button class=\"colab-df-convert\" onclick=\"convertToInteractive('df-ee86f417-66be-48d1-a0e9-aa6ba82c28c4')\"\n",
              "              title=\"Convert this dataframe to an interactive table.\"\n",
              "              style=\"display:none;\">\n",
              "        \n",
              "  <svg xmlns=\"http://www.w3.org/2000/svg\" height=\"24px\"viewBox=\"0 0 24 24\"\n",
              "       width=\"24px\">\n",
              "    <path d=\"M0 0h24v24H0V0z\" fill=\"none\"/>\n",
              "    <path d=\"M18.56 5.44l.94 2.06.94-2.06 2.06-.94-2.06-.94-.94-2.06-.94 2.06-2.06.94zm-11 1L8.5 8.5l.94-2.06 2.06-.94-2.06-.94L8.5 2.5l-.94 2.06-2.06.94zm10 10l.94 2.06.94-2.06 2.06-.94-2.06-.94-.94-2.06-.94 2.06-2.06.94z\"/><path d=\"M17.41 7.96l-1.37-1.37c-.4-.4-.92-.59-1.43-.59-.52 0-1.04.2-1.43.59L10.3 9.45l-7.72 7.72c-.78.78-.78 2.05 0 2.83L4 21.41c.39.39.9.59 1.41.59.51 0 1.02-.2 1.41-.59l7.78-7.78 2.81-2.81c.8-.78.8-2.07 0-2.86zM5.41 20L4 18.59l7.72-7.72 1.47 1.35L5.41 20z\"/>\n",
              "  </svg>\n",
              "      </button>\n",
              "      \n",
              "  <style>\n",
              "    .colab-df-container {\n",
              "      display:flex;\n",
              "      flex-wrap:wrap;\n",
              "      gap: 12px;\n",
              "    }\n",
              "\n",
              "    .colab-df-convert {\n",
              "      background-color: #E8F0FE;\n",
              "      border: none;\n",
              "      border-radius: 50%;\n",
              "      cursor: pointer;\n",
              "      display: none;\n",
              "      fill: #1967D2;\n",
              "      height: 32px;\n",
              "      padding: 0 0 0 0;\n",
              "      width: 32px;\n",
              "    }\n",
              "\n",
              "    .colab-df-convert:hover {\n",
              "      background-color: #E2EBFA;\n",
              "      box-shadow: 0px 1px 2px rgba(60, 64, 67, 0.3), 0px 1px 3px 1px rgba(60, 64, 67, 0.15);\n",
              "      fill: #174EA6;\n",
              "    }\n",
              "\n",
              "    [theme=dark] .colab-df-convert {\n",
              "      background-color: #3B4455;\n",
              "      fill: #D2E3FC;\n",
              "    }\n",
              "\n",
              "    [theme=dark] .colab-df-convert:hover {\n",
              "      background-color: #434B5C;\n",
              "      box-shadow: 0px 1px 3px 1px rgba(0, 0, 0, 0.15);\n",
              "      filter: drop-shadow(0px 1px 2px rgba(0, 0, 0, 0.3));\n",
              "      fill: #FFFFFF;\n",
              "    }\n",
              "  </style>\n",
              "\n",
              "      <script>\n",
              "        const buttonEl =\n",
              "          document.querySelector('#df-ee86f417-66be-48d1-a0e9-aa6ba82c28c4 button.colab-df-convert');\n",
              "        buttonEl.style.display =\n",
              "          google.colab.kernel.accessAllowed ? 'block' : 'none';\n",
              "\n",
              "        async function convertToInteractive(key) {\n",
              "          const element = document.querySelector('#df-ee86f417-66be-48d1-a0e9-aa6ba82c28c4');\n",
              "          const dataTable =\n",
              "            await google.colab.kernel.invokeFunction('convertToInteractive',\n",
              "                                                     [key], {});\n",
              "          if (!dataTable) return;\n",
              "\n",
              "          const docLinkHtml = 'Like what you see? Visit the ' +\n",
              "            '<a target=\"_blank\" href=https://colab.research.google.com/notebooks/data_table.ipynb>data table notebook</a>'\n",
              "            + ' to learn more about interactive tables.';\n",
              "          element.innerHTML = '';\n",
              "          dataTable['output_type'] = 'display_data';\n",
              "          await google.colab.output.renderOutput(dataTable, element);\n",
              "          const docLink = document.createElement('div');\n",
              "          docLink.innerHTML = docLinkHtml;\n",
              "          element.appendChild(docLink);\n",
              "        }\n",
              "      </script>\n",
              "    </div>\n",
              "  </div>\n",
              "  "
            ],
            "text/plain": [
              "                             cafe_name_1          cafe_name_2   cafe_name_3  \\\n",
              "0  Single Origin - Bonifacio High Street  Frank & Dean Coffee  Cafe de Lipa   \n",
              "\n",
              "     cafe_name_4                                           geometry  \\\n",
              "0  UCC Clockwork  POLYGON ((121.04961 14.55156, 121.04300 14.555...   \n",
              "\n",
              "   polygon_perimeter_in_meters  \n",
              "0                  4302.791581  "
            ]
          },
          "metadata": {},
          "execution_count": 26
        }
      ]
    },
    {
      "cell_type": "code",
      "source": [
        "gdf_polygons.sort_values(by=\"polygon_perimeter_in_meters\", ascending=True).head(1)"
      ],
      "metadata": {
        "id": "HcXCE2jyBrM_",
        "colab": {
          "base_uri": "https://localhost:8080/",
          "height": 80
        },
        "outputId": "34a07f5e-fa1f-4c48-960c-f2cc423dc187"
      },
      "execution_count": 27,
      "outputs": [
        {
          "output_type": "execute_result",
          "data": {
            "text/html": [
              "\n",
              "  <div id=\"df-6c6533a1-5f47-4f4d-a7b9-384b979cd2d6\">\n",
              "    <div class=\"colab-df-container\">\n",
              "      <div>\n",
              "<style scoped>\n",
              "    .dataframe tbody tr th:only-of-type {\n",
              "        vertical-align: middle;\n",
              "    }\n",
              "\n",
              "    .dataframe tbody tr th {\n",
              "        vertical-align: top;\n",
              "    }\n",
              "\n",
              "    .dataframe thead th {\n",
              "        text-align: right;\n",
              "    }\n",
              "</style>\n",
              "<table border=\"1\" class=\"dataframe\">\n",
              "  <thead>\n",
              "    <tr style=\"text-align: right;\">\n",
              "      <th></th>\n",
              "      <th>cafe_name_1</th>\n",
              "      <th>cafe_name_2</th>\n",
              "      <th>cafe_name_3</th>\n",
              "      <th>cafe_name_4</th>\n",
              "      <th>geometry</th>\n",
              "      <th>polygon_perimeter_in_meters</th>\n",
              "    </tr>\n",
              "  </thead>\n",
              "  <tbody>\n",
              "    <tr>\n",
              "      <th>561</th>\n",
              "      <td>Single Origin - Bonifacio High Street</td>\n",
              "      <td>Starbucks (Bonifacio High Street)</td>\n",
              "      <td>The Coffee Bean &amp; Tea Leaf</td>\n",
              "      <td>St. Louis Cafe</td>\n",
              "      <td>POLYGON ((121.04961 14.55156, 121.05007 14.551...</td>\n",
              "      <td>416.151742</td>\n",
              "    </tr>\n",
              "  </tbody>\n",
              "</table>\n",
              "</div>\n",
              "      <button class=\"colab-df-convert\" onclick=\"convertToInteractive('df-6c6533a1-5f47-4f4d-a7b9-384b979cd2d6')\"\n",
              "              title=\"Convert this dataframe to an interactive table.\"\n",
              "              style=\"display:none;\">\n",
              "        \n",
              "  <svg xmlns=\"http://www.w3.org/2000/svg\" height=\"24px\"viewBox=\"0 0 24 24\"\n",
              "       width=\"24px\">\n",
              "    <path d=\"M0 0h24v24H0V0z\" fill=\"none\"/>\n",
              "    <path d=\"M18.56 5.44l.94 2.06.94-2.06 2.06-.94-2.06-.94-.94-2.06-.94 2.06-2.06.94zm-11 1L8.5 8.5l.94-2.06 2.06-.94-2.06-.94L8.5 2.5l-.94 2.06-2.06.94zm10 10l.94 2.06.94-2.06 2.06-.94-2.06-.94-.94-2.06-.94 2.06-2.06.94z\"/><path d=\"M17.41 7.96l-1.37-1.37c-.4-.4-.92-.59-1.43-.59-.52 0-1.04.2-1.43.59L10.3 9.45l-7.72 7.72c-.78.78-.78 2.05 0 2.83L4 21.41c.39.39.9.59 1.41.59.51 0 1.02-.2 1.41-.59l7.78-7.78 2.81-2.81c.8-.78.8-2.07 0-2.86zM5.41 20L4 18.59l7.72-7.72 1.47 1.35L5.41 20z\"/>\n",
              "  </svg>\n",
              "      </button>\n",
              "      \n",
              "  <style>\n",
              "    .colab-df-container {\n",
              "      display:flex;\n",
              "      flex-wrap:wrap;\n",
              "      gap: 12px;\n",
              "    }\n",
              "\n",
              "    .colab-df-convert {\n",
              "      background-color: #E8F0FE;\n",
              "      border: none;\n",
              "      border-radius: 50%;\n",
              "      cursor: pointer;\n",
              "      display: none;\n",
              "      fill: #1967D2;\n",
              "      height: 32px;\n",
              "      padding: 0 0 0 0;\n",
              "      width: 32px;\n",
              "    }\n",
              "\n",
              "    .colab-df-convert:hover {\n",
              "      background-color: #E2EBFA;\n",
              "      box-shadow: 0px 1px 2px rgba(60, 64, 67, 0.3), 0px 1px 3px 1px rgba(60, 64, 67, 0.15);\n",
              "      fill: #174EA6;\n",
              "    }\n",
              "\n",
              "    [theme=dark] .colab-df-convert {\n",
              "      background-color: #3B4455;\n",
              "      fill: #D2E3FC;\n",
              "    }\n",
              "\n",
              "    [theme=dark] .colab-df-convert:hover {\n",
              "      background-color: #434B5C;\n",
              "      box-shadow: 0px 1px 3px 1px rgba(0, 0, 0, 0.15);\n",
              "      filter: drop-shadow(0px 1px 2px rgba(0, 0, 0, 0.3));\n",
              "      fill: #FFFFFF;\n",
              "    }\n",
              "  </style>\n",
              "\n",
              "      <script>\n",
              "        const buttonEl =\n",
              "          document.querySelector('#df-6c6533a1-5f47-4f4d-a7b9-384b979cd2d6 button.colab-df-convert');\n",
              "        buttonEl.style.display =\n",
              "          google.colab.kernel.accessAllowed ? 'block' : 'none';\n",
              "\n",
              "        async function convertToInteractive(key) {\n",
              "          const element = document.querySelector('#df-6c6533a1-5f47-4f4d-a7b9-384b979cd2d6');\n",
              "          const dataTable =\n",
              "            await google.colab.kernel.invokeFunction('convertToInteractive',\n",
              "                                                     [key], {});\n",
              "          if (!dataTable) return;\n",
              "\n",
              "          const docLinkHtml = 'Like what you see? Visit the ' +\n",
              "            '<a target=\"_blank\" href=https://colab.research.google.com/notebooks/data_table.ipynb>data table notebook</a>'\n",
              "            + ' to learn more about interactive tables.';\n",
              "          element.innerHTML = '';\n",
              "          dataTable['output_type'] = 'display_data';\n",
              "          await google.colab.output.renderOutput(dataTable, element);\n",
              "          const docLink = document.createElement('div');\n",
              "          docLink.innerHTML = docLinkHtml;\n",
              "          element.appendChild(docLink);\n",
              "        }\n",
              "      </script>\n",
              "    </div>\n",
              "  </div>\n",
              "  "
            ],
            "text/plain": [
              "                               cafe_name_1                        cafe_name_2  \\\n",
              "561  Single Origin - Bonifacio High Street  Starbucks (Bonifacio High Street)   \n",
              "\n",
              "                    cafe_name_3     cafe_name_4  \\\n",
              "561  The Coffee Bean & Tea Leaf  St. Louis Cafe   \n",
              "\n",
              "                                              geometry  \\\n",
              "561  POLYGON ((121.04961 14.55156, 121.05007 14.551...   \n",
              "\n",
              "     polygon_perimeter_in_meters  \n",
              "561                   416.151742  "
            ]
          },
          "metadata": {},
          "execution_count": 27
        }
      ]
    },
    {
      "cell_type": "code",
      "source": [
        "gdf_polygons.sort_values(by=\"polygon_perimeter_in_meters\", ascending=False).head(1)"
      ],
      "metadata": {
        "id": "XxFZ_OTmBsLU",
        "colab": {
          "base_uri": "https://localhost:8080/",
          "height": 80
        },
        "outputId": "9c14ba0c-7b04-4f64-adbd-0c2e5e7863c1"
      },
      "execution_count": 28,
      "outputs": [
        {
          "output_type": "execute_result",
          "data": {
            "text/html": [
              "\n",
              "  <div id=\"df-f7d727d7-063d-47da-a95f-b7929af23c53\">\n",
              "    <div class=\"colab-df-container\">\n",
              "      <div>\n",
              "<style scoped>\n",
              "    .dataframe tbody tr th:only-of-type {\n",
              "        vertical-align: middle;\n",
              "    }\n",
              "\n",
              "    .dataframe tbody tr th {\n",
              "        vertical-align: top;\n",
              "    }\n",
              "\n",
              "    .dataframe thead th {\n",
              "        text-align: right;\n",
              "    }\n",
              "</style>\n",
              "<table border=\"1\" class=\"dataframe\">\n",
              "  <thead>\n",
              "    <tr style=\"text-align: right;\">\n",
              "      <th></th>\n",
              "      <th>cafe_name_1</th>\n",
              "      <th>cafe_name_2</th>\n",
              "      <th>cafe_name_3</th>\n",
              "      <th>cafe_name_4</th>\n",
              "      <th>geometry</th>\n",
              "      <th>polygon_perimeter_in_meters</th>\n",
              "    </tr>\n",
              "  </thead>\n",
              "  <tbody>\n",
              "    <tr>\n",
              "      <th>969</th>\n",
              "      <td>Frank &amp; Dean Coffee</td>\n",
              "      <td>Cafe de Lipa</td>\n",
              "      <td>UCC Clockwork</td>\n",
              "      <td>Coffee Project</td>\n",
              "      <td>POLYGON ((121.04300 14.55521, 121.05552 14.550...</td>\n",
              "      <td>5442.470451</td>\n",
              "    </tr>\n",
              "  </tbody>\n",
              "</table>\n",
              "</div>\n",
              "      <button class=\"colab-df-convert\" onclick=\"convertToInteractive('df-f7d727d7-063d-47da-a95f-b7929af23c53')\"\n",
              "              title=\"Convert this dataframe to an interactive table.\"\n",
              "              style=\"display:none;\">\n",
              "        \n",
              "  <svg xmlns=\"http://www.w3.org/2000/svg\" height=\"24px\"viewBox=\"0 0 24 24\"\n",
              "       width=\"24px\">\n",
              "    <path d=\"M0 0h24v24H0V0z\" fill=\"none\"/>\n",
              "    <path d=\"M18.56 5.44l.94 2.06.94-2.06 2.06-.94-2.06-.94-.94-2.06-.94 2.06-2.06.94zm-11 1L8.5 8.5l.94-2.06 2.06-.94-2.06-.94L8.5 2.5l-.94 2.06-2.06.94zm10 10l.94 2.06.94-2.06 2.06-.94-2.06-.94-.94-2.06-.94 2.06-2.06.94z\"/><path d=\"M17.41 7.96l-1.37-1.37c-.4-.4-.92-.59-1.43-.59-.52 0-1.04.2-1.43.59L10.3 9.45l-7.72 7.72c-.78.78-.78 2.05 0 2.83L4 21.41c.39.39.9.59 1.41.59.51 0 1.02-.2 1.41-.59l7.78-7.78 2.81-2.81c.8-.78.8-2.07 0-2.86zM5.41 20L4 18.59l7.72-7.72 1.47 1.35L5.41 20z\"/>\n",
              "  </svg>\n",
              "      </button>\n",
              "      \n",
              "  <style>\n",
              "    .colab-df-container {\n",
              "      display:flex;\n",
              "      flex-wrap:wrap;\n",
              "      gap: 12px;\n",
              "    }\n",
              "\n",
              "    .colab-df-convert {\n",
              "      background-color: #E8F0FE;\n",
              "      border: none;\n",
              "      border-radius: 50%;\n",
              "      cursor: pointer;\n",
              "      display: none;\n",
              "      fill: #1967D2;\n",
              "      height: 32px;\n",
              "      padding: 0 0 0 0;\n",
              "      width: 32px;\n",
              "    }\n",
              "\n",
              "    .colab-df-convert:hover {\n",
              "      background-color: #E2EBFA;\n",
              "      box-shadow: 0px 1px 2px rgba(60, 64, 67, 0.3), 0px 1px 3px 1px rgba(60, 64, 67, 0.15);\n",
              "      fill: #174EA6;\n",
              "    }\n",
              "\n",
              "    [theme=dark] .colab-df-convert {\n",
              "      background-color: #3B4455;\n",
              "      fill: #D2E3FC;\n",
              "    }\n",
              "\n",
              "    [theme=dark] .colab-df-convert:hover {\n",
              "      background-color: #434B5C;\n",
              "      box-shadow: 0px 1px 3px 1px rgba(0, 0, 0, 0.15);\n",
              "      filter: drop-shadow(0px 1px 2px rgba(0, 0, 0, 0.3));\n",
              "      fill: #FFFFFF;\n",
              "    }\n",
              "  </style>\n",
              "\n",
              "      <script>\n",
              "        const buttonEl =\n",
              "          document.querySelector('#df-f7d727d7-063d-47da-a95f-b7929af23c53 button.colab-df-convert');\n",
              "        buttonEl.style.display =\n",
              "          google.colab.kernel.accessAllowed ? 'block' : 'none';\n",
              "\n",
              "        async function convertToInteractive(key) {\n",
              "          const element = document.querySelector('#df-f7d727d7-063d-47da-a95f-b7929af23c53');\n",
              "          const dataTable =\n",
              "            await google.colab.kernel.invokeFunction('convertToInteractive',\n",
              "                                                     [key], {});\n",
              "          if (!dataTable) return;\n",
              "\n",
              "          const docLinkHtml = 'Like what you see? Visit the ' +\n",
              "            '<a target=\"_blank\" href=https://colab.research.google.com/notebooks/data_table.ipynb>data table notebook</a>'\n",
              "            + ' to learn more about interactive tables.';\n",
              "          element.innerHTML = '';\n",
              "          dataTable['output_type'] = 'display_data';\n",
              "          await google.colab.output.renderOutput(dataTable, element);\n",
              "          const docLink = document.createElement('div');\n",
              "          docLink.innerHTML = docLinkHtml;\n",
              "          element.appendChild(docLink);\n",
              "        }\n",
              "      </script>\n",
              "    </div>\n",
              "  </div>\n",
              "  "
            ],
            "text/plain": [
              "             cafe_name_1   cafe_name_2    cafe_name_3     cafe_name_4  \\\n",
              "969  Frank & Dean Coffee  Cafe de Lipa  UCC Clockwork  Coffee Project   \n",
              "\n",
              "                                              geometry  \\\n",
              "969  POLYGON ((121.04300 14.55521, 121.05552 14.550...   \n",
              "\n",
              "     polygon_perimeter_in_meters  \n",
              "969                  5442.470451  "
            ]
          },
          "metadata": {},
          "execution_count": 28
        }
      ]
    },
    {
      "cell_type": "code",
      "source": [
        "get_map(THE_GLOBE_TOWER_COORDS, gdf_points, gdf_polygons)"
      ],
      "metadata": {
        "id": "9MPdfTUUiyaW",
        "colab": {
          "base_uri": "https://localhost:8080/",
          "height": 621,
          "referenced_widgets": [
            "fec4205bdc8a4d788916687b28a426bc",
            "83c9eeb6b54e4b4da08af17ac713a09c",
            "bcaff87b4d4747f486ea9254e5d4f0f2",
            "1bde5463889c48ee84cf48d55c5d3633",
            "48e951b7d1a74724b3122557b292efc4",
            "7b6a2d16686c49f08b29d7faffb32be8",
            "c230a9abbb6440a5987989c439b590c9",
            "d621478a008b4b6f9a7775e42b006a92",
            "405b6f3c486f40c7980d6c9232398fba",
            "20a2d5d37ef443998b18fa99963f1ffd",
            "644943d24d2f4cdab54865d8b20f87e7",
            "107fa0042bd24d35842a4b87ca2e8799",
            "ecc98ea839c34e469f78829a5e996bee",
            "a94e0767423641b9a5959c47c43ab72f",
            "325b072df7d34b0abf9ad63c9e156fb5",
            "9480085196de46e692bde564055ca9ca",
            "cf78bf7cd0d94825a00fa6e03d3489b2",
            "f741d27b16aa4822967fb758a8a730e9",
            "b5e1cf8242be46dc87d8c28c616504c0",
            "6e651980cb6344a39395023bd568eac5",
            "8629f6282ed84d9e884ac6d5ca57a60a",
            "41878688a574456ea67049060691705a",
            "155a87e356814c43bf91199e7a949a89",
            "8c83a9a1be964578b44f50856fb6a991",
            "f6fd631fc146462aa53ad25b84d01abc",
            "c1b1ce301c1742618a324f9594f06563",
            "5df26b9faa7f4b25893d8d5e05f8e9ee",
            "a96be95b88e34a1daf4edece65e6f197",
            "560abe09d82442c7860e1664363b3e11",
            "945a0ce599ba4cd5bc72189ec341d80e",
            "2a0097e00c6b4f178e537f1419d8f757",
            "fec4205846e8403293312303789abaf7",
            "c4accea10f50437e82a18d713497d959",
            "fdb61d2b9b0147649ce83d2a6c02377f",
            "47d02f2eeabd46c19a20fb7f8531920b",
            "5084b07551794264bbc592692a890f16",
            "fc37eb0d45a242e193538acfda9d4fbe",
            "407a813d114445348784618e5c354061",
            "d39f95ffc1f54b1a89bc0ff6f49e7e58",
            "e31e1d7e37e4417bbfd8cd9d36113a87",
            "c9738833cc0b4a688121586e84b00365",
            "8f0f4a4c4e2f487d9e94a01583f7c229",
            "6796e8d7761f4cabbcc13a115f6da942",
            "5eedaea2e9a247ba8889cc843356b720",
            "5987d04a44c64664bd7a7de93460d636",
            "3acf721ffeea49d29b4a956ce56a5358",
            "890130f7d6a0442eaf5e12dbdae678ee",
            "7d21bbc2556e4589901236cd3274c8c7",
            "6dbd9996f95c49fd876e2e6d52ced4a2",
            "ee811baa74614fd9a9e4fd907407db12",
            "fdf926392e0546dd8d8632302a67ec44",
            "0a92c7ac89244a6c9d3160e74eb2ece4",
            "1883dd0c917c4fbea240554517f24531",
            "89c1662ad87246e4825182a1724218ef",
            "7ca31e03ec88410c8f91b9819ac71631",
            "cee6dc2a568b43cf89ecef0e4ca179f0",
            "6c4f20d60b074ac48af917b7638d3f16",
            "44fad2ff0da943d5bfd3c20d58f3841e",
            "b812054aade9481eb5865ecbf9ae9b0b",
            "e202993333af4c1097cc7304f89b3753",
            "09f690059034403cafd386d3416b9880",
            "3ad7baad6ae44e23ad1fc3105ff23a63",
            "dcf2bbe6ecac43f99d8e55d6ea7b9e37",
            "c7f55e53fa744a4c83a9bd876c6def9e",
            "c6d8510571204dbd8b76813e95a2e78a",
            "a6666512d72840c997d60d768aa67ed1"
          ]
        },
        "outputId": "f9f1a079-7018-42f5-eadd-860a89583a38"
      },
      "execution_count": 29,
      "outputs": [
        {
          "output_type": "display_data",
          "data": {
            "application/vnd.jupyter.widget-view+json": {
              "model_id": "fec4205bdc8a4d788916687b28a426bc",
              "version_minor": 0,
              "version_major": 2
            },
            "text/plain": [
              "Map(center=[14.553474948859346, 121.04989287111896], controls=(ZoomControl(options=['position', 'zoom_in_text'…"
            ]
          },
          "metadata": {
            "application/vnd.jupyter.widget-view+json": {
              "colab": {
                "custom_widget_manager": {
                  "url": "https://ssl.gstatic.com/colaboratory-static/widgets/colab-cdn-widget-manager/a8874ba6619b6106/manager.min.js"
                }
              }
            }
          }
        }
      ]
    },
    {
      "cell_type": "markdown",
      "source": [
        "✋ What about you? Can you help me write a docstring for the get_map function below?"
      ],
      "metadata": {
        "id": "U97bzfxjNeDK"
      }
    },
    {
      "cell_type": "code",
      "source": [
        "# n_choose_k = 20C4 = 4845\n",
        "len(gdf_polygons)"
      ],
      "metadata": {
        "colab": {
          "base_uri": "https://localhost:8080/"
        },
        "id": "UTHgNaZwqdCf",
        "outputId": "1cec628a-8eb0-49fa-aa2b-0eaf47e6d948"
      },
      "execution_count": 30,
      "outputs": [
        {
          "output_type": "execute_result",
          "data": {
            "text/plain": [
              "4845"
            ]
          },
          "metadata": {},
          "execution_count": 30
        }
      ]
    },
    {
      "cell_type": "code",
      "source": [
        "def get_map(reference_point, gdf_points, gdf_polygons):\n",
        "    \"\"\" Get the map generated \n",
        "\n",
        "    Args:\n",
        "        reference_point: variable containing the coordinates for starting position\n",
        "        gdf_points: contains the geographical points from the dataset\n",
        "        gdf_polygons: variable for polygons generated from optimal and least optimal solutions\n",
        "\n",
        "    Returns:\n",
        "        figure: Map showing the different data points and the optimal and least optimal solutions.\n",
        "    \"\"\"\n",
        "\n",
        "\n",
        "    # initialize map, set a reference point for the map\n",
        "    map_select = leafmap.Map(\n",
        "        center=reference_point, \n",
        "        zoom=16, \n",
        "        layers_control=True, \n",
        "        measure_control=False, \n",
        "        attribution_control=False\n",
        "    )\n",
        "    map_select.add_basemap(\"Stamen.TonerLite\")\n",
        "\n",
        "    # add the points and polygons gdf\n",
        "    map_select.add_gdf(gdf_polygons.sort_values(by=\"polygon_perimeter_in_meters\", ascending=True).head(1), layer_name=\"Smallest Geom\", fill_colors=[\"green\"])\n",
        "    map_select.add_gdf(gdf_polygons.sort_values(by=\"polygon_perimeter_in_meters\", ascending=False).head(1), layer_name=\"Biggest Geom\", fill_colors=[\"red\"])\n",
        "    map_select.add_gdf(gdf_points, layer_name=\"Points of Interest\")\n",
        "\n",
        "    return map_select"
      ],
      "metadata": {
        "id": "6Pbah46rNtvK"
      },
      "execution_count": null,
      "outputs": []
    },
    {
      "cell_type": "markdown",
      "source": [
        "**WHAT WE'VE COVERED**\n",
        "- How to write clean variables\n",
        "    - Make use of meaningful and pronounceable variable names, if possible.\n",
        "    - Make your code readable and searchable with the use of constants.\n",
        "    - Make use of explicit variable names, especially in lists.\n",
        "- How to write clean functions\n",
        "    - Write docstrings containing the input/output args and description.\n",
        "    - Break down your functions to accomplish one thing. Don't repeat yourself."
      ],
      "metadata": {
        "id": "ygv8yIf3Nq6g"
      }
    },
    {
      "cell_type": "markdown",
      "source": [
        "## Write Tested Code\n",
        "Just because you've counted all the trees **doesn't mean you've seen the forest.** 🤔"
      ],
      "metadata": {
        "id": "v3xpkyxixmHr"
      }
    },
    {
      "cell_type": "markdown",
      "source": [
        "Basically, you should write tests for your data science projects because it:\n",
        "- allows collaborators to **understand your code better**\n",
        "- confirms that the code is **working as expected**\n",
        "- helps in detecting **edge cases** or scenarios\n"
      ],
      "metadata": {
        "id": "sMJrBurikgeV"
      }
    },
    {
      "cell_type": "markdown",
      "source": [
        "Suppose we have this function that identifies the sentiment of an English text. 🧐"
      ],
      "metadata": {
        "id": "1lgSZEZMcrc8"
      }
    },
    {
      "cell_type": "code",
      "source": [
        "from textblob import TextBlob\n",
        "\n",
        "def extract_sentiment(text: str):\n",
        "    \"\"\"Extract text sentiments using textblob library\n",
        "    Args:\n",
        "        text (str): English text\n",
        "    Returns:\n",
        "        float: Polarity of the sentiment ranging from -1 to 1\n",
        "    \"\"\"\n",
        "\n",
        "    text = TextBlob(text)\n",
        "    sentiment = text.sentiment.polarity\n",
        "    \n",
        "    return sentiment"
      ],
      "metadata": {
        "id": "z5XGMyO1cpAd"
      },
      "execution_count": 31,
      "outputs": []
    },
    {
      "cell_type": "markdown",
      "source": [
        "Since we will be using this library for the first time, we don't know how it reacts to different scenarios. We want to make sure that this tool or model is reliable, so **we will be testing it against multiple text inputs**, from the obvious scenarios to the rare ones or the edge cases."
      ],
      "metadata": {
        "id": "VTk--yB7cl2c"
      }
    },
    {
      "cell_type": "code",
      "source": [
        "extract_sentiment(\"The weather is beautiful today!\")"
      ],
      "metadata": {
        "id": "ir5Y-FiweHbG",
        "colab": {
          "base_uri": "https://localhost:8080/"
        },
        "outputId": "196ce9a8-1304-4111-f33a-6fc8414da0bf"
      },
      "execution_count": 32,
      "outputs": [
        {
          "output_type": "execute_result",
          "data": {
            "text/plain": [
              "1.0"
            ]
          },
          "metadata": {},
          "execution_count": 32
        }
      ]
    },
    {
      "cell_type": "code",
      "source": [
        "extract_sentiment(\"I had a bad meeting yesterday.\")"
      ],
      "metadata": {
        "id": "H7hHdcEUemh0",
        "colab": {
          "base_uri": "https://localhost:8080/"
        },
        "outputId": "59067467-5738-4a1c-d820-b3085b9bf437"
      },
      "execution_count": 33,
      "outputs": [
        {
          "output_type": "execute_result",
          "data": {
            "text/plain": [
              "-0.6999999999999998"
            ]
          },
          "metadata": {},
          "execution_count": 33
        }
      ]
    },
    {
      "cell_type": "markdown",
      "source": [
        "✋ What about you? Check out how TextBlob performs using your own sentiment for what you feel today."
      ],
      "metadata": {
        "id": "jnrxaZ74OWwg"
      }
    },
    {
      "cell_type": "code",
      "source": [
        "extract_sentiment(\"Thank God, it's Friday.\")"
      ],
      "metadata": {
        "id": "DnFNDOrPOXmf",
        "colab": {
          "base_uri": "https://localhost:8080/"
        },
        "outputId": "66b6c16d-8c1c-43f0-83ca-2869803b806b"
      },
      "execution_count": 34,
      "outputs": [
        {
          "output_type": "execute_result",
          "data": {
            "text/plain": [
              "0.0"
            ]
          },
          "metadata": {},
          "execution_count": 34
        }
      ]
    },
    {
      "cell_type": "code",
      "source": [
        "extract_sentiment(\"I love fridays.\")"
      ],
      "metadata": {
        "colab": {
          "base_uri": "https://localhost:8080/"
        },
        "id": "QgRTNy5YtawY",
        "outputId": "720bd006-65ad-413a-cc20-42c02014ad26"
      },
      "execution_count": 35,
      "outputs": [
        {
          "output_type": "execute_result",
          "data": {
            "text/plain": [
              "0.5"
            ]
          },
          "metadata": {},
          "execution_count": 35
        }
      ]
    },
    {
      "cell_type": "code",
      "source": [
        "extract_sentiment(\"It went well!\")"
      ],
      "metadata": {
        "colab": {
          "base_uri": "https://localhost:8080/"
        },
        "id": "d74x1cd2tbxY",
        "outputId": "812399ec-4dcf-431f-fe1c-c61fa58546bf"
      },
      "execution_count": 36,
      "outputs": [
        {
          "output_type": "execute_result",
          "data": {
            "text/plain": [
              "0.0"
            ]
          },
          "metadata": {},
          "execution_count": 36
        }
      ]
    },
    {
      "cell_type": "markdown",
      "source": [
        "We want to be able to do this kind of testing next time, but it is better to do it in a modular kind of way. So we will be using *pytest* - it is a **framework that makes it easy to write small, readable tests**, and can scale to support complex functional testing for applications and libraries."
      ],
      "metadata": {
        "id": "VJr0dI6mfCBe"
      }
    },
    {
      "cell_type": "code",
      "source": [
        "mkdir src"
      ],
      "metadata": {
        "id": "ERe2nogTOmWr"
      },
      "execution_count": 37,
      "outputs": []
    },
    {
      "cell_type": "code",
      "source": [
        "mkdir tests"
      ],
      "metadata": {
        "id": "GPFjI1csOni_"
      },
      "execution_count": 38,
      "outputs": []
    },
    {
      "cell_type": "code",
      "source": [
        "ls"
      ],
      "metadata": {
        "id": "6Ro89KrWis26",
        "colab": {
          "base_uri": "https://localhost:8080/"
        },
        "outputId": "dd827407-094d-4486-e29c-0ee9c4086022"
      },
      "execution_count": 39,
      "outputs": [
        {
          "output_type": "stream",
          "name": "stdout",
          "text": [
            "\u001b[0m\u001b[01;34mdata\u001b[0m/  \u001b[01;34msample_data\u001b[0m/  \u001b[01;34msrc\u001b[0m/  \u001b[01;34mtests\u001b[0m/\n"
          ]
        }
      ]
    },
    {
      "cell_type": "code",
      "source": [
        "ls src"
      ],
      "metadata": {
        "id": "aKuvEsIjt2En"
      },
      "execution_count": 40,
      "outputs": []
    },
    {
      "cell_type": "code",
      "source": [
        "%%file src/sentiment.py\n",
        "\n",
        "from textblob import TextBlob\n",
        "\n",
        "def extract_sentiment(text: str):\n",
        "    \"\"\"Extract text sentiments using textblob library\n",
        "    Args:\n",
        "        text (str): English text\n",
        "    Returns:\n",
        "        float: Polarity of the sentiment ranging from -1 to 1\n",
        "    \"\"\"\n",
        "\n",
        "    text = TextBlob(text)\n",
        "    sentiment = text.sentiment.polarity\n",
        "    \n",
        "    return sentiment"
      ],
      "metadata": {
        "id": "zkWnkUx1r9Qw",
        "colab": {
          "base_uri": "https://localhost:8080/"
        },
        "outputId": "4f4d4ce3-0809-4359-e34e-ef32888c8533"
      },
      "execution_count": 41,
      "outputs": [
        {
          "output_type": "stream",
          "name": "stdout",
          "text": [
            "Writing src/sentiment.py\n"
          ]
        }
      ]
    },
    {
      "cell_type": "code",
      "source": [
        "ls src"
      ],
      "metadata": {
        "colab": {
          "base_uri": "https://localhost:8080/"
        },
        "id": "WF53tBaIt4iu",
        "outputId": "c8831542-1d2e-4829-e53b-fff1308cac9c"
      },
      "execution_count": 42,
      "outputs": [
        {
          "output_type": "stream",
          "name": "stdout",
          "text": [
            "sentiment.py\n"
          ]
        }
      ]
    },
    {
      "cell_type": "code",
      "source": [
        "%%file tests/test_sentiment.py\n",
        "\n",
        "import sys\n",
        "import os.path\n",
        "sys.path.append(\n",
        "    os.path.abspath(os.path.join(os.path.dirname(__file__), os.path.pardir))\n",
        ")\n",
        "from src.sentiment import extract_sentiment\n",
        "\n",
        "def test_extract_sentiment_positive():\n",
        "\n",
        "    text = \"I did well on the exam last week.\"\n",
        "    sentiment = extract_sentiment(text)\n",
        "\n",
        "    assert sentiment > 0\n",
        "\n",
        "def test_extract_sentiment_negative():\n",
        "\n",
        "    text = \"This workshop is pretty basic and boring!\"\n",
        "    sentiment = extract_sentiment(text)\n",
        "\n",
        "    assert sentiment < 0\n",
        "\n",
        "def test_extract_sentiment_neutral():\n",
        "\n",
        "    text = \"...\"\n",
        "    sentiment = extract_sentiment(text)\n",
        "\n",
        "    assert sentiment == 0\n",
        "\n",
        "def test_extract_sentiment_filipino():\n",
        "\n",
        "    text = \"Nakakaengganyo pakinggan ang guro namin sa workshop\"\n",
        "    sentiment = extract_sentiment(text)\n",
        "\n",
        "    assert sentiment > 0"
      ],
      "metadata": {
        "id": "mAV7BUsXr1YD",
        "colab": {
          "base_uri": "https://localhost:8080/"
        },
        "outputId": "6103f90c-661a-4789-a6be-5e5a9174796e"
      },
      "execution_count": 43,
      "outputs": [
        {
          "output_type": "stream",
          "name": "stdout",
          "text": [
            "Writing tests/test_sentiment.py\n"
          ]
        }
      ]
    },
    {
      "cell_type": "markdown",
      "source": [
        "We will be calling the *pytest* from the terminal. This will loop through our script and run the functions that have a prefix of **test**. 🤯"
      ],
      "metadata": {
        "id": "1DnTBzB7korp"
      }
    },
    {
      "cell_type": "code",
      "source": [
        "!python3 -m pytest -vv tests/test_sentiment.py"
      ],
      "metadata": {
        "id": "uEUhTcrhr6UH",
        "colab": {
          "base_uri": "https://localhost:8080/"
        },
        "outputId": "4c52f74b-d7da-4286-8165-3e92ba2af84b"
      },
      "execution_count": 44,
      "outputs": [
        {
          "output_type": "stream",
          "name": "stdout",
          "text": [
            "\u001b[1mTest session starts (platform: linux, Python 3.7.12, pytest 3.6.4, pytest-sugar 0.9.4)\u001b[0m\n",
            "cachedir: .pytest_cache\n",
            "rootdir: /content, inifile:\n",
            "plugins: typeguard-2.7.1, sugar-0.9.4, anyio-3.5.0\n",
            "\n",
            "\n",
            "――――――――――――――――――――――― test_extract_sentiment_positive ――――――――――――――――――――――――\n",
            "\n",
            "\u001b[1m    def test_extract_sentiment_positive():\u001b[0m\n",
            "\u001b[1m    \u001b[0m\n",
            "\u001b[1m        text = \"I did well on the exam last week.\"\u001b[0m\n",
            "\u001b[1m        sentiment = extract_sentiment(text)\u001b[0m\n",
            "\u001b[1m    \u001b[0m\n",
            "\u001b[1m>       assert sentiment > 0\u001b[0m\n",
            "\u001b[1m\u001b[31mE       assert 0.0 > 0\u001b[0m\n",
            "\n",
            "\u001b[1m\u001b[31mtests/test_sentiment.py\u001b[0m:14: AssertionError\n",
            "\n",
            " \u001b[36mtests/test_sentiment.py\u001b[0m::test_extract_sentiment_positive\u001b[0m \u001b[31m⨯\u001b[0m       \u001b[31m25% \u001b[0m\u001b[40m\u001b[31m█\u001b[0m\u001b[40m\u001b[31m█▌       \u001b[0m\n",
            " \u001b[36mtests/test_sentiment.py\u001b[0m::test_extract_sentiment_negative\u001b[0m \u001b[32m✓\u001b[0m       \u001b[31m50% \u001b[0m\u001b[40m\u001b[31m█\u001b[0m\u001b[40m\u001b[31m█\u001b[0m\u001b[40m\u001b[32m█\u001b[0m\u001b[40m\u001b[32m██     \u001b[0m\n",
            " \u001b[36mtests/test_sentiment.py\u001b[0m::test_extract_sentiment_neutral\u001b[0m \u001b[32m✓\u001b[0m        \u001b[31m75% \u001b[0m\u001b[40m\u001b[31m█\u001b[0m\u001b[40m\u001b[31m█\u001b[0m\u001b[40m\u001b[32m█\u001b[0m\u001b[40m\u001b[32m██\u001b[0m\u001b[40m\u001b[32m█\u001b[0m\u001b[40m\u001b[32m█▌  \u001b[0m\n",
            "\n",
            "――――――――――――――――――――――― test_extract_sentiment_filipino ――――――――――――――――――――――――\n",
            "\n",
            "\u001b[1m    def test_extract_sentiment_filipino():\u001b[0m\n",
            "\u001b[1m    \u001b[0m\n",
            "\u001b[1m        text = \"Nakakaengganyo pakinggan ang guro namin sa workshop\"\u001b[0m\n",
            "\u001b[1m        sentiment = extract_sentiment(text)\u001b[0m\n",
            "\u001b[1m    \u001b[0m\n",
            "\u001b[1m>       assert sentiment > 0\u001b[0m\n",
            "\u001b[1m\u001b[31mE       assert 0.0 > 0\u001b[0m\n",
            "\n",
            "\u001b[1m\u001b[31mtests/test_sentiment.py\u001b[0m:35: AssertionError\n",
            "\n",
            " \u001b[36mtests/test_sentiment.py\u001b[0m::test_extract_sentiment_filipino\u001b[0m \u001b[31m⨯\u001b[0m      \u001b[31m100% \u001b[0m\u001b[40m\u001b[31m█\u001b[0m\u001b[40m\u001b[31m█\u001b[0m\u001b[40m\u001b[32m█\u001b[0m\u001b[40m\u001b[32m██\u001b[0m\u001b[40m\u001b[32m█\u001b[0m\u001b[40m\u001b[32m█\u001b[0m\u001b[40m\u001b[31m█\u001b[0m\u001b[40m\u001b[31m██\u001b[0m\n",
            "\n",
            "Results (0.97s):\n",
            "\u001b[32m       2 passed\u001b[0m\n",
            "\u001b[31m       2 failed\u001b[0m\n",
            "         - \u001b[36mtests\u001b[0m/test_sentiment.py\u001b[0m:9 \u001b[31mtest_extract_sentiment_positive\u001b[0m\n",
            "         - \u001b[36mtests\u001b[0m/test_sentiment.py\u001b[0m:30 \u001b[31mtest_extract_sentiment_filipino\u001b[0m\n"
          ]
        }
      ]
    },
    {
      "cell_type": "markdown",
      "source": [
        "✋ What about you? Update the tests/test_sentiment.py and run your own test."
      ],
      "metadata": {
        "id": "Iyr5tAGkO5Iu"
      }
    },
    {
      "cell_type": "code",
      "source": [
        "%%file tests/test_sentiment.py\n",
        "\n",
        "import sys\n",
        "import os.path\n",
        "sys.path.append(\n",
        "    os.path.abspath(os.path.join(os.path.dirname(__file__), os.path.pardir))\n",
        ")\n",
        "from src.sentiment import extract_sentiment\n",
        "\n",
        "# YOUR CODE GOES HERE\n",
        "\n",
        "def test_extract_sentiment_dessert():\n",
        " \n",
        "    text = \"I love eating cakes but I don't like baking them.\"\n",
        "    sentiment = extract_sentiment(text)\n",
        " \n",
        "    assert sentiment > 0\n",
        "\n",
        "def test_extract_sentiment_slang_positive():\n",
        "    text = \"Slay!\"\n",
        "    sentiment = extract_sentiment(text)\n",
        "\n",
        "    assert sentiment > 0\n",
        "\n",
        "def test_extract_sentiment_slang_negative():\n",
        "    text = \"Cancel them\"\n",
        "    sentiment = extract_sentiment(text)\n",
        "\n",
        "    assert sentiment < 0\n",
        "\n",
        "def test_sample():\n",
        "\n",
        "    text = \"yay!\"\n",
        "    sentiment = extract_sentiment(text)\n",
        "\n",
        "    assert sentiment > 0"
      ],
      "metadata": {
        "id": "RRPgTaECPBYf",
        "colab": {
          "base_uri": "https://localhost:8080/"
        },
        "outputId": "1bb7a142-95cb-43ce-bb88-ce9058522ee1"
      },
      "execution_count": 45,
      "outputs": [
        {
          "output_type": "stream",
          "name": "stdout",
          "text": [
            "Overwriting tests/test_sentiment.py\n"
          ]
        }
      ]
    },
    {
      "cell_type": "code",
      "source": [
        "!python3 -m pytest -vv tests/test_sentiment.py"
      ],
      "metadata": {
        "id": "29-jtthxPUjC",
        "colab": {
          "base_uri": "https://localhost:8080/"
        },
        "outputId": "fda70f96-59ed-401c-e59f-79e11a1bf267"
      },
      "execution_count": 46,
      "outputs": [
        {
          "output_type": "stream",
          "name": "stdout",
          "text": [
            "\u001b[1mTest session starts (platform: linux, Python 3.7.12, pytest 3.6.4, pytest-sugar 0.9.4)\u001b[0m\n",
            "cachedir: .pytest_cache\n",
            "rootdir: /content, inifile:\n",
            "plugins: typeguard-2.7.1, sugar-0.9.4, anyio-3.5.0\n",
            "\n",
            " \u001b[36mtests/test_sentiment.py\u001b[0m::test_extract_sentiment_dessert\u001b[0m \u001b[32m✓\u001b[0m        \u001b[32m25% \u001b[0m\u001b[40m\u001b[32m█\u001b[0m\u001b[40m\u001b[32m█▌       \u001b[0m\n",
            "\n",
            "―――――――――――――――――――― test_extract_sentiment_slang_positive ―――――――――――――――――――――\n",
            "\n",
            "\u001b[1m    def test_extract_sentiment_slang_positive():\u001b[0m\n",
            "\u001b[1m        text = \"Slay!\"\u001b[0m\n",
            "\u001b[1m        sentiment = extract_sentiment(text)\u001b[0m\n",
            "\u001b[1m    \u001b[0m\n",
            "\u001b[1m>       assert sentiment > 0\u001b[0m\n",
            "\u001b[1m\u001b[31mE       assert 0.0 > 0\u001b[0m\n",
            "\n",
            "\u001b[1m\u001b[31mtests/test_sentiment.py\u001b[0m:22: AssertionError\n",
            "\n",
            " \u001b[36mtests/test_sentiment.py\u001b[0m::test_extract_sentiment_slang_positive\u001b[0m \u001b[31m⨯\u001b[0m \u001b[31m50% \u001b[0m\u001b[40m\u001b[32m█\u001b[0m\u001b[40m\u001b[32m█\u001b[0m\u001b[40m\u001b[31m█\u001b[0m\u001b[40m\u001b[31m██     \u001b[0m\n",
            "\n",
            "―――――――――――――――――――― test_extract_sentiment_slang_negative ―――――――――――――――――――――\n",
            "\n",
            "\u001b[1m    def test_extract_sentiment_slang_negative():\u001b[0m\n",
            "\u001b[1m        text = \"Cancel them\"\u001b[0m\n",
            "\u001b[1m        sentiment = extract_sentiment(text)\u001b[0m\n",
            "\u001b[1m    \u001b[0m\n",
            "\u001b[1m>       assert sentiment < 0\u001b[0m\n",
            "\u001b[1m\u001b[31mE       assert 0.0 < 0\u001b[0m\n",
            "\n",
            "\u001b[1m\u001b[31mtests/test_sentiment.py\u001b[0m:28: AssertionError\n",
            "\n",
            " \u001b[36mtests/test_sentiment.py\u001b[0m::test_extract_sentiment_slang_negative\u001b[0m \u001b[31m⨯\u001b[0m \u001b[31m75% \u001b[0m\u001b[40m\u001b[32m█\u001b[0m\u001b[40m\u001b[32m█\u001b[0m\u001b[40m\u001b[31m█\u001b[0m\u001b[40m\u001b[31m██\u001b[0m\u001b[40m\u001b[31m█\u001b[0m\u001b[40m\u001b[31m█▌  \u001b[0m\n",
            "\n",
            "――――――――――――――――――――――――――――――――― test_sample ――――――――――――――――――――――――――――――――――\n",
            "\n",
            "\u001b[1m    def test_sample():\u001b[0m\n",
            "\u001b[1m    \u001b[0m\n",
            "\u001b[1m        text = \"yay!\"\u001b[0m\n",
            "\u001b[1m        sentiment = extract_sentiment(text)\u001b[0m\n",
            "\u001b[1m    \u001b[0m\n",
            "\u001b[1m>       assert sentiment > 0\u001b[0m\n",
            "\u001b[1m\u001b[31mE       assert 0.0 > 0\u001b[0m\n",
            "\n",
            "\u001b[1m\u001b[31mtests/test_sentiment.py\u001b[0m:35: AssertionError\n",
            "\n",
            " \u001b[36mtests/test_sentiment.py\u001b[0m::test_sample\u001b[0m \u001b[31m⨯\u001b[0m                          \u001b[31m100% \u001b[0m\u001b[40m\u001b[32m█\u001b[0m\u001b[40m\u001b[32m█\u001b[0m\u001b[40m\u001b[31m█\u001b[0m\u001b[40m\u001b[31m██\u001b[0m\u001b[40m\u001b[31m█\u001b[0m\u001b[40m\u001b[31m█\u001b[0m\u001b[40m\u001b[31m█\u001b[0m\u001b[40m\u001b[31m██\u001b[0m\n",
            "\n",
            "Results (0.94s):\n",
            "\u001b[32m       1 passed\u001b[0m\n",
            "\u001b[31m       3 failed\u001b[0m\n",
            "         - \u001b[36mtests\u001b[0m/test_sentiment.py\u001b[0m:18 \u001b[31mtest_extract_sentiment_slang_positive\u001b[0m\n",
            "         - \u001b[36mtests\u001b[0m/test_sentiment.py\u001b[0m:24 \u001b[31mtest_extract_sentiment_slang_negative\u001b[0m\n",
            "         - \u001b[36mtests\u001b[0m/test_sentiment.py\u001b[0m:30 \u001b[31mtest_sample\u001b[0m\n"
          ]
        }
      ]
    },
    {
      "cell_type": "markdown",
      "source": [
        "From the pytest output shown, we can see the scenarios where the function fails (e.g. the positive and filipino test inputs) and succeeds. From this exercise, **we are not only able to know whether our function works as expected but also know why it doesn’t work.** Based on result of the positive test input, we know that this sentiment identifier model from textblob isn't correct all the time. As the developer, we can now make an informed decision on what to do next. This shows the value of testing your work before using it in production. 🤩"
      ],
      "metadata": {
        "id": "YngkEcwzujbA"
      }
    },
    {
      "cell_type": "markdown",
      "source": [
        "We can also test multiple inputs using ```pytest.mark.parametrize```"
      ],
      "metadata": {
        "id": "xt55hHiys22h"
      }
    },
    {
      "cell_type": "code",
      "source": [
        "%%file tests/test_sentiment.py\n",
        "\n",
        "import sys\n",
        "import os.path\n",
        "sys.path.append(\n",
        "    os.path.abspath(os.path.join(os.path.dirname(__file__), os.path.pardir))\n",
        ")\n",
        "import pytest\n",
        "from src.sentiment import extract_sentiment\n",
        "\n",
        "test_inputs_positive = [\n",
        "    \"I am blessed with a wonderful family.\",\n",
        "    \"I am thankful for my company.\",\n",
        "    \"I am grateful for my friends.\"\n",
        "]\n",
        "\n",
        "test_inputs_negative = [\n",
        "    \"I feel bad for leaving the party early last night.\",\n",
        "    \"I am still disappointed from my performance last week.\",\n",
        "    \"I am too sick to travel tomorrow.\"\n",
        "]\n",
        "\n",
        "@pytest.mark.parametrize(\"text\", test_inputs_positive)\n",
        "def test_extract_sentiment_positive(text):\n",
        "\n",
        "    sentiment = extract_sentiment(text)\n",
        "\n",
        "    assert sentiment > 0\n",
        "\n",
        "@pytest.mark.parametrize(\"text\", test_inputs_negative)\n",
        "def test_extract_sentiment_negative(text):\n",
        "\n",
        "    sentiment = extract_sentiment(text)\n",
        "\n",
        "    assert sentiment < 0"
      ],
      "metadata": {
        "id": "jLsCtJHhsfBK",
        "colab": {
          "base_uri": "https://localhost:8080/"
        },
        "outputId": "0e64c316-84b1-4753-e0a4-9f117876dd98"
      },
      "execution_count": 47,
      "outputs": [
        {
          "output_type": "stream",
          "name": "stdout",
          "text": [
            "Overwriting tests/test_sentiment.py\n"
          ]
        }
      ]
    },
    {
      "cell_type": "code",
      "source": [
        "!python3 -m pytest -vv tests/test_sentiment.py"
      ],
      "metadata": {
        "id": "k4X8LXg9yYi8",
        "colab": {
          "base_uri": "https://localhost:8080/"
        },
        "outputId": "f71d879f-a156-4790-bbd1-2616ecb7a2c3"
      },
      "execution_count": 48,
      "outputs": [
        {
          "output_type": "stream",
          "name": "stdout",
          "text": [
            "\u001b[1mTest session starts (platform: linux, Python 3.7.12, pytest 3.6.4, pytest-sugar 0.9.4)\u001b[0m\n",
            "cachedir: .pytest_cache\n",
            "rootdir: /content, inifile:\n",
            "plugins: typeguard-2.7.1, sugar-0.9.4, anyio-3.5.0\n",
            "\n",
            " \u001b[36mtests/test_sentiment.py\u001b[0m::test_extract_sentiment_positive[I am blessed with a wonderful family.]\u001b[0m \u001b[32m✓\u001b[0m\u001b[32m17% \u001b[0m\u001b[40m\u001b[32m█\u001b[0m\u001b[40m\u001b[32m▋        \u001b[0m\n",
            "\n",
            "―――――――― test_extract_sentiment_positive[I am thankful for my company.] ――――――――\n",
            "\n",
            "text = 'I am thankful for my company.'\n",
            "\n",
            "\u001b[1m    @pytest.mark.parametrize(\"text\", test_inputs_positive)\u001b[0m\n",
            "\u001b[1m    def test_extract_sentiment_positive(text):\u001b[0m\n",
            "\u001b[1m    \u001b[0m\n",
            "\u001b[1m        sentiment = extract_sentiment(text)\u001b[0m\n",
            "\u001b[1m    \u001b[0m\n",
            "\u001b[1m>       assert sentiment > 0\u001b[0m\n",
            "\u001b[1m\u001b[31mE       assert 0.0 > 0\u001b[0m\n",
            "\n",
            "\u001b[1m\u001b[31mtests/test_sentiment.py\u001b[0m:27: AssertionError\n",
            "\n",
            " \u001b[36mtests/test_sentiment.py\u001b[0m::test_extract_sentiment_positive[I am thankful for my company.]\u001b[0m \u001b[31m⨯\u001b[0m\u001b[31m33% \u001b[0m\u001b[40m\u001b[32m█\u001b[0m\u001b[40m\u001b[31m█\u001b[0m\u001b[40m\u001b[31m█▍      \u001b[0m\n",
            "\n",
            "―――――――― test_extract_sentiment_positive[I am grateful for my friends.] ――――――――\n",
            "\n",
            "text = 'I am grateful for my friends.'\n",
            "\n",
            "\u001b[1m    @pytest.mark.parametrize(\"text\", test_inputs_positive)\u001b[0m\n",
            "\u001b[1m    def test_extract_sentiment_positive(text):\u001b[0m\n",
            "\u001b[1m    \u001b[0m\n",
            "\u001b[1m        sentiment = extract_sentiment(text)\u001b[0m\n",
            "\u001b[1m    \u001b[0m\n",
            "\u001b[1m>       assert sentiment > 0\u001b[0m\n",
            "\u001b[1m\u001b[31mE       assert 0.0 > 0\u001b[0m\n",
            "\n",
            "\u001b[1m\u001b[31mtests/test_sentiment.py\u001b[0m:27: AssertionError\n",
            "\n",
            " \u001b[36mtests/test_sentiment.py\u001b[0m::test_extract_sentiment_positive[I am grateful for my friends.]\u001b[0m \u001b[31m⨯\u001b[0m\u001b[31m50% \u001b[0m\u001b[40m\u001b[32m█\u001b[0m\u001b[40m\u001b[31m█\u001b[0m\u001b[40m\u001b[31m█\u001b[0m\u001b[40m\u001b[31m█\u001b[0m\u001b[40m\u001b[31m█     \u001b[0m\n",
            " \u001b[36mtests/test_sentiment.py\u001b[0m::test_extract_sentiment_negative[I feel bad for leaving the party early last night.]\u001b[0m \u001b[32m✓\u001b[0m\u001b[31m67% \u001b[0m\u001b[40m\u001b[32m█\u001b[0m\u001b[40m\u001b[31m█\u001b[0m\u001b[40m\u001b[31m█\u001b[0m\u001b[40m\u001b[31m█\u001b[0m\u001b[40m\u001b[31m█\u001b[0m\u001b[40m\u001b[32m█\u001b[0m\u001b[40m\u001b[32m▋   \u001b[0m\n",
            " \u001b[36mtests/test_sentiment.py\u001b[0m::test_extract_sentiment_negative[I am still disappointed from my performance last week.]\u001b[0m \u001b[32m✓\u001b[0m\u001b[31m83% \u001b[0m\u001b[40m\u001b[32m█\u001b[0m\u001b[40m\u001b[31m█\u001b[0m\u001b[40m\u001b[31m█\u001b[0m\u001b[40m\u001b[31m█\u001b[0m\u001b[40m\u001b[31m█\u001b[0m\u001b[40m\u001b[32m█\u001b[0m\u001b[40m\u001b[32m█\u001b[0m\u001b[40m\u001b[32m█▍ \u001b[0m\n",
            " \u001b[36mtests/test_sentiment.py\u001b[0m::test_extract_sentiment_negative[I am too sick to travel tomorrow.]\u001b[0m \u001b[32m✓\u001b[0m\u001b[31m100% \u001b[0m\u001b[40m\u001b[32m█\u001b[0m\u001b[40m\u001b[31m█\u001b[0m\u001b[40m\u001b[31m█\u001b[0m\u001b[40m\u001b[31m█\u001b[0m\u001b[40m\u001b[31m█\u001b[0m\u001b[40m\u001b[32m█\u001b[0m\u001b[40m\u001b[32m█\u001b[0m\u001b[40m\u001b[32m█\u001b[0m\u001b[40m\u001b[32m█\u001b[0m\u001b[40m\u001b[32m█\u001b[0m\n",
            "\n",
            "Results (0.95s):\n",
            "\u001b[32m       4 passed\u001b[0m\n",
            "\u001b[31m       2 failed\u001b[0m\n",
            "         - \u001b[36mtests\u001b[0m/test_sentiment.py\u001b[0m:22 \u001b[31mtest_extract_sentiment_positive[I am thankful for my company.]\u001b[0m\n",
            "         - \u001b[36mtests\u001b[0m/test_sentiment.py\u001b[0m:22 \u001b[31mtest_extract_sentiment_positive[I am grateful for my friends.]\u001b[0m\n"
          ]
        }
      ]
    },
    {
      "cell_type": "markdown",
      "source": [
        "There comes a time where the test cases in your script will be lengthy and comprehensive. We can choose to run a specific test function one at a time using this syntax ```pytest file.py::function_name``` 😮"
      ],
      "metadata": {
        "id": "TWEy80e3xhQ4"
      }
    },
    {
      "cell_type": "code",
      "source": [
        "!python3 -m pytest -vv tests/test_sentiment.py::test_extract_sentiment_positive"
      ],
      "metadata": {
        "id": "TEMK0hAkxh-B",
        "colab": {
          "base_uri": "https://localhost:8080/"
        },
        "outputId": "21a2400f-ea58-4c9a-b0c5-f5eaefa85026"
      },
      "execution_count": 49,
      "outputs": [
        {
          "output_type": "stream",
          "name": "stdout",
          "text": [
            "\u001b[1mTest session starts (platform: linux, Python 3.7.12, pytest 3.6.4, pytest-sugar 0.9.4)\u001b[0m\n",
            "cachedir: .pytest_cache\n",
            "rootdir: /content, inifile:\n",
            "plugins: typeguard-2.7.1, sugar-0.9.4, anyio-3.5.0\n",
            "\n",
            " \u001b[36mtests/test_sentiment.py\u001b[0m::test_extract_sentiment_positive[I am blessed with a wonderful family.]\u001b[0m \u001b[32m✓\u001b[0m\u001b[32m33% \u001b[0m\u001b[40m\u001b[32m█\u001b[0m\u001b[40m\u001b[32m██▍      \u001b[0m\n",
            "\n",
            "―――――――― test_extract_sentiment_positive[I am thankful for my company.] ――――――――\n",
            "\n",
            "text = 'I am thankful for my company.'\n",
            "\n",
            "\u001b[1m    @pytest.mark.parametrize(\"text\", test_inputs_positive)\u001b[0m\n",
            "\u001b[1m    def test_extract_sentiment_positive(text):\u001b[0m\n",
            "\u001b[1m    \u001b[0m\n",
            "\u001b[1m        sentiment = extract_sentiment(text)\u001b[0m\n",
            "\u001b[1m    \u001b[0m\n",
            "\u001b[1m>       assert sentiment > 0\u001b[0m\n",
            "\u001b[1m\u001b[31mE       assert 0.0 > 0\u001b[0m\n",
            "\n",
            "\u001b[1m\u001b[31mtests/test_sentiment.py\u001b[0m:27: AssertionError\n",
            "\n",
            " \u001b[36mtests/test_sentiment.py\u001b[0m::test_extract_sentiment_positive[I am thankful for my company.]\u001b[0m \u001b[31m⨯\u001b[0m\u001b[31m67% \u001b[0m\u001b[40m\u001b[32m█\u001b[0m\u001b[40m\u001b[32m██\u001b[0m\u001b[40m\u001b[31m█\u001b[0m\u001b[40m\u001b[31m██▋   \u001b[0m\n",
            "\n",
            "―――――――― test_extract_sentiment_positive[I am grateful for my friends.] ――――――――\n",
            "\n",
            "text = 'I am grateful for my friends.'\n",
            "\n",
            "\u001b[1m    @pytest.mark.parametrize(\"text\", test_inputs_positive)\u001b[0m\n",
            "\u001b[1m    def test_extract_sentiment_positive(text):\u001b[0m\n",
            "\u001b[1m    \u001b[0m\n",
            "\u001b[1m        sentiment = extract_sentiment(text)\u001b[0m\n",
            "\u001b[1m    \u001b[0m\n",
            "\u001b[1m>       assert sentiment > 0\u001b[0m\n",
            "\u001b[1m\u001b[31mE       assert 0.0 > 0\u001b[0m\n",
            "\n",
            "\u001b[1m\u001b[31mtests/test_sentiment.py\u001b[0m:27: AssertionError\n",
            "\n",
            " \u001b[36mtests/test_sentiment.py\u001b[0m::test_extract_sentiment_positive[I am grateful for my friends.]\u001b[0m \u001b[31m⨯\u001b[0m\u001b[31m100% \u001b[0m\u001b[40m\u001b[32m█\u001b[0m\u001b[40m\u001b[32m██\u001b[0m\u001b[40m\u001b[31m█\u001b[0m\u001b[40m\u001b[31m██\u001b[0m\u001b[40m\u001b[31m█\u001b[0m\u001b[40m\u001b[31m███\u001b[0m\n",
            "\n",
            "Results (0.94s):\n",
            "\u001b[32m       1 passed\u001b[0m\n",
            "\u001b[31m       2 failed\u001b[0m\n",
            "         - \u001b[36mtests\u001b[0m/test_sentiment.py\u001b[0m:22 \u001b[31mtest_extract_sentiment_positive[I am thankful for my company.]\u001b[0m\n",
            "         - \u001b[36mtests\u001b[0m/test_sentiment.py\u001b[0m:22 \u001b[31mtest_extract_sentiment_positive[I am grateful for my friends.]\u001b[0m\n"
          ]
        }
      ]
    },
    {
      "cell_type": "markdown",
      "source": [
        "✋ What about you? Run the specific test function for test_extract_sentiment_negative"
      ],
      "metadata": {
        "id": "ByWE2AB5Pf4O"
      }
    },
    {
      "cell_type": "code",
      "source": [
        "!python3 -m pytest -vv tests/test_sentiment.py::test_extract_sentiment_negative"
      ],
      "metadata": {
        "id": "0G0mEm_APf-x",
        "colab": {
          "base_uri": "https://localhost:8080/"
        },
        "outputId": "24ad24d1-3316-4c89-e36f-33b7bc45592d"
      },
      "execution_count": 50,
      "outputs": [
        {
          "output_type": "stream",
          "name": "stdout",
          "text": [
            "\u001b[1mTest session starts (platform: linux, Python 3.7.12, pytest 3.6.4, pytest-sugar 0.9.4)\u001b[0m\n",
            "cachedir: .pytest_cache\n",
            "rootdir: /content, inifile:\n",
            "plugins: typeguard-2.7.1, sugar-0.9.4, anyio-3.5.0\n",
            "\n",
            " \u001b[36mtests/test_sentiment.py\u001b[0m::test_extract_sentiment_negative[I feel bad for leaving the party early last night.]\u001b[0m \u001b[32m✓\u001b[0m\u001b[32m33% \u001b[0m\u001b[40m\u001b[32m█\u001b[0m\u001b[40m\u001b[32m██▍      \u001b[0m\n",
            " \u001b[36mtests/test_sentiment.py\u001b[0m::test_extract_sentiment_negative[I am still disappointed from my performance last week.]\u001b[0m \u001b[32m✓\u001b[0m\u001b[32m67% \u001b[0m\u001b[40m\u001b[32m█\u001b[0m\u001b[40m\u001b[32m██\u001b[0m\u001b[40m\u001b[32m█\u001b[0m\u001b[40m\u001b[32m██▋   \u001b[0m\n",
            " \u001b[36mtests/test_sentiment.py\u001b[0m::test_extract_sentiment_negative[I am too sick to travel tomorrow.]\u001b[0m \u001b[32m✓\u001b[0m\u001b[32m100% \u001b[0m\u001b[40m\u001b[32m█\u001b[0m\u001b[40m\u001b[32m██\u001b[0m\u001b[40m\u001b[32m█\u001b[0m\u001b[40m\u001b[32m██\u001b[0m\u001b[40m\u001b[32m█\u001b[0m\u001b[40m\u001b[32m███\u001b[0m\n",
            "\n",
            "Results (1.36s):\n",
            "\u001b[32m       3 passed\u001b[0m\n"
          ]
        }
      ]
    },
    {
      "cell_type": "markdown",
      "source": [
        "We can also choose to use the same test input data to different functions using ```pytest.fixture```"
      ],
      "metadata": {
        "id": "d9yl75i4zDuq"
      }
    },
    {
      "cell_type": "code",
      "source": [
        "%%file tests/test_sentiment.py\n",
        "\n",
        "import sys\n",
        "import os.path\n",
        "sys.path.append(\n",
        "    os.path.abspath(os.path.join(os.path.dirname(__file__), os.path.pardir))\n",
        ")\n",
        "import pytest\n",
        "from src.sentiment import extract_sentiment\n",
        "\n",
        "@pytest.fixture\n",
        "def sample_data():\n",
        "    return \"I had mixed feelings about the concert last night.\"\n",
        "\n",
        "def test_extract_sentiment_positive(sample_data):\n",
        "\n",
        "    sentiment = extract_sentiment(sample_data)\n",
        "\n",
        "    assert sentiment > 0\n",
        "\n",
        "def test_extract_sentiment_negative(sample_data):\n",
        "\n",
        "    sentiment = extract_sentiment(sample_data)\n",
        "\n",
        "    assert sentiment < 0\n",
        "\n",
        "def test_extract_sentiment_neutral(sample_data):\n",
        "\n",
        "    sentiment = extract_sentiment(sample_data)\n",
        "\n",
        "    assert sentiment == 0"
      ],
      "metadata": {
        "id": "czPvQBvFxiF5",
        "colab": {
          "base_uri": "https://localhost:8080/"
        },
        "outputId": "92cbaa96-071c-48dc-bf79-2eb491bbcf70"
      },
      "execution_count": 51,
      "outputs": [
        {
          "output_type": "stream",
          "name": "stdout",
          "text": [
            "Overwriting tests/test_sentiment.py\n"
          ]
        }
      ]
    },
    {
      "cell_type": "code",
      "source": [
        "!python3 -m pytest -vv tests/test_sentiment.py"
      ],
      "metadata": {
        "id": "WaZ3e3q9zro9",
        "colab": {
          "base_uri": "https://localhost:8080/"
        },
        "outputId": "96c332c1-39d9-44f5-fefc-6f02d49ce60c"
      },
      "execution_count": 52,
      "outputs": [
        {
          "output_type": "stream",
          "name": "stdout",
          "text": [
            "\u001b[1mTest session starts (platform: linux, Python 3.7.12, pytest 3.6.4, pytest-sugar 0.9.4)\u001b[0m\n",
            "cachedir: .pytest_cache\n",
            "rootdir: /content, inifile:\n",
            "plugins: typeguard-2.7.1, sugar-0.9.4, anyio-3.5.0\n",
            "\n",
            "\n",
            "――――――――――――――――――――――― test_extract_sentiment_positive ――――――――――――――――――――――――\n",
            "\n",
            "sample_data = 'I had mixed feelings about the concert last night.'\n",
            "\n",
            "\u001b[1m    def test_extract_sentiment_positive(sample_data):\u001b[0m\n",
            "\u001b[1m    \u001b[0m\n",
            "\u001b[1m        sentiment = extract_sentiment(sample_data)\u001b[0m\n",
            "\u001b[1m    \u001b[0m\n",
            "\u001b[1m>       assert sentiment > 0\u001b[0m\n",
            "\u001b[1m\u001b[31mE       assert 0.0 > 0\u001b[0m\n",
            "\n",
            "\u001b[1m\u001b[31mtests/test_sentiment.py\u001b[0m:18: AssertionError\n",
            "\n",
            " \u001b[36mtests/test_sentiment.py\u001b[0m::test_extract_sentiment_positive\u001b[0m \u001b[31m⨯\u001b[0m       \u001b[31m33% \u001b[0m\u001b[40m\u001b[31m█\u001b[0m\u001b[40m\u001b[31m██▍      \u001b[0m\n",
            "\n",
            "――――――――――――――――――――――― test_extract_sentiment_negative ――――――――――――――――――――――――\n",
            "\n",
            "sample_data = 'I had mixed feelings about the concert last night.'\n",
            "\n",
            "\u001b[1m    def test_extract_sentiment_negative(sample_data):\u001b[0m\n",
            "\u001b[1m    \u001b[0m\n",
            "\u001b[1m        sentiment = extract_sentiment(sample_data)\u001b[0m\n",
            "\u001b[1m    \u001b[0m\n",
            "\u001b[1m>       assert sentiment < 0\u001b[0m\n",
            "\u001b[1m\u001b[31mE       assert 0.0 < 0\u001b[0m\n",
            "\n",
            "\u001b[1m\u001b[31mtests/test_sentiment.py\u001b[0m:24: AssertionError\n",
            "\n",
            " \u001b[36mtests/test_sentiment.py\u001b[0m::test_extract_sentiment_negative\u001b[0m \u001b[31m⨯\u001b[0m       \u001b[31m67% \u001b[0m\u001b[40m\u001b[31m█\u001b[0m\u001b[40m\u001b[31m██\u001b[0m\u001b[40m\u001b[31m█\u001b[0m\u001b[40m\u001b[31m██▋   \u001b[0m\n",
            " \u001b[36mtests/test_sentiment.py\u001b[0m::test_extract_sentiment_neutral\u001b[0m \u001b[32m✓\u001b[0m       \u001b[31m100% \u001b[0m\u001b[40m\u001b[31m█\u001b[0m\u001b[40m\u001b[31m██\u001b[0m\u001b[40m\u001b[31m█\u001b[0m\u001b[40m\u001b[31m██\u001b[0m\u001b[40m\u001b[32m█\u001b[0m\u001b[40m\u001b[32m███\u001b[0m\n",
            "\n",
            "Results (0.90s):\n",
            "\u001b[32m       1 passed\u001b[0m\n",
            "\u001b[31m       2 failed\u001b[0m\n",
            "         - \u001b[36mtests\u001b[0m/test_sentiment.py\u001b[0m:14 \u001b[31mtest_extract_sentiment_positive\u001b[0m\n",
            "         - \u001b[36mtests\u001b[0m/test_sentiment.py\u001b[0m:20 \u001b[31mtest_extract_sentiment_negative\u001b[0m\n"
          ]
        }
      ]
    },
    {
      "cell_type": "markdown",
      "source": [
        "**WHAT WE'VE COVERED**\n",
        "- How to structure a basic test project\n",
        "- How to use pytest in automating tests\n",
        "    - How to run pytest and understand its results\n",
        "    - How to test multiple inputs using pytest.mark.parametrize\n",
        "    - How to pass common data to different functions using pytest.fixture"
      ],
      "metadata": {
        "id": "Y9K1XW0RMzFn"
      }
    },
    {
      "cell_type": "markdown",
      "source": [
        "## Write Performant Code\n",
        "Efficiency is **doing better** what is already being done. 🤔"
      ],
      "metadata": {
        "id": "EXsx9DB00AYW"
      }
    },
    {
      "cell_type": "markdown",
      "source": [
        "On the following sections, we will be discussing some tips and tricks on **how to better optimize your code in terms of speed and memory utilization using the pandas library.** As developers, it pays off for us to read the official documentation of the packages we frequently use, it enables us to leverage on its strengths and quirks which improves the efficiency of our default processes, and who knows, maybe we'll discover something we can improve on in our future projects that we can share with everyone in the community! 😁"
      ],
      "metadata": {
        "id": "CJ7kci2mSzKl"
      }
    },
    {
      "cell_type": "code",
      "source": [
        "?pd.read_csv"
      ],
      "metadata": {
        "id": "z-F0lkO573uG"
      },
      "execution_count": 117,
      "outputs": []
    },
    {
      "cell_type": "code",
      "source": [
        "import pandas as pd\n",
        "pd.__version__"
      ],
      "metadata": {
        "id": "bqo-ArDMtm7y",
        "colab": {
          "base_uri": "https://localhost:8080/",
          "height": 36
        },
        "outputId": "2c74c211-8851-4c84-9179-365d8632c923"
      },
      "execution_count": 53,
      "outputs": [
        {
          "output_type": "execute_result",
          "data": {
            "application/vnd.google.colaboratory.intrinsic+json": {
              "type": "string"
            },
            "text/plain": [
              "'1.3.5'"
            ]
          },
          "metadata": {},
          "execution_count": 53
        }
      ]
    },
    {
      "cell_type": "markdown",
      "source": [
        "The key data structure in pandas is called a ```DataFrame```. It is a two-dimensional table with rows and columns, which is similar to the tables in relational databases and R's dataframe. **One important thing to know is that pandas is column-major**, which means *consecutive elements in a column are stored next to each other in memory.* Since modern computers process sequential data more efficiently than non sequential data, **if a table is column-major, accessing its columns will be much faster than accessing its rows.** 🤯"
      ],
      "metadata": {
        "id": "pf3a8AJiL398"
      }
    },
    {
      "cell_type": "markdown",
      "source": [
        "To demonstrate this particular quirk of pandas, we will be using the **taxis dataset** that is readily available in the ```seaborn``` package."
      ],
      "metadata": {
        "id": "WtEcd5DMOseL"
      }
    },
    {
      "cell_type": "code",
      "source": [
        "import seaborn as sns\n",
        "sns.get_dataset_names()"
      ],
      "metadata": {
        "id": "T7ItYNlCDrOf",
        "colab": {
          "base_uri": "https://localhost:8080/"
        },
        "outputId": "0e82798e-2344-40c3-ccac-940d23cb1b18"
      },
      "execution_count": 54,
      "outputs": [
        {
          "output_type": "execute_result",
          "data": {
            "text/plain": [
              "['anagrams',\n",
              " 'anscombe',\n",
              " 'attention',\n",
              " 'brain_networks',\n",
              " 'car_crashes',\n",
              " 'diamonds',\n",
              " 'dots',\n",
              " 'exercise',\n",
              " 'flights',\n",
              " 'fmri',\n",
              " 'gammas',\n",
              " 'geyser',\n",
              " 'iris',\n",
              " 'mpg',\n",
              " 'penguins',\n",
              " 'planets',\n",
              " 'taxis',\n",
              " 'tips',\n",
              " 'titanic']"
            ]
          },
          "metadata": {},
          "execution_count": 54
        }
      ]
    },
    {
      "cell_type": "code",
      "source": [
        "df_taxis = sns.load_dataset(\"taxis\")\n",
        "df_taxis.head()"
      ],
      "metadata": {
        "id": "1FFeyJ9HJ83X",
        "colab": {
          "base_uri": "https://localhost:8080/",
          "height": 206
        },
        "outputId": "535c961f-c17e-4b27-e390-412e746e647e"
      },
      "execution_count": 55,
      "outputs": [
        {
          "output_type": "execute_result",
          "data": {
            "text/html": [
              "\n",
              "  <div id=\"df-3ee50775-c3f0-4a8b-bdb1-4331cf672e99\">\n",
              "    <div class=\"colab-df-container\">\n",
              "      <div>\n",
              "<style scoped>\n",
              "    .dataframe tbody tr th:only-of-type {\n",
              "        vertical-align: middle;\n",
              "    }\n",
              "\n",
              "    .dataframe tbody tr th {\n",
              "        vertical-align: top;\n",
              "    }\n",
              "\n",
              "    .dataframe thead th {\n",
              "        text-align: right;\n",
              "    }\n",
              "</style>\n",
              "<table border=\"1\" class=\"dataframe\">\n",
              "  <thead>\n",
              "    <tr style=\"text-align: right;\">\n",
              "      <th></th>\n",
              "      <th>pickup</th>\n",
              "      <th>dropoff</th>\n",
              "      <th>passengers</th>\n",
              "      <th>distance</th>\n",
              "      <th>fare</th>\n",
              "      <th>tip</th>\n",
              "      <th>tolls</th>\n",
              "      <th>total</th>\n",
              "      <th>color</th>\n",
              "      <th>payment</th>\n",
              "      <th>pickup_zone</th>\n",
              "      <th>dropoff_zone</th>\n",
              "      <th>pickup_borough</th>\n",
              "      <th>dropoff_borough</th>\n",
              "    </tr>\n",
              "  </thead>\n",
              "  <tbody>\n",
              "    <tr>\n",
              "      <th>0</th>\n",
              "      <td>2019-03-23 20:21:09</td>\n",
              "      <td>2019-03-23 20:27:24</td>\n",
              "      <td>1</td>\n",
              "      <td>1.60</td>\n",
              "      <td>7.0</td>\n",
              "      <td>2.15</td>\n",
              "      <td>0.0</td>\n",
              "      <td>12.95</td>\n",
              "      <td>yellow</td>\n",
              "      <td>credit card</td>\n",
              "      <td>Lenox Hill West</td>\n",
              "      <td>UN/Turtle Bay South</td>\n",
              "      <td>Manhattan</td>\n",
              "      <td>Manhattan</td>\n",
              "    </tr>\n",
              "    <tr>\n",
              "      <th>1</th>\n",
              "      <td>2019-03-04 16:11:55</td>\n",
              "      <td>2019-03-04 16:19:00</td>\n",
              "      <td>1</td>\n",
              "      <td>0.79</td>\n",
              "      <td>5.0</td>\n",
              "      <td>0.00</td>\n",
              "      <td>0.0</td>\n",
              "      <td>9.30</td>\n",
              "      <td>yellow</td>\n",
              "      <td>cash</td>\n",
              "      <td>Upper West Side South</td>\n",
              "      <td>Upper West Side South</td>\n",
              "      <td>Manhattan</td>\n",
              "      <td>Manhattan</td>\n",
              "    </tr>\n",
              "    <tr>\n",
              "      <th>2</th>\n",
              "      <td>2019-03-27 17:53:01</td>\n",
              "      <td>2019-03-27 18:00:25</td>\n",
              "      <td>1</td>\n",
              "      <td>1.37</td>\n",
              "      <td>7.5</td>\n",
              "      <td>2.36</td>\n",
              "      <td>0.0</td>\n",
              "      <td>14.16</td>\n",
              "      <td>yellow</td>\n",
              "      <td>credit card</td>\n",
              "      <td>Alphabet City</td>\n",
              "      <td>West Village</td>\n",
              "      <td>Manhattan</td>\n",
              "      <td>Manhattan</td>\n",
              "    </tr>\n",
              "    <tr>\n",
              "      <th>3</th>\n",
              "      <td>2019-03-10 01:23:59</td>\n",
              "      <td>2019-03-10 01:49:51</td>\n",
              "      <td>1</td>\n",
              "      <td>7.70</td>\n",
              "      <td>27.0</td>\n",
              "      <td>6.15</td>\n",
              "      <td>0.0</td>\n",
              "      <td>36.95</td>\n",
              "      <td>yellow</td>\n",
              "      <td>credit card</td>\n",
              "      <td>Hudson Sq</td>\n",
              "      <td>Yorkville West</td>\n",
              "      <td>Manhattan</td>\n",
              "      <td>Manhattan</td>\n",
              "    </tr>\n",
              "    <tr>\n",
              "      <th>4</th>\n",
              "      <td>2019-03-30 13:27:42</td>\n",
              "      <td>2019-03-30 13:37:14</td>\n",
              "      <td>3</td>\n",
              "      <td>2.16</td>\n",
              "      <td>9.0</td>\n",
              "      <td>1.10</td>\n",
              "      <td>0.0</td>\n",
              "      <td>13.40</td>\n",
              "      <td>yellow</td>\n",
              "      <td>credit card</td>\n",
              "      <td>Midtown East</td>\n",
              "      <td>Yorkville West</td>\n",
              "      <td>Manhattan</td>\n",
              "      <td>Manhattan</td>\n",
              "    </tr>\n",
              "  </tbody>\n",
              "</table>\n",
              "</div>\n",
              "      <button class=\"colab-df-convert\" onclick=\"convertToInteractive('df-3ee50775-c3f0-4a8b-bdb1-4331cf672e99')\"\n",
              "              title=\"Convert this dataframe to an interactive table.\"\n",
              "              style=\"display:none;\">\n",
              "        \n",
              "  <svg xmlns=\"http://www.w3.org/2000/svg\" height=\"24px\"viewBox=\"0 0 24 24\"\n",
              "       width=\"24px\">\n",
              "    <path d=\"M0 0h24v24H0V0z\" fill=\"none\"/>\n",
              "    <path d=\"M18.56 5.44l.94 2.06.94-2.06 2.06-.94-2.06-.94-.94-2.06-.94 2.06-2.06.94zm-11 1L8.5 8.5l.94-2.06 2.06-.94-2.06-.94L8.5 2.5l-.94 2.06-2.06.94zm10 10l.94 2.06.94-2.06 2.06-.94-2.06-.94-.94-2.06-.94 2.06-2.06.94z\"/><path d=\"M17.41 7.96l-1.37-1.37c-.4-.4-.92-.59-1.43-.59-.52 0-1.04.2-1.43.59L10.3 9.45l-7.72 7.72c-.78.78-.78 2.05 0 2.83L4 21.41c.39.39.9.59 1.41.59.51 0 1.02-.2 1.41-.59l7.78-7.78 2.81-2.81c.8-.78.8-2.07 0-2.86zM5.41 20L4 18.59l7.72-7.72 1.47 1.35L5.41 20z\"/>\n",
              "  </svg>\n",
              "      </button>\n",
              "      \n",
              "  <style>\n",
              "    .colab-df-container {\n",
              "      display:flex;\n",
              "      flex-wrap:wrap;\n",
              "      gap: 12px;\n",
              "    }\n",
              "\n",
              "    .colab-df-convert {\n",
              "      background-color: #E8F0FE;\n",
              "      border: none;\n",
              "      border-radius: 50%;\n",
              "      cursor: pointer;\n",
              "      display: none;\n",
              "      fill: #1967D2;\n",
              "      height: 32px;\n",
              "      padding: 0 0 0 0;\n",
              "      width: 32px;\n",
              "    }\n",
              "\n",
              "    .colab-df-convert:hover {\n",
              "      background-color: #E2EBFA;\n",
              "      box-shadow: 0px 1px 2px rgba(60, 64, 67, 0.3), 0px 1px 3px 1px rgba(60, 64, 67, 0.15);\n",
              "      fill: #174EA6;\n",
              "    }\n",
              "\n",
              "    [theme=dark] .colab-df-convert {\n",
              "      background-color: #3B4455;\n",
              "      fill: #D2E3FC;\n",
              "    }\n",
              "\n",
              "    [theme=dark] .colab-df-convert:hover {\n",
              "      background-color: #434B5C;\n",
              "      box-shadow: 0px 1px 3px 1px rgba(0, 0, 0, 0.15);\n",
              "      filter: drop-shadow(0px 1px 2px rgba(0, 0, 0, 0.3));\n",
              "      fill: #FFFFFF;\n",
              "    }\n",
              "  </style>\n",
              "\n",
              "      <script>\n",
              "        const buttonEl =\n",
              "          document.querySelector('#df-3ee50775-c3f0-4a8b-bdb1-4331cf672e99 button.colab-df-convert');\n",
              "        buttonEl.style.display =\n",
              "          google.colab.kernel.accessAllowed ? 'block' : 'none';\n",
              "\n",
              "        async function convertToInteractive(key) {\n",
              "          const element = document.querySelector('#df-3ee50775-c3f0-4a8b-bdb1-4331cf672e99');\n",
              "          const dataTable =\n",
              "            await google.colab.kernel.invokeFunction('convertToInteractive',\n",
              "                                                     [key], {});\n",
              "          if (!dataTable) return;\n",
              "\n",
              "          const docLinkHtml = 'Like what you see? Visit the ' +\n",
              "            '<a target=\"_blank\" href=https://colab.research.google.com/notebooks/data_table.ipynb>data table notebook</a>'\n",
              "            + ' to learn more about interactive tables.';\n",
              "          element.innerHTML = '';\n",
              "          dataTable['output_type'] = 'display_data';\n",
              "          await google.colab.output.renderOutput(dataTable, element);\n",
              "          const docLink = document.createElement('div');\n",
              "          docLink.innerHTML = docLinkHtml;\n",
              "          element.appendChild(docLink);\n",
              "        }\n",
              "      </script>\n",
              "    </div>\n",
              "  </div>\n",
              "  "
            ],
            "text/plain": [
              "                pickup              dropoff  passengers  distance  fare   tip  \\\n",
              "0  2019-03-23 20:21:09  2019-03-23 20:27:24           1      1.60   7.0  2.15   \n",
              "1  2019-03-04 16:11:55  2019-03-04 16:19:00           1      0.79   5.0  0.00   \n",
              "2  2019-03-27 17:53:01  2019-03-27 18:00:25           1      1.37   7.5  2.36   \n",
              "3  2019-03-10 01:23:59  2019-03-10 01:49:51           1      7.70  27.0  6.15   \n",
              "4  2019-03-30 13:27:42  2019-03-30 13:37:14           3      2.16   9.0  1.10   \n",
              "\n",
              "   tolls  total   color      payment            pickup_zone  \\\n",
              "0    0.0  12.95  yellow  credit card        Lenox Hill West   \n",
              "1    0.0   9.30  yellow         cash  Upper West Side South   \n",
              "2    0.0  14.16  yellow  credit card          Alphabet City   \n",
              "3    0.0  36.95  yellow  credit card              Hudson Sq   \n",
              "4    0.0  13.40  yellow  credit card           Midtown East   \n",
              "\n",
              "            dropoff_zone pickup_borough dropoff_borough  \n",
              "0    UN/Turtle Bay South      Manhattan       Manhattan  \n",
              "1  Upper West Side South      Manhattan       Manhattan  \n",
              "2           West Village      Manhattan       Manhattan  \n",
              "3         Yorkville West      Manhattan       Manhattan  \n",
              "4         Yorkville West      Manhattan       Manhattan  "
            ]
          },
          "metadata": {},
          "execution_count": 55
        }
      ]
    },
    {
      "cell_type": "code",
      "source": [
        "print(len(df_taxis))"
      ],
      "metadata": {
        "id": "QjJV9PuK-Lod",
        "colab": {
          "base_uri": "https://localhost:8080/"
        },
        "outputId": "05601c95-56b1-4d6f-cf28-6471e20b8441"
      },
      "execution_count": 56,
      "outputs": [
        {
          "output_type": "stream",
          "name": "stdout",
          "text": [
            "6433\n"
          ]
        }
      ]
    },
    {
      "cell_type": "markdown",
      "source": [
        "A column in pandas ```DataFrame``` is called a ```Series```. Basically, a ```DataFrame``` is just a collection of ```Series``` stored to next to each other in memory."
      ],
      "metadata": {
        "id": "ISetWs1zP_MS"
      }
    },
    {
      "cell_type": "code",
      "source": [
        "# Fetch the column `pickup`, 1k loops\n",
        "%timeit -n1000 df_taxis[\"pickup\"]"
      ],
      "metadata": {
        "id": "i_e2jsVfJ_al",
        "colab": {
          "base_uri": "https://localhost:8080/"
        },
        "outputId": "ff0a812a-4708-49f5-b360-1a827e9a3999"
      },
      "execution_count": 57,
      "outputs": [
        {
          "output_type": "stream",
          "name": "stdout",
          "text": [
            "1000 loops, best of 5: 1.98 µs per loop\n"
          ]
        }
      ]
    },
    {
      "cell_type": "code",
      "source": [
        "# Fetch the first row, 1k loops\n",
        "%timeit -n1000 df_taxis.iloc[0]"
      ],
      "metadata": {
        "id": "0BkGaIaPKH81",
        "colab": {
          "base_uri": "https://localhost:8080/"
        },
        "outputId": "34c664d2-ba5f-4454-f7f0-1c274cbece8c"
      },
      "execution_count": 58,
      "outputs": [
        {
          "output_type": "stream",
          "name": "stdout",
          "text": [
            "1000 loops, best of 5: 114 µs per loop\n"
          ]
        }
      ]
    },
    {
      "cell_type": "markdown",
      "source": [
        "For the seaborn taxi dataset, **accessing a row takes about 30-50x longer than accessing a column.**"
      ],
      "metadata": {
        "id": "-XucPYGmKPbX"
      }
    },
    {
      "cell_type": "markdown",
      "source": [
        "✋ What about you? Try to time the process of fetching another column in the df_taxis `DataFrame`."
      ],
      "metadata": {
        "id": "GEbNWgyVQV94"
      }
    },
    {
      "cell_type": "code",
      "source": [
        "%timeit -n1000 df_taxis[\"distance\"]"
      ],
      "metadata": {
        "id": "TZa3U2QfQV3W",
        "colab": {
          "base_uri": "https://localhost:8080/"
        },
        "outputId": "1e29a784-c17c-41a1-d215-74d2c7b3a42b"
      },
      "execution_count": 59,
      "outputs": [
        {
          "output_type": "stream",
          "name": "stdout",
          "text": [
            "1000 loops, best of 5: 3.65 µs per loop\n"
          ]
        }
      ]
    },
    {
      "cell_type": "markdown",
      "source": [
        "Now let's look at a simple pandas operation that we can execute in different ways. Say we want to add a column `travel_time` in our `df_taxis` dataframe before that pertains to the **total travel time of the passenger**, we can approach this problem in three different ways.\n",
        "- Iterate over the rows in the `DataFrame` using `.iterrows()`\n",
        "- Use a `lambda` function together with `.apply()` on the `DataFrame`\n",
        "- Use the relevant `Series` and directly perform the operation onto them"
      ],
      "metadata": {
        "id": "fTDGYrPAEynW"
      }
    },
    {
      "cell_type": "code",
      "source": [
        "df_taxis.info()"
      ],
      "metadata": {
        "id": "I_nXRZCsEz2W",
        "colab": {
          "base_uri": "https://localhost:8080/"
        },
        "outputId": "fab1da7f-0191-44c2-bb0d-0c028517e4e6"
      },
      "execution_count": 60,
      "outputs": [
        {
          "output_type": "stream",
          "name": "stdout",
          "text": [
            "<class 'pandas.core.frame.DataFrame'>\n",
            "RangeIndex: 6433 entries, 0 to 6432\n",
            "Data columns (total 14 columns):\n",
            " #   Column           Non-Null Count  Dtype  \n",
            "---  ------           --------------  -----  \n",
            " 0   pickup           6433 non-null   object \n",
            " 1   dropoff          6433 non-null   object \n",
            " 2   passengers       6433 non-null   int64  \n",
            " 3   distance         6433 non-null   float64\n",
            " 4   fare             6433 non-null   float64\n",
            " 5   tip              6433 non-null   float64\n",
            " 6   tolls            6433 non-null   float64\n",
            " 7   total            6433 non-null   float64\n",
            " 8   color            6433 non-null   object \n",
            " 9   payment          6389 non-null   object \n",
            " 10  pickup_zone      6407 non-null   object \n",
            " 11  dropoff_zone     6388 non-null   object \n",
            " 12  pickup_borough   6407 non-null   object \n",
            " 13  dropoff_borough  6388 non-null   object \n",
            "dtypes: float64(5), int64(1), object(8)\n",
            "memory usage: 703.7+ KB\n"
          ]
        }
      ]
    },
    {
      "cell_type": "markdown",
      "source": [
        "Notice from the schema shown above using ```.info()``` that the pickup and dropoff columns were identified as objects by default. We want to cast this to a datetime object in order for us to perform accurate datetime related calculations (e.g. subtraction for the elapsed time)."
      ],
      "metadata": {
        "id": "UApG_fKdEVwU"
      }
    },
    {
      "cell_type": "code",
      "source": [
        "# cast the relevant fields to datetime\n",
        "df_taxis[\"pickup\"] = pd.to_datetime(df_taxis[\"pickup\"])\n",
        "df_taxis[\"dropoff\"] = pd.to_datetime(df_taxis[\"dropoff\"])"
      ],
      "metadata": {
        "id": "3ExzXTLMP1Bq"
      },
      "execution_count": 61,
      "outputs": []
    },
    {
      "cell_type": "code",
      "source": [
        "df_taxis.info()"
      ],
      "metadata": {
        "id": "_BrI6oRIETV-",
        "colab": {
          "base_uri": "https://localhost:8080/"
        },
        "outputId": "b91b3861-e5f8-4a24-8b35-a61f487ec9d5"
      },
      "execution_count": 62,
      "outputs": [
        {
          "output_type": "stream",
          "name": "stdout",
          "text": [
            "<class 'pandas.core.frame.DataFrame'>\n",
            "RangeIndex: 6433 entries, 0 to 6432\n",
            "Data columns (total 14 columns):\n",
            " #   Column           Non-Null Count  Dtype         \n",
            "---  ------           --------------  -----         \n",
            " 0   pickup           6433 non-null   datetime64[ns]\n",
            " 1   dropoff          6433 non-null   datetime64[ns]\n",
            " 2   passengers       6433 non-null   int64         \n",
            " 3   distance         6433 non-null   float64       \n",
            " 4   fare             6433 non-null   float64       \n",
            " 5   tip              6433 non-null   float64       \n",
            " 6   tolls            6433 non-null   float64       \n",
            " 7   total            6433 non-null   float64       \n",
            " 8   color            6433 non-null   object        \n",
            " 9   payment          6389 non-null   object        \n",
            " 10  pickup_zone      6407 non-null   object        \n",
            " 11  dropoff_zone     6388 non-null   object        \n",
            " 12  pickup_borough   6407 non-null   object        \n",
            " 13  dropoff_borough  6388 non-null   object        \n",
            "dtypes: datetime64[ns](2), float64(5), int64(1), object(6)\n",
            "memory usage: 703.7+ KB\n"
          ]
        }
      ]
    },
    {
      "cell_type": "code",
      "source": [
        "# option #1: this is bad\n",
        "def get_travel_time(df_taxis):\n",
        "    travel_time = []\n",
        "    for idx, row in df_taxis.iterrows():\n",
        "        travel_time.append(row.dropoff-row.pickup)\n",
        "    return pd.Series(travel_time)\n",
        "%timeit -n10 df_taxis[\"travel_time_a\"] = get_travel_time(df_taxis)"
      ],
      "metadata": {
        "id": "uwrtctjv0iDn",
        "colab": {
          "base_uri": "https://localhost:8080/"
        },
        "outputId": "f189da87-fc15-4f93-a69e-748a79f6d513"
      },
      "execution_count": 63,
      "outputs": [
        {
          "output_type": "stream",
          "name": "stdout",
          "text": [
            "10 loops, best of 5: 605 ms per loop\n"
          ]
        }
      ]
    },
    {
      "cell_type": "code",
      "source": [
        "# option #2: this is good\n",
        "%timeit -n10 df_taxis[\"travel_time_b\"] = df_taxis.apply(lambda x: x[\"dropoff\"]-x[\"pickup\"], axis=1)"
      ],
      "metadata": {
        "id": "BH_dHLlz26Jq",
        "colab": {
          "base_uri": "https://localhost:8080/"
        },
        "outputId": "9dd84baa-4117-4873-cf0e-c1e0dae98654"
      },
      "execution_count": 64,
      "outputs": [
        {
          "output_type": "stream",
          "name": "stdout",
          "text": [
            "10 loops, best of 5: 265 ms per loop\n"
          ]
        }
      ]
    },
    {
      "cell_type": "code",
      "source": [
        "# option #3: this is better\n",
        "%timeit -n10 df_taxis[\"travel_time_c\"] = df_taxis[\"dropoff\"] - df_taxis[\"pickup\"]"
      ],
      "metadata": {
        "id": "AEfOMTaa1XqB",
        "colab": {
          "base_uri": "https://localhost:8080/"
        },
        "outputId": "9183c4c1-9f67-434b-f355-60560d879089"
      },
      "execution_count": 65,
      "outputs": [
        {
          "output_type": "stream",
          "name": "stdout",
          "text": [
            "10 loops, best of 5: 492 µs per loop\n"
          ]
        }
      ]
    },
    {
      "cell_type": "markdown",
      "source": [
        "Options #2 and #3 leverages on the quirk of pandas being column-major, hence making it a speedier alternative than Option #1. One reason why option #3 is faster than option #2 is because the ```.apply()``` operation makes use of python loops under the hood. 💡"
      ],
      "metadata": {
        "id": "03eJ9rhNIuBZ"
      }
    },
    {
      "cell_type": "code",
      "source": [
        "# different approach, same result\n",
        "df_taxis[[col for col in df_taxis.columns if \"travel_time\" in col]].head()"
      ],
      "metadata": {
        "id": "5OO-OlHM2k18",
        "colab": {
          "base_uri": "https://localhost:8080/",
          "height": 206
        },
        "outputId": "f9af94e8-3039-4e56-a526-8320f11abcee"
      },
      "execution_count": 66,
      "outputs": [
        {
          "output_type": "execute_result",
          "data": {
            "text/html": [
              "\n",
              "  <div id=\"df-694109d4-0a00-4edd-89ce-51b174d8b7ae\">\n",
              "    <div class=\"colab-df-container\">\n",
              "      <div>\n",
              "<style scoped>\n",
              "    .dataframe tbody tr th:only-of-type {\n",
              "        vertical-align: middle;\n",
              "    }\n",
              "\n",
              "    .dataframe tbody tr th {\n",
              "        vertical-align: top;\n",
              "    }\n",
              "\n",
              "    .dataframe thead th {\n",
              "        text-align: right;\n",
              "    }\n",
              "</style>\n",
              "<table border=\"1\" class=\"dataframe\">\n",
              "  <thead>\n",
              "    <tr style=\"text-align: right;\">\n",
              "      <th></th>\n",
              "      <th>travel_time_a</th>\n",
              "      <th>travel_time_b</th>\n",
              "      <th>travel_time_c</th>\n",
              "    </tr>\n",
              "  </thead>\n",
              "  <tbody>\n",
              "    <tr>\n",
              "      <th>0</th>\n",
              "      <td>0 days 00:06:15</td>\n",
              "      <td>0 days 00:06:15</td>\n",
              "      <td>0 days 00:06:15</td>\n",
              "    </tr>\n",
              "    <tr>\n",
              "      <th>1</th>\n",
              "      <td>0 days 00:07:05</td>\n",
              "      <td>0 days 00:07:05</td>\n",
              "      <td>0 days 00:07:05</td>\n",
              "    </tr>\n",
              "    <tr>\n",
              "      <th>2</th>\n",
              "      <td>0 days 00:07:24</td>\n",
              "      <td>0 days 00:07:24</td>\n",
              "      <td>0 days 00:07:24</td>\n",
              "    </tr>\n",
              "    <tr>\n",
              "      <th>3</th>\n",
              "      <td>0 days 00:25:52</td>\n",
              "      <td>0 days 00:25:52</td>\n",
              "      <td>0 days 00:25:52</td>\n",
              "    </tr>\n",
              "    <tr>\n",
              "      <th>4</th>\n",
              "      <td>0 days 00:09:32</td>\n",
              "      <td>0 days 00:09:32</td>\n",
              "      <td>0 days 00:09:32</td>\n",
              "    </tr>\n",
              "  </tbody>\n",
              "</table>\n",
              "</div>\n",
              "      <button class=\"colab-df-convert\" onclick=\"convertToInteractive('df-694109d4-0a00-4edd-89ce-51b174d8b7ae')\"\n",
              "              title=\"Convert this dataframe to an interactive table.\"\n",
              "              style=\"display:none;\">\n",
              "        \n",
              "  <svg xmlns=\"http://www.w3.org/2000/svg\" height=\"24px\"viewBox=\"0 0 24 24\"\n",
              "       width=\"24px\">\n",
              "    <path d=\"M0 0h24v24H0V0z\" fill=\"none\"/>\n",
              "    <path d=\"M18.56 5.44l.94 2.06.94-2.06 2.06-.94-2.06-.94-.94-2.06-.94 2.06-2.06.94zm-11 1L8.5 8.5l.94-2.06 2.06-.94-2.06-.94L8.5 2.5l-.94 2.06-2.06.94zm10 10l.94 2.06.94-2.06 2.06-.94-2.06-.94-.94-2.06-.94 2.06-2.06.94z\"/><path d=\"M17.41 7.96l-1.37-1.37c-.4-.4-.92-.59-1.43-.59-.52 0-1.04.2-1.43.59L10.3 9.45l-7.72 7.72c-.78.78-.78 2.05 0 2.83L4 21.41c.39.39.9.59 1.41.59.51 0 1.02-.2 1.41-.59l7.78-7.78 2.81-2.81c.8-.78.8-2.07 0-2.86zM5.41 20L4 18.59l7.72-7.72 1.47 1.35L5.41 20z\"/>\n",
              "  </svg>\n",
              "      </button>\n",
              "      \n",
              "  <style>\n",
              "    .colab-df-container {\n",
              "      display:flex;\n",
              "      flex-wrap:wrap;\n",
              "      gap: 12px;\n",
              "    }\n",
              "\n",
              "    .colab-df-convert {\n",
              "      background-color: #E8F0FE;\n",
              "      border: none;\n",
              "      border-radius: 50%;\n",
              "      cursor: pointer;\n",
              "      display: none;\n",
              "      fill: #1967D2;\n",
              "      height: 32px;\n",
              "      padding: 0 0 0 0;\n",
              "      width: 32px;\n",
              "    }\n",
              "\n",
              "    .colab-df-convert:hover {\n",
              "      background-color: #E2EBFA;\n",
              "      box-shadow: 0px 1px 2px rgba(60, 64, 67, 0.3), 0px 1px 3px 1px rgba(60, 64, 67, 0.15);\n",
              "      fill: #174EA6;\n",
              "    }\n",
              "\n",
              "    [theme=dark] .colab-df-convert {\n",
              "      background-color: #3B4455;\n",
              "      fill: #D2E3FC;\n",
              "    }\n",
              "\n",
              "    [theme=dark] .colab-df-convert:hover {\n",
              "      background-color: #434B5C;\n",
              "      box-shadow: 0px 1px 3px 1px rgba(0, 0, 0, 0.15);\n",
              "      filter: drop-shadow(0px 1px 2px rgba(0, 0, 0, 0.3));\n",
              "      fill: #FFFFFF;\n",
              "    }\n",
              "  </style>\n",
              "\n",
              "      <script>\n",
              "        const buttonEl =\n",
              "          document.querySelector('#df-694109d4-0a00-4edd-89ce-51b174d8b7ae button.colab-df-convert');\n",
              "        buttonEl.style.display =\n",
              "          google.colab.kernel.accessAllowed ? 'block' : 'none';\n",
              "\n",
              "        async function convertToInteractive(key) {\n",
              "          const element = document.querySelector('#df-694109d4-0a00-4edd-89ce-51b174d8b7ae');\n",
              "          const dataTable =\n",
              "            await google.colab.kernel.invokeFunction('convertToInteractive',\n",
              "                                                     [key], {});\n",
              "          if (!dataTable) return;\n",
              "\n",
              "          const docLinkHtml = 'Like what you see? Visit the ' +\n",
              "            '<a target=\"_blank\" href=https://colab.research.google.com/notebooks/data_table.ipynb>data table notebook</a>'\n",
              "            + ' to learn more about interactive tables.';\n",
              "          element.innerHTML = '';\n",
              "          dataTable['output_type'] = 'display_data';\n",
              "          await google.colab.output.renderOutput(dataTable, element);\n",
              "          const docLink = document.createElement('div');\n",
              "          docLink.innerHTML = docLinkHtml;\n",
              "          element.appendChild(docLink);\n",
              "        }\n",
              "      </script>\n",
              "    </div>\n",
              "  </div>\n",
              "  "
            ],
            "text/plain": [
              "    travel_time_a   travel_time_b   travel_time_c\n",
              "0 0 days 00:06:15 0 days 00:06:15 0 days 00:06:15\n",
              "1 0 days 00:07:05 0 days 00:07:05 0 days 00:07:05\n",
              "2 0 days 00:07:24 0 days 00:07:24 0 days 00:07:24\n",
              "3 0 days 00:25:52 0 days 00:25:52 0 days 00:25:52\n",
              "4 0 days 00:09:32 0 days 00:09:32 0 days 00:09:32"
            ]
          },
          "metadata": {},
          "execution_count": 66
        }
      ]
    },
    {
      "cell_type": "markdown",
      "source": [
        "Now, suppose we want to access the **tip from the first row** of the seaborn taxis dataset."
      ],
      "metadata": {
        "id": "TU3TDfPwJgOL"
      }
    },
    {
      "cell_type": "code",
      "source": [
        "# option #1: this is bad\n",
        "%timeit -n1000 df_taxis.iloc[0][\"tip\"]"
      ],
      "metadata": {
        "id": "xjSTksEtIp0j",
        "colab": {
          "base_uri": "https://localhost:8080/"
        },
        "outputId": "78ef97ec-355b-40c7-9b0f-afbb813cb8d3"
      },
      "execution_count": 67,
      "outputs": [
        {
          "output_type": "stream",
          "name": "stdout",
          "text": [
            "1000 loops, best of 5: 203 µs per loop\n"
          ]
        }
      ]
    },
    {
      "cell_type": "code",
      "source": [
        "# option #2: this is good\n",
        "%timeit -n1000 df_taxis.loc[0, \"tip\"]"
      ],
      "metadata": {
        "id": "ETSZ8UiKJ-Wt",
        "colab": {
          "base_uri": "https://localhost:8080/"
        },
        "outputId": "68c3e45d-7c33-472e-8b11-300aac0c8fad"
      },
      "execution_count": 68,
      "outputs": [
        {
          "output_type": "stream",
          "name": "stdout",
          "text": [
            "1000 loops, best of 5: 9.12 µs per loop\n"
          ]
        }
      ]
    },
    {
      "cell_type": "code",
      "source": [
        "# option #3: this is better     \n",
        "%timeit -n1000 df_taxis[\"tip\"][0]"
      ],
      "metadata": {
        "id": "EZxWMzXvIC6f",
        "colab": {
          "base_uri": "https://localhost:8080/"
        },
        "outputId": "0b43cc4f-beff-481b-b8bf-7e5d6814dbce"
      },
      "execution_count": 69,
      "outputs": [
        {
          "output_type": "stream",
          "name": "stdout",
          "text": [
            "1000 loops, best of 5: 5.65 µs per loop\n"
          ]
        }
      ]
    },
    {
      "cell_type": "markdown",
      "source": [
        "When performing multiple slice operations, **always do the column-based slicing first**, since it leverages on the column-major quirk of pandas."
      ],
      "metadata": {
        "id": "fVu7KZOmIC1-"
      }
    },
    {
      "cell_type": "markdown",
      "source": [
        "If you've used pandas before, most likely you've seen this `SettingCopyWarning` message when you try to assign values to a subset of the data. First, let's try to understand this warning message, then let's look for ways to address it amd avoid it from appearing in the future."
      ],
      "metadata": {
        "id": "F4uDrGxfBDT2"
      }
    },
    {
      "cell_type": "code",
      "source": [
        "import warnings\n",
        "warnings.filterwarnings(\"default\")"
      ],
      "metadata": {
        "id": "D5Nf3vyEC1fb"
      },
      "execution_count": 70,
      "outputs": []
    },
    {
      "cell_type": "code",
      "source": [
        "df_taxis.tail(1)"
      ],
      "metadata": {
        "id": "SuR9gEuOCSvU",
        "colab": {
          "base_uri": "https://localhost:8080/",
          "height": 80
        },
        "outputId": "38f3febb-460a-4d79-f5f5-d3573c29a2c9"
      },
      "execution_count": 71,
      "outputs": [
        {
          "output_type": "execute_result",
          "data": {
            "text/html": [
              "\n",
              "  <div id=\"df-25a562d3-cedc-4312-ac8c-54cf5dbc5c97\">\n",
              "    <div class=\"colab-df-container\">\n",
              "      <div>\n",
              "<style scoped>\n",
              "    .dataframe tbody tr th:only-of-type {\n",
              "        vertical-align: middle;\n",
              "    }\n",
              "\n",
              "    .dataframe tbody tr th {\n",
              "        vertical-align: top;\n",
              "    }\n",
              "\n",
              "    .dataframe thead th {\n",
              "        text-align: right;\n",
              "    }\n",
              "</style>\n",
              "<table border=\"1\" class=\"dataframe\">\n",
              "  <thead>\n",
              "    <tr style=\"text-align: right;\">\n",
              "      <th></th>\n",
              "      <th>pickup</th>\n",
              "      <th>dropoff</th>\n",
              "      <th>passengers</th>\n",
              "      <th>distance</th>\n",
              "      <th>fare</th>\n",
              "      <th>tip</th>\n",
              "      <th>tolls</th>\n",
              "      <th>total</th>\n",
              "      <th>color</th>\n",
              "      <th>payment</th>\n",
              "      <th>pickup_zone</th>\n",
              "      <th>dropoff_zone</th>\n",
              "      <th>pickup_borough</th>\n",
              "      <th>dropoff_borough</th>\n",
              "      <th>travel_time_a</th>\n",
              "      <th>travel_time_b</th>\n",
              "      <th>travel_time_c</th>\n",
              "    </tr>\n",
              "  </thead>\n",
              "  <tbody>\n",
              "    <tr>\n",
              "      <th>6432</th>\n",
              "      <td>2019-03-13 19:31:22</td>\n",
              "      <td>2019-03-13 19:48:02</td>\n",
              "      <td>1</td>\n",
              "      <td>3.85</td>\n",
              "      <td>15.0</td>\n",
              "      <td>3.36</td>\n",
              "      <td>0.0</td>\n",
              "      <td>20.16</td>\n",
              "      <td>green</td>\n",
              "      <td>credit card</td>\n",
              "      <td>Boerum Hill</td>\n",
              "      <td>Windsor Terrace</td>\n",
              "      <td>Brooklyn</td>\n",
              "      <td>Brooklyn</td>\n",
              "      <td>0 days 00:16:40</td>\n",
              "      <td>0 days 00:16:40</td>\n",
              "      <td>0 days 00:16:40</td>\n",
              "    </tr>\n",
              "  </tbody>\n",
              "</table>\n",
              "</div>\n",
              "      <button class=\"colab-df-convert\" onclick=\"convertToInteractive('df-25a562d3-cedc-4312-ac8c-54cf5dbc5c97')\"\n",
              "              title=\"Convert this dataframe to an interactive table.\"\n",
              "              style=\"display:none;\">\n",
              "        \n",
              "  <svg xmlns=\"http://www.w3.org/2000/svg\" height=\"24px\"viewBox=\"0 0 24 24\"\n",
              "       width=\"24px\">\n",
              "    <path d=\"M0 0h24v24H0V0z\" fill=\"none\"/>\n",
              "    <path d=\"M18.56 5.44l.94 2.06.94-2.06 2.06-.94-2.06-.94-.94-2.06-.94 2.06-2.06.94zm-11 1L8.5 8.5l.94-2.06 2.06-.94-2.06-.94L8.5 2.5l-.94 2.06-2.06.94zm10 10l.94 2.06.94-2.06 2.06-.94-2.06-.94-.94-2.06-.94 2.06-2.06.94z\"/><path d=\"M17.41 7.96l-1.37-1.37c-.4-.4-.92-.59-1.43-.59-.52 0-1.04.2-1.43.59L10.3 9.45l-7.72 7.72c-.78.78-.78 2.05 0 2.83L4 21.41c.39.39.9.59 1.41.59.51 0 1.02-.2 1.41-.59l7.78-7.78 2.81-2.81c.8-.78.8-2.07 0-2.86zM5.41 20L4 18.59l7.72-7.72 1.47 1.35L5.41 20z\"/>\n",
              "  </svg>\n",
              "      </button>\n",
              "      \n",
              "  <style>\n",
              "    .colab-df-container {\n",
              "      display:flex;\n",
              "      flex-wrap:wrap;\n",
              "      gap: 12px;\n",
              "    }\n",
              "\n",
              "    .colab-df-convert {\n",
              "      background-color: #E8F0FE;\n",
              "      border: none;\n",
              "      border-radius: 50%;\n",
              "      cursor: pointer;\n",
              "      display: none;\n",
              "      fill: #1967D2;\n",
              "      height: 32px;\n",
              "      padding: 0 0 0 0;\n",
              "      width: 32px;\n",
              "    }\n",
              "\n",
              "    .colab-df-convert:hover {\n",
              "      background-color: #E2EBFA;\n",
              "      box-shadow: 0px 1px 2px rgba(60, 64, 67, 0.3), 0px 1px 3px 1px rgba(60, 64, 67, 0.15);\n",
              "      fill: #174EA6;\n",
              "    }\n",
              "\n",
              "    [theme=dark] .colab-df-convert {\n",
              "      background-color: #3B4455;\n",
              "      fill: #D2E3FC;\n",
              "    }\n",
              "\n",
              "    [theme=dark] .colab-df-convert:hover {\n",
              "      background-color: #434B5C;\n",
              "      box-shadow: 0px 1px 3px 1px rgba(0, 0, 0, 0.15);\n",
              "      filter: drop-shadow(0px 1px 2px rgba(0, 0, 0, 0.3));\n",
              "      fill: #FFFFFF;\n",
              "    }\n",
              "  </style>\n",
              "\n",
              "      <script>\n",
              "        const buttonEl =\n",
              "          document.querySelector('#df-25a562d3-cedc-4312-ac8c-54cf5dbc5c97 button.colab-df-convert');\n",
              "        buttonEl.style.display =\n",
              "          google.colab.kernel.accessAllowed ? 'block' : 'none';\n",
              "\n",
              "        async function convertToInteractive(key) {\n",
              "          const element = document.querySelector('#df-25a562d3-cedc-4312-ac8c-54cf5dbc5c97');\n",
              "          const dataTable =\n",
              "            await google.colab.kernel.invokeFunction('convertToInteractive',\n",
              "                                                     [key], {});\n",
              "          if (!dataTable) return;\n",
              "\n",
              "          const docLinkHtml = 'Like what you see? Visit the ' +\n",
              "            '<a target=\"_blank\" href=https://colab.research.google.com/notebooks/data_table.ipynb>data table notebook</a>'\n",
              "            + ' to learn more about interactive tables.';\n",
              "          element.innerHTML = '';\n",
              "          dataTable['output_type'] = 'display_data';\n",
              "          await google.colab.output.renderOutput(dataTable, element);\n",
              "          const docLink = document.createElement('div');\n",
              "          docLink.innerHTML = docLinkHtml;\n",
              "          element.appendChild(docLink);\n",
              "        }\n",
              "      </script>\n",
              "    </div>\n",
              "  </div>\n",
              "  "
            ],
            "text/plain": [
              "                  pickup             dropoff  passengers  distance  fare  \\\n",
              "6432 2019-03-13 19:31:22 2019-03-13 19:48:02           1      3.85  15.0   \n",
              "\n",
              "       tip  tolls  total  color      payment  pickup_zone     dropoff_zone  \\\n",
              "6432  3.36    0.0  20.16  green  credit card  Boerum Hill  Windsor Terrace   \n",
              "\n",
              "     pickup_borough dropoff_borough   travel_time_a   travel_time_b  \\\n",
              "6432       Brooklyn        Brooklyn 0 days 00:16:40 0 days 00:16:40   \n",
              "\n",
              "       travel_time_c  \n",
              "6432 0 days 00:16:40  "
            ]
          },
          "metadata": {},
          "execution_count": 71
        }
      ]
    },
    {
      "cell_type": "markdown",
      "source": [
        "Suppose we want to alter the color of taxi for the last row of the pandas dataframe"
      ],
      "metadata": {
        "id": "rGQRp9Y4ChVD"
      }
    },
    {
      "cell_type": "code",
      "source": [
        "df_taxis[\"color\"][len(df_taxis)-1] = \"yellow\""
      ],
      "metadata": {
        "id": "Dwtke1AJBDL8",
        "colab": {
          "base_uri": "https://localhost:8080/"
        },
        "outputId": "336595c2-e7b2-4045-e2aa-0ba14faaabc1"
      },
      "execution_count": 72,
      "outputs": [
        {
          "output_type": "stream",
          "name": "stderr",
          "text": [
            "/usr/local/lib/python3.7/dist-packages/ipykernel_launcher.py:1: SettingWithCopyWarning: \n",
            "A value is trying to be set on a copy of a slice from a DataFrame\n",
            "\n",
            "See the caveats in the documentation: https://pandas.pydata.org/pandas-docs/stable/user_guide/indexing.html#returning-a-view-versus-a-copy\n",
            "  \"\"\"Entry point for launching an IPython kernel.\n"
          ]
        }
      ]
    },
    {
      "cell_type": "code",
      "source": [
        "df_taxis.tail(1)"
      ],
      "metadata": {
        "id": "e3mP8XwhDmdj",
        "colab": {
          "base_uri": "https://localhost:8080/",
          "height": 80
        },
        "outputId": "40f62b88-615b-49ac-dc46-9da21bc32770"
      },
      "execution_count": 73,
      "outputs": [
        {
          "output_type": "execute_result",
          "data": {
            "text/html": [
              "\n",
              "  <div id=\"df-a4f4169d-04a3-4d7d-b43e-eb6f575fdedb\">\n",
              "    <div class=\"colab-df-container\">\n",
              "      <div>\n",
              "<style scoped>\n",
              "    .dataframe tbody tr th:only-of-type {\n",
              "        vertical-align: middle;\n",
              "    }\n",
              "\n",
              "    .dataframe tbody tr th {\n",
              "        vertical-align: top;\n",
              "    }\n",
              "\n",
              "    .dataframe thead th {\n",
              "        text-align: right;\n",
              "    }\n",
              "</style>\n",
              "<table border=\"1\" class=\"dataframe\">\n",
              "  <thead>\n",
              "    <tr style=\"text-align: right;\">\n",
              "      <th></th>\n",
              "      <th>pickup</th>\n",
              "      <th>dropoff</th>\n",
              "      <th>passengers</th>\n",
              "      <th>distance</th>\n",
              "      <th>fare</th>\n",
              "      <th>tip</th>\n",
              "      <th>tolls</th>\n",
              "      <th>total</th>\n",
              "      <th>color</th>\n",
              "      <th>payment</th>\n",
              "      <th>pickup_zone</th>\n",
              "      <th>dropoff_zone</th>\n",
              "      <th>pickup_borough</th>\n",
              "      <th>dropoff_borough</th>\n",
              "      <th>travel_time_a</th>\n",
              "      <th>travel_time_b</th>\n",
              "      <th>travel_time_c</th>\n",
              "    </tr>\n",
              "  </thead>\n",
              "  <tbody>\n",
              "    <tr>\n",
              "      <th>6432</th>\n",
              "      <td>2019-03-13 19:31:22</td>\n",
              "      <td>2019-03-13 19:48:02</td>\n",
              "      <td>1</td>\n",
              "      <td>3.85</td>\n",
              "      <td>15.0</td>\n",
              "      <td>3.36</td>\n",
              "      <td>0.0</td>\n",
              "      <td>20.16</td>\n",
              "      <td>yellow</td>\n",
              "      <td>credit card</td>\n",
              "      <td>Boerum Hill</td>\n",
              "      <td>Windsor Terrace</td>\n",
              "      <td>Brooklyn</td>\n",
              "      <td>Brooklyn</td>\n",
              "      <td>0 days 00:16:40</td>\n",
              "      <td>0 days 00:16:40</td>\n",
              "      <td>0 days 00:16:40</td>\n",
              "    </tr>\n",
              "  </tbody>\n",
              "</table>\n",
              "</div>\n",
              "      <button class=\"colab-df-convert\" onclick=\"convertToInteractive('df-a4f4169d-04a3-4d7d-b43e-eb6f575fdedb')\"\n",
              "              title=\"Convert this dataframe to an interactive table.\"\n",
              "              style=\"display:none;\">\n",
              "        \n",
              "  <svg xmlns=\"http://www.w3.org/2000/svg\" height=\"24px\"viewBox=\"0 0 24 24\"\n",
              "       width=\"24px\">\n",
              "    <path d=\"M0 0h24v24H0V0z\" fill=\"none\"/>\n",
              "    <path d=\"M18.56 5.44l.94 2.06.94-2.06 2.06-.94-2.06-.94-.94-2.06-.94 2.06-2.06.94zm-11 1L8.5 8.5l.94-2.06 2.06-.94-2.06-.94L8.5 2.5l-.94 2.06-2.06.94zm10 10l.94 2.06.94-2.06 2.06-.94-2.06-.94-.94-2.06-.94 2.06-2.06.94z\"/><path d=\"M17.41 7.96l-1.37-1.37c-.4-.4-.92-.59-1.43-.59-.52 0-1.04.2-1.43.59L10.3 9.45l-7.72 7.72c-.78.78-.78 2.05 0 2.83L4 21.41c.39.39.9.59 1.41.59.51 0 1.02-.2 1.41-.59l7.78-7.78 2.81-2.81c.8-.78.8-2.07 0-2.86zM5.41 20L4 18.59l7.72-7.72 1.47 1.35L5.41 20z\"/>\n",
              "  </svg>\n",
              "      </button>\n",
              "      \n",
              "  <style>\n",
              "    .colab-df-container {\n",
              "      display:flex;\n",
              "      flex-wrap:wrap;\n",
              "      gap: 12px;\n",
              "    }\n",
              "\n",
              "    .colab-df-convert {\n",
              "      background-color: #E8F0FE;\n",
              "      border: none;\n",
              "      border-radius: 50%;\n",
              "      cursor: pointer;\n",
              "      display: none;\n",
              "      fill: #1967D2;\n",
              "      height: 32px;\n",
              "      padding: 0 0 0 0;\n",
              "      width: 32px;\n",
              "    }\n",
              "\n",
              "    .colab-df-convert:hover {\n",
              "      background-color: #E2EBFA;\n",
              "      box-shadow: 0px 1px 2px rgba(60, 64, 67, 0.3), 0px 1px 3px 1px rgba(60, 64, 67, 0.15);\n",
              "      fill: #174EA6;\n",
              "    }\n",
              "\n",
              "    [theme=dark] .colab-df-convert {\n",
              "      background-color: #3B4455;\n",
              "      fill: #D2E3FC;\n",
              "    }\n",
              "\n",
              "    [theme=dark] .colab-df-convert:hover {\n",
              "      background-color: #434B5C;\n",
              "      box-shadow: 0px 1px 3px 1px rgba(0, 0, 0, 0.15);\n",
              "      filter: drop-shadow(0px 1px 2px rgba(0, 0, 0, 0.3));\n",
              "      fill: #FFFFFF;\n",
              "    }\n",
              "  </style>\n",
              "\n",
              "      <script>\n",
              "        const buttonEl =\n",
              "          document.querySelector('#df-a4f4169d-04a3-4d7d-b43e-eb6f575fdedb button.colab-df-convert');\n",
              "        buttonEl.style.display =\n",
              "          google.colab.kernel.accessAllowed ? 'block' : 'none';\n",
              "\n",
              "        async function convertToInteractive(key) {\n",
              "          const element = document.querySelector('#df-a4f4169d-04a3-4d7d-b43e-eb6f575fdedb');\n",
              "          const dataTable =\n",
              "            await google.colab.kernel.invokeFunction('convertToInteractive',\n",
              "                                                     [key], {});\n",
              "          if (!dataTable) return;\n",
              "\n",
              "          const docLinkHtml = 'Like what you see? Visit the ' +\n",
              "            '<a target=\"_blank\" href=https://colab.research.google.com/notebooks/data_table.ipynb>data table notebook</a>'\n",
              "            + ' to learn more about interactive tables.';\n",
              "          element.innerHTML = '';\n",
              "          dataTable['output_type'] = 'display_data';\n",
              "          await google.colab.output.renderOutput(dataTable, element);\n",
              "          const docLink = document.createElement('div');\n",
              "          docLink.innerHTML = docLinkHtml;\n",
              "          element.appendChild(docLink);\n",
              "        }\n",
              "      </script>\n",
              "    </div>\n",
              "  </div>\n",
              "  "
            ],
            "text/plain": [
              "                  pickup             dropoff  passengers  distance  fare  \\\n",
              "6432 2019-03-13 19:31:22 2019-03-13 19:48:02           1      3.85  15.0   \n",
              "\n",
              "       tip  tolls  total   color      payment  pickup_zone     dropoff_zone  \\\n",
              "6432  3.36    0.0  20.16  yellow  credit card  Boerum Hill  Windsor Terrace   \n",
              "\n",
              "     pickup_borough dropoff_borough   travel_time_a   travel_time_b  \\\n",
              "6432       Brooklyn        Brooklyn 0 days 00:16:40 0 days 00:16:40   \n",
              "\n",
              "       travel_time_c  \n",
              "6432 0 days 00:16:40  "
            ]
          },
          "metadata": {},
          "execution_count": 73
        }
      ]
    },
    {
      "cell_type": "markdown",
      "source": [
        "It worked but pandas threw the `SettingWithCopyWarning` mentioned above."
      ],
      "metadata": {
        "id": "I1CGCjv1Do0S"
      }
    },
    {
      "cell_type": "markdown",
      "source": [
        "Suppose we want change the credit card payment category to mastercard."
      ],
      "metadata": {
        "id": "BBJAeesbDzGE"
      }
    },
    {
      "cell_type": "code",
      "source": [
        "df_taxis[df_taxis[\"payment\"]==\"credit card\"][\"payment\"] = \"mastercard\""
      ],
      "metadata": {
        "id": "Z3yU_Tn1EZLt",
        "colab": {
          "base_uri": "https://localhost:8080/"
        },
        "outputId": "daf242df-c189-4290-a1b2-726cd8549bd1"
      },
      "execution_count": 74,
      "outputs": [
        {
          "output_type": "stream",
          "name": "stderr",
          "text": [
            "/usr/local/lib/python3.7/dist-packages/ipykernel_launcher.py:1: SettingWithCopyWarning: \n",
            "A value is trying to be set on a copy of a slice from a DataFrame.\n",
            "Try using .loc[row_indexer,col_indexer] = value instead\n",
            "\n",
            "See the caveats in the documentation: https://pandas.pydata.org/pandas-docs/stable/user_guide/indexing.html#returning-a-view-versus-a-copy\n",
            "  \"\"\"Entry point for launching an IPython kernel.\n"
          ]
        }
      ]
    },
    {
      "cell_type": "code",
      "source": [
        "df_taxis.tail(1)"
      ],
      "metadata": {
        "id": "PQtei0f9ElBO",
        "colab": {
          "base_uri": "https://localhost:8080/",
          "height": 80
        },
        "outputId": "e8e99c59-1206-4f8c-c518-18051cb3e9e6"
      },
      "execution_count": 75,
      "outputs": [
        {
          "output_type": "execute_result",
          "data": {
            "text/html": [
              "\n",
              "  <div id=\"df-9fb05267-54a5-495d-845e-7ec23bff49e5\">\n",
              "    <div class=\"colab-df-container\">\n",
              "      <div>\n",
              "<style scoped>\n",
              "    .dataframe tbody tr th:only-of-type {\n",
              "        vertical-align: middle;\n",
              "    }\n",
              "\n",
              "    .dataframe tbody tr th {\n",
              "        vertical-align: top;\n",
              "    }\n",
              "\n",
              "    .dataframe thead th {\n",
              "        text-align: right;\n",
              "    }\n",
              "</style>\n",
              "<table border=\"1\" class=\"dataframe\">\n",
              "  <thead>\n",
              "    <tr style=\"text-align: right;\">\n",
              "      <th></th>\n",
              "      <th>pickup</th>\n",
              "      <th>dropoff</th>\n",
              "      <th>passengers</th>\n",
              "      <th>distance</th>\n",
              "      <th>fare</th>\n",
              "      <th>tip</th>\n",
              "      <th>tolls</th>\n",
              "      <th>total</th>\n",
              "      <th>color</th>\n",
              "      <th>payment</th>\n",
              "      <th>pickup_zone</th>\n",
              "      <th>dropoff_zone</th>\n",
              "      <th>pickup_borough</th>\n",
              "      <th>dropoff_borough</th>\n",
              "      <th>travel_time_a</th>\n",
              "      <th>travel_time_b</th>\n",
              "      <th>travel_time_c</th>\n",
              "    </tr>\n",
              "  </thead>\n",
              "  <tbody>\n",
              "    <tr>\n",
              "      <th>6432</th>\n",
              "      <td>2019-03-13 19:31:22</td>\n",
              "      <td>2019-03-13 19:48:02</td>\n",
              "      <td>1</td>\n",
              "      <td>3.85</td>\n",
              "      <td>15.0</td>\n",
              "      <td>3.36</td>\n",
              "      <td>0.0</td>\n",
              "      <td>20.16</td>\n",
              "      <td>yellow</td>\n",
              "      <td>credit card</td>\n",
              "      <td>Boerum Hill</td>\n",
              "      <td>Windsor Terrace</td>\n",
              "      <td>Brooklyn</td>\n",
              "      <td>Brooklyn</td>\n",
              "      <td>0 days 00:16:40</td>\n",
              "      <td>0 days 00:16:40</td>\n",
              "      <td>0 days 00:16:40</td>\n",
              "    </tr>\n",
              "  </tbody>\n",
              "</table>\n",
              "</div>\n",
              "      <button class=\"colab-df-convert\" onclick=\"convertToInteractive('df-9fb05267-54a5-495d-845e-7ec23bff49e5')\"\n",
              "              title=\"Convert this dataframe to an interactive table.\"\n",
              "              style=\"display:none;\">\n",
              "        \n",
              "  <svg xmlns=\"http://www.w3.org/2000/svg\" height=\"24px\"viewBox=\"0 0 24 24\"\n",
              "       width=\"24px\">\n",
              "    <path d=\"M0 0h24v24H0V0z\" fill=\"none\"/>\n",
              "    <path d=\"M18.56 5.44l.94 2.06.94-2.06 2.06-.94-2.06-.94-.94-2.06-.94 2.06-2.06.94zm-11 1L8.5 8.5l.94-2.06 2.06-.94-2.06-.94L8.5 2.5l-.94 2.06-2.06.94zm10 10l.94 2.06.94-2.06 2.06-.94-2.06-.94-.94-2.06-.94 2.06-2.06.94z\"/><path d=\"M17.41 7.96l-1.37-1.37c-.4-.4-.92-.59-1.43-.59-.52 0-1.04.2-1.43.59L10.3 9.45l-7.72 7.72c-.78.78-.78 2.05 0 2.83L4 21.41c.39.39.9.59 1.41.59.51 0 1.02-.2 1.41-.59l7.78-7.78 2.81-2.81c.8-.78.8-2.07 0-2.86zM5.41 20L4 18.59l7.72-7.72 1.47 1.35L5.41 20z\"/>\n",
              "  </svg>\n",
              "      </button>\n",
              "      \n",
              "  <style>\n",
              "    .colab-df-container {\n",
              "      display:flex;\n",
              "      flex-wrap:wrap;\n",
              "      gap: 12px;\n",
              "    }\n",
              "\n",
              "    .colab-df-convert {\n",
              "      background-color: #E8F0FE;\n",
              "      border: none;\n",
              "      border-radius: 50%;\n",
              "      cursor: pointer;\n",
              "      display: none;\n",
              "      fill: #1967D2;\n",
              "      height: 32px;\n",
              "      padding: 0 0 0 0;\n",
              "      width: 32px;\n",
              "    }\n",
              "\n",
              "    .colab-df-convert:hover {\n",
              "      background-color: #E2EBFA;\n",
              "      box-shadow: 0px 1px 2px rgba(60, 64, 67, 0.3), 0px 1px 3px 1px rgba(60, 64, 67, 0.15);\n",
              "      fill: #174EA6;\n",
              "    }\n",
              "\n",
              "    [theme=dark] .colab-df-convert {\n",
              "      background-color: #3B4455;\n",
              "      fill: #D2E3FC;\n",
              "    }\n",
              "\n",
              "    [theme=dark] .colab-df-convert:hover {\n",
              "      background-color: #434B5C;\n",
              "      box-shadow: 0px 1px 3px 1px rgba(0, 0, 0, 0.15);\n",
              "      filter: drop-shadow(0px 1px 2px rgba(0, 0, 0, 0.3));\n",
              "      fill: #FFFFFF;\n",
              "    }\n",
              "  </style>\n",
              "\n",
              "      <script>\n",
              "        const buttonEl =\n",
              "          document.querySelector('#df-9fb05267-54a5-495d-845e-7ec23bff49e5 button.colab-df-convert');\n",
              "        buttonEl.style.display =\n",
              "          google.colab.kernel.accessAllowed ? 'block' : 'none';\n",
              "\n",
              "        async function convertToInteractive(key) {\n",
              "          const element = document.querySelector('#df-9fb05267-54a5-495d-845e-7ec23bff49e5');\n",
              "          const dataTable =\n",
              "            await google.colab.kernel.invokeFunction('convertToInteractive',\n",
              "                                                     [key], {});\n",
              "          if (!dataTable) return;\n",
              "\n",
              "          const docLinkHtml = 'Like what you see? Visit the ' +\n",
              "            '<a target=\"_blank\" href=https://colab.research.google.com/notebooks/data_table.ipynb>data table notebook</a>'\n",
              "            + ' to learn more about interactive tables.';\n",
              "          element.innerHTML = '';\n",
              "          dataTable['output_type'] = 'display_data';\n",
              "          await google.colab.output.renderOutput(dataTable, element);\n",
              "          const docLink = document.createElement('div');\n",
              "          docLink.innerHTML = docLinkHtml;\n",
              "          element.appendChild(docLink);\n",
              "        }\n",
              "      </script>\n",
              "    </div>\n",
              "  </div>\n",
              "  "
            ],
            "text/plain": [
              "                  pickup             dropoff  passengers  distance  fare  \\\n",
              "6432 2019-03-13 19:31:22 2019-03-13 19:48:02           1      3.85  15.0   \n",
              "\n",
              "       tip  tolls  total   color      payment  pickup_zone     dropoff_zone  \\\n",
              "6432  3.36    0.0  20.16  yellow  credit card  Boerum Hill  Windsor Terrace   \n",
              "\n",
              "     pickup_borough dropoff_borough   travel_time_a   travel_time_b  \\\n",
              "6432       Brooklyn        Brooklyn 0 days 00:16:40 0 days 00:16:40   \n",
              "\n",
              "       travel_time_c  \n",
              "6432 0 days 00:16:40  "
            ]
          },
          "metadata": {},
          "execution_count": 75
        }
      ]
    },
    {
      "cell_type": "markdown",
      "source": [
        "It didn't work and pandas threw the `SettingWithCopyWarning` error mentioned above."
      ],
      "metadata": {
        "id": "5CVKYpopEm_S"
      }
    },
    {
      "cell_type": "markdown",
      "source": [
        "Pandas behaves this way we're trying to make an assignment to a `Copy` instead of a `View`.\n",
        "\n",
        "- `Copy` is a copy of the actual `DataFrame`. This will be thrown away as soon as the operation is done.\n",
        "- `View` is the actual `DataFrame` you want to work with"
      ],
      "metadata": {
        "id": "UdOdHyoxExOq"
      }
    },
    {
      "cell_type": "markdown",
      "source": [
        "To avoid this error, we can use the `.loc(row_indexer, col_indexer)` operation in pandas."
      ],
      "metadata": {
        "id": "3quc4ihHFnfi"
      }
    },
    {
      "cell_type": "code",
      "source": [
        "# let's revert the changes from yellow to green\n",
        "df_taxis.loc[len(df_taxis)-1, \"color\"] = \"green\""
      ],
      "metadata": {
        "id": "dtZ0Bw-mF0by"
      },
      "execution_count": 76,
      "outputs": []
    },
    {
      "cell_type": "code",
      "source": [
        "df_taxis.tail(1)"
      ],
      "metadata": {
        "id": "X5SxpbQ2Gv0R",
        "colab": {
          "base_uri": "https://localhost:8080/",
          "height": 80
        },
        "outputId": "79e97c06-3e74-4558-dae3-1fe13b95046c"
      },
      "execution_count": 77,
      "outputs": [
        {
          "output_type": "execute_result",
          "data": {
            "text/html": [
              "\n",
              "  <div id=\"df-0f57b7bb-8303-47b0-a30b-6b7fcbc96678\">\n",
              "    <div class=\"colab-df-container\">\n",
              "      <div>\n",
              "<style scoped>\n",
              "    .dataframe tbody tr th:only-of-type {\n",
              "        vertical-align: middle;\n",
              "    }\n",
              "\n",
              "    .dataframe tbody tr th {\n",
              "        vertical-align: top;\n",
              "    }\n",
              "\n",
              "    .dataframe thead th {\n",
              "        text-align: right;\n",
              "    }\n",
              "</style>\n",
              "<table border=\"1\" class=\"dataframe\">\n",
              "  <thead>\n",
              "    <tr style=\"text-align: right;\">\n",
              "      <th></th>\n",
              "      <th>pickup</th>\n",
              "      <th>dropoff</th>\n",
              "      <th>passengers</th>\n",
              "      <th>distance</th>\n",
              "      <th>fare</th>\n",
              "      <th>tip</th>\n",
              "      <th>tolls</th>\n",
              "      <th>total</th>\n",
              "      <th>color</th>\n",
              "      <th>payment</th>\n",
              "      <th>pickup_zone</th>\n",
              "      <th>dropoff_zone</th>\n",
              "      <th>pickup_borough</th>\n",
              "      <th>dropoff_borough</th>\n",
              "      <th>travel_time_a</th>\n",
              "      <th>travel_time_b</th>\n",
              "      <th>travel_time_c</th>\n",
              "    </tr>\n",
              "  </thead>\n",
              "  <tbody>\n",
              "    <tr>\n",
              "      <th>6432</th>\n",
              "      <td>2019-03-13 19:31:22</td>\n",
              "      <td>2019-03-13 19:48:02</td>\n",
              "      <td>1</td>\n",
              "      <td>3.85</td>\n",
              "      <td>15.0</td>\n",
              "      <td>3.36</td>\n",
              "      <td>0.0</td>\n",
              "      <td>20.16</td>\n",
              "      <td>green</td>\n",
              "      <td>credit card</td>\n",
              "      <td>Boerum Hill</td>\n",
              "      <td>Windsor Terrace</td>\n",
              "      <td>Brooklyn</td>\n",
              "      <td>Brooklyn</td>\n",
              "      <td>0 days 00:16:40</td>\n",
              "      <td>0 days 00:16:40</td>\n",
              "      <td>0 days 00:16:40</td>\n",
              "    </tr>\n",
              "  </tbody>\n",
              "</table>\n",
              "</div>\n",
              "      <button class=\"colab-df-convert\" onclick=\"convertToInteractive('df-0f57b7bb-8303-47b0-a30b-6b7fcbc96678')\"\n",
              "              title=\"Convert this dataframe to an interactive table.\"\n",
              "              style=\"display:none;\">\n",
              "        \n",
              "  <svg xmlns=\"http://www.w3.org/2000/svg\" height=\"24px\"viewBox=\"0 0 24 24\"\n",
              "       width=\"24px\">\n",
              "    <path d=\"M0 0h24v24H0V0z\" fill=\"none\"/>\n",
              "    <path d=\"M18.56 5.44l.94 2.06.94-2.06 2.06-.94-2.06-.94-.94-2.06-.94 2.06-2.06.94zm-11 1L8.5 8.5l.94-2.06 2.06-.94-2.06-.94L8.5 2.5l-.94 2.06-2.06.94zm10 10l.94 2.06.94-2.06 2.06-.94-2.06-.94-.94-2.06-.94 2.06-2.06.94z\"/><path d=\"M17.41 7.96l-1.37-1.37c-.4-.4-.92-.59-1.43-.59-.52 0-1.04.2-1.43.59L10.3 9.45l-7.72 7.72c-.78.78-.78 2.05 0 2.83L4 21.41c.39.39.9.59 1.41.59.51 0 1.02-.2 1.41-.59l7.78-7.78 2.81-2.81c.8-.78.8-2.07 0-2.86zM5.41 20L4 18.59l7.72-7.72 1.47 1.35L5.41 20z\"/>\n",
              "  </svg>\n",
              "      </button>\n",
              "      \n",
              "  <style>\n",
              "    .colab-df-container {\n",
              "      display:flex;\n",
              "      flex-wrap:wrap;\n",
              "      gap: 12px;\n",
              "    }\n",
              "\n",
              "    .colab-df-convert {\n",
              "      background-color: #E8F0FE;\n",
              "      border: none;\n",
              "      border-radius: 50%;\n",
              "      cursor: pointer;\n",
              "      display: none;\n",
              "      fill: #1967D2;\n",
              "      height: 32px;\n",
              "      padding: 0 0 0 0;\n",
              "      width: 32px;\n",
              "    }\n",
              "\n",
              "    .colab-df-convert:hover {\n",
              "      background-color: #E2EBFA;\n",
              "      box-shadow: 0px 1px 2px rgba(60, 64, 67, 0.3), 0px 1px 3px 1px rgba(60, 64, 67, 0.15);\n",
              "      fill: #174EA6;\n",
              "    }\n",
              "\n",
              "    [theme=dark] .colab-df-convert {\n",
              "      background-color: #3B4455;\n",
              "      fill: #D2E3FC;\n",
              "    }\n",
              "\n",
              "    [theme=dark] .colab-df-convert:hover {\n",
              "      background-color: #434B5C;\n",
              "      box-shadow: 0px 1px 3px 1px rgba(0, 0, 0, 0.15);\n",
              "      filter: drop-shadow(0px 1px 2px rgba(0, 0, 0, 0.3));\n",
              "      fill: #FFFFFF;\n",
              "    }\n",
              "  </style>\n",
              "\n",
              "      <script>\n",
              "        const buttonEl =\n",
              "          document.querySelector('#df-0f57b7bb-8303-47b0-a30b-6b7fcbc96678 button.colab-df-convert');\n",
              "        buttonEl.style.display =\n",
              "          google.colab.kernel.accessAllowed ? 'block' : 'none';\n",
              "\n",
              "        async function convertToInteractive(key) {\n",
              "          const element = document.querySelector('#df-0f57b7bb-8303-47b0-a30b-6b7fcbc96678');\n",
              "          const dataTable =\n",
              "            await google.colab.kernel.invokeFunction('convertToInteractive',\n",
              "                                                     [key], {});\n",
              "          if (!dataTable) return;\n",
              "\n",
              "          const docLinkHtml = 'Like what you see? Visit the ' +\n",
              "            '<a target=\"_blank\" href=https://colab.research.google.com/notebooks/data_table.ipynb>data table notebook</a>'\n",
              "            + ' to learn more about interactive tables.';\n",
              "          element.innerHTML = '';\n",
              "          dataTable['output_type'] = 'display_data';\n",
              "          await google.colab.output.renderOutput(dataTable, element);\n",
              "          const docLink = document.createElement('div');\n",
              "          docLink.innerHTML = docLinkHtml;\n",
              "          element.appendChild(docLink);\n",
              "        }\n",
              "      </script>\n",
              "    </div>\n",
              "  </div>\n",
              "  "
            ],
            "text/plain": [
              "                  pickup             dropoff  passengers  distance  fare  \\\n",
              "6432 2019-03-13 19:31:22 2019-03-13 19:48:02           1      3.85  15.0   \n",
              "\n",
              "       tip  tolls  total  color      payment  pickup_zone     dropoff_zone  \\\n",
              "6432  3.36    0.0  20.16  green  credit card  Boerum Hill  Windsor Terrace   \n",
              "\n",
              "     pickup_borough dropoff_borough   travel_time_a   travel_time_b  \\\n",
              "6432       Brooklyn        Brooklyn 0 days 00:16:40 0 days 00:16:40   \n",
              "\n",
              "       travel_time_c  \n",
              "6432 0 days 00:16:40  "
            ]
          },
          "metadata": {},
          "execution_count": 77
        }
      ]
    },
    {
      "cell_type": "code",
      "source": [
        "# let's retry to update the credit card to mastercard\n",
        "df_taxis.loc[df_taxis[\"payment\"]==\"credit card\", \"payment\"] = \"mastercard\""
      ],
      "metadata": {
        "id": "sBNCAhO6GPpu"
      },
      "execution_count": 78,
      "outputs": []
    },
    {
      "cell_type": "code",
      "source": [
        "df_taxis.tail(1)"
      ],
      "metadata": {
        "id": "iTJtu0bJGByz",
        "colab": {
          "base_uri": "https://localhost:8080/",
          "height": 80
        },
        "outputId": "8ab9b115-d058-4234-8e79-f911c7dbc6fb"
      },
      "execution_count": 79,
      "outputs": [
        {
          "output_type": "execute_result",
          "data": {
            "text/html": [
              "\n",
              "  <div id=\"df-12db3e48-2f26-4fa2-9713-97d1f8f33851\">\n",
              "    <div class=\"colab-df-container\">\n",
              "      <div>\n",
              "<style scoped>\n",
              "    .dataframe tbody tr th:only-of-type {\n",
              "        vertical-align: middle;\n",
              "    }\n",
              "\n",
              "    .dataframe tbody tr th {\n",
              "        vertical-align: top;\n",
              "    }\n",
              "\n",
              "    .dataframe thead th {\n",
              "        text-align: right;\n",
              "    }\n",
              "</style>\n",
              "<table border=\"1\" class=\"dataframe\">\n",
              "  <thead>\n",
              "    <tr style=\"text-align: right;\">\n",
              "      <th></th>\n",
              "      <th>pickup</th>\n",
              "      <th>dropoff</th>\n",
              "      <th>passengers</th>\n",
              "      <th>distance</th>\n",
              "      <th>fare</th>\n",
              "      <th>tip</th>\n",
              "      <th>tolls</th>\n",
              "      <th>total</th>\n",
              "      <th>color</th>\n",
              "      <th>payment</th>\n",
              "      <th>pickup_zone</th>\n",
              "      <th>dropoff_zone</th>\n",
              "      <th>pickup_borough</th>\n",
              "      <th>dropoff_borough</th>\n",
              "      <th>travel_time_a</th>\n",
              "      <th>travel_time_b</th>\n",
              "      <th>travel_time_c</th>\n",
              "    </tr>\n",
              "  </thead>\n",
              "  <tbody>\n",
              "    <tr>\n",
              "      <th>6432</th>\n",
              "      <td>2019-03-13 19:31:22</td>\n",
              "      <td>2019-03-13 19:48:02</td>\n",
              "      <td>1</td>\n",
              "      <td>3.85</td>\n",
              "      <td>15.0</td>\n",
              "      <td>3.36</td>\n",
              "      <td>0.0</td>\n",
              "      <td>20.16</td>\n",
              "      <td>green</td>\n",
              "      <td>mastercard</td>\n",
              "      <td>Boerum Hill</td>\n",
              "      <td>Windsor Terrace</td>\n",
              "      <td>Brooklyn</td>\n",
              "      <td>Brooklyn</td>\n",
              "      <td>0 days 00:16:40</td>\n",
              "      <td>0 days 00:16:40</td>\n",
              "      <td>0 days 00:16:40</td>\n",
              "    </tr>\n",
              "  </tbody>\n",
              "</table>\n",
              "</div>\n",
              "      <button class=\"colab-df-convert\" onclick=\"convertToInteractive('df-12db3e48-2f26-4fa2-9713-97d1f8f33851')\"\n",
              "              title=\"Convert this dataframe to an interactive table.\"\n",
              "              style=\"display:none;\">\n",
              "        \n",
              "  <svg xmlns=\"http://www.w3.org/2000/svg\" height=\"24px\"viewBox=\"0 0 24 24\"\n",
              "       width=\"24px\">\n",
              "    <path d=\"M0 0h24v24H0V0z\" fill=\"none\"/>\n",
              "    <path d=\"M18.56 5.44l.94 2.06.94-2.06 2.06-.94-2.06-.94-.94-2.06-.94 2.06-2.06.94zm-11 1L8.5 8.5l.94-2.06 2.06-.94-2.06-.94L8.5 2.5l-.94 2.06-2.06.94zm10 10l.94 2.06.94-2.06 2.06-.94-2.06-.94-.94-2.06-.94 2.06-2.06.94z\"/><path d=\"M17.41 7.96l-1.37-1.37c-.4-.4-.92-.59-1.43-.59-.52 0-1.04.2-1.43.59L10.3 9.45l-7.72 7.72c-.78.78-.78 2.05 0 2.83L4 21.41c.39.39.9.59 1.41.59.51 0 1.02-.2 1.41-.59l7.78-7.78 2.81-2.81c.8-.78.8-2.07 0-2.86zM5.41 20L4 18.59l7.72-7.72 1.47 1.35L5.41 20z\"/>\n",
              "  </svg>\n",
              "      </button>\n",
              "      \n",
              "  <style>\n",
              "    .colab-df-container {\n",
              "      display:flex;\n",
              "      flex-wrap:wrap;\n",
              "      gap: 12px;\n",
              "    }\n",
              "\n",
              "    .colab-df-convert {\n",
              "      background-color: #E8F0FE;\n",
              "      border: none;\n",
              "      border-radius: 50%;\n",
              "      cursor: pointer;\n",
              "      display: none;\n",
              "      fill: #1967D2;\n",
              "      height: 32px;\n",
              "      padding: 0 0 0 0;\n",
              "      width: 32px;\n",
              "    }\n",
              "\n",
              "    .colab-df-convert:hover {\n",
              "      background-color: #E2EBFA;\n",
              "      box-shadow: 0px 1px 2px rgba(60, 64, 67, 0.3), 0px 1px 3px 1px rgba(60, 64, 67, 0.15);\n",
              "      fill: #174EA6;\n",
              "    }\n",
              "\n",
              "    [theme=dark] .colab-df-convert {\n",
              "      background-color: #3B4455;\n",
              "      fill: #D2E3FC;\n",
              "    }\n",
              "\n",
              "    [theme=dark] .colab-df-convert:hover {\n",
              "      background-color: #434B5C;\n",
              "      box-shadow: 0px 1px 3px 1px rgba(0, 0, 0, 0.15);\n",
              "      filter: drop-shadow(0px 1px 2px rgba(0, 0, 0, 0.3));\n",
              "      fill: #FFFFFF;\n",
              "    }\n",
              "  </style>\n",
              "\n",
              "      <script>\n",
              "        const buttonEl =\n",
              "          document.querySelector('#df-12db3e48-2f26-4fa2-9713-97d1f8f33851 button.colab-df-convert');\n",
              "        buttonEl.style.display =\n",
              "          google.colab.kernel.accessAllowed ? 'block' : 'none';\n",
              "\n",
              "        async function convertToInteractive(key) {\n",
              "          const element = document.querySelector('#df-12db3e48-2f26-4fa2-9713-97d1f8f33851');\n",
              "          const dataTable =\n",
              "            await google.colab.kernel.invokeFunction('convertToInteractive',\n",
              "                                                     [key], {});\n",
              "          if (!dataTable) return;\n",
              "\n",
              "          const docLinkHtml = 'Like what you see? Visit the ' +\n",
              "            '<a target=\"_blank\" href=https://colab.research.google.com/notebooks/data_table.ipynb>data table notebook</a>'\n",
              "            + ' to learn more about interactive tables.';\n",
              "          element.innerHTML = '';\n",
              "          dataTable['output_type'] = 'display_data';\n",
              "          await google.colab.output.renderOutput(dataTable, element);\n",
              "          const docLink = document.createElement('div');\n",
              "          docLink.innerHTML = docLinkHtml;\n",
              "          element.appendChild(docLink);\n",
              "        }\n",
              "      </script>\n",
              "    </div>\n",
              "  </div>\n",
              "  "
            ],
            "text/plain": [
              "                  pickup             dropoff  passengers  distance  fare  \\\n",
              "6432 2019-03-13 19:31:22 2019-03-13 19:48:02           1      3.85  15.0   \n",
              "\n",
              "       tip  tolls  total  color     payment  pickup_zone     dropoff_zone  \\\n",
              "6432  3.36    0.0  20.16  green  mastercard  Boerum Hill  Windsor Terrace   \n",
              "\n",
              "     pickup_borough dropoff_borough   travel_time_a   travel_time_b  \\\n",
              "6432       Brooklyn        Brooklyn 0 days 00:16:40 0 days 00:16:40   \n",
              "\n",
              "       travel_time_c  \n",
              "6432 0 days 00:16:40  "
            ]
          },
          "metadata": {},
          "execution_count": 79
        }
      ]
    },
    {
      "cell_type": "markdown",
      "source": [
        "Now, we were both able to update the contents of the dataframe without the `SettingWithCopyWarning` message!"
      ],
      "metadata": {
        "id": "g7QzFgAzFnYa"
      }
    },
    {
      "cell_type": "markdown",
      "source": [
        "✋ What about you? Can you update the null entries in payment with `rewards`?"
      ],
      "metadata": {
        "id": "Ebjgas_sQ5_3"
      }
    },
    {
      "cell_type": "code",
      "source": [
        "df_taxis.loc[df_taxis.payment.isna()].head()"
      ],
      "metadata": {
        "id": "EjszL3i6SRb6",
        "colab": {
          "base_uri": "https://localhost:8080/",
          "height": 206
        },
        "outputId": "42c9f54e-4766-4504-cdbf-2489ba0f43a8"
      },
      "execution_count": 80,
      "outputs": [
        {
          "output_type": "execute_result",
          "data": {
            "text/html": [
              "\n",
              "  <div id=\"df-14efe8c4-e39f-4f5d-a38b-2e7ab51c0fcc\">\n",
              "    <div class=\"colab-df-container\">\n",
              "      <div>\n",
              "<style scoped>\n",
              "    .dataframe tbody tr th:only-of-type {\n",
              "        vertical-align: middle;\n",
              "    }\n",
              "\n",
              "    .dataframe tbody tr th {\n",
              "        vertical-align: top;\n",
              "    }\n",
              "\n",
              "    .dataframe thead th {\n",
              "        text-align: right;\n",
              "    }\n",
              "</style>\n",
              "<table border=\"1\" class=\"dataframe\">\n",
              "  <thead>\n",
              "    <tr style=\"text-align: right;\">\n",
              "      <th></th>\n",
              "      <th>pickup</th>\n",
              "      <th>dropoff</th>\n",
              "      <th>passengers</th>\n",
              "      <th>distance</th>\n",
              "      <th>fare</th>\n",
              "      <th>tip</th>\n",
              "      <th>tolls</th>\n",
              "      <th>total</th>\n",
              "      <th>color</th>\n",
              "      <th>payment</th>\n",
              "      <th>pickup_zone</th>\n",
              "      <th>dropoff_zone</th>\n",
              "      <th>pickup_borough</th>\n",
              "      <th>dropoff_borough</th>\n",
              "      <th>travel_time_a</th>\n",
              "      <th>travel_time_b</th>\n",
              "      <th>travel_time_c</th>\n",
              "    </tr>\n",
              "  </thead>\n",
              "  <tbody>\n",
              "    <tr>\n",
              "      <th>7</th>\n",
              "      <td>2019-03-22 12:47:13</td>\n",
              "      <td>2019-03-22 12:58:17</td>\n",
              "      <td>0</td>\n",
              "      <td>1.4</td>\n",
              "      <td>8.5</td>\n",
              "      <td>0.0</td>\n",
              "      <td>0.0</td>\n",
              "      <td>11.8</td>\n",
              "      <td>yellow</td>\n",
              "      <td>NaN</td>\n",
              "      <td>Murray Hill</td>\n",
              "      <td>Flatiron</td>\n",
              "      <td>Manhattan</td>\n",
              "      <td>Manhattan</td>\n",
              "      <td>0 days 00:11:04</td>\n",
              "      <td>0 days 00:11:04</td>\n",
              "      <td>0 days 00:11:04</td>\n",
              "    </tr>\n",
              "    <tr>\n",
              "      <th>445</th>\n",
              "      <td>2019-03-19 06:57:14</td>\n",
              "      <td>2019-03-19 07:00:08</td>\n",
              "      <td>1</td>\n",
              "      <td>1.3</td>\n",
              "      <td>5.5</td>\n",
              "      <td>0.0</td>\n",
              "      <td>0.0</td>\n",
              "      <td>6.3</td>\n",
              "      <td>yellow</td>\n",
              "      <td>NaN</td>\n",
              "      <td>Boerum Hill</td>\n",
              "      <td>Columbia Street</td>\n",
              "      <td>Brooklyn</td>\n",
              "      <td>Brooklyn</td>\n",
              "      <td>0 days 00:02:54</td>\n",
              "      <td>0 days 00:02:54</td>\n",
              "      <td>0 days 00:02:54</td>\n",
              "    </tr>\n",
              "    <tr>\n",
              "      <th>491</th>\n",
              "      <td>2019-03-07 07:11:33</td>\n",
              "      <td>2019-03-07 07:11:39</td>\n",
              "      <td>1</td>\n",
              "      <td>1.6</td>\n",
              "      <td>2.5</td>\n",
              "      <td>0.0</td>\n",
              "      <td>0.0</td>\n",
              "      <td>5.8</td>\n",
              "      <td>yellow</td>\n",
              "      <td>NaN</td>\n",
              "      <td>Murray Hill</td>\n",
              "      <td>Murray Hill</td>\n",
              "      <td>Manhattan</td>\n",
              "      <td>Manhattan</td>\n",
              "      <td>0 days 00:00:06</td>\n",
              "      <td>0 days 00:00:06</td>\n",
              "      <td>0 days 00:00:06</td>\n",
              "    </tr>\n",
              "    <tr>\n",
              "      <th>545</th>\n",
              "      <td>2019-03-27 11:03:43</td>\n",
              "      <td>2019-03-27 11:14:34</td>\n",
              "      <td>1</td>\n",
              "      <td>4.2</td>\n",
              "      <td>15.0</td>\n",
              "      <td>0.0</td>\n",
              "      <td>0.0</td>\n",
              "      <td>15.8</td>\n",
              "      <td>yellow</td>\n",
              "      <td>NaN</td>\n",
              "      <td>LaGuardia Airport</td>\n",
              "      <td>Forest Hills</td>\n",
              "      <td>Queens</td>\n",
              "      <td>Queens</td>\n",
              "      <td>0 days 00:10:51</td>\n",
              "      <td>0 days 00:10:51</td>\n",
              "      <td>0 days 00:10:51</td>\n",
              "    </tr>\n",
              "    <tr>\n",
              "      <th>621</th>\n",
              "      <td>2019-03-15 17:16:35</td>\n",
              "      <td>2019-03-15 17:25:01</td>\n",
              "      <td>1</td>\n",
              "      <td>1.3</td>\n",
              "      <td>7.5</td>\n",
              "      <td>0.0</td>\n",
              "      <td>0.0</td>\n",
              "      <td>11.8</td>\n",
              "      <td>yellow</td>\n",
              "      <td>NaN</td>\n",
              "      <td>Upper East Side North</td>\n",
              "      <td>Upper East Side South</td>\n",
              "      <td>Manhattan</td>\n",
              "      <td>Manhattan</td>\n",
              "      <td>0 days 00:08:26</td>\n",
              "      <td>0 days 00:08:26</td>\n",
              "      <td>0 days 00:08:26</td>\n",
              "    </tr>\n",
              "  </tbody>\n",
              "</table>\n",
              "</div>\n",
              "      <button class=\"colab-df-convert\" onclick=\"convertToInteractive('df-14efe8c4-e39f-4f5d-a38b-2e7ab51c0fcc')\"\n",
              "              title=\"Convert this dataframe to an interactive table.\"\n",
              "              style=\"display:none;\">\n",
              "        \n",
              "  <svg xmlns=\"http://www.w3.org/2000/svg\" height=\"24px\"viewBox=\"0 0 24 24\"\n",
              "       width=\"24px\">\n",
              "    <path d=\"M0 0h24v24H0V0z\" fill=\"none\"/>\n",
              "    <path d=\"M18.56 5.44l.94 2.06.94-2.06 2.06-.94-2.06-.94-.94-2.06-.94 2.06-2.06.94zm-11 1L8.5 8.5l.94-2.06 2.06-.94-2.06-.94L8.5 2.5l-.94 2.06-2.06.94zm10 10l.94 2.06.94-2.06 2.06-.94-2.06-.94-.94-2.06-.94 2.06-2.06.94z\"/><path d=\"M17.41 7.96l-1.37-1.37c-.4-.4-.92-.59-1.43-.59-.52 0-1.04.2-1.43.59L10.3 9.45l-7.72 7.72c-.78.78-.78 2.05 0 2.83L4 21.41c.39.39.9.59 1.41.59.51 0 1.02-.2 1.41-.59l7.78-7.78 2.81-2.81c.8-.78.8-2.07 0-2.86zM5.41 20L4 18.59l7.72-7.72 1.47 1.35L5.41 20z\"/>\n",
              "  </svg>\n",
              "      </button>\n",
              "      \n",
              "  <style>\n",
              "    .colab-df-container {\n",
              "      display:flex;\n",
              "      flex-wrap:wrap;\n",
              "      gap: 12px;\n",
              "    }\n",
              "\n",
              "    .colab-df-convert {\n",
              "      background-color: #E8F0FE;\n",
              "      border: none;\n",
              "      border-radius: 50%;\n",
              "      cursor: pointer;\n",
              "      display: none;\n",
              "      fill: #1967D2;\n",
              "      height: 32px;\n",
              "      padding: 0 0 0 0;\n",
              "      width: 32px;\n",
              "    }\n",
              "\n",
              "    .colab-df-convert:hover {\n",
              "      background-color: #E2EBFA;\n",
              "      box-shadow: 0px 1px 2px rgba(60, 64, 67, 0.3), 0px 1px 3px 1px rgba(60, 64, 67, 0.15);\n",
              "      fill: #174EA6;\n",
              "    }\n",
              "\n",
              "    [theme=dark] .colab-df-convert {\n",
              "      background-color: #3B4455;\n",
              "      fill: #D2E3FC;\n",
              "    }\n",
              "\n",
              "    [theme=dark] .colab-df-convert:hover {\n",
              "      background-color: #434B5C;\n",
              "      box-shadow: 0px 1px 3px 1px rgba(0, 0, 0, 0.15);\n",
              "      filter: drop-shadow(0px 1px 2px rgba(0, 0, 0, 0.3));\n",
              "      fill: #FFFFFF;\n",
              "    }\n",
              "  </style>\n",
              "\n",
              "      <script>\n",
              "        const buttonEl =\n",
              "          document.querySelector('#df-14efe8c4-e39f-4f5d-a38b-2e7ab51c0fcc button.colab-df-convert');\n",
              "        buttonEl.style.display =\n",
              "          google.colab.kernel.accessAllowed ? 'block' : 'none';\n",
              "\n",
              "        async function convertToInteractive(key) {\n",
              "          const element = document.querySelector('#df-14efe8c4-e39f-4f5d-a38b-2e7ab51c0fcc');\n",
              "          const dataTable =\n",
              "            await google.colab.kernel.invokeFunction('convertToInteractive',\n",
              "                                                     [key], {});\n",
              "          if (!dataTable) return;\n",
              "\n",
              "          const docLinkHtml = 'Like what you see? Visit the ' +\n",
              "            '<a target=\"_blank\" href=https://colab.research.google.com/notebooks/data_table.ipynb>data table notebook</a>'\n",
              "            + ' to learn more about interactive tables.';\n",
              "          element.innerHTML = '';\n",
              "          dataTable['output_type'] = 'display_data';\n",
              "          await google.colab.output.renderOutput(dataTable, element);\n",
              "          const docLink = document.createElement('div');\n",
              "          docLink.innerHTML = docLinkHtml;\n",
              "          element.appendChild(docLink);\n",
              "        }\n",
              "      </script>\n",
              "    </div>\n",
              "  </div>\n",
              "  "
            ],
            "text/plain": [
              "                 pickup             dropoff  passengers  distance  fare  tip  \\\n",
              "7   2019-03-22 12:47:13 2019-03-22 12:58:17           0       1.4   8.5  0.0   \n",
              "445 2019-03-19 06:57:14 2019-03-19 07:00:08           1       1.3   5.5  0.0   \n",
              "491 2019-03-07 07:11:33 2019-03-07 07:11:39           1       1.6   2.5  0.0   \n",
              "545 2019-03-27 11:03:43 2019-03-27 11:14:34           1       4.2  15.0  0.0   \n",
              "621 2019-03-15 17:16:35 2019-03-15 17:25:01           1       1.3   7.5  0.0   \n",
              "\n",
              "     tolls  total   color payment            pickup_zone  \\\n",
              "7      0.0   11.8  yellow     NaN            Murray Hill   \n",
              "445    0.0    6.3  yellow     NaN            Boerum Hill   \n",
              "491    0.0    5.8  yellow     NaN            Murray Hill   \n",
              "545    0.0   15.8  yellow     NaN      LaGuardia Airport   \n",
              "621    0.0   11.8  yellow     NaN  Upper East Side North   \n",
              "\n",
              "              dropoff_zone pickup_borough dropoff_borough   travel_time_a  \\\n",
              "7                 Flatiron      Manhattan       Manhattan 0 days 00:11:04   \n",
              "445        Columbia Street       Brooklyn        Brooklyn 0 days 00:02:54   \n",
              "491            Murray Hill      Manhattan       Manhattan 0 days 00:00:06   \n",
              "545           Forest Hills         Queens          Queens 0 days 00:10:51   \n",
              "621  Upper East Side South      Manhattan       Manhattan 0 days 00:08:26   \n",
              "\n",
              "      travel_time_b   travel_time_c  \n",
              "7   0 days 00:11:04 0 days 00:11:04  \n",
              "445 0 days 00:02:54 0 days 00:02:54  \n",
              "491 0 days 00:00:06 0 days 00:00:06  \n",
              "545 0 days 00:10:51 0 days 00:10:51  \n",
              "621 0 days 00:08:26 0 days 00:08:26  "
            ]
          },
          "metadata": {},
          "execution_count": 80
        }
      ]
    },
    {
      "cell_type": "code",
      "source": [
        "# YOUR CODE GOES HERE\n",
        "df_taxis.loc[df_taxis.payment.isna(), \"payment\"] = \"rewards\""
      ],
      "metadata": {
        "id": "3YnOO0myRfQi"
      },
      "execution_count": 81,
      "outputs": []
    },
    {
      "cell_type": "code",
      "source": [
        "affected_indices = [7, 445, 491, 545, 621]\n",
        "df_taxis.loc[affected_indices]"
      ],
      "metadata": {
        "id": "cb5AXXLqSbBp",
        "colab": {
          "base_uri": "https://localhost:8080/",
          "height": 206
        },
        "outputId": "312853e5-286c-42be-e4ab-4ff596db28d5"
      },
      "execution_count": 82,
      "outputs": [
        {
          "output_type": "execute_result",
          "data": {
            "text/html": [
              "\n",
              "  <div id=\"df-7debc9c2-383a-442b-a12d-0e143a989cd8\">\n",
              "    <div class=\"colab-df-container\">\n",
              "      <div>\n",
              "<style scoped>\n",
              "    .dataframe tbody tr th:only-of-type {\n",
              "        vertical-align: middle;\n",
              "    }\n",
              "\n",
              "    .dataframe tbody tr th {\n",
              "        vertical-align: top;\n",
              "    }\n",
              "\n",
              "    .dataframe thead th {\n",
              "        text-align: right;\n",
              "    }\n",
              "</style>\n",
              "<table border=\"1\" class=\"dataframe\">\n",
              "  <thead>\n",
              "    <tr style=\"text-align: right;\">\n",
              "      <th></th>\n",
              "      <th>pickup</th>\n",
              "      <th>dropoff</th>\n",
              "      <th>passengers</th>\n",
              "      <th>distance</th>\n",
              "      <th>fare</th>\n",
              "      <th>tip</th>\n",
              "      <th>tolls</th>\n",
              "      <th>total</th>\n",
              "      <th>color</th>\n",
              "      <th>payment</th>\n",
              "      <th>pickup_zone</th>\n",
              "      <th>dropoff_zone</th>\n",
              "      <th>pickup_borough</th>\n",
              "      <th>dropoff_borough</th>\n",
              "      <th>travel_time_a</th>\n",
              "      <th>travel_time_b</th>\n",
              "      <th>travel_time_c</th>\n",
              "    </tr>\n",
              "  </thead>\n",
              "  <tbody>\n",
              "    <tr>\n",
              "      <th>7</th>\n",
              "      <td>2019-03-22 12:47:13</td>\n",
              "      <td>2019-03-22 12:58:17</td>\n",
              "      <td>0</td>\n",
              "      <td>1.4</td>\n",
              "      <td>8.5</td>\n",
              "      <td>0.0</td>\n",
              "      <td>0.0</td>\n",
              "      <td>11.8</td>\n",
              "      <td>yellow</td>\n",
              "      <td>rewards</td>\n",
              "      <td>Murray Hill</td>\n",
              "      <td>Flatiron</td>\n",
              "      <td>Manhattan</td>\n",
              "      <td>Manhattan</td>\n",
              "      <td>0 days 00:11:04</td>\n",
              "      <td>0 days 00:11:04</td>\n",
              "      <td>0 days 00:11:04</td>\n",
              "    </tr>\n",
              "    <tr>\n",
              "      <th>445</th>\n",
              "      <td>2019-03-19 06:57:14</td>\n",
              "      <td>2019-03-19 07:00:08</td>\n",
              "      <td>1</td>\n",
              "      <td>1.3</td>\n",
              "      <td>5.5</td>\n",
              "      <td>0.0</td>\n",
              "      <td>0.0</td>\n",
              "      <td>6.3</td>\n",
              "      <td>yellow</td>\n",
              "      <td>rewards</td>\n",
              "      <td>Boerum Hill</td>\n",
              "      <td>Columbia Street</td>\n",
              "      <td>Brooklyn</td>\n",
              "      <td>Brooklyn</td>\n",
              "      <td>0 days 00:02:54</td>\n",
              "      <td>0 days 00:02:54</td>\n",
              "      <td>0 days 00:02:54</td>\n",
              "    </tr>\n",
              "    <tr>\n",
              "      <th>491</th>\n",
              "      <td>2019-03-07 07:11:33</td>\n",
              "      <td>2019-03-07 07:11:39</td>\n",
              "      <td>1</td>\n",
              "      <td>1.6</td>\n",
              "      <td>2.5</td>\n",
              "      <td>0.0</td>\n",
              "      <td>0.0</td>\n",
              "      <td>5.8</td>\n",
              "      <td>yellow</td>\n",
              "      <td>rewards</td>\n",
              "      <td>Murray Hill</td>\n",
              "      <td>Murray Hill</td>\n",
              "      <td>Manhattan</td>\n",
              "      <td>Manhattan</td>\n",
              "      <td>0 days 00:00:06</td>\n",
              "      <td>0 days 00:00:06</td>\n",
              "      <td>0 days 00:00:06</td>\n",
              "    </tr>\n",
              "    <tr>\n",
              "      <th>545</th>\n",
              "      <td>2019-03-27 11:03:43</td>\n",
              "      <td>2019-03-27 11:14:34</td>\n",
              "      <td>1</td>\n",
              "      <td>4.2</td>\n",
              "      <td>15.0</td>\n",
              "      <td>0.0</td>\n",
              "      <td>0.0</td>\n",
              "      <td>15.8</td>\n",
              "      <td>yellow</td>\n",
              "      <td>rewards</td>\n",
              "      <td>LaGuardia Airport</td>\n",
              "      <td>Forest Hills</td>\n",
              "      <td>Queens</td>\n",
              "      <td>Queens</td>\n",
              "      <td>0 days 00:10:51</td>\n",
              "      <td>0 days 00:10:51</td>\n",
              "      <td>0 days 00:10:51</td>\n",
              "    </tr>\n",
              "    <tr>\n",
              "      <th>621</th>\n",
              "      <td>2019-03-15 17:16:35</td>\n",
              "      <td>2019-03-15 17:25:01</td>\n",
              "      <td>1</td>\n",
              "      <td>1.3</td>\n",
              "      <td>7.5</td>\n",
              "      <td>0.0</td>\n",
              "      <td>0.0</td>\n",
              "      <td>11.8</td>\n",
              "      <td>yellow</td>\n",
              "      <td>rewards</td>\n",
              "      <td>Upper East Side North</td>\n",
              "      <td>Upper East Side South</td>\n",
              "      <td>Manhattan</td>\n",
              "      <td>Manhattan</td>\n",
              "      <td>0 days 00:08:26</td>\n",
              "      <td>0 days 00:08:26</td>\n",
              "      <td>0 days 00:08:26</td>\n",
              "    </tr>\n",
              "  </tbody>\n",
              "</table>\n",
              "</div>\n",
              "      <button class=\"colab-df-convert\" onclick=\"convertToInteractive('df-7debc9c2-383a-442b-a12d-0e143a989cd8')\"\n",
              "              title=\"Convert this dataframe to an interactive table.\"\n",
              "              style=\"display:none;\">\n",
              "        \n",
              "  <svg xmlns=\"http://www.w3.org/2000/svg\" height=\"24px\"viewBox=\"0 0 24 24\"\n",
              "       width=\"24px\">\n",
              "    <path d=\"M0 0h24v24H0V0z\" fill=\"none\"/>\n",
              "    <path d=\"M18.56 5.44l.94 2.06.94-2.06 2.06-.94-2.06-.94-.94-2.06-.94 2.06-2.06.94zm-11 1L8.5 8.5l.94-2.06 2.06-.94-2.06-.94L8.5 2.5l-.94 2.06-2.06.94zm10 10l.94 2.06.94-2.06 2.06-.94-2.06-.94-.94-2.06-.94 2.06-2.06.94z\"/><path d=\"M17.41 7.96l-1.37-1.37c-.4-.4-.92-.59-1.43-.59-.52 0-1.04.2-1.43.59L10.3 9.45l-7.72 7.72c-.78.78-.78 2.05 0 2.83L4 21.41c.39.39.9.59 1.41.59.51 0 1.02-.2 1.41-.59l7.78-7.78 2.81-2.81c.8-.78.8-2.07 0-2.86zM5.41 20L4 18.59l7.72-7.72 1.47 1.35L5.41 20z\"/>\n",
              "  </svg>\n",
              "      </button>\n",
              "      \n",
              "  <style>\n",
              "    .colab-df-container {\n",
              "      display:flex;\n",
              "      flex-wrap:wrap;\n",
              "      gap: 12px;\n",
              "    }\n",
              "\n",
              "    .colab-df-convert {\n",
              "      background-color: #E8F0FE;\n",
              "      border: none;\n",
              "      border-radius: 50%;\n",
              "      cursor: pointer;\n",
              "      display: none;\n",
              "      fill: #1967D2;\n",
              "      height: 32px;\n",
              "      padding: 0 0 0 0;\n",
              "      width: 32px;\n",
              "    }\n",
              "\n",
              "    .colab-df-convert:hover {\n",
              "      background-color: #E2EBFA;\n",
              "      box-shadow: 0px 1px 2px rgba(60, 64, 67, 0.3), 0px 1px 3px 1px rgba(60, 64, 67, 0.15);\n",
              "      fill: #174EA6;\n",
              "    }\n",
              "\n",
              "    [theme=dark] .colab-df-convert {\n",
              "      background-color: #3B4455;\n",
              "      fill: #D2E3FC;\n",
              "    }\n",
              "\n",
              "    [theme=dark] .colab-df-convert:hover {\n",
              "      background-color: #434B5C;\n",
              "      box-shadow: 0px 1px 3px 1px rgba(0, 0, 0, 0.15);\n",
              "      filter: drop-shadow(0px 1px 2px rgba(0, 0, 0, 0.3));\n",
              "      fill: #FFFFFF;\n",
              "    }\n",
              "  </style>\n",
              "\n",
              "      <script>\n",
              "        const buttonEl =\n",
              "          document.querySelector('#df-7debc9c2-383a-442b-a12d-0e143a989cd8 button.colab-df-convert');\n",
              "        buttonEl.style.display =\n",
              "          google.colab.kernel.accessAllowed ? 'block' : 'none';\n",
              "\n",
              "        async function convertToInteractive(key) {\n",
              "          const element = document.querySelector('#df-7debc9c2-383a-442b-a12d-0e143a989cd8');\n",
              "          const dataTable =\n",
              "            await google.colab.kernel.invokeFunction('convertToInteractive',\n",
              "                                                     [key], {});\n",
              "          if (!dataTable) return;\n",
              "\n",
              "          const docLinkHtml = 'Like what you see? Visit the ' +\n",
              "            '<a target=\"_blank\" href=https://colab.research.google.com/notebooks/data_table.ipynb>data table notebook</a>'\n",
              "            + ' to learn more about interactive tables.';\n",
              "          element.innerHTML = '';\n",
              "          dataTable['output_type'] = 'display_data';\n",
              "          await google.colab.output.renderOutput(dataTable, element);\n",
              "          const docLink = document.createElement('div');\n",
              "          docLink.innerHTML = docLinkHtml;\n",
              "          element.appendChild(docLink);\n",
              "        }\n",
              "      </script>\n",
              "    </div>\n",
              "  </div>\n",
              "  "
            ],
            "text/plain": [
              "                 pickup             dropoff  passengers  distance  fare  tip  \\\n",
              "7   2019-03-22 12:47:13 2019-03-22 12:58:17           0       1.4   8.5  0.0   \n",
              "445 2019-03-19 06:57:14 2019-03-19 07:00:08           1       1.3   5.5  0.0   \n",
              "491 2019-03-07 07:11:33 2019-03-07 07:11:39           1       1.6   2.5  0.0   \n",
              "545 2019-03-27 11:03:43 2019-03-27 11:14:34           1       4.2  15.0  0.0   \n",
              "621 2019-03-15 17:16:35 2019-03-15 17:25:01           1       1.3   7.5  0.0   \n",
              "\n",
              "     tolls  total   color  payment            pickup_zone  \\\n",
              "7      0.0   11.8  yellow  rewards            Murray Hill   \n",
              "445    0.0    6.3  yellow  rewards            Boerum Hill   \n",
              "491    0.0    5.8  yellow  rewards            Murray Hill   \n",
              "545    0.0   15.8  yellow  rewards      LaGuardia Airport   \n",
              "621    0.0   11.8  yellow  rewards  Upper East Side North   \n",
              "\n",
              "              dropoff_zone pickup_borough dropoff_borough   travel_time_a  \\\n",
              "7                 Flatiron      Manhattan       Manhattan 0 days 00:11:04   \n",
              "445        Columbia Street       Brooklyn        Brooklyn 0 days 00:02:54   \n",
              "491            Murray Hill      Manhattan       Manhattan 0 days 00:00:06   \n",
              "545           Forest Hills         Queens          Queens 0 days 00:10:51   \n",
              "621  Upper East Side South      Manhattan       Manhattan 0 days 00:08:26   \n",
              "\n",
              "      travel_time_b   travel_time_c  \n",
              "7   0 days 00:11:04 0 days 00:11:04  \n",
              "445 0 days 00:02:54 0 days 00:02:54  \n",
              "491 0 days 00:00:06 0 days 00:00:06  \n",
              "545 0 days 00:10:51 0 days 00:10:51  \n",
              "621 0 days 00:08:26 0 days 00:08:26  "
            ]
          },
          "metadata": {},
          "execution_count": 82
        }
      ]
    },
    {
      "cell_type": "markdown",
      "source": [
        "As you can see from our several demonstrations, there is a lot of ways for solving things in pandas. Next time, we can leverage our knowledge of pandas being column-major **in order to speed-up the computations in our data pipeline processes and exploratory data analysis.** 😁"
      ],
      "metadata": {
        "id": "H1XF45FcPYq0"
      }
    },
    {
      "cell_type": "markdown",
      "source": [
        "**Sometimes, we process near-to-larger-than-memory datasets in adhoc,** and when our only option available is pandas, here are some tips and tricks on how to process large datasets efficiently without running out of memory or exhausting your compute resources."
      ],
      "metadata": {
        "id": "fEr-HTjXLk4X"
      }
    },
    {
      "cell_type": "code",
      "source": [
        "mkdir data"
      ],
      "metadata": {
        "id": "m-go3P6htflX",
        "colab": {
          "base_uri": "https://localhost:8080/"
        },
        "outputId": "c09b1b23-ecdc-4a5c-8974-3334f38f6433"
      },
      "execution_count": 83,
      "outputs": [
        {
          "output_type": "stream",
          "name": "stdout",
          "text": [
            "mkdir: cannot create directory ‘data’: File exists\n"
          ]
        }
      ]
    },
    {
      "cell_type": "code",
      "source": [
        "cd data"
      ],
      "metadata": {
        "id": "KYd1hH47tX5o",
        "colab": {
          "base_uri": "https://localhost:8080/"
        },
        "outputId": "1384ea8b-5fbe-4d97-ec80-db4b20a11f71"
      },
      "execution_count": 84,
      "outputs": [
        {
          "output_type": "stream",
          "name": "stdout",
          "text": [
            "/content/data\n"
          ]
        }
      ]
    },
    {
      "cell_type": "code",
      "source": [
        "from google.colab import files\n",
        "files.upload();"
      ],
      "metadata": {
        "id": "p8R5KektFp0l",
        "colab": {
          "resources": {
            "http://localhost:8080/nbextensions/google.colab/files.js": {
              "data": "Ly8gQ29weXJpZ2h0IDIwMTcgR29vZ2xlIExMQwovLwovLyBMaWNlbnNlZCB1bmRlciB0aGUgQXBhY2hlIExpY2Vuc2UsIFZlcnNpb24gMi4wICh0aGUgIkxpY2Vuc2UiKTsKLy8geW91IG1heSBub3QgdXNlIHRoaXMgZmlsZSBleGNlcHQgaW4gY29tcGxpYW5jZSB3aXRoIHRoZSBMaWNlbnNlLgovLyBZb3UgbWF5IG9idGFpbiBhIGNvcHkgb2YgdGhlIExpY2Vuc2UgYXQKLy8KLy8gICAgICBodHRwOi8vd3d3LmFwYWNoZS5vcmcvbGljZW5zZXMvTElDRU5TRS0yLjAKLy8KLy8gVW5sZXNzIHJlcXVpcmVkIGJ5IGFwcGxpY2FibGUgbGF3IG9yIGFncmVlZCB0byBpbiB3cml0aW5nLCBzb2Z0d2FyZQovLyBkaXN0cmlidXRlZCB1bmRlciB0aGUgTGljZW5zZSBpcyBkaXN0cmlidXRlZCBvbiBhbiAiQVMgSVMiIEJBU0lTLAovLyBXSVRIT1VUIFdBUlJBTlRJRVMgT1IgQ09ORElUSU9OUyBPRiBBTlkgS0lORCwgZWl0aGVyIGV4cHJlc3Mgb3IgaW1wbGllZC4KLy8gU2VlIHRoZSBMaWNlbnNlIGZvciB0aGUgc3BlY2lmaWMgbGFuZ3VhZ2UgZ292ZXJuaW5nIHBlcm1pc3Npb25zIGFuZAovLyBsaW1pdGF0aW9ucyB1bmRlciB0aGUgTGljZW5zZS4KCi8qKgogKiBAZmlsZW92ZXJ2aWV3IEhlbHBlcnMgZm9yIGdvb2dsZS5jb2xhYiBQeXRob24gbW9kdWxlLgogKi8KKGZ1bmN0aW9uKHNjb3BlKSB7CmZ1bmN0aW9uIHNwYW4odGV4dCwgc3R5bGVBdHRyaWJ1dGVzID0ge30pIHsKICBjb25zdCBlbGVtZW50ID0gZG9jdW1lbnQuY3JlYXRlRWxlbWVudCgnc3BhbicpOwogIGVsZW1lbnQudGV4dENvbnRlbnQgPSB0ZXh0OwogIGZvciAoY29uc3Qga2V5IG9mIE9iamVjdC5rZXlzKHN0eWxlQXR0cmlidXRlcykpIHsKICAgIGVsZW1lbnQuc3R5bGVba2V5XSA9IHN0eWxlQXR0cmlidXRlc1trZXldOwogIH0KICByZXR1cm4gZWxlbWVudDsKfQoKLy8gTWF4IG51bWJlciBvZiBieXRlcyB3aGljaCB3aWxsIGJlIHVwbG9hZGVkIGF0IGEgdGltZS4KY29uc3QgTUFYX1BBWUxPQURfU0laRSA9IDEwMCAqIDEwMjQ7CgpmdW5jdGlvbiBfdXBsb2FkRmlsZXMoaW5wdXRJZCwgb3V0cHV0SWQpIHsKICBjb25zdCBzdGVwcyA9IHVwbG9hZEZpbGVzU3RlcChpbnB1dElkLCBvdXRwdXRJZCk7CiAgY29uc3Qgb3V0cHV0RWxlbWVudCA9IGRvY3VtZW50LmdldEVsZW1lbnRCeUlkKG91dHB1dElkKTsKICAvLyBDYWNoZSBzdGVwcyBvbiB0aGUgb3V0cHV0RWxlbWVudCB0byBtYWtlIGl0IGF2YWlsYWJsZSBmb3IgdGhlIG5leHQgY2FsbAogIC8vIHRvIHVwbG9hZEZpbGVzQ29udGludWUgZnJvbSBQeXRob24uCiAgb3V0cHV0RWxlbWVudC5zdGVwcyA9IHN0ZXBzOwoKICByZXR1cm4gX3VwbG9hZEZpbGVzQ29udGludWUob3V0cHV0SWQpOwp9CgovLyBUaGlzIGlzIHJvdWdobHkgYW4gYXN5bmMgZ2VuZXJhdG9yIChub3Qgc3VwcG9ydGVkIGluIHRoZSBicm93c2VyIHlldCksCi8vIHdoZXJlIHRoZXJlIGFyZSBtdWx0aXBsZSBhc3luY2hyb25vdXMgc3RlcHMgYW5kIHRoZSBQeXRob24gc2lkZSBpcyBnb2luZwovLyB0byBwb2xsIGZvciBjb21wbGV0aW9uIG9mIGVhY2ggc3RlcC4KLy8gVGhpcyB1c2VzIGEgUHJvbWlzZSB0byBibG9jayB0aGUgcHl0aG9uIHNpZGUgb24gY29tcGxldGlvbiBvZiBlYWNoIHN0ZXAsCi8vIHRoZW4gcGFzc2VzIHRoZSByZXN1bHQgb2YgdGhlIHByZXZpb3VzIHN0ZXAgYXMgdGhlIGlucHV0IHRvIHRoZSBuZXh0IHN0ZXAuCmZ1bmN0aW9uIF91cGxvYWRGaWxlc0NvbnRpbnVlKG91dHB1dElkKSB7CiAgY29uc3Qgb3V0cHV0RWxlbWVudCA9IGRvY3VtZW50LmdldEVsZW1lbnRCeUlkKG91dHB1dElkKTsKICBjb25zdCBzdGVwcyA9IG91dHB1dEVsZW1lbnQuc3RlcHM7CgogIGNvbnN0IG5leHQgPSBzdGVwcy5uZXh0KG91dHB1dEVsZW1lbnQubGFzdFByb21pc2VWYWx1ZSk7CiAgcmV0dXJuIFByb21pc2UucmVzb2x2ZShuZXh0LnZhbHVlLnByb21pc2UpLnRoZW4oKHZhbHVlKSA9PiB7CiAgICAvLyBDYWNoZSB0aGUgbGFzdCBwcm9taXNlIHZhbHVlIHRvIG1ha2UgaXQgYXZhaWxhYmxlIHRvIHRoZSBuZXh0CiAgICAvLyBzdGVwIG9mIHRoZSBnZW5lcmF0b3IuCiAgICBvdXRwdXRFbGVtZW50Lmxhc3RQcm9taXNlVmFsdWUgPSB2YWx1ZTsKICAgIHJldHVybiBuZXh0LnZhbHVlLnJlc3BvbnNlOwogIH0pOwp9CgovKioKICogR2VuZXJhdG9yIGZ1bmN0aW9uIHdoaWNoIGlzIGNhbGxlZCBiZXR3ZWVuIGVhY2ggYXN5bmMgc3RlcCBvZiB0aGUgdXBsb2FkCiAqIHByb2Nlc3MuCiAqIEBwYXJhbSB7c3RyaW5nfSBpbnB1dElkIEVsZW1lbnQgSUQgb2YgdGhlIGlucHV0IGZpbGUgcGlja2VyIGVsZW1lbnQuCiAqIEBwYXJhbSB7c3RyaW5nfSBvdXRwdXRJZCBFbGVtZW50IElEIG9mIHRoZSBvdXRwdXQgZGlzcGxheS4KICogQHJldHVybiB7IUl0ZXJhYmxlPCFPYmplY3Q+fSBJdGVyYWJsZSBvZiBuZXh0IHN0ZXBzLgogKi8KZnVuY3Rpb24qIHVwbG9hZEZpbGVzU3RlcChpbnB1dElkLCBvdXRwdXRJZCkgewogIGNvbnN0IGlucHV0RWxlbWVudCA9IGRvY3VtZW50LmdldEVsZW1lbnRCeUlkKGlucHV0SWQpOwogIGlucHV0RWxlbWVudC5kaXNhYmxlZCA9IGZhbHNlOwoKICBjb25zdCBvdXRwdXRFbGVtZW50ID0gZG9jdW1lbnQuZ2V0RWxlbWVudEJ5SWQob3V0cHV0SWQpOwogIG91dHB1dEVsZW1lbnQuaW5uZXJIVE1MID0gJyc7CgogIGNvbnN0IHBpY2tlZFByb21pc2UgPSBuZXcgUHJvbWlzZSgocmVzb2x2ZSkgPT4gewogICAgaW5wdXRFbGVtZW50LmFkZEV2ZW50TGlzdGVuZXIoJ2NoYW5nZScsIChlKSA9PiB7CiAgICAgIHJlc29sdmUoZS50YXJnZXQuZmlsZXMpOwogICAgfSk7CiAgfSk7CgogIGNvbnN0IGNhbmNlbCA9IGRvY3VtZW50LmNyZWF0ZUVsZW1lbnQoJ2J1dHRvbicpOwogIGlucHV0RWxlbWVudC5wYXJlbnRFbGVtZW50LmFwcGVuZENoaWxkKGNhbmNlbCk7CiAgY2FuY2VsLnRleHRDb250ZW50ID0gJ0NhbmNlbCB1cGxvYWQnOwogIGNvbnN0IGNhbmNlbFByb21pc2UgPSBuZXcgUHJvbWlzZSgocmVzb2x2ZSkgPT4gewogICAgY2FuY2VsLm9uY2xpY2sgPSAoKSA9PiB7CiAgICAgIHJlc29sdmUobnVsbCk7CiAgICB9OwogIH0pOwoKICAvLyBXYWl0IGZvciB0aGUgdXNlciB0byBwaWNrIHRoZSBmaWxlcy4KICBjb25zdCBmaWxlcyA9IHlpZWxkIHsKICAgIHByb21pc2U6IFByb21pc2UucmFjZShbcGlja2VkUHJvbWlzZSwgY2FuY2VsUHJvbWlzZV0pLAogICAgcmVzcG9uc2U6IHsKICAgICAgYWN0aW9uOiAnc3RhcnRpbmcnLAogICAgfQogIH07CgogIGNhbmNlbC5yZW1vdmUoKTsKCiAgLy8gRGlzYWJsZSB0aGUgaW5wdXQgZWxlbWVudCBzaW5jZSBmdXJ0aGVyIHBpY2tzIGFyZSBub3QgYWxsb3dlZC4KICBpbnB1dEVsZW1lbnQuZGlzYWJsZWQgPSB0cnVlOwoKICBpZiAoIWZpbGVzKSB7CiAgICByZXR1cm4gewogICAgICByZXNwb25zZTogewogICAgICAgIGFjdGlvbjogJ2NvbXBsZXRlJywKICAgICAgfQogICAgfTsKICB9CgogIGZvciAoY29uc3QgZmlsZSBvZiBmaWxlcykgewogICAgY29uc3QgbGkgPSBkb2N1bWVudC5jcmVhdGVFbGVtZW50KCdsaScpOwogICAgbGkuYXBwZW5kKHNwYW4oZmlsZS5uYW1lLCB7Zm9udFdlaWdodDogJ2JvbGQnfSkpOwogICAgbGkuYXBwZW5kKHNwYW4oCiAgICAgICAgYCgke2ZpbGUudHlwZSB8fCAnbi9hJ30pIC0gJHtmaWxlLnNpemV9IGJ5dGVzLCBgICsKICAgICAgICBgbGFzdCBtb2RpZmllZDogJHsKICAgICAgICAgICAgZmlsZS5sYXN0TW9kaWZpZWREYXRlID8gZmlsZS5sYXN0TW9kaWZpZWREYXRlLnRvTG9jYWxlRGF0ZVN0cmluZygpIDoKICAgICAgICAgICAgICAgICAgICAgICAgICAgICAgICAgICAgJ24vYSd9IC0gYCkpOwogICAgY29uc3QgcGVyY2VudCA9IHNwYW4oJzAlIGRvbmUnKTsKICAgIGxpLmFwcGVuZENoaWxkKHBlcmNlbnQpOwoKICAgIG91dHB1dEVsZW1lbnQuYXBwZW5kQ2hpbGQobGkpOwoKICAgIGNvbnN0IGZpbGVEYXRhUHJvbWlzZSA9IG5ldyBQcm9taXNlKChyZXNvbHZlKSA9PiB7CiAgICAgIGNvbnN0IHJlYWRlciA9IG5ldyBGaWxlUmVhZGVyKCk7CiAgICAgIHJlYWRlci5vbmxvYWQgPSAoZSkgPT4gewogICAgICAgIHJlc29sdmUoZS50YXJnZXQucmVzdWx0KTsKICAgICAgfTsKICAgICAgcmVhZGVyLnJlYWRBc0FycmF5QnVmZmVyKGZpbGUpOwogICAgfSk7CiAgICAvLyBXYWl0IGZvciB0aGUgZGF0YSB0byBiZSByZWFkeS4KICAgIGxldCBmaWxlRGF0YSA9IHlpZWxkIHsKICAgICAgcHJvbWlzZTogZmlsZURhdGFQcm9taXNlLAogICAgICByZXNwb25zZTogewogICAgICAgIGFjdGlvbjogJ2NvbnRpbnVlJywKICAgICAgfQogICAgfTsKCiAgICAvLyBVc2UgYSBjaHVua2VkIHNlbmRpbmcgdG8gYXZvaWQgbWVzc2FnZSBzaXplIGxpbWl0cy4gU2VlIGIvNjIxMTU2NjAuCiAgICBsZXQgcG9zaXRpb24gPSAwOwogICAgZG8gewogICAgICBjb25zdCBsZW5ndGggPSBNYXRoLm1pbihmaWxlRGF0YS5ieXRlTGVuZ3RoIC0gcG9zaXRpb24sIE1BWF9QQVlMT0FEX1NJWkUpOwogICAgICBjb25zdCBjaHVuayA9IG5ldyBVaW50OEFycmF5KGZpbGVEYXRhLCBwb3NpdGlvbiwgbGVuZ3RoKTsKICAgICAgcG9zaXRpb24gKz0gbGVuZ3RoOwoKICAgICAgY29uc3QgYmFzZTY0ID0gYnRvYShTdHJpbmcuZnJvbUNoYXJDb2RlLmFwcGx5KG51bGwsIGNodW5rKSk7CiAgICAgIHlpZWxkIHsKICAgICAgICByZXNwb25zZTogewogICAgICAgICAgYWN0aW9uOiAnYXBwZW5kJywKICAgICAgICAgIGZpbGU6IGZpbGUubmFtZSwKICAgICAgICAgIGRhdGE6IGJhc2U2NCwKICAgICAgICB9LAogICAgICB9OwoKICAgICAgbGV0IHBlcmNlbnREb25lID0gZmlsZURhdGEuYnl0ZUxlbmd0aCA9PT0gMCA/CiAgICAgICAgICAxMDAgOgogICAgICAgICAgTWF0aC5yb3VuZCgocG9zaXRpb24gLyBmaWxlRGF0YS5ieXRlTGVuZ3RoKSAqIDEwMCk7CiAgICAgIHBlcmNlbnQudGV4dENvbnRlbnQgPSBgJHtwZXJjZW50RG9uZX0lIGRvbmVgOwoKICAgIH0gd2hpbGUgKHBvc2l0aW9uIDwgZmlsZURhdGEuYnl0ZUxlbmd0aCk7CiAgfQoKICAvLyBBbGwgZG9uZS4KICB5aWVsZCB7CiAgICByZXNwb25zZTogewogICAgICBhY3Rpb246ICdjb21wbGV0ZScsCiAgICB9CiAgfTsKfQoKc2NvcGUuZ29vZ2xlID0gc2NvcGUuZ29vZ2xlIHx8IHt9OwpzY29wZS5nb29nbGUuY29sYWIgPSBzY29wZS5nb29nbGUuY29sYWIgfHwge307CnNjb3BlLmdvb2dsZS5jb2xhYi5fZmlsZXMgPSB7CiAgX3VwbG9hZEZpbGVzLAogIF91cGxvYWRGaWxlc0NvbnRpbnVlLAp9Owp9KShzZWxmKTsK",
              "ok": true,
              "headers": [
                [
                  "content-type",
                  "application/javascript"
                ]
              ],
              "status": 200,
              "status_text": ""
            }
          },
          "base_uri": "https://localhost:8080/",
          "height": 73
        },
        "outputId": "0c17034b-9110-4d19-f240-a1d0a028abea"
      },
      "execution_count": 85,
      "outputs": [
        {
          "output_type": "display_data",
          "data": {
            "text/html": [
              "\n",
              "     <input type=\"file\" id=\"files-da44262f-e7dc-4353-a3c8-4a15b479bba3\" name=\"files[]\" multiple disabled\n",
              "        style=\"border:none\" />\n",
              "     <output id=\"result-da44262f-e7dc-4353-a3c8-4a15b479bba3\">\n",
              "      Upload widget is only available when the cell has been executed in the\n",
              "      current browser session. Please rerun this cell to enable.\n",
              "      </output>\n",
              "      <script src=\"/nbextensions/google.colab/files.js\"></script> "
            ],
            "text/plain": [
              "<IPython.core.display.HTML object>"
            ]
          },
          "metadata": {}
        },
        {
          "output_type": "stream",
          "name": "stdout",
          "text": [
            "Saving netflix_titles.csv to netflix_titles.csv\n"
          ]
        }
      ]
    },
    {
      "cell_type": "code",
      "source": [
        "cd /content"
      ],
      "metadata": {
        "id": "4klQvM-FqnIS",
        "colab": {
          "base_uri": "https://localhost:8080/"
        },
        "outputId": "f17de587-d830-458d-d852-1cb80b1c5666"
      },
      "execution_count": 86,
      "outputs": [
        {
          "output_type": "stream",
          "name": "stdout",
          "text": [
            "/content\n"
          ]
        }
      ]
    },
    {
      "cell_type": "markdown",
      "source": [
        "When you're loading data into pandas, **load only the relevant columns** otherwise they're just occupying unnecessary space in the memory."
      ],
      "metadata": {
        "id": "G2rXZxywLkx6"
      }
    },
    {
      "cell_type": "code",
      "source": [
        "# https://www.kaggle.com/shivamb/netflix-shows\n",
        "FILEPATH_NETFLIX_TITLES = \"data/netflix_titles.csv\""
      ],
      "metadata": {
        "id": "QtEzKWwGvgJv"
      },
      "execution_count": 87,
      "outputs": []
    },
    {
      "cell_type": "code",
      "source": [
        "df_netflix = pd.read_csv(FILEPATH_NETFLIX_TITLES)\n",
        "df_netflix.info(verbose=True, memory_usage=\"deep\")"
      ],
      "metadata": {
        "id": "ySnNJ7vLu1DP",
        "colab": {
          "base_uri": "https://localhost:8080/"
        },
        "outputId": "b3bc265e-ed31-49b3-ca2c-4aacdd95474a"
      },
      "execution_count": 88,
      "outputs": [
        {
          "output_type": "stream",
          "name": "stdout",
          "text": [
            "<class 'pandas.core.frame.DataFrame'>\n",
            "RangeIndex: 8807 entries, 0 to 8806\n",
            "Data columns (total 12 columns):\n",
            " #   Column        Non-Null Count  Dtype \n",
            "---  ------        --------------  ----- \n",
            " 0   show_id       8807 non-null   object\n",
            " 1   type          8807 non-null   object\n",
            " 2   title         8807 non-null   object\n",
            " 3   director      6173 non-null   object\n",
            " 4   cast          7982 non-null   object\n",
            " 5   country       7976 non-null   object\n",
            " 6   date_added    8797 non-null   object\n",
            " 7   release_year  8807 non-null   int64 \n",
            " 8   rating        8803 non-null   object\n",
            " 9   duration      8804 non-null   object\n",
            " 10  listed_in     8807 non-null   object\n",
            " 11  description   8807 non-null   object\n",
            "dtypes: int64(1), object(11)\n",
            "memory usage: 8.5 MB\n"
          ]
        }
      ]
    },
    {
      "cell_type": "code",
      "source": [
        "df_netflix.head()"
      ],
      "metadata": {
        "id": "2PPJsKQxu6UG",
        "colab": {
          "base_uri": "https://localhost:8080/",
          "height": 250
        },
        "outputId": "a78590aa-75c8-4d68-861c-41290140bf62"
      },
      "execution_count": 89,
      "outputs": [
        {
          "output_type": "execute_result",
          "data": {
            "text/html": [
              "\n",
              "  <div id=\"df-c12e9bf7-308a-41a1-b45b-ef5366030c63\">\n",
              "    <div class=\"colab-df-container\">\n",
              "      <div>\n",
              "<style scoped>\n",
              "    .dataframe tbody tr th:only-of-type {\n",
              "        vertical-align: middle;\n",
              "    }\n",
              "\n",
              "    .dataframe tbody tr th {\n",
              "        vertical-align: top;\n",
              "    }\n",
              "\n",
              "    .dataframe thead th {\n",
              "        text-align: right;\n",
              "    }\n",
              "</style>\n",
              "<table border=\"1\" class=\"dataframe\">\n",
              "  <thead>\n",
              "    <tr style=\"text-align: right;\">\n",
              "      <th></th>\n",
              "      <th>show_id</th>\n",
              "      <th>type</th>\n",
              "      <th>title</th>\n",
              "      <th>director</th>\n",
              "      <th>cast</th>\n",
              "      <th>country</th>\n",
              "      <th>date_added</th>\n",
              "      <th>release_year</th>\n",
              "      <th>rating</th>\n",
              "      <th>duration</th>\n",
              "      <th>listed_in</th>\n",
              "      <th>description</th>\n",
              "    </tr>\n",
              "  </thead>\n",
              "  <tbody>\n",
              "    <tr>\n",
              "      <th>0</th>\n",
              "      <td>s1</td>\n",
              "      <td>Movie</td>\n",
              "      <td>Dick Johnson Is Dead</td>\n",
              "      <td>Kirsten Johnson</td>\n",
              "      <td>NaN</td>\n",
              "      <td>United States</td>\n",
              "      <td>September 25, 2021</td>\n",
              "      <td>2020</td>\n",
              "      <td>PG-13</td>\n",
              "      <td>90 min</td>\n",
              "      <td>Documentaries</td>\n",
              "      <td>As her father nears the end of his life, filmm...</td>\n",
              "    </tr>\n",
              "    <tr>\n",
              "      <th>1</th>\n",
              "      <td>s2</td>\n",
              "      <td>TV Show</td>\n",
              "      <td>Blood &amp; Water</td>\n",
              "      <td>NaN</td>\n",
              "      <td>Ama Qamata, Khosi Ngema, Gail Mabalane, Thaban...</td>\n",
              "      <td>South Africa</td>\n",
              "      <td>September 24, 2021</td>\n",
              "      <td>2021</td>\n",
              "      <td>TV-MA</td>\n",
              "      <td>2 Seasons</td>\n",
              "      <td>International TV Shows, TV Dramas, TV Mysteries</td>\n",
              "      <td>After crossing paths at a party, a Cape Town t...</td>\n",
              "    </tr>\n",
              "    <tr>\n",
              "      <th>2</th>\n",
              "      <td>s3</td>\n",
              "      <td>TV Show</td>\n",
              "      <td>Ganglands</td>\n",
              "      <td>Julien Leclercq</td>\n",
              "      <td>Sami Bouajila, Tracy Gotoas, Samuel Jouy, Nabi...</td>\n",
              "      <td>NaN</td>\n",
              "      <td>September 24, 2021</td>\n",
              "      <td>2021</td>\n",
              "      <td>TV-MA</td>\n",
              "      <td>1 Season</td>\n",
              "      <td>Crime TV Shows, International TV Shows, TV Act...</td>\n",
              "      <td>To protect his family from a powerful drug lor...</td>\n",
              "    </tr>\n",
              "    <tr>\n",
              "      <th>3</th>\n",
              "      <td>s4</td>\n",
              "      <td>TV Show</td>\n",
              "      <td>Jailbirds New Orleans</td>\n",
              "      <td>NaN</td>\n",
              "      <td>NaN</td>\n",
              "      <td>NaN</td>\n",
              "      <td>September 24, 2021</td>\n",
              "      <td>2021</td>\n",
              "      <td>TV-MA</td>\n",
              "      <td>1 Season</td>\n",
              "      <td>Docuseries, Reality TV</td>\n",
              "      <td>Feuds, flirtations and toilet talk go down amo...</td>\n",
              "    </tr>\n",
              "    <tr>\n",
              "      <th>4</th>\n",
              "      <td>s5</td>\n",
              "      <td>TV Show</td>\n",
              "      <td>Kota Factory</td>\n",
              "      <td>NaN</td>\n",
              "      <td>Mayur More, Jitendra Kumar, Ranjan Raj, Alam K...</td>\n",
              "      <td>India</td>\n",
              "      <td>September 24, 2021</td>\n",
              "      <td>2021</td>\n",
              "      <td>TV-MA</td>\n",
              "      <td>2 Seasons</td>\n",
              "      <td>International TV Shows, Romantic TV Shows, TV ...</td>\n",
              "      <td>In a city of coaching centers known to train I...</td>\n",
              "    </tr>\n",
              "  </tbody>\n",
              "</table>\n",
              "</div>\n",
              "      <button class=\"colab-df-convert\" onclick=\"convertToInteractive('df-c12e9bf7-308a-41a1-b45b-ef5366030c63')\"\n",
              "              title=\"Convert this dataframe to an interactive table.\"\n",
              "              style=\"display:none;\">\n",
              "        \n",
              "  <svg xmlns=\"http://www.w3.org/2000/svg\" height=\"24px\"viewBox=\"0 0 24 24\"\n",
              "       width=\"24px\">\n",
              "    <path d=\"M0 0h24v24H0V0z\" fill=\"none\"/>\n",
              "    <path d=\"M18.56 5.44l.94 2.06.94-2.06 2.06-.94-2.06-.94-.94-2.06-.94 2.06-2.06.94zm-11 1L8.5 8.5l.94-2.06 2.06-.94-2.06-.94L8.5 2.5l-.94 2.06-2.06.94zm10 10l.94 2.06.94-2.06 2.06-.94-2.06-.94-.94-2.06-.94 2.06-2.06.94z\"/><path d=\"M17.41 7.96l-1.37-1.37c-.4-.4-.92-.59-1.43-.59-.52 0-1.04.2-1.43.59L10.3 9.45l-7.72 7.72c-.78.78-.78 2.05 0 2.83L4 21.41c.39.39.9.59 1.41.59.51 0 1.02-.2 1.41-.59l7.78-7.78 2.81-2.81c.8-.78.8-2.07 0-2.86zM5.41 20L4 18.59l7.72-7.72 1.47 1.35L5.41 20z\"/>\n",
              "  </svg>\n",
              "      </button>\n",
              "      \n",
              "  <style>\n",
              "    .colab-df-container {\n",
              "      display:flex;\n",
              "      flex-wrap:wrap;\n",
              "      gap: 12px;\n",
              "    }\n",
              "\n",
              "    .colab-df-convert {\n",
              "      background-color: #E8F0FE;\n",
              "      border: none;\n",
              "      border-radius: 50%;\n",
              "      cursor: pointer;\n",
              "      display: none;\n",
              "      fill: #1967D2;\n",
              "      height: 32px;\n",
              "      padding: 0 0 0 0;\n",
              "      width: 32px;\n",
              "    }\n",
              "\n",
              "    .colab-df-convert:hover {\n",
              "      background-color: #E2EBFA;\n",
              "      box-shadow: 0px 1px 2px rgba(60, 64, 67, 0.3), 0px 1px 3px 1px rgba(60, 64, 67, 0.15);\n",
              "      fill: #174EA6;\n",
              "    }\n",
              "\n",
              "    [theme=dark] .colab-df-convert {\n",
              "      background-color: #3B4455;\n",
              "      fill: #D2E3FC;\n",
              "    }\n",
              "\n",
              "    [theme=dark] .colab-df-convert:hover {\n",
              "      background-color: #434B5C;\n",
              "      box-shadow: 0px 1px 3px 1px rgba(0, 0, 0, 0.15);\n",
              "      filter: drop-shadow(0px 1px 2px rgba(0, 0, 0, 0.3));\n",
              "      fill: #FFFFFF;\n",
              "    }\n",
              "  </style>\n",
              "\n",
              "      <script>\n",
              "        const buttonEl =\n",
              "          document.querySelector('#df-c12e9bf7-308a-41a1-b45b-ef5366030c63 button.colab-df-convert');\n",
              "        buttonEl.style.display =\n",
              "          google.colab.kernel.accessAllowed ? 'block' : 'none';\n",
              "\n",
              "        async function convertToInteractive(key) {\n",
              "          const element = document.querySelector('#df-c12e9bf7-308a-41a1-b45b-ef5366030c63');\n",
              "          const dataTable =\n",
              "            await google.colab.kernel.invokeFunction('convertToInteractive',\n",
              "                                                     [key], {});\n",
              "          if (!dataTable) return;\n",
              "\n",
              "          const docLinkHtml = 'Like what you see? Visit the ' +\n",
              "            '<a target=\"_blank\" href=https://colab.research.google.com/notebooks/data_table.ipynb>data table notebook</a>'\n",
              "            + ' to learn more about interactive tables.';\n",
              "          element.innerHTML = '';\n",
              "          dataTable['output_type'] = 'display_data';\n",
              "          await google.colab.output.renderOutput(dataTable, element);\n",
              "          const docLink = document.createElement('div');\n",
              "          docLink.innerHTML = docLinkHtml;\n",
              "          element.appendChild(docLink);\n",
              "        }\n",
              "      </script>\n",
              "    </div>\n",
              "  </div>\n",
              "  "
            ],
            "text/plain": [
              "  show_id     type                  title         director  \\\n",
              "0      s1    Movie   Dick Johnson Is Dead  Kirsten Johnson   \n",
              "1      s2  TV Show          Blood & Water              NaN   \n",
              "2      s3  TV Show              Ganglands  Julien Leclercq   \n",
              "3      s4  TV Show  Jailbirds New Orleans              NaN   \n",
              "4      s5  TV Show           Kota Factory              NaN   \n",
              "\n",
              "                                                cast        country  \\\n",
              "0                                                NaN  United States   \n",
              "1  Ama Qamata, Khosi Ngema, Gail Mabalane, Thaban...   South Africa   \n",
              "2  Sami Bouajila, Tracy Gotoas, Samuel Jouy, Nabi...            NaN   \n",
              "3                                                NaN            NaN   \n",
              "4  Mayur More, Jitendra Kumar, Ranjan Raj, Alam K...          India   \n",
              "\n",
              "           date_added  release_year rating   duration  \\\n",
              "0  September 25, 2021          2020  PG-13     90 min   \n",
              "1  September 24, 2021          2021  TV-MA  2 Seasons   \n",
              "2  September 24, 2021          2021  TV-MA   1 Season   \n",
              "3  September 24, 2021          2021  TV-MA   1 Season   \n",
              "4  September 24, 2021          2021  TV-MA  2 Seasons   \n",
              "\n",
              "                                           listed_in  \\\n",
              "0                                      Documentaries   \n",
              "1    International TV Shows, TV Dramas, TV Mysteries   \n",
              "2  Crime TV Shows, International TV Shows, TV Act...   \n",
              "3                             Docuseries, Reality TV   \n",
              "4  International TV Shows, Romantic TV Shows, TV ...   \n",
              "\n",
              "                                         description  \n",
              "0  As her father nears the end of his life, filmm...  \n",
              "1  After crossing paths at a party, a Cape Town t...  \n",
              "2  To protect his family from a powerful drug lor...  \n",
              "3  Feuds, flirtations and toilet talk go down amo...  \n",
              "4  In a city of coaching centers known to train I...  "
            ]
          },
          "metadata": {},
          "execution_count": 89
        }
      ]
    },
    {
      "cell_type": "code",
      "source": [
        "df_netflix.nunique()"
      ],
      "metadata": {
        "id": "kHU3H6u_wdkL",
        "colab": {
          "base_uri": "https://localhost:8080/"
        },
        "outputId": "4e5c75a0-f26f-40bb-de6f-49f6a6663eb4"
      },
      "execution_count": 90,
      "outputs": [
        {
          "output_type": "execute_result",
          "data": {
            "text/plain": [
              "show_id         8807\n",
              "type               2\n",
              "title           8807\n",
              "director        4528\n",
              "cast            7692\n",
              "country          748\n",
              "date_added      1767\n",
              "release_year      74\n",
              "rating            17\n",
              "duration         220\n",
              "listed_in        514\n",
              "description     8775\n",
              "dtype: int64"
            ]
          },
          "metadata": {},
          "execution_count": 90
        }
      ]
    },
    {
      "cell_type": "markdown",
      "source": [
        "Suppose we're only tasked to **visualize the number of netflix movies released across the years since its inception.** If this dataset is heavy, we can opt not to load the other unncessary columns by using the parameter ```usecols``` in pandas' ```read_csv``` method and select the relevant ones. "
      ],
      "metadata": {
        "id": "_1XopUrAqfEi"
      }
    },
    {
      "cell_type": "code",
      "source": [
        "cols = [\"show_id\", \"type\", \"release_year\"]\n",
        "df_netflix = pd.read_csv(FILEPATH_NETFLIX_TITLES, usecols=cols)\n",
        "df_netflix.info(verbose=False, memory_usage=\"deep\")"
      ],
      "metadata": {
        "id": "DsZzpyKZu7NH",
        "colab": {
          "base_uri": "https://localhost:8080/"
        },
        "outputId": "191d5874-0894-4a2a-d7a9-8eb22f8b2c5a"
      },
      "execution_count": 91,
      "outputs": [
        {
          "output_type": "stream",
          "name": "stdout",
          "text": [
            "<class 'pandas.core.frame.DataFrame'>\n",
            "RangeIndex: 8807 entries, 0 to 8806\n",
            "Columns: 3 entries, show_id to release_year\n",
            "dtypes: int64(1), object(2)\n",
            "memory usage: 1.1 MB\n"
          ]
        }
      ]
    },
    {
      "cell_type": "code",
      "source": [
        "8.5e6 / 1.1e6"
      ],
      "metadata": {
        "id": "gxnugdJAIrXI",
        "colab": {
          "base_uri": "https://localhost:8080/"
        },
        "outputId": "f7bef1fd-848d-48e6-8c07-85c73c4e90fe"
      },
      "execution_count": 92,
      "outputs": [
        {
          "output_type": "execute_result",
          "data": {
            "text/plain": [
              "7.7272727272727275"
            ]
          },
          "metadata": {},
          "execution_count": 92
        }
      ]
    },
    {
      "cell_type": "markdown",
      "source": [
        "Hooray! We've been able to shrink the memory usage down to **~7x times** just by mindfully selecting the columns we need for analysis."
      ],
      "metadata": {
        "id": "2MA_TrbpIrPo"
      }
    },
    {
      "cell_type": "code",
      "source": [
        "netflix_titles_over_the_yrs = df_netflix.groupby([\"release_year\", \"type\"])[\"show_id\"].nunique().reset_index(drop=False)\n",
        "netflix_titles_over_the_yrs.head()"
      ],
      "metadata": {
        "id": "3Epx92uYzNVG",
        "colab": {
          "base_uri": "https://localhost:8080/",
          "height": 206
        },
        "outputId": "f28325e3-6fe0-4ab6-8eeb-c535e97fb9f3"
      },
      "execution_count": 93,
      "outputs": [
        {
          "output_type": "execute_result",
          "data": {
            "text/html": [
              "\n",
              "  <div id=\"df-24ceef24-fac0-4165-9300-0dce3dfb6c98\">\n",
              "    <div class=\"colab-df-container\">\n",
              "      <div>\n",
              "<style scoped>\n",
              "    .dataframe tbody tr th:only-of-type {\n",
              "        vertical-align: middle;\n",
              "    }\n",
              "\n",
              "    .dataframe tbody tr th {\n",
              "        vertical-align: top;\n",
              "    }\n",
              "\n",
              "    .dataframe thead th {\n",
              "        text-align: right;\n",
              "    }\n",
              "</style>\n",
              "<table border=\"1\" class=\"dataframe\">\n",
              "  <thead>\n",
              "    <tr style=\"text-align: right;\">\n",
              "      <th></th>\n",
              "      <th>release_year</th>\n",
              "      <th>type</th>\n",
              "      <th>show_id</th>\n",
              "    </tr>\n",
              "  </thead>\n",
              "  <tbody>\n",
              "    <tr>\n",
              "      <th>0</th>\n",
              "      <td>1925</td>\n",
              "      <td>TV Show</td>\n",
              "      <td>1</td>\n",
              "    </tr>\n",
              "    <tr>\n",
              "      <th>1</th>\n",
              "      <td>1942</td>\n",
              "      <td>Movie</td>\n",
              "      <td>2</td>\n",
              "    </tr>\n",
              "    <tr>\n",
              "      <th>2</th>\n",
              "      <td>1943</td>\n",
              "      <td>Movie</td>\n",
              "      <td>3</td>\n",
              "    </tr>\n",
              "    <tr>\n",
              "      <th>3</th>\n",
              "      <td>1944</td>\n",
              "      <td>Movie</td>\n",
              "      <td>3</td>\n",
              "    </tr>\n",
              "    <tr>\n",
              "      <th>4</th>\n",
              "      <td>1945</td>\n",
              "      <td>Movie</td>\n",
              "      <td>3</td>\n",
              "    </tr>\n",
              "  </tbody>\n",
              "</table>\n",
              "</div>\n",
              "      <button class=\"colab-df-convert\" onclick=\"convertToInteractive('df-24ceef24-fac0-4165-9300-0dce3dfb6c98')\"\n",
              "              title=\"Convert this dataframe to an interactive table.\"\n",
              "              style=\"display:none;\">\n",
              "        \n",
              "  <svg xmlns=\"http://www.w3.org/2000/svg\" height=\"24px\"viewBox=\"0 0 24 24\"\n",
              "       width=\"24px\">\n",
              "    <path d=\"M0 0h24v24H0V0z\" fill=\"none\"/>\n",
              "    <path d=\"M18.56 5.44l.94 2.06.94-2.06 2.06-.94-2.06-.94-.94-2.06-.94 2.06-2.06.94zm-11 1L8.5 8.5l.94-2.06 2.06-.94-2.06-.94L8.5 2.5l-.94 2.06-2.06.94zm10 10l.94 2.06.94-2.06 2.06-.94-2.06-.94-.94-2.06-.94 2.06-2.06.94z\"/><path d=\"M17.41 7.96l-1.37-1.37c-.4-.4-.92-.59-1.43-.59-.52 0-1.04.2-1.43.59L10.3 9.45l-7.72 7.72c-.78.78-.78 2.05 0 2.83L4 21.41c.39.39.9.59 1.41.59.51 0 1.02-.2 1.41-.59l7.78-7.78 2.81-2.81c.8-.78.8-2.07 0-2.86zM5.41 20L4 18.59l7.72-7.72 1.47 1.35L5.41 20z\"/>\n",
              "  </svg>\n",
              "      </button>\n",
              "      \n",
              "  <style>\n",
              "    .colab-df-container {\n",
              "      display:flex;\n",
              "      flex-wrap:wrap;\n",
              "      gap: 12px;\n",
              "    }\n",
              "\n",
              "    .colab-df-convert {\n",
              "      background-color: #E8F0FE;\n",
              "      border: none;\n",
              "      border-radius: 50%;\n",
              "      cursor: pointer;\n",
              "      display: none;\n",
              "      fill: #1967D2;\n",
              "      height: 32px;\n",
              "      padding: 0 0 0 0;\n",
              "      width: 32px;\n",
              "    }\n",
              "\n",
              "    .colab-df-convert:hover {\n",
              "      background-color: #E2EBFA;\n",
              "      box-shadow: 0px 1px 2px rgba(60, 64, 67, 0.3), 0px 1px 3px 1px rgba(60, 64, 67, 0.15);\n",
              "      fill: #174EA6;\n",
              "    }\n",
              "\n",
              "    [theme=dark] .colab-df-convert {\n",
              "      background-color: #3B4455;\n",
              "      fill: #D2E3FC;\n",
              "    }\n",
              "\n",
              "    [theme=dark] .colab-df-convert:hover {\n",
              "      background-color: #434B5C;\n",
              "      box-shadow: 0px 1px 3px 1px rgba(0, 0, 0, 0.15);\n",
              "      filter: drop-shadow(0px 1px 2px rgba(0, 0, 0, 0.3));\n",
              "      fill: #FFFFFF;\n",
              "    }\n",
              "  </style>\n",
              "\n",
              "      <script>\n",
              "        const buttonEl =\n",
              "          document.querySelector('#df-24ceef24-fac0-4165-9300-0dce3dfb6c98 button.colab-df-convert');\n",
              "        buttonEl.style.display =\n",
              "          google.colab.kernel.accessAllowed ? 'block' : 'none';\n",
              "\n",
              "        async function convertToInteractive(key) {\n",
              "          const element = document.querySelector('#df-24ceef24-fac0-4165-9300-0dce3dfb6c98');\n",
              "          const dataTable =\n",
              "            await google.colab.kernel.invokeFunction('convertToInteractive',\n",
              "                                                     [key], {});\n",
              "          if (!dataTable) return;\n",
              "\n",
              "          const docLinkHtml = 'Like what you see? Visit the ' +\n",
              "            '<a target=\"_blank\" href=https://colab.research.google.com/notebooks/data_table.ipynb>data table notebook</a>'\n",
              "            + ' to learn more about interactive tables.';\n",
              "          element.innerHTML = '';\n",
              "          dataTable['output_type'] = 'display_data';\n",
              "          await google.colab.output.renderOutput(dataTable, element);\n",
              "          const docLink = document.createElement('div');\n",
              "          docLink.innerHTML = docLinkHtml;\n",
              "          element.appendChild(docLink);\n",
              "        }\n",
              "      </script>\n",
              "    </div>\n",
              "  </div>\n",
              "  "
            ],
            "text/plain": [
              "   release_year     type  show_id\n",
              "0          1925  TV Show        1\n",
              "1          1942    Movie        2\n",
              "2          1943    Movie        3\n",
              "3          1944    Movie        3\n",
              "4          1945    Movie        3"
            ]
          },
          "metadata": {},
          "execution_count": 93
        }
      ]
    },
    {
      "cell_type": "code",
      "source": [
        "import matplotlib.pyplot as plt\n",
        "\n",
        "fig, ax = plt.subplots(figsize=(18, 9))\n",
        "\n",
        "sns.lineplot(data=netflix_titles_over_the_yrs, x=\"release_year\", y=\"show_id\", hue=\"type\", ax=ax)\n",
        "plt.ylabel(\"# of titles\", fontsize=12)\n",
        "plt.xlabel(\"release year\", fontsize=12);"
      ],
      "metadata": {
        "id": "NjfZEIp4ywxi",
        "colab": {
          "base_uri": "https://localhost:8080/",
          "height": 555
        },
        "outputId": "0e0d8606-315c-4165-b79f-9ef40c48f521"
      },
      "execution_count": 94,
      "outputs": [
        {
          "output_type": "display_data",
          "data": {
            "image/png": "[encoded data removed]",
            "text/plain": [
              "<Figure size 1296x648 with 1 Axes>"
            ]
          },
          "metadata": {
            "needs_background": "light"
          }
        }
      ]
    },
    {
      "cell_type": "markdown",
      "source": [
        "We're able to accomplish the task without the other columns, right? Of couse, **err on the side of caution and do EDA and sanity checks first.** 😅"
      ],
      "metadata": {
        "id": "z7bI_T-Lw1e8"
      }
    },
    {
      "cell_type": "code",
      "source": [
        "mkdir data"
      ],
      "metadata": {
        "id": "dQEeW5Qj7cla",
        "colab": {
          "base_uri": "https://localhost:8080/"
        },
        "outputId": "3db540e6-c76e-410c-eaee-d30da59ced5a"
      },
      "execution_count": 95,
      "outputs": [
        {
          "output_type": "stream",
          "name": "stdout",
          "text": [
            "mkdir: cannot create directory ‘data’: File exists\n"
          ]
        }
      ]
    },
    {
      "cell_type": "code",
      "source": [
        "cd data"
      ],
      "metadata": {
        "id": "MQJq6WYx2ZLD",
        "colab": {
          "base_uri": "https://localhost:8080/"
        },
        "outputId": "84d3e306-ff85-40d5-9410-18ce587213de"
      },
      "execution_count": 96,
      "outputs": [
        {
          "output_type": "stream",
          "name": "stdout",
          "text": [
            "/content/data\n"
          ]
        }
      ]
    },
    {
      "cell_type": "code",
      "source": [
        "from google.colab import files\n",
        "files.upload();"
      ],
      "metadata": {
        "id": "otGfahBu2Z17",
        "colab": {
          "resources": {
            "http://localhost:8080/nbextensions/google.colab/files.js": {
              "data": "Ly8gQ29weXJpZ2h0IDIwMTcgR29vZ2xlIExMQwovLwovLyBMaWNlbnNlZCB1bmRlciB0aGUgQXBhY2hlIExpY2Vuc2UsIFZlcnNpb24gMi4wICh0aGUgIkxpY2Vuc2UiKTsKLy8geW91IG1heSBub3QgdXNlIHRoaXMgZmlsZSBleGNlcHQgaW4gY29tcGxpYW5jZSB3aXRoIHRoZSBMaWNlbnNlLgovLyBZb3UgbWF5IG9idGFpbiBhIGNvcHkgb2YgdGhlIExpY2Vuc2UgYXQKLy8KLy8gICAgICBodHRwOi8vd3d3LmFwYWNoZS5vcmcvbGljZW5zZXMvTElDRU5TRS0yLjAKLy8KLy8gVW5sZXNzIHJlcXVpcmVkIGJ5IGFwcGxpY2FibGUgbGF3IG9yIGFncmVlZCB0byBpbiB3cml0aW5nLCBzb2Z0d2FyZQovLyBkaXN0cmlidXRlZCB1bmRlciB0aGUgTGljZW5zZSBpcyBkaXN0cmlidXRlZCBvbiBhbiAiQVMgSVMiIEJBU0lTLAovLyBXSVRIT1VUIFdBUlJBTlRJRVMgT1IgQ09ORElUSU9OUyBPRiBBTlkgS0lORCwgZWl0aGVyIGV4cHJlc3Mgb3IgaW1wbGllZC4KLy8gU2VlIHRoZSBMaWNlbnNlIGZvciB0aGUgc3BlY2lmaWMgbGFuZ3VhZ2UgZ292ZXJuaW5nIHBlcm1pc3Npb25zIGFuZAovLyBsaW1pdGF0aW9ucyB1bmRlciB0aGUgTGljZW5zZS4KCi8qKgogKiBAZmlsZW92ZXJ2aWV3IEhlbHBlcnMgZm9yIGdvb2dsZS5jb2xhYiBQeXRob24gbW9kdWxlLgogKi8KKGZ1bmN0aW9uKHNjb3BlKSB7CmZ1bmN0aW9uIHNwYW4odGV4dCwgc3R5bGVBdHRyaWJ1dGVzID0ge30pIHsKICBjb25zdCBlbGVtZW50ID0gZG9jdW1lbnQuY3JlYXRlRWxlbWVudCgnc3BhbicpOwogIGVsZW1lbnQudGV4dENvbnRlbnQgPSB0ZXh0OwogIGZvciAoY29uc3Qga2V5IG9mIE9iamVjdC5rZXlzKHN0eWxlQXR0cmlidXRlcykpIHsKICAgIGVsZW1lbnQuc3R5bGVba2V5XSA9IHN0eWxlQXR0cmlidXRlc1trZXldOwogIH0KICByZXR1cm4gZWxlbWVudDsKfQoKLy8gTWF4IG51bWJlciBvZiBieXRlcyB3aGljaCB3aWxsIGJlIHVwbG9hZGVkIGF0IGEgdGltZS4KY29uc3QgTUFYX1BBWUxPQURfU0laRSA9IDEwMCAqIDEwMjQ7CgpmdW5jdGlvbiBfdXBsb2FkRmlsZXMoaW5wdXRJZCwgb3V0cHV0SWQpIHsKICBjb25zdCBzdGVwcyA9IHVwbG9hZEZpbGVzU3RlcChpbnB1dElkLCBvdXRwdXRJZCk7CiAgY29uc3Qgb3V0cHV0RWxlbWVudCA9IGRvY3VtZW50LmdldEVsZW1lbnRCeUlkKG91dHB1dElkKTsKICAvLyBDYWNoZSBzdGVwcyBvbiB0aGUgb3V0cHV0RWxlbWVudCB0byBtYWtlIGl0IGF2YWlsYWJsZSBmb3IgdGhlIG5leHQgY2FsbAogIC8vIHRvIHVwbG9hZEZpbGVzQ29udGludWUgZnJvbSBQeXRob24uCiAgb3V0cHV0RWxlbWVudC5zdGVwcyA9IHN0ZXBzOwoKICByZXR1cm4gX3VwbG9hZEZpbGVzQ29udGludWUob3V0cHV0SWQpOwp9CgovLyBUaGlzIGlzIHJvdWdobHkgYW4gYXN5bmMgZ2VuZXJhdG9yIChub3Qgc3VwcG9ydGVkIGluIHRoZSBicm93c2VyIHlldCksCi8vIHdoZXJlIHRoZXJlIGFyZSBtdWx0aXBsZSBhc3luY2hyb25vdXMgc3RlcHMgYW5kIHRoZSBQeXRob24gc2lkZSBpcyBnb2luZwovLyB0byBwb2xsIGZvciBjb21wbGV0aW9uIG9mIGVhY2ggc3RlcC4KLy8gVGhpcyB1c2VzIGEgUHJvbWlzZSB0byBibG9jayB0aGUgcHl0aG9uIHNpZGUgb24gY29tcGxldGlvbiBvZiBlYWNoIHN0ZXAsCi8vIHRoZW4gcGFzc2VzIHRoZSByZXN1bHQgb2YgdGhlIHByZXZpb3VzIHN0ZXAgYXMgdGhlIGlucHV0IHRvIHRoZSBuZXh0IHN0ZXAuCmZ1bmN0aW9uIF91cGxvYWRGaWxlc0NvbnRpbnVlKG91dHB1dElkKSB7CiAgY29uc3Qgb3V0cHV0RWxlbWVudCA9IGRvY3VtZW50LmdldEVsZW1lbnRCeUlkKG91dHB1dElkKTsKICBjb25zdCBzdGVwcyA9IG91dHB1dEVsZW1lbnQuc3RlcHM7CgogIGNvbnN0IG5leHQgPSBzdGVwcy5uZXh0KG91dHB1dEVsZW1lbnQubGFzdFByb21pc2VWYWx1ZSk7CiAgcmV0dXJuIFByb21pc2UucmVzb2x2ZShuZXh0LnZhbHVlLnByb21pc2UpLnRoZW4oKHZhbHVlKSA9PiB7CiAgICAvLyBDYWNoZSB0aGUgbGFzdCBwcm9taXNlIHZhbHVlIHRvIG1ha2UgaXQgYXZhaWxhYmxlIHRvIHRoZSBuZXh0CiAgICAvLyBzdGVwIG9mIHRoZSBnZW5lcmF0b3IuCiAgICBvdXRwdXRFbGVtZW50Lmxhc3RQcm9taXNlVmFsdWUgPSB2YWx1ZTsKICAgIHJldHVybiBuZXh0LnZhbHVlLnJlc3BvbnNlOwogIH0pOwp9CgovKioKICogR2VuZXJhdG9yIGZ1bmN0aW9uIHdoaWNoIGlzIGNhbGxlZCBiZXR3ZWVuIGVhY2ggYXN5bmMgc3RlcCBvZiB0aGUgdXBsb2FkCiAqIHByb2Nlc3MuCiAqIEBwYXJhbSB7c3RyaW5nfSBpbnB1dElkIEVsZW1lbnQgSUQgb2YgdGhlIGlucHV0IGZpbGUgcGlja2VyIGVsZW1lbnQuCiAqIEBwYXJhbSB7c3RyaW5nfSBvdXRwdXRJZCBFbGVtZW50IElEIG9mIHRoZSBvdXRwdXQgZGlzcGxheS4KICogQHJldHVybiB7IUl0ZXJhYmxlPCFPYmplY3Q+fSBJdGVyYWJsZSBvZiBuZXh0IHN0ZXBzLgogKi8KZnVuY3Rpb24qIHVwbG9hZEZpbGVzU3RlcChpbnB1dElkLCBvdXRwdXRJZCkgewogIGNvbnN0IGlucHV0RWxlbWVudCA9IGRvY3VtZW50LmdldEVsZW1lbnRCeUlkKGlucHV0SWQpOwogIGlucHV0RWxlbWVudC5kaXNhYmxlZCA9IGZhbHNlOwoKICBjb25zdCBvdXRwdXRFbGVtZW50ID0gZG9jdW1lbnQuZ2V0RWxlbWVudEJ5SWQob3V0cHV0SWQpOwogIG91dHB1dEVsZW1lbnQuaW5uZXJIVE1MID0gJyc7CgogIGNvbnN0IHBpY2tlZFByb21pc2UgPSBuZXcgUHJvbWlzZSgocmVzb2x2ZSkgPT4gewogICAgaW5wdXRFbGVtZW50LmFkZEV2ZW50TGlzdGVuZXIoJ2NoYW5nZScsIChlKSA9PiB7CiAgICAgIHJlc29sdmUoZS50YXJnZXQuZmlsZXMpOwogICAgfSk7CiAgfSk7CgogIGNvbnN0IGNhbmNlbCA9IGRvY3VtZW50LmNyZWF0ZUVsZW1lbnQoJ2J1dHRvbicpOwogIGlucHV0RWxlbWVudC5wYXJlbnRFbGVtZW50LmFwcGVuZENoaWxkKGNhbmNlbCk7CiAgY2FuY2VsLnRleHRDb250ZW50ID0gJ0NhbmNlbCB1cGxvYWQnOwogIGNvbnN0IGNhbmNlbFByb21pc2UgPSBuZXcgUHJvbWlzZSgocmVzb2x2ZSkgPT4gewogICAgY2FuY2VsLm9uY2xpY2sgPSAoKSA9PiB7CiAgICAgIHJlc29sdmUobnVsbCk7CiAgICB9OwogIH0pOwoKICAvLyBXYWl0IGZvciB0aGUgdXNlciB0byBwaWNrIHRoZSBmaWxlcy4KICBjb25zdCBmaWxlcyA9IHlpZWxkIHsKICAgIHByb21pc2U6IFByb21pc2UucmFjZShbcGlja2VkUHJvbWlzZSwgY2FuY2VsUHJvbWlzZV0pLAogICAgcmVzcG9uc2U6IHsKICAgICAgYWN0aW9uOiAnc3RhcnRpbmcnLAogICAgfQogIH07CgogIGNhbmNlbC5yZW1vdmUoKTsKCiAgLy8gRGlzYWJsZSB0aGUgaW5wdXQgZWxlbWVudCBzaW5jZSBmdXJ0aGVyIHBpY2tzIGFyZSBub3QgYWxsb3dlZC4KICBpbnB1dEVsZW1lbnQuZGlzYWJsZWQgPSB0cnVlOwoKICBpZiAoIWZpbGVzKSB7CiAgICByZXR1cm4gewogICAgICByZXNwb25zZTogewogICAgICAgIGFjdGlvbjogJ2NvbXBsZXRlJywKICAgICAgfQogICAgfTsKICB9CgogIGZvciAoY29uc3QgZmlsZSBvZiBmaWxlcykgewogICAgY29uc3QgbGkgPSBkb2N1bWVudC5jcmVhdGVFbGVtZW50KCdsaScpOwogICAgbGkuYXBwZW5kKHNwYW4oZmlsZS5uYW1lLCB7Zm9udFdlaWdodDogJ2JvbGQnfSkpOwogICAgbGkuYXBwZW5kKHNwYW4oCiAgICAgICAgYCgke2ZpbGUudHlwZSB8fCAnbi9hJ30pIC0gJHtmaWxlLnNpemV9IGJ5dGVzLCBgICsKICAgICAgICBgbGFzdCBtb2RpZmllZDogJHsKICAgICAgICAgICAgZmlsZS5sYXN0TW9kaWZpZWREYXRlID8gZmlsZS5sYXN0TW9kaWZpZWREYXRlLnRvTG9jYWxlRGF0ZVN0cmluZygpIDoKICAgICAgICAgICAgICAgICAgICAgICAgICAgICAgICAgICAgJ24vYSd9IC0gYCkpOwogICAgY29uc3QgcGVyY2VudCA9IHNwYW4oJzAlIGRvbmUnKTsKICAgIGxpLmFwcGVuZENoaWxkKHBlcmNlbnQpOwoKICAgIG91dHB1dEVsZW1lbnQuYXBwZW5kQ2hpbGQobGkpOwoKICAgIGNvbnN0IGZpbGVEYXRhUHJvbWlzZSA9IG5ldyBQcm9taXNlKChyZXNvbHZlKSA9PiB7CiAgICAgIGNvbnN0IHJlYWRlciA9IG5ldyBGaWxlUmVhZGVyKCk7CiAgICAgIHJlYWRlci5vbmxvYWQgPSAoZSkgPT4gewogICAgICAgIHJlc29sdmUoZS50YXJnZXQucmVzdWx0KTsKICAgICAgfTsKICAgICAgcmVhZGVyLnJlYWRBc0FycmF5QnVmZmVyKGZpbGUpOwogICAgfSk7CiAgICAvLyBXYWl0IGZvciB0aGUgZGF0YSB0byBiZSByZWFkeS4KICAgIGxldCBmaWxlRGF0YSA9IHlpZWxkIHsKICAgICAgcHJvbWlzZTogZmlsZURhdGFQcm9taXNlLAogICAgICByZXNwb25zZTogewogICAgICAgIGFjdGlvbjogJ2NvbnRpbnVlJywKICAgICAgfQogICAgfTsKCiAgICAvLyBVc2UgYSBjaHVua2VkIHNlbmRpbmcgdG8gYXZvaWQgbWVzc2FnZSBzaXplIGxpbWl0cy4gU2VlIGIvNjIxMTU2NjAuCiAgICBsZXQgcG9zaXRpb24gPSAwOwogICAgZG8gewogICAgICBjb25zdCBsZW5ndGggPSBNYXRoLm1pbihmaWxlRGF0YS5ieXRlTGVuZ3RoIC0gcG9zaXRpb24sIE1BWF9QQVlMT0FEX1NJWkUpOwogICAgICBjb25zdCBjaHVuayA9IG5ldyBVaW50OEFycmF5KGZpbGVEYXRhLCBwb3NpdGlvbiwgbGVuZ3RoKTsKICAgICAgcG9zaXRpb24gKz0gbGVuZ3RoOwoKICAgICAgY29uc3QgYmFzZTY0ID0gYnRvYShTdHJpbmcuZnJvbUNoYXJDb2RlLmFwcGx5KG51bGwsIGNodW5rKSk7CiAgICAgIHlpZWxkIHsKICAgICAgICByZXNwb25zZTogewogICAgICAgICAgYWN0aW9uOiAnYXBwZW5kJywKICAgICAgICAgIGZpbGU6IGZpbGUubmFtZSwKICAgICAgICAgIGRhdGE6IGJhc2U2NCwKICAgICAgICB9LAogICAgICB9OwoKICAgICAgbGV0IHBlcmNlbnREb25lID0gZmlsZURhdGEuYnl0ZUxlbmd0aCA9PT0gMCA/CiAgICAgICAgICAxMDAgOgogICAgICAgICAgTWF0aC5yb3VuZCgocG9zaXRpb24gLyBmaWxlRGF0YS5ieXRlTGVuZ3RoKSAqIDEwMCk7CiAgICAgIHBlcmNlbnQudGV4dENvbnRlbnQgPSBgJHtwZXJjZW50RG9uZX0lIGRvbmVgOwoKICAgIH0gd2hpbGUgKHBvc2l0aW9uIDwgZmlsZURhdGEuYnl0ZUxlbmd0aCk7CiAgfQoKICAvLyBBbGwgZG9uZS4KICB5aWVsZCB7CiAgICByZXNwb25zZTogewogICAgICBhY3Rpb246ICdjb21wbGV0ZScsCiAgICB9CiAgfTsKfQoKc2NvcGUuZ29vZ2xlID0gc2NvcGUuZ29vZ2xlIHx8IHt9OwpzY29wZS5nb29nbGUuY29sYWIgPSBzY29wZS5nb29nbGUuY29sYWIgfHwge307CnNjb3BlLmdvb2dsZS5jb2xhYi5fZmlsZXMgPSB7CiAgX3VwbG9hZEZpbGVzLAogIF91cGxvYWRGaWxlc0NvbnRpbnVlLAp9Owp9KShzZWxmKTsK",
              "ok": true,
              "headers": [
                [
                  "content-type",
                  "application/javascript"
                ]
              ],
              "status": 200,
              "status_text": ""
            }
          },
          "base_uri": "https://localhost:8080/",
          "height": 73
        },
        "outputId": "33eedef6-3952-4ba1-aa8a-821da4a43a8e"
      },
      "execution_count": 97,
      "outputs": [
        {
          "output_type": "display_data",
          "data": {
            "text/html": [
              "\n",
              "     <input type=\"file\" id=\"files-43967d5a-7b16-47ff-8f98-c21a999c61c6\" name=\"files[]\" multiple disabled\n",
              "        style=\"border:none\" />\n",
              "     <output id=\"result-43967d5a-7b16-47ff-8f98-c21a999c61c6\">\n",
              "      Upload widget is only available when the cell has been executed in the\n",
              "      current browser session. Please rerun this cell to enable.\n",
              "      </output>\n",
              "      <script src=\"/nbextensions/google.colab/files.js\"></script> "
            ],
            "text/plain": [
              "<IPython.core.display.HTML object>"
            ]
          },
          "metadata": {}
        },
        {
          "output_type": "stream",
          "name": "stdout",
          "text": [
            "Saving mushrooms.csv to mushrooms.csv\n"
          ]
        }
      ]
    },
    {
      "cell_type": "code",
      "source": [
        "cd /content"
      ],
      "metadata": {
        "id": "zta-40z3NSUo",
        "colab": {
          "base_uri": "https://localhost:8080/"
        },
        "outputId": "5523d49a-d7c5-443e-d907-b105b736454b"
      },
      "execution_count": 98,
      "outputs": [
        {
          "output_type": "stream",
          "name": "stdout",
          "text": [
            "/content\n"
          ]
        }
      ]
    },
    {
      "cell_type": "markdown",
      "source": [
        "In the case where you need to load many fields, but you still want to optimize on memory consumption, you can do the following:\n",
        "- Compress the categorical (usually a string) fields with the `category` dtype\n",
        "- Compress the numerical fields with `int` or `float` dtypes but with smaller magnitude"
      ],
      "metadata": {
        "id": "UHlWgOc62BkS"
      }
    },
    {
      "cell_type": "code",
      "source": [
        "# https://www.kaggle.com/uciml/mushroom-classification\n",
        "FILEPATH_MUSHROOMS = \"data/mushrooms.csv\""
      ],
      "metadata": {
        "id": "kt4TkiXn9kL4"
      },
      "execution_count": 99,
      "outputs": []
    },
    {
      "cell_type": "code",
      "source": [
        "df_mushrooms = pd.read_csv(FILEPATH_MUSHROOMS)\n",
        "df_mushrooms.info(verbose=True, memory_usage=\"deep\")"
      ],
      "metadata": {
        "id": "ru_A5imy_Zn_",
        "colab": {
          "base_uri": "https://localhost:8080/"
        },
        "outputId": "c0f9aa57-d8c2-4c04-d338-055b03f88e52"
      },
      "execution_count": 100,
      "outputs": [
        {
          "output_type": "stream",
          "name": "stdout",
          "text": [
            "<class 'pandas.core.frame.DataFrame'>\n",
            "RangeIndex: 8124 entries, 0 to 8123\n",
            "Data columns (total 23 columns):\n",
            " #   Column                    Non-Null Count  Dtype \n",
            "---  ------                    --------------  ----- \n",
            " 0   class                     8124 non-null   object\n",
            " 1   cap-shape                 8124 non-null   object\n",
            " 2   cap-surface               8124 non-null   object\n",
            " 3   cap-color                 8124 non-null   object\n",
            " 4   bruises                   8124 non-null   object\n",
            " 5   odor                      8124 non-null   object\n",
            " 6   gill-attachment           8124 non-null   object\n",
            " 7   gill-spacing              8124 non-null   object\n",
            " 8   gill-size                 8124 non-null   object\n",
            " 9   gill-color                8124 non-null   object\n",
            " 10  stalk-shape               8124 non-null   object\n",
            " 11  stalk-root                8124 non-null   object\n",
            " 12  stalk-surface-above-ring  8124 non-null   object\n",
            " 13  stalk-surface-below-ring  8124 non-null   object\n",
            " 14  stalk-color-above-ring    8124 non-null   object\n",
            " 15  stalk-color-below-ring    8124 non-null   object\n",
            " 16  veil-type                 8124 non-null   object\n",
            " 17  veil-color                8124 non-null   object\n",
            " 18  ring-number               8124 non-null   object\n",
            " 19  ring-type                 8124 non-null   object\n",
            " 20  spore-print-color         8124 non-null   object\n",
            " 21  population                8124 non-null   object\n",
            " 22  habitat                   8124 non-null   object\n",
            "dtypes: object(23)\n",
            "memory usage: 10.3 MB\n"
          ]
        }
      ]
    },
    {
      "cell_type": "markdown",
      "source": [
        "By default, when loading the data into pandas, without passing a schema, **pandas just \"guesses\" the dtype of the fields.**"
      ],
      "metadata": {
        "id": "qHUtfQjZPDH_"
      }
    },
    {
      "cell_type": "code",
      "source": [
        "df_mushrooms.head()"
      ],
      "metadata": {
        "id": "ohFFCLEo_d83",
        "colab": {
          "base_uri": "https://localhost:8080/",
          "height": 297
        },
        "outputId": "3411ba2f-1121-4966-b0ed-881fe7744c0c"
      },
      "execution_count": 101,
      "outputs": [
        {
          "output_type": "execute_result",
          "data": {
            "text/html": [
              "\n",
              "  <div id=\"df-de29f2ab-4dc3-4b24-b34b-5c6ca67c2c53\">\n",
              "    <div class=\"colab-df-container\">\n",
              "      <div>\n",
              "<style scoped>\n",
              "    .dataframe tbody tr th:only-of-type {\n",
              "        vertical-align: middle;\n",
              "    }\n",
              "\n",
              "    .dataframe tbody tr th {\n",
              "        vertical-align: top;\n",
              "    }\n",
              "\n",
              "    .dataframe thead th {\n",
              "        text-align: right;\n",
              "    }\n",
              "</style>\n",
              "<table border=\"1\" class=\"dataframe\">\n",
              "  <thead>\n",
              "    <tr style=\"text-align: right;\">\n",
              "      <th></th>\n",
              "      <th>class</th>\n",
              "      <th>cap-shape</th>\n",
              "      <th>cap-surface</th>\n",
              "      <th>cap-color</th>\n",
              "      <th>bruises</th>\n",
              "      <th>odor</th>\n",
              "      <th>gill-attachment</th>\n",
              "      <th>gill-spacing</th>\n",
              "      <th>gill-size</th>\n",
              "      <th>gill-color</th>\n",
              "      <th>...</th>\n",
              "      <th>stalk-surface-below-ring</th>\n",
              "      <th>stalk-color-above-ring</th>\n",
              "      <th>stalk-color-below-ring</th>\n",
              "      <th>veil-type</th>\n",
              "      <th>veil-color</th>\n",
              "      <th>ring-number</th>\n",
              "      <th>ring-type</th>\n",
              "      <th>spore-print-color</th>\n",
              "      <th>population</th>\n",
              "      <th>habitat</th>\n",
              "    </tr>\n",
              "  </thead>\n",
              "  <tbody>\n",
              "    <tr>\n",
              "      <th>0</th>\n",
              "      <td>p</td>\n",
              "      <td>x</td>\n",
              "      <td>s</td>\n",
              "      <td>n</td>\n",
              "      <td>t</td>\n",
              "      <td>p</td>\n",
              "      <td>f</td>\n",
              "      <td>c</td>\n",
              "      <td>n</td>\n",
              "      <td>k</td>\n",
              "      <td>...</td>\n",
              "      <td>s</td>\n",
              "      <td>w</td>\n",
              "      <td>w</td>\n",
              "      <td>p</td>\n",
              "      <td>w</td>\n",
              "      <td>o</td>\n",
              "      <td>p</td>\n",
              "      <td>k</td>\n",
              "      <td>s</td>\n",
              "      <td>u</td>\n",
              "    </tr>\n",
              "    <tr>\n",
              "      <th>1</th>\n",
              "      <td>e</td>\n",
              "      <td>x</td>\n",
              "      <td>s</td>\n",
              "      <td>y</td>\n",
              "      <td>t</td>\n",
              "      <td>a</td>\n",
              "      <td>f</td>\n",
              "      <td>c</td>\n",
              "      <td>b</td>\n",
              "      <td>k</td>\n",
              "      <td>...</td>\n",
              "      <td>s</td>\n",
              "      <td>w</td>\n",
              "      <td>w</td>\n",
              "      <td>p</td>\n",
              "      <td>w</td>\n",
              "      <td>o</td>\n",
              "      <td>p</td>\n",
              "      <td>n</td>\n",
              "      <td>n</td>\n",
              "      <td>g</td>\n",
              "    </tr>\n",
              "    <tr>\n",
              "      <th>2</th>\n",
              "      <td>e</td>\n",
              "      <td>b</td>\n",
              "      <td>s</td>\n",
              "      <td>w</td>\n",
              "      <td>t</td>\n",
              "      <td>l</td>\n",
              "      <td>f</td>\n",
              "      <td>c</td>\n",
              "      <td>b</td>\n",
              "      <td>n</td>\n",
              "      <td>...</td>\n",
              "      <td>s</td>\n",
              "      <td>w</td>\n",
              "      <td>w</td>\n",
              "      <td>p</td>\n",
              "      <td>w</td>\n",
              "      <td>o</td>\n",
              "      <td>p</td>\n",
              "      <td>n</td>\n",
              "      <td>n</td>\n",
              "      <td>m</td>\n",
              "    </tr>\n",
              "    <tr>\n",
              "      <th>3</th>\n",
              "      <td>p</td>\n",
              "      <td>x</td>\n",
              "      <td>y</td>\n",
              "      <td>w</td>\n",
              "      <td>t</td>\n",
              "      <td>p</td>\n",
              "      <td>f</td>\n",
              "      <td>c</td>\n",
              "      <td>n</td>\n",
              "      <td>n</td>\n",
              "      <td>...</td>\n",
              "      <td>s</td>\n",
              "      <td>w</td>\n",
              "      <td>w</td>\n",
              "      <td>p</td>\n",
              "      <td>w</td>\n",
              "      <td>o</td>\n",
              "      <td>p</td>\n",
              "      <td>k</td>\n",
              "      <td>s</td>\n",
              "      <td>u</td>\n",
              "    </tr>\n",
              "    <tr>\n",
              "      <th>4</th>\n",
              "      <td>e</td>\n",
              "      <td>x</td>\n",
              "      <td>s</td>\n",
              "      <td>g</td>\n",
              "      <td>f</td>\n",
              "      <td>n</td>\n",
              "      <td>f</td>\n",
              "      <td>w</td>\n",
              "      <td>b</td>\n",
              "      <td>k</td>\n",
              "      <td>...</td>\n",
              "      <td>s</td>\n",
              "      <td>w</td>\n",
              "      <td>w</td>\n",
              "      <td>p</td>\n",
              "      <td>w</td>\n",
              "      <td>o</td>\n",
              "      <td>e</td>\n",
              "      <td>n</td>\n",
              "      <td>a</td>\n",
              "      <td>g</td>\n",
              "    </tr>\n",
              "  </tbody>\n",
              "</table>\n",
              "<p>5 rows × 23 columns</p>\n",
              "</div>\n",
              "      <button class=\"colab-df-convert\" onclick=\"convertToInteractive('df-de29f2ab-4dc3-4b24-b34b-5c6ca67c2c53')\"\n",
              "              title=\"Convert this dataframe to an interactive table.\"\n",
              "              style=\"display:none;\">\n",
              "        \n",
              "  <svg xmlns=\"http://www.w3.org/2000/svg\" height=\"24px\"viewBox=\"0 0 24 24\"\n",
              "       width=\"24px\">\n",
              "    <path d=\"M0 0h24v24H0V0z\" fill=\"none\"/>\n",
              "    <path d=\"M18.56 5.44l.94 2.06.94-2.06 2.06-.94-2.06-.94-.94-2.06-.94 2.06-2.06.94zm-11 1L8.5 8.5l.94-2.06 2.06-.94-2.06-.94L8.5 2.5l-.94 2.06-2.06.94zm10 10l.94 2.06.94-2.06 2.06-.94-2.06-.94-.94-2.06-.94 2.06-2.06.94z\"/><path d=\"M17.41 7.96l-1.37-1.37c-.4-.4-.92-.59-1.43-.59-.52 0-1.04.2-1.43.59L10.3 9.45l-7.72 7.72c-.78.78-.78 2.05 0 2.83L4 21.41c.39.39.9.59 1.41.59.51 0 1.02-.2 1.41-.59l7.78-7.78 2.81-2.81c.8-.78.8-2.07 0-2.86zM5.41 20L4 18.59l7.72-7.72 1.47 1.35L5.41 20z\"/>\n",
              "  </svg>\n",
              "      </button>\n",
              "      \n",
              "  <style>\n",
              "    .colab-df-container {\n",
              "      display:flex;\n",
              "      flex-wrap:wrap;\n",
              "      gap: 12px;\n",
              "    }\n",
              "\n",
              "    .colab-df-convert {\n",
              "      background-color: #E8F0FE;\n",
              "      border: none;\n",
              "      border-radius: 50%;\n",
              "      cursor: pointer;\n",
              "      display: none;\n",
              "      fill: #1967D2;\n",
              "      height: 32px;\n",
              "      padding: 0 0 0 0;\n",
              "      width: 32px;\n",
              "    }\n",
              "\n",
              "    .colab-df-convert:hover {\n",
              "      background-color: #E2EBFA;\n",
              "      box-shadow: 0px 1px 2px rgba(60, 64, 67, 0.3), 0px 1px 3px 1px rgba(60, 64, 67, 0.15);\n",
              "      fill: #174EA6;\n",
              "    }\n",
              "\n",
              "    [theme=dark] .colab-df-convert {\n",
              "      background-color: #3B4455;\n",
              "      fill: #D2E3FC;\n",
              "    }\n",
              "\n",
              "    [theme=dark] .colab-df-convert:hover {\n",
              "      background-color: #434B5C;\n",
              "      box-shadow: 0px 1px 3px 1px rgba(0, 0, 0, 0.15);\n",
              "      filter: drop-shadow(0px 1px 2px rgba(0, 0, 0, 0.3));\n",
              "      fill: #FFFFFF;\n",
              "    }\n",
              "  </style>\n",
              "\n",
              "      <script>\n",
              "        const buttonEl =\n",
              "          document.querySelector('#df-de29f2ab-4dc3-4b24-b34b-5c6ca67c2c53 button.colab-df-convert');\n",
              "        buttonEl.style.display =\n",
              "          google.colab.kernel.accessAllowed ? 'block' : 'none';\n",
              "\n",
              "        async function convertToInteractive(key) {\n",
              "          const element = document.querySelector('#df-de29f2ab-4dc3-4b24-b34b-5c6ca67c2c53');\n",
              "          const dataTable =\n",
              "            await google.colab.kernel.invokeFunction('convertToInteractive',\n",
              "                                                     [key], {});\n",
              "          if (!dataTable) return;\n",
              "\n",
              "          const docLinkHtml = 'Like what you see? Visit the ' +\n",
              "            '<a target=\"_blank\" href=https://colab.research.google.com/notebooks/data_table.ipynb>data table notebook</a>'\n",
              "            + ' to learn more about interactive tables.';\n",
              "          element.innerHTML = '';\n",
              "          dataTable['output_type'] = 'display_data';\n",
              "          await google.colab.output.renderOutput(dataTable, element);\n",
              "          const docLink = document.createElement('div');\n",
              "          docLink.innerHTML = docLinkHtml;\n",
              "          element.appendChild(docLink);\n",
              "        }\n",
              "      </script>\n",
              "    </div>\n",
              "  </div>\n",
              "  "
            ],
            "text/plain": [
              "  class cap-shape cap-surface cap-color bruises odor gill-attachment  \\\n",
              "0     p         x           s         n       t    p               f   \n",
              "1     e         x           s         y       t    a               f   \n",
              "2     e         b           s         w       t    l               f   \n",
              "3     p         x           y         w       t    p               f   \n",
              "4     e         x           s         g       f    n               f   \n",
              "\n",
              "  gill-spacing gill-size gill-color  ... stalk-surface-below-ring  \\\n",
              "0            c         n          k  ...                        s   \n",
              "1            c         b          k  ...                        s   \n",
              "2            c         b          n  ...                        s   \n",
              "3            c         n          n  ...                        s   \n",
              "4            w         b          k  ...                        s   \n",
              "\n",
              "  stalk-color-above-ring stalk-color-below-ring veil-type veil-color  \\\n",
              "0                      w                      w         p          w   \n",
              "1                      w                      w         p          w   \n",
              "2                      w                      w         p          w   \n",
              "3                      w                      w         p          w   \n",
              "4                      w                      w         p          w   \n",
              "\n",
              "  ring-number ring-type spore-print-color population habitat  \n",
              "0           o         p                 k          s       u  \n",
              "1           o         p                 n          n       g  \n",
              "2           o         p                 n          n       m  \n",
              "3           o         p                 k          s       u  \n",
              "4           o         e                 n          a       g  \n",
              "\n",
              "[5 rows x 23 columns]"
            ]
          },
          "metadata": {},
          "execution_count": 101
        }
      ]
    },
    {
      "cell_type": "code",
      "source": [
        "df_mushrooms.nunique()"
      ],
      "metadata": {
        "id": "iBcr6Dv1NY7O",
        "colab": {
          "base_uri": "https://localhost:8080/"
        },
        "outputId": "8f499c36-7024-4083-ec53-b78bf3d24255"
      },
      "execution_count": 102,
      "outputs": [
        {
          "output_type": "execute_result",
          "data": {
            "text/plain": [
              "class                        2\n",
              "cap-shape                    6\n",
              "cap-surface                  4\n",
              "cap-color                   10\n",
              "bruises                      2\n",
              "odor                         9\n",
              "gill-attachment              2\n",
              "gill-spacing                 2\n",
              "gill-size                    2\n",
              "gill-color                  12\n",
              "stalk-shape                  2\n",
              "stalk-root                   5\n",
              "stalk-surface-above-ring     4\n",
              "stalk-surface-below-ring     4\n",
              "stalk-color-above-ring       9\n",
              "stalk-color-below-ring       9\n",
              "veil-type                    1\n",
              "veil-color                   4\n",
              "ring-number                  3\n",
              "ring-type                    5\n",
              "spore-print-color            9\n",
              "population                   6\n",
              "habitat                      7\n",
              "dtype: int64"
            ]
          },
          "metadata": {},
          "execution_count": 102
        }
      ]
    },
    {
      "cell_type": "markdown",
      "source": [
        "Upon inspection, we see that the columns can fit in the `category` dtype, let's try passing a schema when loading the data."
      ],
      "metadata": {
        "id": "Mw-FhCBiP4fr"
      }
    },
    {
      "cell_type": "code",
      "source": [
        "df_mushrooms = pd.read_csv(FILEPATH_MUSHROOMS, dtype=\"category\")\n",
        "df_mushrooms.info(verbose=True, memory_usage=\"deep\")"
      ],
      "metadata": {
        "id": "c4o-FfAvNQwQ",
        "colab": {
          "base_uri": "https://localhost:8080/"
        },
        "outputId": "40ce3e10-04de-40e2-88eb-253c0fdf7ea1"
      },
      "execution_count": 103,
      "outputs": [
        {
          "output_type": "stream",
          "name": "stdout",
          "text": [
            "<class 'pandas.core.frame.DataFrame'>\n",
            "RangeIndex: 8124 entries, 0 to 8123\n",
            "Data columns (total 23 columns):\n",
            " #   Column                    Non-Null Count  Dtype   \n",
            "---  ------                    --------------  -----   \n",
            " 0   class                     8124 non-null   category\n",
            " 1   cap-shape                 8124 non-null   category\n",
            " 2   cap-surface               8124 non-null   category\n",
            " 3   cap-color                 8124 non-null   category\n",
            " 4   bruises                   8124 non-null   category\n",
            " 5   odor                      8124 non-null   category\n",
            " 6   gill-attachment           8124 non-null   category\n",
            " 7   gill-spacing              8124 non-null   category\n",
            " 8   gill-size                 8124 non-null   category\n",
            " 9   gill-color                8124 non-null   category\n",
            " 10  stalk-shape               8124 non-null   category\n",
            " 11  stalk-root                8124 non-null   category\n",
            " 12  stalk-surface-above-ring  8124 non-null   category\n",
            " 13  stalk-surface-below-ring  8124 non-null   category\n",
            " 14  stalk-color-above-ring    8124 non-null   category\n",
            " 15  stalk-color-below-ring    8124 non-null   category\n",
            " 16  veil-type                 8124 non-null   category\n",
            " 17  veil-color                8124 non-null   category\n",
            " 18  ring-number               8124 non-null   category\n",
            " 19  ring-type                 8124 non-null   category\n",
            " 20  spore-print-color         8124 non-null   category\n",
            " 21  population                8124 non-null   category\n",
            " 22  habitat                   8124 non-null   category\n",
            "dtypes: category(23)\n",
            "memory usage: 193.3 KB\n"
          ]
        }
      ]
    },
    {
      "cell_type": "code",
      "source": [
        "10.3e6 / 193.3e3 "
      ],
      "metadata": {
        "id": "l3O3NIf1Rtrt",
        "colab": {
          "base_uri": "https://localhost:8080/"
        },
        "outputId": "180e8785-8782-43a6-d348-c2c62c000418"
      },
      "execution_count": 104,
      "outputs": [
        {
          "output_type": "execute_result",
          "data": {
            "text/plain": [
              "53.28504914640455"
            ]
          },
          "metadata": {},
          "execution_count": 104
        }
      ]
    },
    {
      "cell_type": "markdown",
      "source": [
        "Hooray! We've been able to shrink the memory usage down to **~50x times** just by changing the original object/string dtype to `category`"
      ],
      "metadata": {
        "id": "IeytPcSxNXxi"
      }
    },
    {
      "cell_type": "code",
      "source": [
        "mkdir data"
      ],
      "metadata": {
        "id": "LaBJJ4aiSewl",
        "colab": {
          "base_uri": "https://localhost:8080/"
        },
        "outputId": "058b00b1-8f3a-433d-9a76-11509f0b96ce"
      },
      "execution_count": 105,
      "outputs": [
        {
          "output_type": "stream",
          "name": "stdout",
          "text": [
            "mkdir: cannot create directory ‘data’: File exists\n"
          ]
        }
      ]
    },
    {
      "cell_type": "code",
      "source": [
        "cd data"
      ],
      "metadata": {
        "id": "yIVDr08yUJ3U",
        "colab": {
          "base_uri": "https://localhost:8080/"
        },
        "outputId": "8778573e-90b8-4b39-8d4f-2d0fd30dd1af"
      },
      "execution_count": 106,
      "outputs": [
        {
          "output_type": "stream",
          "name": "stdout",
          "text": [
            "/content/data\n"
          ]
        }
      ]
    },
    {
      "cell_type": "code",
      "source": [
        "from google.colab import files\n",
        "files.upload();"
      ],
      "metadata": {
        "id": "lxZcNeOLUMh3",
        "colab": {
          "resources": {
            "http://localhost:8080/nbextensions/google.colab/files.js": {
              "data": "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",
              "ok": true,
              "headers": [
                [
                  "content-type",
                  "application/javascript"
                ]
              ],
              "status": 200,
              "status_text": ""
            }
          },
          "base_uri": "https://localhost:8080/",
          "height": 73
        },
        "outputId": "f44150bd-e8c3-459c-c9ad-e2760da7a67a"
      },
      "execution_count": 107,
      "outputs": [
        {
          "output_type": "display_data",
          "data": {
            "text/html": [
              "\n",
              "     <input type=\"file\" id=\"files-ce396e96-bec6-4d86-8c3d-4fb7fc6c8d52\" name=\"files[]\" multiple disabled\n",
              "        style=\"border:none\" />\n",
              "     <output id=\"result-ce396e96-bec6-4d86-8c3d-4fb7fc6c8d52\">\n",
              "      Upload widget is only available when the cell has been executed in the\n",
              "      current browser session. Please rerun this cell to enable.\n",
              "      </output>\n",
              "      <script src=\"/nbextensions/google.colab/files.js\"></script> "
            ],
            "text/plain": [
              "<IPython.core.display.HTML object>"
            ]
          },
          "metadata": {}
        },
        {
          "output_type": "stream",
          "name": "stdout",
          "text": [
            "Saving mobile_price.csv to mobile_price.csv\n"
          ]
        }
      ]
    },
    {
      "cell_type": "code",
      "source": [
        "cd /content"
      ],
      "metadata": {
        "id": "chNd5BKtRyHg",
        "colab": {
          "base_uri": "https://localhost:8080/"
        },
        "outputId": "bf261717-e328-4306-ff2f-0aa9d5ab4ed0"
      },
      "execution_count": 108,
      "outputs": [
        {
          "output_type": "stream",
          "name": "stdout",
          "text": [
            "/content\n"
          ]
        }
      ]
    },
    {
      "cell_type": "code",
      "source": [
        "# https://www.kaggle.com/iabhishekofficial/mobile-price-classification\n",
        "FILEPATH_MOBILE_PRICE = \"data/mobile_price.csv\""
      ],
      "metadata": {
        "id": "mCcB09H5Wf3z"
      },
      "execution_count": 109,
      "outputs": []
    },
    {
      "cell_type": "code",
      "source": [
        "df_mobile_price = pd.read_csv(FILEPATH_MOBILE_PRICE)\n",
        "df_mobile_price.info(verbose=True, memory_usage=\"deep\")"
      ],
      "metadata": {
        "id": "tk-MsiqTWfmR",
        "colab": {
          "base_uri": "https://localhost:8080/"
        },
        "outputId": "eb9ee774-cd00-4dad-e91f-c5237e5370f4"
      },
      "execution_count": 110,
      "outputs": [
        {
          "output_type": "stream",
          "name": "stdout",
          "text": [
            "<class 'pandas.core.frame.DataFrame'>\n",
            "RangeIndex: 3000 entries, 0 to 2999\n",
            "Data columns (total 20 columns):\n",
            " #   Column         Non-Null Count  Dtype  \n",
            "---  ------         --------------  -----  \n",
            " 0   battery_power  3000 non-null   int64  \n",
            " 1   blue           3000 non-null   int64  \n",
            " 2   clock_speed    3000 non-null   float64\n",
            " 3   dual_sim       3000 non-null   int64  \n",
            " 4   fc             3000 non-null   int64  \n",
            " 5   four_g         3000 non-null   int64  \n",
            " 6   int_memory     3000 non-null   int64  \n",
            " 7   m_dep          3000 non-null   float64\n",
            " 8   mobile_wt      3000 non-null   int64  \n",
            " 9   n_cores        3000 non-null   int64  \n",
            " 10  pc             3000 non-null   int64  \n",
            " 11  px_height      3000 non-null   int64  \n",
            " 12  px_width       3000 non-null   int64  \n",
            " 13  ram            3000 non-null   int64  \n",
            " 14  sc_h           3000 non-null   int64  \n",
            " 15  sc_w           3000 non-null   int64  \n",
            " 16  talk_time      3000 non-null   int64  \n",
            " 17  three_g        3000 non-null   int64  \n",
            " 18  touch_screen   3000 non-null   int64  \n",
            " 19  wifi           3000 non-null   int64  \n",
            "dtypes: float64(2), int64(18)\n",
            "memory usage: 468.9 KB\n"
          ]
        }
      ]
    },
    {
      "cell_type": "code",
      "source": [
        "df_mobile_price.head()"
      ],
      "metadata": {
        "id": "t_GcNI9yWyvE",
        "colab": {
          "base_uri": "https://localhost:8080/",
          "height": 206
        },
        "outputId": "9dda4210-afc4-45c3-9209-f7c22fcb526a"
      },
      "execution_count": 111,
      "outputs": [
        {
          "output_type": "execute_result",
          "data": {
            "text/html": [
              "\n",
              "  <div id=\"df-8200fb26-843f-41c4-b352-5801fc0295ed\">\n",
              "    <div class=\"colab-df-container\">\n",
              "      <div>\n",
              "<style scoped>\n",
              "    .dataframe tbody tr th:only-of-type {\n",
              "        vertical-align: middle;\n",
              "    }\n",
              "\n",
              "    .dataframe tbody tr th {\n",
              "        vertical-align: top;\n",
              "    }\n",
              "\n",
              "    .dataframe thead th {\n",
              "        text-align: right;\n",
              "    }\n",
              "</style>\n",
              "<table border=\"1\" class=\"dataframe\">\n",
              "  <thead>\n",
              "    <tr style=\"text-align: right;\">\n",
              "      <th></th>\n",
              "      <th>battery_power</th>\n",
              "      <th>blue</th>\n",
              "      <th>clock_speed</th>\n",
              "      <th>dual_sim</th>\n",
              "      <th>fc</th>\n",
              "      <th>four_g</th>\n",
              "      <th>int_memory</th>\n",
              "      <th>m_dep</th>\n",
              "      <th>mobile_wt</th>\n",
              "      <th>n_cores</th>\n",
              "      <th>pc</th>\n",
              "      <th>px_height</th>\n",
              "      <th>px_width</th>\n",
              "      <th>ram</th>\n",
              "      <th>sc_h</th>\n",
              "      <th>sc_w</th>\n",
              "      <th>talk_time</th>\n",
              "      <th>three_g</th>\n",
              "      <th>touch_screen</th>\n",
              "      <th>wifi</th>\n",
              "    </tr>\n",
              "  </thead>\n",
              "  <tbody>\n",
              "    <tr>\n",
              "      <th>0</th>\n",
              "      <td>842</td>\n",
              "      <td>0</td>\n",
              "      <td>2.2</td>\n",
              "      <td>0</td>\n",
              "      <td>1</td>\n",
              "      <td>0</td>\n",
              "      <td>7</td>\n",
              "      <td>0.6</td>\n",
              "      <td>188</td>\n",
              "      <td>2</td>\n",
              "      <td>2</td>\n",
              "      <td>20</td>\n",
              "      <td>756</td>\n",
              "      <td>2549</td>\n",
              "      <td>9</td>\n",
              "      <td>7</td>\n",
              "      <td>19</td>\n",
              "      <td>0</td>\n",
              "      <td>0</td>\n",
              "      <td>1</td>\n",
              "    </tr>\n",
              "    <tr>\n",
              "      <th>1</th>\n",
              "      <td>1021</td>\n",
              "      <td>1</td>\n",
              "      <td>0.5</td>\n",
              "      <td>1</td>\n",
              "      <td>0</td>\n",
              "      <td>1</td>\n",
              "      <td>53</td>\n",
              "      <td>0.7</td>\n",
              "      <td>136</td>\n",
              "      <td>3</td>\n",
              "      <td>6</td>\n",
              "      <td>905</td>\n",
              "      <td>1988</td>\n",
              "      <td>2631</td>\n",
              "      <td>17</td>\n",
              "      <td>3</td>\n",
              "      <td>7</td>\n",
              "      <td>1</td>\n",
              "      <td>1</td>\n",
              "      <td>0</td>\n",
              "    </tr>\n",
              "    <tr>\n",
              "      <th>2</th>\n",
              "      <td>563</td>\n",
              "      <td>1</td>\n",
              "      <td>0.5</td>\n",
              "      <td>1</td>\n",
              "      <td>2</td>\n",
              "      <td>1</td>\n",
              "      <td>41</td>\n",
              "      <td>0.9</td>\n",
              "      <td>145</td>\n",
              "      <td>5</td>\n",
              "      <td>6</td>\n",
              "      <td>1263</td>\n",
              "      <td>1716</td>\n",
              "      <td>2603</td>\n",
              "      <td>11</td>\n",
              "      <td>2</td>\n",
              "      <td>9</td>\n",
              "      <td>1</td>\n",
              "      <td>1</td>\n",
              "      <td>0</td>\n",
              "    </tr>\n",
              "    <tr>\n",
              "      <th>3</th>\n",
              "      <td>615</td>\n",
              "      <td>1</td>\n",
              "      <td>2.5</td>\n",
              "      <td>0</td>\n",
              "      <td>0</td>\n",
              "      <td>0</td>\n",
              "      <td>10</td>\n",
              "      <td>0.8</td>\n",
              "      <td>131</td>\n",
              "      <td>6</td>\n",
              "      <td>9</td>\n",
              "      <td>1216</td>\n",
              "      <td>1786</td>\n",
              "      <td>2769</td>\n",
              "      <td>16</td>\n",
              "      <td>8</td>\n",
              "      <td>11</td>\n",
              "      <td>1</td>\n",
              "      <td>0</td>\n",
              "      <td>0</td>\n",
              "    </tr>\n",
              "    <tr>\n",
              "      <th>4</th>\n",
              "      <td>1821</td>\n",
              "      <td>1</td>\n",
              "      <td>1.2</td>\n",
              "      <td>0</td>\n",
              "      <td>13</td>\n",
              "      <td>1</td>\n",
              "      <td>44</td>\n",
              "      <td>0.6</td>\n",
              "      <td>141</td>\n",
              "      <td>2</td>\n",
              "      <td>14</td>\n",
              "      <td>1208</td>\n",
              "      <td>1212</td>\n",
              "      <td>1411</td>\n",
              "      <td>8</td>\n",
              "      <td>2</td>\n",
              "      <td>15</td>\n",
              "      <td>1</td>\n",
              "      <td>1</td>\n",
              "      <td>0</td>\n",
              "    </tr>\n",
              "  </tbody>\n",
              "</table>\n",
              "</div>\n",
              "      <button class=\"colab-df-convert\" onclick=\"convertToInteractive('df-8200fb26-843f-41c4-b352-5801fc0295ed')\"\n",
              "              title=\"Convert this dataframe to an interactive table.\"\n",
              "              style=\"display:none;\">\n",
              "        \n",
              "  <svg xmlns=\"http://www.w3.org/2000/svg\" height=\"24px\"viewBox=\"0 0 24 24\"\n",
              "       width=\"24px\">\n",
              "    <path d=\"M0 0h24v24H0V0z\" fill=\"none\"/>\n",
              "    <path d=\"M18.56 5.44l.94 2.06.94-2.06 2.06-.94-2.06-.94-.94-2.06-.94 2.06-2.06.94zm-11 1L8.5 8.5l.94-2.06 2.06-.94-2.06-.94L8.5 2.5l-.94 2.06-2.06.94zm10 10l.94 2.06.94-2.06 2.06-.94-2.06-.94-.94-2.06-.94 2.06-2.06.94z\"/><path d=\"M17.41 7.96l-1.37-1.37c-.4-.4-.92-.59-1.43-.59-.52 0-1.04.2-1.43.59L10.3 9.45l-7.72 7.72c-.78.78-.78 2.05 0 2.83L4 21.41c.39.39.9.59 1.41.59.51 0 1.02-.2 1.41-.59l7.78-7.78 2.81-2.81c.8-.78.8-2.07 0-2.86zM5.41 20L4 18.59l7.72-7.72 1.47 1.35L5.41 20z\"/>\n",
              "  </svg>\n",
              "      </button>\n",
              "      \n",
              "  <style>\n",
              "    .colab-df-container {\n",
              "      display:flex;\n",
              "      flex-wrap:wrap;\n",
              "      gap: 12px;\n",
              "    }\n",
              "\n",
              "    .colab-df-convert {\n",
              "      background-color: #E8F0FE;\n",
              "      border: none;\n",
              "      border-radius: 50%;\n",
              "      cursor: pointer;\n",
              "      display: none;\n",
              "      fill: #1967D2;\n",
              "      height: 32px;\n",
              "      padding: 0 0 0 0;\n",
              "      width: 32px;\n",
              "    }\n",
              "\n",
              "    .colab-df-convert:hover {\n",
              "      background-color: #E2EBFA;\n",
              "      box-shadow: 0px 1px 2px rgba(60, 64, 67, 0.3), 0px 1px 3px 1px rgba(60, 64, 67, 0.15);\n",
              "      fill: #174EA6;\n",
              "    }\n",
              "\n",
              "    [theme=dark] .colab-df-convert {\n",
              "      background-color: #3B4455;\n",
              "      fill: #D2E3FC;\n",
              "    }\n",
              "\n",
              "    [theme=dark] .colab-df-convert:hover {\n",
              "      background-color: #434B5C;\n",
              "      box-shadow: 0px 1px 3px 1px rgba(0, 0, 0, 0.15);\n",
              "      filter: drop-shadow(0px 1px 2px rgba(0, 0, 0, 0.3));\n",
              "      fill: #FFFFFF;\n",
              "    }\n",
              "  </style>\n",
              "\n",
              "      <script>\n",
              "        const buttonEl =\n",
              "          document.querySelector('#df-8200fb26-843f-41c4-b352-5801fc0295ed button.colab-df-convert');\n",
              "        buttonEl.style.display =\n",
              "          google.colab.kernel.accessAllowed ? 'block' : 'none';\n",
              "\n",
              "        async function convertToInteractive(key) {\n",
              "          const element = document.querySelector('#df-8200fb26-843f-41c4-b352-5801fc0295ed');\n",
              "          const dataTable =\n",
              "            await google.colab.kernel.invokeFunction('convertToInteractive',\n",
              "                                                     [key], {});\n",
              "          if (!dataTable) return;\n",
              "\n",
              "          const docLinkHtml = 'Like what you see? Visit the ' +\n",
              "            '<a target=\"_blank\" href=https://colab.research.google.com/notebooks/data_table.ipynb>data table notebook</a>'\n",
              "            + ' to learn more about interactive tables.';\n",
              "          element.innerHTML = '';\n",
              "          dataTable['output_type'] = 'display_data';\n",
              "          await google.colab.output.renderOutput(dataTable, element);\n",
              "          const docLink = document.createElement('div');\n",
              "          docLink.innerHTML = docLinkHtml;\n",
              "          element.appendChild(docLink);\n",
              "        }\n",
              "      </script>\n",
              "    </div>\n",
              "  </div>\n",
              "  "
            ],
            "text/plain": [
              "   battery_power  blue  clock_speed  dual_sim  fc  four_g  int_memory  m_dep  \\\n",
              "0            842     0          2.2         0   1       0           7    0.6   \n",
              "1           1021     1          0.5         1   0       1          53    0.7   \n",
              "2            563     1          0.5         1   2       1          41    0.9   \n",
              "3            615     1          2.5         0   0       0          10    0.8   \n",
              "4           1821     1          1.2         0  13       1          44    0.6   \n",
              "\n",
              "   mobile_wt  n_cores  pc  px_height  px_width   ram  sc_h  sc_w  talk_time  \\\n",
              "0        188        2   2         20       756  2549     9     7         19   \n",
              "1        136        3   6        905      1988  2631    17     3          7   \n",
              "2        145        5   6       1263      1716  2603    11     2          9   \n",
              "3        131        6   9       1216      1786  2769    16     8         11   \n",
              "4        141        2  14       1208      1212  1411     8     2         15   \n",
              "\n",
              "   three_g  touch_screen  wifi  \n",
              "0        0             0     1  \n",
              "1        1             1     0  \n",
              "2        1             1     0  \n",
              "3        1             0     0  \n",
              "4        1             1     0  "
            ]
          },
          "metadata": {},
          "execution_count": 111
        }
      ]
    },
    {
      "cell_type": "code",
      "source": [
        "df_mobile_price.nunique()"
      ],
      "metadata": {
        "id": "tezyKLqZXFQk",
        "colab": {
          "base_uri": "https://localhost:8080/"
        },
        "outputId": "26232bee-0260-4f13-deef-a47ce8b20fee"
      },
      "execution_count": 112,
      "outputs": [
        {
          "output_type": "execute_result",
          "data": {
            "text/plain": [
              "battery_power    1275\n",
              "blue                2\n",
              "clock_speed        26\n",
              "dual_sim            2\n",
              "fc                 20\n",
              "four_g              2\n",
              "int_memory         63\n",
              "m_dep              10\n",
              "mobile_wt         121\n",
              "n_cores             8\n",
              "pc                 21\n",
              "px_height        1333\n",
              "px_width         1313\n",
              "ram              2070\n",
              "sc_h               15\n",
              "sc_w               19\n",
              "talk_time          19\n",
              "three_g             2\n",
              "touch_screen        2\n",
              "wifi                2\n",
              "dtype: int64"
            ]
          },
          "metadata": {},
          "execution_count": 112
        }
      ]
    },
    {
      "cell_type": "code",
      "source": [
        "df_mobile_price.describe().loc[[\"min\", \"max\"]]"
      ],
      "metadata": {
        "id": "cKz6ujN0W3QX",
        "colab": {
          "base_uri": "https://localhost:8080/",
          "height": 112
        },
        "outputId": "1c51d658-93d9-46f1-aaa8-19b37bb6c3b7"
      },
      "execution_count": 113,
      "outputs": [
        {
          "output_type": "execute_result",
          "data": {
            "text/html": [
              "\n",
              "  <div id=\"df-e77121f9-8a50-4c53-acad-085e52002fe4\">\n",
              "    <div class=\"colab-df-container\">\n",
              "      <div>\n",
              "<style scoped>\n",
              "    .dataframe tbody tr th:only-of-type {\n",
              "        vertical-align: middle;\n",
              "    }\n",
              "\n",
              "    .dataframe tbody tr th {\n",
              "        vertical-align: top;\n",
              "    }\n",
              "\n",
              "    .dataframe thead th {\n",
              "        text-align: right;\n",
              "    }\n",
              "</style>\n",
              "<table border=\"1\" class=\"dataframe\">\n",
              "  <thead>\n",
              "    <tr style=\"text-align: right;\">\n",
              "      <th></th>\n",
              "      <th>battery_power</th>\n",
              "      <th>blue</th>\n",
              "      <th>clock_speed</th>\n",
              "      <th>dual_sim</th>\n",
              "      <th>fc</th>\n",
              "      <th>four_g</th>\n",
              "      <th>int_memory</th>\n",
              "      <th>m_dep</th>\n",
              "      <th>mobile_wt</th>\n",
              "      <th>n_cores</th>\n",
              "      <th>pc</th>\n",
              "      <th>px_height</th>\n",
              "      <th>px_width</th>\n",
              "      <th>ram</th>\n",
              "      <th>sc_h</th>\n",
              "      <th>sc_w</th>\n",
              "      <th>talk_time</th>\n",
              "      <th>three_g</th>\n",
              "      <th>touch_screen</th>\n",
              "      <th>wifi</th>\n",
              "    </tr>\n",
              "  </thead>\n",
              "  <tbody>\n",
              "    <tr>\n",
              "      <th>min</th>\n",
              "      <td>500.0</td>\n",
              "      <td>0.0</td>\n",
              "      <td>0.5</td>\n",
              "      <td>0.0</td>\n",
              "      <td>0.0</td>\n",
              "      <td>0.0</td>\n",
              "      <td>2.0</td>\n",
              "      <td>0.1</td>\n",
              "      <td>80.0</td>\n",
              "      <td>1.0</td>\n",
              "      <td>0.0</td>\n",
              "      <td>0.0</td>\n",
              "      <td>500.0</td>\n",
              "      <td>256.0</td>\n",
              "      <td>5.0</td>\n",
              "      <td>0.0</td>\n",
              "      <td>2.0</td>\n",
              "      <td>0.0</td>\n",
              "      <td>0.0</td>\n",
              "      <td>0.0</td>\n",
              "    </tr>\n",
              "    <tr>\n",
              "      <th>max</th>\n",
              "      <td>1999.0</td>\n",
              "      <td>1.0</td>\n",
              "      <td>3.0</td>\n",
              "      <td>1.0</td>\n",
              "      <td>19.0</td>\n",
              "      <td>1.0</td>\n",
              "      <td>64.0</td>\n",
              "      <td>1.0</td>\n",
              "      <td>200.0</td>\n",
              "      <td>8.0</td>\n",
              "      <td>20.0</td>\n",
              "      <td>1960.0</td>\n",
              "      <td>1998.0</td>\n",
              "      <td>3998.0</td>\n",
              "      <td>19.0</td>\n",
              "      <td>18.0</td>\n",
              "      <td>20.0</td>\n",
              "      <td>1.0</td>\n",
              "      <td>1.0</td>\n",
              "      <td>1.0</td>\n",
              "    </tr>\n",
              "  </tbody>\n",
              "</table>\n",
              "</div>\n",
              "      <button class=\"colab-df-convert\" onclick=\"convertToInteractive('df-e77121f9-8a50-4c53-acad-085e52002fe4')\"\n",
              "              title=\"Convert this dataframe to an interactive table.\"\n",
              "              style=\"display:none;\">\n",
              "        \n",
              "  <svg xmlns=\"http://www.w3.org/2000/svg\" height=\"24px\"viewBox=\"0 0 24 24\"\n",
              "       width=\"24px\">\n",
              "    <path d=\"M0 0h24v24H0V0z\" fill=\"none\"/>\n",
              "    <path d=\"M18.56 5.44l.94 2.06.94-2.06 2.06-.94-2.06-.94-.94-2.06-.94 2.06-2.06.94zm-11 1L8.5 8.5l.94-2.06 2.06-.94-2.06-.94L8.5 2.5l-.94 2.06-2.06.94zm10 10l.94 2.06.94-2.06 2.06-.94-2.06-.94-.94-2.06-.94 2.06-2.06.94z\"/><path d=\"M17.41 7.96l-1.37-1.37c-.4-.4-.92-.59-1.43-.59-.52 0-1.04.2-1.43.59L10.3 9.45l-7.72 7.72c-.78.78-.78 2.05 0 2.83L4 21.41c.39.39.9.59 1.41.59.51 0 1.02-.2 1.41-.59l7.78-7.78 2.81-2.81c.8-.78.8-2.07 0-2.86zM5.41 20L4 18.59l7.72-7.72 1.47 1.35L5.41 20z\"/>\n",
              "  </svg>\n",
              "      </button>\n",
              "      \n",
              "  <style>\n",
              "    .colab-df-container {\n",
              "      display:flex;\n",
              "      flex-wrap:wrap;\n",
              "      gap: 12px;\n",
              "    }\n",
              "\n",
              "    .colab-df-convert {\n",
              "      background-color: #E8F0FE;\n",
              "      border: none;\n",
              "      border-radius: 50%;\n",
              "      cursor: pointer;\n",
              "      display: none;\n",
              "      fill: #1967D2;\n",
              "      height: 32px;\n",
              "      padding: 0 0 0 0;\n",
              "      width: 32px;\n",
              "    }\n",
              "\n",
              "    .colab-df-convert:hover {\n",
              "      background-color: #E2EBFA;\n",
              "      box-shadow: 0px 1px 2px rgba(60, 64, 67, 0.3), 0px 1px 3px 1px rgba(60, 64, 67, 0.15);\n",
              "      fill: #174EA6;\n",
              "    }\n",
              "\n",
              "    [theme=dark] .colab-df-convert {\n",
              "      background-color: #3B4455;\n",
              "      fill: #D2E3FC;\n",
              "    }\n",
              "\n",
              "    [theme=dark] .colab-df-convert:hover {\n",
              "      background-color: #434B5C;\n",
              "      box-shadow: 0px 1px 3px 1px rgba(0, 0, 0, 0.15);\n",
              "      filter: drop-shadow(0px 1px 2px rgba(0, 0, 0, 0.3));\n",
              "      fill: #FFFFFF;\n",
              "    }\n",
              "  </style>\n",
              "\n",
              "      <script>\n",
              "        const buttonEl =\n",
              "          document.querySelector('#df-e77121f9-8a50-4c53-acad-085e52002fe4 button.colab-df-convert');\n",
              "        buttonEl.style.display =\n",
              "          google.colab.kernel.accessAllowed ? 'block' : 'none';\n",
              "\n",
              "        async function convertToInteractive(key) {\n",
              "          const element = document.querySelector('#df-e77121f9-8a50-4c53-acad-085e52002fe4');\n",
              "          const dataTable =\n",
              "            await google.colab.kernel.invokeFunction('convertToInteractive',\n",
              "                                                     [key], {});\n",
              "          if (!dataTable) return;\n",
              "\n",
              "          const docLinkHtml = 'Like what you see? Visit the ' +\n",
              "            '<a target=\"_blank\" href=https://colab.research.google.com/notebooks/data_table.ipynb>data table notebook</a>'\n",
              "            + ' to learn more about interactive tables.';\n",
              "          element.innerHTML = '';\n",
              "          dataTable['output_type'] = 'display_data';\n",
              "          await google.colab.output.renderOutput(dataTable, element);\n",
              "          const docLink = document.createElement('div');\n",
              "          docLink.innerHTML = docLinkHtml;\n",
              "          element.appendChild(docLink);\n",
              "        }\n",
              "      </script>\n",
              "    </div>\n",
              "  </div>\n",
              "  "
            ],
            "text/plain": [
              "     battery_power  blue  clock_speed  dual_sim    fc  four_g  int_memory  \\\n",
              "min          500.0   0.0          0.5       0.0   0.0     0.0         2.0   \n",
              "max         1999.0   1.0          3.0       1.0  19.0     1.0        64.0   \n",
              "\n",
              "     m_dep  mobile_wt  n_cores    pc  px_height  px_width     ram  sc_h  sc_w  \\\n",
              "min    0.1       80.0      1.0   0.0        0.0     500.0   256.0   5.0   0.0   \n",
              "max    1.0      200.0      8.0  20.0     1960.0    1998.0  3998.0  19.0  18.0   \n",
              "\n",
              "     talk_time  three_g  touch_screen  wifi  \n",
              "min        2.0      0.0           0.0   0.0  \n",
              "max       20.0      1.0           1.0   1.0  "
            ]
          },
          "metadata": {},
          "execution_count": 113
        }
      ]
    },
    {
      "cell_type": "code",
      "source": [
        "# just looking for floating points in the table\n",
        "\n",
        "def is_whole_number(n):\n",
        "    return n % 1 == 0\n",
        "\n",
        "df_mobile_price.apply(is_whole_number, axis=1).sum(axis=0) / len(df_mobile_price)"
      ],
      "metadata": {
        "id": "Ub2hEqG4YbHn",
        "colab": {
          "base_uri": "https://localhost:8080/"
        },
        "outputId": "e4e52f3a-843e-410f-dcd5-90bac30010a0"
      },
      "execution_count": 118,
      "outputs": [
        {
          "output_type": "execute_result",
          "data": {
            "text/plain": [
              "battery_power    1.000000\n",
              "blue             1.000000\n",
              "clock_speed      0.076000\n",
              "dual_sim         1.000000\n",
              "fc               1.000000\n",
              "four_g           1.000000\n",
              "int_memory       1.000000\n",
              "m_dep            0.051667\n",
              "mobile_wt        1.000000\n",
              "n_cores          1.000000\n",
              "pc               1.000000\n",
              "px_height        1.000000\n",
              "px_width         1.000000\n",
              "ram              1.000000\n",
              "sc_h             1.000000\n",
              "sc_w             1.000000\n",
              "talk_time        1.000000\n",
              "three_g          1.000000\n",
              "touch_screen     1.000000\n",
              "wifi             1.000000\n",
              "dtype: float64"
            ]
          },
          "metadata": {},
          "execution_count": 118
        }
      ]
    },
    {
      "cell_type": "markdown",
      "source": [
        "Let's recall some basic computing concepts:\n",
        "\n",
        "For integers\n",
        "- **int8** can store integers from -128 to 127.\n",
        "- **int16** can store integers from -32768 to 32767.\n",
        "- **int64** can store integers from -9223372036854775808 to 9223372036854775807."
      ],
      "metadata": {
        "id": "7ff4IIhNXkwF"
      }
    },
    {
      "cell_type": "code",
      "source": [
        "import numpy as np\n",
        "np.int8(\"129\")"
      ],
      "metadata": {
        "colab": {
          "base_uri": "https://localhost:8080/"
        },
        "id": "cdUF0P8-6uw5",
        "outputId": "dc8b7c60-5fd4-461e-a7cb-5cc16753f0bd"
      },
      "execution_count": 116,
      "outputs": [
        {
          "output_type": "execute_result",
          "data": {
            "text/plain": [
              "-127"
            ]
          },
          "metadata": {},
          "execution_count": 116
        }
      ]
    },
    {
      "cell_type": "code",
      "source": [
        "schema = {\n",
        "    \"battery_power\": \"int16\",\n",
        "    \"blue\": bool,\n",
        "    \"clock_speed\": \"float32\",\n",
        "    \"dual_sim\": bool,\n",
        "    \"fc\": \"int8\",\n",
        "    \"four_g\": bool,\n",
        "    \"int_memory\": \"int8\",\n",
        "    \"m_dep\": \"float32\",\n",
        "    \"mobile_wt\": \"int16\",\n",
        "    \"n_cores\": \"int8\",\n",
        "    \"pc\": \"int8\",\n",
        "    \"px_height\": \"int16\",\n",
        "    \"px_width\": \"int16\",\n",
        "    \"ram\": \"int16\",\n",
        "    \"sc_h\": \"int8\",\n",
        "    \"sc_w\": \"int8\",\n",
        "    \"talk_time\": \"int8\",\n",
        "    \"three_g\": bool,\n",
        "    \"touch_screen\": bool,\n",
        "    \"wifi\": bool\n",
        "}\n",
        "df_mobile_price = pd.read_csv(FILEPATH_MOBILE_PRICE, dtype=schema)\n",
        "df_mobile_price.info(verbose=True, memory_usage=\"deep\")"
      ],
      "metadata": {
        "id": "DN8DDVOlXtWQ",
        "colab": {
          "base_uri": "https://localhost:8080/"
        },
        "outputId": "ea838c19-9557-4164-c1b6-6967cf456cc2"
      },
      "execution_count": 114,
      "outputs": [
        {
          "output_type": "stream",
          "name": "stdout",
          "text": [
            "<class 'pandas.core.frame.DataFrame'>\n",
            "RangeIndex: 3000 entries, 0 to 2999\n",
            "Data columns (total 20 columns):\n",
            " #   Column         Non-Null Count  Dtype  \n",
            "---  ------         --------------  -----  \n",
            " 0   battery_power  3000 non-null   int16  \n",
            " 1   blue           3000 non-null   bool   \n",
            " 2   clock_speed    3000 non-null   float32\n",
            " 3   dual_sim       3000 non-null   bool   \n",
            " 4   fc             3000 non-null   int8   \n",
            " 5   four_g         3000 non-null   bool   \n",
            " 6   int_memory     3000 non-null   int8   \n",
            " 7   m_dep          3000 non-null   float32\n",
            " 8   mobile_wt      3000 non-null   int16  \n",
            " 9   n_cores        3000 non-null   int8   \n",
            " 10  pc             3000 non-null   int8   \n",
            " 11  px_height      3000 non-null   int16  \n",
            " 12  px_width       3000 non-null   int16  \n",
            " 13  ram            3000 non-null   int16  \n",
            " 14  sc_h           3000 non-null   int8   \n",
            " 15  sc_w           3000 non-null   int8   \n",
            " 16  talk_time      3000 non-null   int8   \n",
            " 17  three_g        3000 non-null   bool   \n",
            " 18  touch_screen   3000 non-null   bool   \n",
            " 19  wifi           3000 non-null   bool   \n",
            "dtypes: bool(6), float32(2), int16(5), int8(7)\n",
            "memory usage: 90.9 KB\n"
          ]
        }
      ]
    },
    {
      "cell_type": "code",
      "source": [
        "468.9e3 / 90.9e3 "
      ],
      "metadata": {
        "id": "wn2RfGgiXtQC",
        "colab": {
          "base_uri": "https://localhost:8080/"
        },
        "outputId": "ba82abef-af07-4b83-9f0e-d4f4be53280a"
      },
      "execution_count": 115,
      "outputs": [
        {
          "output_type": "execute_result",
          "data": {
            "text/plain": [
              "5.158415841584159"
            ]
          },
          "metadata": {},
          "execution_count": 115
        }
      ]
    },
    {
      "cell_type": "markdown",
      "source": [
        "Hooray! We've been able to shrink the memory usage down to **~5x times** just by changing the original `int64` and `float64` dtypes identified by pandas to smaller magnitude integer and float dtype counterparts (and boolean) categories accordingly."
      ],
      "metadata": {
        "id": "SFELU18za9eg"
      }
    },
    {
      "cell_type": "markdown",
      "source": [
        "Imagine this approach in an actual working dataset, you'll be surprised how efficient this technique can be in your own data science workflow, **not only it speeds up the subsequent processes, it also allows you to do more** since you have less usage of your compute resources. 😁"
      ],
      "metadata": {
        "id": "4HE0kyGSQItU"
      }
    },
    {
      "cell_type": "markdown",
      "source": [
        "**WHAT WE'VE COVERED**\n",
        "- How to leverage pandas `DataFrame`'s quirk of being a column-major data structure.\n",
        "    - Use `Series` to speed up calculations as compared to a row-based approach.\n",
        "    - Efficient chaining of operation by starting with the column slicing.\n",
        "- How to correctly address the notorious `SettingWithCopy` warning of pandas.\n",
        "    - Difference between a `Copy` and `View`.\n",
        "    - How to mitigate the SettingWithCopy warning using `.loc()`.\n",
        "- How to efficiently load a pandas dataframe into memory.\n",
        "    - Use only relevant columns for the problem.\n",
        "    - Make use of the category dtype in pandas for categorical data.\n",
        "    - Make use of lower magnitude floats and integers for the data.\n"
      ],
      "metadata": {
        "id": "W8aDs7S43KNd"
      }
    },
    {
      "cell_type": "markdown",
      "source": [
        "## What I expect from you after the session"
      ],
      "metadata": {
        "id": "DHErDZMTMnJ9"
      }
    },
    {
      "cell_type": "markdown",
      "source": [
        "Now that we've finished this session I expect you to 📚✍️👨‍🏫👩‍🏫👨‍🎓👩‍🎓"
      ],
      "metadata": {
        "id": "nUCLIgx8P_4k"
      }
    },
    {
      "cell_type": "markdown",
      "source": [
        "## QUIZ\n",
        "\n",
        "https://docs.google.com/forms/d/e/1FAIpQLSdPVkeKfi7ehcKpRCSQ8D8RMZAAVNqm8LeTZ8FH6NsobqHEwQ/viewform?usp=sf_link"
      ],
      "metadata": {
        "id": "ZLGNSrLKymV2"
      }
    },
    {
      "cell_type": "markdown",
      "source": [
        "## REFERENCES"
      ],
      "metadata": {
        "id": "kAED596LT_gz"
      }
    },
    {
      "cell_type": "markdown",
      "source": [
        "Here are some helpful references curated just for you!\n",
        "\n",
        "Docs\n",
        "- [Here is the PEP8 style guide in Python.](https://www.python.org/dev/peps/pep-0008/)\n",
        "- [Here is pendulum's official documentation.](https://pendulum.eustace.io/docs/)\n",
        "- [Here is pandas' official documentation.](https://pandas.pydata.org/docs/reference/index.html#api)\n",
        "- [Here is geopandas' official documentation.](https://geopandas.org/en/stable/docs.html)\n",
        "- [Here is pytest's official documentation.](https://docs.pytest.org/en/7.0.x/) \n",
        "- [Here is seaborn's official documentation.](https://seaborn.pydata.org/api.html)\n",
        "\n",
        "Books\n",
        "- [If you want to brush up on your python programming.](https://www.tomasbeuzen.com/python-programming-for-data-science/README.html)\n",
        "- [If you want to learn more about inferential thinking.](https://inferentialthinking.com/chapters/intro.html)\n",
        "- [If you want to learn more about geographic data science.](https://geographicdata.science/book/intro.html)\n",
        "\n",
        "Blogs\n",
        "- [If you want to learn more about test-driven development.](https://testdriven.io/blog/)"
      ],
      "metadata": {
        "id": "bfCfhNO5Ul6i"
      }
    }
  ]
}