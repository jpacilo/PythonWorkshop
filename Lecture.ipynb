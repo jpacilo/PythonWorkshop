{
  "nbformat": 4,
  "nbformat_minor": 0,
  "metadata": {
    "colab": {
      "name": "DSP Python Workshop 2022.ipynb",
      "provenance": [],
      "collapsed_sections": [
        "v3xpkyxixmHr"
      ],
      "authorship_tag": "ABX9TyMUqwRBUlazljG5YgYOcUKz",
      "include_colab_link": true
    },
    "kernelspec": {
      "name": "python3",
      "display_name": "Python 3"
    },
    "language_info": {
      "name": "python"
    }
  },
  "cells": [
    {
      "cell_type": "markdown",
      "metadata": {
        "id": "view-in-github",
        "colab_type": "text"
      },
      "source": [
        "<a href=\"https://colab.research.google.com/github/jpacilo/PythonWorkshop/blob/main/DSP%20Python%20Workshop%202022.ipynb\" target=\"_parent\"><img src=\"https://colab.research.google.com/assets/colab-badge.svg\" alt=\"Open In Colab\"/></a>"
      ]
    },
    {
      "cell_type": "markdown",
      "source": [
        "# **Better Practices** in Python For Data Science\n",
        "Author: Joshua Paolo Acilo <br>\n",
        "Date: March 4, 2022 <br>\n",
        "Time: 1:00 - 4:00 PM"
      ],
      "metadata": {
        "id": "1xYXxy9ytJnh"
      }
    },
    {
      "cell_type": "markdown",
      "source": [
        "## README\n",
        "\n",
        "**Schedule**\n",
        "- 1:00 - 2:30 PM Lecture\n",
        "- 2:40 - 4:00 PM Homework\n",
        "\n",
        "**Reminders**\n",
        "- Feel free to ask questions anytime! You can leave a message in the chatbox or unmute yourself and speak.\n",
        "- This is not an Introduction to Python. I expect everyone to at least know the basics in programming.\n",
        "- You learn more by doing. Try to adopt this new concepts in your workflow next time!\n",
        "\n"
      ],
      "metadata": {
        "id": "1NqsEYMbtQrI"
      }
    },
    {
      "cell_type": "markdown",
      "source": [
        "⚠️ Please make a copy of this colab notebook first by clicking *File -> Save a Copy in Drive* on the menu bar <br>"
      ],
      "metadata": {
        "id": "_AUN_6sYI7Cn"
      }
    },
    {
      "cell_type": "markdown",
      "source": [
        "## Setup Python"
      ],
      "metadata": {
        "id": "0IxIzDKQQebR"
      }
    },
    {
      "cell_type": "code",
      "source": [
        "# check the current python version you have\n",
        "import sys\n",
        "sys.version"
      ],
      "metadata": {
        "colab": {
          "base_uri": "https://localhost:8080/",
          "height": 36
        },
        "id": "7bSw9y6halM7",
        "outputId": "3305c0a3-7995-49d9-9ec9-ad3149c555ba"
      },
      "execution_count": 12,
      "outputs": [
        {
          "output_type": "execute_result",
          "data": {
            "application/vnd.google.colaboratory.intrinsic+json": {
              "type": "string"
            },
            "text/plain": [
              "'3.7.12 (default, Jan 15 2022, 18:48:18) \\n[GCC 7.5.0]'"
            ]
          },
          "metadata": {},
          "execution_count": 12
        }
      ]
    },
    {
      "cell_type": "code",
      "source": [
        "# pendulum is a library to manipulate dates\n",
        "!pip3 install pendulum"
      ],
      "metadata": {
        "colab": {
          "base_uri": "https://localhost:8080/"
        },
        "id": "9MttWE5QQhui",
        "outputId": "5ba42eaf-e0d2-4b56-db3b-8d801db8bfe2"
      },
      "execution_count": 6,
      "outputs": [
        {
          "output_type": "stream",
          "name": "stdout",
          "text": [
            "Collecting pendulum\n",
            "  Downloading pendulum-2.1.2-cp37-cp37m-manylinux1_x86_64.whl (155 kB)\n",
            "\u001b[?25l\r\u001b[K     |██▏                             | 10 kB 24.7 MB/s eta 0:00:01\r\u001b[K     |████▎                           | 20 kB 13.1 MB/s eta 0:00:01\r\u001b[K     |██████▍                         | 30 kB 9.7 MB/s eta 0:00:01\r\u001b[K     |████████▌                       | 40 kB 8.5 MB/s eta 0:00:01\r\u001b[K     |██████████▋                     | 51 kB 4.6 MB/s eta 0:00:01\r\u001b[K     |████████████▊                   | 61 kB 5.4 MB/s eta 0:00:01\r\u001b[K     |██████████████▉                 | 71 kB 6.0 MB/s eta 0:00:01\r\u001b[K     |█████████████████               | 81 kB 4.5 MB/s eta 0:00:01\r\u001b[K     |███████████████████             | 92 kB 5.0 MB/s eta 0:00:01\r\u001b[K     |█████████████████████▏          | 102 kB 5.5 MB/s eta 0:00:01\r\u001b[K     |███████████████████████▎        | 112 kB 5.5 MB/s eta 0:00:01\r\u001b[K     |█████████████████████████▍      | 122 kB 5.5 MB/s eta 0:00:01\r\u001b[K     |███████████████████████████▌    | 133 kB 5.5 MB/s eta 0:00:01\r\u001b[K     |█████████████████████████████▋  | 143 kB 5.5 MB/s eta 0:00:01\r\u001b[K     |███████████████████████████████▊| 153 kB 5.5 MB/s eta 0:00:01\r\u001b[K     |████████████████████████████████| 155 kB 5.5 MB/s \n",
            "\u001b[?25hRequirement already satisfied: python-dateutil<3.0,>=2.6 in /usr/local/lib/python3.7/dist-packages (from pendulum) (2.8.2)\n",
            "Collecting pytzdata>=2020.1\n",
            "  Downloading pytzdata-2020.1-py2.py3-none-any.whl (489 kB)\n",
            "\u001b[?25l\r\u001b[K     |▊                               | 10 kB 27.6 MB/s eta 0:00:01\r\u001b[K     |█▍                              | 20 kB 31.0 MB/s eta 0:00:01\r\u001b[K     |██                              | 30 kB 37.1 MB/s eta 0:00:01\r\u001b[K     |██▊                             | 40 kB 40.7 MB/s eta 0:00:01\r\u001b[K     |███▍                            | 51 kB 42.9 MB/s eta 0:00:01\r\u001b[K     |████                            | 61 kB 45.3 MB/s eta 0:00:01\r\u001b[K     |████▊                           | 71 kB 46.6 MB/s eta 0:00:01\r\u001b[K     |█████▍                          | 81 kB 44.3 MB/s eta 0:00:01\r\u001b[K     |██████                          | 92 kB 46.0 MB/s eta 0:00:01\r\u001b[K     |██████▊                         | 102 kB 47.4 MB/s eta 0:00:01\r\u001b[K     |███████▍                        | 112 kB 47.4 MB/s eta 0:00:01\r\u001b[K     |████████                        | 122 kB 47.4 MB/s eta 0:00:01\r\u001b[K     |████████▊                       | 133 kB 47.4 MB/s eta 0:00:01\r\u001b[K     |█████████▍                      | 143 kB 47.4 MB/s eta 0:00:01\r\u001b[K     |██████████                      | 153 kB 47.4 MB/s eta 0:00:01\r\u001b[K     |██████████▊                     | 163 kB 47.4 MB/s eta 0:00:01\r\u001b[K     |███████████▍                    | 174 kB 47.4 MB/s eta 0:00:01\r\u001b[K     |████████████                    | 184 kB 47.4 MB/s eta 0:00:01\r\u001b[K     |████████████▊                   | 194 kB 47.4 MB/s eta 0:00:01\r\u001b[K     |█████████████▍                  | 204 kB 47.4 MB/s eta 0:00:01\r\u001b[K     |██████████████                  | 215 kB 47.4 MB/s eta 0:00:01\r\u001b[K     |██████████████▊                 | 225 kB 47.4 MB/s eta 0:00:01\r\u001b[K     |███████████████▍                | 235 kB 47.4 MB/s eta 0:00:01\r\u001b[K     |████████████████                | 245 kB 47.4 MB/s eta 0:00:01\r\u001b[K     |████████████████▊               | 256 kB 47.4 MB/s eta 0:00:01\r\u001b[K     |█████████████████▍              | 266 kB 47.4 MB/s eta 0:00:01\r\u001b[K     |██████████████████              | 276 kB 47.4 MB/s eta 0:00:01\r\u001b[K     |██████████████████▊             | 286 kB 47.4 MB/s eta 0:00:01\r\u001b[K     |███████████████████▍            | 296 kB 47.4 MB/s eta 0:00:01\r\u001b[K     |████████████████████            | 307 kB 47.4 MB/s eta 0:00:01\r\u001b[K     |████████████████████▊           | 317 kB 47.4 MB/s eta 0:00:01\r\u001b[K     |█████████████████████▍          | 327 kB 47.4 MB/s eta 0:00:01\r\u001b[K     |██████████████████████          | 337 kB 47.4 MB/s eta 0:00:01\r\u001b[K     |██████████████████████▊         | 348 kB 47.4 MB/s eta 0:00:01\r\u001b[K     |███████████████████████▍        | 358 kB 47.4 MB/s eta 0:00:01\r\u001b[K     |████████████████████████        | 368 kB 47.4 MB/s eta 0:00:01\r\u001b[K     |████████████████████████▊       | 378 kB 47.4 MB/s eta 0:00:01\r\u001b[K     |█████████████████████████▍      | 389 kB 47.4 MB/s eta 0:00:01\r\u001b[K     |██████████████████████████      | 399 kB 47.4 MB/s eta 0:00:01\r\u001b[K     |██████████████████████████▊     | 409 kB 47.4 MB/s eta 0:00:01\r\u001b[K     |███████████████████████████▍    | 419 kB 47.4 MB/s eta 0:00:01\r\u001b[K     |████████████████████████████    | 430 kB 47.4 MB/s eta 0:00:01\r\u001b[K     |████████████████████████████▊   | 440 kB 47.4 MB/s eta 0:00:01\r\u001b[K     |█████████████████████████████▍  | 450 kB 47.4 MB/s eta 0:00:01\r\u001b[K     |██████████████████████████████  | 460 kB 47.4 MB/s eta 0:00:01\r\u001b[K     |██████████████████████████████▊ | 471 kB 47.4 MB/s eta 0:00:01\r\u001b[K     |███████████████████████████████▍| 481 kB 47.4 MB/s eta 0:00:01\r\u001b[K     |████████████████████████████████| 489 kB 47.4 MB/s \n",
            "\u001b[?25hRequirement already satisfied: six>=1.5 in /usr/local/lib/python3.7/dist-packages (from python-dateutil<3.0,>=2.6->pendulum) (1.15.0)\n",
            "Installing collected packages: pytzdata, pendulum\n",
            "Successfully installed pendulum-2.1.2 pytzdata-2020.1\n"
          ]
        }
      ]
    },
    {
      "cell_type": "markdown",
      "source": [
        "## Write Cleaner Code \n",
        "\n",
        "💡 Any fool can write code that a computer can understand. **Good programmers write code that humans can understand.** <br>"
      ],
      "metadata": {
        "id": "QtXwWm2Ju6mr"
      }
    },
    {
      "cell_type": "markdown",
      "source": [
        "### VARIABLES"
      ],
      "metadata": {
        "id": "GlY6YMYY-j9z"
      }
    },
    {
      "cell_type": "markdown",
      "source": [
        "**DON'T(s)**\n",
        "- Thou shall not start with a number. <br>\n",
        "```4ever = True```\n",
        "- Thou shall not use special characters. <br>\n",
        "```amountIn$ = 100```\n",
        "- Thou shall not use reserved keywords. <br>\n",
        "```id = 10012216```\n",
        "\n",
        "**DO(s)**\n",
        "- PEP8 suggests to use snake_case. <br>\n",
        "```lower_case_with_underscores = True```"
      ],
      "metadata": {
        "id": "zJnr4XvZkAfn"
      }
    },
    {
      "cell_type": "markdown",
      "source": [
        "Use **meaningful and pronounceable variable names.** Let the variable speak for itself."
      ],
      "metadata": {
        "id": "WyIo8VoTLYvX"
      }
    },
    {
      "cell_type": "code",
      "source": [
        "import pendulum\n",
        "\n",
        "def start_pipeline(date):\n",
        "    # do stuff\n",
        "    pass\n",
        "\n",
        "# this is bad, not only it is unpronounceable, it is also vague and non-descriptive\n",
        "ymddt = pendulum.now().strftime(\"%Y-%m-%d\")\n",
        "start_pipeline(ymddt)\n",
        "\n",
        "# this is good, it gives me clue that the current date controls the timing of the pipeline\n",
        "current_date = pendulum.now().strftime(\"%Y-%m-%d\")\n",
        "start_pipeline(current_date)"
      ],
      "metadata": {
        "id": "UgmX9QhIDQzR"
      },
      "execution_count": 15,
      "outputs": []
    },
    {
      "cell_type": "markdown",
      "source": [
        "Of course, there will be some exceptions, especially in **domain-specific jargons.**"
      ],
      "metadata": {
        "id": "kKBjcYAPDXXh"
      }
    },
    {
      "cell_type": "code",
      "source": [
        "import numpy as np\n",
        "\n",
        "# you'll see this very often in the lake\n",
        "pxn_dt = pendulum.parse(current_date).subtract(days=1)\n",
        "\n",
        "# this is boilerplate ML, so it's okay too\n",
        "X, y = np.arange(10).reshape((5, 2)), range(5)"
      ],
      "metadata": {
        "id": "TsuBSjgLDXQ6"
      },
      "execution_count": 5,
      "outputs": []
    },
    {
      "cell_type": "markdown",
      "source": [
        "It is a fact that *we will read more code than we will ever write.* It's important that **the code is readable and searchable.** Yes, we can proceed with the quick and dirty way and get the same result as compared to the slow and cleaner way, but in the long run this will hurt your readers. 😓"
      ],
      "metadata": {
        "id": "dkzK3fLKV-DH"
      }
    },
    {
      "cell_type": "code",
      "source": [
        "def aggregate_features(window_duration):\n",
        "    # do stuff\n",
        "    pass\n",
        "\n",
        "# i'm betting you'll forget this the next time you look at your code\n",
        "aggregate_features(1440)\n",
        "\n",
        "# we can assign a descriptive constant instead denoted by capital letters \n",
        "MINUTES_IN_A_DAY = 60 * 24\n",
        "aggregate_features(MINUTES_IN_A_DAY)"
      ],
      "metadata": {
        "id": "zfb7U7sHV9oQ"
      },
      "execution_count": 9,
      "outputs": []
    },
    {
      "cell_type": "markdown",
      "source": [
        "Don't force the reader of your code to translate what the variable means. **Explicit is better than implicit.**"
      ],
      "metadata": {
        "id": "kEQdf4fYbt43"
      }
    },
    {
      "cell_type": "code",
      "source": [
        "# this is bad, implicit\n",
        "seq = (\"Taguig\", \"Makati\", \"Mandaluyong\")\n",
        "for item in seq:\n",
        "    # do stuff\n",
        "    pass\n",
        "\n",
        "# this is good, explicit\n",
        "cities = (\"Taguig\", \"Makati\", \"Mandaluyong\")\n",
        "for city in cities:\n",
        "    # do stuff\n",
        "    pass"
      ],
      "metadata": {
        "id": "FssfMEUmV0q2"
      },
      "execution_count": 11,
      "outputs": []
    },
    {
      "cell_type": "markdown",
      "source": [
        "### FUNCTIONS"
      ],
      "metadata": {
        "id": "dZRo7IAV-y6f"
      }
    },
    {
      "cell_type": "markdown",
      "source": [
        "**Write a manual for your function using docstrings.** This will help not only you in the future, but also your collaborators."
      ],
      "metadata": {
        "id": "W-sDa_IQgOEq"
      }
    },
    {
      "cell_type": "code",
      "source": [
        "from math import radians, cos, sin, asin, sqrt\n",
        "\n",
        "# this is good, write docstrings as much as possible to future proof your work\n",
        "def get_haversine_distance(lon1, lat1, lon2, lat2, r=6371):\n",
        "    \"\"\"Calculate the great circle distance (in kilometers) between two points on the earth.\n",
        "\n",
        "    Args:\n",
        "        lon1 (float): Longitude of Point 1\n",
        "        lat1 (float): Latitude of Point 1\n",
        "        lon2 (float): Longitude of Point 2\n",
        "        lat2 (float): Latitude of Point 2\n",
        "        r (int, optional): Radius of earth in kilometers. Defaults to 6371.\n",
        "\n",
        "    Returns:\n",
        "        float: Haversine distance between the two given coordinates.\n",
        "    \"\"\"\n",
        "\n",
        "    # convert decimal degrees to radians \n",
        "    lon1, lat1, lon2, lat2 = map(radians, [lon1, lat1, lon2, lat2])\n",
        "\n",
        "    # haversine formula \n",
        "    dlon = lon2 - lon1 \n",
        "    dlat = lat2 - lat1 \n",
        "    a = sin(dlat/2)**2 + cos(lat1) * cos(lat2) * sin(dlon/2)**2\n",
        "    c = 2 * asin(sqrt(a)) \n",
        "    \n",
        "    return c * r"
      ],
      "metadata": {
        "id": "BJ9H4f9KgN8z"
      },
      "execution_count": null,
      "outputs": []
    },
    {
      "cell_type": "markdown",
      "source": [
        "Your Python **functions should accomplish one thing.** When functions do more than one thing, they are harder to compose, test, and reason about. When you can isolate a function to just one action, they can be refactored easily and your code will read much cleaner."
      ],
      "metadata": {
        "id": "zin0BN-ATZBu"
      }
    },
    {
      "cell_type": "code",
      "source": [
        "print(\"hello\")"
      ],
      "metadata": {
        "id": "Erx4ATTLa_Gw"
      },
      "execution_count": null,
      "outputs": []
    },
    {
      "cell_type": "markdown",
      "source": [
        "## Test Your Code\n",
        "🤔 Just because you've counted all the trees **doesn't mean you've seen the forest.**"
      ],
      "metadata": {
        "id": "v3xpkyxixmHr"
      }
    },
    {
      "cell_type": "code",
      "source": [
        ""
      ],
      "metadata": {
        "id": "EXsx9DB00AYW"
      },
      "execution_count": null,
      "outputs": []
    }
  ]
}
